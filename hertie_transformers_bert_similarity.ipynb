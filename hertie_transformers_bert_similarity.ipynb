{
  "nbformat": 4,
  "nbformat_minor": 0,
  "metadata": {
    "accelerator": "GPU",
    "colab": {
      "provenance": [],
      "include_colab_link": true
    },
    "kernelspec": {
      "display_name": "Python 3",
      "name": "python3"
    },
    "language_info": {
      "name": "python"
    },
    "widgets": {
      "application/vnd.jupyter.widget-state+json": {
        "4932f62029b34cd5b66ff39cdd1aa829": {
          "model_module": "@jupyter-widgets/controls",
          "model_name": "HBoxModel",
          "model_module_version": "1.5.0",
          "state": {
            "_dom_classes": [],
            "_model_module": "@jupyter-widgets/controls",
            "_model_module_version": "1.5.0",
            "_model_name": "HBoxModel",
            "_view_count": null,
            "_view_module": "@jupyter-widgets/controls",
            "_view_module_version": "1.5.0",
            "_view_name": "HBoxView",
            "box_style": "",
            "children": [
              "IPY_MODEL_e7689492763d4477ba9741e4c72049cc",
              "IPY_MODEL_8751348387374f638f7e4036441f3a36",
              "IPY_MODEL_ff4d129fca9444d7a2eb7f7a69d5ce0f"
            ],
            "layout": "IPY_MODEL_0a7e8c82523c437da24c41261a629de6"
          }
        },
        "e7689492763d4477ba9741e4c72049cc": {
          "model_module": "@jupyter-widgets/controls",
          "model_name": "HTMLModel",
          "model_module_version": "1.5.0",
          "state": {
            "_dom_classes": [],
            "_model_module": "@jupyter-widgets/controls",
            "_model_module_version": "1.5.0",
            "_model_name": "HTMLModel",
            "_view_count": null,
            "_view_module": "@jupyter-widgets/controls",
            "_view_module_version": "1.5.0",
            "_view_name": "HTMLView",
            "description": "",
            "description_tooltip": null,
            "layout": "IPY_MODEL_001ee5e024044413b66f048b152f41a5",
            "placeholder": "​",
            "style": "IPY_MODEL_7e1fb65fedf546aab8201266e04fb7b3",
            "value": "Downloading: 100%"
          }
        },
        "8751348387374f638f7e4036441f3a36": {
          "model_module": "@jupyter-widgets/controls",
          "model_name": "FloatProgressModel",
          "model_module_version": "1.5.0",
          "state": {
            "_dom_classes": [],
            "_model_module": "@jupyter-widgets/controls",
            "_model_module_version": "1.5.0",
            "_model_name": "FloatProgressModel",
            "_view_count": null,
            "_view_module": "@jupyter-widgets/controls",
            "_view_module_version": "1.5.0",
            "_view_name": "ProgressView",
            "bar_style": "success",
            "description": "",
            "description_tooltip": null,
            "layout": "IPY_MODEL_227f253fc70a4941ad53eca7e8452932",
            "max": 28,
            "min": 0,
            "orientation": "horizontal",
            "style": "IPY_MODEL_8b20930352d84bc49415abc7be074a9d",
            "value": 28
          }
        },
        "ff4d129fca9444d7a2eb7f7a69d5ce0f": {
          "model_module": "@jupyter-widgets/controls",
          "model_name": "HTMLModel",
          "model_module_version": "1.5.0",
          "state": {
            "_dom_classes": [],
            "_model_module": "@jupyter-widgets/controls",
            "_model_module_version": "1.5.0",
            "_model_name": "HTMLModel",
            "_view_count": null,
            "_view_module": "@jupyter-widgets/controls",
            "_view_module_version": "1.5.0",
            "_view_name": "HTMLView",
            "description": "",
            "description_tooltip": null,
            "layout": "IPY_MODEL_5082eef3c0e649a8b3c6237d0b3d964c",
            "placeholder": "​",
            "style": "IPY_MODEL_9eef96b9224d4d1f8a082336f5e13dfa",
            "value": " 28.0/28.0 [00:00&lt;00:00, 212B/s]"
          }
        },
        "0a7e8c82523c437da24c41261a629de6": {
          "model_module": "@jupyter-widgets/base",
          "model_name": "LayoutModel",
          "model_module_version": "1.2.0",
          "state": {
            "_model_module": "@jupyter-widgets/base",
            "_model_module_version": "1.2.0",
            "_model_name": "LayoutModel",
            "_view_count": null,
            "_view_module": "@jupyter-widgets/base",
            "_view_module_version": "1.2.0",
            "_view_name": "LayoutView",
            "align_content": null,
            "align_items": null,
            "align_self": null,
            "border": null,
            "bottom": null,
            "display": null,
            "flex": null,
            "flex_flow": null,
            "grid_area": null,
            "grid_auto_columns": null,
            "grid_auto_flow": null,
            "grid_auto_rows": null,
            "grid_column": null,
            "grid_gap": null,
            "grid_row": null,
            "grid_template_areas": null,
            "grid_template_columns": null,
            "grid_template_rows": null,
            "height": null,
            "justify_content": null,
            "justify_items": null,
            "left": null,
            "margin": null,
            "max_height": null,
            "max_width": null,
            "min_height": null,
            "min_width": null,
            "object_fit": null,
            "object_position": null,
            "order": null,
            "overflow": null,
            "overflow_x": null,
            "overflow_y": null,
            "padding": null,
            "right": null,
            "top": null,
            "visibility": null,
            "width": null
          }
        },
        "001ee5e024044413b66f048b152f41a5": {
          "model_module": "@jupyter-widgets/base",
          "model_name": "LayoutModel",
          "model_module_version": "1.2.0",
          "state": {
            "_model_module": "@jupyter-widgets/base",
            "_model_module_version": "1.2.0",
            "_model_name": "LayoutModel",
            "_view_count": null,
            "_view_module": "@jupyter-widgets/base",
            "_view_module_version": "1.2.0",
            "_view_name": "LayoutView",
            "align_content": null,
            "align_items": null,
            "align_self": null,
            "border": null,
            "bottom": null,
            "display": null,
            "flex": null,
            "flex_flow": null,
            "grid_area": null,
            "grid_auto_columns": null,
            "grid_auto_flow": null,
            "grid_auto_rows": null,
            "grid_column": null,
            "grid_gap": null,
            "grid_row": null,
            "grid_template_areas": null,
            "grid_template_columns": null,
            "grid_template_rows": null,
            "height": null,
            "justify_content": null,
            "justify_items": null,
            "left": null,
            "margin": null,
            "max_height": null,
            "max_width": null,
            "min_height": null,
            "min_width": null,
            "object_fit": null,
            "object_position": null,
            "order": null,
            "overflow": null,
            "overflow_x": null,
            "overflow_y": null,
            "padding": null,
            "right": null,
            "top": null,
            "visibility": null,
            "width": null
          }
        },
        "7e1fb65fedf546aab8201266e04fb7b3": {
          "model_module": "@jupyter-widgets/controls",
          "model_name": "DescriptionStyleModel",
          "model_module_version": "1.5.0",
          "state": {
            "_model_module": "@jupyter-widgets/controls",
            "_model_module_version": "1.5.0",
            "_model_name": "DescriptionStyleModel",
            "_view_count": null,
            "_view_module": "@jupyter-widgets/base",
            "_view_module_version": "1.2.0",
            "_view_name": "StyleView",
            "description_width": ""
          }
        },
        "227f253fc70a4941ad53eca7e8452932": {
          "model_module": "@jupyter-widgets/base",
          "model_name": "LayoutModel",
          "model_module_version": "1.2.0",
          "state": {
            "_model_module": "@jupyter-widgets/base",
            "_model_module_version": "1.2.0",
            "_model_name": "LayoutModel",
            "_view_count": null,
            "_view_module": "@jupyter-widgets/base",
            "_view_module_version": "1.2.0",
            "_view_name": "LayoutView",
            "align_content": null,
            "align_items": null,
            "align_self": null,
            "border": null,
            "bottom": null,
            "display": null,
            "flex": null,
            "flex_flow": null,
            "grid_area": null,
            "grid_auto_columns": null,
            "grid_auto_flow": null,
            "grid_auto_rows": null,
            "grid_column": null,
            "grid_gap": null,
            "grid_row": null,
            "grid_template_areas": null,
            "grid_template_columns": null,
            "grid_template_rows": null,
            "height": null,
            "justify_content": null,
            "justify_items": null,
            "left": null,
            "margin": null,
            "max_height": null,
            "max_width": null,
            "min_height": null,
            "min_width": null,
            "object_fit": null,
            "object_position": null,
            "order": null,
            "overflow": null,
            "overflow_x": null,
            "overflow_y": null,
            "padding": null,
            "right": null,
            "top": null,
            "visibility": null,
            "width": null
          }
        },
        "8b20930352d84bc49415abc7be074a9d": {
          "model_module": "@jupyter-widgets/controls",
          "model_name": "ProgressStyleModel",
          "model_module_version": "1.5.0",
          "state": {
            "_model_module": "@jupyter-widgets/controls",
            "_model_module_version": "1.5.0",
            "_model_name": "ProgressStyleModel",
            "_view_count": null,
            "_view_module": "@jupyter-widgets/base",
            "_view_module_version": "1.2.0",
            "_view_name": "StyleView",
            "bar_color": null,
            "description_width": ""
          }
        },
        "5082eef3c0e649a8b3c6237d0b3d964c": {
          "model_module": "@jupyter-widgets/base",
          "model_name": "LayoutModel",
          "model_module_version": "1.2.0",
          "state": {
            "_model_module": "@jupyter-widgets/base",
            "_model_module_version": "1.2.0",
            "_model_name": "LayoutModel",
            "_view_count": null,
            "_view_module": "@jupyter-widgets/base",
            "_view_module_version": "1.2.0",
            "_view_name": "LayoutView",
            "align_content": null,
            "align_items": null,
            "align_self": null,
            "border": null,
            "bottom": null,
            "display": null,
            "flex": null,
            "flex_flow": null,
            "grid_area": null,
            "grid_auto_columns": null,
            "grid_auto_flow": null,
            "grid_auto_rows": null,
            "grid_column": null,
            "grid_gap": null,
            "grid_row": null,
            "grid_template_areas": null,
            "grid_template_columns": null,
            "grid_template_rows": null,
            "height": null,
            "justify_content": null,
            "justify_items": null,
            "left": null,
            "margin": null,
            "max_height": null,
            "max_width": null,
            "min_height": null,
            "min_width": null,
            "object_fit": null,
            "object_position": null,
            "order": null,
            "overflow": null,
            "overflow_x": null,
            "overflow_y": null,
            "padding": null,
            "right": null,
            "top": null,
            "visibility": null,
            "width": null
          }
        },
        "9eef96b9224d4d1f8a082336f5e13dfa": {
          "model_module": "@jupyter-widgets/controls",
          "model_name": "DescriptionStyleModel",
          "model_module_version": "1.5.0",
          "state": {
            "_model_module": "@jupyter-widgets/controls",
            "_model_module_version": "1.5.0",
            "_model_name": "DescriptionStyleModel",
            "_view_count": null,
            "_view_module": "@jupyter-widgets/base",
            "_view_module_version": "1.2.0",
            "_view_name": "StyleView",
            "description_width": ""
          }
        },
        "156448f4e14b4d398145917c6a71cfe8": {
          "model_module": "@jupyter-widgets/controls",
          "model_name": "HBoxModel",
          "model_module_version": "1.5.0",
          "state": {
            "_dom_classes": [],
            "_model_module": "@jupyter-widgets/controls",
            "_model_module_version": "1.5.0",
            "_model_name": "HBoxModel",
            "_view_count": null,
            "_view_module": "@jupyter-widgets/controls",
            "_view_module_version": "1.5.0",
            "_view_name": "HBoxView",
            "box_style": "",
            "children": [
              "IPY_MODEL_c696e3672bb14bcd958c00f4c68f8c80",
              "IPY_MODEL_219a14ab589040f7aff2ba2439be02a9",
              "IPY_MODEL_49b26d793f4944cab41951a897f8da5c"
            ],
            "layout": "IPY_MODEL_b515702f35194dc795d6a521dfd0f4a4"
          }
        },
        "c696e3672bb14bcd958c00f4c68f8c80": {
          "model_module": "@jupyter-widgets/controls",
          "model_name": "HTMLModel",
          "model_module_version": "1.5.0",
          "state": {
            "_dom_classes": [],
            "_model_module": "@jupyter-widgets/controls",
            "_model_module_version": "1.5.0",
            "_model_name": "HTMLModel",
            "_view_count": null,
            "_view_module": "@jupyter-widgets/controls",
            "_view_module_version": "1.5.0",
            "_view_name": "HTMLView",
            "description": "",
            "description_tooltip": null,
            "layout": "IPY_MODEL_8dfe67490d8f4d148c629f39b1ca5b5d",
            "placeholder": "​",
            "style": "IPY_MODEL_0d85155da4d44deeafd3436fb81d4680",
            "value": "Downloading: 100%"
          }
        },
        "219a14ab589040f7aff2ba2439be02a9": {
          "model_module": "@jupyter-widgets/controls",
          "model_name": "FloatProgressModel",
          "model_module_version": "1.5.0",
          "state": {
            "_dom_classes": [],
            "_model_module": "@jupyter-widgets/controls",
            "_model_module_version": "1.5.0",
            "_model_name": "FloatProgressModel",
            "_view_count": null,
            "_view_module": "@jupyter-widgets/controls",
            "_view_module_version": "1.5.0",
            "_view_name": "ProgressView",
            "bar_style": "success",
            "description": "",
            "description_tooltip": null,
            "layout": "IPY_MODEL_30e6e112524a481faaf6795d314201c4",
            "max": 231508,
            "min": 0,
            "orientation": "horizontal",
            "style": "IPY_MODEL_baee0b3279844443b7356f34f02e2411",
            "value": 231508
          }
        },
        "49b26d793f4944cab41951a897f8da5c": {
          "model_module": "@jupyter-widgets/controls",
          "model_name": "HTMLModel",
          "model_module_version": "1.5.0",
          "state": {
            "_dom_classes": [],
            "_model_module": "@jupyter-widgets/controls",
            "_model_module_version": "1.5.0",
            "_model_name": "HTMLModel",
            "_view_count": null,
            "_view_module": "@jupyter-widgets/controls",
            "_view_module_version": "1.5.0",
            "_view_name": "HTMLView",
            "description": "",
            "description_tooltip": null,
            "layout": "IPY_MODEL_8d46c69bd3824a6195526c7feddff888",
            "placeholder": "​",
            "style": "IPY_MODEL_63d3e9aa733944c3bd872c662171b5c6",
            "value": " 226k/226k [00:00&lt;00:00, 215kB/s]"
          }
        },
        "b515702f35194dc795d6a521dfd0f4a4": {
          "model_module": "@jupyter-widgets/base",
          "model_name": "LayoutModel",
          "model_module_version": "1.2.0",
          "state": {
            "_model_module": "@jupyter-widgets/base",
            "_model_module_version": "1.2.0",
            "_model_name": "LayoutModel",
            "_view_count": null,
            "_view_module": "@jupyter-widgets/base",
            "_view_module_version": "1.2.0",
            "_view_name": "LayoutView",
            "align_content": null,
            "align_items": null,
            "align_self": null,
            "border": null,
            "bottom": null,
            "display": null,
            "flex": null,
            "flex_flow": null,
            "grid_area": null,
            "grid_auto_columns": null,
            "grid_auto_flow": null,
            "grid_auto_rows": null,
            "grid_column": null,
            "grid_gap": null,
            "grid_row": null,
            "grid_template_areas": null,
            "grid_template_columns": null,
            "grid_template_rows": null,
            "height": null,
            "justify_content": null,
            "justify_items": null,
            "left": null,
            "margin": null,
            "max_height": null,
            "max_width": null,
            "min_height": null,
            "min_width": null,
            "object_fit": null,
            "object_position": null,
            "order": null,
            "overflow": null,
            "overflow_x": null,
            "overflow_y": null,
            "padding": null,
            "right": null,
            "top": null,
            "visibility": null,
            "width": null
          }
        },
        "8dfe67490d8f4d148c629f39b1ca5b5d": {
          "model_module": "@jupyter-widgets/base",
          "model_name": "LayoutModel",
          "model_module_version": "1.2.0",
          "state": {
            "_model_module": "@jupyter-widgets/base",
            "_model_module_version": "1.2.0",
            "_model_name": "LayoutModel",
            "_view_count": null,
            "_view_module": "@jupyter-widgets/base",
            "_view_module_version": "1.2.0",
            "_view_name": "LayoutView",
            "align_content": null,
            "align_items": null,
            "align_self": null,
            "border": null,
            "bottom": null,
            "display": null,
            "flex": null,
            "flex_flow": null,
            "grid_area": null,
            "grid_auto_columns": null,
            "grid_auto_flow": null,
            "grid_auto_rows": null,
            "grid_column": null,
            "grid_gap": null,
            "grid_row": null,
            "grid_template_areas": null,
            "grid_template_columns": null,
            "grid_template_rows": null,
            "height": null,
            "justify_content": null,
            "justify_items": null,
            "left": null,
            "margin": null,
            "max_height": null,
            "max_width": null,
            "min_height": null,
            "min_width": null,
            "object_fit": null,
            "object_position": null,
            "order": null,
            "overflow": null,
            "overflow_x": null,
            "overflow_y": null,
            "padding": null,
            "right": null,
            "top": null,
            "visibility": null,
            "width": null
          }
        },
        "0d85155da4d44deeafd3436fb81d4680": {
          "model_module": "@jupyter-widgets/controls",
          "model_name": "DescriptionStyleModel",
          "model_module_version": "1.5.0",
          "state": {
            "_model_module": "@jupyter-widgets/controls",
            "_model_module_version": "1.5.0",
            "_model_name": "DescriptionStyleModel",
            "_view_count": null,
            "_view_module": "@jupyter-widgets/base",
            "_view_module_version": "1.2.0",
            "_view_name": "StyleView",
            "description_width": ""
          }
        },
        "30e6e112524a481faaf6795d314201c4": {
          "model_module": "@jupyter-widgets/base",
          "model_name": "LayoutModel",
          "model_module_version": "1.2.0",
          "state": {
            "_model_module": "@jupyter-widgets/base",
            "_model_module_version": "1.2.0",
            "_model_name": "LayoutModel",
            "_view_count": null,
            "_view_module": "@jupyter-widgets/base",
            "_view_module_version": "1.2.0",
            "_view_name": "LayoutView",
            "align_content": null,
            "align_items": null,
            "align_self": null,
            "border": null,
            "bottom": null,
            "display": null,
            "flex": null,
            "flex_flow": null,
            "grid_area": null,
            "grid_auto_columns": null,
            "grid_auto_flow": null,
            "grid_auto_rows": null,
            "grid_column": null,
            "grid_gap": null,
            "grid_row": null,
            "grid_template_areas": null,
            "grid_template_columns": null,
            "grid_template_rows": null,
            "height": null,
            "justify_content": null,
            "justify_items": null,
            "left": null,
            "margin": null,
            "max_height": null,
            "max_width": null,
            "min_height": null,
            "min_width": null,
            "object_fit": null,
            "object_position": null,
            "order": null,
            "overflow": null,
            "overflow_x": null,
            "overflow_y": null,
            "padding": null,
            "right": null,
            "top": null,
            "visibility": null,
            "width": null
          }
        },
        "baee0b3279844443b7356f34f02e2411": {
          "model_module": "@jupyter-widgets/controls",
          "model_name": "ProgressStyleModel",
          "model_module_version": "1.5.0",
          "state": {
            "_model_module": "@jupyter-widgets/controls",
            "_model_module_version": "1.5.0",
            "_model_name": "ProgressStyleModel",
            "_view_count": null,
            "_view_module": "@jupyter-widgets/base",
            "_view_module_version": "1.2.0",
            "_view_name": "StyleView",
            "bar_color": null,
            "description_width": ""
          }
        },
        "8d46c69bd3824a6195526c7feddff888": {
          "model_module": "@jupyter-widgets/base",
          "model_name": "LayoutModel",
          "model_module_version": "1.2.0",
          "state": {
            "_model_module": "@jupyter-widgets/base",
            "_model_module_version": "1.2.0",
            "_model_name": "LayoutModel",
            "_view_count": null,
            "_view_module": "@jupyter-widgets/base",
            "_view_module_version": "1.2.0",
            "_view_name": "LayoutView",
            "align_content": null,
            "align_items": null,
            "align_self": null,
            "border": null,
            "bottom": null,
            "display": null,
            "flex": null,
            "flex_flow": null,
            "grid_area": null,
            "grid_auto_columns": null,
            "grid_auto_flow": null,
            "grid_auto_rows": null,
            "grid_column": null,
            "grid_gap": null,
            "grid_row": null,
            "grid_template_areas": null,
            "grid_template_columns": null,
            "grid_template_rows": null,
            "height": null,
            "justify_content": null,
            "justify_items": null,
            "left": null,
            "margin": null,
            "max_height": null,
            "max_width": null,
            "min_height": null,
            "min_width": null,
            "object_fit": null,
            "object_position": null,
            "order": null,
            "overflow": null,
            "overflow_x": null,
            "overflow_y": null,
            "padding": null,
            "right": null,
            "top": null,
            "visibility": null,
            "width": null
          }
        },
        "63d3e9aa733944c3bd872c662171b5c6": {
          "model_module": "@jupyter-widgets/controls",
          "model_name": "DescriptionStyleModel",
          "model_module_version": "1.5.0",
          "state": {
            "_model_module": "@jupyter-widgets/controls",
            "_model_module_version": "1.5.0",
            "_model_name": "DescriptionStyleModel",
            "_view_count": null,
            "_view_module": "@jupyter-widgets/base",
            "_view_module_version": "1.2.0",
            "_view_name": "StyleView",
            "description_width": ""
          }
        },
        "8332da43d69f4175bd7e80cd347d09b6": {
          "model_module": "@jupyter-widgets/controls",
          "model_name": "HBoxModel",
          "model_module_version": "1.5.0",
          "state": {
            "_dom_classes": [],
            "_model_module": "@jupyter-widgets/controls",
            "_model_module_version": "1.5.0",
            "_model_name": "HBoxModel",
            "_view_count": null,
            "_view_module": "@jupyter-widgets/controls",
            "_view_module_version": "1.5.0",
            "_view_name": "HBoxView",
            "box_style": "",
            "children": [
              "IPY_MODEL_a1f3cea0dd514859af0d4ed2a8ab79c9",
              "IPY_MODEL_17440c176ab145f4b430016e8117f856",
              "IPY_MODEL_c1e7a689bf8b466da1b529ed8cf43631"
            ],
            "layout": "IPY_MODEL_0f0b4b925771490c970fbbd8bafff148"
          }
        },
        "a1f3cea0dd514859af0d4ed2a8ab79c9": {
          "model_module": "@jupyter-widgets/controls",
          "model_name": "HTMLModel",
          "model_module_version": "1.5.0",
          "state": {
            "_dom_classes": [],
            "_model_module": "@jupyter-widgets/controls",
            "_model_module_version": "1.5.0",
            "_model_name": "HTMLModel",
            "_view_count": null,
            "_view_module": "@jupyter-widgets/controls",
            "_view_module_version": "1.5.0",
            "_view_name": "HTMLView",
            "description": "",
            "description_tooltip": null,
            "layout": "IPY_MODEL_f5eefb430c664618b00470d541e006e6",
            "placeholder": "​",
            "style": "IPY_MODEL_d7ed866d8fcd4e46afdfe2d8e7867c08",
            "value": "Downloading: 100%"
          }
        },
        "17440c176ab145f4b430016e8117f856": {
          "model_module": "@jupyter-widgets/controls",
          "model_name": "FloatProgressModel",
          "model_module_version": "1.5.0",
          "state": {
            "_dom_classes": [],
            "_model_module": "@jupyter-widgets/controls",
            "_model_module_version": "1.5.0",
            "_model_name": "FloatProgressModel",
            "_view_count": null,
            "_view_module": "@jupyter-widgets/controls",
            "_view_module_version": "1.5.0",
            "_view_name": "ProgressView",
            "bar_style": "success",
            "description": "",
            "description_tooltip": null,
            "layout": "IPY_MODEL_7194057422d94a229510f90998294110",
            "max": 466062,
            "min": 0,
            "orientation": "horizontal",
            "style": "IPY_MODEL_527b2638f60940beaf076c3ba05a25d8",
            "value": 466062
          }
        },
        "c1e7a689bf8b466da1b529ed8cf43631": {
          "model_module": "@jupyter-widgets/controls",
          "model_name": "HTMLModel",
          "model_module_version": "1.5.0",
          "state": {
            "_dom_classes": [],
            "_model_module": "@jupyter-widgets/controls",
            "_model_module_version": "1.5.0",
            "_model_name": "HTMLModel",
            "_view_count": null,
            "_view_module": "@jupyter-widgets/controls",
            "_view_module_version": "1.5.0",
            "_view_name": "HTMLView",
            "description": "",
            "description_tooltip": null,
            "layout": "IPY_MODEL_2b48fc6c9fa443f6a07f875e890cb8ad",
            "placeholder": "​",
            "style": "IPY_MODEL_38cee57b485b4029afba37f057e25e2e",
            "value": " 455k/455k [00:00&lt;00:00, 995kB/s]"
          }
        },
        "0f0b4b925771490c970fbbd8bafff148": {
          "model_module": "@jupyter-widgets/base",
          "model_name": "LayoutModel",
          "model_module_version": "1.2.0",
          "state": {
            "_model_module": "@jupyter-widgets/base",
            "_model_module_version": "1.2.0",
            "_model_name": "LayoutModel",
            "_view_count": null,
            "_view_module": "@jupyter-widgets/base",
            "_view_module_version": "1.2.0",
            "_view_name": "LayoutView",
            "align_content": null,
            "align_items": null,
            "align_self": null,
            "border": null,
            "bottom": null,
            "display": null,
            "flex": null,
            "flex_flow": null,
            "grid_area": null,
            "grid_auto_columns": null,
            "grid_auto_flow": null,
            "grid_auto_rows": null,
            "grid_column": null,
            "grid_gap": null,
            "grid_row": null,
            "grid_template_areas": null,
            "grid_template_columns": null,
            "grid_template_rows": null,
            "height": null,
            "justify_content": null,
            "justify_items": null,
            "left": null,
            "margin": null,
            "max_height": null,
            "max_width": null,
            "min_height": null,
            "min_width": null,
            "object_fit": null,
            "object_position": null,
            "order": null,
            "overflow": null,
            "overflow_x": null,
            "overflow_y": null,
            "padding": null,
            "right": null,
            "top": null,
            "visibility": null,
            "width": null
          }
        },
        "f5eefb430c664618b00470d541e006e6": {
          "model_module": "@jupyter-widgets/base",
          "model_name": "LayoutModel",
          "model_module_version": "1.2.0",
          "state": {
            "_model_module": "@jupyter-widgets/base",
            "_model_module_version": "1.2.0",
            "_model_name": "LayoutModel",
            "_view_count": null,
            "_view_module": "@jupyter-widgets/base",
            "_view_module_version": "1.2.0",
            "_view_name": "LayoutView",
            "align_content": null,
            "align_items": null,
            "align_self": null,
            "border": null,
            "bottom": null,
            "display": null,
            "flex": null,
            "flex_flow": null,
            "grid_area": null,
            "grid_auto_columns": null,
            "grid_auto_flow": null,
            "grid_auto_rows": null,
            "grid_column": null,
            "grid_gap": null,
            "grid_row": null,
            "grid_template_areas": null,
            "grid_template_columns": null,
            "grid_template_rows": null,
            "height": null,
            "justify_content": null,
            "justify_items": null,
            "left": null,
            "margin": null,
            "max_height": null,
            "max_width": null,
            "min_height": null,
            "min_width": null,
            "object_fit": null,
            "object_position": null,
            "order": null,
            "overflow": null,
            "overflow_x": null,
            "overflow_y": null,
            "padding": null,
            "right": null,
            "top": null,
            "visibility": null,
            "width": null
          }
        },
        "d7ed866d8fcd4e46afdfe2d8e7867c08": {
          "model_module": "@jupyter-widgets/controls",
          "model_name": "DescriptionStyleModel",
          "model_module_version": "1.5.0",
          "state": {
            "_model_module": "@jupyter-widgets/controls",
            "_model_module_version": "1.5.0",
            "_model_name": "DescriptionStyleModel",
            "_view_count": null,
            "_view_module": "@jupyter-widgets/base",
            "_view_module_version": "1.2.0",
            "_view_name": "StyleView",
            "description_width": ""
          }
        },
        "7194057422d94a229510f90998294110": {
          "model_module": "@jupyter-widgets/base",
          "model_name": "LayoutModel",
          "model_module_version": "1.2.0",
          "state": {
            "_model_module": "@jupyter-widgets/base",
            "_model_module_version": "1.2.0",
            "_model_name": "LayoutModel",
            "_view_count": null,
            "_view_module": "@jupyter-widgets/base",
            "_view_module_version": "1.2.0",
            "_view_name": "LayoutView",
            "align_content": null,
            "align_items": null,
            "align_self": null,
            "border": null,
            "bottom": null,
            "display": null,
            "flex": null,
            "flex_flow": null,
            "grid_area": null,
            "grid_auto_columns": null,
            "grid_auto_flow": null,
            "grid_auto_rows": null,
            "grid_column": null,
            "grid_gap": null,
            "grid_row": null,
            "grid_template_areas": null,
            "grid_template_columns": null,
            "grid_template_rows": null,
            "height": null,
            "justify_content": null,
            "justify_items": null,
            "left": null,
            "margin": null,
            "max_height": null,
            "max_width": null,
            "min_height": null,
            "min_width": null,
            "object_fit": null,
            "object_position": null,
            "order": null,
            "overflow": null,
            "overflow_x": null,
            "overflow_y": null,
            "padding": null,
            "right": null,
            "top": null,
            "visibility": null,
            "width": null
          }
        },
        "527b2638f60940beaf076c3ba05a25d8": {
          "model_module": "@jupyter-widgets/controls",
          "model_name": "ProgressStyleModel",
          "model_module_version": "1.5.0",
          "state": {
            "_model_module": "@jupyter-widgets/controls",
            "_model_module_version": "1.5.0",
            "_model_name": "ProgressStyleModel",
            "_view_count": null,
            "_view_module": "@jupyter-widgets/base",
            "_view_module_version": "1.2.0",
            "_view_name": "StyleView",
            "bar_color": null,
            "description_width": ""
          }
        },
        "2b48fc6c9fa443f6a07f875e890cb8ad": {
          "model_module": "@jupyter-widgets/base",
          "model_name": "LayoutModel",
          "model_module_version": "1.2.0",
          "state": {
            "_model_module": "@jupyter-widgets/base",
            "_model_module_version": "1.2.0",
            "_model_name": "LayoutModel",
            "_view_count": null,
            "_view_module": "@jupyter-widgets/base",
            "_view_module_version": "1.2.0",
            "_view_name": "LayoutView",
            "align_content": null,
            "align_items": null,
            "align_self": null,
            "border": null,
            "bottom": null,
            "display": null,
            "flex": null,
            "flex_flow": null,
            "grid_area": null,
            "grid_auto_columns": null,
            "grid_auto_flow": null,
            "grid_auto_rows": null,
            "grid_column": null,
            "grid_gap": null,
            "grid_row": null,
            "grid_template_areas": null,
            "grid_template_columns": null,
            "grid_template_rows": null,
            "height": null,
            "justify_content": null,
            "justify_items": null,
            "left": null,
            "margin": null,
            "max_height": null,
            "max_width": null,
            "min_height": null,
            "min_width": null,
            "object_fit": null,
            "object_position": null,
            "order": null,
            "overflow": null,
            "overflow_x": null,
            "overflow_y": null,
            "padding": null,
            "right": null,
            "top": null,
            "visibility": null,
            "width": null
          }
        },
        "38cee57b485b4029afba37f057e25e2e": {
          "model_module": "@jupyter-widgets/controls",
          "model_name": "DescriptionStyleModel",
          "model_module_version": "1.5.0",
          "state": {
            "_model_module": "@jupyter-widgets/controls",
            "_model_module_version": "1.5.0",
            "_model_name": "DescriptionStyleModel",
            "_view_count": null,
            "_view_module": "@jupyter-widgets/base",
            "_view_module_version": "1.2.0",
            "_view_name": "StyleView",
            "description_width": ""
          }
        },
        "58f83ca90e7948f292bf876ce2c05799": {
          "model_module": "@jupyter-widgets/controls",
          "model_name": "HBoxModel",
          "model_module_version": "1.5.0",
          "state": {
            "_dom_classes": [],
            "_model_module": "@jupyter-widgets/controls",
            "_model_module_version": "1.5.0",
            "_model_name": "HBoxModel",
            "_view_count": null,
            "_view_module": "@jupyter-widgets/controls",
            "_view_module_version": "1.5.0",
            "_view_name": "HBoxView",
            "box_style": "",
            "children": [
              "IPY_MODEL_24872b56721d441eaab4bc5d91374050",
              "IPY_MODEL_8950c50a181e4b209c51588d87bc64e8",
              "IPY_MODEL_99576a17b95a4faba419af91dc30f653"
            ],
            "layout": "IPY_MODEL_27806332a5b343a08451ec69793685e3"
          }
        },
        "24872b56721d441eaab4bc5d91374050": {
          "model_module": "@jupyter-widgets/controls",
          "model_name": "HTMLModel",
          "model_module_version": "1.5.0",
          "state": {
            "_dom_classes": [],
            "_model_module": "@jupyter-widgets/controls",
            "_model_module_version": "1.5.0",
            "_model_name": "HTMLModel",
            "_view_count": null,
            "_view_module": "@jupyter-widgets/controls",
            "_view_module_version": "1.5.0",
            "_view_name": "HTMLView",
            "description": "",
            "description_tooltip": null,
            "layout": "IPY_MODEL_b04892942644404382a642cd03b2ff66",
            "placeholder": "​",
            "style": "IPY_MODEL_cda249f0254a4ec09f44d9de8a3a6ab8",
            "value": "Downloading: 100%"
          }
        },
        "8950c50a181e4b209c51588d87bc64e8": {
          "model_module": "@jupyter-widgets/controls",
          "model_name": "FloatProgressModel",
          "model_module_version": "1.5.0",
          "state": {
            "_dom_classes": [],
            "_model_module": "@jupyter-widgets/controls",
            "_model_module_version": "1.5.0",
            "_model_name": "FloatProgressModel",
            "_view_count": null,
            "_view_module": "@jupyter-widgets/controls",
            "_view_module_version": "1.5.0",
            "_view_name": "ProgressView",
            "bar_style": "success",
            "description": "",
            "description_tooltip": null,
            "layout": "IPY_MODEL_75ac4adf2d644188bf4564486d3bd579",
            "max": 483,
            "min": 0,
            "orientation": "horizontal",
            "style": "IPY_MODEL_25eaef70d7aa49ab8e85c773227d3312",
            "value": 483
          }
        },
        "99576a17b95a4faba419af91dc30f653": {
          "model_module": "@jupyter-widgets/controls",
          "model_name": "HTMLModel",
          "model_module_version": "1.5.0",
          "state": {
            "_dom_classes": [],
            "_model_module": "@jupyter-widgets/controls",
            "_model_module_version": "1.5.0",
            "_model_name": "HTMLModel",
            "_view_count": null,
            "_view_module": "@jupyter-widgets/controls",
            "_view_module_version": "1.5.0",
            "_view_name": "HTMLView",
            "description": "",
            "description_tooltip": null,
            "layout": "IPY_MODEL_34efb78aefbe4ab48980af2c2004b175",
            "placeholder": "​",
            "style": "IPY_MODEL_6e961c6d3c2b40299e98ab9084cb0e02",
            "value": " 483/483 [00:00&lt;00:00, 4.79kB/s]"
          }
        },
        "27806332a5b343a08451ec69793685e3": {
          "model_module": "@jupyter-widgets/base",
          "model_name": "LayoutModel",
          "model_module_version": "1.2.0",
          "state": {
            "_model_module": "@jupyter-widgets/base",
            "_model_module_version": "1.2.0",
            "_model_name": "LayoutModel",
            "_view_count": null,
            "_view_module": "@jupyter-widgets/base",
            "_view_module_version": "1.2.0",
            "_view_name": "LayoutView",
            "align_content": null,
            "align_items": null,
            "align_self": null,
            "border": null,
            "bottom": null,
            "display": null,
            "flex": null,
            "flex_flow": null,
            "grid_area": null,
            "grid_auto_columns": null,
            "grid_auto_flow": null,
            "grid_auto_rows": null,
            "grid_column": null,
            "grid_gap": null,
            "grid_row": null,
            "grid_template_areas": null,
            "grid_template_columns": null,
            "grid_template_rows": null,
            "height": null,
            "justify_content": null,
            "justify_items": null,
            "left": null,
            "margin": null,
            "max_height": null,
            "max_width": null,
            "min_height": null,
            "min_width": null,
            "object_fit": null,
            "object_position": null,
            "order": null,
            "overflow": null,
            "overflow_x": null,
            "overflow_y": null,
            "padding": null,
            "right": null,
            "top": null,
            "visibility": null,
            "width": null
          }
        },
        "b04892942644404382a642cd03b2ff66": {
          "model_module": "@jupyter-widgets/base",
          "model_name": "LayoutModel",
          "model_module_version": "1.2.0",
          "state": {
            "_model_module": "@jupyter-widgets/base",
            "_model_module_version": "1.2.0",
            "_model_name": "LayoutModel",
            "_view_count": null,
            "_view_module": "@jupyter-widgets/base",
            "_view_module_version": "1.2.0",
            "_view_name": "LayoutView",
            "align_content": null,
            "align_items": null,
            "align_self": null,
            "border": null,
            "bottom": null,
            "display": null,
            "flex": null,
            "flex_flow": null,
            "grid_area": null,
            "grid_auto_columns": null,
            "grid_auto_flow": null,
            "grid_auto_rows": null,
            "grid_column": null,
            "grid_gap": null,
            "grid_row": null,
            "grid_template_areas": null,
            "grid_template_columns": null,
            "grid_template_rows": null,
            "height": null,
            "justify_content": null,
            "justify_items": null,
            "left": null,
            "margin": null,
            "max_height": null,
            "max_width": null,
            "min_height": null,
            "min_width": null,
            "object_fit": null,
            "object_position": null,
            "order": null,
            "overflow": null,
            "overflow_x": null,
            "overflow_y": null,
            "padding": null,
            "right": null,
            "top": null,
            "visibility": null,
            "width": null
          }
        },
        "cda249f0254a4ec09f44d9de8a3a6ab8": {
          "model_module": "@jupyter-widgets/controls",
          "model_name": "DescriptionStyleModel",
          "model_module_version": "1.5.0",
          "state": {
            "_model_module": "@jupyter-widgets/controls",
            "_model_module_version": "1.5.0",
            "_model_name": "DescriptionStyleModel",
            "_view_count": null,
            "_view_module": "@jupyter-widgets/base",
            "_view_module_version": "1.2.0",
            "_view_name": "StyleView",
            "description_width": ""
          }
        },
        "75ac4adf2d644188bf4564486d3bd579": {
          "model_module": "@jupyter-widgets/base",
          "model_name": "LayoutModel",
          "model_module_version": "1.2.0",
          "state": {
            "_model_module": "@jupyter-widgets/base",
            "_model_module_version": "1.2.0",
            "_model_name": "LayoutModel",
            "_view_count": null,
            "_view_module": "@jupyter-widgets/base",
            "_view_module_version": "1.2.0",
            "_view_name": "LayoutView",
            "align_content": null,
            "align_items": null,
            "align_self": null,
            "border": null,
            "bottom": null,
            "display": null,
            "flex": null,
            "flex_flow": null,
            "grid_area": null,
            "grid_auto_columns": null,
            "grid_auto_flow": null,
            "grid_auto_rows": null,
            "grid_column": null,
            "grid_gap": null,
            "grid_row": null,
            "grid_template_areas": null,
            "grid_template_columns": null,
            "grid_template_rows": null,
            "height": null,
            "justify_content": null,
            "justify_items": null,
            "left": null,
            "margin": null,
            "max_height": null,
            "max_width": null,
            "min_height": null,
            "min_width": null,
            "object_fit": null,
            "object_position": null,
            "order": null,
            "overflow": null,
            "overflow_x": null,
            "overflow_y": null,
            "padding": null,
            "right": null,
            "top": null,
            "visibility": null,
            "width": null
          }
        },
        "25eaef70d7aa49ab8e85c773227d3312": {
          "model_module": "@jupyter-widgets/controls",
          "model_name": "ProgressStyleModel",
          "model_module_version": "1.5.0",
          "state": {
            "_model_module": "@jupyter-widgets/controls",
            "_model_module_version": "1.5.0",
            "_model_name": "ProgressStyleModel",
            "_view_count": null,
            "_view_module": "@jupyter-widgets/base",
            "_view_module_version": "1.2.0",
            "_view_name": "StyleView",
            "bar_color": null,
            "description_width": ""
          }
        },
        "34efb78aefbe4ab48980af2c2004b175": {
          "model_module": "@jupyter-widgets/base",
          "model_name": "LayoutModel",
          "model_module_version": "1.2.0",
          "state": {
            "_model_module": "@jupyter-widgets/base",
            "_model_module_version": "1.2.0",
            "_model_name": "LayoutModel",
            "_view_count": null,
            "_view_module": "@jupyter-widgets/base",
            "_view_module_version": "1.2.0",
            "_view_name": "LayoutView",
            "align_content": null,
            "align_items": null,
            "align_self": null,
            "border": null,
            "bottom": null,
            "display": null,
            "flex": null,
            "flex_flow": null,
            "grid_area": null,
            "grid_auto_columns": null,
            "grid_auto_flow": null,
            "grid_auto_rows": null,
            "grid_column": null,
            "grid_gap": null,
            "grid_row": null,
            "grid_template_areas": null,
            "grid_template_columns": null,
            "grid_template_rows": null,
            "height": null,
            "justify_content": null,
            "justify_items": null,
            "left": null,
            "margin": null,
            "max_height": null,
            "max_width": null,
            "min_height": null,
            "min_width": null,
            "object_fit": null,
            "object_position": null,
            "order": null,
            "overflow": null,
            "overflow_x": null,
            "overflow_y": null,
            "padding": null,
            "right": null,
            "top": null,
            "visibility": null,
            "width": null
          }
        },
        "6e961c6d3c2b40299e98ab9084cb0e02": {
          "model_module": "@jupyter-widgets/controls",
          "model_name": "DescriptionStyleModel",
          "model_module_version": "1.5.0",
          "state": {
            "_model_module": "@jupyter-widgets/controls",
            "_model_module_version": "1.5.0",
            "_model_name": "DescriptionStyleModel",
            "_view_count": null,
            "_view_module": "@jupyter-widgets/base",
            "_view_module_version": "1.2.0",
            "_view_name": "StyleView",
            "description_width": ""
          }
        },
        "31c653db714f42f983a0dfcbe22c2ab2": {
          "model_module": "@jupyter-widgets/controls",
          "model_name": "HBoxModel",
          "model_module_version": "1.5.0",
          "state": {
            "_dom_classes": [],
            "_model_module": "@jupyter-widgets/controls",
            "_model_module_version": "1.5.0",
            "_model_name": "HBoxModel",
            "_view_count": null,
            "_view_module": "@jupyter-widgets/controls",
            "_view_module_version": "1.5.0",
            "_view_name": "HBoxView",
            "box_style": "",
            "children": [
              "IPY_MODEL_dd90d4b2066942f6ba51189382dbcaa6",
              "IPY_MODEL_1fe95c3b36ec4e45978fada031f90639",
              "IPY_MODEL_0b6fd0237a374838bfcdca60ca818872"
            ],
            "layout": "IPY_MODEL_a9e7988a83084b989757fd985a9fef17"
          }
        },
        "dd90d4b2066942f6ba51189382dbcaa6": {
          "model_module": "@jupyter-widgets/controls",
          "model_name": "HTMLModel",
          "model_module_version": "1.5.0",
          "state": {
            "_dom_classes": [],
            "_model_module": "@jupyter-widgets/controls",
            "_model_module_version": "1.5.0",
            "_model_name": "HTMLModel",
            "_view_count": null,
            "_view_module": "@jupyter-widgets/controls",
            "_view_module_version": "1.5.0",
            "_view_name": "HTMLView",
            "description": "",
            "description_tooltip": null,
            "layout": "IPY_MODEL_5a42503d86cf4f9c97687b7062fff63a",
            "placeholder": "​",
            "style": "IPY_MODEL_fb3837c4eb0240daa5663dab864fcd16",
            "value": "Downloading: 100%"
          }
        },
        "1fe95c3b36ec4e45978fada031f90639": {
          "model_module": "@jupyter-widgets/controls",
          "model_name": "FloatProgressModel",
          "model_module_version": "1.5.0",
          "state": {
            "_dom_classes": [],
            "_model_module": "@jupyter-widgets/controls",
            "_model_module_version": "1.5.0",
            "_model_name": "FloatProgressModel",
            "_view_count": null,
            "_view_module": "@jupyter-widgets/controls",
            "_view_module_version": "1.5.0",
            "_view_name": "ProgressView",
            "bar_style": "success",
            "description": "",
            "description_tooltip": null,
            "layout": "IPY_MODEL_f8c6f68fcc774a11a839376643c2c21a",
            "max": 267967963,
            "min": 0,
            "orientation": "horizontal",
            "style": "IPY_MODEL_40ff9d749e5b45e4ba28d365e2903671",
            "value": 267967963
          }
        },
        "0b6fd0237a374838bfcdca60ca818872": {
          "model_module": "@jupyter-widgets/controls",
          "model_name": "HTMLModel",
          "model_module_version": "1.5.0",
          "state": {
            "_dom_classes": [],
            "_model_module": "@jupyter-widgets/controls",
            "_model_module_version": "1.5.0",
            "_model_name": "HTMLModel",
            "_view_count": null,
            "_view_module": "@jupyter-widgets/controls",
            "_view_module_version": "1.5.0",
            "_view_name": "HTMLView",
            "description": "",
            "description_tooltip": null,
            "layout": "IPY_MODEL_9be788e722bd4a2681decefc030282c6",
            "placeholder": "​",
            "style": "IPY_MODEL_f7e1888e752e4bf98abebf8f1664eafe",
            "value": " 256M/256M [00:09&lt;00:00, 53.6MB/s]"
          }
        },
        "a9e7988a83084b989757fd985a9fef17": {
          "model_module": "@jupyter-widgets/base",
          "model_name": "LayoutModel",
          "model_module_version": "1.2.0",
          "state": {
            "_model_module": "@jupyter-widgets/base",
            "_model_module_version": "1.2.0",
            "_model_name": "LayoutModel",
            "_view_count": null,
            "_view_module": "@jupyter-widgets/base",
            "_view_module_version": "1.2.0",
            "_view_name": "LayoutView",
            "align_content": null,
            "align_items": null,
            "align_self": null,
            "border": null,
            "bottom": null,
            "display": null,
            "flex": null,
            "flex_flow": null,
            "grid_area": null,
            "grid_auto_columns": null,
            "grid_auto_flow": null,
            "grid_auto_rows": null,
            "grid_column": null,
            "grid_gap": null,
            "grid_row": null,
            "grid_template_areas": null,
            "grid_template_columns": null,
            "grid_template_rows": null,
            "height": null,
            "justify_content": null,
            "justify_items": null,
            "left": null,
            "margin": null,
            "max_height": null,
            "max_width": null,
            "min_height": null,
            "min_width": null,
            "object_fit": null,
            "object_position": null,
            "order": null,
            "overflow": null,
            "overflow_x": null,
            "overflow_y": null,
            "padding": null,
            "right": null,
            "top": null,
            "visibility": null,
            "width": null
          }
        },
        "5a42503d86cf4f9c97687b7062fff63a": {
          "model_module": "@jupyter-widgets/base",
          "model_name": "LayoutModel",
          "model_module_version": "1.2.0",
          "state": {
            "_model_module": "@jupyter-widgets/base",
            "_model_module_version": "1.2.0",
            "_model_name": "LayoutModel",
            "_view_count": null,
            "_view_module": "@jupyter-widgets/base",
            "_view_module_version": "1.2.0",
            "_view_name": "LayoutView",
            "align_content": null,
            "align_items": null,
            "align_self": null,
            "border": null,
            "bottom": null,
            "display": null,
            "flex": null,
            "flex_flow": null,
            "grid_area": null,
            "grid_auto_columns": null,
            "grid_auto_flow": null,
            "grid_auto_rows": null,
            "grid_column": null,
            "grid_gap": null,
            "grid_row": null,
            "grid_template_areas": null,
            "grid_template_columns": null,
            "grid_template_rows": null,
            "height": null,
            "justify_content": null,
            "justify_items": null,
            "left": null,
            "margin": null,
            "max_height": null,
            "max_width": null,
            "min_height": null,
            "min_width": null,
            "object_fit": null,
            "object_position": null,
            "order": null,
            "overflow": null,
            "overflow_x": null,
            "overflow_y": null,
            "padding": null,
            "right": null,
            "top": null,
            "visibility": null,
            "width": null
          }
        },
        "fb3837c4eb0240daa5663dab864fcd16": {
          "model_module": "@jupyter-widgets/controls",
          "model_name": "DescriptionStyleModel",
          "model_module_version": "1.5.0",
          "state": {
            "_model_module": "@jupyter-widgets/controls",
            "_model_module_version": "1.5.0",
            "_model_name": "DescriptionStyleModel",
            "_view_count": null,
            "_view_module": "@jupyter-widgets/base",
            "_view_module_version": "1.2.0",
            "_view_name": "StyleView",
            "description_width": ""
          }
        },
        "f8c6f68fcc774a11a839376643c2c21a": {
          "model_module": "@jupyter-widgets/base",
          "model_name": "LayoutModel",
          "model_module_version": "1.2.0",
          "state": {
            "_model_module": "@jupyter-widgets/base",
            "_model_module_version": "1.2.0",
            "_model_name": "LayoutModel",
            "_view_count": null,
            "_view_module": "@jupyter-widgets/base",
            "_view_module_version": "1.2.0",
            "_view_name": "LayoutView",
            "align_content": null,
            "align_items": null,
            "align_self": null,
            "border": null,
            "bottom": null,
            "display": null,
            "flex": null,
            "flex_flow": null,
            "grid_area": null,
            "grid_auto_columns": null,
            "grid_auto_flow": null,
            "grid_auto_rows": null,
            "grid_column": null,
            "grid_gap": null,
            "grid_row": null,
            "grid_template_areas": null,
            "grid_template_columns": null,
            "grid_template_rows": null,
            "height": null,
            "justify_content": null,
            "justify_items": null,
            "left": null,
            "margin": null,
            "max_height": null,
            "max_width": null,
            "min_height": null,
            "min_width": null,
            "object_fit": null,
            "object_position": null,
            "order": null,
            "overflow": null,
            "overflow_x": null,
            "overflow_y": null,
            "padding": null,
            "right": null,
            "top": null,
            "visibility": null,
            "width": null
          }
        },
        "40ff9d749e5b45e4ba28d365e2903671": {
          "model_module": "@jupyter-widgets/controls",
          "model_name": "ProgressStyleModel",
          "model_module_version": "1.5.0",
          "state": {
            "_model_module": "@jupyter-widgets/controls",
            "_model_module_version": "1.5.0",
            "_model_name": "ProgressStyleModel",
            "_view_count": null,
            "_view_module": "@jupyter-widgets/base",
            "_view_module_version": "1.2.0",
            "_view_name": "StyleView",
            "bar_color": null,
            "description_width": ""
          }
        },
        "9be788e722bd4a2681decefc030282c6": {
          "model_module": "@jupyter-widgets/base",
          "model_name": "LayoutModel",
          "model_module_version": "1.2.0",
          "state": {
            "_model_module": "@jupyter-widgets/base",
            "_model_module_version": "1.2.0",
            "_model_name": "LayoutModel",
            "_view_count": null,
            "_view_module": "@jupyter-widgets/base",
            "_view_module_version": "1.2.0",
            "_view_name": "LayoutView",
            "align_content": null,
            "align_items": null,
            "align_self": null,
            "border": null,
            "bottom": null,
            "display": null,
            "flex": null,
            "flex_flow": null,
            "grid_area": null,
            "grid_auto_columns": null,
            "grid_auto_flow": null,
            "grid_auto_rows": null,
            "grid_column": null,
            "grid_gap": null,
            "grid_row": null,
            "grid_template_areas": null,
            "grid_template_columns": null,
            "grid_template_rows": null,
            "height": null,
            "justify_content": null,
            "justify_items": null,
            "left": null,
            "margin": null,
            "max_height": null,
            "max_width": null,
            "min_height": null,
            "min_width": null,
            "object_fit": null,
            "object_position": null,
            "order": null,
            "overflow": null,
            "overflow_x": null,
            "overflow_y": null,
            "padding": null,
            "right": null,
            "top": null,
            "visibility": null,
            "width": null
          }
        },
        "f7e1888e752e4bf98abebf8f1664eafe": {
          "model_module": "@jupyter-widgets/controls",
          "model_name": "DescriptionStyleModel",
          "model_module_version": "1.5.0",
          "state": {
            "_model_module": "@jupyter-widgets/controls",
            "_model_module_version": "1.5.0",
            "_model_name": "DescriptionStyleModel",
            "_view_count": null,
            "_view_module": "@jupyter-widgets/base",
            "_view_module_version": "1.2.0",
            "_view_name": "StyleView",
            "description_width": ""
          }
        }
      }
    }
  },
  "cells": [
    {
      "cell_type": "markdown",
      "metadata": {
        "id": "view-in-github",
        "colab_type": "text"
      },
      "source": [
        "<a href=\"https://colab.research.google.com/github/leanmarqs/findMaxCrossingSubarray/blob/master/hertie_transformers_bert_similarity.ipynb\" target=\"_parent\"><img src=\"https://colab.research.google.com/assets/colab-badge.svg\" alt=\"Open In Colab\"/></a>"
      ]
    },
    {
      "cell_type": "markdown",
      "metadata": {
        "id": "ucj6rr9Z7gt3"
      },
      "source": [
        "# Measuring Word Similarity with BERT (Sephora Makeup Reviews)\n",
        "\n",
        "By [The BERT for Humanists](https://melaniewalsh.github.io/BERT-for-Humanists/) Team\n",
        "\n",
        "How can we measure the similarity of words, or word uses, in a collection of texts? Let's say we're interested in a collection of Sephora makeup reviews, and we specifically want to understand the experiences of customers who are \"sensitive\" to makeup in various ways. Do reviewers use the word \"sensitive\" similarly or differently when describing different products, or when rating a product positively or negatively? What about when reviewers discuss how well makeup holds up at the the \"pool, the \"gym,\" the \"office, or a \"wedding\" — how do these contexts compare?  \n",
        "\n",
        "We can explore all of these questions with BERT, a natural language processing model that has revolutionized the field.\n",
        "\n",
        "BERT turns words or tokens into vectors — essentially, a list of numbers in a coordinate system (x, y). We can then use the geometric similarity between these resulting vectors as a way to represent varying types of similarity between words.\n",
        "\n",
        "## In This Notebook\n",
        "In this Colab notebook, we will specifically analyze a collection of 5k [Sephora makeup reviews](https://github.com/everestpipkin/datagardens/tree/master/students/khanniie/5_newDataSet) scraped by Google engineer [Connie Ye](https://connieye.com/about). While an undergraduate student at Carnegie Mellon, Ye completed a project about Sephora reviews that specifically mentioned crying, and she even created a [website](https://connie.dog/sephora/) where you can explore these waterlogged reviews. \n",
        "\n",
        "For our purposes here, we will analyze all 5k Sephora reviews with the [DistilBert model](https://huggingface.co/transformers/model_doc/distilbert.html) and the HuggingFace Python library. DistilBert is a smaller — yet still powerful! — version of BERT. By using the rich representations of words that BERT produces, we will then explore the multivalent meanings of particular words in context.\n",
        "\n",
        "We hope this notebook will help illustrate how BERT works, how well it works, and how you might use BERT to explore the similarity of words in a collection of texts. But we also hope that these results will expose some of the limitations and challenges of BERT. "
      ]
    },
    {
      "cell_type": "code",
      "metadata": {
        "colab": {
          "base_uri": "https://localhost:8080/",
          "height": 585
        },
        "id": "zsAaAlwhZsKr",
        "outputId": "89602aad-c6f1-4864-aba3-d37a8059fec1"
      },
      "source": [
        "#@title BERT Word Vectors: A Preview { display-mode: \"form\" }\n",
        "#@title: Hover\n",
        "import pandas as pd\n",
        "import altair as alt\n",
        "\n",
        "url = \"https://github.com/melaniewalsh/Neat-Datasets/raw/main/bert-word-sensitive.csv\"\n",
        "df = pd.read_csv(url, encoding='utf-8')\n",
        "\n",
        "search_keywords = ['sensitive']\n",
        "color_by = 'word'\n",
        "\n",
        "alt.Chart(df, title=f\"Word Similarity in Sephora Reviews: {', '.join(search_keywords).title()}\").mark_circle(size=200).encode(\n",
        "    alt.X('x',\n",
        "        scale=alt.Scale(zero=False)\n",
        "    ), y=\"y\",\n",
        "    color= color_by,\n",
        "    tooltip=['word', 'context', 'type', 'brand']\n",
        "    ).interactive().properties(\n",
        "    width=500,\n",
        "    height=500\n",
        ")"
      ],
      "execution_count": null,
      "outputs": [
        {
          "output_type": "execute_result",
          "data": {
            "text/html": [
              "\n",
              "<div id=\"altair-viz-b563b81acf9d4366bf2aa8487002750b\"></div>\n",
              "<script type=\"text/javascript\">\n",
              "  var VEGA_DEBUG = (typeof VEGA_DEBUG == \"undefined\") ? {} : VEGA_DEBUG;\n",
              "  (function(spec, embedOpt){\n",
              "    let outputDiv = document.currentScript.previousElementSibling;\n",
              "    if (outputDiv.id !== \"altair-viz-b563b81acf9d4366bf2aa8487002750b\") {\n",
              "      outputDiv = document.getElementById(\"altair-viz-b563b81acf9d4366bf2aa8487002750b\");\n",
              "    }\n",
              "    const paths = {\n",
              "      \"vega\": \"https://cdn.jsdelivr.net/npm//vega@5?noext\",\n",
              "      \"vega-lib\": \"https://cdn.jsdelivr.net/npm//vega-lib?noext\",\n",
              "      \"vega-lite\": \"https://cdn.jsdelivr.net/npm//vega-lite@4.17.0?noext\",\n",
              "      \"vega-embed\": \"https://cdn.jsdelivr.net/npm//vega-embed@6?noext\",\n",
              "    };\n",
              "\n",
              "    function maybeLoadScript(lib, version) {\n",
              "      var key = `${lib.replace(\"-\", \"\")}_version`;\n",
              "      return (VEGA_DEBUG[key] == version) ?\n",
              "        Promise.resolve(paths[lib]) :\n",
              "        new Promise(function(resolve, reject) {\n",
              "          var s = document.createElement('script');\n",
              "          document.getElementsByTagName(\"head\")[0].appendChild(s);\n",
              "          s.async = true;\n",
              "          s.onload = () => {\n",
              "            VEGA_DEBUG[key] = version;\n",
              "            return resolve(paths[lib]);\n",
              "          };\n",
              "          s.onerror = () => reject(`Error loading script: ${paths[lib]}`);\n",
              "          s.src = paths[lib];\n",
              "        });\n",
              "    }\n",
              "\n",
              "    function showError(err) {\n",
              "      outputDiv.innerHTML = `<div class=\"error\" style=\"color:red;\">${err}</div>`;\n",
              "      throw err;\n",
              "    }\n",
              "\n",
              "    function displayChart(vegaEmbed) {\n",
              "      vegaEmbed(outputDiv, spec, embedOpt)\n",
              "        .catch(err => showError(`Javascript Error: ${err.message}<br>This usually means there's a typo in your chart specification. See the javascript console for the full traceback.`));\n",
              "    }\n",
              "\n",
              "    if(typeof define === \"function\" && define.amd) {\n",
              "      requirejs.config({paths});\n",
              "      require([\"vega-embed\"], displayChart, err => showError(`Error loading script: ${err.message}`));\n",
              "    } else {\n",
              "      maybeLoadScript(\"vega\", \"5\")\n",
              "        .then(() => maybeLoadScript(\"vega-lite\", \"4.17.0\"))\n",
              "        .then(() => maybeLoadScript(\"vega-embed\", \"6\"))\n",
              "        .catch(showError)\n",
              "        .then(() => displayChart(vegaEmbed));\n",
              "    }\n",
              "  })({\"config\": {\"view\": {\"continuousWidth\": 400, \"continuousHeight\": 300}}, \"data\": {\"name\": \"data-dfe02e29fddb6b3f5b20fd3cda53624e\"}, \"mark\": {\"type\": \"circle\", \"size\": 200}, \"encoding\": {\"color\": {\"field\": \"word\", \"type\": \"nominal\"}, \"tooltip\": [{\"field\": \"word\", \"type\": \"nominal\"}, {\"field\": \"context\", \"type\": \"nominal\"}, {\"field\": \"type\", \"type\": \"nominal\"}, {\"field\": \"brand\", \"type\": \"nominal\"}], \"x\": {\"field\": \"x\", \"scale\": {\"zero\": false}, \"type\": \"quantitative\"}, \"y\": {\"field\": \"y\", \"type\": \"quantitative\"}}, \"height\": 500, \"selection\": {\"selector014\": {\"type\": \"interval\", \"bind\": \"scales\", \"encodings\": [\"x\", \"y\"]}}, \"title\": \"Word Similarity in Sephora Reviews: Sensitive\", \"width\": 500, \"$schema\": \"https://vega.github.io/schema/vega-lite/v4.17.0.json\", \"datasets\": {\"data-dfe02e29fddb6b3f5b20fd3cda53624e\": [{\"x\": -0.079377055, \"y\": 0.01758861, \"context\": \"a compliment. worth the money. not for the **sensitive** type this is not at all worth the hype\", \"tokens\": \"a compliment . worth the money . not for the sensitive type this is not at all worth the h ##ype\", \"word\": \"sensitive\", \"stars\": null, \"brand\": null, \"name\": null, \"type\": null}, {\"x\": -0.095697485, \"y\": -0.08053703, \"context\": \"the day. this product was not good for my **sensitive** eyes and for the price i think it's\", \"tokens\": \"the day . this product was not good for my sensitive eyes and for the price i think it ' s\", \"word\": \"sensitive\", \"stars\": \"2 stars\", \"brand\": \"Too Faced\", \"name\": \"Better Than Sex Mascara\", \"type\": \"Mascara\"}, {\"x\": -0.09519978, \"y\": -0.08740678, \"context\": \"have problems with the staying power of mascaras or **sensitive** eyes i would skip this one. \\u2026 read more\", \"tokens\": \"have problems with the staying power of mascara ##s or sensitive eyes i would skip this one . \\u2026 read more\", \"word\": \"sensitive\", \"stars\": \"2 stars\", \"brand\": \"Too Faced\", \"name\": \"Better Than Sex Mascara\", \"type\": \"Mascara\"}, {\"x\": -0.09451646, \"y\": -0.14933872, \"context\": \"brand. i absolutely loved it. i have very **sensitive** eyes and most mascaras irritate my eyes\", \"tokens\": \"brand . i absolutely loved it . i have very sensitive eyes and most mascara ##s ir ##rita ##te my eyes\", \"word\": \"sensitive\", \"stars\": \"5 stars\", \"brand\": \"Too Faced\", \"name\": \"Better Than Sex Mascara\", \"type\": \"Mascara\"}, {\"x\": -0.093227945, \"y\": -0.06029894, \"context\": \"udge easy, doesn 't irritate my **sensitive** eyes, and gives my amazing definition and volume!\", \"tokens\": \"##udge easy , doesn ' t ir ##rita ##te my sensitive eyes , and gives my amazing definition and volume !\", \"word\": \"sensitive\", \"stars\": \"5 stars\", \"brand\": \"Too Faced\", \"name\": \"Better Than Sex Mascara\", \"type\": \"Mascara\"}, {\"x\": -0.09326655, \"y\": -0.05452676, \"context\": \"! to start off, i have really watery and **sensitive** eyes, so i can only wear waterproof mascara\", \"tokens\": \"! to start off , i have really watery and sensitive eyes , so i can only wear water ##proof mascara\", \"word\": \"sensitive\", \"stars\": \"5 stars\", \"brand\": \"Too Faced\", \"name\": \"Better Than Sex Waterproof Mascara\", \"type\": \"Mascara\"}, {\"x\": -0.091447845, \"y\": -0.053195078, \"context\": \"to, so less rubbing is really nice for my **sensitive** eyes! \\u2026 read more this mascara is absolutely amazing\", \"tokens\": \"to , so less rubbing is really nice for my sensitive eyes ! \\u2026 read more this mascara is absolutely amazing\", \"word\": \"sensitive\", \"stars\": \"5 stars\", \"brand\": \"Too Faced\", \"name\": \"Better Than Sex Waterproof Mascara\", \"type\": \"Mascara\"}, {\"x\": -0.09368496, \"y\": -0.06728619, \"context\": \". \\u2026 read more this mascara is great for my **sensitive**, watery eyes and oily lids. stays put\", \"tokens\": \". \\u2026 read more this mascara is great for my sensitive , watery eyes and oil ##y lids . stays put\", \"word\": \"sensitive\", \"stars\": \"5 stars\", \"brand\": \"Too Faced\", \"name\": \"Better Than Sex Waterproof Mascara\", \"type\": \"Mascara\"}, {\"x\": -0.09208007, \"y\": -0.11683412, \"context\": \"also keeps my lashes very soft. i have very **sensitive** dry eyes and this does not aggravate them\", \"tokens\": \"also keeps my lashes very soft . i have very sensitive dry eyes and this does not ag ##gra ##vate them\", \"word\": \"sensitive\", \"stars\": \"5 stars\", \"brand\": \"Too Faced\", \"name\": \"Better Than Sex Waterproof Mascara\", \"type\": \"Mascara\"}, {\"x\": -0.09259997, \"y\": -0.06817765, \"context\": \"it was a fiber mascara since my eyes are so **sensitive**. it does work and doesn 't smudge\", \"tokens\": \"it was a fiber mascara since my eyes are so sensitive . it does work and doesn ' t sm ##udge\", \"word\": \"sensitive\", \"stars\": \"3 stars\", \"brand\": \"Urban Decay\", \"name\": \"Cannonball Ultra Waterproof Mascara\", \"type\": \"Mascara\"}, {\"x\": -0.095143355, \"y\": -0.08047495, \"context\": \"was told this was the best waterproof mascara for **sensitive** eyes. this stuff feels like razors when it\", \"tokens\": \"was told this was the best water ##proof mascara for sensitive eyes . this stuff feels like razor ##s when it\", \"word\": \"sensitive\", \"stars\": \"1 star\", \"brand\": \"Urban Decay\", \"name\": \"Cannonball Ultra Waterproof Mascara\", \"type\": \"Mascara\"}, {\"x\": -0.09202203, \"y\": -0.13695382, \"context\": \"fab i decided this mascara is surprisingly great for **sensitive** eyes, and for people who are looking for a\", \"tokens\": \"fa ##b i decided this mascara is surprisingly great for sensitive eyes , and for people who are looking for a\", \"word\": \"sensitive\", \"stars\": \"2 stars\", \"brand\": \"Too Faced\", \"name\": \"Better Than Sex Mascara\", \"type\": \"Mascara\"}, {\"x\": -0.09127551, \"y\": -0.11675132, \"context\": \"starts to get dried. so if you have super **sensitive** eyes with contact lenses, you'd better not\", \"tokens\": \"starts to get dried . so if you have super sensitive eyes with contact lenses , you ' d better not\", \"word\": \"sensitive\", \"stars\": \"4 stars\", \"brand\": \"Urban Decay\", \"name\": \"Cannonball Ultra Waterproof Mascara\", \"type\": \"Mascara\"}, {\"x\": -0.09287147, \"y\": -0.1414918, \"context\": \"to take it off at night. i have really **sensitive** eyes, and my eyes don 't burn from\", \"tokens\": \"to take it off at night . i have really sensitive eyes , and my eyes don ' t burn from\", \"word\": \"sensitive\", \"stars\": \"5 stars\", \"brand\": \"Urban Decay\", \"name\": \"Cannonball Ultra Waterproof Mascara\", \"type\": \"Mascara\"}, {\"x\": -0.092503734, \"y\": -0.0015417755, \"context\": \"you dont have to tug & rub on your **sensitive** eye area. i tried it with the dior\", \"tokens\": \"you don ##t have to tug & rub on your sensitive eye area . i tried it with the di ##or\", \"word\": \"sensitive\", \"stars\": \"5 stars\", \"brand\": \"Urban Decay\", \"name\": \"Cannonball Ultra Waterproof Mascara\", \"type\": \"Mascara\"}, {\"x\": -0.08685862, \"y\": -0.011121349, \"context\": \"t seem dry to me. i 'm super **sensitive** when it comes to which products work for me,\", \"tokens\": \"t seem dry to me . i ' m super sensitive when it comes to which products work for me ,\", \"word\": \"sensitive\", \"stars\": \"2 stars\", \"brand\": \"Dior\", \"name\": \"Diorshow Waterproof Mascara\", \"type\": \"Mascara\"}, {\"x\": -0.094735295, \"y\": -0.12688021, \"context\": \"ation i read on a forum. i have very **sensitive** eyes, rosacea. 99 % of mascaras\", \"tokens\": \"##ation i read on a forum . i have very sensitive eyes , rosa ##cea . 99 % of mascara ##s\", \"word\": \"sensitive\", \"stars\": \"5 stars\", \"brand\": \"Dior\", \"name\": \"Diorshow Waterproof Mascara\", \"type\": \"Mascara\"}, {\"x\": -0.08983668, \"y\": -0.06230572, \"context\": \"is a bit strong but my eyes aren 't **sensitive** so i got use to the smell. the smell\", \"tokens\": \"is a bit strong but my eyes aren ' t sensitive so i got use to the smell . the smell\", \"word\": \"sensitive\", \"stars\": \"5 stars\", \"brand\": \"Dior\", \"name\": \"Diorshow Waterproof Mascara\", \"type\": \"Mascara\"}, {\"x\": -0.09323233, \"y\": -0.12892473, \"context\": \"this product in exchange for a review. i have **sensitive** eyes so eye cream shadow etc can cause tears,\", \"tokens\": \"this product in exchange for a review . i have sensitive eyes so eye cream shadow etc can cause tears ,\", \"word\": \"sensitive\", \"stars\": \"4 stars\", \"brand\": \"Tom Ford\", \"name\": \"Emotionproof Mascara\", \"type\": \"Mascara\"}, {\"x\": -0.08986311, \"y\": -0.019351998, \"context\": \"and last all day long! my eyes can be **sensitive** to mascara. any flaking and i am it\", \"tokens\": \"and last all day long ! my eyes can be sensitive to mascara . any fl ##aking and i am it\", \"word\": \"sensitive\", \"stars\": \"5 stars\", \"brand\": \"Tom Ford\", \"name\": \"Emotionproof Mascara\", \"type\": \"Mascara\"}, {\"x\": -0.09519718, \"y\": -0.08856959, \"context\": \"this came out. i 'm someone with super **sensitive** eyes and i was hesitant at first to try it\", \"tokens\": \"this came out . i ' m someone with super sensitive eyes and i was hesitant at first to try it\", \"word\": \"sensitive\", \"stars\": \"5 stars\", \"brand\": \"FENTY BEAUTY BY RIHANNA\", \"name\": \"Flyliner Longwear Liquid Eyeliner\", \"type\": \"Liquid Eyeliner\"}, {\"x\": -0.0937914, \"y\": -0.12072791, \"context\": \"my makeup remover which is important due to my **sensitive** eyes. application is super easy especially with the shape\", \"tokens\": \"my makeup remove ##r which is important due to my sensitive eyes . application is super easy especially with the shape\", \"word\": \"sensitive\", \"stars\": \"5 stars\", \"brand\": \"FENTY BEAUTY BY RIHANNA\", \"name\": \"Flyliner Longwear Liquid Eyeliner\", \"type\": \"Liquid Eyeliner\"}, {\"x\": -0.096123084, \"y\": -0.06397398, \"context\": \"goodluck if you have allergies or **sensitive** eyes because your eyes will water and the liner comes\", \"tokens\": \"good ##lu ##ck if you have all ##er ##gies or sensitive eyes because your eyes will water and the liner comes\", \"word\": \"sensitive\", \"stars\": \"1 star\", \"brand\": \"FENTY BEAUTY BY RIHANNA\", \"name\": \"Flyliner Longwear Liquid Eyeliner\", \"type\": \"Liquid Eyeliner\"}, {\"x\": -0.09474643, \"y\": 0.10111646, \"context\": \"this primer. i have oily, super **sensitive** skin and really dislike silicone-based primers\", \"tokens\": \"this prime ##r . i have oil ##y , super sensitive skin and really dislike silicon ##e - based prime ##rs\", \"word\": \"sensitive\", \"stars\": \"5 stars\", \"brand\": \"Too Faced\", \"name\": \"Hangover Replenishing Face Primer\", \"type\": \"Primer\"}, {\"x\": -0.09231792, \"y\": 0.09319736, \"context\": \", but i guess it \\u2019 s not for my **sensitive** skin. i have been in the skin care business\", \"tokens\": \", but i guess it \\u2019 s not for my sensitive skin . i have been in the skin care business\", \"word\": \"sensitive\", \"stars\": \"4 stars\", \"brand\": \"Too Faced\", \"name\": \"Hangover Replenishing Face Primer\", \"type\": \"Primer\"}, {\"x\": -0.09459501, \"y\": 0.07523559, \"context\": \"!!!! wow so i have combination, **sensitive** skin and i'd been hearing a lot about\", \"tokens\": \"! ! ! ! wow so i have combination , sensitive skin and i ' d been hearing a lot about\", \"word\": \"sensitive\", \"stars\": \"1 star\", \"brand\": \"Too Faced\", \"name\": \"Hangover Replenishing Face Primer\", \"type\": \"Primer\"}, {\"x\": -0.092214026, \"y\": 0.10855684, \"context\": \"holding my makeup in place, but not for my **sensitive** skin. this didn 't work well with my\", \"tokens\": \"holding my makeup in place , but not for my sensitive skin . this didn ' t work well with my\", \"word\": \"sensitive\", \"stars\": null, \"brand\": null, \"name\": null, \"type\": null}, {\"x\": -0.082602434, \"y\": -0.00024634428, \"context\": \"in areas. it smells great. if you are **sensitive** to strong scents then you may want to avoid it\", \"tokens\": \"in areas . it smells great . if you are sensitive to strong scents then you may want to avoid it\", \"word\": \"sensitive\", \"stars\": \"3 stars\", \"brand\": \"Too Faced\", \"name\": \"Hangover Replenishing Face Primer\", \"type\": \"Primer\"}, {\"x\": -0.091718614, \"y\": 0.13387968, \"context\": \"\\u2026 read more great product! i have extremely dry **sensitive** eczema skin and this primer helps soothe\", \"tokens\": \"\\u2026 read more great product ! i have extremely dry sensitive ec ##ze ##ma skin and this prime ##r helps soothe\", \"word\": \"sensitive\", \"stars\": \"5 stars\", \"brand\": \"Too Faced\", \"name\": \"Hangover Replenishing Face Primer\", \"type\": \"Primer\"}, {\"x\": -0.09415756, \"y\": 0.11123947, \"context\": \"my combo / oily / acne prone / **sensitive** skin! i really like how my make up looks\", \"tokens\": \"my combo / oil ##y / ac ##ne prone / sensitive skin ! i really like how my make up looks\", \"word\": \"sensitive\", \"stars\": \"3 stars\", \"brand\": \"FENTY BEAUTY BY RIHANNA\", \"name\": \"Flyliner Longwear Liquid Eyeliner\", \"type\": \"Liquid Eyeliner\"}, {\"x\": -0.093764916, \"y\": 0.065383546, \"context\": \"objectives. i have very dry skin that is rather **sensitive**. i am not particularly acne prone, but\", \"tokens\": \"objectives . i have very dry skin that is rather sensitive . i am not particularly ac ##ne prone , but\", \"word\": \"sensitive\", \"stars\": \"4 stars\", \"brand\": \"Too Faced\", \"name\": \"Hangover Replenishing Face Primer\", \"type\": \"Primer\"}, {\"x\": -0.094817944, \"y\": 0.10090859, \"context\": \"on my face, but ultimately broke out my very **sensitive** skin and i had to stop using it. which\", \"tokens\": \"on my face , but ultimately broke out my very sensitive skin and i had to stop using it . which\", \"word\": \"sensitive\", \"stars\": \"3 stars\", \"brand\": \"Too Faced\", \"name\": \"Hangover Replenishing Face Primer\", \"type\": \"Primer\"}, {\"x\": -0.09414369, \"y\": 0.08379554, \"context\": \"reviews about it breaking people out, i have very **sensitive** acne prone skin and my skin has actually improved\", \"tokens\": \"reviews about it breaking people out , i have very sensitive ac ##ne prone skin and my skin has actually improved\", \"word\": \"sensitive\", \"stars\": \"5 stars\", \"brand\": \"Too Faced\", \"name\": \"Hangover Replenishing Face Primer\", \"type\": \"Primer\"}, {\"x\": -0.09372436, \"y\": 0.0888058, \"context\": \"or is it just me? i have tried their **sensitive** skin poreless primer and was not happy\", \"tokens\": \"or is it just me ? i have tried their sensitive skin por ##eles ##s prime ##r and was not happy\", \"word\": \"sensitive\", \"stars\": \"5 stars\", \"brand\": \"Too Faced\", \"name\": \"Hangover Replenishing Face Primer\", \"type\": \"Primer\"}, {\"x\": -0.09408218, \"y\": 0.1006408, \"context\": \"for me as well as very gentle on my sometimes **sensitive** skin. i now use this daily and love it\", \"tokens\": \"for me as well as very gentle on my sometimes sensitive skin . i now use this daily and love it\", \"word\": \"sensitive\", \"stars\": \"5 stars\", \"brand\": \"Too Faced\", \"name\": \"Hangover Replenishing Face Primer\", \"type\": \"Primer\"}, {\"x\": -0.09580996, \"y\": 0.07390143, \"context\": \"work for me, i don 't really have **sensitive** skin and it made me breakout in places that are\", \"tokens\": \"work for me , i don ' t really have sensitive skin and it made me breakout in places that are\", \"word\": \"sensitive\", \"stars\": \"1 star\", \"brand\": \"Too Faced\", \"name\": \"Hangover Replenishing Face Primer\", \"type\": \"Primer\"}, {\"x\": -0.09473225, \"y\": 0.103042044, \"context\": \"it smells like coconut and doesn 't make my **sensitive** skin break out like some primers do. absolutely\", \"tokens\": \"it smells like coconut and doesn ' t make my sensitive skin break out like some prime ##rs do . absolutely\", \"word\": \"sensitive\", \"stars\": \"5 stars\", \"brand\": \"Too Faced\", \"name\": \"Hangover Replenishing Face Primer\", \"type\": \"Primer\"}, {\"x\": -0.09204071, \"y\": 0.114255965, \"context\": \"lovee love loveee this! i suffer from **sensitive** combination skin that is severely dry during the winter months\", \"tokens\": \"love ##e love love ##ee this ! i suffer from sensitive combination skin that is severely dry during the winter months\", \"word\": \"sensitive\", \"stars\": \"5 stars\", \"brand\": \"Too Faced\", \"name\": \"Hangover Replenishing Face Primer\", \"type\": \"Primer\"}, {\"x\": -0.0906097, \"y\": 0.11189174, \"context\": \"the couple of years, my skin has gotten quite **sensitive**, and with that, quite dehydrated\", \"tokens\": \"the couple of years , my skin has gotten quite sensitive , and with that , quite de ##hy ##dra ##ted\", \"word\": \"sensitive\", \"stars\": \"2 stars\", \"brand\": \"Too Faced\", \"name\": \"Hangover Replenishing Face Primer\", \"type\": \"Primer\"}, {\"x\": -0.09185586, \"y\": 0.095236406, \"context\": \"doesn 't cause redness or irritation to my **sensitive** skin. i love the pump dispenser\", \"tokens\": \"doesn ' t cause red ##ness or irritation to my sensitive skin . i love the pump di ##sp ##ense ##r\", \"word\": \"sensitive\", \"stars\": \"5 stars\", \"brand\": \"Too Faced\", \"name\": \"Hangover Replenishing Face Primer\", \"type\": \"Primer\"}, {\"x\": -0.092353344, \"y\": 0.11683393, \"context\": \"t irritate or make my cranky / **sensitive** skin breakout! no silicones! works fantastic,\", \"tokens\": \"t ir ##rita ##te or make my crank ##y / sensitive skin breakout ! no silicon ##es ! works fantastic ,\", \"word\": \"sensitive\", \"stars\": \"5 stars\", \"brand\": \"Too Faced\", \"name\": \"Hangover Replenishing Face Primer\", \"type\": \"Primer\"}, {\"x\": -0.094010435, \"y\": 0.074819505, \"context\": \"and really gives my makeup staying power. i have **sensitive**, acne-prone skin and have had no\", \"tokens\": \"and really gives my makeup staying power . i have sensitive , ac ##ne - prone skin and have had no\", \"word\": \"sensitive\", \"stars\": \"5 stars\", \"brand\": \"Too Faced\", \"name\": \"Hangover Replenishing Face Primer\", \"type\": \"Primer\"}, {\"x\": -0.091438115, \"y\": 0.04580402, \"context\": \"it's a beautiful product. my skin is **sensitive** and reactive, no issues. in fact, i\", \"tokens\": \"it ' s a beautiful product . my skin is sensitive and reactive , no issues . in fact , i\", \"word\": \"sensitive\", \"stars\": \"5 stars\", \"brand\": \"Too Faced\", \"name\": \"Hangover Replenishing Face Primer\", \"type\": \"Primer\"}, {\"x\": -0.094262324, \"y\": 0.101362444, \"context\": \"primer i have ever used. i have combination **sensitive** skin so it can get dry randomly. other prime\", \"tokens\": \"prime ##r i have ever used . i have combination sensitive skin so it can get dry randomly . other prime\", \"word\": \"sensitive\", \"stars\": \"5 stars\", \"brand\": \"Too Faced\", \"name\": \"Hangover Replenishing Face Primer\", \"type\": \"Primer\"}, {\"x\": -0.09489846, \"y\": 0.085903086, \"context\": \"all while making my skin feel smooth. i have **sensitive** skin that literally flares up if i lightly rub\", \"tokens\": \"all while making my skin feel smooth . i have sensitive skin that literally flare ##s up if i lightly rub\", \"word\": \"sensitive\", \"stars\": \"5 stars\", \"brand\": \"Too Faced\", \"name\": \"Hangover Replenishing Face Primer\", \"type\": \"Primer\"}, {\"x\": -0.093400545, \"y\": 0.10889548, \"context\": \"super excited to try this product. my skin is **sensitive** and dry, so i thought coconut water sounded great\", \"tokens\": \"super excited to try this product . my skin is sensitive and dry , so i thought coconut water sounded great\", \"word\": \"sensitive\", \"stars\": \"2 stars\", \"brand\": \"Too Faced\", \"name\": \"Hangover Replenishing Face Primer\", \"type\": \"Primer\"}, {\"x\": -0.09124899, \"y\": 0.088103764, \"context\": \"all day even in 85 degree weather. i have **sensitive** oily skin and this is perfect for me.\", \"tokens\": \"all day even in 85 degree weather . i have sensitive oil ##y skin and this is perfect for me .\", \"word\": \"sensitive\", \"stars\": \"2 stars\", \"brand\": \"Too Faced\", \"name\": \"Better Than Sex Waterproof Mascara\", \"type\": \"Mascara\"}, {\"x\": -0.095220804, \"y\": 0.07769566, \"context\": \"y-i love this product-i also have **sensitive** skin and don 't like to wear too much\", \"tokens\": \"##y - i love this product - i also have sensitive skin and don ' t like to wear too much\", \"word\": \"sensitive\", \"stars\": \"5 stars\", \"brand\": \"Too Faced\", \"name\": \"Hangover Replenishing Face Primer\", \"type\": \"Primer\"}, {\"x\": -0.093128726, \"y\": 0.094073, \"context\": \"!! i would deff recommended if you have **sensitive** dry skin. it works wonders. i love how\", \"tokens\": \"! ! i would def ##f recommended if you have sensitive dry skin . it works wonders . i love how\", \"word\": \"sensitive\", \"stars\": \"5 stars\", \"brand\": \"Too Faced\", \"name\": \"Hangover Replenishing Face Primer\", \"type\": \"Primer\"}, {\"x\": -0.09326053, \"y\": 0.113088526, \"context\": \"lotion, which i love and soothes my **sensitive** skin. unlike with most of the silicone based\", \"tokens\": \"lot ##ion , which i love and soothe ##s my sensitive skin . unlike with most of the silicon ##e based\", \"word\": \"sensitive\", \"stars\": \"5 stars\", \"brand\": \"Too Faced\", \"name\": \"Hangover Replenishing Face Primer\", \"type\": \"Primer\"}, {\"x\": -0.09301159, \"y\": 0.12720583, \"context\": \". i have tried every primer for my combination **sensitive** skin. from ysl, to laura mercier\", \"tokens\": \". i have tried every prime ##r for my combination sensitive skin . from y ##sl , to laura mer ##cier\", \"word\": \"sensitive\", \"stars\": \"5 stars\", \"brand\": \"Too Faced\", \"name\": \"Hangover Replenishing Face Primer\", \"type\": \"Primer\"}, {\"x\": -0.08803437, \"y\": 0.08012955, \"context\": \"primers at all costs because my skin is super **sensitive** to silicones. i also have combination oil-\", \"tokens\": \"prime ##rs at all costs because my skin is super sensitive to silicon ##es . i also have combination oil -\", \"word\": \"sensitive\", \"stars\": \"5 stars\", \"brand\": \"Too Faced\", \"name\": \"Hangover Replenishing Face Primer\", \"type\": \"Primer\"}, {\"x\": -0.09330555, \"y\": 0.091711886, \"context\": \"dressed up and it's just amazing! having **sensitive**, highly allergic skin and rosacea, i was\", \"tokens\": \"dressed up and it ' s just amazing ! having sensitive , highly allergic skin and rosa ##cea , i was\", \"word\": \"sensitive\", \"stars\": \"5 stars\", \"brand\": \"Too Faced\", \"name\": \"Hangover Replenishing Face Primer\", \"type\": \"Primer\"}, {\"x\": -0.094840795, \"y\": 0.08268925, \"context\": \"how it made some people break out ( i have **sensitive** skin ), but i haven 't had any\", \"tokens\": \"how it made some people break out ( i have sensitive skin ) , but i haven ' t had any\", \"word\": \"sensitive\", \"stars\": \"5 stars\", \"brand\": \"Too Faced\", \"name\": \"Hangover Replenishing Face Primer\", \"type\": \"Primer\"}, {\"x\": -0.08689809, \"y\": 0.076459855, \"context\": \"my skin is oily and acne prone and **sensitive** to products. this goes on smooth like a lightweight\", \"tokens\": \"my skin is oil ##y and ac ##ne prone and sensitive to products . this goes on smooth like a lightweight\", \"word\": \"sensitive\", \"stars\": \"2 stars\", \"brand\": \"Urban Decay\", \"name\": \"Cannonball Ultra Waterproof Mascara\", \"type\": \"Mascara\"}, {\"x\": -0.095430374, \"y\": 0.09038012, \"context\": \"caking. it also is very nice formula for **sensitive** skin, it doesn 't have a strong scent\", \"tokens\": \"ca ##king . it also is very nice formula for sensitive skin , it doesn ' t have a strong scent\", \"word\": \"sensitive\", \"stars\": \"5 stars\", \"brand\": \"Too Faced\", \"name\": \"Hangover Replenishing Face Primer\", \"type\": \"Primer\"}, {\"x\": -0.09506046, \"y\": 0.09067078, \"context\": \"acne-prone, oily, or have **sensitive** skin! \\u2026 read more best primer for dry\", \"tokens\": \"ac ##ne - prone , oil ##y , or have sensitive skin ! \\u2026 read more best prime ##r for dry\", \"word\": \"sensitive\", \"stars\": null, \"brand\": null, \"name\": null, \"type\": null}, {\"x\": -0.09548752, \"y\": 0.091912106, \"context\": \". plus the scent is lovely. i have super **sensitive** skin and just about any type of lotion makes\", \"tokens\": \". plus the scent is lovely . i have super sensitive skin and just about any type of lot ##ion makes\", \"word\": \"sensitive\", \"stars\": \"5 stars\", \"brand\": \"Too Faced\", \"name\": \"Hangover Replenishing Face Primer\", \"type\": \"Primer\"}, {\"x\": -0.096061416, \"y\": 0.088270135, \"context\": \"makes my skin look great! i have dry, **sensitive** skin. this means i have to wear a moist\", \"tokens\": \"makes my skin look great ! i have dry , sensitive skin . this means i have to wear a moist\", \"word\": \"sensitive\", \"stars\": \"5 stars\", \"brand\": \"Too Faced\", \"name\": \"Hangover Replenishing Face Primer\", \"type\": \"Primer\"}, {\"x\": -0.09406723, \"y\": 0.096421495, \"context\": \"sunscreen. love this primer. i have **sensitive** skin too and no problems with this. light coconut\", \"tokens\": \"suns ##creen . love this prime ##r . i have sensitive skin too and no problems with this . light coconut\", \"word\": \"sensitive\", \"stars\": \"5 stars\", \"brand\": \"Too Faced\", \"name\": \"Hangover Replenishing Face Primer\", \"type\": \"Primer\"}, {\"x\": -0.09348804, \"y\": 0.094347805, \"context\": \"product is definitely not good for me i have very **sensitive** fair skin. i foolishly didn 't read\", \"tokens\": \"product is definitely not good for me i have very sensitive fair skin . i foolish ##ly didn ' t read\", \"word\": \"sensitive\", \"stars\": \"1 star\", \"brand\": \"Too Faced\", \"name\": \"Hangover Replenishing Face Primer\", \"type\": \"Primer\"}, {\"x\": -0.0954894, \"y\": 0.0612672, \"context\": \"one, it peaked my interest. since i have **sensitive** skin, i always read a number of reviews for\", \"tokens\": \"one , it peaked my interest . since i have sensitive skin , i always read a number of reviews for\", \"word\": \"sensitive\", \"stars\": \"5 stars\", \"brand\": \"Too Faced\", \"name\": \"Hangover Replenishing Face Primer\", \"type\": \"Primer\"}, {\"x\": -0.090845875, \"y\": -0.005225776, \"context\": \"waterline let alone lash line because i was so **sensitive**. could not keep my eyes open and would not\", \"tokens\": \"water ##line let alone lash line because i was so sensitive . could not keep my eyes open and would not\", \"word\": \"sensitive\", \"stars\": \"1 star\", \"brand\": \"Marc Jacobs\", \"name\": \"Highliner Gel Eye Crayon Eyeliner\", \"type\": \"Gel Eyeliner\"}, {\"x\": -0.09273771, \"y\": -0.100863226, \"context\": \"eyes open and would not recommend it for people with **sensitive** eyes. i have been trying out this pencil for\", \"tokens\": \"eyes open and would not recommend it for people with sensitive eyes . i have been trying out this pencil for\", \"word\": \"sensitive\", \"stars\": \"1 star\", \"brand\": \"Urban Decay\", \"name\": \"Cannonball Ultra Waterproof Mascara\", \"type\": \"Mascara\"}, {\"x\": -0.09698797, \"y\": -0.10117901, \"context\": \"lining my waterline for years and do not have **sensitive** eyes in general but for some reason i can '\", \"tokens\": \"lining my water ##line for years and do not have sensitive eyes in general but for some reason i can '\", \"word\": \"sensitive\", \"stars\": \"3 stars\", \"brand\": \"Marc Jacobs\", \"name\": \"Highliner Gel Eye Crayon Eyeliner\", \"type\": \"Gel Eyeliner\"}, {\"x\": -0.09329664, \"y\": -0.15384611, \"context\": \"t have any smudging. i have pretty **sensitive** eyes, and this didn 't bother them one\", \"tokens\": \"t have any sm ##ud ##ging . i have pretty sensitive eyes , and this didn ' t bother them one\", \"word\": \"sensitive\", \"stars\": \"5 stars\", \"brand\": \"Marc Jacobs\", \"name\": \"Highliner Gel Eye Crayon Eyeliner\", \"type\": \"Gel Eyeliner\"}, {\"x\": -0.09390428, \"y\": -0.093296655, \"context\": \"the hunt for something that 'll work with my **sensitive** eyes and oil-slick eyelids. i bought this\", \"tokens\": \"the hunt for something that ' ll work with my sensitive eyes and oil - slick eyelids . i bought this\", \"word\": \"sensitive\", \"stars\": \"4 stars\", \"brand\": \"Marc Jacobs\", \"name\": \"Highliner Gel Eye Crayon Eyeliner\", \"type\": \"Gel Eyeliner\"}, {\"x\": -0.09263314, \"y\": -0.12228323, \"context\": \". maybe i just have a dud and too **sensitive** eyes \\u2026 read more this is probably the 10th eye\", \"tokens\": \". maybe i just have a du ##d and too sensitive eyes \\u2026 read more this is probably the 10th eye\", \"word\": \"sensitive\", \"stars\": null, \"brand\": null, \"name\": null, \"type\": null}, {\"x\": -0.09634123, \"y\": -0.12080352, \"context\": \"... which is coming from someone with very **sensitive** eyes. i also use this to tightline with\", \"tokens\": \". . . which is coming from someone with very sensitive eyes . i also use this to tight ##line with\", \"word\": \"sensitive\", \"stars\": \"5 stars\", \"brand\": \"Marc Jacobs\", \"name\": \"Highliner Gel Eye Crayon Eyeliner\", \"type\": \"Gel Eyeliner\"}, {\"x\": -0.09341321, \"y\": -0.080861576, \"context\": \"fan of waterproof makeup since my eyes can be **sensitive** but this liner does not irritate my eyes\", \"tokens\": \"fan of water ##proof makeup since my eyes can be sensitive but this liner does not ir ##rita ##te my eyes\", \"word\": \"sensitive\", \"stars\": \"5 stars\", \"brand\": \"Marc Jacobs\", \"name\": \"Highliner Gel Eye Crayon Eyeliner\", \"type\": \"Gel Eyeliner\"}, {\"x\": -0.09340579, \"y\": -0.032906566, \"context\": \"let me first preface by stating that i have extremely **sensitive**, allergy-prone, and watery eyes.\", \"tokens\": \"let me first preface by stating that i have extremely sensitive , all ##ergy - prone , and watery eyes .\", \"word\": \"sensitive\", \"stars\": \"5 stars\", \"brand\": \"Marc Jacobs\", \"name\": \"Highliner Gel Eye Crayon Eyeliner\", \"type\": \"Gel Eyeliner\"}, {\"x\": -0.09295507, \"y\": -0.14374623, \"context\": \"'s fine. just a warning to those with **sensitive** eyes! i love the vibrance of the\", \"tokens\": \"' s fine . just a warning to those with sensitive eyes ! i love the vi ##bra ##nce of the\", \"word\": \"sensitive\", \"stars\": null, \"brand\": null, \"name\": null, \"type\": null}, {\"x\": -0.089241266, \"y\": -0.007205176, \"context\": \"the eyeliner on very difficult. i also have **sensitive** allergy prone eyes which is why i don '\", \"tokens\": \"the eye ##liner on very difficult . i also have sensitive all ##ergy prone eyes which is why i don '\", \"word\": \"sensitive\", \"stars\": \"5 stars\", \"brand\": \"Marc Jacobs\", \"name\": \"Highliner Gel Eye Crayon Eyeliner\", \"type\": \"Gel Eyeliner\"}, {\"x\": -0.093975544, \"y\": -0.07449951, \"context\": \"what to do? a few notes: i have **sensitive** eyes ( allergies ) that water terribly when\", \"tokens\": \"what to do ? a few notes : i have sensitive eyes ( all ##er ##gies ) that water terribly when\", \"word\": \"sensitive\", \"stars\": \"5 stars\", \"brand\": \"Marc Jacobs\", \"name\": \"Highliner Gel Eye Crayon Eyeliner\", \"type\": \"Gel Eyeliner\"}, {\"x\": -0.09582964, \"y\": -0.0325146, \"context\": \"recommend this for every day use to someone who has **sensitive** skin or eyes. recently received this as a birthday\", \"tokens\": \"recommend this for every day use to someone who has sensitive skin or eyes . recently received this as a birthday\", \"word\": \"sensitive\", \"stars\": \"3 stars\", \"brand\": \"Marc Jacobs\", \"name\": \"Highliner Gel Eye Crayon Eyeliner\", \"type\": \"Gel Eyeliner\"}, {\"x\": -0.09324803, \"y\": -0.1104699, \"context\": \"only eyeliner that does not irritate my **sensitive** eyes. my new favorite! i bought the high\", \"tokens\": \"only eye ##liner that does not ir ##rita ##te my sensitive eyes . my new favorite ! i bought the high\", \"word\": \"sensitive\", \"stars\": \"4 stars\", \"brand\": \"Marc Jacobs\", \"name\": \"Highliner Gel Eye Crayon Eyeliner\", \"type\": \"Gel Eyeliner\"}, {\"x\": -0.09548712, \"y\": -0.108144596, \"context\": \"only recommend this product to those who do not have **sensitive** eyes, or do not react to use of this\", \"tokens\": \"only recommend this product to those who do not have sensitive eyes , or do not react to use of this\", \"word\": \"sensitive\", \"stars\": \"5 stars\", \"brand\": \"Too Faced\", \"name\": \"Better Than Sex Mascara\", \"type\": \"Mascara\"}, {\"x\": -0.092504516, \"y\": -0.15363942, \"context\": \"on smooth, quick and creamy. i have extremely **sensitive** eyes and wear glasses, and a lot of liner\", \"tokens\": \"on smooth , quick and creamy . i have extremely sensitive eyes and wear glasses , and a lot of liner\", \"word\": \"sensitive\", \"stars\": \"5 stars\", \"brand\": \"Marc Jacobs\", \"name\": \"Highliner Gel Eye Crayon Eyeliner\", \"type\": \"Gel Eyeliner\"}, {\"x\": -0.09267179, \"y\": -0.108758606, \"context\": \". the very best. easy application and nice for **sensitive** eyes wow, i love this eyeliner! i\", \"tokens\": \". the very best . easy application and nice for sensitive eyes wow , i love this eye ##liner ! i\", \"word\": \"sensitive\", \"stars\": null, \"brand\": null, \"name\": null, \"type\": null}, {\"x\": -0.090080224, \"y\": -0.15870014, \"context\": \"and does not irritate my eyes which are **sensitive**. as eye liner goes, it's about\", \"tokens\": \"and does not ir ##rita ##te my eyes which are sensitive . as eye liner goes , it ' s about\", \"word\": \"sensitive\", \"stars\": \"4 stars\", \"brand\": \"Marc Jacobs\", \"name\": \"Highliner Gel Eye Crayon Eyeliner\", \"type\": \"Gel Eyeliner\"}, {\"x\": -0.07876819, \"y\": 0.02566637, \"context\": \"). i am not sure if this formula is **sensitive** to room temperature, but it was warm in the\", \"tokens\": \") . i am not sure if this formula is sensitive to room temperature , but it was warm in the\", \"word\": \"sensitive\", \"stars\": \"2 stars\", \"brand\": \"Marc Jacobs\", \"name\": \"Highliner Gel Eye Crayon Eyeliner\", \"type\": \"Gel Eyeliner\"}, {\"x\": -0.08594373, \"y\": 0.008540914, \"context\": \"-tip ( i recommend make up forever's **sensitive** eye remover. it's blue and so\", \"tokens\": \"- tip ( i recommend make up forever ' s sensitive eye remove ##r . it ' s blue and so\", \"word\": \"sensitive\", \"stars\": \"5 stars\", \"brand\": \"Dior\", \"name\": \"Diorshow Waterproof Mascara\", \"type\": \"Mascara\"}, {\"x\": -0.0943232, \"y\": 0.05446359, \"context\": \"as well. as far as being good for my **sensitive** skin: i accidentally stabbed myself in the eye twice\", \"tokens\": \"as well . as far as being good for my sensitive skin : i accidentally stabbed myself in the eye twice\", \"word\": \"sensitive\", \"stars\": \"5 stars\", \"brand\": \"Kat Von D\", \"name\": \"Tattoo Liner\", \"type\": \"Liquid Eyeliner\"}, {\"x\": -0.09304998, \"y\": -0.15948372, \"context\": \"black, last all day.. i have really **sensitive** eyes and this does not irratate at all\", \"tokens\": \"black , last all day . . i have really sensitive eyes and this does not ir ##rata ##te at all\", \"word\": \"sensitive\", \"stars\": \"5 stars\", \"brand\": \"Too Faced\", \"name\": \"Better Than Sex Waterproof Mascara\", \"type\": \"Mascara\"}, {\"x\": -0.08369599, \"y\": -0.08918257, \"context\": \"seen about this liner. \\u2026 read more i have **sensitive** easily irritated eyes and this does not bother them at\", \"tokens\": \"seen about this liner . \\u2026 read more i have sensitive easily irritated eyes and this does not bother them at\", \"word\": \"sensitive\", \"stars\": \"4 stars\", \"brand\": \"Too Faced\", \"name\": \"Hangover Replenishing Face Primer\", \"type\": \"Primer\"}, {\"x\": -0.096128225, \"y\": -0.104203545, \"context\": \"gets rid of it! \\u2026 read more i have **sensitive** eyes and with all other liquid eyeliners they\", \"tokens\": \"gets rid of it ! \\u2026 read more i have sensitive eyes and with all other liquid eye ##liner ##s they\", \"word\": \"sensitive\", \"stars\": \"5 stars\", \"brand\": \"Kat Von D\", \"name\": \"Tattoo Liner\", \"type\": \"Liquid Eyeliner\"}, {\"x\": -0.09498653, \"y\": -0.09854108, \"context\": \"eyeliner of all time. i 've got **sensitive** eyes and oily eyelids, so i 've\", \"tokens\": \"eye ##liner of all time . i ' ve got sensitive eyes and oil ##y eyelids , so i ' ve\", \"word\": \"sensitive\", \"stars\": \"4 stars\", \"brand\": \"Too Faced\", \"name\": \"Better Than Sex Mascara\", \"type\": \"Mascara\"}, {\"x\": -0.0941736, \"y\": -0.07817054, \"context\": \"'s brush tip is much more comfortable on my **sensitive** eyes than the felt tip on kat von d '\", \"tokens\": \"' s brush tip is much more comfortable on my sensitive eyes than the felt tip on kat von d '\", \"word\": \"sensitive\", \"stars\": \"4 stars\", \"brand\": \"Kat Von D\", \"name\": \"Tattoo Liner\", \"type\": \"Liquid Eyeliner\"}, {\"x\": -0.0925593, \"y\": -0.08569024, \"context\": \"first; if, for example, your eyes are **sensitive** and tend to tear up when you 're applying\", \"tokens\": \"first ; if , for example , your eyes are sensitive and tend to tear up when you ' re applying\", \"word\": \"sensitive\", \"stars\": \"4 stars\", \"brand\": \"Kat Von D\", \"name\": \"Tattoo Liner\", \"type\": \"Liquid Eyeliner\"}, {\"x\": -0.091421664, \"y\": -0.024554871, \"context\": \"ruin such a good thing? it can dry out **sensitive** eyelids. the consistency is pretty thick and you only\", \"tokens\": \"ruin such a good thing ? it can dry out sensitive eyelids . the consistency is pretty thick and you only\", \"word\": \"sensitive\", \"stars\": \"4 stars\", \"brand\": \"Urban Decay\", \"name\": \"Eyeshadow Primer Potion - Original\", \"type\": \"Eye Primer\"}, {\"x\": -0.09290974, \"y\": 0.08720223, \"context\": \"'s smooth and creamy and does not bother my **sensitive** skin. as for how well it works i have\", \"tokens\": \"' s smooth and creamy and does not bother my sensitive skin . as for how well it works i have\", \"word\": \"sensitive\", \"stars\": \"5 stars\", \"brand\": \"Urban Decay\", \"name\": \"Eyeshadow Primer Potion - Original\", \"type\": \"Eye Primer\"}, {\"x\": -0.093209974, \"y\": 0.07193099, \"context\": \"to heal for several days after. if you have **sensitive** skin, i would not recommend this product to you\", \"tokens\": \"to heal for several days after . if you have sensitive skin , i would not recommend this product to you\", \"word\": \"sensitive\", \"stars\": \"4 stars\", \"brand\": \"Too Faced\", \"name\": \"Hangover Replenishing Face Primer\", \"type\": \"Primer\"}, {\"x\": -0.09570573, \"y\": 0.020300766, \"context\": \"me. however, it is really harsh for the **sensitive** eyelid skin. i had no troubles at first\", \"tokens\": \"me . however , it is really harsh for the sensitive eye ##lid skin . i had no troubles at first\", \"word\": \"sensitive\", \"stars\": \"2 stars\", \"brand\": \"Urban Decay\", \"name\": \"Eyeshadow Primer Potion - Original\", \"type\": \"Eye Primer\"}, {\"x\": -0.0949726, \"y\": 0.053069264, \"context\": \"up but it is too harsh for my generally moderately **sensitive** skin. i 'm 32 so definitely at the\", \"tokens\": \"up but it is too harsh for my generally moderately sensitive skin . i ' m 32 so definitely at the\", \"word\": \"sensitive\", \"stars\": \"5 stars\", \"brand\": \"Too Faced\", \"name\": \"Hangover Replenishing Face Primer\", \"type\": \"Primer\"}, {\"x\": -0.09374073, \"y\": -0.046090066, \"context\": \"-aging version is much better. i have super **sensitive** eyelids and have reacted badly to other brands of prime\", \"tokens\": \"- aging version is much better . i have super sensitive eyelids and have reacted badly to other brands of prime\", \"word\": \"sensitive\", \"stars\": \"5 stars\", \"brand\": \"Urban Decay\", \"name\": \"Eyeshadow Primer Potion - Original\", \"type\": \"Eye Primer\"}, {\"x\": -0.09356989, \"y\": 0.054106966, \"context\": \"sure if sephora carries it yet but i have **sensitive** skin and it literally melts makeup away gently and\", \"tokens\": \"sure if sep ##hora carries it yet but i have sensitive skin and it literally melt ##s makeup away gently and\", \"word\": \"sensitive\", \"stars\": \"5 stars\", \"brand\": \"Urban Decay\", \"name\": \"Eyeshadow Primer Potion - Original\", \"type\": \"Eye Primer\"}, {\"x\": -0.09180355, \"y\": 0.048008345, \"context\": \"already sampling at the store. my entire body is **sensitive**, so i had to be real careful & pic\", \"tokens\": \"already sampling at the store . my entire body is sensitive , so i had to be real careful & pic\", \"word\": \"sensitive\", \"stars\": \"5 stars\", \"brand\": \"Stila\", \"name\": \"Stay All Day\\u00ae Waterproof Liquid Eye Liner\", \"type\": \"Liquid Eyeliner\"}, {\"x\": -0.09377841, \"y\": -0.10056143, \"context\": \"this pen, and it doesn 't bother my **sensitive** eyes!!! will repurchase this great\", \"tokens\": \"this pen , and it doesn ' t bother my sensitive eyes ! ! ! will rep ##ur ##chase this great\", \"word\": \"sensitive\", \"stars\": \"5 stars\", \"brand\": \"Stila\", \"name\": \"Stay All Day\\u00ae Waterproof Liquid Eye Liner\", \"type\": \"Liquid Eyeliner\"}, {\"x\": -0.096749984, \"y\": -0.08760649, \"context\": \"amazing for many reasons: 1. i have extremely **sensitive** eyes and it doesn 't even tingle when i\", \"tokens\": \"amazing for many reasons : 1 . i have extremely sensitive eyes and it doesn ' t even tingle when i\", \"word\": \"sensitive\", \"stars\": \"5 stars\", \"brand\": \"Stila\", \"name\": \"Stay All Day\\u00ae Waterproof Liquid Eye Liner\", \"type\": \"Liquid Eyeliner\"}, {\"x\": -0.09156556, \"y\": -0.15727332, \"context\": \"'t be disappointed! also-i have very **sensitive** eyes, and this product has not caused any problems\", \"tokens\": \"' t be disappointed ! also - i have very sensitive eyes , and this product has not caused any problems\", \"word\": \"sensitive\", \"stars\": \"5 stars\", \"brand\": \"Urban Decay\", \"name\": \"Eyeshadow Primer Potion - Original\", \"type\": \"Eye Primer\"}, {\"x\": -0.09085739, \"y\": -0.103288114, \"context\": \"hypoallergenic, my eyes are very **sensitive** and this eyeliner does not irritate them\", \"tokens\": \"h ##yp ##oa ##ller ##genic , my eyes are very sensitive and this eye ##liner does not ir ##rita ##te them\", \"word\": \"sensitive\", \"stars\": \"5 stars\", \"brand\": \"FENTY BEAUTY BY RIHANNA\", \"name\": \"Flyliner Longwear Liquid Eyeliner\", \"type\": \"Liquid Eyeliner\"}, {\"x\": -0.09459563, \"y\": -0.07414478, \"context\": \"all kinds of eyeliner. my eyes are really **sensitive** and i my eyes randomly start crying through out the\", \"tokens\": \"all kinds of eye ##liner . my eyes are really sensitive and i my eyes randomly start crying through out the\", \"word\": \"sensitive\", \"stars\": \"5 stars\", \"brand\": \"Stila\", \"name\": \"Stay All Day\\u00ae Waterproof Liquid Eye Liner\", \"type\": \"Liquid Eyeliner\"}, {\"x\": -0.09166449, \"y\": -0.10962448, \"context\": \"plus, it doesn 't irritate my **sensitive** eyes. it's worth every penny. as\", \"tokens\": \"plus , it doesn ' t ir ##rita ##te my sensitive eyes . it ' s worth every penny . as\", \"word\": \"sensitive\", \"stars\": \"5 stars\", \"brand\": \"Urban Decay\", \"name\": \"Cannonball Ultra Waterproof Mascara\", \"type\": \"Mascara\"}, {\"x\": -0.09639893, \"y\": -0.112270296, \"context\": \"waterproof eyeliner that stays put. i have **sensitive** eyes and this does not burn. no racco\", \"tokens\": \"water ##proof eye ##liner that stays put . i have sensitive eyes and this does not burn . no ra ##cco\", \"word\": \"sensitive\", \"stars\": \"5 stars\", \"brand\": \"Kat Von D\", \"name\": \"Tattoo Liner\", \"type\": \"Liquid Eyeliner\"}, {\"x\": -0.09604219, \"y\": 0.08076226, \"context\": \"best products ive ever bought! i have really **sensitive** skin and it breaks out or gets irritated pretty easily\", \"tokens\": \"best products iv ##e ever bought ! i have really sensitive skin and it breaks out or gets irritated pretty easily\", \"word\": \"sensitive\", \"stars\": \"1 star\", \"brand\": \"Too Faced\", \"name\": \"Hangover Replenishing Face Primer\", \"type\": \"Primer\"}, {\"x\": -0.09530881, \"y\": 0.07091946, \"context\": \"but it \\u2019 s a great product! i have **sensitive** skin and have always struggled to find the right products\", \"tokens\": \"but it \\u2019 s a great product ! i have sensitive skin and have always struggled to find the right products\", \"word\": \"sensitive\", \"stars\": \"5 stars\", \"brand\": \"Marc Jacobs\", \"name\": \"Highliner Gel Eye Crayon Eyeliner\", \"type\": \"Gel Eyeliner\"}, {\"x\": -0.09392861, \"y\": 0.100047275, \"context\": \"make me break out so it's good for **sensitive** skin! i 'll be buying this again!\", \"tokens\": \"make me break out so it ' s good for sensitive skin ! i ' ll be buying this again !\", \"word\": \"sensitive\", \"stars\": \"5 stars\", \"brand\": \"Dior\", \"name\": \"Diorshow Waterproof Mascara\", \"type\": \"Mascara\"}, {\"x\": -0.084994905, \"y\": 0.10722027, \"context\": \". since then, my body has become very heat **sensitive**. even in the dead of winter, i experience\", \"tokens\": \". since then , my body has become very heat sensitive . even in the dead of winter , i experience\", \"word\": \"sensitive\", \"stars\": \"5 stars\", \"brand\": \"Urban Decay\", \"name\": \"All Nighter Long-Lasting Makeup Setting Spray\", \"type\": \"Setting Spray\"}, {\"x\": -0.09272095, \"y\": 0.07587404, \"context\": \"i have normal to dry skin that's very **sensitive** & this product does not dry out or irrita\", \"tokens\": \"i have normal to dry skin that ' s very sensitive & this product does not dry out or ir ##rita\", \"word\": \"sensitive\", \"stars\": \"5 stars\", \"brand\": \"Kat Von D\", \"name\": \"Tattoo Liner\", \"type\": \"Liquid Eyeliner\"}, {\"x\": -0.09453121, \"y\": 0.09594153, \"context\": \"at the end of the shift. i have extremely **sensitive** skin that is acne prone, and this has\", \"tokens\": \"at the end of the shift . i have extremely sensitive skin that is ac ##ne prone , and this has\", \"word\": \"sensitive\", \"stars\": \"5 stars\", \"brand\": \"Urban Decay\", \"name\": \"All Nighter Long-Lasting Makeup Setting Spray\", \"type\": \"Setting Spray\"}, {\"x\": -0.09364368, \"y\": 0.08321355, \"context\": \"-greasy, didn 't irritate my **sensitive** skin, and i didn 't notice any fragrance\", \"tokens\": \"- greasy , didn ' t ir ##rita ##te my sensitive skin , and i didn ' t notice any fragrance\", \"word\": \"sensitive\", \"stars\": \"3 stars\", \"brand\": \"Too Faced\", \"name\": \"Better Than Sex Waterproof Mascara\", \"type\": \"Mascara\"}, {\"x\": -0.09407067, \"y\": 0.09694227, \"context\": \"skin itchy. i returned it sadly. my **sensitive** skin doesn 't seem to care much for it\", \"tokens\": \"skin it ##chy . i returned it sadly . my sensitive skin doesn ' t seem to care much for it\", \"word\": \"sensitive\", \"stars\": \"3 stars\", \"brand\": \"Too Faced\", \"name\": \"Better Than Sex Mascara\", \"type\": \"Mascara\"}, {\"x\": -0.09526073, \"y\": 0.06510607, \"context\": \"t do anything for me. i have combination, **sensitive** skin and live in a pretty humid environment ( houston\", \"tokens\": \"t do anything for me . i have combination , sensitive skin and live in a pretty humid environment ( houston\", \"word\": \"sensitive\", \"stars\": \"1 star\", \"brand\": \"Urban Decay\", \"name\": \"All Nighter Long-Lasting Makeup Setting Spray\", \"type\": \"Setting Spray\"}, {\"x\": -0.088630594, \"y\": 0.07952624, \"context\": \"still work for girls with less acne prone / **sensitive** skin. i submitted a similar review of this product\", \"tokens\": \"still work for girls with less ac ##ne prone / sensitive skin . i submitted a similar review of this product\", \"word\": \"sensitive\", \"stars\": \"1 star\", \"brand\": \"Urban Decay\", \"name\": \"All Nighter Long-Lasting Makeup Setting Spray\", \"type\": \"Setting Spray\"}, {\"x\": -0.088118926, \"y\": 0.06806254, \"context\": \"hopefully this review will, since it may help other **sensitive** skin girls avoid a major breakout. \\u2026 read more\", \"tokens\": \"hopefully this review will , since it may help other sensitive skin girls avoid a major breakout . \\u2026 read more\", \"word\": \"sensitive\", \"stars\": \"1 star\", \"brand\": \"Urban Decay\", \"name\": \"All Nighter Long-Lasting Makeup Setting Spray\", \"type\": \"Setting Spray\"}, {\"x\": -0.09383826, \"y\": 0.08551074, \"context\": \"it everyday!! i 'm asian, super **sensitive**, oily, acne prone skin and i\", \"tokens\": \"it everyday ! ! i ' m asian , super sensitive , oil ##y , ac ##ne prone skin and i\", \"word\": \"sensitive\", \"stars\": \"5 stars\", \"brand\": \"Too Faced\", \"name\": \"Hangover Replenishing Face Primer\", \"type\": \"Primer\"}]}}, {\"mode\": \"vega-lite\"});\n",
              "</script>"
            ],
            "text/plain": [
              "alt.Chart(...)"
            ]
          },
          "metadata": {},
          "execution_count": 59
        }
      ]
    },
    {
      "cell_type": "markdown",
      "metadata": {
        "id": "4yycYqe4W-MI"
      },
      "source": [
        "The plot above displays a preview of our later results. This is what we're working toward!\n",
        "\n",
        "You can hover over each point to see the instance of each word in context."
      ]
    },
    {
      "cell_type": "markdown",
      "metadata": {
        "id": "y73xWUkpU1AC"
      },
      "source": [
        "<br><br><br><br>\n",
        "\n",
        "## **Import necessary Python libraries and modules**"
      ]
    },
    {
      "cell_type": "markdown",
      "metadata": {
        "id": "4N0RIalt28yL"
      },
      "source": [
        "Ok enough introduction! Let's get started.\n",
        "\n",
        "To use the HuggingFace [`transformers` Python library](https://huggingface.co/transformers/installation.html), we first need to install it with `pip`."
      ]
    },
    {
      "cell_type": "code",
      "metadata": {
        "colab": {
          "base_uri": "https://localhost:8080/"
        },
        "id": "mz4lRqP0umyq",
        "outputId": "45f50125-7bf0-4baf-de56-4dbbd0c9d1e2"
      },
      "source": [
        "!pip install transformers"
      ],
      "execution_count": null,
      "outputs": [
        {
          "output_type": "stream",
          "name": "stdout",
          "text": [
            "Looking in indexes: https://pypi.org/simple, https://us-python.pkg.dev/colab-wheels/public/simple/\n",
            "Collecting transformers\n",
            "  Downloading transformers-4.19.2-py3-none-any.whl (4.2 MB)\n",
            "\u001b[K     |████████████████████████████████| 4.2 MB 4.3 MB/s \n",
            "\u001b[?25hRequirement already satisfied: numpy>=1.17 in /usr/local/lib/python3.7/dist-packages (from transformers) (1.21.6)\n",
            "Requirement already satisfied: packaging>=20.0 in /usr/local/lib/python3.7/dist-packages (from transformers) (21.3)\n",
            "Requirement already satisfied: filelock in /usr/local/lib/python3.7/dist-packages (from transformers) (3.7.0)\n",
            "Requirement already satisfied: tqdm>=4.27 in /usr/local/lib/python3.7/dist-packages (from transformers) (4.64.0)\n",
            "Collecting tokenizers!=0.11.3,<0.13,>=0.11.1\n",
            "  Downloading tokenizers-0.12.1-cp37-cp37m-manylinux_2_12_x86_64.manylinux2010_x86_64.whl (6.6 MB)\n",
            "\u001b[K     |████████████████████████████████| 6.6 MB 40.9 MB/s \n",
            "\u001b[?25hRequirement already satisfied: requests in /usr/local/lib/python3.7/dist-packages (from transformers) (2.23.0)\n",
            "Collecting huggingface-hub<1.0,>=0.1.0\n",
            "  Downloading huggingface_hub-0.7.0-py3-none-any.whl (86 kB)\n",
            "\u001b[K     |████████████████████████████████| 86 kB 3.3 MB/s \n",
            "\u001b[?25hRequirement already satisfied: regex!=2019.12.17 in /usr/local/lib/python3.7/dist-packages (from transformers) (2019.12.20)\n",
            "Collecting pyyaml>=5.1\n",
            "  Downloading PyYAML-6.0-cp37-cp37m-manylinux_2_5_x86_64.manylinux1_x86_64.manylinux_2_12_x86_64.manylinux2010_x86_64.whl (596 kB)\n",
            "\u001b[K     |████████████████████████████████| 596 kB 54.1 MB/s \n",
            "\u001b[?25hRequirement already satisfied: importlib-metadata in /usr/local/lib/python3.7/dist-packages (from transformers) (4.11.4)\n",
            "Requirement already satisfied: typing-extensions>=3.7.4.3 in /usr/local/lib/python3.7/dist-packages (from huggingface-hub<1.0,>=0.1.0->transformers) (4.2.0)\n",
            "Requirement already satisfied: pyparsing!=3.0.5,>=2.0.2 in /usr/local/lib/python3.7/dist-packages (from packaging>=20.0->transformers) (3.0.9)\n",
            "Requirement already satisfied: zipp>=0.5 in /usr/local/lib/python3.7/dist-packages (from importlib-metadata->transformers) (3.8.0)\n",
            "Requirement already satisfied: certifi>=2017.4.17 in /usr/local/lib/python3.7/dist-packages (from requests->transformers) (2022.5.18.1)\n",
            "Requirement already satisfied: urllib3!=1.25.0,!=1.25.1,<1.26,>=1.21.1 in /usr/local/lib/python3.7/dist-packages (from requests->transformers) (1.24.3)\n",
            "Requirement already satisfied: idna<3,>=2.5 in /usr/local/lib/python3.7/dist-packages (from requests->transformers) (2.10)\n",
            "Requirement already satisfied: chardet<4,>=3.0.2 in /usr/local/lib/python3.7/dist-packages (from requests->transformers) (3.0.4)\n",
            "Installing collected packages: pyyaml, tokenizers, huggingface-hub, transformers\n",
            "  Attempting uninstall: pyyaml\n",
            "    Found existing installation: PyYAML 3.13\n",
            "    Uninstalling PyYAML-3.13:\n",
            "      Successfully uninstalled PyYAML-3.13\n",
            "Successfully installed huggingface-hub-0.7.0 pyyaml-6.0 tokenizers-0.12.1 transformers-4.19.2\n"
          ]
        }
      ]
    },
    {
      "cell_type": "markdown",
      "metadata": {
        "id": "BJ9kmfrO3M_w"
      },
      "source": [
        "Then we will import the DistilBertModel and DistilBertTokenizerFast from the Hugging Face `transformers` library. We will also import a handful of other Python libraries and modules."
      ]
    },
    {
      "cell_type": "code",
      "metadata": {
        "id": "6lcEPhcuV9f5"
      },
      "source": [
        "# For BERT\n",
        "from transformers import DistilBertTokenizerFast, DistilBertModel\n",
        "\n",
        "# For data manipulation and analysis\n",
        "import pandas as pd\n",
        "pd.options.display.max_colwidth = 200\n",
        "import numpy as np\n",
        "from sklearn.decomposition import PCA\n",
        "\n",
        "# For interactive data visualization\n",
        "import altair as alt"
      ],
      "execution_count": null,
      "outputs": []
    },
    {
      "cell_type": "code",
      "source": [
        "from collections import defaultdict\n",
        "import random\n",
        "import json\n",
        "from urllib.request import urlopen"
      ],
      "metadata": {
        "id": "fMx098zNy50f"
      },
      "execution_count": null,
      "outputs": []
    },
    {
      "cell_type": "markdown",
      "metadata": {
        "id": "P_C4hiuqvt5L"
      },
      "source": [
        "<br><br><br><br>\n",
        "\n",
        "## **Load text dataset**"
      ]
    },
    {
      "cell_type": "markdown",
      "metadata": {
        "id": "KwZzU8bA2MU-"
      },
      "source": [
        "Below we will read in a number of JSON files that contain the Sephora reviews. This is simply how we've chosen to load our data, and any way that you are comfortable lodaing data should work for this step. In the end, all you really need is a list of texts."
      ]
    },
    {
      "cell_type": "code",
      "source": [
        "# dataset_url = 'https://raw.githubusercontent.com/everestpipkin/datagardens/master/students/khanniie/5_newDataSet/crying_dataset.json'\n",
        "\n",
        "dataset_urls = ['https://raw.githubusercontent.com/everestpipkin/datagardens/master/students/khanniie/5_newDataSet/all_json/better_than_sex.json',\n",
        "                'https://raw.githubusercontent.com/everestpipkin/datagardens/master/students/khanniie/5_newDataSet/all_json/better_than_sex_waterproof.json',\n",
        "                'https://raw.githubusercontent.com/everestpipkin/datagardens/master/students/khanniie/5_newDataSet/all_json/cannonball.json',\n",
        "                'https://raw.githubusercontent.com/everestpipkin/datagardens/master/students/khanniie/5_newDataSet/all_json/diorshow_waterproof.json',\n",
        "                'https://raw.githubusercontent.com/everestpipkin/datagardens/master/students/khanniie/5_newDataSet/all_json/emotionproof.json',\n",
        "                'https://raw.githubusercontent.com/everestpipkin/datagardens/master/students/khanniie/5_newDataSet/all_json/fenty.json',\n",
        "                'https://raw.githubusercontent.com/everestpipkin/datagardens/master/students/khanniie/5_newDataSet/all_json/hangover_primer.json',\n",
        "                'https://raw.githubusercontent.com/everestpipkin/datagardens/master/students/khanniie/5_newDataSet/all_json/highliner.json',\n",
        "                'https://raw.githubusercontent.com/everestpipkin/datagardens/master/students/khanniie/5_newDataSet/all_json/kat_von_d_tattoo_liner.json',\n",
        "                # 'https://raw.githubusercontent.com/everestpipkin/datagardens/master/students/khanniie/5_newDataSet/all_json/kvd_inkwell_longwear.json',\n",
        "                'https://raw.githubusercontent.com/everestpipkin/datagardens/master/students/khanniie/5_newDataSet/all_json/primer.json',\n",
        "                'https://raw.githubusercontent.com/everestpipkin/datagardens/master/students/khanniie/5_newDataSet/all_json/stila_waterproof_eyeliner.json',\n",
        "                'https://raw.githubusercontent.com/everestpipkin/datagardens/master/students/khanniie/5_newDataSet/all_json/urban_decay_setting_spray.json']"
      ],
      "metadata": {
        "id": "lURLLv6M92IF"
      },
      "execution_count": null,
      "outputs": []
    },
    {
      "cell_type": "code",
      "source": [
        "# Read in each dataset and merged together\n",
        "df_list = []\n",
        "for _url in dataset_urls:\n",
        "  # _json = pd.read_json(_url)\n",
        "  print(_url)\n",
        "  _df = pd.DataFrame(pd.read_json(_url)['reviews'].tolist())\n",
        "  _json = json.loads(urlopen(_url).read()) \n",
        "  _df['brand'] = _json['brand']\n",
        "  _df['name'] = _json['product_name']\n",
        "  _df['type'] =  _json['product_type']\n",
        "  _df['url'] = _json['url']\n",
        "  df_list.append(_df)\n",
        "\n",
        "reviews_df = pd.concat(df_list)\n",
        "\n",
        "len(reviews_df.index)"
      ],
      "metadata": {
        "colab": {
          "base_uri": "https://localhost:8080/"
        },
        "id": "IiuRcz9sx9Eg",
        "outputId": "2cea8376-efdb-4082-b7cf-393044319271"
      },
      "execution_count": null,
      "outputs": [
        {
          "output_type": "stream",
          "name": "stdout",
          "text": [
            "https://raw.githubusercontent.com/everestpipkin/datagardens/master/students/khanniie/5_newDataSet/all_json/better_than_sex.json\n",
            "https://raw.githubusercontent.com/everestpipkin/datagardens/master/students/khanniie/5_newDataSet/all_json/better_than_sex_waterproof.json\n",
            "https://raw.githubusercontent.com/everestpipkin/datagardens/master/students/khanniie/5_newDataSet/all_json/cannonball.json\n",
            "https://raw.githubusercontent.com/everestpipkin/datagardens/master/students/khanniie/5_newDataSet/all_json/diorshow_waterproof.json\n",
            "https://raw.githubusercontent.com/everestpipkin/datagardens/master/students/khanniie/5_newDataSet/all_json/emotionproof.json\n",
            "https://raw.githubusercontent.com/everestpipkin/datagardens/master/students/khanniie/5_newDataSet/all_json/fenty.json\n",
            "https://raw.githubusercontent.com/everestpipkin/datagardens/master/students/khanniie/5_newDataSet/all_json/hangover_primer.json\n",
            "https://raw.githubusercontent.com/everestpipkin/datagardens/master/students/khanniie/5_newDataSet/all_json/highliner.json\n",
            "https://raw.githubusercontent.com/everestpipkin/datagardens/master/students/khanniie/5_newDataSet/all_json/kat_von_d_tattoo_liner.json\n",
            "https://raw.githubusercontent.com/everestpipkin/datagardens/master/students/khanniie/5_newDataSet/all_json/primer.json\n",
            "https://raw.githubusercontent.com/everestpipkin/datagardens/master/students/khanniie/5_newDataSet/all_json/stila_waterproof_eyeliner.json\n",
            "https://raw.githubusercontent.com/everestpipkin/datagardens/master/students/khanniie/5_newDataSet/all_json/urban_decay_setting_spray.json\n"
          ]
        },
        {
          "output_type": "execute_result",
          "data": {
            "text/plain": [
              "5018"
            ]
          },
          "metadata": {},
          "execution_count": 6
        }
      ]
    },
    {
      "cell_type": "markdown",
      "source": [
        "Let's look at a sample of reviews"
      ],
      "metadata": {
        "id": "8-vlqN5513iN"
      }
    },
    {
      "cell_type": "code",
      "source": [
        "reviews_df.sample(3)"
      ],
      "metadata": {
        "colab": {
          "base_uri": "https://localhost:8080/",
          "height": 396
        },
        "id": "RLiI_QZy-G8R",
        "outputId": "84e896a4-ddb6-49f8-9518-e4ea3249e50f"
      },
      "execution_count": null,
      "outputs": [
        {
          "output_type": "execute_result",
          "data": {
            "text/plain": [
              "           extra_info    stars         date  \\\n",
              "288  <b>Age</b> 25-34  5 stars   5 Oct 2014   \n",
              "339  <b>Age</b> 18-24  5 stars  13 Oct 2014   \n",
              "502  <b>Age</b> 25-34  4 stars  26 Dec 2015   \n",
              "\n",
              "                                                                            title  \\\n",
              "288                                                              Some good stuff!   \n",
              "339  This is the PERFECT eyeliner for the waterline because is last all day long.   \n",
              "502                                                           great volume, but..   \n",
              "\n",
              "                                                                                                                                                                                                 description  \\\n",
              "288  This primer definitely keeps my eye shadow in place. So much so that I wish I could find a FACE primer that works as well as this does!\\nI'd originally received a small sample of a variety of UD p...   \n",
              "339                                                                                                                                                                                                            \n",
              "502  This mascara is hands down the best mascara I've used in regards to volume and blackness. It almost gives my lashes a falsie look, without the feel of false lashes (I HATE falsies). Love the shape...   \n",
              "\n",
              "           brand                                name          type  \\\n",
              "288  Urban Decay  Eyeshadow Primer Potion - Original    Eye Primer   \n",
              "339  Marc Jacobs   Highliner Gel Eye Crayon Eyeliner  Gel Eyeliner   \n",
              "502    Too Faced             Better Than Sex Mascara       Mascara   \n",
              "\n",
              "                                                                                                             url  \n",
              "288  https://www.sephora.com/product/eyeshadow-primer-potion-tube-original-P284716?icid2=products%20grid:p284716  \n",
              "339                   https://www.sephora.com/product/highliner-gel-crayon-P379434?icid2=products%20grid:p379434  \n",
              "502                https://www.sephora.com/product/better-than-sex-mascara-P381000?icid2=products%20grid:p381000  "
            ],
            "text/html": [
              "\n",
              "  <div id=\"df-4a05a155-1bbb-4d92-96ff-0e78a59ae813\">\n",
              "    <div class=\"colab-df-container\">\n",
              "      <div>\n",
              "<style scoped>\n",
              "    .dataframe tbody tr th:only-of-type {\n",
              "        vertical-align: middle;\n",
              "    }\n",
              "\n",
              "    .dataframe tbody tr th {\n",
              "        vertical-align: top;\n",
              "    }\n",
              "\n",
              "    .dataframe thead th {\n",
              "        text-align: right;\n",
              "    }\n",
              "</style>\n",
              "<table border=\"1\" class=\"dataframe\">\n",
              "  <thead>\n",
              "    <tr style=\"text-align: right;\">\n",
              "      <th></th>\n",
              "      <th>extra_info</th>\n",
              "      <th>stars</th>\n",
              "      <th>date</th>\n",
              "      <th>title</th>\n",
              "      <th>description</th>\n",
              "      <th>brand</th>\n",
              "      <th>name</th>\n",
              "      <th>type</th>\n",
              "      <th>url</th>\n",
              "    </tr>\n",
              "  </thead>\n",
              "  <tbody>\n",
              "    <tr>\n",
              "      <th>288</th>\n",
              "      <td>&lt;b&gt;Age&lt;/b&gt; 25-34</td>\n",
              "      <td>5 stars</td>\n",
              "      <td>5 Oct 2014</td>\n",
              "      <td>Some good stuff!</td>\n",
              "      <td>This primer definitely keeps my eye shadow in place. So much so that I wish I could find a FACE primer that works as well as this does!\\nI'd originally received a small sample of a variety of UD p...</td>\n",
              "      <td>Urban Decay</td>\n",
              "      <td>Eyeshadow Primer Potion - Original</td>\n",
              "      <td>Eye Primer</td>\n",
              "      <td>https://www.sephora.com/product/eyeshadow-primer-potion-tube-original-P284716?icid2=products%20grid:p284716</td>\n",
              "    </tr>\n",
              "    <tr>\n",
              "      <th>339</th>\n",
              "      <td>&lt;b&gt;Age&lt;/b&gt; 18-24</td>\n",
              "      <td>5 stars</td>\n",
              "      <td>13 Oct 2014</td>\n",
              "      <td>This is the PERFECT eyeliner for the waterline because is last all day long.</td>\n",
              "      <td></td>\n",
              "      <td>Marc Jacobs</td>\n",
              "      <td>Highliner Gel Eye Crayon Eyeliner</td>\n",
              "      <td>Gel Eyeliner</td>\n",
              "      <td>https://www.sephora.com/product/highliner-gel-crayon-P379434?icid2=products%20grid:p379434</td>\n",
              "    </tr>\n",
              "    <tr>\n",
              "      <th>502</th>\n",
              "      <td>&lt;b&gt;Age&lt;/b&gt; 25-34</td>\n",
              "      <td>4 stars</td>\n",
              "      <td>26 Dec 2015</td>\n",
              "      <td>great volume, but..</td>\n",
              "      <td>This mascara is hands down the best mascara I've used in regards to volume and blackness. It almost gives my lashes a falsie look, without the feel of false lashes (I HATE falsies). Love the shape...</td>\n",
              "      <td>Too Faced</td>\n",
              "      <td>Better Than Sex Mascara</td>\n",
              "      <td>Mascara</td>\n",
              "      <td>https://www.sephora.com/product/better-than-sex-mascara-P381000?icid2=products%20grid:p381000</td>\n",
              "    </tr>\n",
              "  </tbody>\n",
              "</table>\n",
              "</div>\n",
              "      <button class=\"colab-df-convert\" onclick=\"convertToInteractive('df-4a05a155-1bbb-4d92-96ff-0e78a59ae813')\"\n",
              "              title=\"Convert this dataframe to an interactive table.\"\n",
              "              style=\"display:none;\">\n",
              "        \n",
              "  <svg xmlns=\"http://www.w3.org/2000/svg\" height=\"24px\"viewBox=\"0 0 24 24\"\n",
              "       width=\"24px\">\n",
              "    <path d=\"M0 0h24v24H0V0z\" fill=\"none\"/>\n",
              "    <path d=\"M18.56 5.44l.94 2.06.94-2.06 2.06-.94-2.06-.94-.94-2.06-.94 2.06-2.06.94zm-11 1L8.5 8.5l.94-2.06 2.06-.94-2.06-.94L8.5 2.5l-.94 2.06-2.06.94zm10 10l.94 2.06.94-2.06 2.06-.94-2.06-.94-.94-2.06-.94 2.06-2.06.94z\"/><path d=\"M17.41 7.96l-1.37-1.37c-.4-.4-.92-.59-1.43-.59-.52 0-1.04.2-1.43.59L10.3 9.45l-7.72 7.72c-.78.78-.78 2.05 0 2.83L4 21.41c.39.39.9.59 1.41.59.51 0 1.02-.2 1.41-.59l7.78-7.78 2.81-2.81c.8-.78.8-2.07 0-2.86zM5.41 20L4 18.59l7.72-7.72 1.47 1.35L5.41 20z\"/>\n",
              "  </svg>\n",
              "      </button>\n",
              "      \n",
              "  <style>\n",
              "    .colab-df-container {\n",
              "      display:flex;\n",
              "      flex-wrap:wrap;\n",
              "      gap: 12px;\n",
              "    }\n",
              "\n",
              "    .colab-df-convert {\n",
              "      background-color: #E8F0FE;\n",
              "      border: none;\n",
              "      border-radius: 50%;\n",
              "      cursor: pointer;\n",
              "      display: none;\n",
              "      fill: #1967D2;\n",
              "      height: 32px;\n",
              "      padding: 0 0 0 0;\n",
              "      width: 32px;\n",
              "    }\n",
              "\n",
              "    .colab-df-convert:hover {\n",
              "      background-color: #E2EBFA;\n",
              "      box-shadow: 0px 1px 2px rgba(60, 64, 67, 0.3), 0px 1px 3px 1px rgba(60, 64, 67, 0.15);\n",
              "      fill: #174EA6;\n",
              "    }\n",
              "\n",
              "    [theme=dark] .colab-df-convert {\n",
              "      background-color: #3B4455;\n",
              "      fill: #D2E3FC;\n",
              "    }\n",
              "\n",
              "    [theme=dark] .colab-df-convert:hover {\n",
              "      background-color: #434B5C;\n",
              "      box-shadow: 0px 1px 3px 1px rgba(0, 0, 0, 0.15);\n",
              "      filter: drop-shadow(0px 1px 2px rgba(0, 0, 0, 0.3));\n",
              "      fill: #FFFFFF;\n",
              "    }\n",
              "  </style>\n",
              "\n",
              "      <script>\n",
              "        const buttonEl =\n",
              "          document.querySelector('#df-4a05a155-1bbb-4d92-96ff-0e78a59ae813 button.colab-df-convert');\n",
              "        buttonEl.style.display =\n",
              "          google.colab.kernel.accessAllowed ? 'block' : 'none';\n",
              "\n",
              "        async function convertToInteractive(key) {\n",
              "          const element = document.querySelector('#df-4a05a155-1bbb-4d92-96ff-0e78a59ae813');\n",
              "          const dataTable =\n",
              "            await google.colab.kernel.invokeFunction('convertToInteractive',\n",
              "                                                     [key], {});\n",
              "          if (!dataTable) return;\n",
              "\n",
              "          const docLinkHtml = 'Like what you see? Visit the ' +\n",
              "            '<a target=\"_blank\" href=https://colab.research.google.com/notebooks/data_table.ipynb>data table notebook</a>'\n",
              "            + ' to learn more about interactive tables.';\n",
              "          element.innerHTML = '';\n",
              "          dataTable['output_type'] = 'display_data';\n",
              "          await google.colab.output.renderOutput(dataTable, element);\n",
              "          const docLink = document.createElement('div');\n",
              "          docLink.innerHTML = docLinkHtml;\n",
              "          element.appendChild(docLink);\n",
              "        }\n",
              "      </script>\n",
              "    </div>\n",
              "  </div>\n",
              "  "
            ]
          },
          "metadata": {},
          "execution_count": 7
        }
      ]
    },
    {
      "cell_type": "markdown",
      "source": [
        "What types of makeup are being reviewed?"
      ],
      "metadata": {
        "id": "h0jXM2a4bRoM"
      }
    },
    {
      "cell_type": "code",
      "source": [
        "reviews_df['type'].value_counts()"
      ],
      "metadata": {
        "colab": {
          "base_uri": "https://localhost:8080/"
        },
        "id": "zK290aGBV2g3",
        "outputId": "8c7cfb3b-16cf-40fd-eb02-87782df8cd03"
      },
      "execution_count": null,
      "outputs": [
        {
          "output_type": "execute_result",
          "data": {
            "text/plain": [
              "Mascara            1786\n",
              "Liquid Eyeliner    1535\n",
              "Gel Eyeliner        584\n",
              "Primer              403\n",
              "Setting Spray       391\n",
              "Eye Primer          319\n",
              "Name: type, dtype: int64"
            ]
          },
          "metadata": {},
          "execution_count": 8
        }
      ]
    },
    {
      "cell_type": "markdown",
      "source": [
        "What brands are being reviewed?"
      ],
      "metadata": {
        "id": "DzArhXJYbTYr"
      }
    },
    {
      "cell_type": "code",
      "source": [
        "reviews_df['brand'].value_counts()"
      ],
      "metadata": {
        "colab": {
          "base_uri": "https://localhost:8080/"
        },
        "id": "k-KN33cC-G-m",
        "outputId": "1a245c7f-3ef5-4849-cb2d-11f9161c04ae"
      },
      "execution_count": null,
      "outputs": [
        {
          "output_type": "execute_result",
          "data": {
            "text/plain": [
              "Too Faced                  1373\n",
              "Urban Decay                1033\n",
              "Marc Jacobs                 584\n",
              "Kat Von D                   567\n",
              "FENTY BEAUTY BY RIHANNA     550\n",
              "Stila                       418\n",
              "Dior                        407\n",
              "Tom Ford                     86\n",
              "Name: brand, dtype: int64"
            ]
          },
          "metadata": {},
          "execution_count": 9
        }
      ]
    },
    {
      "cell_type": "markdown",
      "source": [
        "Let's convert the review text into a list of reviews"
      ],
      "metadata": {
        "id": "cw1I0la6V_ID"
      }
    },
    {
      "cell_type": "code",
      "source": [
        "texts = reviews_df['description'].tolist()"
      ],
      "metadata": {
        "id": "Iv3ERroL-5d2"
      },
      "execution_count": null,
      "outputs": []
    },
    {
      "cell_type": "markdown",
      "source": [
        "Let's examine one review in particular"
      ],
      "metadata": {
        "id": "ADlpp5-HbX5f"
      }
    },
    {
      "cell_type": "code",
      "source": [
        "texts[4]"
      ],
      "metadata": {
        "colab": {
          "base_uri": "https://localhost:8080/",
          "height": 71
        },
        "id": "utam3qIeyzvz",
        "outputId": "eace95c3-9322-4460-d108-37faa173fadc"
      },
      "execution_count": null,
      "outputs": [
        {
          "output_type": "execute_result",
          "data": {
            "text/plain": [
              "\"I finally caved trying this after reading so many great reviews. Unfortunately, for me, it was not meant to be. Despite the brush being great, I had a hard time applying this without getting too clumpy. I didn't find the result to be as volumizing as advertised and it smudged after only a few hours on me. Sigh. Conclusion: this mascara is not so sexy.\""
            ],
            "application/vnd.google.colaboratory.intrinsic+json": {
              "type": "string"
            }
          },
          "metadata": {},
          "execution_count": 11
        }
      ]
    },
    {
      "cell_type": "markdown",
      "metadata": {
        "id": "rTDNuhAqyMQC"
      },
      "source": [
        "<br><br><br><br>\n",
        "\n",
        "## **Encode/tokenize text data for BERT**\n",
        "\n",
        "Next we need to transform our reviews into a format that BERT (via Huggingface) will understand. This is called *encoding* or *tokenizing* the data.\n",
        "\n",
        "We will tokenize the reviews with the `tokenizer()` from HuggingFace's `DistilBertTokenizerFast`. Here's what the `tokenizer()` will do:\n",
        "\n",
        "1. Truncate the texts if they're more than 512 tokens or pad them if they're fewer than 512 tokens. If a word is not in BERT's vocabulary, it will be broken up into smaller \"word pieces,\" demarcated by a `##`.\n",
        "\n",
        "2. Add in special tokens to help BERT:\n",
        "    - [CLS] — Start token of every document\n",
        "    - [SEP] — Separator between each sentence \n",
        "    - [PAD] — Padding at the end of the document as many times as necessary, up to 512 tokens\n",
        "    - &#35;&#35; — Start of a \"word piece\" "
      ]
    },
    {
      "cell_type": "markdown",
      "metadata": {
        "id": "XKgQkdodA-Jz"
      },
      "source": [
        "Here we will load `DistilBertTokenizerFast` from HuggingFace library, which will help us transform and encode the texts so they can be used with BERT."
      ]
    },
    {
      "cell_type": "code",
      "metadata": {
        "id": "cTa04n_-ZI-8"
      },
      "source": [
        "from transformers import DistilBertTokenizerFast"
      ],
      "execution_count": null,
      "outputs": []
    },
    {
      "cell_type": "code",
      "metadata": {
        "id": "uDuGq_n4pgZX",
        "colab": {
          "base_uri": "https://localhost:8080/",
          "height": 145,
          "referenced_widgets": [
            "4932f62029b34cd5b66ff39cdd1aa829",
            "e7689492763d4477ba9741e4c72049cc",
            "8751348387374f638f7e4036441f3a36",
            "ff4d129fca9444d7a2eb7f7a69d5ce0f",
            "0a7e8c82523c437da24c41261a629de6",
            "001ee5e024044413b66f048b152f41a5",
            "7e1fb65fedf546aab8201266e04fb7b3",
            "227f253fc70a4941ad53eca7e8452932",
            "8b20930352d84bc49415abc7be074a9d",
            "5082eef3c0e649a8b3c6237d0b3d964c",
            "9eef96b9224d4d1f8a082336f5e13dfa",
            "156448f4e14b4d398145917c6a71cfe8",
            "c696e3672bb14bcd958c00f4c68f8c80",
            "219a14ab589040f7aff2ba2439be02a9",
            "49b26d793f4944cab41951a897f8da5c",
            "b515702f35194dc795d6a521dfd0f4a4",
            "8dfe67490d8f4d148c629f39b1ca5b5d",
            "0d85155da4d44deeafd3436fb81d4680",
            "30e6e112524a481faaf6795d314201c4",
            "baee0b3279844443b7356f34f02e2411",
            "8d46c69bd3824a6195526c7feddff888",
            "63d3e9aa733944c3bd872c662171b5c6",
            "8332da43d69f4175bd7e80cd347d09b6",
            "a1f3cea0dd514859af0d4ed2a8ab79c9",
            "17440c176ab145f4b430016e8117f856",
            "c1e7a689bf8b466da1b529ed8cf43631",
            "0f0b4b925771490c970fbbd8bafff148",
            "f5eefb430c664618b00470d541e006e6",
            "d7ed866d8fcd4e46afdfe2d8e7867c08",
            "7194057422d94a229510f90998294110",
            "527b2638f60940beaf076c3ba05a25d8",
            "2b48fc6c9fa443f6a07f875e890cb8ad",
            "38cee57b485b4029afba37f057e25e2e",
            "58f83ca90e7948f292bf876ce2c05799",
            "24872b56721d441eaab4bc5d91374050",
            "8950c50a181e4b209c51588d87bc64e8",
            "99576a17b95a4faba419af91dc30f653",
            "27806332a5b343a08451ec69793685e3",
            "b04892942644404382a642cd03b2ff66",
            "cda249f0254a4ec09f44d9de8a3a6ab8",
            "75ac4adf2d644188bf4564486d3bd579",
            "25eaef70d7aa49ab8e85c773227d3312",
            "34efb78aefbe4ab48980af2c2004b175",
            "6e961c6d3c2b40299e98ab9084cb0e02"
          ]
        },
        "outputId": "faae6bf0-705a-4145-c3c8-0bb8d81176ce"
      },
      "source": [
        "tokenizer = DistilBertTokenizerFast.from_pretrained('distilbert-base-uncased')"
      ],
      "execution_count": null,
      "outputs": [
        {
          "output_type": "display_data",
          "data": {
            "text/plain": [
              "Downloading:   0%|          | 0.00/28.0 [00:00<?, ?B/s]"
            ],
            "application/vnd.jupyter.widget-view+json": {
              "version_major": 2,
              "version_minor": 0,
              "model_id": "4932f62029b34cd5b66ff39cdd1aa829"
            }
          },
          "metadata": {}
        },
        {
          "output_type": "display_data",
          "data": {
            "text/plain": [
              "Downloading:   0%|          | 0.00/226k [00:00<?, ?B/s]"
            ],
            "application/vnd.jupyter.widget-view+json": {
              "version_major": 2,
              "version_minor": 0,
              "model_id": "156448f4e14b4d398145917c6a71cfe8"
            }
          },
          "metadata": {}
        },
        {
          "output_type": "display_data",
          "data": {
            "text/plain": [
              "Downloading:   0%|          | 0.00/455k [00:00<?, ?B/s]"
            ],
            "application/vnd.jupyter.widget-view+json": {
              "version_major": 2,
              "version_minor": 0,
              "model_id": "8332da43d69f4175bd7e80cd347d09b6"
            }
          },
          "metadata": {}
        },
        {
          "output_type": "display_data",
          "data": {
            "text/plain": [
              "Downloading:   0%|          | 0.00/483 [00:00<?, ?B/s]"
            ],
            "application/vnd.jupyter.widget-view+json": {
              "version_major": 2,
              "version_minor": 0,
              "model_id": "58f83ca90e7948f292bf876ce2c05799"
            }
          },
          "metadata": {}
        }
      ]
    },
    {
      "cell_type": "markdown",
      "metadata": {
        "id": "7LbZPuonBIJl"
      },
      "source": [
        "The `tokenizer()` will break word tokens into word pieces, truncate to 512 tokens, and add padding and special BERT tokens."
      ]
    },
    {
      "cell_type": "code",
      "metadata": {
        "id": "BPoDCzIx_17F"
      },
      "source": [
        "tokenized_reviews = tokenizer(texts, truncation=True, padding=True, return_tensors=\"pt\")"
      ],
      "execution_count": null,
      "outputs": []
    },
    {
      "cell_type": "markdown",
      "metadata": {
        "id": "MulyNi6jBMIK"
      },
      "source": [
        "Let's examine the first tokenized review. We can see that the special BERT tokens have been inserted where necessary."
      ]
    },
    {
      "cell_type": "code",
      "metadata": {
        "colab": {
          "base_uri": "https://localhost:8080/",
          "height": 142
        },
        "id": "4A89SN_ppiUP",
        "outputId": "72811ccb-d0e0-4d1b-efa4-5cfd6c62ffdb"
      },
      "source": [
        "' '.join(tokenized_reviews[4].tokens)"
      ],
      "execution_count": null,
      "outputs": [
        {
          "output_type": "execute_result",
          "data": {
            "text/plain": [
              "\"[CLS] i finally cave ##d trying this after reading so many great reviews . unfortunately , for me , it was not meant to be . despite the brush being great , i had a hard time applying this without getting too cl ##ump ##y . i didn ' t find the result to be as vol ##umi ##zing as advertised and it sm ##udged after only a few hours on me . sigh . conclusion : this mascara is not so sexy . [SEP] [PAD] [PAD] [PAD] [PAD] [PAD] [PAD] [PAD] [PAD] [PAD] [PAD] [PAD] [PAD] [PAD] [PAD] [PAD] [PAD] [PAD] [PAD] [PAD] [PAD] [PAD] [PAD] [PAD] [PAD] [PAD] [PAD] [PAD] [PAD] [PAD] [PAD] [PAD] [PAD] [PAD] [PAD] [PAD] [PAD] [PAD] [PAD] [PAD] [PAD] [PAD] [PAD] [PAD] [PAD] [PAD] [PAD] [PAD] [PAD] [PAD] [PAD] [PAD] [PAD] [PAD] [PAD] [PAD] [PAD] [PAD] [PAD] [PAD] [PAD] [PAD] [PAD] [PAD] [PAD] [PAD] [PAD] [PAD] [PAD] [PAD] [PAD] [PAD] [PAD] [PAD] [PAD] [PAD] [PAD] [PAD] [PAD] [PAD] [PAD] [PAD] [PAD] [PAD] [PAD] [PAD] [PAD] [PAD] [PAD] [PAD] [PAD] [PAD] [PAD] [PAD] [PAD] [PAD] [PAD] [PAD] [PAD] [PAD] [PAD] [PAD] [PAD] [PAD] [PAD] [PAD] [PAD] [PAD] [PAD] [PAD] [PAD] [PAD] [PAD] [PAD] [PAD] [PAD] [PAD] [PAD] [PAD] [PAD] [PAD] [PAD] [PAD] [PAD] [PAD] [PAD] [PAD] [PAD] [PAD] [PAD] [PAD] [PAD] [PAD] [PAD] [PAD] [PAD] [PAD] [PAD] [PAD] [PAD] [PAD] [PAD] [PAD] [PAD] [PAD] [PAD] [PAD] [PAD] [PAD] [PAD] [PAD] [PAD] [PAD] [PAD] [PAD] [PAD] [PAD] [PAD] [PAD] [PAD] [PAD] [PAD] [PAD] [PAD] [PAD] [PAD] [PAD] [PAD] [PAD] [PAD] [PAD] [PAD] [PAD] [PAD] [PAD] [PAD] [PAD] [PAD] [PAD] [PAD] [PAD] [PAD] [PAD] [PAD] [PAD] [PAD] [PAD] [PAD] [PAD] [PAD] [PAD] [PAD] [PAD] [PAD] [PAD] [PAD] [PAD] [PAD] [PAD] [PAD] [PAD] [PAD] [PAD] [PAD] [PAD] [PAD] [PAD] [PAD] [PAD] [PAD] [PAD] [PAD] [PAD] [PAD] [PAD] [PAD] [PAD] [PAD] [PAD] [PAD] [PAD] [PAD] [PAD] [PAD] [PAD] [PAD] [PAD] [PAD] [PAD] [PAD] [PAD] [PAD] [PAD] [PAD] [PAD] [PAD] [PAD] [PAD] [PAD] [PAD] [PAD] [PAD] [PAD] [PAD] [PAD] [PAD] [PAD] [PAD] [PAD] [PAD] [PAD] [PAD] [PAD] [PAD] [PAD] [PAD] [PAD] [PAD] [PAD] [PAD] [PAD] [PAD] [PAD] [PAD] [PAD] [PAD] [PAD] [PAD] [PAD] [PAD] [PAD] [PAD] [PAD] [PAD] [PAD] [PAD] [PAD] [PAD] [PAD] [PAD] [PAD] [PAD] [PAD] [PAD] [PAD] [PAD] [PAD] [PAD] [PAD] [PAD] [PAD] [PAD] [PAD] [PAD] [PAD] [PAD] [PAD] [PAD] [PAD] [PAD] [PAD] [PAD] [PAD] [PAD] [PAD] [PAD] [PAD] [PAD] [PAD] [PAD] [PAD] [PAD] [PAD] [PAD] [PAD] [PAD] [PAD] [PAD] [PAD] [PAD] [PAD] [PAD] [PAD] [PAD] [PAD] [PAD] [PAD] [PAD] [PAD] [PAD] [PAD] [PAD] [PAD] [PAD] [PAD] [PAD] [PAD] [PAD] [PAD] [PAD] [PAD] [PAD] [PAD] [PAD] [PAD] [PAD] [PAD] [PAD] [PAD] [PAD] [PAD] [PAD] [PAD] [PAD] [PAD] [PAD] [PAD] [PAD] [PAD] [PAD] [PAD] [PAD] [PAD] [PAD] [PAD] [PAD] [PAD] [PAD] [PAD] [PAD] [PAD] [PAD] [PAD] [PAD] [PAD] [PAD] [PAD] [PAD] [PAD] [PAD] [PAD] [PAD] [PAD] [PAD] [PAD] [PAD] [PAD] [PAD] [PAD] [PAD] [PAD] [PAD] [PAD] [PAD] [PAD] [PAD] [PAD] [PAD] [PAD] [PAD] [PAD] [PAD] [PAD] [PAD] [PAD] [PAD] [PAD] [PAD] [PAD] [PAD] [PAD] [PAD] [PAD] [PAD] [PAD] [PAD] [PAD] [PAD] [PAD] [PAD] [PAD] [PAD] [PAD] [PAD] [PAD] [PAD] [PAD] [PAD]\""
            ],
            "application/vnd.google.colaboratory.intrinsic+json": {
              "type": "string"
            }
          },
          "metadata": {},
          "execution_count": 15
        }
      ]
    },
    {
      "cell_type": "markdown",
      "metadata": {
        "id": "OkVgFcbCqKSu"
      },
      "source": [
        "<br><br><br><br>\n",
        "\n",
        "## **Load pre-trained BERT model**"
      ]
    },
    {
      "cell_type": "markdown",
      "metadata": {
        "id": "dGVbuDJ0BXQ2"
      },
      "source": [
        "Here we will load a pre-trained BERT model. To speed things up we will use a GPU, but using GPU involves a few extra steps.\n",
        "The command `.to(\"cuda\")` moves data from regular memory to the GPU's memory.\n",
        "\n",
        "\n"
      ]
    },
    {
      "cell_type": "code",
      "metadata": {
        "id": "U1I4FthqzFjW"
      },
      "source": [
        "from transformers import DistilBertModel"
      ],
      "execution_count": null,
      "outputs": []
    },
    {
      "cell_type": "code",
      "metadata": {
        "id": "a7k75REXp7UJ",
        "colab": {
          "base_uri": "https://localhost:8080/",
          "height": 122,
          "referenced_widgets": [
            "31c653db714f42f983a0dfcbe22c2ab2",
            "dd90d4b2066942f6ba51189382dbcaa6",
            "1fe95c3b36ec4e45978fada031f90639",
            "0b6fd0237a374838bfcdca60ca818872",
            "a9e7988a83084b989757fd985a9fef17",
            "5a42503d86cf4f9c97687b7062fff63a",
            "fb3837c4eb0240daa5663dab864fcd16",
            "f8c6f68fcc774a11a839376643c2c21a",
            "40ff9d749e5b45e4ba28d365e2903671",
            "9be788e722bd4a2681decefc030282c6",
            "f7e1888e752e4bf98abebf8f1664eafe"
          ]
        },
        "outputId": "e0587350-11fd-43bb-c21d-89c0f670f1f6"
      },
      "source": [
        "model = DistilBertModel.from_pretrained('distilbert-base-uncased').to(\"cuda\")"
      ],
      "execution_count": null,
      "outputs": [
        {
          "output_type": "display_data",
          "data": {
            "text/plain": [
              "Downloading:   0%|          | 0.00/256M [00:00<?, ?B/s]"
            ],
            "application/vnd.jupyter.widget-view+json": {
              "version_major": 2,
              "version_minor": 0,
              "model_id": "31c653db714f42f983a0dfcbe22c2ab2"
            }
          },
          "metadata": {}
        },
        {
          "output_type": "stream",
          "name": "stderr",
          "text": [
            "Some weights of the model checkpoint at distilbert-base-uncased were not used when initializing DistilBertModel: ['vocab_transform.bias', 'vocab_projector.weight', 'vocab_layer_norm.weight', 'vocab_projector.bias', 'vocab_layer_norm.bias', 'vocab_transform.weight']\n",
            "- This IS expected if you are initializing DistilBertModel from the checkpoint of a model trained on another task or with another architecture (e.g. initializing a BertForSequenceClassification model from a BertForPreTraining model).\n",
            "- This IS NOT expected if you are initializing DistilBertModel from the checkpoint of a model that you expect to be exactly identical (initializing a BertForSequenceClassification model from a BertForSequenceClassification model).\n"
          ]
        }
      ]
    },
    {
      "cell_type": "markdown",
      "metadata": {
        "id": "zrau9RGwYic8"
      },
      "source": [
        "<br><br><br><br>\n",
        "\n",
        "## **Get BERT word embeddings for each document in a collection**"
      ]
    },
    {
      "cell_type": "markdown",
      "metadata": {
        "id": "W-vSpKnKBZWJ"
      },
      "source": [
        "To get word embeddings for all the words in our collection, we will use a `for` loop.\n",
        "\n",
        "For each review in our list, we will tokenize the review, and we will extract the vocabulary word ID for each word/token in the review (to use for later reference). Then we will run the tokenized review through the BERT model and extract the vectors for each word/token in the review.\n",
        "\n",
        "We thus create two big lists for all the reviews in our collection — `doc_word_ids` and `doc_word_vectors`."
      ]
    },
    {
      "cell_type": "code",
      "metadata": {
        "id": "j58TvTCd_kxI"
      },
      "source": [
        "# List of vocabulary word IDs for all the words in each document (aka each review)\n",
        "doc_word_ids = []\n",
        "\n",
        "# List of word vectors for all the words in each document (aka each review)\n",
        "doc_word_vectors = []\n",
        "\n",
        "# Below we will slice our review to ignore the first (0th) and last (-1) special BERT tokens\n",
        "start_of_words = 1\n",
        "end_of_words = -1\n",
        "\n",
        "# Below we will index the 0th or first document, which will be the only document, since we're analzying one review at a time\n",
        "first_document = 0\n",
        "\n",
        "for i, review in enumerate(texts):\n",
        "  \n",
        "    # Here we tokenize each review with the DistilBERT Tokenizer\n",
        "    inputs = tokenizer(review, return_tensors=\"pt\", truncation=True, padding=True)\n",
        "\n",
        "    # Here we extract the vocabulary word ids for all the words in the review (the first or 0th document, since we only have one document)\n",
        "    # We ignore the first and last special BERT tokens\n",
        "    # We also convert from a Pytorch tensor to a numpy array\n",
        "    doc_word_ids.append(inputs.input_ids[first_document].numpy()[start_of_words:end_of_words])\n",
        "\n",
        "    # Here we send the tokenized reviews to the GPU\n",
        "    # The model is already on the GPU, but this review isn't, so we send it to the GPU\n",
        "    inputs.to(\"cuda\")\n",
        "    # Here we run the tokenized review through the DistilBERT model\n",
        "    outputs = model(**inputs)\n",
        "\n",
        "    # We take every element from the first or 0th document, from the 2nd to the 2nd to last position\n",
        "    # Grabbing the last layer is one way of getting token vectors. There are different ways to get vectors with different pros and cons\n",
        "    doc_word_vectors.append(outputs.last_hidden_state[first_document,start_of_words:end_of_words,:].detach().cpu().numpy())\n"
      ],
      "execution_count": null,
      "outputs": []
    },
    {
      "cell_type": "markdown",
      "metadata": {
        "id": "B4pV1fw61rgT"
      },
      "source": [
        "Confirm that we have the same number of documents for both the tokens and the vectors:"
      ]
    },
    {
      "cell_type": "code",
      "metadata": {
        "id": "RFYsrpeF3C43",
        "colab": {
          "base_uri": "https://localhost:8080/"
        },
        "outputId": "da07c24b-9717-4e3c-eb14-be9b3ea347f2"
      },
      "source": [
        "len(doc_word_ids), len(doc_word_vectors)"
      ],
      "execution_count": null,
      "outputs": [
        {
          "output_type": "execute_result",
          "data": {
            "text/plain": [
              "(5018, 5018)"
            ]
          },
          "metadata": {},
          "execution_count": 19
        }
      ]
    },
    {
      "cell_type": "code",
      "metadata": {
        "id": "91SFkQGVHyDV",
        "colab": {
          "base_uri": "https://localhost:8080/"
        },
        "outputId": "c99c7e5c-12b9-4ae2-9c6d-1d8975324370"
      },
      "source": [
        "doc_word_ids[0], doc_word_vectors[0]"
      ],
      "execution_count": null,
      "outputs": [
        {
          "output_type": "execute_result",
          "data": {
            "text/plain": [
              "(array([ 2023, 27700,  2003,  9643,   999,  1045,  2245,  2009,  2052,\n",
              "         2022,  6429,  1998,  2001,  2061,  7568,  2008,  2009,  2001,\n",
              "         2200,  2152,  3737,  1998,  6450,  2021,  2009,  2001,  2107,\n",
              "         1037, 10520,  1012,  2028,  5435,  2006,  1998,  2009,  2001,\n",
              "         2061, 18856, 24237,  2100,   999,  2036,  1010,  2011,  1996,\n",
              "         2203,  1997,  1996,  2154,  2026,  2104,  2159,  2020,  2304,\n",
              "         2013,  1996, 27700,   999,  2074,  9202]),\n",
              " array([[ 0.04701875,  0.0745259 , -0.00122115, ..., -0.26615977,\n",
              "          0.36384755,  0.2643668 ],\n",
              "        [ 0.9409262 ,  0.17063163, -0.17726046, ..., -0.22725135,\n",
              "         -0.29596454, -0.34577647],\n",
              "        [-0.03995913, -0.02058482, -0.01363328, ..., -0.1370049 ,\n",
              "          0.1258472 ,  0.62158054],\n",
              "        ...,\n",
              "        [ 0.24695502,  0.30529794,  0.20497112, ...,  0.14400621,\n",
              "          0.541336  ,  0.00972535],\n",
              "        [ 0.36152843, -0.09225815,  0.26666042, ...,  0.09259592,\n",
              "          0.11792559,  0.9894849 ],\n",
              "        [ 0.53169143,  0.23037483, -0.11810102, ...,  0.08975736,\n",
              "          0.112647  , -0.56651044]], dtype=float32))"
            ]
          },
          "metadata": {},
          "execution_count": 20
        }
      ]
    },
    {
      "cell_type": "markdown",
      "metadata": {
        "id": "AyVRWw8Icmn-"
      },
      "source": [
        "<br><br><br><br>\n",
        "\n",
        "## **Concatenate all word IDs/vectors for all documents**"
      ]
    },
    {
      "cell_type": "markdown",
      "metadata": {
        "id": "Gf-9YAo814wM"
      },
      "source": [
        "Each element of these lists contains all the tokens/vectors for one document. But we want to concatenate them into two giant collections."
      ]
    },
    {
      "cell_type": "code",
      "metadata": {
        "id": "afOPAzVoczRW"
      },
      "source": [
        "all_word_ids = np.concatenate(doc_word_ids)\n",
        "all_word_vectors = np.concatenate(doc_word_vectors, axis=0)"
      ],
      "execution_count": null,
      "outputs": []
    },
    {
      "cell_type": "markdown",
      "metadata": {
        "id": "wQafcvCqt0Uf"
      },
      "source": [
        "We want to make comparisons between vectors quickly. One common option is *cosine similarity*, which measures the angle between vectors but ignores their length. We can speed this computation up by setting all the review vectors to have length 1.0."
      ]
    },
    {
      "cell_type": "code",
      "metadata": {
        "id": "ogECz92C4T09"
      },
      "source": [
        "# Calculating the length of each vector (Pythagorean theorem)\n",
        "row_norms = np.sqrt(np.sum(all_word_vectors ** 2, axis=1))\n",
        "\n",
        "# Dividing every vector by its length\n",
        "all_word_vectors /= row_norms[:,np.newaxis]"
      ],
      "execution_count": null,
      "outputs": []
    },
    {
      "cell_type": "markdown",
      "metadata": {
        "id": "iBWkQbFLc6kt"
      },
      "source": [
        "<br><br><br><br>\n",
        "\n",
        "## **Find all word positions in a collection**"
      ]
    },
    {
      "cell_type": "markdown",
      "metadata": {
        "id": "rUB1orgCek1D"
      },
      "source": [
        "We can use the array `all_word_ids` to find all the places, or *positions*, in the collection where a word appears.\n",
        "\n",
        "We can find a word's vocab ID in BERT with `tokenizer.vocab` and then check to see where/how many times this ID occurs in `all_word_ids`."
      ]
    },
    {
      "cell_type": "code",
      "metadata": {
        "id": "bjjVsV8F1UvN"
      },
      "source": [
        "def get_word_positions(words):\n",
        "  \n",
        "  \"\"\"This function accepts a list of words, rather than a single word\"\"\"\n",
        "\n",
        "  # Get word/vocabulary ID from BERT for each word\n",
        "  word_ids = [tokenizer.vocab[word] for word in words]\n",
        "\n",
        "  # Find all the positions where the words occur in the collection\n",
        "  word_positions = np.where(np.isin(all_word_ids, word_ids))[0]\n",
        "\n",
        "  return word_positions"
      ],
      "execution_count": null,
      "outputs": []
    },
    {
      "cell_type": "markdown",
      "metadata": {
        "id": "9bB-69p-m4q7"
      },
      "source": [
        "Here we'll check to see all the places where the word \"sensitive\" appears in the collection."
      ]
    },
    {
      "cell_type": "code",
      "metadata": {
        "colab": {
          "base_uri": "https://localhost:8080/"
        },
        "id": "OZKWT3L32GZM",
        "outputId": "15776566-3ac8-49c9-bc94-138a6c80d6bd"
      },
      "source": [
        "get_word_positions([\"sensitive\"])"
      ],
      "execution_count": null,
      "outputs": [
        {
          "output_type": "execute_result",
          "data": {
            "text/plain": [
              "array([  6092,  10738,  14997,  15153,  29942,  41575,  41939,  63591,\n",
              "        70013,  79906,  83863,  85581,  98966, 100207, 101808, 113760,\n",
              "       132861, 133107, 139456, 141039, 143913, 150184, 151975, 152983,\n",
              "       153478, 153664, 155722, 158101, 158191, 158462, 158588, 158733,\n",
              "       159408, 159555, 160489, 160519, 161026, 164309, 164446, 165695,\n",
              "       166768, 169200, 169807, 169993, 170953, 173125, 174005, 174135,\n",
              "       174318, 176044, 177231, 177921, 178412, 178696, 179240, 180165,\n",
              "       180317, 180691, 181207, 182832, 183028, 183982, 185382, 185398,\n",
              "       187400, 187941, 188768, 189513, 192046, 198649, 201040, 204296,\n",
              "       204679, 209885, 218240, 218641, 221080, 222657, 224083, 227826,\n",
              "       231586, 234207, 237730, 239393, 240547, 262200, 263270, 266501,\n",
              "       272143, 281776, 281825, 286571, 287928, 287972, 294293, 294672,\n",
              "       308101, 325566, 325776, 331010, 331186, 333168, 335337, 335643,\n",
              "       350574, 354482, 354807, 359220, 360683, 360778, 361831, 363309,\n",
              "       370747, 371587, 371622, 372567])"
            ]
          },
          "metadata": {},
          "execution_count": 24
        }
      ]
    },
    {
      "cell_type": "code",
      "metadata": {
        "id": "ukKSAiSV3E8a"
      },
      "source": [
        "word_positions = get_word_positions([\"sensitive\"])"
      ],
      "execution_count": null,
      "outputs": []
    },
    {
      "cell_type": "markdown",
      "metadata": {
        "id": "kx35pWc0dqIT"
      },
      "source": [
        "<br><br><br><br>\n",
        "\n",
        "## **Find word from word position**"
      ]
    },
    {
      "cell_type": "markdown",
      "metadata": {
        "id": "9db1FKmAm-7p"
      },
      "source": [
        "Nice! Now we know all the positions where the word \"sensitive\" appears in the collection. But it would be more helpful to know the actual words that appear in context around it. To find these context words, we have to convert position IDs back into words."
      ]
    },
    {
      "cell_type": "code",
      "metadata": {
        "id": "t_0q-9Uodt__"
      },
      "source": [
        "# Here we create an array so that we can go backwards from numeric token IDs to words\n",
        "word_lookup = np.empty(tokenizer.vocab_size, dtype=\"O\")\n",
        "\n",
        "for word, index in tokenizer.vocab.items():\n",
        "    word_lookup[index] = word"
      ],
      "execution_count": null,
      "outputs": []
    },
    {
      "cell_type": "markdown",
      "metadata": {
        "id": "U_Dt6HyVsidn"
      },
      "source": [
        "Now we can use `word_lookup` to find a word based on its position in the collection."
      ]
    },
    {
      "cell_type": "code",
      "metadata": {
        "colab": {
          "base_uri": "https://localhost:8080/"
        },
        "id": "4vSMuKJBoLuN",
        "outputId": "0788f9ba-5bab-411b-82e4-82cb00b708eb"
      },
      "source": [
        "word_positions = get_word_positions([\"sensitive\"])\n",
        "\n",
        "for word_position in word_positions:\n",
        "  print(word_position, word_lookup[all_word_ids[word_position]])"
      ],
      "execution_count": null,
      "outputs": [
        {
          "output_type": "stream",
          "name": "stdout",
          "text": [
            "6092 sensitive\n",
            "10738 sensitive\n",
            "14997 sensitive\n",
            "15153 sensitive\n",
            "29942 sensitive\n",
            "41575 sensitive\n",
            "41939 sensitive\n",
            "63591 sensitive\n",
            "70013 sensitive\n",
            "79906 sensitive\n",
            "83863 sensitive\n",
            "85581 sensitive\n",
            "98966 sensitive\n",
            "100207 sensitive\n",
            "101808 sensitive\n",
            "113760 sensitive\n",
            "132861 sensitive\n",
            "133107 sensitive\n",
            "139456 sensitive\n",
            "141039 sensitive\n",
            "143913 sensitive\n",
            "150184 sensitive\n",
            "151975 sensitive\n",
            "152983 sensitive\n",
            "153478 sensitive\n",
            "153664 sensitive\n",
            "155722 sensitive\n",
            "158101 sensitive\n",
            "158191 sensitive\n",
            "158462 sensitive\n",
            "158588 sensitive\n",
            "158733 sensitive\n",
            "159408 sensitive\n",
            "159555 sensitive\n",
            "160489 sensitive\n",
            "160519 sensitive\n",
            "161026 sensitive\n",
            "164309 sensitive\n",
            "164446 sensitive\n",
            "165695 sensitive\n",
            "166768 sensitive\n",
            "169200 sensitive\n",
            "169807 sensitive\n",
            "169993 sensitive\n",
            "170953 sensitive\n",
            "173125 sensitive\n",
            "174005 sensitive\n",
            "174135 sensitive\n",
            "174318 sensitive\n",
            "176044 sensitive\n",
            "177231 sensitive\n",
            "177921 sensitive\n",
            "178412 sensitive\n",
            "178696 sensitive\n",
            "179240 sensitive\n",
            "180165 sensitive\n",
            "180317 sensitive\n",
            "180691 sensitive\n",
            "181207 sensitive\n",
            "182832 sensitive\n",
            "183028 sensitive\n",
            "183982 sensitive\n",
            "185382 sensitive\n",
            "185398 sensitive\n",
            "187400 sensitive\n",
            "187941 sensitive\n",
            "188768 sensitive\n",
            "189513 sensitive\n",
            "192046 sensitive\n",
            "198649 sensitive\n",
            "201040 sensitive\n",
            "204296 sensitive\n",
            "204679 sensitive\n",
            "209885 sensitive\n",
            "218240 sensitive\n",
            "218641 sensitive\n",
            "221080 sensitive\n",
            "222657 sensitive\n",
            "224083 sensitive\n",
            "227826 sensitive\n",
            "231586 sensitive\n",
            "234207 sensitive\n",
            "237730 sensitive\n",
            "239393 sensitive\n",
            "240547 sensitive\n",
            "262200 sensitive\n",
            "263270 sensitive\n",
            "266501 sensitive\n",
            "272143 sensitive\n",
            "281776 sensitive\n",
            "281825 sensitive\n",
            "286571 sensitive\n",
            "287928 sensitive\n",
            "287972 sensitive\n",
            "294293 sensitive\n",
            "294672 sensitive\n",
            "308101 sensitive\n",
            "325566 sensitive\n",
            "325776 sensitive\n",
            "331010 sensitive\n",
            "331186 sensitive\n",
            "333168 sensitive\n",
            "335337 sensitive\n",
            "335643 sensitive\n",
            "350574 sensitive\n",
            "354482 sensitive\n",
            "354807 sensitive\n",
            "359220 sensitive\n",
            "360683 sensitive\n",
            "360778 sensitive\n",
            "361831 sensitive\n",
            "363309 sensitive\n",
            "370747 sensitive\n",
            "371587 sensitive\n",
            "371622 sensitive\n",
            "372567 sensitive\n"
          ]
        }
      ]
    },
    {
      "cell_type": "markdown",
      "metadata": {
        "id": "0KwzuaBxpkwG"
      },
      "source": [
        "We can also look for the 3 words that come before \"sensitive\" and the 3 words that come after it."
      ]
    },
    {
      "cell_type": "code",
      "metadata": {
        "colab": {
          "base_uri": "https://localhost:8080/"
        },
        "id": "eJ_zg3cNfJum",
        "outputId": "0c118e32-83f0-434f-93f0-ce9999eca093"
      },
      "source": [
        "word_positions = get_word_positions([\"sensitive\"])\n",
        "\n",
        "for word_position in word_positions:\n",
        "\n",
        "  # Slice 3 words before \"user\"\n",
        "  start_pos = word_position - 3\n",
        "  # Slice 3 words after \"user\"\n",
        "  end_pos = word_position + 4\n",
        "\n",
        "  context_words = word_lookup[all_word_ids[start_pos:end_pos]]\n",
        "  # Join the words together\n",
        "  context_words = ' '.join(context_words)\n",
        "  print(word_position, context_words)"
      ],
      "execution_count": null,
      "outputs": [
        {
          "output_type": "stream",
          "name": "stdout",
          "text": [
            "6092 not for the sensitive type this is\n",
            "10738 good for my sensitive eyes and for\n",
            "14997 mascara ##s or sensitive eyes i would\n",
            "15153 i have very sensitive eyes and most\n",
            "29942 ##rita ##te my sensitive eyes , and\n",
            "41575 really watery and sensitive eyes , so\n",
            "41939 nice for my sensitive eyes ! …\n",
            "63591 great for my sensitive , watery eyes\n",
            "70013 i have very sensitive dry eyes and\n",
            "79906 eyes are so sensitive . it does\n",
            "83863 ##proof mascara for sensitive eyes . this\n",
            "85581 surprisingly great for sensitive eyes , and\n",
            "98966 you have super sensitive eyes with contact\n",
            "100207 i have really sensitive eyes , and\n",
            "101808 rub on your sensitive eye area .\n",
            "113760 ' m super sensitive when it comes\n",
            "132861 i have very sensitive eyes , rosa\n",
            "133107 aren ' t sensitive so i got\n",
            "139456 . i have sensitive eyes so eye\n",
            "141039 eyes can be sensitive to mascara .\n",
            "143913 someone with super sensitive eyes and i\n",
            "150184 due to my sensitive eyes . application\n",
            "151975 ##er ##gies or sensitive eyes because your\n",
            "152983 ##y , super sensitive skin and really\n",
            "153478 not for my sensitive skin . i\n",
            "153664 have combination , sensitive skin and i\n",
            "155722 not for my sensitive skin . this\n",
            "158101 if you are sensitive to strong scents\n",
            "158191 have extremely dry sensitive ec ##ze ##ma\n",
            "158462 ##ne prone / sensitive skin ! i\n",
            "158588 that is rather sensitive . i am\n",
            "158733 out my very sensitive skin and i\n",
            "159408 i have very sensitive ac ##ne prone\n",
            "159555 have tried their sensitive skin por ##eles\n",
            "160489 on my sometimes sensitive skin . i\n",
            "160519 t really have sensitive skin and it\n",
            "161026 t make my sensitive skin break out\n",
            "164309 i suffer from sensitive combination skin that\n",
            "164446 has gotten quite sensitive , and with\n",
            "165695 irritation to my sensitive skin . i\n",
            "166768 crank ##y / sensitive skin breakout !\n",
            "169200 . i have sensitive , ac ##ne\n",
            "169807 my skin is sensitive and reactive ,\n",
            "169993 i have combination sensitive skin so it\n",
            "170953 . i have sensitive skin that literally\n",
            "173125 my skin is sensitive and dry ,\n",
            "174005 . i have sensitive oil ##y skin\n",
            "174135 i also have sensitive skin and don\n",
            "174318 if you have sensitive dry skin .\n",
            "176044 soothe ##s my sensitive skin . unlike\n",
            "177231 for my combination sensitive skin . from\n",
            "177921 skin is super sensitive to silicon ##es\n",
            "178412 amazing ! having sensitive , highly allergic\n",
            "178696 ( i have sensitive skin ) ,\n",
            "179240 ##ne prone and sensitive to products .\n",
            "180165 nice formula for sensitive skin , it\n",
            "180317 , or have sensitive skin ! …\n",
            "180691 i have super sensitive skin and just\n",
            "181207 have dry , sensitive skin . this\n",
            "182832 . i have sensitive skin too and\n",
            "183028 i have very sensitive fair skin .\n",
            "183982 since i have sensitive skin , i\n",
            "185382 i was so sensitive . could not\n",
            "185398 for people with sensitive eyes . i\n",
            "187400 do not have sensitive eyes in general\n",
            "187941 i have pretty sensitive eyes , and\n",
            "188768 work with my sensitive eyes and oil\n",
            "189513 ##d and too sensitive eyes … read\n",
            "192046 someone with very sensitive eyes . i\n",
            "198649 eyes can be sensitive but this liner\n",
            "201040 i have extremely sensitive , all ##ergy\n",
            "204296 to those with sensitive eyes ! i\n",
            "204679 i also have sensitive all ##ergy prone\n",
            "209885 : i have sensitive eyes ( all\n",
            "218240 someone who has sensitive skin or eyes\n",
            "218641 ##rita ##te my sensitive eyes . my\n",
            "221080 do not have sensitive eyes , or\n",
            "222657 i have extremely sensitive eyes and wear\n",
            "224083 and nice for sensitive eyes wow ,\n",
            "227826 eyes which are sensitive . as eye\n",
            "231586 this formula is sensitive to room temperature\n",
            "234207 forever ' s sensitive eye remove ##r\n",
            "237730 good for my sensitive skin : i\n",
            "239393 i have really sensitive eyes and this\n",
            "240547 more i have sensitive easily irritated eyes\n",
            "262200 more i have sensitive eyes and with\n",
            "263270 ' ve got sensitive eyes and oil\n",
            "266501 comfortable on my sensitive eyes than the\n",
            "272143 your eyes are sensitive and tend to\n",
            "281776 can dry out sensitive eyelids . the\n",
            "281825 not bother my sensitive skin . as\n",
            "286571 if you have sensitive skin , i\n",
            "287928 harsh for the sensitive eye ##lid skin\n",
            "287972 my generally moderately sensitive skin . i\n",
            "294293 i have super sensitive eyelids and have\n",
            "294672 but i have sensitive skin and it\n",
            "308101 entire body is sensitive , so i\n",
            "325566 t bother my sensitive eyes ! !\n",
            "325776 i have extremely sensitive eyes and it\n",
            "331010 i have very sensitive eyes , and\n",
            "331186 eyes are very sensitive and this eye\n",
            "333168 eyes are really sensitive and i my\n",
            "335337 ##rita ##te my sensitive eyes . it\n",
            "335643 . i have sensitive eyes and this\n",
            "350574 i have really sensitive skin and it\n",
            "354482 ! i have sensitive skin and have\n",
            "354807 s good for sensitive skin ! i\n",
            "359220 become very heat sensitive . even in\n",
            "360683 ' s very sensitive & this product\n",
            "360778 i have extremely sensitive skin that is\n",
            "361831 ##rita ##te my sensitive skin , and\n",
            "363309 sadly . my sensitive skin doesn '\n",
            "370747 have combination , sensitive skin and live\n",
            "371587 ##ne prone / sensitive skin . i\n",
            "371622 may help other sensitive skin girls avoid\n",
            "372567 asian , super sensitive , oil ##y\n"
          ]
        }
      ]
    },
    {
      "cell_type": "markdown",
      "metadata": {
        "id": "_9ssdFSBANkN"
      },
      "source": [
        "Let's make some functions that will help us get the context words around a certain word position for whatever size window (certain number of words before and after) that we want.\n",
        "\n",
        "The first function `get_context()` will simply return the tokens without cleaning them, and the second function `get_context_clean()` will return the tokens in a more readable fashion."
      ]
    },
    {
      "cell_type": "code",
      "metadata": {
        "id": "DQDmbTABgQF9"
      },
      "source": [
        "def get_context(word_id, window_size=10):\n",
        "  \n",
        "  \"\"\"Simply get the tokens that occur before and after word position\"\"\"\n",
        "\n",
        "  start_pos = max(0, word_id - window_size) # The token where we will start the context view\n",
        "  end_pos = min(word_id + window_size + 1, len(all_word_ids)) # The token where we will end the context view\n",
        "\n",
        "  # Make a list called tokens and use word_lookup to get the words for given token IDs from starting position up to the keyword\n",
        "  tokens = [word_lookup[word] for word in all_word_ids[start_pos:end_pos] ]\n",
        "  \n",
        "  context_words = \" \".join(tokens)\n",
        "\n",
        "  return context_words"
      ],
      "execution_count": null,
      "outputs": []
    },
    {
      "cell_type": "code",
      "metadata": {
        "id": "5lHshYA2-zxY"
      },
      "source": [
        "import re\n",
        "\n",
        "def get_context_clean(word_id, window_size=10):\n",
        "  \n",
        "  \"\"\"Get the tokens that occur before and after word position AND make them more readable\"\"\"\n",
        "\n",
        "  keyword = word_lookup[all_word_ids[word_id]]\n",
        "  start_pos = max(0, word_id - window_size) # The token where we will start the context view\n",
        "  end_pos = min(word_id + window_size + 1, len(all_word_ids)) # The token where we will end the context view\n",
        "\n",
        "  # Make a list called tokens and use word_lookup to get the words for given token IDs from starting position up to the keyword\n",
        "  tokens = [word_lookup[word] for word in all_word_ids[start_pos:end_pos] ]\n",
        "  \n",
        "  # Make wordpieces slightly more readable\n",
        "  # This is probably not the most efficient way to clean and correct for weird spacing\n",
        "  context_words = \" \".join(tokens)\n",
        "  context_words = re.sub(r'\\s+([##])', r'\\1', context_words)\n",
        "  context_words = re.sub(r'##', r'', context_words)\n",
        "  context_words = re.sub('\\s+\\'s', '\\'s', context_words)\n",
        "  context_words = re.sub('\\s+\\'d', '\\'d', context_words)\n",
        "  context_words = re.sub('\\s\\'er', '\\'er', context_words)\n",
        "  context_words = re.sub(r'\\s+([-,:?.!;])', r'\\1', context_words)\n",
        "  context_words = re.sub(r'([-\\'\"])\\s+', r'\\1', context_words)\n",
        "  context_words = re.sub('\\s+\\'s', '\\'s', context_words)\n",
        "  context_words = re.sub('\\s+\\'d', '\\'d', context_words)\n",
        "\n",
        "  # Bold the keyword by putting asterisks around it\n",
        "  if keyword in context_words:\n",
        "    context_words = re.sub(f\"\\\\b{keyword}\\\\b\", f\"**{keyword}**\", context_words)\n",
        "    context_words = re.sub(f\"\\\\b({keyword}[esdtrlying]+)\\\\b\", fr\"**\\1**\", context_words)\n",
        "\n",
        "  return context_words"
      ],
      "execution_count": null,
      "outputs": []
    },
    {
      "cell_type": "markdown",
      "metadata": {
        "id": "0-SQVh1zyblT"
      },
      "source": [
        "To visualize the search keyword even more easily, we're going to import a couple of Python modules that will allow us to output text with bolded words and other styling. Here we will make a function `print_md()` that will allow us to print with Markdown styling."
      ]
    },
    {
      "cell_type": "code",
      "metadata": {
        "id": "SPIho4qIGGqp"
      },
      "source": [
        "from IPython.display import Markdown, display\n",
        "\n",
        "def print_md(string):\n",
        "    display(Markdown(string))"
      ],
      "execution_count": null,
      "outputs": []
    },
    {
      "cell_type": "code",
      "metadata": {
        "colab": {
          "base_uri": "https://localhost:8080/",
          "height": 1000
        },
        "id": "UksbSqkagabE",
        "outputId": "fd616447-996e-43e7-85f3-e9f3270216c8"
      },
      "source": [
        "word_positions = get_word_positions([\"sensitive\"])\n",
        "\n",
        "for word_position in word_positions:\n",
        "\n",
        "  print_md(f\"<br> {word_position}:  {get_context_clean(word_position)} <br>\")"
      ],
      "execution_count": null,
      "outputs": [
        {
          "output_type": "display_data",
          "data": {
            "text/plain": [
              "<IPython.core.display.Markdown object>"
            ],
            "text/markdown": "<br> 6092:  a compliment. worth the money. not for the **sensitive** type this is not at all worth the hype <br>"
          },
          "metadata": {}
        },
        {
          "output_type": "display_data",
          "data": {
            "text/plain": [
              "<IPython.core.display.Markdown object>"
            ],
            "text/markdown": "<br> 10738:  the day. this product was not good for my **sensitive** eyes and for the price i think it's <br>"
          },
          "metadata": {}
        },
        {
          "output_type": "display_data",
          "data": {
            "text/plain": [
              "<IPython.core.display.Markdown object>"
            ],
            "text/markdown": "<br> 14997:  have problems with the staying power of mascaras or **sensitive** eyes i would skip this one. … read more <br>"
          },
          "metadata": {}
        },
        {
          "output_type": "display_data",
          "data": {
            "text/plain": [
              "<IPython.core.display.Markdown object>"
            ],
            "text/markdown": "<br> 15153:  brand. i absolutely loved it. i have very **sensitive** eyes and most mascaras irritate my eyes <br>"
          },
          "metadata": {}
        },
        {
          "output_type": "display_data",
          "data": {
            "text/plain": [
              "<IPython.core.display.Markdown object>"
            ],
            "text/markdown": "<br> 29942:  udge easy, doesn 't irritate my **sensitive** eyes, and gives my amazing definition and volume! <br>"
          },
          "metadata": {}
        },
        {
          "output_type": "display_data",
          "data": {
            "text/plain": [
              "<IPython.core.display.Markdown object>"
            ],
            "text/markdown": "<br> 41575:  ! to start off, i have really watery and **sensitive** eyes, so i can only wear waterproof mascara <br>"
          },
          "metadata": {}
        },
        {
          "output_type": "display_data",
          "data": {
            "text/plain": [
              "<IPython.core.display.Markdown object>"
            ],
            "text/markdown": "<br> 41939:  to, so less rubbing is really nice for my **sensitive** eyes! … read more this mascara is absolutely amazing <br>"
          },
          "metadata": {}
        },
        {
          "output_type": "display_data",
          "data": {
            "text/plain": [
              "<IPython.core.display.Markdown object>"
            ],
            "text/markdown": "<br> 63591:  . … read more this mascara is great for my **sensitive**, watery eyes and oily lids. stays put <br>"
          },
          "metadata": {}
        },
        {
          "output_type": "display_data",
          "data": {
            "text/plain": [
              "<IPython.core.display.Markdown object>"
            ],
            "text/markdown": "<br> 70013:  also keeps my lashes very soft. i have very **sensitive** dry eyes and this does not aggravate them <br>"
          },
          "metadata": {}
        },
        {
          "output_type": "display_data",
          "data": {
            "text/plain": [
              "<IPython.core.display.Markdown object>"
            ],
            "text/markdown": "<br> 79906:  it was a fiber mascara since my eyes are so **sensitive**. it does work and doesn 't smudge <br>"
          },
          "metadata": {}
        },
        {
          "output_type": "display_data",
          "data": {
            "text/plain": [
              "<IPython.core.display.Markdown object>"
            ],
            "text/markdown": "<br> 83863:  was told this was the best waterproof mascara for **sensitive** eyes. this stuff feels like razors when it <br>"
          },
          "metadata": {}
        },
        {
          "output_type": "display_data",
          "data": {
            "text/plain": [
              "<IPython.core.display.Markdown object>"
            ],
            "text/markdown": "<br> 85581:  fab i decided this mascara is surprisingly great for **sensitive** eyes, and for people who are looking for a <br>"
          },
          "metadata": {}
        },
        {
          "output_type": "display_data",
          "data": {
            "text/plain": [
              "<IPython.core.display.Markdown object>"
            ],
            "text/markdown": "<br> 98966:  starts to get dried. so if you have super **sensitive** eyes with contact lenses, you'd better not <br>"
          },
          "metadata": {}
        },
        {
          "output_type": "display_data",
          "data": {
            "text/plain": [
              "<IPython.core.display.Markdown object>"
            ],
            "text/markdown": "<br> 100207:  to take it off at night. i have really **sensitive** eyes, and my eyes don 't burn from <br>"
          },
          "metadata": {}
        },
        {
          "output_type": "display_data",
          "data": {
            "text/plain": [
              "<IPython.core.display.Markdown object>"
            ],
            "text/markdown": "<br> 101808:  you dont have to tug & rub on your **sensitive** eye area. i tried it with the dior <br>"
          },
          "metadata": {}
        },
        {
          "output_type": "display_data",
          "data": {
            "text/plain": [
              "<IPython.core.display.Markdown object>"
            ],
            "text/markdown": "<br> 113760:  t seem dry to me. i 'm super **sensitive** when it comes to which products work for me, <br>"
          },
          "metadata": {}
        },
        {
          "output_type": "display_data",
          "data": {
            "text/plain": [
              "<IPython.core.display.Markdown object>"
            ],
            "text/markdown": "<br> 132861:  ation i read on a forum. i have very **sensitive** eyes, rosacea. 99 % of mascaras <br>"
          },
          "metadata": {}
        },
        {
          "output_type": "display_data",
          "data": {
            "text/plain": [
              "<IPython.core.display.Markdown object>"
            ],
            "text/markdown": "<br> 133107:  is a bit strong but my eyes aren 't **sensitive** so i got use to the smell. the smell <br>"
          },
          "metadata": {}
        },
        {
          "output_type": "display_data",
          "data": {
            "text/plain": [
              "<IPython.core.display.Markdown object>"
            ],
            "text/markdown": "<br> 139456:  this product in exchange for a review. i have **sensitive** eyes so eye cream shadow etc can cause tears, <br>"
          },
          "metadata": {}
        },
        {
          "output_type": "display_data",
          "data": {
            "text/plain": [
              "<IPython.core.display.Markdown object>"
            ],
            "text/markdown": "<br> 141039:  and last all day long! my eyes can be **sensitive** to mascara. any flaking and i am it <br>"
          },
          "metadata": {}
        },
        {
          "output_type": "display_data",
          "data": {
            "text/plain": [
              "<IPython.core.display.Markdown object>"
            ],
            "text/markdown": "<br> 143913:  this came out. i 'm someone with super **sensitive** eyes and i was hesitant at first to try it <br>"
          },
          "metadata": {}
        },
        {
          "output_type": "display_data",
          "data": {
            "text/plain": [
              "<IPython.core.display.Markdown object>"
            ],
            "text/markdown": "<br> 150184:  my makeup remover which is important due to my **sensitive** eyes. application is super easy especially with the shape <br>"
          },
          "metadata": {}
        },
        {
          "output_type": "display_data",
          "data": {
            "text/plain": [
              "<IPython.core.display.Markdown object>"
            ],
            "text/markdown": "<br> 151975:  goodluck if you have allergies or **sensitive** eyes because your eyes will water and the liner comes <br>"
          },
          "metadata": {}
        },
        {
          "output_type": "display_data",
          "data": {
            "text/plain": [
              "<IPython.core.display.Markdown object>"
            ],
            "text/markdown": "<br> 152983:  this primer. i have oily, super **sensitive** skin and really dislike silicone-based primers <br>"
          },
          "metadata": {}
        },
        {
          "output_type": "display_data",
          "data": {
            "text/plain": [
              "<IPython.core.display.Markdown object>"
            ],
            "text/markdown": "<br> 153478:  , but i guess it ’ s not for my **sensitive** skin. i have been in the skin care business <br>"
          },
          "metadata": {}
        },
        {
          "output_type": "display_data",
          "data": {
            "text/plain": [
              "<IPython.core.display.Markdown object>"
            ],
            "text/markdown": "<br> 153664:  !!!! wow so i have combination, **sensitive** skin and i'd been hearing a lot about <br>"
          },
          "metadata": {}
        },
        {
          "output_type": "display_data",
          "data": {
            "text/plain": [
              "<IPython.core.display.Markdown object>"
            ],
            "text/markdown": "<br> 155722:  holding my makeup in place, but not for my **sensitive** skin. this didn 't work well with my <br>"
          },
          "metadata": {}
        },
        {
          "output_type": "display_data",
          "data": {
            "text/plain": [
              "<IPython.core.display.Markdown object>"
            ],
            "text/markdown": "<br> 158101:  in areas. it smells great. if you are **sensitive** to strong scents then you may want to avoid it <br>"
          },
          "metadata": {}
        },
        {
          "output_type": "display_data",
          "data": {
            "text/plain": [
              "<IPython.core.display.Markdown object>"
            ],
            "text/markdown": "<br> 158191:  … read more great product! i have extremely dry **sensitive** eczema skin and this primer helps soothe <br>"
          },
          "metadata": {}
        },
        {
          "output_type": "display_data",
          "data": {
            "text/plain": [
              "<IPython.core.display.Markdown object>"
            ],
            "text/markdown": "<br> 158462:  my combo / oily / acne prone / **sensitive** skin! i really like how my make up looks <br>"
          },
          "metadata": {}
        },
        {
          "output_type": "display_data",
          "data": {
            "text/plain": [
              "<IPython.core.display.Markdown object>"
            ],
            "text/markdown": "<br> 158588:  objectives. i have very dry skin that is rather **sensitive**. i am not particularly acne prone, but <br>"
          },
          "metadata": {}
        },
        {
          "output_type": "display_data",
          "data": {
            "text/plain": [
              "<IPython.core.display.Markdown object>"
            ],
            "text/markdown": "<br> 158733:  on my face, but ultimately broke out my very **sensitive** skin and i had to stop using it. which <br>"
          },
          "metadata": {}
        },
        {
          "output_type": "display_data",
          "data": {
            "text/plain": [
              "<IPython.core.display.Markdown object>"
            ],
            "text/markdown": "<br> 159408:  reviews about it breaking people out, i have very **sensitive** acne prone skin and my skin has actually improved <br>"
          },
          "metadata": {}
        },
        {
          "output_type": "display_data",
          "data": {
            "text/plain": [
              "<IPython.core.display.Markdown object>"
            ],
            "text/markdown": "<br> 159555:  or is it just me? i have tried their **sensitive** skin poreless primer and was not happy <br>"
          },
          "metadata": {}
        },
        {
          "output_type": "display_data",
          "data": {
            "text/plain": [
              "<IPython.core.display.Markdown object>"
            ],
            "text/markdown": "<br> 160489:  for me as well as very gentle on my sometimes **sensitive** skin. i now use this daily and love it <br>"
          },
          "metadata": {}
        },
        {
          "output_type": "display_data",
          "data": {
            "text/plain": [
              "<IPython.core.display.Markdown object>"
            ],
            "text/markdown": "<br> 160519:  work for me, i don 't really have **sensitive** skin and it made me breakout in places that are <br>"
          },
          "metadata": {}
        },
        {
          "output_type": "display_data",
          "data": {
            "text/plain": [
              "<IPython.core.display.Markdown object>"
            ],
            "text/markdown": "<br> 161026:  it smells like coconut and doesn 't make my **sensitive** skin break out like some primers do. absolutely <br>"
          },
          "metadata": {}
        },
        {
          "output_type": "display_data",
          "data": {
            "text/plain": [
              "<IPython.core.display.Markdown object>"
            ],
            "text/markdown": "<br> 164309:  lovee love loveee this! i suffer from **sensitive** combination skin that is severely dry during the winter months <br>"
          },
          "metadata": {}
        },
        {
          "output_type": "display_data",
          "data": {
            "text/plain": [
              "<IPython.core.display.Markdown object>"
            ],
            "text/markdown": "<br> 164446:  the couple of years, my skin has gotten quite **sensitive**, and with that, quite dehydrated <br>"
          },
          "metadata": {}
        },
        {
          "output_type": "display_data",
          "data": {
            "text/plain": [
              "<IPython.core.display.Markdown object>"
            ],
            "text/markdown": "<br> 165695:  doesn 't cause redness or irritation to my **sensitive** skin. i love the pump dispenser <br>"
          },
          "metadata": {}
        },
        {
          "output_type": "display_data",
          "data": {
            "text/plain": [
              "<IPython.core.display.Markdown object>"
            ],
            "text/markdown": "<br> 166768:  t irritate or make my cranky / **sensitive** skin breakout! no silicones! works fantastic, <br>"
          },
          "metadata": {}
        },
        {
          "output_type": "display_data",
          "data": {
            "text/plain": [
              "<IPython.core.display.Markdown object>"
            ],
            "text/markdown": "<br> 169200:  and really gives my makeup staying power. i have **sensitive**, acne-prone skin and have had no <br>"
          },
          "metadata": {}
        },
        {
          "output_type": "display_data",
          "data": {
            "text/plain": [
              "<IPython.core.display.Markdown object>"
            ],
            "text/markdown": "<br> 169807:  it's a beautiful product. my skin is **sensitive** and reactive, no issues. in fact, i <br>"
          },
          "metadata": {}
        },
        {
          "output_type": "display_data",
          "data": {
            "text/plain": [
              "<IPython.core.display.Markdown object>"
            ],
            "text/markdown": "<br> 169993:  primer i have ever used. i have combination **sensitive** skin so it can get dry randomly. other prime <br>"
          },
          "metadata": {}
        },
        {
          "output_type": "display_data",
          "data": {
            "text/plain": [
              "<IPython.core.display.Markdown object>"
            ],
            "text/markdown": "<br> 170953:  all while making my skin feel smooth. i have **sensitive** skin that literally flares up if i lightly rub <br>"
          },
          "metadata": {}
        },
        {
          "output_type": "display_data",
          "data": {
            "text/plain": [
              "<IPython.core.display.Markdown object>"
            ],
            "text/markdown": "<br> 173125:  super excited to try this product. my skin is **sensitive** and dry, so i thought coconut water sounded great <br>"
          },
          "metadata": {}
        },
        {
          "output_type": "display_data",
          "data": {
            "text/plain": [
              "<IPython.core.display.Markdown object>"
            ],
            "text/markdown": "<br> 174005:  all day even in 85 degree weather. i have **sensitive** oily skin and this is perfect for me. <br>"
          },
          "metadata": {}
        },
        {
          "output_type": "display_data",
          "data": {
            "text/plain": [
              "<IPython.core.display.Markdown object>"
            ],
            "text/markdown": "<br> 174135:  y-i love this product-i also have **sensitive** skin and don 't like to wear too much <br>"
          },
          "metadata": {}
        },
        {
          "output_type": "display_data",
          "data": {
            "text/plain": [
              "<IPython.core.display.Markdown object>"
            ],
            "text/markdown": "<br> 174318:  !! i would deff recommended if you have **sensitive** dry skin. it works wonders. i love how <br>"
          },
          "metadata": {}
        },
        {
          "output_type": "display_data",
          "data": {
            "text/plain": [
              "<IPython.core.display.Markdown object>"
            ],
            "text/markdown": "<br> 176044:  lotion, which i love and soothes my **sensitive** skin. unlike with most of the silicone based <br>"
          },
          "metadata": {}
        },
        {
          "output_type": "display_data",
          "data": {
            "text/plain": [
              "<IPython.core.display.Markdown object>"
            ],
            "text/markdown": "<br> 177231:  . i have tried every primer for my combination **sensitive** skin. from ysl, to laura mercier <br>"
          },
          "metadata": {}
        },
        {
          "output_type": "display_data",
          "data": {
            "text/plain": [
              "<IPython.core.display.Markdown object>"
            ],
            "text/markdown": "<br> 177921:  primers at all costs because my skin is super **sensitive** to silicones. i also have combination oil- <br>"
          },
          "metadata": {}
        },
        {
          "output_type": "display_data",
          "data": {
            "text/plain": [
              "<IPython.core.display.Markdown object>"
            ],
            "text/markdown": "<br> 178412:  dressed up and it's just amazing! having **sensitive**, highly allergic skin and rosacea, i was <br>"
          },
          "metadata": {}
        },
        {
          "output_type": "display_data",
          "data": {
            "text/plain": [
              "<IPython.core.display.Markdown object>"
            ],
            "text/markdown": "<br> 178696:  how it made some people break out ( i have **sensitive** skin ), but i haven 't had any <br>"
          },
          "metadata": {}
        },
        {
          "output_type": "display_data",
          "data": {
            "text/plain": [
              "<IPython.core.display.Markdown object>"
            ],
            "text/markdown": "<br> 179240:  my skin is oily and acne prone and **sensitive** to products. this goes on smooth like a lightweight <br>"
          },
          "metadata": {}
        },
        {
          "output_type": "display_data",
          "data": {
            "text/plain": [
              "<IPython.core.display.Markdown object>"
            ],
            "text/markdown": "<br> 180165:  caking. it also is very nice formula for **sensitive** skin, it doesn 't have a strong scent <br>"
          },
          "metadata": {}
        },
        {
          "output_type": "display_data",
          "data": {
            "text/plain": [
              "<IPython.core.display.Markdown object>"
            ],
            "text/markdown": "<br> 180317:  acne-prone, oily, or have **sensitive** skin! … read more best primer for dry <br>"
          },
          "metadata": {}
        },
        {
          "output_type": "display_data",
          "data": {
            "text/plain": [
              "<IPython.core.display.Markdown object>"
            ],
            "text/markdown": "<br> 180691:  . plus the scent is lovely. i have super **sensitive** skin and just about any type of lotion makes <br>"
          },
          "metadata": {}
        },
        {
          "output_type": "display_data",
          "data": {
            "text/plain": [
              "<IPython.core.display.Markdown object>"
            ],
            "text/markdown": "<br> 181207:  makes my skin look great! i have dry, **sensitive** skin. this means i have to wear a moist <br>"
          },
          "metadata": {}
        },
        {
          "output_type": "display_data",
          "data": {
            "text/plain": [
              "<IPython.core.display.Markdown object>"
            ],
            "text/markdown": "<br> 182832:  sunscreen. love this primer. i have **sensitive** skin too and no problems with this. light coconut <br>"
          },
          "metadata": {}
        },
        {
          "output_type": "display_data",
          "data": {
            "text/plain": [
              "<IPython.core.display.Markdown object>"
            ],
            "text/markdown": "<br> 183028:  product is definitely not good for me i have very **sensitive** fair skin. i foolishly didn 't read <br>"
          },
          "metadata": {}
        },
        {
          "output_type": "display_data",
          "data": {
            "text/plain": [
              "<IPython.core.display.Markdown object>"
            ],
            "text/markdown": "<br> 183982:  one, it peaked my interest. since i have **sensitive** skin, i always read a number of reviews for <br>"
          },
          "metadata": {}
        },
        {
          "output_type": "display_data",
          "data": {
            "text/plain": [
              "<IPython.core.display.Markdown object>"
            ],
            "text/markdown": "<br> 185382:  waterline let alone lash line because i was so **sensitive**. could not keep my eyes open and would not <br>"
          },
          "metadata": {}
        },
        {
          "output_type": "display_data",
          "data": {
            "text/plain": [
              "<IPython.core.display.Markdown object>"
            ],
            "text/markdown": "<br> 185398:  eyes open and would not recommend it for people with **sensitive** eyes. i have been trying out this pencil for <br>"
          },
          "metadata": {}
        },
        {
          "output_type": "display_data",
          "data": {
            "text/plain": [
              "<IPython.core.display.Markdown object>"
            ],
            "text/markdown": "<br> 187400:  lining my waterline for years and do not have **sensitive** eyes in general but for some reason i can ' <br>"
          },
          "metadata": {}
        },
        {
          "output_type": "display_data",
          "data": {
            "text/plain": [
              "<IPython.core.display.Markdown object>"
            ],
            "text/markdown": "<br> 187941:  t have any smudging. i have pretty **sensitive** eyes, and this didn 't bother them one <br>"
          },
          "metadata": {}
        },
        {
          "output_type": "display_data",
          "data": {
            "text/plain": [
              "<IPython.core.display.Markdown object>"
            ],
            "text/markdown": "<br> 188768:  the hunt for something that 'll work with my **sensitive** eyes and oil-slick eyelids. i bought this <br>"
          },
          "metadata": {}
        },
        {
          "output_type": "display_data",
          "data": {
            "text/plain": [
              "<IPython.core.display.Markdown object>"
            ],
            "text/markdown": "<br> 189513:  . maybe i just have a dud and too **sensitive** eyes … read more this is probably the 10th eye <br>"
          },
          "metadata": {}
        },
        {
          "output_type": "display_data",
          "data": {
            "text/plain": [
              "<IPython.core.display.Markdown object>"
            ],
            "text/markdown": "<br> 192046:  ... which is coming from someone with very **sensitive** eyes. i also use this to tightline with <br>"
          },
          "metadata": {}
        },
        {
          "output_type": "display_data",
          "data": {
            "text/plain": [
              "<IPython.core.display.Markdown object>"
            ],
            "text/markdown": "<br> 198649:  fan of waterproof makeup since my eyes can be **sensitive** but this liner does not irritate my eyes <br>"
          },
          "metadata": {}
        },
        {
          "output_type": "display_data",
          "data": {
            "text/plain": [
              "<IPython.core.display.Markdown object>"
            ],
            "text/markdown": "<br> 201040:  let me first preface by stating that i have extremely **sensitive**, allergy-prone, and watery eyes. <br>"
          },
          "metadata": {}
        },
        {
          "output_type": "display_data",
          "data": {
            "text/plain": [
              "<IPython.core.display.Markdown object>"
            ],
            "text/markdown": "<br> 204296:  's fine. just a warning to those with **sensitive** eyes! i love the vibrance of the <br>"
          },
          "metadata": {}
        },
        {
          "output_type": "display_data",
          "data": {
            "text/plain": [
              "<IPython.core.display.Markdown object>"
            ],
            "text/markdown": "<br> 204679:  the eyeliner on very difficult. i also have **sensitive** allergy prone eyes which is why i don ' <br>"
          },
          "metadata": {}
        },
        {
          "output_type": "display_data",
          "data": {
            "text/plain": [
              "<IPython.core.display.Markdown object>"
            ],
            "text/markdown": "<br> 209885:  what to do? a few notes: i have **sensitive** eyes ( allergies ) that water terribly when <br>"
          },
          "metadata": {}
        },
        {
          "output_type": "display_data",
          "data": {
            "text/plain": [
              "<IPython.core.display.Markdown object>"
            ],
            "text/markdown": "<br> 218240:  recommend this for every day use to someone who has **sensitive** skin or eyes. recently received this as a birthday <br>"
          },
          "metadata": {}
        },
        {
          "output_type": "display_data",
          "data": {
            "text/plain": [
              "<IPython.core.display.Markdown object>"
            ],
            "text/markdown": "<br> 218641:  only eyeliner that does not irritate my **sensitive** eyes. my new favorite! i bought the high <br>"
          },
          "metadata": {}
        },
        {
          "output_type": "display_data",
          "data": {
            "text/plain": [
              "<IPython.core.display.Markdown object>"
            ],
            "text/markdown": "<br> 221080:  only recommend this product to those who do not have **sensitive** eyes, or do not react to use of this <br>"
          },
          "metadata": {}
        },
        {
          "output_type": "display_data",
          "data": {
            "text/plain": [
              "<IPython.core.display.Markdown object>"
            ],
            "text/markdown": "<br> 222657:  on smooth, quick and creamy. i have extremely **sensitive** eyes and wear glasses, and a lot of liner <br>"
          },
          "metadata": {}
        },
        {
          "output_type": "display_data",
          "data": {
            "text/plain": [
              "<IPython.core.display.Markdown object>"
            ],
            "text/markdown": "<br> 224083:  . the very best. easy application and nice for **sensitive** eyes wow, i love this eyeliner! i <br>"
          },
          "metadata": {}
        },
        {
          "output_type": "display_data",
          "data": {
            "text/plain": [
              "<IPython.core.display.Markdown object>"
            ],
            "text/markdown": "<br> 227826:  and does not irritate my eyes which are **sensitive**. as eye liner goes, it's about <br>"
          },
          "metadata": {}
        },
        {
          "output_type": "display_data",
          "data": {
            "text/plain": [
              "<IPython.core.display.Markdown object>"
            ],
            "text/markdown": "<br> 231586:  ). i am not sure if this formula is **sensitive** to room temperature, but it was warm in the <br>"
          },
          "metadata": {}
        },
        {
          "output_type": "display_data",
          "data": {
            "text/plain": [
              "<IPython.core.display.Markdown object>"
            ],
            "text/markdown": "<br> 234207:  -tip ( i recommend make up forever's **sensitive** eye remover. it's blue and so <br>"
          },
          "metadata": {}
        },
        {
          "output_type": "display_data",
          "data": {
            "text/plain": [
              "<IPython.core.display.Markdown object>"
            ],
            "text/markdown": "<br> 237730:  as well. as far as being good for my **sensitive** skin: i accidentally stabbed myself in the eye twice <br>"
          },
          "metadata": {}
        },
        {
          "output_type": "display_data",
          "data": {
            "text/plain": [
              "<IPython.core.display.Markdown object>"
            ],
            "text/markdown": "<br> 239393:  black, last all day.. i have really **sensitive** eyes and this does not irratate at all <br>"
          },
          "metadata": {}
        },
        {
          "output_type": "display_data",
          "data": {
            "text/plain": [
              "<IPython.core.display.Markdown object>"
            ],
            "text/markdown": "<br> 240547:  seen about this liner. … read more i have **sensitive** easily irritated eyes and this does not bother them at <br>"
          },
          "metadata": {}
        },
        {
          "output_type": "display_data",
          "data": {
            "text/plain": [
              "<IPython.core.display.Markdown object>"
            ],
            "text/markdown": "<br> 262200:  gets rid of it! … read more i have **sensitive** eyes and with all other liquid eyeliners they <br>"
          },
          "metadata": {}
        },
        {
          "output_type": "display_data",
          "data": {
            "text/plain": [
              "<IPython.core.display.Markdown object>"
            ],
            "text/markdown": "<br> 263270:  eyeliner of all time. i 've got **sensitive** eyes and oily eyelids, so i 've <br>"
          },
          "metadata": {}
        },
        {
          "output_type": "display_data",
          "data": {
            "text/plain": [
              "<IPython.core.display.Markdown object>"
            ],
            "text/markdown": "<br> 266501:  's brush tip is much more comfortable on my **sensitive** eyes than the felt tip on kat von d ' <br>"
          },
          "metadata": {}
        },
        {
          "output_type": "display_data",
          "data": {
            "text/plain": [
              "<IPython.core.display.Markdown object>"
            ],
            "text/markdown": "<br> 272143:  first; if, for example, your eyes are **sensitive** and tend to tear up when you 're applying <br>"
          },
          "metadata": {}
        },
        {
          "output_type": "display_data",
          "data": {
            "text/plain": [
              "<IPython.core.display.Markdown object>"
            ],
            "text/markdown": "<br> 281776:  ruin such a good thing? it can dry out **sensitive** eyelids. the consistency is pretty thick and you only <br>"
          },
          "metadata": {}
        },
        {
          "output_type": "display_data",
          "data": {
            "text/plain": [
              "<IPython.core.display.Markdown object>"
            ],
            "text/markdown": "<br> 281825:  's smooth and creamy and does not bother my **sensitive** skin. as for how well it works i have <br>"
          },
          "metadata": {}
        },
        {
          "output_type": "display_data",
          "data": {
            "text/plain": [
              "<IPython.core.display.Markdown object>"
            ],
            "text/markdown": "<br> 286571:  to heal for several days after. if you have **sensitive** skin, i would not recommend this product to you <br>"
          },
          "metadata": {}
        },
        {
          "output_type": "display_data",
          "data": {
            "text/plain": [
              "<IPython.core.display.Markdown object>"
            ],
            "text/markdown": "<br> 287928:  me. however, it is really harsh for the **sensitive** eyelid skin. i had no troubles at first <br>"
          },
          "metadata": {}
        },
        {
          "output_type": "display_data",
          "data": {
            "text/plain": [
              "<IPython.core.display.Markdown object>"
            ],
            "text/markdown": "<br> 287972:  up but it is too harsh for my generally moderately **sensitive** skin. i 'm 32 so definitely at the <br>"
          },
          "metadata": {}
        },
        {
          "output_type": "display_data",
          "data": {
            "text/plain": [
              "<IPython.core.display.Markdown object>"
            ],
            "text/markdown": "<br> 294293:  -aging version is much better. i have super **sensitive** eyelids and have reacted badly to other brands of prime <br>"
          },
          "metadata": {}
        },
        {
          "output_type": "display_data",
          "data": {
            "text/plain": [
              "<IPython.core.display.Markdown object>"
            ],
            "text/markdown": "<br> 294672:  sure if sephora carries it yet but i have **sensitive** skin and it literally melts makeup away gently and <br>"
          },
          "metadata": {}
        },
        {
          "output_type": "display_data",
          "data": {
            "text/plain": [
              "<IPython.core.display.Markdown object>"
            ],
            "text/markdown": "<br> 308101:  already sampling at the store. my entire body is **sensitive**, so i had to be real careful & pic <br>"
          },
          "metadata": {}
        },
        {
          "output_type": "display_data",
          "data": {
            "text/plain": [
              "<IPython.core.display.Markdown object>"
            ],
            "text/markdown": "<br> 325566:  this pen, and it doesn 't bother my **sensitive** eyes!!! will repurchase this great <br>"
          },
          "metadata": {}
        },
        {
          "output_type": "display_data",
          "data": {
            "text/plain": [
              "<IPython.core.display.Markdown object>"
            ],
            "text/markdown": "<br> 325776:  amazing for many reasons: 1. i have extremely **sensitive** eyes and it doesn 't even tingle when i <br>"
          },
          "metadata": {}
        },
        {
          "output_type": "display_data",
          "data": {
            "text/plain": [
              "<IPython.core.display.Markdown object>"
            ],
            "text/markdown": "<br> 331010:  't be disappointed! also-i have very **sensitive** eyes, and this product has not caused any problems <br>"
          },
          "metadata": {}
        },
        {
          "output_type": "display_data",
          "data": {
            "text/plain": [
              "<IPython.core.display.Markdown object>"
            ],
            "text/markdown": "<br> 331186:  hypoallergenic, my eyes are very **sensitive** and this eyeliner does not irritate them <br>"
          },
          "metadata": {}
        },
        {
          "output_type": "display_data",
          "data": {
            "text/plain": [
              "<IPython.core.display.Markdown object>"
            ],
            "text/markdown": "<br> 333168:  all kinds of eyeliner. my eyes are really **sensitive** and i my eyes randomly start crying through out the <br>"
          },
          "metadata": {}
        },
        {
          "output_type": "display_data",
          "data": {
            "text/plain": [
              "<IPython.core.display.Markdown object>"
            ],
            "text/markdown": "<br> 335337:  plus, it doesn 't irritate my **sensitive** eyes. it's worth every penny. as <br>"
          },
          "metadata": {}
        },
        {
          "output_type": "display_data",
          "data": {
            "text/plain": [
              "<IPython.core.display.Markdown object>"
            ],
            "text/markdown": "<br> 335643:  waterproof eyeliner that stays put. i have **sensitive** eyes and this does not burn. no racco <br>"
          },
          "metadata": {}
        },
        {
          "output_type": "display_data",
          "data": {
            "text/plain": [
              "<IPython.core.display.Markdown object>"
            ],
            "text/markdown": "<br> 350574:  best products ive ever bought! i have really **sensitive** skin and it breaks out or gets irritated pretty easily <br>"
          },
          "metadata": {}
        },
        {
          "output_type": "display_data",
          "data": {
            "text/plain": [
              "<IPython.core.display.Markdown object>"
            ],
            "text/markdown": "<br> 354482:  but it ’ s a great product! i have **sensitive** skin and have always struggled to find the right products <br>"
          },
          "metadata": {}
        },
        {
          "output_type": "display_data",
          "data": {
            "text/plain": [
              "<IPython.core.display.Markdown object>"
            ],
            "text/markdown": "<br> 354807:  make me break out so it's good for **sensitive** skin! i 'll be buying this again! <br>"
          },
          "metadata": {}
        },
        {
          "output_type": "display_data",
          "data": {
            "text/plain": [
              "<IPython.core.display.Markdown object>"
            ],
            "text/markdown": "<br> 359220:  . since then, my body has become very heat **sensitive**. even in the dead of winter, i experience <br>"
          },
          "metadata": {}
        },
        {
          "output_type": "display_data",
          "data": {
            "text/plain": [
              "<IPython.core.display.Markdown object>"
            ],
            "text/markdown": "<br> 360683:  i have normal to dry skin that's very **sensitive** & this product does not dry out or irrita <br>"
          },
          "metadata": {}
        },
        {
          "output_type": "display_data",
          "data": {
            "text/plain": [
              "<IPython.core.display.Markdown object>"
            ],
            "text/markdown": "<br> 360778:  at the end of the shift. i have extremely **sensitive** skin that is acne prone, and this has <br>"
          },
          "metadata": {}
        },
        {
          "output_type": "display_data",
          "data": {
            "text/plain": [
              "<IPython.core.display.Markdown object>"
            ],
            "text/markdown": "<br> 361831:  -greasy, didn 't irritate my **sensitive** skin, and i didn 't notice any fragrance <br>"
          },
          "metadata": {}
        },
        {
          "output_type": "display_data",
          "data": {
            "text/plain": [
              "<IPython.core.display.Markdown object>"
            ],
            "text/markdown": "<br> 363309:  skin itchy. i returned it sadly. my **sensitive** skin doesn 't seem to care much for it <br>"
          },
          "metadata": {}
        },
        {
          "output_type": "display_data",
          "data": {
            "text/plain": [
              "<IPython.core.display.Markdown object>"
            ],
            "text/markdown": "<br> 370747:  t do anything for me. i have combination, **sensitive** skin and live in a pretty humid environment ( houston <br>"
          },
          "metadata": {}
        },
        {
          "output_type": "display_data",
          "data": {
            "text/plain": [
              "<IPython.core.display.Markdown object>"
            ],
            "text/markdown": "<br> 371587:  still work for girls with less acne prone / **sensitive** skin. i submitted a similar review of this product <br>"
          },
          "metadata": {}
        },
        {
          "output_type": "display_data",
          "data": {
            "text/plain": [
              "<IPython.core.display.Markdown object>"
            ],
            "text/markdown": "<br> 371622:  hopefully this review will, since it may help other **sensitive** skin girls avoid a major breakout. … read more <br>"
          },
          "metadata": {}
        },
        {
          "output_type": "display_data",
          "data": {
            "text/plain": [
              "<IPython.core.display.Markdown object>"
            ],
            "text/markdown": "<br> 372567:  it everyday!! i 'm asian, super **sensitive**, oily, acne prone skin and i <br>"
          },
          "metadata": {}
        }
      ]
    },
    {
      "cell_type": "markdown",
      "metadata": {
        "id": "FHpPAIpHelDv"
      },
      "source": [
        "Here we make a list of all the context views for our keyword."
      ]
    },
    {
      "cell_type": "code",
      "metadata": {
        "id": "jBKdEKzO3ndD"
      },
      "source": [
        "word_positions = get_word_positions([\"sensitive\"])\n",
        "\n",
        "keyword_contexts = []\n",
        "keyword_contexts_tokens = []\n",
        "\n",
        "for position in word_positions:\n",
        "\n",
        "  keyword_contexts.append(get_context_clean(position))\n",
        "  keyword_contexts_tokens.append(get_context(position))"
      ],
      "execution_count": null,
      "outputs": []
    },
    {
      "cell_type": "markdown",
      "metadata": {
        "id": "FOW3UJCU941G"
      },
      "source": [
        "<br><br><br><br>\n",
        "\n",
        "## **Get word vectors and reduce them with PCA**"
      ]
    },
    {
      "cell_type": "markdown",
      "metadata": {
        "id": "Xggu6BRkAgGu"
      },
      "source": [
        "Finally, we don't just want to *read* all the instances of \"sensitive\" in the collection, we want to *measure* the similarity of all the instances of \"sensitive.\"\n",
        "\n",
        "To measure similarity between all the instances of \"sensitive,\" we will take the vectors for each instance and then use PCA to reduce each 768-dimensionsal vector to the 2 dimensions that capture the most variation."
      ]
    },
    {
      "cell_type": "code",
      "metadata": {
        "colab": {
          "base_uri": "https://localhost:8080/"
        },
        "id": "ZnaABMiLsTAQ",
        "outputId": "e8b966e7-a8a4-4050-f17d-dee38c0ca439"
      },
      "source": [
        "from sklearn.decomposition import PCA\n",
        "\n",
        "word_positions = get_word_positions([\"sensitive\"])\n",
        "\n",
        "pca = PCA(n_components=2)\n",
        "\n",
        "pca.fit(all_word_vectors[word_positions,:].T)"
      ],
      "execution_count": null,
      "outputs": [
        {
          "output_type": "execute_result",
          "data": {
            "text/plain": [
              "PCA(n_components=2)"
            ]
          },
          "metadata": {},
          "execution_count": 34
        }
      ]
    },
    {
      "cell_type": "markdown",
      "metadata": {
        "id": "nPWjXDxpevTe"
      },
      "source": [
        "Then, for convenience, we will put these PCA results into a Pandas DataFrame, which will use to generate an interactive plot."
      ]
    },
    {
      "cell_type": "code",
      "metadata": {
        "colab": {
          "base_uri": "https://localhost:8080/",
          "height": 319
        },
        "id": "XUxuru27DrMm",
        "outputId": "96620913-8c6d-418b-8829-2363c4cd8bb6"
      },
      "source": [
        "df_to_plot = pd.DataFrame({\"x\": pca.components_[0,:], \n",
        "                           \"y\": pca.components_[1,:],\n",
        "                           \"context\": keyword_contexts, \n",
        "                           \"tokens\": keyword_contexts_tokens})\n",
        "df_to_plot.head()"
      ],
      "execution_count": null,
      "outputs": [
        {
          "output_type": "execute_result",
          "data": {
            "text/plain": [
              "          x         y  \\\n",
              "0 -0.079377  0.017589   \n",
              "1 -0.095697 -0.080537   \n",
              "2 -0.095200 -0.087407   \n",
              "3 -0.094516 -0.149339   \n",
              "4 -0.093228 -0.060299   \n",
              "\n",
              "                                                                                                     context  \\\n",
              "0            a compliment. worth the money. not for the **sensitive** type this is not at all worth the hype   \n",
              "1                the day. this product was not good for my **sensitive** eyes and for the price i think it's   \n",
              "2  have problems with the staying power of mascaras or **sensitive** eyes i would skip this one. … read more   \n",
              "3            brand. i absolutely loved it. i have very **sensitive** eyes and most mascaras irritate my eyes   \n",
              "4            udge easy, doesn 't irritate my **sensitive** eyes, and gives my amazing definition and volume!   \n",
              "\n",
              "                                                                                                      tokens  \n",
              "0           a compliment . worth the money . not for the sensitive type this is not at all worth the h ##ype  \n",
              "1                 the day . this product was not good for my sensitive eyes and for the price i think it ' s  \n",
              "2  have problems with the staying power of mascara ##s or sensitive eyes i would skip this one . … read more  \n",
              "3     brand . i absolutely loved it . i have very sensitive eyes and most mascara ##s ir ##rita ##te my eyes  \n",
              "4    ##udge easy , doesn ' t ir ##rita ##te my sensitive eyes , and gives my amazing definition and volume !  "
            ],
            "text/html": [
              "\n",
              "  <div id=\"df-47ef9011-f0f5-4114-aaf6-7bab741c1bed\">\n",
              "    <div class=\"colab-df-container\">\n",
              "      <div>\n",
              "<style scoped>\n",
              "    .dataframe tbody tr th:only-of-type {\n",
              "        vertical-align: middle;\n",
              "    }\n",
              "\n",
              "    .dataframe tbody tr th {\n",
              "        vertical-align: top;\n",
              "    }\n",
              "\n",
              "    .dataframe thead th {\n",
              "        text-align: right;\n",
              "    }\n",
              "</style>\n",
              "<table border=\"1\" class=\"dataframe\">\n",
              "  <thead>\n",
              "    <tr style=\"text-align: right;\">\n",
              "      <th></th>\n",
              "      <th>x</th>\n",
              "      <th>y</th>\n",
              "      <th>context</th>\n",
              "      <th>tokens</th>\n",
              "    </tr>\n",
              "  </thead>\n",
              "  <tbody>\n",
              "    <tr>\n",
              "      <th>0</th>\n",
              "      <td>-0.079377</td>\n",
              "      <td>0.017589</td>\n",
              "      <td>a compliment. worth the money. not for the **sensitive** type this is not at all worth the hype</td>\n",
              "      <td>a compliment . worth the money . not for the sensitive type this is not at all worth the h ##ype</td>\n",
              "    </tr>\n",
              "    <tr>\n",
              "      <th>1</th>\n",
              "      <td>-0.095697</td>\n",
              "      <td>-0.080537</td>\n",
              "      <td>the day. this product was not good for my **sensitive** eyes and for the price i think it's</td>\n",
              "      <td>the day . this product was not good for my sensitive eyes and for the price i think it ' s</td>\n",
              "    </tr>\n",
              "    <tr>\n",
              "      <th>2</th>\n",
              "      <td>-0.095200</td>\n",
              "      <td>-0.087407</td>\n",
              "      <td>have problems with the staying power of mascaras or **sensitive** eyes i would skip this one. … read more</td>\n",
              "      <td>have problems with the staying power of mascara ##s or sensitive eyes i would skip this one . … read more</td>\n",
              "    </tr>\n",
              "    <tr>\n",
              "      <th>3</th>\n",
              "      <td>-0.094516</td>\n",
              "      <td>-0.149339</td>\n",
              "      <td>brand. i absolutely loved it. i have very **sensitive** eyes and most mascaras irritate my eyes</td>\n",
              "      <td>brand . i absolutely loved it . i have very sensitive eyes and most mascara ##s ir ##rita ##te my eyes</td>\n",
              "    </tr>\n",
              "    <tr>\n",
              "      <th>4</th>\n",
              "      <td>-0.093228</td>\n",
              "      <td>-0.060299</td>\n",
              "      <td>udge easy, doesn 't irritate my **sensitive** eyes, and gives my amazing definition and volume!</td>\n",
              "      <td>##udge easy , doesn ' t ir ##rita ##te my sensitive eyes , and gives my amazing definition and volume !</td>\n",
              "    </tr>\n",
              "  </tbody>\n",
              "</table>\n",
              "</div>\n",
              "      <button class=\"colab-df-convert\" onclick=\"convertToInteractive('df-47ef9011-f0f5-4114-aaf6-7bab741c1bed')\"\n",
              "              title=\"Convert this dataframe to an interactive table.\"\n",
              "              style=\"display:none;\">\n",
              "        \n",
              "  <svg xmlns=\"http://www.w3.org/2000/svg\" height=\"24px\"viewBox=\"0 0 24 24\"\n",
              "       width=\"24px\">\n",
              "    <path d=\"M0 0h24v24H0V0z\" fill=\"none\"/>\n",
              "    <path d=\"M18.56 5.44l.94 2.06.94-2.06 2.06-.94-2.06-.94-.94-2.06-.94 2.06-2.06.94zm-11 1L8.5 8.5l.94-2.06 2.06-.94-2.06-.94L8.5 2.5l-.94 2.06-2.06.94zm10 10l.94 2.06.94-2.06 2.06-.94-2.06-.94-.94-2.06-.94 2.06-2.06.94z\"/><path d=\"M17.41 7.96l-1.37-1.37c-.4-.4-.92-.59-1.43-.59-.52 0-1.04.2-1.43.59L10.3 9.45l-7.72 7.72c-.78.78-.78 2.05 0 2.83L4 21.41c.39.39.9.59 1.41.59.51 0 1.02-.2 1.41-.59l7.78-7.78 2.81-2.81c.8-.78.8-2.07 0-2.86zM5.41 20L4 18.59l7.72-7.72 1.47 1.35L5.41 20z\"/>\n",
              "  </svg>\n",
              "      </button>\n",
              "      \n",
              "  <style>\n",
              "    .colab-df-container {\n",
              "      display:flex;\n",
              "      flex-wrap:wrap;\n",
              "      gap: 12px;\n",
              "    }\n",
              "\n",
              "    .colab-df-convert {\n",
              "      background-color: #E8F0FE;\n",
              "      border: none;\n",
              "      border-radius: 50%;\n",
              "      cursor: pointer;\n",
              "      display: none;\n",
              "      fill: #1967D2;\n",
              "      height: 32px;\n",
              "      padding: 0 0 0 0;\n",
              "      width: 32px;\n",
              "    }\n",
              "\n",
              "    .colab-df-convert:hover {\n",
              "      background-color: #E2EBFA;\n",
              "      box-shadow: 0px 1px 2px rgba(60, 64, 67, 0.3), 0px 1px 3px 1px rgba(60, 64, 67, 0.15);\n",
              "      fill: #174EA6;\n",
              "    }\n",
              "\n",
              "    [theme=dark] .colab-df-convert {\n",
              "      background-color: #3B4455;\n",
              "      fill: #D2E3FC;\n",
              "    }\n",
              "\n",
              "    [theme=dark] .colab-df-convert:hover {\n",
              "      background-color: #434B5C;\n",
              "      box-shadow: 0px 1px 3px 1px rgba(0, 0, 0, 0.15);\n",
              "      filter: drop-shadow(0px 1px 2px rgba(0, 0, 0, 0.3));\n",
              "      fill: #FFFFFF;\n",
              "    }\n",
              "  </style>\n",
              "\n",
              "      <script>\n",
              "        const buttonEl =\n",
              "          document.querySelector('#df-47ef9011-f0f5-4114-aaf6-7bab741c1bed button.colab-df-convert');\n",
              "        buttonEl.style.display =\n",
              "          google.colab.kernel.accessAllowed ? 'block' : 'none';\n",
              "\n",
              "        async function convertToInteractive(key) {\n",
              "          const element = document.querySelector('#df-47ef9011-f0f5-4114-aaf6-7bab741c1bed');\n",
              "          const dataTable =\n",
              "            await google.colab.kernel.invokeFunction('convertToInteractive',\n",
              "                                                     [key], {});\n",
              "          if (!dataTable) return;\n",
              "\n",
              "          const docLinkHtml = 'Like what you see? Visit the ' +\n",
              "            '<a target=\"_blank\" href=https://colab.research.google.com/notebooks/data_table.ipynb>data table notebook</a>'\n",
              "            + ' to learn more about interactive tables.';\n",
              "          element.innerHTML = '';\n",
              "          dataTable['output_type'] = 'display_data';\n",
              "          await google.colab.output.renderOutput(dataTable, element);\n",
              "          const docLink = document.createElement('div');\n",
              "          docLink.innerHTML = docLinkHtml;\n",
              "          element.appendChild(docLink);\n",
              "        }\n",
              "      </script>\n",
              "    </div>\n",
              "  </div>\n",
              "  "
            ]
          },
          "metadata": {},
          "execution_count": 35
        }
      ]
    },
    {
      "cell_type": "markdown",
      "metadata": {
        "id": "quwSCsFDUywu"
      },
      "source": [
        "<br><br><br><br>\n",
        "\n",
        "## **Match context with original text and metadata** "
      ]
    },
    {
      "cell_type": "markdown",
      "metadata": {
        "id": "IA3Cd2pgwDcY"
      },
      "source": [
        "It's helpful (and fun!) to know where each instance of a word actually comes from. The easiest method we've found for matching a bit of context with its original review and metdata is to 1) add a tokenized version of each review to our original Pandas Dataframe 2) check to see if the context shows up in a review 3) and if so, grab the original review and metadata."
      ]
    },
    {
      "cell_type": "code",
      "metadata": {
        "id": "DmY6MMGIhWGJ"
      },
      "source": [
        "# Tokenize all the reviews\n",
        "tokenized_reviews = tokenizer(texts, truncation=True, padding=True, return_tensors=\"pt\")\n",
        "\n",
        "# Get a list of all the tokens for each review\n",
        "all_tokenized_reviews = []\n",
        "for i in range(len(tokenized_reviews['input_ids'])):\n",
        "  all_tokenized_reviews.append(' '.join(tokenized_reviews[i].tokens))\n",
        "\n",
        "# Add them to the original DataFrame\n",
        "reviews_df['tokens'] = all_tokenized_reviews"
      ],
      "execution_count": null,
      "outputs": []
    },
    {
      "cell_type": "code",
      "metadata": {
        "id": "8Uoqk2yQjQhH"
      },
      "source": [
        "def find_original_review(rows):\n",
        "\n",
        "  \"\"\"This function checks to see whether the context tokens show up in the original review,\n",
        "  and if so, returns metadata about the title, author, period, and URL for that review\"\"\"\n",
        "\n",
        "  text = rows['tokens'].replace('**', '')\n",
        "  text = text[55:70]\n",
        "\n",
        "  if reviews_df['tokens'].str.contains(text, regex=False).any() == True :\n",
        "    row = reviews_df[reviews_df['tokens'].str.contains(text, regex=False)].values[0]\n",
        "    stars, brand, name, makeup_type = row[1], row[5], row[6], row[7]\n",
        "    return stars, brand, name, makeup_type\n",
        "  else:\n",
        "    return None, None, None, None"
      ],
      "execution_count": null,
      "outputs": []
    },
    {
      "cell_type": "code",
      "metadata": {
        "id": "KA3qC3py0uwf"
      },
      "source": [
        "df_to_plot[['stars', 'brand', 'name', 'type']] = df_to_plot.apply(find_original_review, axis='columns', result_type='expand')"
      ],
      "execution_count": null,
      "outputs": []
    },
    {
      "cell_type": "markdown",
      "metadata": {
        "id": "eu4SZ7R7U8Na"
      },
      "source": [
        "<br><br><br><br>\n",
        "\n",
        "## **Plot word embeddings**"
      ]
    },
    {
      "cell_type": "markdown",
      "metadata": {
        "id": "g5PQYxa_ezps"
      },
      "source": [
        "Lastly, we will plot the words vectors from this DataFrame with the Python data viz library [Altair](https://altair-viz.github.io/gallery/scatter_tooltips.html)."
      ]
    },
    {
      "cell_type": "code",
      "metadata": {
        "id": "uwyogpt7zkOk"
      },
      "source": [
        "import altair as alt"
      ],
      "execution_count": null,
      "outputs": []
    },
    {
      "cell_type": "code",
      "metadata": {
        "colab": {
          "base_uri": "https://localhost:8080/",
          "height": 585
        },
        "id": "hE_kCW9QUDKX",
        "outputId": "87ec1702-b7c0-4634-9625-3a4264d8f05b"
      },
      "source": [
        "alt.Chart(df_to_plot, title=\"Word Similarity: Sensitive\").mark_circle(size=200).encode(\n",
        "    alt.X('x',\n",
        "        scale=alt.Scale(zero=False)\n",
        "    ), y=\"y\",\n",
        "    # If you click a point, take you to the URL link \n",
        "    # href=\"link\",\n",
        "    # The categories that show up in the hover tooltip\n",
        "    tooltip=['context', 'type', 'brand', 'name',\n",
        "    ).interactive().properties(\n",
        "    width=500,\n",
        "    height=500\n",
        ")"
      ],
      "execution_count": null,
      "outputs": [
        {
          "output_type": "execute_result",
          "data": {
            "text/html": [
              "\n",
              "<div id=\"altair-viz-d5fc8dd4f9284b748b61071b25eb898f\"></div>\n",
              "<script type=\"text/javascript\">\n",
              "  var VEGA_DEBUG = (typeof VEGA_DEBUG == \"undefined\") ? {} : VEGA_DEBUG;\n",
              "  (function(spec, embedOpt){\n",
              "    let outputDiv = document.currentScript.previousElementSibling;\n",
              "    if (outputDiv.id !== \"altair-viz-d5fc8dd4f9284b748b61071b25eb898f\") {\n",
              "      outputDiv = document.getElementById(\"altair-viz-d5fc8dd4f9284b748b61071b25eb898f\");\n",
              "    }\n",
              "    const paths = {\n",
              "      \"vega\": \"https://cdn.jsdelivr.net/npm//vega@5?noext\",\n",
              "      \"vega-lib\": \"https://cdn.jsdelivr.net/npm//vega-lib?noext\",\n",
              "      \"vega-lite\": \"https://cdn.jsdelivr.net/npm//vega-lite@4.17.0?noext\",\n",
              "      \"vega-embed\": \"https://cdn.jsdelivr.net/npm//vega-embed@6?noext\",\n",
              "    };\n",
              "\n",
              "    function maybeLoadScript(lib, version) {\n",
              "      var key = `${lib.replace(\"-\", \"\")}_version`;\n",
              "      return (VEGA_DEBUG[key] == version) ?\n",
              "        Promise.resolve(paths[lib]) :\n",
              "        new Promise(function(resolve, reject) {\n",
              "          var s = document.createElement('script');\n",
              "          document.getElementsByTagName(\"head\")[0].appendChild(s);\n",
              "          s.async = true;\n",
              "          s.onload = () => {\n",
              "            VEGA_DEBUG[key] = version;\n",
              "            return resolve(paths[lib]);\n",
              "          };\n",
              "          s.onerror = () => reject(`Error loading script: ${paths[lib]}`);\n",
              "          s.src = paths[lib];\n",
              "        });\n",
              "    }\n",
              "\n",
              "    function showError(err) {\n",
              "      outputDiv.innerHTML = `<div class=\"error\" style=\"color:red;\">${err}</div>`;\n",
              "      throw err;\n",
              "    }\n",
              "\n",
              "    function displayChart(vegaEmbed) {\n",
              "      vegaEmbed(outputDiv, spec, embedOpt)\n",
              "        .catch(err => showError(`Javascript Error: ${err.message}<br>This usually means there's a typo in your chart specification. See the javascript console for the full traceback.`));\n",
              "    }\n",
              "\n",
              "    if(typeof define === \"function\" && define.amd) {\n",
              "      requirejs.config({paths});\n",
              "      require([\"vega-embed\"], displayChart, err => showError(`Error loading script: ${err.message}`));\n",
              "    } else {\n",
              "      maybeLoadScript(\"vega\", \"5\")\n",
              "        .then(() => maybeLoadScript(\"vega-lite\", \"4.17.0\"))\n",
              "        .then(() => maybeLoadScript(\"vega-embed\", \"6\"))\n",
              "        .catch(showError)\n",
              "        .then(() => displayChart(vegaEmbed));\n",
              "    }\n",
              "  })({\"config\": {\"view\": {\"continuousWidth\": 400, \"continuousHeight\": 300}}, \"data\": {\"name\": \"data-d1d26efaa97bb4b45ecabcf6a81580f1\"}, \"mark\": {\"type\": \"circle\", \"size\": 200}, \"encoding\": {\"tooltip\": [{\"field\": \"context\", \"type\": \"nominal\"}, {\"field\": \"type\", \"type\": \"nominal\"}, {\"field\": \"brand\", \"type\": \"nominal\"}, {\"field\": \"name\", \"type\": \"nominal\"}], \"x\": {\"field\": \"x\", \"scale\": {\"zero\": false}, \"type\": \"quantitative\"}, \"y\": {\"field\": \"y\", \"type\": \"quantitative\"}}, \"height\": 500, \"selection\": {\"selector002\": {\"type\": \"interval\", \"bind\": \"scales\", \"encodings\": [\"x\", \"y\"]}}, \"title\": \"Word Similarity: Sensitive\", \"width\": 500, \"$schema\": \"https://vega.github.io/schema/vega-lite/v4.17.0.json\", \"datasets\": {\"data-d1d26efaa97bb4b45ecabcf6a81580f1\": [{\"x\": -0.07937705516815186, \"y\": 0.017588837072253227, \"context\": \"a compliment. worth the money. not for the **sensitive** type this is not at all worth the hype\", \"tokens\": \"a compliment . worth the money . not for the sensitive type this is not at all worth the h ##ype\", \"stars\": null, \"brand\": null, \"name\": null, \"type\": null}, {\"x\": -0.09569748491048813, \"y\": -0.08053726702928543, \"context\": \"the day. this product was not good for my **sensitive** eyes and for the price i think it's\", \"tokens\": \"the day . this product was not good for my sensitive eyes and for the price i think it ' s\", \"stars\": \"2 stars\", \"brand\": \"Too Faced\", \"name\": \"Better Than Sex Mascara\", \"type\": \"Mascara\"}, {\"x\": -0.09519977122545242, \"y\": -0.0874067172408104, \"context\": \"have problems with the staying power of mascaras or **sensitive** eyes i would skip this one. \\u2026 read more\", \"tokens\": \"have problems with the staying power of mascara ##s or sensitive eyes i would skip this one . \\u2026 read more\", \"stars\": \"2 stars\", \"brand\": \"Too Faced\", \"name\": \"Better Than Sex Mascara\", \"type\": \"Mascara\"}, {\"x\": -0.09451646357774734, \"y\": -0.149338960647583, \"context\": \"brand. i absolutely loved it. i have very **sensitive** eyes and most mascaras irritate my eyes\", \"tokens\": \"brand . i absolutely loved it . i have very sensitive eyes and most mascara ##s ir ##rita ##te my eyes\", \"stars\": \"5 stars\", \"brand\": \"Too Faced\", \"name\": \"Better Than Sex Mascara\", \"type\": \"Mascara\"}, {\"x\": -0.09322794526815414, \"y\": -0.06029924005270004, \"context\": \"udge easy, doesn 't irritate my **sensitive** eyes, and gives my amazing definition and volume!\", \"tokens\": \"##udge easy , doesn ' t ir ##rita ##te my sensitive eyes , and gives my amazing definition and volume !\", \"stars\": \"5 stars\", \"brand\": \"Too Faced\", \"name\": \"Better Than Sex Mascara\", \"type\": \"Mascara\"}, {\"x\": -0.0932665467262268, \"y\": -0.054526835680007935, \"context\": \"! to start off, i have really watery and **sensitive** eyes, so i can only wear waterproof mascara\", \"tokens\": \"! to start off , i have really watery and sensitive eyes , so i can only wear water ##proof mascara\", \"stars\": \"5 stars\", \"brand\": \"Too Faced\", \"name\": \"Better Than Sex Waterproof Mascara\", \"type\": \"Mascara\"}, {\"x\": -0.09144783765077591, \"y\": -0.05319560319185257, \"context\": \"to, so less rubbing is really nice for my **sensitive** eyes! \\u2026 read more this mascara is absolutely amazing\", \"tokens\": \"to , so less rubbing is really nice for my sensitive eyes ! \\u2026 read more this mascara is absolutely amazing\", \"stars\": \"5 stars\", \"brand\": \"Too Faced\", \"name\": \"Better Than Sex Waterproof Mascara\", \"type\": \"Mascara\"}, {\"x\": -0.09368494898080826, \"y\": -0.06728588044643402, \"context\": \". \\u2026 read more this mascara is great for my **sensitive**, watery eyes and oily lids. stays put\", \"tokens\": \". \\u2026 read more this mascara is great for my sensitive , watery eyes and oil ##y lids . stays put\", \"stars\": \"5 stars\", \"brand\": \"Too Faced\", \"name\": \"Better Than Sex Waterproof Mascara\", \"type\": \"Mascara\"}, {\"x\": -0.09208007156848907, \"y\": -0.11683399230241776, \"context\": \"also keeps my lashes very soft. i have very **sensitive** dry eyes and this does not aggravate them\", \"tokens\": \"also keeps my lashes very soft . i have very sensitive dry eyes and this does not ag ##gra ##vate them\", \"stars\": \"5 stars\", \"brand\": \"Too Faced\", \"name\": \"Better Than Sex Waterproof Mascara\", \"type\": \"Mascara\"}, {\"x\": -0.09259997308254242, \"y\": -0.06817717850208282, \"context\": \"it was a fiber mascara since my eyes are so **sensitive**. it does work and doesn 't smudge\", \"tokens\": \"it was a fiber mascara since my eyes are so sensitive . it does work and doesn ' t sm ##udge\", \"stars\": \"3 stars\", \"brand\": \"Urban Decay\", \"name\": \"Cannonball Ultra Waterproof Mascara\", \"type\": \"Mascara\"}, {\"x\": -0.09514334052801132, \"y\": -0.08047512918710709, \"context\": \"was told this was the best waterproof mascara for **sensitive** eyes. this stuff feels like razors when it\", \"tokens\": \"was told this was the best water ##proof mascara for sensitive eyes . this stuff feels like razor ##s when it\", \"stars\": \"1 star\", \"brand\": \"Urban Decay\", \"name\": \"Cannonball Ultra Waterproof Mascara\", \"type\": \"Mascara\"}, {\"x\": -0.09202203154563904, \"y\": -0.1369539350271225, \"context\": \"fab i decided this mascara is surprisingly great for **sensitive** eyes, and for people who are looking for a\", \"tokens\": \"fa ##b i decided this mascara is surprisingly great for sensitive eyes , and for people who are looking for a\", \"stars\": \"2 stars\", \"brand\": \"Too Faced\", \"name\": \"Better Than Sex Mascara\", \"type\": \"Mascara\"}, {\"x\": -0.09127550572156906, \"y\": -0.11675137281417847, \"context\": \"starts to get dried. so if you have super **sensitive** eyes with contact lenses, you'd better not\", \"tokens\": \"starts to get dried . so if you have super sensitive eyes with contact lenses , you ' d better not\", \"stars\": \"4 stars\", \"brand\": \"Urban Decay\", \"name\": \"Cannonball Ultra Waterproof Mascara\", \"type\": \"Mascara\"}, {\"x\": -0.09287147223949432, \"y\": -0.14149188995361328, \"context\": \"to take it off at night. i have really **sensitive** eyes, and my eyes don 't burn from\", \"tokens\": \"to take it off at night . i have really sensitive eyes , and my eyes don ' t burn from\", \"stars\": \"5 stars\", \"brand\": \"Urban Decay\", \"name\": \"Cannonball Ultra Waterproof Mascara\", \"type\": \"Mascara\"}, {\"x\": -0.09250373393297195, \"y\": -0.0015418973052874207, \"context\": \"you dont have to tug & rub on your **sensitive** eye area. i tried it with the dior\", \"tokens\": \"you don ##t have to tug & rub on your sensitive eye area . i tried it with the di ##or\", \"stars\": \"5 stars\", \"brand\": \"Urban Decay\", \"name\": \"Cannonball Ultra Waterproof Mascara\", \"type\": \"Mascara\"}, {\"x\": -0.08685862272977829, \"y\": -0.01112150214612484, \"context\": \"t seem dry to me. i 'm super **sensitive** when it comes to which products work for me,\", \"tokens\": \"t seem dry to me . i ' m super sensitive when it comes to which products work for me ,\", \"stars\": \"2 stars\", \"brand\": \"Dior\", \"name\": \"Diorshow Waterproof Mascara\", \"type\": \"Mascara\"}, {\"x\": -0.0947352945804596, \"y\": -0.12688064575195312, \"context\": \"ation i read on a forum. i have very **sensitive** eyes, rosacea. 99 % of mascaras\", \"tokens\": \"##ation i read on a forum . i have very sensitive eyes , rosa ##cea . 99 % of mascara ##s\", \"stars\": \"5 stars\", \"brand\": \"Dior\", \"name\": \"Diorshow Waterproof Mascara\", \"type\": \"Mascara\"}, {\"x\": -0.08983666449785233, \"y\": -0.062305353581905365, \"context\": \"is a bit strong but my eyes aren 't **sensitive** so i got use to the smell. the smell\", \"tokens\": \"is a bit strong but my eyes aren ' t sensitive so i got use to the smell . the smell\", \"stars\": \"5 stars\", \"brand\": \"Dior\", \"name\": \"Diorshow Waterproof Mascara\", \"type\": \"Mascara\"}, {\"x\": -0.09323233366012573, \"y\": -0.12892509996891022, \"context\": \"this product in exchange for a review. i have **sensitive** eyes so eye cream shadow etc can cause tears,\", \"tokens\": \"this product in exchange for a review . i have sensitive eyes so eye cream shadow etc can cause tears ,\", \"stars\": \"4 stars\", \"brand\": \"Tom Ford\", \"name\": \"Emotionproof Mascara\", \"type\": \"Mascara\"}, {\"x\": -0.08986310660839081, \"y\": -0.0193522647023201, \"context\": \"and last all day long! my eyes can be **sensitive** to mascara. any flaking and i am it\", \"tokens\": \"and last all day long ! my eyes can be sensitive to mascara . any fl ##aking and i am it\", \"stars\": \"5 stars\", \"brand\": \"Tom Ford\", \"name\": \"Emotionproof Mascara\", \"type\": \"Mascara\"}, {\"x\": -0.0951971784234047, \"y\": -0.08856964856386185, \"context\": \"this came out. i 'm someone with super **sensitive** eyes and i was hesitant at first to try it\", \"tokens\": \"this came out . i ' m someone with super sensitive eyes and i was hesitant at first to try it\", \"stars\": \"5 stars\", \"brand\": \"FENTY BEAUTY BY RIHANNA\", \"name\": \"Flyliner Longwear Liquid Eyeliner\", \"type\": \"Liquid Eyeliner\"}, {\"x\": -0.0937914028763771, \"y\": -0.12072800099849701, \"context\": \"my makeup remover which is important due to my **sensitive** eyes. application is super easy especially with the shape\", \"tokens\": \"my makeup remove ##r which is important due to my sensitive eyes . application is super easy especially with the shape\", \"stars\": \"5 stars\", \"brand\": \"FENTY BEAUTY BY RIHANNA\", \"name\": \"Flyliner Longwear Liquid Eyeliner\", \"type\": \"Liquid Eyeliner\"}, {\"x\": -0.09612306952476501, \"y\": -0.06397399306297302, \"context\": \"goodluck if you have allergies or **sensitive** eyes because your eyes will water and the liner comes\", \"tokens\": \"good ##lu ##ck if you have all ##er ##gies or sensitive eyes because your eyes will water and the liner comes\", \"stars\": \"1 star\", \"brand\": \"FENTY BEAUTY BY RIHANNA\", \"name\": \"Flyliner Longwear Liquid Eyeliner\", \"type\": \"Liquid Eyeliner\"}, {\"x\": -0.0947464182972908, \"y\": 0.10111639648675919, \"context\": \"this primer. i have oily, super **sensitive** skin and really dislike silicone-based primers\", \"tokens\": \"this prime ##r . i have oil ##y , super sensitive skin and really dislike silicon ##e - based prime ##rs\", \"stars\": \"5 stars\", \"brand\": \"Too Faced\", \"name\": \"Hangover Replenishing Face Primer\", \"type\": \"Primer\"}, {\"x\": -0.09231790155172348, \"y\": 0.09319750964641571, \"context\": \", but i guess it \\u2019 s not for my **sensitive** skin. i have been in the skin care business\", \"tokens\": \", but i guess it \\u2019 s not for my sensitive skin . i have been in the skin care business\", \"stars\": \"4 stars\", \"brand\": \"Too Faced\", \"name\": \"Hangover Replenishing Face Primer\", \"type\": \"Primer\"}, {\"x\": -0.09459500759840012, \"y\": 0.07523550093173981, \"context\": \"!!!! wow so i have combination, **sensitive** skin and i'd been hearing a lot about\", \"tokens\": \"! ! ! ! wow so i have combination , sensitive skin and i ' d been hearing a lot about\", \"stars\": \"1 star\", \"brand\": \"Too Faced\", \"name\": \"Hangover Replenishing Face Primer\", \"type\": \"Primer\"}, {\"x\": -0.09221402555704117, \"y\": 0.1085568517446518, \"context\": \"holding my makeup in place, but not for my **sensitive** skin. this didn 't work well with my\", \"tokens\": \"holding my makeup in place , but not for my sensitive skin . this didn ' t work well with my\", \"stars\": null, \"brand\": null, \"name\": null, \"type\": null}, {\"x\": -0.08260242640972137, \"y\": -0.00024682938237674534, \"context\": \"in areas. it smells great. if you are **sensitive** to strong scents then you may want to avoid it\", \"tokens\": \"in areas . it smells great . if you are sensitive to strong scents then you may want to avoid it\", \"stars\": \"3 stars\", \"brand\": \"Too Faced\", \"name\": \"Hangover Replenishing Face Primer\", \"type\": \"Primer\"}, {\"x\": -0.09171861410140991, \"y\": 0.1338798552751541, \"context\": \"\\u2026 read more great product! i have extremely dry **sensitive** eczema skin and this primer helps soothe\", \"tokens\": \"\\u2026 read more great product ! i have extremely dry sensitive ec ##ze ##ma skin and this prime ##r helps soothe\", \"stars\": \"5 stars\", \"brand\": \"Too Faced\", \"name\": \"Hangover Replenishing Face Primer\", \"type\": \"Primer\"}, {\"x\": -0.09415756165981293, \"y\": 0.11123985052108765, \"context\": \"my combo / oily / acne prone / **sensitive** skin! i really like how my make up looks\", \"tokens\": \"my combo / oil ##y / ac ##ne prone / sensitive skin ! i really like how my make up looks\", \"stars\": \"3 stars\", \"brand\": \"FENTY BEAUTY BY RIHANNA\", \"name\": \"Flyliner Longwear Liquid Eyeliner\", \"type\": \"Liquid Eyeliner\"}, {\"x\": -0.09376491606235504, \"y\": 0.0653839111328125, \"context\": \"objectives. i have very dry skin that is rather **sensitive**. i am not particularly acne prone, but\", \"tokens\": \"objectives . i have very dry skin that is rather sensitive . i am not particularly ac ##ne prone , but\", \"stars\": \"4 stars\", \"brand\": \"Too Faced\", \"name\": \"Hangover Replenishing Face Primer\", \"type\": \"Primer\"}, {\"x\": -0.09481794387102127, \"y\": 0.1009085476398468, \"context\": \"on my face, but ultimately broke out my very **sensitive** skin and i had to stop using it. which\", \"tokens\": \"on my face , but ultimately broke out my very sensitive skin and i had to stop using it . which\", \"stars\": \"3 stars\", \"brand\": \"Too Faced\", \"name\": \"Hangover Replenishing Face Primer\", \"type\": \"Primer\"}, {\"x\": -0.09414367377758026, \"y\": 0.08379601687192917, \"context\": \"reviews about it breaking people out, i have very **sensitive** acne prone skin and my skin has actually improved\", \"tokens\": \"reviews about it breaking people out , i have very sensitive ac ##ne prone skin and my skin has actually improved\", \"stars\": \"5 stars\", \"brand\": \"Too Faced\", \"name\": \"Hangover Replenishing Face Primer\", \"type\": \"Primer\"}, {\"x\": -0.09372435510158539, \"y\": 0.08880562335252762, \"context\": \"or is it just me? i have tried their **sensitive** skin poreless primer and was not happy\", \"tokens\": \"or is it just me ? i have tried their sensitive skin por ##eles ##s prime ##r and was not happy\", \"stars\": \"5 stars\", \"brand\": \"Too Faced\", \"name\": \"Hangover Replenishing Face Primer\", \"type\": \"Primer\"}, {\"x\": -0.09408216923475266, \"y\": 0.10064065456390381, \"context\": \"for me as well as very gentle on my sometimes **sensitive** skin. i now use this daily and love it\", \"tokens\": \"for me as well as very gentle on my sometimes sensitive skin . i now use this daily and love it\", \"stars\": \"5 stars\", \"brand\": \"Too Faced\", \"name\": \"Hangover Replenishing Face Primer\", \"type\": \"Primer\"}, {\"x\": -0.09580995887517929, \"y\": 0.07390142977237701, \"context\": \"work for me, i don 't really have **sensitive** skin and it made me breakout in places that are\", \"tokens\": \"work for me , i don ' t really have sensitive skin and it made me breakout in places that are\", \"stars\": \"1 star\", \"brand\": \"Too Faced\", \"name\": \"Hangover Replenishing Face Primer\", \"type\": \"Primer\"}, {\"x\": -0.09473222494125366, \"y\": 0.10304182767868042, \"context\": \"it smells like coconut and doesn 't make my **sensitive** skin break out like some primers do. absolutely\", \"tokens\": \"it smells like coconut and doesn ' t make my sensitive skin break out like some prime ##rs do . absolutely\", \"stars\": \"5 stars\", \"brand\": \"Too Faced\", \"name\": \"Hangover Replenishing Face Primer\", \"type\": \"Primer\"}, {\"x\": -0.09204071015119553, \"y\": 0.11425584554672241, \"context\": \"lovee love loveee this! i suffer from **sensitive** combination skin that is severely dry during the winter months\", \"tokens\": \"love ##e love love ##ee this ! i suffer from sensitive combination skin that is severely dry during the winter months\", \"stars\": \"5 stars\", \"brand\": \"Too Faced\", \"name\": \"Hangover Replenishing Face Primer\", \"type\": \"Primer\"}, {\"x\": -0.09060967713594437, \"y\": 0.11189224570989609, \"context\": \"the couple of years, my skin has gotten quite **sensitive**, and with that, quite dehydrated\", \"tokens\": \"the couple of years , my skin has gotten quite sensitive , and with that , quite de ##hy ##dra ##ted\", \"stars\": \"2 stars\", \"brand\": \"Too Faced\", \"name\": \"Hangover Replenishing Face Primer\", \"type\": \"Primer\"}, {\"x\": -0.09185585379600525, \"y\": 0.09523584693670273, \"context\": \"doesn 't cause redness or irritation to my **sensitive** skin. i love the pump dispenser\", \"tokens\": \"doesn ' t cause red ##ness or irritation to my sensitive skin . i love the pump di ##sp ##ense ##r\", \"stars\": \"5 stars\", \"brand\": \"Too Faced\", \"name\": \"Hangover Replenishing Face Primer\", \"type\": \"Primer\"}, {\"x\": -0.09235334396362305, \"y\": 0.11683443188667297, \"context\": \"t irritate or make my cranky / **sensitive** skin breakout! no silicones! works fantastic,\", \"tokens\": \"t ir ##rita ##te or make my crank ##y / sensitive skin breakout ! no silicon ##es ! works fantastic ,\", \"stars\": \"5 stars\", \"brand\": \"Too Faced\", \"name\": \"Hangover Replenishing Face Primer\", \"type\": \"Primer\"}, {\"x\": -0.09401042759418488, \"y\": 0.07481970638036728, \"context\": \"and really gives my makeup staying power. i have **sensitive**, acne-prone skin and have had no\", \"tokens\": \"and really gives my makeup staying power . i have sensitive , ac ##ne - prone skin and have had no\", \"stars\": \"5 stars\", \"brand\": \"Too Faced\", \"name\": \"Hangover Replenishing Face Primer\", \"type\": \"Primer\"}, {\"x\": -0.09143811464309692, \"y\": 0.04580456390976906, \"context\": \"it's a beautiful product. my skin is **sensitive** and reactive, no issues. in fact, i\", \"tokens\": \"it ' s a beautiful product . my skin is sensitive and reactive , no issues . in fact , i\", \"stars\": \"5 stars\", \"brand\": \"Too Faced\", \"name\": \"Hangover Replenishing Face Primer\", \"type\": \"Primer\"}, {\"x\": -0.09426231682300568, \"y\": 0.10136208683252335, \"context\": \"primer i have ever used. i have combination **sensitive** skin so it can get dry randomly. other prime\", \"tokens\": \"prime ##r i have ever used . i have combination sensitive skin so it can get dry randomly . other prime\", \"stars\": \"5 stars\", \"brand\": \"Too Faced\", \"name\": \"Hangover Replenishing Face Primer\", \"type\": \"Primer\"}, {\"x\": -0.09489846229553223, \"y\": 0.08590321987867355, \"context\": \"all while making my skin feel smooth. i have **sensitive** skin that literally flares up if i lightly rub\", \"tokens\": \"all while making my skin feel smooth . i have sensitive skin that literally flare ##s up if i lightly rub\", \"stars\": \"5 stars\", \"brand\": \"Too Faced\", \"name\": \"Hangover Replenishing Face Primer\", \"type\": \"Primer\"}, {\"x\": -0.09340054541826248, \"y\": 0.10889585316181183, \"context\": \"super excited to try this product. my skin is **sensitive** and dry, so i thought coconut water sounded great\", \"tokens\": \"super excited to try this product . my skin is sensitive and dry , so i thought coconut water sounded great\", \"stars\": \"2 stars\", \"brand\": \"Too Faced\", \"name\": \"Hangover Replenishing Face Primer\", \"type\": \"Primer\"}, {\"x\": -0.09124898165464401, \"y\": 0.08810354769229889, \"context\": \"all day even in 85 degree weather. i have **sensitive** oily skin and this is perfect for me.\", \"tokens\": \"all day even in 85 degree weather . i have sensitive oil ##y skin and this is perfect for me .\", \"stars\": \"2 stars\", \"brand\": \"Too Faced\", \"name\": \"Better Than Sex Waterproof Mascara\", \"type\": \"Mascara\"}, {\"x\": -0.09522080421447754, \"y\": 0.07769525796175003, \"context\": \"y-i love this product-i also have **sensitive** skin and don 't like to wear too much\", \"tokens\": \"##y - i love this product - i also have sensitive skin and don ' t like to wear too much\", \"stars\": \"5 stars\", \"brand\": \"Too Faced\", \"name\": \"Hangover Replenishing Face Primer\", \"type\": \"Primer\"}, {\"x\": -0.09312871843576431, \"y\": 0.09407303482294083, \"context\": \"!! i would deff recommended if you have **sensitive** dry skin. it works wonders. i love how\", \"tokens\": \"! ! i would def ##f recommended if you have sensitive dry skin . it works wonders . i love how\", \"stars\": \"5 stars\", \"brand\": \"Too Faced\", \"name\": \"Hangover Replenishing Face Primer\", \"type\": \"Primer\"}, {\"x\": -0.0932605192065239, \"y\": 0.11308824270963669, \"context\": \"lotion, which i love and soothes my **sensitive** skin. unlike with most of the silicone based\", \"tokens\": \"lot ##ion , which i love and soothe ##s my sensitive skin . unlike with most of the silicon ##e based\", \"stars\": \"5 stars\", \"brand\": \"Too Faced\", \"name\": \"Hangover Replenishing Face Primer\", \"type\": \"Primer\"}, {\"x\": -0.09301158785820007, \"y\": 0.1272057592868805, \"context\": \". i have tried every primer for my combination **sensitive** skin. from ysl, to laura mercier\", \"tokens\": \". i have tried every prime ##r for my combination sensitive skin . from y ##sl , to laura mer ##cier\", \"stars\": \"5 stars\", \"brand\": \"Too Faced\", \"name\": \"Hangover Replenishing Face Primer\", \"type\": \"Primer\"}, {\"x\": -0.08803436160087585, \"y\": 0.08012919872999191, \"context\": \"primers at all costs because my skin is super **sensitive** to silicones. i also have combination oil-\", \"tokens\": \"prime ##rs at all costs because my skin is super sensitive to silicon ##es . i also have combination oil -\", \"stars\": \"5 stars\", \"brand\": \"Too Faced\", \"name\": \"Hangover Replenishing Face Primer\", \"type\": \"Primer\"}, {\"x\": -0.0933055505156517, \"y\": 0.09171196818351746, \"context\": \"dressed up and it's just amazing! having **sensitive**, highly allergic skin and rosacea, i was\", \"tokens\": \"dressed up and it ' s just amazing ! having sensitive , highly allergic skin and rosa ##cea , i was\", \"stars\": \"5 stars\", \"brand\": \"Too Faced\", \"name\": \"Hangover Replenishing Face Primer\", \"type\": \"Primer\"}, {\"x\": -0.09484078735113144, \"y\": 0.08268927037715912, \"context\": \"how it made some people break out ( i have **sensitive** skin ), but i haven 't had any\", \"tokens\": \"how it made some people break out ( i have sensitive skin ) , but i haven ' t had any\", \"stars\": \"5 stars\", \"brand\": \"Too Faced\", \"name\": \"Hangover Replenishing Face Primer\", \"type\": \"Primer\"}, {\"x\": -0.0868980884552002, \"y\": 0.0764596089720726, \"context\": \"my skin is oily and acne prone and **sensitive** to products. this goes on smooth like a lightweight\", \"tokens\": \"my skin is oil ##y and ac ##ne prone and sensitive to products . this goes on smooth like a lightweight\", \"stars\": \"2 stars\", \"brand\": \"Urban Decay\", \"name\": \"Cannonball Ultra Waterproof Mascara\", \"type\": \"Mascara\"}, {\"x\": -0.09543037414550781, \"y\": 0.09037966281175613, \"context\": \"caking. it also is very nice formula for **sensitive** skin, it doesn 't have a strong scent\", \"tokens\": \"ca ##king . it also is very nice formula for sensitive skin , it doesn ' t have a strong scent\", \"stars\": \"5 stars\", \"brand\": \"Too Faced\", \"name\": \"Hangover Replenishing Face Primer\", \"type\": \"Primer\"}, {\"x\": -0.09506045281887054, \"y\": 0.0906711295247078, \"context\": \"acne-prone, oily, or have **sensitive** skin! \\u2026 read more best primer for dry\", \"tokens\": \"ac ##ne - prone , oil ##y , or have sensitive skin ! \\u2026 read more best prime ##r for dry\", \"stars\": null, \"brand\": null, \"name\": null, \"type\": null}, {\"x\": -0.09548751264810562, \"y\": 0.09191212803125381, \"context\": \". plus the scent is lovely. i have super **sensitive** skin and just about any type of lotion makes\", \"tokens\": \". plus the scent is lovely . i have super sensitive skin and just about any type of lot ##ion makes\", \"stars\": \"5 stars\", \"brand\": \"Too Faced\", \"name\": \"Hangover Replenishing Face Primer\", \"type\": \"Primer\"}, {\"x\": -0.09606140851974487, \"y\": 0.08827013522386551, \"context\": \"makes my skin look great! i have dry, **sensitive** skin. this means i have to wear a moist\", \"tokens\": \"makes my skin look great ! i have dry , sensitive skin . this means i have to wear a moist\", \"stars\": \"5 stars\", \"brand\": \"Too Faced\", \"name\": \"Hangover Replenishing Face Primer\", \"type\": \"Primer\"}, {\"x\": -0.09406722337007523, \"y\": 0.09642136096954346, \"context\": \"sunscreen. love this primer. i have **sensitive** skin too and no problems with this. light coconut\", \"tokens\": \"suns ##creen . love this prime ##r . i have sensitive skin too and no problems with this . light coconut\", \"stars\": \"5 stars\", \"brand\": \"Too Faced\", \"name\": \"Hangover Replenishing Face Primer\", \"type\": \"Primer\"}, {\"x\": -0.09348803013563156, \"y\": 0.09434778988361359, \"context\": \"product is definitely not good for me i have very **sensitive** fair skin. i foolishly didn 't read\", \"tokens\": \"product is definitely not good for me i have very sensitive fair skin . i foolish ##ly didn ' t read\", \"stars\": \"1 star\", \"brand\": \"Too Faced\", \"name\": \"Hangover Replenishing Face Primer\", \"type\": \"Primer\"}, {\"x\": -0.09548939764499664, \"y\": 0.061267007142305374, \"context\": \"one, it peaked my interest. since i have **sensitive** skin, i always read a number of reviews for\", \"tokens\": \"one , it peaked my interest . since i have sensitive skin , i always read a number of reviews for\", \"stars\": \"5 stars\", \"brand\": \"Too Faced\", \"name\": \"Hangover Replenishing Face Primer\", \"type\": \"Primer\"}, {\"x\": -0.09084586799144745, \"y\": -0.005225089378654957, \"context\": \"waterline let alone lash line because i was so **sensitive**. could not keep my eyes open and would not\", \"tokens\": \"water ##line let alone lash line because i was so sensitive . could not keep my eyes open and would not\", \"stars\": \"1 star\", \"brand\": \"Marc Jacobs\", \"name\": \"Highliner Gel Eye Crayon Eyeliner\", \"type\": \"Gel Eyeliner\"}, {\"x\": -0.09273770451545715, \"y\": -0.100863017141819, \"context\": \"eyes open and would not recommend it for people with **sensitive** eyes. i have been trying out this pencil for\", \"tokens\": \"eyes open and would not recommend it for people with sensitive eyes . i have been trying out this pencil for\", \"stars\": \"1 star\", \"brand\": \"Urban Decay\", \"name\": \"Cannonball Ultra Waterproof Mascara\", \"type\": \"Mascara\"}, {\"x\": -0.09698797017335892, \"y\": -0.10117916017770767, \"context\": \"lining my waterline for years and do not have **sensitive** eyes in general but for some reason i can '\", \"tokens\": \"lining my water ##line for years and do not have sensitive eyes in general but for some reason i can '\", \"stars\": \"3 stars\", \"brand\": \"Marc Jacobs\", \"name\": \"Highliner Gel Eye Crayon Eyeliner\", \"type\": \"Gel Eyeliner\"}, {\"x\": -0.09329661726951599, \"y\": -0.15384617447853088, \"context\": \"t have any smudging. i have pretty **sensitive** eyes, and this didn 't bother them one\", \"tokens\": \"t have any sm ##ud ##ging . i have pretty sensitive eyes , and this didn ' t bother them one\", \"stars\": \"5 stars\", \"brand\": \"Marc Jacobs\", \"name\": \"Highliner Gel Eye Crayon Eyeliner\", \"type\": \"Gel Eyeliner\"}, {\"x\": -0.0939042791724205, \"y\": -0.09329687058925629, \"context\": \"the hunt for something that 'll work with my **sensitive** eyes and oil-slick eyelids. i bought this\", \"tokens\": \"the hunt for something that ' ll work with my sensitive eyes and oil - slick eyelids . i bought this\", \"stars\": \"4 stars\", \"brand\": \"Marc Jacobs\", \"name\": \"Highliner Gel Eye Crayon Eyeliner\", \"type\": \"Gel Eyeliner\"}, {\"x\": -0.09263314306735992, \"y\": -0.12228275090456009, \"context\": \". maybe i just have a dud and too **sensitive** eyes \\u2026 read more this is probably the 10th eye\", \"tokens\": \". maybe i just have a du ##d and too sensitive eyes \\u2026 read more this is probably the 10th eye\", \"stars\": null, \"brand\": null, \"name\": null, \"type\": null}, {\"x\": -0.09634122252464294, \"y\": -0.12080353498458862, \"context\": \"... which is coming from someone with very **sensitive** eyes. i also use this to tightline with\", \"tokens\": \". . . which is coming from someone with very sensitive eyes . i also use this to tight ##line with\", \"stars\": \"5 stars\", \"brand\": \"Marc Jacobs\", \"name\": \"Highliner Gel Eye Crayon Eyeliner\", \"type\": \"Gel Eyeliner\"}, {\"x\": -0.09341321140527725, \"y\": -0.08086103945970535, \"context\": \"fan of waterproof makeup since my eyes can be **sensitive** but this liner does not irritate my eyes\", \"tokens\": \"fan of water ##proof makeup since my eyes can be sensitive but this liner does not ir ##rita ##te my eyes\", \"stars\": \"5 stars\", \"brand\": \"Marc Jacobs\", \"name\": \"Highliner Gel Eye Crayon Eyeliner\", \"type\": \"Gel Eyeliner\"}, {\"x\": -0.09340578317642212, \"y\": -0.03290637955069542, \"context\": \"let me first preface by stating that i have extremely **sensitive**, allergy-prone, and watery eyes.\", \"tokens\": \"let me first preface by stating that i have extremely sensitive , all ##ergy - prone , and watery eyes .\", \"stars\": \"5 stars\", \"brand\": \"Marc Jacobs\", \"name\": \"Highliner Gel Eye Crayon Eyeliner\", \"type\": \"Gel Eyeliner\"}, {\"x\": -0.09295506775379181, \"y\": -0.1437463015317917, \"context\": \"'s fine. just a warning to those with **sensitive** eyes! i love the vibrance of the\", \"tokens\": \"' s fine . just a warning to those with sensitive eyes ! i love the vi ##bra ##nce of the\", \"stars\": null, \"brand\": null, \"name\": null, \"type\": null}, {\"x\": -0.08924125880002975, \"y\": -0.0072051361203193665, \"context\": \"the eyeliner on very difficult. i also have **sensitive** allergy prone eyes which is why i don '\", \"tokens\": \"the eye ##liner on very difficult . i also have sensitive all ##ergy prone eyes which is why i don '\", \"stars\": \"5 stars\", \"brand\": \"Marc Jacobs\", \"name\": \"Highliner Gel Eye Crayon Eyeliner\", \"type\": \"Gel Eyeliner\"}, {\"x\": -0.09397553652524948, \"y\": -0.07449984550476074, \"context\": \"what to do? a few notes: i have **sensitive** eyes ( allergies ) that water terribly when\", \"tokens\": \"what to do ? a few notes : i have sensitive eyes ( all ##er ##gies ) that water terribly when\", \"stars\": \"5 stars\", \"brand\": \"Marc Jacobs\", \"name\": \"Highliner Gel Eye Crayon Eyeliner\", \"type\": \"Gel Eyeliner\"}, {\"x\": -0.09582964330911636, \"y\": -0.03251447156071663, \"context\": \"recommend this for every day use to someone who has **sensitive** skin or eyes. recently received this as a birthday\", \"tokens\": \"recommend this for every day use to someone who has sensitive skin or eyes . recently received this as a birthday\", \"stars\": \"3 stars\", \"brand\": \"Marc Jacobs\", \"name\": \"Highliner Gel Eye Crayon Eyeliner\", \"type\": \"Gel Eyeliner\"}, {\"x\": -0.09324802458286285, \"y\": -0.11047012358903885, \"context\": \"only eyeliner that does not irritate my **sensitive** eyes. my new favorite! i bought the high\", \"tokens\": \"only eye ##liner that does not ir ##rita ##te my sensitive eyes . my new favorite ! i bought the high\", \"stars\": \"4 stars\", \"brand\": \"Marc Jacobs\", \"name\": \"Highliner Gel Eye Crayon Eyeliner\", \"type\": \"Gel Eyeliner\"}, {\"x\": -0.09548711776733398, \"y\": -0.10814473032951355, \"context\": \"only recommend this product to those who do not have **sensitive** eyes, or do not react to use of this\", \"tokens\": \"only recommend this product to those who do not have sensitive eyes , or do not react to use of this\", \"stars\": \"5 stars\", \"brand\": \"Too Faced\", \"name\": \"Better Than Sex Mascara\", \"type\": \"Mascara\"}, {\"x\": -0.09250451624393463, \"y\": -0.15363962948322296, \"context\": \"on smooth, quick and creamy. i have extremely **sensitive** eyes and wear glasses, and a lot of liner\", \"tokens\": \"on smooth , quick and creamy . i have extremely sensitive eyes and wear glasses , and a lot of liner\", \"stars\": \"5 stars\", \"brand\": \"Marc Jacobs\", \"name\": \"Highliner Gel Eye Crayon Eyeliner\", \"type\": \"Gel Eyeliner\"}, {\"x\": -0.09267178177833557, \"y\": -0.1087585985660553, \"context\": \". the very best. easy application and nice for **sensitive** eyes wow, i love this eyeliner! i\", \"tokens\": \". the very best . easy application and nice for sensitive eyes wow , i love this eye ##liner ! i\", \"stars\": null, \"brand\": null, \"name\": null, \"type\": null}, {\"x\": -0.09008022397756577, \"y\": -0.15869954228401184, \"context\": \"and does not irritate my eyes which are **sensitive**. as eye liner goes, it's about\", \"tokens\": \"and does not ir ##rita ##te my eyes which are sensitive . as eye liner goes , it ' s about\", \"stars\": \"4 stars\", \"brand\": \"Marc Jacobs\", \"name\": \"Highliner Gel Eye Crayon Eyeliner\", \"type\": \"Gel Eyeliner\"}, {\"x\": -0.07876818627119064, \"y\": 0.025666143745183945, \"context\": \"). i am not sure if this formula is **sensitive** to room temperature, but it was warm in the\", \"tokens\": \") . i am not sure if this formula is sensitive to room temperature , but it was warm in the\", \"stars\": \"2 stars\", \"brand\": \"Marc Jacobs\", \"name\": \"Highliner Gel Eye Crayon Eyeliner\", \"type\": \"Gel Eyeliner\"}, {\"x\": -0.08594372868537903, \"y\": 0.008541068993508816, \"context\": \"-tip ( i recommend make up forever's **sensitive** eye remover. it's blue and so\", \"tokens\": \"- tip ( i recommend make up forever ' s sensitive eye remove ##r . it ' s blue and so\", \"stars\": \"5 stars\", \"brand\": \"Dior\", \"name\": \"Diorshow Waterproof Mascara\", \"type\": \"Mascara\"}, {\"x\": -0.09432320296764374, \"y\": 0.05446312576532364, \"context\": \"as well. as far as being good for my **sensitive** skin: i accidentally stabbed myself in the eye twice\", \"tokens\": \"as well . as far as being good for my sensitive skin : i accidentally stabbed myself in the eye twice\", \"stars\": \"5 stars\", \"brand\": \"Kat Von D\", \"name\": \"Tattoo Liner\", \"type\": \"Liquid Eyeliner\"}, {\"x\": -0.09304997324943542, \"y\": -0.1594838947057724, \"context\": \"black, last all day.. i have really **sensitive** eyes and this does not irratate at all\", \"tokens\": \"black , last all day . . i have really sensitive eyes and this does not ir ##rata ##te at all\", \"stars\": \"5 stars\", \"brand\": \"Too Faced\", \"name\": \"Better Than Sex Waterproof Mascara\", \"type\": \"Mascara\"}, {\"x\": -0.08369598537683487, \"y\": -0.08918222039937973, \"context\": \"seen about this liner. \\u2026 read more i have **sensitive** easily irritated eyes and this does not bother them at\", \"tokens\": \"seen about this liner . \\u2026 read more i have sensitive easily irritated eyes and this does not bother them at\", \"stars\": \"4 stars\", \"brand\": \"Too Faced\", \"name\": \"Hangover Replenishing Face Primer\", \"type\": \"Primer\"}, {\"x\": -0.09612822532653809, \"y\": -0.10420368611812592, \"context\": \"gets rid of it! \\u2026 read more i have **sensitive** eyes and with all other liquid eyeliners they\", \"tokens\": \"gets rid of it ! \\u2026 read more i have sensitive eyes and with all other liquid eye ##liner ##s they\", \"stars\": \"5 stars\", \"brand\": \"Kat Von D\", \"name\": \"Tattoo Liner\", \"type\": \"Liquid Eyeliner\"}, {\"x\": -0.09498652815818787, \"y\": -0.09854111075401306, \"context\": \"eyeliner of all time. i 've got **sensitive** eyes and oily eyelids, so i 've\", \"tokens\": \"eye ##liner of all time . i ' ve got sensitive eyes and oil ##y eyelids , so i ' ve\", \"stars\": \"4 stars\", \"brand\": \"Too Faced\", \"name\": \"Better Than Sex Mascara\", \"type\": \"Mascara\"}, {\"x\": -0.09417358785867691, \"y\": -0.07817103713750839, \"context\": \"'s brush tip is much more comfortable on my **sensitive** eyes than the felt tip on kat von d '\", \"tokens\": \"' s brush tip is much more comfortable on my sensitive eyes than the felt tip on kat von d '\", \"stars\": \"4 stars\", \"brand\": \"Kat Von D\", \"name\": \"Tattoo Liner\", \"type\": \"Liquid Eyeliner\"}, {\"x\": -0.09255929291248322, \"y\": -0.0856899619102478, \"context\": \"first; if, for example, your eyes are **sensitive** and tend to tear up when you 're applying\", \"tokens\": \"first ; if , for example , your eyes are sensitive and tend to tear up when you ' re applying\", \"stars\": \"4 stars\", \"brand\": \"Kat Von D\", \"name\": \"Tattoo Liner\", \"type\": \"Liquid Eyeliner\"}, {\"x\": -0.09142165631055832, \"y\": -0.024554699659347534, \"context\": \"ruin such a good thing? it can dry out **sensitive** eyelids. the consistency is pretty thick and you only\", \"tokens\": \"ruin such a good thing ? it can dry out sensitive eyelids . the consistency is pretty thick and you only\", \"stars\": \"4 stars\", \"brand\": \"Urban Decay\", \"name\": \"Eyeshadow Primer Potion - Original\", \"type\": \"Eye Primer\"}, {\"x\": -0.09290973842144012, \"y\": 0.08720192313194275, \"context\": \"'s smooth and creamy and does not bother my **sensitive** skin. as for how well it works i have\", \"tokens\": \"' s smooth and creamy and does not bother my sensitive skin . as for how well it works i have\", \"stars\": \"5 stars\", \"brand\": \"Urban Decay\", \"name\": \"Eyeshadow Primer Potion - Original\", \"type\": \"Eye Primer\"}, {\"x\": -0.09320997446775436, \"y\": 0.07193067669868469, \"context\": \"to heal for several days after. if you have **sensitive** skin, i would not recommend this product to you\", \"tokens\": \"to heal for several days after . if you have sensitive skin , i would not recommend this product to you\", \"stars\": \"4 stars\", \"brand\": \"Too Faced\", \"name\": \"Hangover Replenishing Face Primer\", \"type\": \"Primer\"}, {\"x\": -0.09570572525262833, \"y\": 0.020300570875406265, \"context\": \"me. however, it is really harsh for the **sensitive** eyelid skin. i had no troubles at first\", \"tokens\": \"me . however , it is really harsh for the sensitive eye ##lid skin . i had no troubles at first\", \"stars\": \"2 stars\", \"brand\": \"Urban Decay\", \"name\": \"Eyeshadow Primer Potion - Original\", \"type\": \"Eye Primer\"}, {\"x\": -0.09497259557247162, \"y\": 0.05306936800479889, \"context\": \"up but it is too harsh for my generally moderately **sensitive** skin. i 'm 32 so definitely at the\", \"tokens\": \"up but it is too harsh for my generally moderately sensitive skin . i ' m 32 so definitely at the\", \"stars\": \"5 stars\", \"brand\": \"Too Faced\", \"name\": \"Hangover Replenishing Face Primer\", \"type\": \"Primer\"}, {\"x\": -0.09374072402715683, \"y\": -0.046089883893728256, \"context\": \"-aging version is much better. i have super **sensitive** eyelids and have reacted badly to other brands of prime\", \"tokens\": \"- aging version is much better . i have super sensitive eyelids and have reacted badly to other brands of prime\", \"stars\": \"5 stars\", \"brand\": \"Urban Decay\", \"name\": \"Eyeshadow Primer Potion - Original\", \"type\": \"Eye Primer\"}, {\"x\": -0.09356988221406937, \"y\": 0.05410683527588844, \"context\": \"sure if sephora carries it yet but i have **sensitive** skin and it literally melts makeup away gently and\", \"tokens\": \"sure if sep ##hora carries it yet but i have sensitive skin and it literally melt ##s makeup away gently and\", \"stars\": \"5 stars\", \"brand\": \"Urban Decay\", \"name\": \"Eyeshadow Primer Potion - Original\", \"type\": \"Eye Primer\"}, {\"x\": -0.09180355072021484, \"y\": 0.048009105026721954, \"context\": \"already sampling at the store. my entire body is **sensitive**, so i had to be real careful & pic\", \"tokens\": \"already sampling at the store . my entire body is sensitive , so i had to be real careful & pic\", \"stars\": \"5 stars\", \"brand\": \"Stila\", \"name\": \"Stay All Day\\u00ae Waterproof Liquid Eye Liner\", \"type\": \"Liquid Eyeliner\"}, {\"x\": -0.09377840906381607, \"y\": -0.1005617305636406, \"context\": \"this pen, and it doesn 't bother my **sensitive** eyes!!! will repurchase this great\", \"tokens\": \"this pen , and it doesn ' t bother my sensitive eyes ! ! ! will rep ##ur ##chase this great\", \"stars\": \"5 stars\", \"brand\": \"Stila\", \"name\": \"Stay All Day\\u00ae Waterproof Liquid Eye Liner\", \"type\": \"Liquid Eyeliner\"}, {\"x\": -0.09674997627735138, \"y\": -0.08760656416416168, \"context\": \"amazing for many reasons: 1. i have extremely **sensitive** eyes and it doesn 't even tingle when i\", \"tokens\": \"amazing for many reasons : 1 . i have extremely sensitive eyes and it doesn ' t even tingle when i\", \"stars\": \"5 stars\", \"brand\": \"Stila\", \"name\": \"Stay All Day\\u00ae Waterproof Liquid Eye Liner\", \"type\": \"Liquid Eyeliner\"}, {\"x\": -0.09156553447246552, \"y\": -0.15727338194847107, \"context\": \"'t be disappointed! also-i have very **sensitive** eyes, and this product has not caused any problems\", \"tokens\": \"' t be disappointed ! also - i have very sensitive eyes , and this product has not caused any problems\", \"stars\": \"5 stars\", \"brand\": \"Urban Decay\", \"name\": \"Eyeshadow Primer Potion - Original\", \"type\": \"Eye Primer\"}, {\"x\": -0.09085738658905029, \"y\": -0.10328724980354309, \"context\": \"hypoallergenic, my eyes are very **sensitive** and this eyeliner does not irritate them\", \"tokens\": \"h ##yp ##oa ##ller ##genic , my eyes are very sensitive and this eye ##liner does not ir ##rita ##te them\", \"stars\": \"5 stars\", \"brand\": \"FENTY BEAUTY BY RIHANNA\", \"name\": \"Flyliner Longwear Liquid Eyeliner\", \"type\": \"Liquid Eyeliner\"}, {\"x\": -0.09459563344717026, \"y\": -0.07414401322603226, \"context\": \"all kinds of eyeliner. my eyes are really **sensitive** and i my eyes randomly start crying through out the\", \"tokens\": \"all kinds of eye ##liner . my eyes are really sensitive and i my eyes randomly start crying through out the\", \"stars\": \"5 stars\", \"brand\": \"Stila\", \"name\": \"Stay All Day\\u00ae Waterproof Liquid Eye Liner\", \"type\": \"Liquid Eyeliner\"}, {\"x\": -0.09166448563337326, \"y\": -0.1096249669790268, \"context\": \"plus, it doesn 't irritate my **sensitive** eyes. it's worth every penny. as\", \"tokens\": \"plus , it doesn ' t ir ##rita ##te my sensitive eyes . it ' s worth every penny . as\", \"stars\": \"5 stars\", \"brand\": \"Urban Decay\", \"name\": \"Cannonball Ultra Waterproof Mascara\", \"type\": \"Mascara\"}, {\"x\": -0.09639891982078552, \"y\": -0.11227059364318848, \"context\": \"waterproof eyeliner that stays put. i have **sensitive** eyes and this does not burn. no racco\", \"tokens\": \"water ##proof eye ##liner that stays put . i have sensitive eyes and this does not burn . no ra ##cco\", \"stars\": \"5 stars\", \"brand\": \"Kat Von D\", \"name\": \"Tattoo Liner\", \"type\": \"Liquid Eyeliner\"}, {\"x\": -0.09604218602180481, \"y\": 0.0807621106505394, \"context\": \"best products ive ever bought! i have really **sensitive** skin and it breaks out or gets irritated pretty easily\", \"tokens\": \"best products iv ##e ever bought ! i have really sensitive skin and it breaks out or gets irritated pretty easily\", \"stars\": \"1 star\", \"brand\": \"Too Faced\", \"name\": \"Hangover Replenishing Face Primer\", \"type\": \"Primer\"}, {\"x\": -0.0953088104724884, \"y\": 0.07091927528381348, \"context\": \"but it \\u2019 s a great product! i have **sensitive** skin and have always struggled to find the right products\", \"tokens\": \"but it \\u2019 s a great product ! i have sensitive skin and have always struggled to find the right products\", \"stars\": \"5 stars\", \"brand\": \"Marc Jacobs\", \"name\": \"Highliner Gel Eye Crayon Eyeliner\", \"type\": \"Gel Eyeliner\"}, {\"x\": -0.09392861276865005, \"y\": 0.10004731267690659, \"context\": \"make me break out so it's good for **sensitive** skin! i 'll be buying this again!\", \"tokens\": \"make me break out so it ' s good for sensitive skin ! i ' ll be buying this again !\", \"stars\": \"5 stars\", \"brand\": \"Dior\", \"name\": \"Diorshow Waterproof Mascara\", \"type\": \"Mascara\"}, {\"x\": -0.08499490469694138, \"y\": 0.10722030699253082, \"context\": \". since then, my body has become very heat **sensitive**. even in the dead of winter, i experience\", \"tokens\": \". since then , my body has become very heat sensitive . even in the dead of winter , i experience\", \"stars\": \"5 stars\", \"brand\": \"Urban Decay\", \"name\": \"All Nighter Long-Lasting Makeup Setting Spray\", \"type\": \"Setting Spray\"}, {\"x\": -0.09272094815969467, \"y\": 0.07587449997663498, \"context\": \"i have normal to dry skin that's very **sensitive** & this product does not dry out or irrita\", \"tokens\": \"i have normal to dry skin that ' s very sensitive & this product does not dry out or ir ##rita\", \"stars\": \"5 stars\", \"brand\": \"Kat Von D\", \"name\": \"Tattoo Liner\", \"type\": \"Liquid Eyeliner\"}, {\"x\": -0.09453120827674866, \"y\": 0.09594162553548813, \"context\": \"at the end of the shift. i have extremely **sensitive** skin that is acne prone, and this has\", \"tokens\": \"at the end of the shift . i have extremely sensitive skin that is ac ##ne prone , and this has\", \"stars\": \"5 stars\", \"brand\": \"Urban Decay\", \"name\": \"All Nighter Long-Lasting Makeup Setting Spray\", \"type\": \"Setting Spray\"}, {\"x\": -0.0936436802148819, \"y\": 0.08321336656808853, \"context\": \"-greasy, didn 't irritate my **sensitive** skin, and i didn 't notice any fragrance\", \"tokens\": \"- greasy , didn ' t ir ##rita ##te my sensitive skin , and i didn ' t notice any fragrance\", \"stars\": \"3 stars\", \"brand\": \"Too Faced\", \"name\": \"Better Than Sex Waterproof Mascara\", \"type\": \"Mascara\"}, {\"x\": -0.0940706729888916, \"y\": 0.09694208204746246, \"context\": \"skin itchy. i returned it sadly. my **sensitive** skin doesn 't seem to care much for it\", \"tokens\": \"skin it ##chy . i returned it sadly . my sensitive skin doesn ' t seem to care much for it\", \"stars\": \"3 stars\", \"brand\": \"Too Faced\", \"name\": \"Better Than Sex Mascara\", \"type\": \"Mascara\"}, {\"x\": -0.09526073187589645, \"y\": 0.06510590016841888, \"context\": \"t do anything for me. i have combination, **sensitive** skin and live in a pretty humid environment ( houston\", \"tokens\": \"t do anything for me . i have combination , sensitive skin and live in a pretty humid environment ( houston\", \"stars\": \"1 star\", \"brand\": \"Urban Decay\", \"name\": \"All Nighter Long-Lasting Makeup Setting Spray\", \"type\": \"Setting Spray\"}, {\"x\": -0.08863057941198349, \"y\": 0.0795268714427948, \"context\": \"still work for girls with less acne prone / **sensitive** skin. i submitted a similar review of this product\", \"tokens\": \"still work for girls with less ac ##ne prone / sensitive skin . i submitted a similar review of this product\", \"stars\": \"1 star\", \"brand\": \"Urban Decay\", \"name\": \"All Nighter Long-Lasting Makeup Setting Spray\", \"type\": \"Setting Spray\"}, {\"x\": -0.08811892569065094, \"y\": 0.06806261092424393, \"context\": \"hopefully this review will, since it may help other **sensitive** skin girls avoid a major breakout. \\u2026 read more\", \"tokens\": \"hopefully this review will , since it may help other sensitive skin girls avoid a major breakout . \\u2026 read more\", \"stars\": \"1 star\", \"brand\": \"Urban Decay\", \"name\": \"All Nighter Long-Lasting Makeup Setting Spray\", \"type\": \"Setting Spray\"}, {\"x\": -0.09383825957775116, \"y\": 0.08551109582185745, \"context\": \"it everyday!! i 'm asian, super **sensitive**, oily, acne prone skin and i\", \"tokens\": \"it everyday ! ! i ' m asian , super sensitive , oil ##y , ac ##ne prone skin and i\", \"stars\": \"5 stars\", \"brand\": \"Too Faced\", \"name\": \"Hangover Replenishing Face Primer\", \"type\": \"Primer\"}]}}, {\"mode\": \"vega-lite\"});\n",
              "</script>"
            ],
            "text/plain": [
              "alt.Chart(...)"
            ]
          },
          "metadata": {},
          "execution_count": 44
        }
      ]
    },
    {
      "cell_type": "markdown",
      "metadata": {
        "id": "vLSjJc8-IZJ_"
      },
      "source": [
        "<br><br><br><br>\n",
        "\n",
        "## **Plot word embeddings from keywords (all at once!)**"
      ]
    },
    {
      "cell_type": "markdown",
      "metadata": {
        "id": "dPXChKeD-Gd6"
      },
      "source": [
        "We can put the code from the previous few sections into a single cell and plot the BERT word embeddings for any list of words. "
      ]
    },
    {
      "cell_type": "code",
      "metadata": {
        "colab": {
          "base_uri": "https://localhost:8080/",
          "height": 585
        },
        "id": "dA-SdhjlprIj",
        "outputId": "712ca300-1323-497d-eaeb-bbb90ed35547"
      },
      "source": [
        "# List of keywords that you want to compare\n",
        "keywords = ['pool', 'gym', 'wedding', 'funeral', 'office', 'party']\n",
        "\n",
        "# How to color the points in the plot. The other option is \"period\" for time period\n",
        "color_by = 'word'\n",
        "\n",
        "# Get all word positions\n",
        "word_positions = get_word_positions(keywords)\n",
        "\n",
        "# Get all contexts around the words\n",
        "keyword_contexts = []\n",
        "keyword_contexts_tokens = []\n",
        "words = []\n",
        "\n",
        "for position in word_positions:\n",
        "  words.append(word_lookup[all_word_ids[position]])\n",
        "  keyword_contexts.append(get_context_clean(position))\n",
        "  keyword_contexts_tokens.append(get_context(position))\n",
        "\n",
        "# Reduce word vectors with PCA\n",
        "pca = PCA(n_components=2)\n",
        "pca.fit(all_word_vectors[word_positions,:].T)\n",
        "\n",
        "# Make a DataFrame with PCA results\n",
        "df_to_plot = pd.DataFrame({\"x\": pca.components_[0,:], \n",
        "                           \"y\": pca.components_[1,:],\n",
        "                           \"context\": keyword_contexts, \n",
        "                           \"tokens\": keyword_contexts_tokens, \n",
        "                           \"word\": words})\n",
        "# Match original text and metadata\n",
        "df_to_plot[['stars', 'brand', 'name', 'type']] = df_to_plot.apply(find_original_review, axis='columns', result_type='expand')\n",
        "\n",
        "# Rename columns so that the context shows up as the \"title\" in the tooltip (bigger and bolded)\n",
        "# df = df.rename(columns={'brand': 'brand', 'name': 'title'})\n",
        "\n",
        "# Make the plot\n",
        "alt.Chart(df_to_plot, title=f\"Word Similarity: {', '.join(keywords).title()}\").mark_circle(size=200).encode(\n",
        "    alt.X('x',\n",
        "        scale=alt.Scale(zero=False)\n",
        "    ), y=\"y\",\n",
        "    color= color_by,\n",
        "    # href=\"link\",\n",
        "    tooltip=['word', 'context', 'type', 'brand', 'name', 'stars']\n",
        "    ).interactive().properties(\n",
        "    width=500,\n",
        "    height=500\n",
        ")"
      ],
      "execution_count": null,
      "outputs": [
        {
          "output_type": "execute_result",
          "data": {
            "text/html": [
              "\n",
              "<div id=\"altair-viz-67e7e4428635473fab577b8e197cb808\"></div>\n",
              "<script type=\"text/javascript\">\n",
              "  var VEGA_DEBUG = (typeof VEGA_DEBUG == \"undefined\") ? {} : VEGA_DEBUG;\n",
              "  (function(spec, embedOpt){\n",
              "    let outputDiv = document.currentScript.previousElementSibling;\n",
              "    if (outputDiv.id !== \"altair-viz-67e7e4428635473fab577b8e197cb808\") {\n",
              "      outputDiv = document.getElementById(\"altair-viz-67e7e4428635473fab577b8e197cb808\");\n",
              "    }\n",
              "    const paths = {\n",
              "      \"vega\": \"https://cdn.jsdelivr.net/npm//vega@5?noext\",\n",
              "      \"vega-lib\": \"https://cdn.jsdelivr.net/npm//vega-lib?noext\",\n",
              "      \"vega-lite\": \"https://cdn.jsdelivr.net/npm//vega-lite@4.17.0?noext\",\n",
              "      \"vega-embed\": \"https://cdn.jsdelivr.net/npm//vega-embed@6?noext\",\n",
              "    };\n",
              "\n",
              "    function maybeLoadScript(lib, version) {\n",
              "      var key = `${lib.replace(\"-\", \"\")}_version`;\n",
              "      return (VEGA_DEBUG[key] == version) ?\n",
              "        Promise.resolve(paths[lib]) :\n",
              "        new Promise(function(resolve, reject) {\n",
              "          var s = document.createElement('script');\n",
              "          document.getElementsByTagName(\"head\")[0].appendChild(s);\n",
              "          s.async = true;\n",
              "          s.onload = () => {\n",
              "            VEGA_DEBUG[key] = version;\n",
              "            return resolve(paths[lib]);\n",
              "          };\n",
              "          s.onerror = () => reject(`Error loading script: ${paths[lib]}`);\n",
              "          s.src = paths[lib];\n",
              "        });\n",
              "    }\n",
              "\n",
              "    function showError(err) {\n",
              "      outputDiv.innerHTML = `<div class=\"error\" style=\"color:red;\">${err}</div>`;\n",
              "      throw err;\n",
              "    }\n",
              "\n",
              "    function displayChart(vegaEmbed) {\n",
              "      vegaEmbed(outputDiv, spec, embedOpt)\n",
              "        .catch(err => showError(`Javascript Error: ${err.message}<br>This usually means there's a typo in your chart specification. See the javascript console for the full traceback.`));\n",
              "    }\n",
              "\n",
              "    if(typeof define === \"function\" && define.amd) {\n",
              "      requirejs.config({paths});\n",
              "      require([\"vega-embed\"], displayChart, err => showError(`Error loading script: ${err.message}`));\n",
              "    } else {\n",
              "      maybeLoadScript(\"vega\", \"5\")\n",
              "        .then(() => maybeLoadScript(\"vega-lite\", \"4.17.0\"))\n",
              "        .then(() => maybeLoadScript(\"vega-embed\", \"6\"))\n",
              "        .catch(showError)\n",
              "        .then(() => displayChart(vegaEmbed));\n",
              "    }\n",
              "  })({\"config\": {\"view\": {\"continuousWidth\": 400, \"continuousHeight\": 300}}, \"data\": {\"name\": \"data-beb0cf13c19af99842b18ee20179e859\"}, \"mark\": {\"type\": \"circle\", \"size\": 200}, \"encoding\": {\"color\": {\"field\": \"word\", \"type\": \"nominal\"}, \"tooltip\": [{\"field\": \"word\", \"type\": \"nominal\"}, {\"field\": \"context\", \"type\": \"nominal\"}, {\"field\": \"type\", \"type\": \"nominal\"}, {\"field\": \"brand\", \"type\": \"nominal\"}, {\"field\": \"name\", \"type\": \"nominal\"}, {\"field\": \"stars\", \"type\": \"nominal\"}], \"x\": {\"field\": \"x\", \"scale\": {\"zero\": false}, \"type\": \"quantitative\"}, \"y\": {\"field\": \"y\", \"type\": \"quantitative\"}}, \"height\": 500, \"selection\": {\"selector003\": {\"type\": \"interval\", \"bind\": \"scales\", \"encodings\": [\"x\", \"y\"]}}, \"title\": \"Word Similarity: Pool, Gym, Wedding, Funeral, Office, Party\", \"width\": 500, \"$schema\": \"https://vega.github.io/schema/vega-lite/v4.17.0.json\", \"datasets\": {\"data-beb0cf13c19af99842b18ee20179e859\": [{\"x\": -0.06732294708490372, \"y\": -0.023590026423335075, \"context\": \"good as my favourite all time mascara, the extreme **party** mascara from bobbi brown, but it runs circles\", \"tokens\": \"good as my favourite all time mascara , the extreme party mascara from bob ##bi brown , but it runs circles\", \"word\": \"party\", \"stars\": \"5 stars\", \"brand\": \"Too Faced\", \"name\": \"Better Than Sex Mascara\", \"type\": \"Mascara\"}, {\"x\": -0.08066556602716446, \"y\": 0.06612538546323776, \"context\": \"proof, so don 't wear it to the **pool**, but it is long-lasting. i '\", \"tokens\": \"##proof , so don ' t wear it to the pool , but it is long - lasting . i '\", \"word\": \"pool\", \"stars\": \"5 stars\", \"brand\": \"Too Faced\", \"name\": \"Better Than Sex Mascara\", \"type\": \"Mascara\"}, {\"x\": -0.07946004718542099, \"y\": 0.07789543271064758, \"context\": \"i was impressed to see it after days in the **pool**, on the lake, or sad movies. overall\", \"tokens\": \"i was impressed to see it after days in the pool , on the lake , or sad movies . overall\", \"word\": \"pool\", \"stars\": \"4 stars\", \"brand\": \"Too Faced\", \"name\": \"Better Than Sex Waterproof Mascara\", \"type\": \"Mascara\"}, {\"x\": -0.07675714790821075, \"y\": 0.07314357906579971, \"context\": \"as you may think. when i got into the **pool** with some friends, they noticed it began to run\", \"tokens\": \"as you may think . when i got into the pool with some friends , they noticed it began to run\", \"word\": \"pool\", \"stars\": \"1 star\", \"brand\": \"Too Faced\", \"name\": \"Better Than Sex Waterproof Mascara\", \"type\": \"Mascara\"}, {\"x\": -0.07279013097286224, \"y\": -0.10927844792604446, \"context\": \"off, but i was testing it for my upcoming **wedding**. it was so good that i was thinking of\", \"tokens\": \"off , but i was testing it for my upcoming wedding . it was so good that i was thinking of\", \"word\": \"wedding\", \"stars\": \"1 star\", \"brand\": \"Too Faced\", \"name\": \"Better Than Sex Waterproof Mascara\", \"type\": \"Mascara\"}, {\"x\": -0.06867828965187073, \"y\": -0.1160556823015213, \"context\": \"using it and about 3-4 days before my **wedding**. i had been noticing what seemed like an uncommon\", \"tokens\": \"using it and about 3 - 4 days before my wedding . i had been noticing what seemed like an uncommon\", \"word\": \"wedding\", \"stars\": \"1 star\", \"brand\": \"Too Faced\", \"name\": \"Better Than Sex Waterproof Mascara\", \"type\": \"Mascara\"}, {\"x\": -0.0725477933883667, \"y\": -0.11130740493535995, \"context\": \"the price. i had been saving this for my **wedding**. i love the better than sex mascara-the\", \"tokens\": \"the price . i had been saving this for my wedding . i love the better than sex mascara - the\", \"word\": \"wedding\", \"stars\": \"1 star\", \"brand\": \"Too Faced\", \"name\": \"Better Than Sex Waterproof Mascara\", \"type\": \"Mascara\"}, {\"x\": -0.07917755842208862, \"y\": 0.0607440285384655, \"context\": \"more flakes and i can wear it to the **pool**! wrong! this mascara made by lashes stiff and\", \"tokens\": \"more fl ##akes and i can wear it to the pool ! wrong ! this mascara made by lashes stiff and\", \"word\": \"pool\", \"stars\": \"5 stars\", \"brand\": \"Too Faced\", \"name\": \"Better Than Sex Mascara\", \"type\": \"Mascara\"}, {\"x\": -0.07305747270584106, \"y\": -0.09381220489740372, \"context\": \"and under eye area. i wore it to a **wedding** and thankfully the melting was minor but i kept having\", \"tokens\": \"and under eye area . i wore it to a wedding and thankfully the melting was minor but i kept having\", \"word\": \"wedding\", \"stars\": \"1 star\", \"brand\": \"Too Faced\", \"name\": \"Better Than Sex Waterproof Mascara\", \"type\": \"Mascara\"}, {\"x\": -0.05968819558620453, \"y\": -0.0027885588351637125, \"context\": \", then checked it again before i walked into the **office**, it was a disaster. i had mascara under\", \"tokens\": \", then checked it again before i walked into the office , it was a disaster . i had mascara under\", \"word\": \"office\", \"stars\": \"1 star\", \"brand\": \"Too Faced\", \"name\": \"Better Than Sex Waterproof Mascara\", \"type\": \"Mascara\"}, {\"x\": -0.07074600458145142, \"y\": -0.10507522523403168, \"context\": \"is some fabulous mascara. i wore it on my **wedding** day, and it did not budge ( i cried\", \"tokens\": \"is some fabulous mascara . i wore it on my wedding day , and it did not budge ( i cried\", \"word\": \"wedding\", \"stars\": \"1 star\", \"brand\": \"Too Faced\", \"name\": \"Better Than Sex Mascara\", \"type\": \"Mascara\"}, {\"x\": -0.0706372782588005, \"y\": -0.1168016642332077, \"context\": \"\\u2026 read more i bought this to use for my **wedding** since i did my own makeup and couldn 't\", \"tokens\": \"\\u2026 read more i bought this to use for my wedding since i did my own makeup and couldn ' t\", \"word\": \"wedding\", \"stars\": \"2 stars\", \"brand\": \"Too Faced\", \"name\": \"Better Than Sex Waterproof Mascara\", \"type\": \"Mascara\"}, {\"x\": -0.06940708309412003, \"y\": -0.11242704838514328, \"context\": \"is waterproof! i cried like crazy at my **wedding**, and my mascara stayed in place. i wouldn\", \"tokens\": \"is water ##proof ! i cried like crazy at my wedding , and my mascara stayed in place . i wouldn\", \"word\": \"wedding\", \"stars\": \"2 stars\", \"brand\": \"Too Faced\", \"name\": \"Better Than Sex Waterproof Mascara\", \"type\": \"Mascara\"}, {\"x\": -0.06793627887964249, \"y\": -0.1191278025507927, \"context\": \"but i 'm glad i used it for my **wedding**. \\u2026 read more i had high hopes for this\", \"tokens\": \"but i ' m glad i used it for my wedding . \\u2026 read more i had high hopes for this\", \"word\": \"wedding\", \"stars\": \"1 star\", \"brand\": \"Too Faced\", \"name\": \"Better Than Sex Mascara\", \"type\": \"Mascara\"}, {\"x\": -0.07742784917354584, \"y\": 0.07150566577911377, \"context\": \"is waterproof, in the shower and in the **pool** it has stayed put, but be careful because even\", \"tokens\": \"is water ##proof , in the shower and in the pool it has stayed put , but be careful because even\", \"word\": \"pool\", \"stars\": \"2 stars\", \"brand\": \"Too Faced\", \"name\": \"Better Than Sex Waterproof Mascara\", \"type\": \"Mascara\"}, {\"x\": -0.06676316261291504, \"y\": 0.0385674349963665, \"context\": \"udge during humid or very sweaty days, such as **gym** days. it is very difficult to remove. it\", \"tokens\": \"##udge during humid or very sweaty days , such as gym days . it is very difficult to remove . it\", \"word\": \"gym\", \"stars\": \"3 stars\", \"brand\": \"Too Faced\", \"name\": \"Better Than Sex Waterproof Mascara\", \"type\": \"Mascara\"}, {\"x\": -0.07823096960783005, \"y\": 0.0778120681643486, \"context\": \"wanted a good mascara that would stay on in the **pool** if i didn 't have time to take off\", \"tokens\": \"wanted a good mascara that would stay on in the pool if i didn ' t have time to take off\", \"word\": \"pool\", \"stars\": \"5 stars\", \"brand\": \"Too Faced\", \"name\": \"Better Than Sex Mascara\", \"type\": \"Mascara\"}, {\"x\": -0.07799739390611649, \"y\": 0.07658720761537552, \"context\": \"and it still has yet to smear in the **pool**. it stays on during the day no matter what\", \"tokens\": \"and it still has yet to sm ##ear in the pool . it stays on during the day no matter what\", \"word\": \"pool\", \"stars\": \"5 stars\", \"brand\": \"Too Faced\", \"name\": \"Better Than Sex Waterproof Mascara\", \"type\": \"Mascara\"}, {\"x\": -0.07214634120464325, \"y\": 0.04416787251830101, \"context\": \"'t hold up for a half hour at the **gym** ( the ultimate waterproof test ) great texture and\", \"tokens\": \"' t hold up for a half hour at the gym ( the ultimate water ##proof test ) great texture and\", \"word\": \"gym\", \"stars\": \"1 star\", \"brand\": \"Too Faced\", \"name\": \"Better Than Sex Waterproof Mascara\", \"type\": \"Mascara\"}, {\"x\": -0.07257980108261108, \"y\": -0.10927838087081909, \"context\": \"because i need a good waterproof mascara for my **wedding** day-the formula came out way to thick and\", \"tokens\": \"because i need a good water ##proof mascara for my wedding day - the formula came out way to thick and\", \"word\": \"wedding\", \"stars\": \"1 star\", \"brand\": \"Too Faced\", \"name\": \"Better Than Sex Waterproof Mascara\", \"type\": \"Mascara\"}, {\"x\": -0.07582839578390121, \"y\": 0.05103252828121185, \"context\": \"! i would definitely recommend this for those rainy or **pool** days only. the waterproof formula is a bit\", \"tokens\": \"! i would definitely recommend this for those rainy or pool days only . the water ##proof formula is a bit\", \"word\": \"pool\", \"stars\": \"4 stars\", \"brand\": \"Too Faced\", \"name\": \"Better Than Sex Waterproof Mascara\", \"type\": \"Mascara\"}, {\"x\": -0.07412030547857285, \"y\": -0.09461542218923569, \"context\": \"it is waterproof i wore it to my brothers **wedding** and it stayed on through many tears without smud\", \"tokens\": \"it is water ##proof i wore it to my brothers wedding and it stayed on through many tears without sm ##ud\", \"word\": \"wedding\", \"stars\": \"5 stars\", \"brand\": \"Too Faced\", \"name\": \"Better Than Sex Mascara\", \"type\": \"Mascara\"}, {\"x\": -0.0801432803273201, \"y\": 0.07232805341482162, \"context\": \"sweat, sea water and chlorine from the **pool**. i use it now when i go to the\", \"tokens\": \"sweat , sea water and ch ##lor ##ine from the pool . i use it now when i go to the\", \"word\": \"pool\", \"stars\": \"5 stars\", \"brand\": \"Urban Decay\", \"name\": \"Cannonball Ultra Waterproof Mascara\", \"type\": \"Mascara\"}, {\"x\": -0.07224269956350327, \"y\": 0.05771353840827942, \"context\": \". i use it now when i go to the **gym** and its still amazing! bought in an effort to\", \"tokens\": \". i use it now when i go to the gym and its still amazing ! bought in an effort to\", \"word\": \"gym\", \"stars\": null, \"brand\": null, \"name\": null, \"type\": null}, {\"x\": -0.07262629270553589, \"y\": -0.032281771302223206, \"context\": \"done a whole tray of jello shots at a **party** and woke up the next morning on some random person\", \"tokens\": \"done a whole tray of je ##llo shots at a party and woke up the next morning on some random person\", \"word\": \"party\", \"stars\": \"2 stars\", \"brand\": \"Urban Decay\", \"name\": \"Cannonball Ultra Waterproof Mascara\", \"type\": \"Mascara\"}, {\"x\": -0.07153315097093582, \"y\": 0.05243414267897606, \"context\": \"field testing... in a sweat-drenched **gym**, \\\"it appears to be vulnerable to my sweat\", \"tokens\": \"field testing . . . in a sweat - drenched gym , \\\" it appears to be vulnerable to my sweat\", \"word\": \"gym\", \"stars\": \"1 star\", \"brand\": \"Urban Decay\", \"name\": \"Cannonball Ultra Waterproof Mascara\", \"type\": \"Mascara\"}, {\"x\": -0.07929224520921707, \"y\": 0.06511208415031433, \"context\": \"your eyes. and definitely do not get in a **pool** or a rain shower because you will have black all\", \"tokens\": \"your eyes . and definitely do not get in a pool or a rain shower because you will have black all\", \"word\": \"pool\", \"stars\": \"1 star\", \"brand\": \"Urban Decay\", \"name\": \"Cannonball Ultra Waterproof Mascara\", \"type\": \"Mascara\"}, {\"x\": -0.07403934001922607, \"y\": 0.07287149876356125, \"context\": \"'m not sure it would hold up in the **pool**, i will find out soon, but i '\", \"tokens\": \"' m not sure it would hold up in the pool , i will find out soon , but i '\", \"word\": \"pool\", \"stars\": \"5 stars\", \"brand\": \"Urban Decay\", \"name\": \"Cannonball Ultra Waterproof Mascara\", \"type\": \"Mascara\"}, {\"x\": -0.07338976114988327, \"y\": 0.04669886827468872, \"context\": \"after 8 hours or when i 'm at the **gym** but it could be because i have very oily\", \"tokens\": \"after 8 hours or when i ' m at the gym but it could be because i have very oil ##y\", \"word\": \"gym\", \"stars\": \"2 stars\", \"brand\": \"Too Faced\", \"name\": \"Better Than Sex Mascara\", \"type\": \"Mascara\"}, {\"x\": -0.07787315547466278, \"y\": 0.07757601141929626, \"context\": \"pours, and last minute dives in the **pool**. until this mascara. as some of the less\", \"tokens\": \"##pour ##s , and last minute dive ##s in the pool . until this mascara . as some of the less\", \"word\": \"pool\", \"stars\": \"4 stars\", \"brand\": \"Urban Decay\", \"name\": \"Cannonball Ultra Waterproof Mascara\", \"type\": \"Mascara\"}, {\"x\": -0.080241858959198, \"y\": 0.052812859416007996, \"context\": \"whole trip. it stayed through the humidity, daily **pool** trips. even on a sailing trip and ocean water\", \"tokens\": \"whole trip . it stayed through the humidity , daily pool trips . even on a sailing trip and ocean water\", \"word\": \"pool\", \"stars\": \"5 stars\", \"brand\": \"Urban Decay\", \"name\": \"Cannonball Ultra Waterproof Mascara\", \"type\": \"Mascara\"}, {\"x\": -0.08126876503229141, \"y\": 0.06805513054132462, \"context\": \"smudges! i have had problems in the **pool** or going to the beach, my mascara would fl\", \"tokens\": \"sm ##udge ##s ! i have had problems in the pool or going to the beach , my mascara would fl\", \"word\": \"pool\", \"stars\": \"5 stars\", \"brand\": \"Urban Decay\", \"name\": \"Cannonball Ultra Waterproof Mascara\", \"type\": \"Mascara\"}, {\"x\": -0.07711484283208847, \"y\": 0.07423686236143112, \"context\": \"will able to this friday when i go to the **pool** at my university. in addition, it hasn '\", \"tokens\": \"will able to this friday when i go to the pool at my university . in addition , it hasn '\", \"word\": \"pool\", \"stars\": \"5 stars\", \"brand\": \"Urban Decay\", \"name\": \"Cannonball Ultra Waterproof Mascara\", \"type\": \"Mascara\"}, {\"x\": -0.07671325653791428, \"y\": 0.07923484593629837, \"context\": \"can 't wait to try it out in the **pool** this summer. \\u2026 read more this is the only\", \"tokens\": \"can ' t wait to try it out in the pool this summer . \\u2026 read more this is the only\", \"word\": \"pool\", \"stars\": null, \"brand\": null, \"name\": null, \"type\": null}, {\"x\": -0.07727805525064468, \"y\": 0.07287722080945969, \"context\": \"'t run after getting in and out of the **pool** and tossed around in the ocean and diving off a\", \"tokens\": \"' t run after getting in and out of the pool and tossed around in the ocean and diving off a\", \"word\": \"pool\", \"stars\": \"5 stars\", \"brand\": \"Urban Decay\", \"name\": \"Cannonball Ultra Waterproof Mascara\", \"type\": \"Mascara\"}, {\"x\": -0.07852805405855179, \"y\": 0.07616624981164932, \"context\": \"have experimented a lot! you can jump in a **pool** or go for an intense workout at the gym and\", \"tokens\": \"have experimented a lot ! you can jump in a pool or go for an intense workout at the gym and\", \"word\": \"pool\", \"stars\": \"5 stars\", \"brand\": \"Too Faced\", \"name\": \"Better Than Sex Mascara\", \"type\": \"Mascara\"}, {\"x\": -0.07454735040664673, \"y\": 0.05720596760511398, \"context\": \"a pool or go for an intense workout at the **gym** and your lashes will still be intact. aside from\", \"tokens\": \"a pool or go for an intense workout at the gym and your lashes will still be intact . aside from\", \"word\": \"gym\", \"stars\": \"4 stars\", \"brand\": \"Too Faced\", \"name\": \"Better Than Sex Waterproof Mascara\", \"type\": \"Mascara\"}, {\"x\": -0.0781121477484703, \"y\": 0.0723445788025856, \"context\": \"how it held up in both the ocean and the **pool**. it is very 'wet 'as far as\", \"tokens\": \"how it held up in both the ocean and the pool . it is very ' wet ' as far as\", \"word\": \"pool\", \"stars\": \"5 stars\", \"brand\": \"Urban Decay\", \"name\": \"Cannonball Ultra Waterproof Mascara\", \"type\": \"Mascara\"}, {\"x\": -0.07848040014505386, \"y\": 0.078105628490448, \"context\": \"workout but major flaking after short time in the **pool**. i have tried nearly every waterproof mascara available\", \"tokens\": \"workout but major fl ##aking after short time in the pool . i have tried nearly every water ##proof mascara available\", \"word\": \"pool\", \"stars\": \"4 stars\", \"brand\": \"Urban Decay\", \"name\": \"Cannonball Ultra Waterproof Mascara\", \"type\": \"Mascara\"}, {\"x\": -0.07963382452726364, \"y\": 0.07481399923563004, \"context\": \"she demonstrated in her review how she went to the **pool** and went swimming with this mascara and nothing budge.\", \"tokens\": \"she demonstrated in her review how she went to the pool and went swimming with this mascara and nothing budge .\", \"word\": \"pool\", \"stars\": \"5 stars\", \"brand\": \"Urban Decay\", \"name\": \"Cannonball Ultra Waterproof Mascara\", \"type\": \"Mascara\"}, {\"x\": -0.07556765526533127, \"y\": 0.059624962508678436, \"context\": \"with me and was able to withstand the heat, **pool**, and ocean saltwater. didn 't budge\", \"tokens\": \"with me and was able to withstand the heat , pool , and ocean salt ##water . didn ' t budge\", \"word\": \"pool\", \"stars\": \"5 stars\", \"brand\": \"Urban Decay\", \"name\": \"Cannonball Ultra Waterproof Mascara\", \"type\": \"Mascara\"}, {\"x\": -0.08072231709957123, \"y\": 0.06014276295900345, \"context\": \"proof mascara to wear this summer to the beach and **pool** that would not budge in any way, so i\", \"tokens\": \"##proof mascara to wear this summer to the beach and pool that would not budge in any way , so i\", \"word\": \"pool\", \"stars\": \"5 stars\", \"brand\": \"Urban Decay\", \"name\": \"Cannonball Ultra Waterproof Mascara\", \"type\": \"Mascara\"}, {\"x\": -0.07671672105789185, \"y\": 0.07414110004901886, \"context\": \"lot of volume. holds up decently in the **pool**, but still smudges onto oily eyelids\", \"tokens\": \"lot of volume . holds up decent ##ly in the pool , but still sm ##udge ##s onto oil ##y eyelids\", \"word\": \"pool\", \"stars\": \"3 stars\", \"brand\": \"Too Faced\", \"name\": \"Better Than Sex Waterproof Mascara\", \"type\": \"Mascara\"}, {\"x\": -0.07749348133802414, \"y\": 0.06255172938108444, \"context\": \"last week. it held up on water rides, **pool** ( swimming under water ), ocean ( swimming under\", \"tokens\": \"last week . it held up on water rides , pool ( swimming under water ) , ocean ( swimming under\", \"word\": \"pool\", \"stars\": \"5 stars\", \"brand\": \"Urban Decay\", \"name\": \"Cannonball Ultra Waterproof Mascara\", \"type\": \"Mascara\"}, {\"x\": -0.07365961372852325, \"y\": 0.0777817815542221, \"context\": \"proof. i went swimming in a chlorine **pool** with this mascara on and not a trace of it\", \"tokens\": \"##proof . i went swimming in a ch ##lor ##ine pool with this mascara on and not a trace of it\", \"word\": \"pool\", \"stars\": \"2 stars\", \"brand\": \"Too Faced\", \"name\": \"Better Than Sex Mascara\", \"type\": \"Mascara\"}, {\"x\": -0.07874855399131775, \"y\": 0.06748685240745544, \"context\": \"my lashes look amazing and wears through hours in the **pool**, rain, the ocean, snow and even the\", \"tokens\": \"my lashes look amazing and wears through hours in the pool , rain , the ocean , snow and even the\", \"word\": \"pool\", \"stars\": \"5 stars\", \"brand\": \"Urban Decay\", \"name\": \"Cannonball Ultra Waterproof Mascara\", \"type\": \"Mascara\"}, {\"x\": -0.07099055498838425, \"y\": 0.04387106001377106, \"context\": \"but the moment i get into my sweaty yoga / **gym** classes, they run down my face or smear\", \"tokens\": \"but the moment i get into my sweaty yoga / gym classes , they run down my face or sm ##ear\", \"word\": \"gym\", \"stars\": \"5 stars\", \"brand\": \"Urban Decay\", \"name\": \"Cannonball Ultra Waterproof Mascara\", \"type\": \"Mascara\"}, {\"x\": -0.07079339772462845, \"y\": -0.10557859390974045, \"context\": \"or raccoon eyes at my son's **wedding**. she wasn 't lying. after a long\", \"tokens\": \"or ra ##cco ##on eyes at my son ' s wedding . she wasn ' t lying . after a long\", \"word\": \"wedding\", \"stars\": \"5 stars\", \"brand\": \"Urban Decay\", \"name\": \"Cannonball Ultra Waterproof Mascara\", \"type\": \"Mascara\"}, {\"x\": -0.060518596321344376, \"y\": 0.00857483223080635, \"context\": \". please keep in mind i work indoors in an **office** that is kept at frigid temperatures in the\", \"tokens\": \". please keep in mind i work indoors in an office that is kept at fr ##ig ##id temperatures in the\", \"word\": \"office\", \"stars\": \"1 star\", \"brand\": \"Urban Decay\", \"name\": \"Cannonball Ultra Waterproof Mascara\", \"type\": \"Mascara\"}, {\"x\": -0.07533909380435944, \"y\": 0.07084127515554428, \"context\": \"if i were outside jumping in and out of a **pool** / ocean and playing volleyball, i was at work\", \"tokens\": \"if i were outside jumping in and out of a pool / ocean and playing volleyball , i was at work\", \"word\": \"pool\", \"stars\": \"1 star\", \"brand\": \"Urban Decay\", \"name\": \"Cannonball Ultra Waterproof Mascara\", \"type\": \"Mascara\"}, {\"x\": -0.07761776447296143, \"y\": 0.07564642280340195, \"context\": \"bought this to take to mexico to wear in the **pool**. it did not budge all day between the ocean\", \"tokens\": \"bought this to take to mexico to wear in the pool . it did not budge all day between the ocean\", \"word\": \"pool\", \"stars\": \"4 stars\", \"brand\": \"Too Faced\", \"name\": \"Better Than Sex Waterproof Mascara\", \"type\": \"Mascara\"}, {\"x\": -0.07654044032096863, \"y\": 0.071328304708004, \"context\": \"did not budge all day between the ocean and the **pool**. incredible. i feel like i need to give\", \"tokens\": \"did not budge all day between the ocean and the pool . incredible . i feel like i need to give\", \"word\": \"pool\", \"stars\": \"5 stars\", \"brand\": \"Dior\", \"name\": \"Diorshow Waterproof Mascara\", \"type\": \"Mascara\"}, {\"x\": -0.07031424343585968, \"y\": 0.046408750116825104, \"context\": \"you are sweating these fibers into your eyes at the **gym** forcing you to interrupt your routine to get the hairs\", \"tokens\": \"you are sweating these fibers into your eyes at the gym forcing you to interrupt your routine to get the hairs\", \"word\": \"gym\", \"stars\": \"4 stars\", \"brand\": \"Urban Decay\", \"name\": \"Cannonball Ultra Waterproof Mascara\", \"type\": \"Mascara\"}, {\"x\": -0.061105407774448395, \"y\": -0.007103602401912212, \"context\": \"a little something extra special without making people at the **office** wonder why you 're going full on glam\", \"tokens\": \"a little something extra special without making people at the office wonder why you ' re going full on g ##lam\", \"word\": \"office\", \"stars\": \"4 stars\", \"brand\": \"Urban Decay\", \"name\": \"Cannonball Ultra Waterproof Mascara\", \"type\": \"Mascara\"}, {\"x\": -0.07247674465179443, \"y\": -0.094008669257164, \"context\": \". it did not disappoint. a **wedding**, a funeral, any situation that turns on the\", \"tokens\": \". it did not di ##sa ##pp ##oint . a wedding , a funeral , any situation that turns on the\", \"word\": \"wedding\", \"stars\": \"5 stars\", \"brand\": \"Urban Decay\", \"name\": \"Cannonball Ultra Waterproof Mascara\", \"type\": \"Mascara\"}, {\"x\": -0.06787651777267456, \"y\": -0.061271440237760544, \"context\": \"not disappoint. a wedding, a **funeral**, any situation that turns on the water works,\", \"tokens\": \"not di ##sa ##pp ##oint . a wedding , a funeral , any situation that turns on the water works ,\", \"word\": \"funeral\", \"stars\": \"5 stars\", \"brand\": \"Urban Decay\", \"name\": \"Cannonball Ultra Waterproof Mascara\", \"type\": \"Mascara\"}, {\"x\": -0.07717759162187576, \"y\": 0.07433155179023743, \"context\": \"and i finally got to test this out in the **pool** yesterday... yes it is waterproof!\", \"tokens\": \"and i finally got to test this out in the pool yesterday . . . yes it is water ##proof !\", \"word\": \"pool\", \"stars\": \"3 stars\", \"brand\": \"Urban Decay\", \"name\": \"Cannonball Ultra Waterproof Mascara\", \"type\": \"Mascara\"}, {\"x\": -0.07409729808568954, \"y\": 0.0509626604616642, \"context\": \"you 're coating your lashes in melted down vinyl **pool** floats and old tires. blech. once\", \"tokens\": \"you ' re coating your lashes in melted down vinyl pool floats and old tires . b ##le ##ch . once\", \"word\": \"pool\", \"stars\": \"4 stars\", \"brand\": \"Urban Decay\", \"name\": \"Cannonball Ultra Waterproof Mascara\", \"type\": \"Mascara\"}, {\"x\": -0.07825008779764175, \"y\": 0.06038624793291092, \"context\": \"wakeboarding, swimming at the beach, river, **pool**, you name it and it stays on. i\", \"tokens\": \"wake ##boarding , swimming at the beach , river , pool , you name it and it stays on . i\", \"word\": \"pool\", \"stars\": \"5 stars\", \"brand\": \"Urban Decay\", \"name\": \"Cannonball Ultra Waterproof Mascara\", \"type\": \"Mascara\"}, {\"x\": -0.07559150457382202, \"y\": 0.08216504752635956, \"context\": \"things it claims to do. i swam in a **pool** for hours in 108f heat and it didn '\", \"tokens\": \"things it claims to do . i swam in a pool for hours in 108 ##f heat and it didn '\", \"word\": \"pool\", \"stars\": \"3 stars\", \"brand\": \"Urban Decay\", \"name\": \"Cannonball Ultra Waterproof Mascara\", \"type\": \"Mascara\"}, {\"x\": -0.07928655296564102, \"y\": 0.05632321909070015, \"context\": \"stays all day, through summer heat & humidity, **pool** time, hot tube, steam room at the gym\", \"tokens\": \"stays all day , through summer heat & humidity , pool time , hot tube , steam room at the gym\", \"word\": \"pool\", \"stars\": \"5 stars\", \"brand\": \"Urban Decay\", \"name\": \"Cannonball Ultra Waterproof Mascara\", \"type\": \"Mascara\"}, {\"x\": -0.07531775534152985, \"y\": 0.04972696676850319, \"context\": \"pool time, hot tube, steam room at the **gym**, dancing at the club.... you\", \"tokens\": \"pool time , hot tube , steam room at the gym , dancing at the club . . . . you\", \"word\": \"gym\", \"stars\": \"5 stars\", \"brand\": \"Urban Decay\", \"name\": \"Cannonball Ultra Waterproof Mascara\", \"type\": \"Mascara\"}, {\"x\": -0.07231144607067108, \"y\": 0.05431164801120758, \"context\": \". i train 5 times a week, at the **gym** and in the pool and i was really happy to\", \"tokens\": \". i train 5 times a week , at the gym and in the pool and i was really happy to\", \"word\": \"gym\", \"stars\": \"5 stars\", \"brand\": \"Urban Decay\", \"name\": \"Cannonball Ultra Waterproof Mascara\", \"type\": \"Mascara\"}, {\"x\": -0.07888727635145187, \"y\": 0.08100583404302597, \"context\": \"times a week, at the gym and in the **pool** and i was really happy to see that it didn\", \"tokens\": \"times a week , at the gym and in the pool and i was really happy to see that it didn\", \"word\": \"pool\", \"stars\": \"5 stars\", \"brand\": \"Urban Decay\", \"name\": \"Cannonball Ultra Waterproof Mascara\", \"type\": \"Mascara\"}, {\"x\": -0.07787186652421951, \"y\": 0.07883428037166595, \"context\": \"exercise, humid days, and even jumping into the **pool**! i have repurchased twice already.\", \"tokens\": \"exercise , humid days , and even jumping into the pool ! i have rep ##ur ##chase ##d twice already .\", \"word\": \"pool\", \"stars\": \"5 stars\", \"brand\": \"Urban Decay\", \"name\": \"Cannonball Ultra Waterproof Mascara\", \"type\": \"Mascara\"}, {\"x\": -0.07476474344730377, \"y\": 0.08075840771198273, \"context\": \". also, if you do fully jump in the **pool** i would not recommend like rubbing your eyes a lot\", \"tokens\": \". also , if you do fully jump in the pool i would not recommend like rubbing your eyes a lot\", \"word\": \"pool\", \"stars\": \"5 stars\", \"brand\": \"Urban Decay\", \"name\": \"Cannonball Ultra Waterproof Mascara\", \"type\": \"Mascara\"}, {\"x\": -0.0799979493021965, \"y\": 0.05842447280883789, \"context\": \"waterproof and lasted all day at the beach, **pool**, and even through jet skiing, but it was\", \"tokens\": \"water ##proof and lasted all day at the beach , pool , and even through jet skiing , but it was\", \"word\": \"pool\", \"stars\": \"1 star\", \"brand\": \"Urban Decay\", \"name\": \"Cannonball Ultra Waterproof Mascara\", \"type\": \"Mascara\"}, {\"x\": -0.07008654624223709, \"y\": 0.045529454946517944, \"context\": \"the past two years sad every time i leave the **gym** and have raccoon eyes from my high end\", \"tokens\": \"the past two years sad every time i leave the gym and have ra ##cco ##on eyes from my high end\", \"word\": \"gym\", \"stars\": \"4 stars\", \"brand\": \"Too Faced\", \"name\": \"Better Than Sex Waterproof Mascara\", \"type\": \"Mascara\"}, {\"x\": -0.0684329941868782, \"y\": 0.04109333083033562, \"context\": \"waterproof mascara because my second job is as a **gym** owner and boxing trainer, and i sweat a lot\", \"tokens\": \"water ##proof mascara because my second job is as a gym owner and boxing trainer , and i sweat a lot\", \"word\": \"gym\", \"stars\": \"5 stars\", \"brand\": \"Urban Decay\", \"name\": \"Cannonball Ultra Waterproof Mascara\", \"type\": \"Mascara\"}, {\"x\": -0.058364950120449066, \"y\": 0.006802164483815432, \"context\": \"through my entire full-time workday in an **office** and all night through very sweaty training at the gym\", \"tokens\": \"through my entire full - time work ##day in an office and all night through very sweaty training at the gym\", \"word\": \"office\", \"stars\": \"5 stars\", \"brand\": \"Urban Decay\", \"name\": \"Cannonball Ultra Waterproof Mascara\", \"type\": \"Mascara\"}, {\"x\": -0.06652829796075821, \"y\": 0.048182163387537, \"context\": \"office and all night through very sweaty training at the **gym**. it never gives me raccoon eyes or\", \"tokens\": \"office and all night through very sweaty training at the gym . it never gives me ra ##cco ##on eyes or\", \"word\": \"gym\", \"stars\": \"5 stars\", \"brand\": \"Urban Decay\", \"name\": \"Cannonball Ultra Waterproof Mascara\", \"type\": \"Mascara\"}, {\"x\": -0.07205066084861755, \"y\": 0.047898925840854645, \"context\": \"my active life! just because i work at a **gym** doesn 't mean i have to give up wearing\", \"tokens\": \"my active life ! just because i work at a gym doesn ' t mean i have to give up wearing\", \"word\": \"gym\", \"stars\": \"5 stars\", \"brand\": \"Urban Decay\", \"name\": \"Cannonball Ultra Waterproof Mascara\", \"type\": \"Mascara\"}, {\"x\": -0.07916639745235443, \"y\": 0.06951785087585449, \"context\": \"thinking it would work decently while being in the **pool**. well let me just say this is the best\", \"tokens\": \"thinking it would work decent ##ly while being in the pool . well let me just say this is the best\", \"word\": \"pool\", \"stars\": \"5 stars\", \"brand\": \"Urban Decay\", \"name\": \"Cannonball Ultra Waterproof Mascara\", \"type\": \"Mascara\"}, {\"x\": -0.07823560386896133, \"y\": 0.0706992968916893, \"context\": \"! it stayed put on the beach, in the **pool** and even a little bit of splashing around in\", \"tokens\": \"! it stayed put on the beach , in the pool and even a little bit of splash ##ing around in\", \"word\": \"pool\", \"stars\": \"5 stars\", \"brand\": \"Urban Decay\", \"name\": \"Cannonball Ultra Waterproof Mascara\", \"type\": \"Mascara\"}, {\"x\": -0.07953085005283356, \"y\": 0.06793851405382156, \"context\": \"i wore this in jamaica in and out of the **pool**, the ocean, etc and no raccoon\", \"tokens\": \"i wore this in jamaica in and out of the pool , the ocean , etc and no ra ##cco ##on\", \"word\": \"pool\", \"stars\": \"5 stars\", \"brand\": \"Dior\", \"name\": \"Diorshow Waterproof Mascara\", \"type\": \"Mascara\"}, {\"x\": -0.07712127268314362, \"y\": 0.0739324763417244, \"context\": \"on a girls trip and it lasted beautifully in the **pool** and the lazy river. love waterproof, but\", \"tokens\": \"on a girls trip and it lasted beautifully in the pool and the lazy river . love water ##proof , but\", \"word\": \"pool\", \"stars\": \"5 stars\", \"brand\": \"Dior\", \"name\": \"Diorshow Waterproof Mascara\", \"type\": \"Mascara\"}, {\"x\": -0.0733552947640419, \"y\": -0.10360988974571228, \"context\": \"t need waterproof. got this one for the **wedding** day so i don 't cry my makeup off\", \"tokens\": \"t need water ##proof . got this one for the wedding day so i don ' t cry my makeup off\", \"word\": \"wedding\", \"stars\": \"5 stars\", \"brand\": \"Dior\", \"name\": \"Diorshow Waterproof Mascara\", \"type\": \"Mascara\"}, {\"x\": -0.060652922838926315, \"y\": -0.0024616732262074947, \"context\": \"with her mascara running after a full day at the **office** so after hearing and reading the rave reviews about this\", \"tokens\": \"with her mascara running after a full day at the office so after hearing and reading the rave reviews about this\", \"word\": \"office\", \"stars\": \"3 stars\", \"brand\": \"Dior\", \"name\": \"Diorshow Waterproof Mascara\", \"type\": \"Mascara\"}, {\"x\": -0.07265891879796982, \"y\": -0.10300815850496292, \"context\": \"look amazing, was testing out new mascara for my **wedding** and i 'm glad i have been trying first\", \"tokens\": \"look amazing , was testing out new mascara for my wedding and i ' m glad i have been trying first\", \"word\": \"wedding\", \"stars\": \"3 stars\", \"brand\": \"Dior\", \"name\": \"Diorshow Waterproof Mascara\", \"type\": \"Mascara\"}, {\"x\": -0.07296964526176453, \"y\": -0.09993955492973328, \"context\": \"lid expensive and dry i tried this for my daughters **wedding**. it does add thickness and does not leave any\", \"tokens\": \"lid expensive and dry i tried this for my daughters wedding . it does add thickness and does not leave any\", \"word\": \"wedding\", \"stars\": \"4 stars\", \"brand\": \"Dior\", \"name\": \"Diorshow Waterproof Mascara\", \"type\": \"Mascara\"}, {\"x\": -0.06414268165826797, \"y\": -0.0008344892994500697, \"context\": \"day after working a desk job in an air conditioned **office** the mascara would be under my eyes. which is\", \"tokens\": \"day after working a desk job in an air conditioned office the mascara would be under my eyes . which is\", \"word\": \"office\", \"stars\": \"4 stars\", \"brand\": \"Urban Decay\", \"name\": \"Cannonball Ultra Waterproof Mascara\", \"type\": \"Mascara\"}, {\"x\": -0.07890339940786362, \"y\": 0.07175470888614655, \"context\": \"ok. it doesn 't hold up in a **pool**, but it did survive a day at the beach\", \"tokens\": \"ok . it doesn ' t hold up in a pool , but it did survive a day at the beach\", \"word\": \"pool\", \"stars\": \"4 stars\", \"brand\": \"Dior\", \"name\": \"Diorshow Waterproof Mascara\", \"type\": \"Mascara\"}, {\"x\": -0.07204338163137436, \"y\": -0.10029023885726929, \"context\": \"was also looking for a waterproof mascara for my **wedding** and after reading and hearing such amazing reviews on this\", \"tokens\": \"was also looking for a water ##proof mascara for my wedding and after reading and hearing such amazing reviews on this\", \"word\": \"wedding\", \"stars\": \"1 star\", \"brand\": \"Dior\", \"name\": \"Diorshow Waterproof Mascara\", \"type\": \"Mascara\"}, {\"x\": -0.07451467961072922, \"y\": -0.10658766329288483, \"context\": \"but worth it. i bought this mascara for my **wedding** and it works great! it stays on all day\", \"tokens\": \"but worth it . i bought this mascara for my wedding and it works great ! it stays on all day\", \"word\": \"wedding\", \"stars\": \"4 stars\", \"brand\": \"Dior\", \"name\": \"Diorshow Waterproof Mascara\", \"type\": \"Mascara\"}, {\"x\": -0.06328126788139343, \"y\": -0.006526459474116564, \"context\": \"! i only used it as a daily wear at **office** and there is no hot weather or body exercise or\", \"tokens\": \"! i only used it as a daily wear at office and there is no hot weather or body exercise or\", \"word\": \"office\", \"stars\": \"1 star\", \"brand\": \"Dior\", \"name\": \"Diorshow Waterproof Mascara\", \"type\": \"Mascara\"}, {\"x\": -0.0706619992852211, \"y\": -0.09228348731994629, \"context\": \"caribbean, where i work long days outdoors as a **wedding** photographer. this is the only mascara i 've\", \"tokens\": \"caribbean , where i work long days outdoors as a wedding photographer . this is the only mascara i ' ve\", \"word\": \"wedding\", \"stars\": \"5 stars\", \"brand\": \"Dior\", \"name\": \"Diorshow Waterproof Mascara\", \"type\": \"Mascara\"}, {\"x\": -0.0796755775809288, \"y\": 0.06651575863361359, \"context\": \"proof, \\\"removal without makeup remover at the **pool** / beach will be near impossible. oddly enough,\", \"tokens\": \"##proof , \\\" removal without makeup remove ##r at the pool / beach will be near impossible . oddly enough ,\", \"word\": \"pool\", \"stars\": \"5 stars\", \"brand\": \"Dior\", \"name\": \"Diorshow Waterproof Mascara\", \"type\": \"Mascara\"}, {\"x\": -0.07421094179153442, \"y\": 0.07551492750644684, \"context\": \"i went to the beach, i went in the **pool**, and i even went snorkeling in\", \"tokens\": \"i went to the beach , i went in the pool , and i even went s ##nor ##kel ##ing in\", \"word\": \"pool\", \"stars\": \"5 stars\", \"brand\": \"Dior\", \"name\": \"Diorshow Waterproof Mascara\", \"type\": \"Mascara\"}, {\"x\": -0.0752774104475975, \"y\": 0.0430501326918602, \"context\": \"live without. only mascara i can wear to the **gym** and not worry about it running down my face.\", \"tokens\": \"live without . only mascara i can wear to the gym and not worry about it running down my face .\", \"word\": \"gym\", \"stars\": \"5 stars\", \"brand\": \"Too Faced\", \"name\": \"Better Than Sex Waterproof Mascara\", \"type\": \"Mascara\"}, {\"x\": -0.06575606018304825, \"y\": -0.05725005641579628, \"context\": \"with the onset of allergy season and an upcoming **funeral** to attend-i desperately needed something waterproof.\", \"tokens\": \"with the onset of all ##ergy season and an upcoming funeral to attend - i desperately needed something water ##proof .\", \"word\": \"funeral\", \"stars\": \"5 stars\", \"brand\": \"Dior\", \"name\": \"Diorshow Waterproof Mascara\", \"type\": \"Mascara\"}, {\"x\": -0.07318788021802902, \"y\": -0.10971064120531082, \"context\": \"recommended it when i was looking for mascara for my **wedding**. she probably was pushing the product, but it\", \"tokens\": \"recommended it when i was looking for mascara for my wedding . she probably was pushing the product , but it\", \"word\": \"wedding\", \"stars\": \"4 stars\", \"brand\": \"Dior\", \"name\": \"Diorshow Waterproof Mascara\", \"type\": \"Mascara\"}, {\"x\": -0.07159171998500824, \"y\": -0.1144254058599472, \"context\": \"from the lashes. i wore this mascara for my **wedding** in january. it worked great! even with the\", \"tokens\": \"from the lashes . i wore this mascara for my wedding in january . it worked great ! even with the\", \"word\": \"wedding\", \"stars\": \"4 stars\", \"brand\": \"Dior\", \"name\": \"Diorshow Waterproof Mascara\", \"type\": \"Mascara\"}, {\"x\": -0.07502211630344391, \"y\": 0.0752825140953064, \"context\": \"week, playing in the ocean, swimming in the **pool**, tromping in the everglades,\", \"tokens\": \"week , playing in the ocean , swimming in the pool , tr ##omp ##ing in the ever ##gl ##ades ,\", \"word\": \"pool\", \"stars\": \"5 stars\", \"brand\": \"Dior\", \"name\": \"Diorshow Waterproof Mascara\", \"type\": \"Mascara\"}, {\"x\": -0.07346876710653305, \"y\": 0.05583013594150543, \"context\": \"ing until night, even if i go to the **gym** mid-day. i haven 't tried but\", \"tokens\": \"##ing until night , even if i go to the gym mid - day . i haven ' t tried but\", \"word\": \"gym\", \"stars\": \"3 stars\", \"brand\": \"Too Faced\", \"name\": \"Better Than Sex Mascara\", \"type\": \"Mascara\"}, {\"x\": -0.0714450255036354, \"y\": -0.09655199199914932, \"context\": \"get me through break ups and my sister's **wedding**, it wins it my book. it is pri\", \"tokens\": \"get me through break ups and my sister ' s wedding , it wins it my book . it is pri\", \"word\": \"wedding\", \"stars\": \"5 stars\", \"brand\": \"Dior\", \"name\": \"Diorshow Waterproof Mascara\", \"type\": \"Mascara\"}, {\"x\": -0.07430040091276169, \"y\": -0.10619033128023148, \"context\": \"grail mascara i wore this mascara for my own **wedding** a year ago and made sure to have a fresh\", \"tokens\": \"gr ##ail mascara i wore this mascara for my own wedding a year ago and made sure to have a fresh\", \"word\": \"wedding\", \"stars\": \"5 stars\", \"brand\": \"Dior\", \"name\": \"Diorshow Waterproof Mascara\", \"type\": \"Mascara\"}, {\"x\": -0.07227132469415665, \"y\": -0.10349283367395401, \"context\": \"to have a fresh tube for this summer's **wedding** season. doesn 't run, but does do\", \"tokens\": \"to have a fresh tube for this summer ' s wedding season . doesn ' t run , but does do\", \"word\": \"wedding\", \"stars\": \"5 stars\", \"brand\": \"Dior\", \"name\": \"Diorshow Waterproof Mascara\", \"type\": \"Mascara\"}, {\"x\": -0.0719108060002327, \"y\": -0.10299306362867355, \"context\": \"length, and curl. i am looking for the **wedding** day mascara that will forever be in pictures. this\", \"tokens\": \"length , and curl . i am looking for the wedding day mascara that will forever be in pictures . this\", \"word\": \"wedding\", \"stars\": \"5 stars\", \"brand\": \"Too Faced\", \"name\": \"Better Than Sex Mascara\", \"type\": \"Mascara\"}, {\"x\": -0.0740978941321373, \"y\": -0.1096513494849205, \"context\": \"more i needed a great waterproof mascara for a **wedding** and was told this mascara was best. weeks before\", \"tokens\": \"more i needed a great water ##proof mascara for a wedding and was told this mascara was best . weeks before\", \"word\": \"wedding\", \"stars\": \"1 star\", \"brand\": \"Dior\", \"name\": \"Diorshow Waterproof Mascara\", \"type\": \"Mascara\"}, {\"x\": -0.07185132056474686, \"y\": -0.10583103448152542, \"context\": \"was told this mascara was best. weeks before the **wedding** i decided to try it. i curled my eyelashes\", \"tokens\": \"was told this mascara was best . weeks before the wedding i decided to try it . i curled my eyelashes\", \"word\": \"wedding\", \"stars\": \"1 star\", \"brand\": \"Dior\", \"name\": \"Diorshow Waterproof Mascara\", \"type\": \"Mascara\"}, {\"x\": -0.07921720296144485, \"y\": 0.07366322726011276, \"context\": \"the day after wearing at the beach and in the **pool**. as a general waterproof mascara it would probably\", \"tokens\": \"the day after wearing at the beach and in the pool . as a general water ##proof mascara it would probably\", \"word\": \"pool\", \"stars\": \"3 stars\", \"brand\": \"Dior\", \"name\": \"Diorshow Waterproof Mascara\", \"type\": \"Mascara\"}, {\"x\": -0.0686114951968193, \"y\": -0.023058060556650162, \"context\": \"lable. this lasted me an entire nye **party** and 7 hours of sleep and when i woke up\", \"tokens\": \"##lab ##le . this lasted me an entire ny ##e party and 7 hours of sleep and when i woke up\", \"word\": \"party\", \"stars\": \"5 stars\", \"brand\": \"FENTY BEAUTY BY RIHANNA\", \"name\": \"Flyliner Longwear Liquid Eyeliner\", \"type\": \"Liquid Eyeliner\"}, {\"x\": -0.0595458559691906, \"y\": 0.0035666159819811583, \"context\": \"wear, and i was at work in a cold **office** building. disappointed since i really liked the feel of\", \"tokens\": \"wear , and i was at work in a cold office building . disappointed since i really liked the feel of\", \"word\": \"office\", \"stars\": \"1 star\", \"brand\": \"FENTY BEAUTY BY RIHANNA\", \"name\": \"Flyliner Longwear Liquid Eyeliner\", \"type\": \"Liquid Eyeliner\"}, {\"x\": -0.07096356898546219, \"y\": -0.11123339831829071, \"context\": \"primer so much that i wore it on my **wedding** day! it was a hot and long [ but\", \"tokens\": \"prime ##r so much that i wore it on my wedding day ! it was a hot and long [ but\", \"word\": \"wedding\", \"stars\": \"5 stars\", \"brand\": \"Too Faced\", \"name\": \"Hangover Replenishing Face Primer\", \"type\": \"Primer\"}, {\"x\": -0.07136065512895584, \"y\": -0.10766156017780304, \"context\": \"ve ever owned. i even wore it for my **wedding** day... i 'll definitely be getting\", \"tokens\": \"ve ever owned . i even wore it for my wedding day . . . i ' ll definitely be getting\", \"word\": \"wedding\", \"stars\": \"5 stars\", \"brand\": \"Too Faced\", \"name\": \"Better Than Sex Mascara\", \"type\": \"Mascara\"}, {\"x\": -0.06210549175739288, \"y\": -0.0005931771593168378, \"context\": \"and it is still there after 8 hours at the **office**. i am definitely buying again. smooth, creamy\", \"tokens\": \"and it is still there after 8 hours at the office . i am definitely buying again . smooth , creamy\", \"word\": \"office\", \"stars\": \"5 stars\", \"brand\": \"Marc Jacobs\", \"name\": \"Highliner Gel Eye Crayon Eyeliner\", \"type\": \"Gel Eyeliner\"}, {\"x\": -0.06728128343820572, \"y\": -0.11050072312355042, \"context\": \"is what i 'm planning to use for my **wedding** makeup. the next liner i want to try is\", \"tokens\": \"is what i ' m planning to use for my wedding makeup . the next liner i want to try is\", \"word\": \"wedding\", \"stars\": \"5 stars\", \"brand\": \"Marc Jacobs\", \"name\": \"Highliner Gel Eye Crayon Eyeliner\", \"type\": \"Gel Eyeliner\"}, {\"x\": -0.07185306400060654, \"y\": 0.04532293602824211, \"context\": \"i wash my face at night, even on sweaty **gym** days! i 've also worn this swimming in\", \"tokens\": \"i wash my face at night , even on sweaty gym days ! i ' ve also worn this swimming in\", \"word\": \"gym\", \"stars\": \"5 stars\", \"brand\": \"Marc Jacobs\", \"name\": \"Highliner Gel Eye Crayon Eyeliner\", \"type\": \"Gel Eyeliner\"}, {\"x\": -0.05686792731285095, \"y\": -0.01199768390506506, \"context\": \"line. love it for low key liner looks for **office** or easy days. i 've always been a\", \"tokens\": \"line . love it for low key liner looks for office or easy days . i ' ve always been a\", \"word\": \"office\", \"stars\": null, \"brand\": null, \"name\": null, \"type\": null}, {\"x\": -0.05889015644788742, \"y\": 0.03957965224981308, \"context\": \"raccoon eyes for me, and only minimal **pooling** in the corner of my eyes ), whereas\", \"tokens\": \"ra ##cco ##on eyes for me , and only minimal pool ##ing in the corner of my eyes ) , whereas\", \"word\": \"pool\", \"stars\": \"1 star\", \"brand\": \"Dior\", \"name\": \"Diorshow Waterproof Mascara\", \"type\": \"Mascara\"}, {\"x\": -0.07308024913072586, \"y\": -0.10565405339002609, \"context\": \"and humid. bought this in forest green for a **wedding**, tested it over 4 hours on this hot,\", \"tokens\": \"and humid . bought this in forest green for a wedding , tested it over 4 hours on this hot ,\", \"word\": \"wedding\", \"stars\": \"4 stars\", \"brand\": \"Marc Jacobs\", \"name\": \"Highliner Gel Eye Crayon Eyeliner\", \"type\": \"Gel Eyeliner\"}, {\"x\": -0.07877593487501144, \"y\": 0.07052625715732574, \"context\": \"for sure. i haven 't jumped in a **pool** or anything with it but my eyes get watery because\", \"tokens\": \"for sure . i haven ' t jumped in a pool or anything with it but my eyes get watery because\", \"word\": \"pool\", \"stars\": \"5 stars\", \"brand\": \"Marc Jacobs\", \"name\": \"Highliner Gel Eye Crayon Eyeliner\", \"type\": \"Gel Eyeliner\"}, {\"x\": -0.07058504968881607, \"y\": -0.029103217646479607, \"context\": \"t know what that is, it is a paint **party**. this eyeliner did not budge. it didn\", \"tokens\": \"t know what that is , it is a paint party . this eye ##liner did not budge . it didn\", \"word\": \"party\", \"stars\": \"5 stars\", \"brand\": \"Marc Jacobs\", \"name\": \"Highliner Gel Eye Crayon Eyeliner\", \"type\": \"Gel Eyeliner\"}, {\"x\": -0.07260323315858841, \"y\": 0.053581446409225464, \"context\": \"has extreme staying power. i will go to the **gym** and run 5 miles and it will not be sm\", \"tokens\": \"has extreme staying power . i will go to the gym and run 5 miles and it will not be sm\", \"word\": \"gym\", \"stars\": \"5 stars\", \"brand\": \"Kat Von D\", \"name\": \"Tattoo Liner\", \"type\": \"Liquid Eyeliner\"}, {\"x\": -0.07310862839221954, \"y\": -0.1007567048072815, \"context\": \"s wear-ability at an outdoor ( summer ) **wedding**. tears, ( insanely ) high humidity,\", \"tokens\": \"s wear - ability at an outdoor ( summer ) wedding . tears , ( insane ##ly ) high humidity ,\", \"word\": \"wedding\", \"stars\": \"5 stars\", \"brand\": \"Kat Von D\", \"name\": \"Tattoo Liner\", \"type\": \"Liquid Eyeliner\"}, {\"x\": -0.07135756313800812, \"y\": 0.04615243896842003, \"context\": \"to most of a normal day but definitely not the **gym**! black eyeliner is the important makeup item for\", \"tokens\": \"to most of a normal day but definitely not the gym ! black eye ##liner is the important makeup item for\", \"word\": \"gym\", \"stars\": \"5 stars\", \"brand\": \"Urban Decay\", \"name\": \"Cannonball Ultra Waterproof Mascara\", \"type\": \"Mascara\"}, {\"x\": -0.07265078276395798, \"y\": 0.05619911104440689, \"context\": \"then go exercise for an hour or 2 at the **gym** and it doesn 't budge or smudge.\", \"tokens\": \"then go exercise for an hour or 2 at the gym and it doesn ' t budge or sm ##udge .\", \"word\": \"gym\", \"stars\": \"4 stars\", \"brand\": \"Kat Von D\", \"name\": \"Tattoo Liner\", \"type\": \"Liquid Eyeliner\"}, {\"x\": -0.07703857123851776, \"y\": 0.07343154400587082, \"context\": \"straight and even line! i can jump in a **pool** and rub my eyes and it will not come off\", \"tokens\": \"straight and even line ! i can jump in a pool and rub my eyes and it will not come off\", \"word\": \"pool\", \"stars\": \"4 stars\", \"brand\": \"Marc Jacobs\", \"name\": \"Highliner Gel Eye Crayon Eyeliner\", \"type\": \"Gel Eyeliner\"}, {\"x\": -0.058475494384765625, \"y\": 0.037005066871643066, \"context\": \"every eyeliner except this on always make a little **pool** of smudge below the outer corners of my eyes\", \"tokens\": \"every eye ##liner except this on always make a little pool of sm ##udge below the outer corners of my eyes\", \"word\": \"pool\", \"stars\": \"5 stars\", \"brand\": \"Kat Von D\", \"name\": \"Tattoo Liner\", \"type\": \"Liquid Eyeliner\"}, {\"x\": -0.06657210737466812, \"y\": -0.0637226477265358, \"context\": \"i needed a waterproof eyeliner formula for a **funeral** i would be attending ( i just kinda ran into\", \"tokens\": \"i needed a water ##proof eye ##liner formula for a funeral i would be attending ( i just kinda ran into\", \"word\": \"funeral\", \"stars\": \"5 stars\", \"brand\": \"Kat Von D\", \"name\": \"Tattoo Liner\", \"type\": \"Liquid Eyeliner\"}, {\"x\": -0.07655087113380432, \"y\": 0.0733131542801857, \"context\": \", stays all day, even stayed on in the **pool**. it's easy to use, it '\", \"tokens\": \", stays all day , even stayed on in the pool . it ' s easy to use , it '\", \"word\": \"pool\", \"stars\": \"5 stars\", \"brand\": \"Kat Von D\", \"name\": \"Tattoo Liner\", \"type\": \"Liquid Eyeliner\"}, {\"x\": -0.06832627207040787, \"y\": -0.0013314620591700077, \"context\": \"wanna come off. thru workouts, swim, **partying** it lasted all day and night. the first\", \"tokens\": \"wanna come off . thru workout ##s , swim , party ##ing it lasted all day and night . the first\", \"word\": \"party\", \"stars\": \"2 stars\", \"brand\": \"Too Faced\", \"name\": \"Better Than Sex Mascara\", \"type\": \"Mascara\"}, {\"x\": -0.08022427558898926, \"y\": 0.06866228580474854, \"context\": \"eyeshadow was still on when i left the **pool**-it wors that well! i love this\", \"tokens\": \"eyes ##had ##ow was still on when i left the pool - it wo ##rs that well ! i love this\", \"word\": \"pool\", \"stars\": \"5 stars\", \"brand\": \"Urban Decay\", \"name\": \"Eyeshadow Primer Potion - Original\", \"type\": \"Eye Primer\"}, {\"x\": -0.07123905420303345, \"y\": 0.044947750866413116, \"context\": \"smudging even when i 'm at the **gym**. would give it a 5 / 5 if it\", \"tokens\": \"sm ##ud ##ging even when i ' m at the gym . would give it a 5 / 5 if it\", \"word\": \"gym\", \"stars\": \"4 stars\", \"brand\": \"Urban Decay\", \"name\": \"Eyeshadow Primer Potion - Original\", \"type\": \"Eye Primer\"}, {\"x\": -0.07038702070713043, \"y\": -0.03673262894153595, \"context\": \"then the shadows blend beautifully! if you have a **party** to go to at night wear this and your eye\", \"tokens\": \"then the shadows blend beautifully ! if you have a party to go to at night wear this and your eye\", \"word\": \"party\", \"stars\": \"5 stars\", \"brand\": \"Urban Decay\", \"name\": \"Eyeshadow Primer Potion - Original\", \"type\": \"Eye Primer\"}, {\"x\": -0.07078885287046432, \"y\": 0.02599945478141308, \"context\": \"lasts all day long, from my 6 am post **gym** session through my entire corporate day and beyond. honestly\", \"tokens\": \"lasts all day long , from my 6 am post gym session through my entire corporate day and beyond . honestly\", \"word\": \"gym\", \"stars\": \"5 stars\", \"brand\": \"Urban Decay\", \"name\": \"Eyeshadow Primer Potion - Original\", \"type\": \"Eye Primer\"}, {\"x\": -0.07068412005901337, \"y\": -0.11365515738725662, \"context\": \"r will do the job. using it for my **wedding**. i miss the old product packaging, where you\", \"tokens\": \"##r will do the job . using it for my wedding . i miss the old product packaging , where you\", \"word\": \"wedding\", \"stars\": \"1 star\", \"brand\": \"Urban Decay\", \"name\": \"Eyeshadow Primer Potion - Original\", \"type\": \"Eye Primer\"}, {\"x\": -0.07309059053659439, \"y\": 0.04386297985911369, \"context\": \"10 hour workday. i could even hit the **gym** afterward and my eye makeup would stay put. i\", \"tokens\": \"10 hour work ##day . i could even hit the gym afterward and my eye makeup would stay put . i\", \"word\": \"gym\", \"stars\": \"5 stars\", \"brand\": \"Urban Decay\", \"name\": \"Cannonball Ultra Waterproof Mascara\", \"type\": \"Mascara\"}, {\"x\": -0.07402642071247101, \"y\": -0.09814963489770889, \"context\": \"glad that i did. used it during my cousins **wedding** and it kept my eyeshadow in place through\", \"tokens\": \"glad that i did . used it during my cousins wedding and it kept my eyes ##had ##ow in place through\", \"word\": \"wedding\", \"stars\": \"5 stars\", \"brand\": \"Urban Decay\", \"name\": \"Eyeshadow Primer Potion - Original\", \"type\": \"Eye Primer\"}, {\"x\": -0.07053736597299576, \"y\": -0.025434056296944618, \"context\": \"always shinning. for carnival ( a two day **party** on the streets ), i did not even have\", \"tokens\": \"always shin ##ning . for carnival ( a two day party on the streets ) , i did not even have\", \"word\": \"party\", \"stars\": \"5 stars\", \"brand\": \"Urban Decay\", \"name\": \"Eyeshadow Primer Potion - Original\", \"type\": \"Eye Primer\"}, {\"x\": -0.06723488122224808, \"y\": -0.04668322578072548, \"context\": \"looked unbelievably fresh for the entire **party** ( around 7 hours ) and even when i was\", \"tokens\": \"looked un ##bel ##ie ##va ##bly fresh for the entire party ( around 7 hours ) and even when i was\", \"word\": \"party\", \"stars\": \"5 stars\", \"brand\": \"Urban Decay\", \"name\": \"Eyeshadow Primer Potion - Original\", \"type\": \"Eye Primer\"}, {\"x\": -0.06996756792068481, \"y\": -0.03929420933127403, \"context\": \"hooked on it too! i went to a christmas **party** last night where i knew i was going to go\", \"tokens\": \"hooked on it too ! i went to a christmas party last night where i knew i was going to go\", \"word\": \"party\", \"stars\": \"5 stars\", \"brand\": \"Urban Decay\", \"name\": \"Eyeshadow Primer Potion - Original\", \"type\": \"Eye Primer\"}, {\"x\": -0.0675470232963562, \"y\": -0.04119691997766495, \"context\": \"the time. but when i 'm at a **party** and someone has to tell me i have some cr\", \"tokens\": \"the time . but when i ' m at a party and someone has to tell me i have some cr\", \"word\": \"party\", \"stars\": \"3 stars\", \"brand\": \"Urban Decay\", \"name\": \"Eyeshadow Primer Potion - Original\", \"type\": \"Eye Primer\"}, {\"x\": -0.07068672776222229, \"y\": -0.018221795558929443, \"context\": \"udges in an hour and i went to a **party** where i took too many shots got black out drunk\", \"tokens\": \"##udge ##s in an hour and i went to a party where i took too many shots got black out drunk\", \"word\": \"party\", \"stars\": \"5 stars\", \"brand\": \"Urban Decay\", \"name\": \"Eyeshadow Primer Potion - Original\", \"type\": \"Eye Primer\"}, {\"x\": -0.07125139236450195, \"y\": -0.016740016639232635, \"context\": \"bit, almost passed out and was carried around the **party** on my friends back then proceed to sleep in my\", \"tokens\": \"bit , almost passed out and was carried around the party on my friends back then proceed to sleep in my\", \"word\": \"party\", \"stars\": \"5 stars\", \"brand\": \"Urban Decay\", \"name\": \"Eyeshadow Primer Potion - Original\", \"type\": \"Eye Primer\"}, {\"x\": -0.07301028072834015, \"y\": 0.044154003262519836, \"context\": \", work a 10 hour day, hit a sweaty **gym** session and get home and my smoky eye still looks\", \"tokens\": \", work a 10 hour day , hit a sweaty gym session and get home and my smoky eye still looks\", \"word\": \"gym\", \"stars\": \"5 stars\", \"brand\": \"Urban Decay\", \"name\": \"Eyeshadow Primer Potion - Original\", \"type\": \"Eye Primer\"}, {\"x\": -0.07903465628623962, \"y\": 0.05715789645910263, \"context\": \"all day, even when i jumped in the hotel **pool** in the evening.. it was a hot day\", \"tokens\": \"all day , even when i jumped in the hotel pool in the evening . . it was a hot day\", \"word\": \"pool\", \"stars\": \"5 stars\", \"brand\": \"Stila\", \"name\": \"Stay All Day\\u00ae Waterproof Liquid Eye Liner\", \"type\": \"Liquid Eyeliner\"}, {\"x\": -0.07857923954725266, \"y\": 0.07255564630031586, \"context\": \"put it on this morning, hung out by the **pool**, took a nap and guess what, it hasn\", \"tokens\": \"put it on this morning , hung out by the pool , took a nap and guess what , it hasn\", \"word\": \"pool\", \"stars\": \"5 stars\", \"brand\": \"Stila\", \"name\": \"Stay All Day\\u00ae Waterproof Liquid Eye Liner\", \"type\": \"Liquid Eyeliner\"}, {\"x\": -0.07152833789587021, \"y\": 0.03751496598124504, \"context\": \"smudge. it still looks perfect even after the **gym**. don 't waste your time with other liquid\", \"tokens\": \"sm ##udge . it still looks perfect even after the gym . don ' t waste your time with other liquid\", \"word\": \"gym\", \"stars\": \"1 star\", \"brand\": \"Too Faced\", \"name\": \"Better Than Sex Mascara\", \"type\": \"Mascara\"}, {\"x\": -0.07362391799688339, \"y\": 0.04750830680131912, \"context\": \"work a full 8 hour day, go to the **gym** and have dinner out, and still have to use\", \"tokens\": \"work a full 8 hour day , go to the gym and have dinner out , and still have to use\", \"word\": \"gym\", \"stars\": \"5 stars\", \"brand\": \"Stila\", \"name\": \"Stay All Day\\u00ae Waterproof Liquid Eye Liner\", \"type\": \"Liquid Eyeliner\"}, {\"x\": -0.06988915801048279, \"y\": -0.10556472092866898, \"context\": \"this eyeliner when my sister bought it for her **wedding** day makeup. i am an every day eyeliner\", \"tokens\": \"this eye ##liner when my sister bought it for her wedding day makeup . i am an every day eye ##liner\", \"word\": \"wedding\", \"stars\": \"5 stars\", \"brand\": \"Stila\", \"name\": \"Stay All Day\\u00ae Waterproof Liquid Eye Liner\", \"type\": \"Liquid Eyeliner\"}, {\"x\": -0.060299068689346313, \"y\": 0.03761708736419678, \"context\": \"a treadmill in 85 deg 100 % humidity **gym**. i sweat like a horse by the way.\", \"tokens\": \"a tread ##mill in 85 de ##g 100 % humidity gym . i sweat like a horse by the way .\", \"word\": \"gym\", \"stars\": \"5 stars\", \"brand\": \"Stila\", \"name\": \"Stay All Day\\u00ae Waterproof Liquid Eye Liner\", \"type\": \"Liquid Eyeliner\"}, {\"x\": -0.07603905349969864, \"y\": 0.07140304893255234, \"context\": \"so sweaty that it looked liked i jumped in a **pool**, and this was after a 9 hour workday\", \"tokens\": \"so sweaty that it looked liked i jumped in a pool , and this was after a 9 hour work ##day\", \"word\": \"pool\", \"stars\": \"5 stars\", \"brand\": \"Stila\", \"name\": \"Stay All Day\\u00ae Waterproof Liquid Eye Liner\", \"type\": \"Liquid Eyeliner\"}, {\"x\": -0.07704083621501923, \"y\": 0.07224734872579575, \"context\": \"then subsist through five straight days in the **pool**--and this would still be on. yet\", \"tokens\": \"then sub ##sis ##t through five straight days in the pool - - and this would still be on . yet\", \"word\": \"pool\", \"stars\": \"5 stars\", \"brand\": \"Stila\", \"name\": \"Stay All Day\\u00ae Waterproof Liquid Eye Liner\", \"type\": \"Liquid Eyeliner\"}, {\"x\": -0.06426812708377838, \"y\": 0.00623168982565403, \"context\": \"'t live in humid weather or work in an **office** all day, this definitely lasts all day without budge\", \"tokens\": \"' t live in humid weather or work in an office all day , this definitely lasts all day without budge\", \"word\": \"office\", \"stars\": \"3 stars\", \"brand\": \"Stila\", \"name\": \"Stay All Day\\u00ae Waterproof Liquid Eye Liner\", \"type\": \"Liquid Eyeliner\"}, {\"x\": -0.07594354450702667, \"y\": 0.07960758358240128, \"context\": \"on and by the end of my time in the **pool** it was completely off. but why the heck was\", \"tokens\": \"on and by the end of my time in the pool it was completely off . but why the heck was\", \"word\": \"pool\", \"stars\": \"5 stars\", \"brand\": \"Stila\", \"name\": \"Stay All Day\\u00ae Waterproof Liquid Eye Liner\", \"type\": \"Liquid Eyeliner\"}, {\"x\": -0.07579978555440903, \"y\": 0.0676020085811615, \"context\": \"will it your face gets soaked, like in a **pool** or something ). i usually buy the black and\", \"tokens\": \"will it your face gets soaked , like in a pool or something ) . i usually buy the black and\", \"word\": \"pool\", \"stars\": \"5 stars\", \"brand\": \"Stila\", \"name\": \"Stay All Day\\u00ae Waterproof Liquid Eye Liner\", \"type\": \"Liquid Eyeliner\"}, {\"x\": -0.07139717787504196, \"y\": -0.006927187088876963, \"context\": \"! i can even wake up after a night of **partying** with it still looking okay! i also get\", \"tokens\": \"! i can even wake up after a night of party ##ing with it still looking okay ! i also get\", \"word\": \"party\", \"stars\": \"5 stars\", \"brand\": \"Stila\", \"name\": \"Stay All Day\\u00ae Waterproof Liquid Eye Liner\", \"type\": \"Liquid Eyeliner\"}, {\"x\": -0.07802942395210266, \"y\": 0.04781412333250046, \"context\": \"always been perfect in the florida heat and humidity. **pool**, beach, no sweat! i 've always\", \"tokens\": \"always been perfect in the florida heat and humidity . pool , beach , no sweat ! i ' ve always\", \"word\": \"pool\", \"stars\": \"4 stars\", \"brand\": \"Stila\", \"name\": \"Stay All Day\\u00ae Waterproof Liquid Eye Liner\", \"type\": \"Liquid Eyeliner\"}, {\"x\": -0.07446592301130295, \"y\": 0.047232817858457565, \"context\": \"'t smudge ( this includes going to the **gym** after a nine hour work day ). i only\", \"tokens\": \"' t sm ##udge ( this includes going to the gym after a nine hour work day ) . i only\", \"word\": \"gym\", \"stars\": \"5 stars\", \"brand\": \"Stila\", \"name\": \"Stay All Day\\u00ae Waterproof Liquid Eye Liner\", \"type\": \"Liquid Eyeliner\"}, {\"x\": -0.06113947182893753, \"y\": 0.0024792258627712727, \"context\": \"through my work day, and i sit in an **office**, i 'm not outdoors. it didn '\", \"tokens\": \"through my work day , and i sit in an office , i ' m not outdoors . it didn '\", \"word\": \"office\", \"stars\": \"4 stars\", \"brand\": \"Stila\", \"name\": \"Stay All Day\\u00ae Waterproof Liquid Eye Liner\", \"type\": \"Liquid Eyeliner\"}, {\"x\": -0.07096371054649353, \"y\": -0.048604801297187805, \"context\": \"without makeup remover. i worse this to a **party** and it was a disaster. i love this liner\", \"tokens\": \"without makeup remove ##r . i worse this to a party and it was a disaster . i love this liner\", \"word\": \"party\", \"stars\": \"1 star\", \"brand\": \"Too Faced\", \"name\": \"Better Than Sex Mascara\", \"type\": \"Mascara\"}, {\"x\": -0.07872560620307922, \"y\": 0.0677013173699379, \"context\": \". unless you are spending the whole day at the **pool**, it will not budge either. the only issue\", \"tokens\": \". unless you are spending the whole day at the pool , it will not budge either . the only issue\", \"word\": \"pool\", \"stars\": \"5 stars\", \"brand\": \"Too Faced\", \"name\": \"Better Than Sex Waterproof Mascara\", \"type\": \"Mascara\"}, {\"x\": -0.06989264488220215, \"y\": -0.09924514591693878, \"context\": \". easy to use and works so well. my **wedding** makeup did not budge one bit. if you '\", \"tokens\": \". easy to use and works so well . my wedding makeup did not budge one bit . if you '\", \"word\": \"wedding\", \"stars\": \"5 stars\", \"brand\": \"Kat Von D\", \"name\": \"Tattoo Liner\", \"type\": \"Liquid Eyeliner\"}, {\"x\": -0.07790259271860123, \"y\": 0.06857495754957199, \"context\": \"--my makeup survived me being pushed into a **pool**, and this was after attending a rave. i\", \"tokens\": \"- - my makeup survived me being pushed into a pool , and this was after attending a rave . i\", \"word\": \"pool\", \"stars\": \"5 stars\", \"brand\": \"Stila\", \"name\": \"Stay All Day\\u00ae Waterproof Liquid Eye Liner\", \"type\": \"Liquid Eyeliner\"}, {\"x\": -0.07000526040792465, \"y\": -0.01906881108880043, \"context\": \"oh how i miss the days when my makeup was **party**-proof and non-smelly...\", \"tokens\": \"oh how i miss the days when my makeup was party - proof and non - smell ##y . . .\", \"word\": \"party\", \"stars\": \"4 stars\", \"brand\": \"Urban Decay\", \"name\": \"All Nighter Long-Lasting Makeup Setting Spray\", \"type\": \"Setting Spray\"}, {\"x\": -0.07444800436496735, \"y\": -0.053841713815927505, \"context\": \"summer months. i did makeup for a bridal **party** and they called me the next day saying their makeup\", \"tokens\": \"summer months . i did makeup for a br ##idal party and they called me the next day saying their makeup\", \"word\": \"party\", \"stars\": \"5 stars\", \"brand\": \"Urban Decay\", \"name\": \"All Nighter Long-Lasting Makeup Setting Spray\", \"type\": \"Setting Spray\"}, {\"x\": -0.06685560196638107, \"y\": -0.045194175094366074, \"context\": \"so lightweight and refreshing. this got me through a **funeral** service and then a night of heavy drinking afterwards.\", \"tokens\": \"so lightweight and refreshing . this got me through a funeral service and then a night of heavy drinking afterwards .\", \"word\": \"funeral\", \"stars\": \"5 stars\", \"brand\": \"Urban Decay\", \"name\": \"All Nighter Long-Lasting Makeup Setting Spray\", \"type\": \"Setting Spray\"}, {\"x\": -0.07282719761133194, \"y\": -0.04962841793894768, \"context\": \"over 20 hours trying to get everything ready for a **party** & i still look like a queen. this stuff\", \"tokens\": \"over 20 hours trying to get everything ready for a party & i still look like a queen . this stuff\", \"word\": \"party\", \"stars\": \"5 stars\", \"brand\": \"Urban Decay\", \"name\": \"All Nighter Long-Lasting Makeup Setting Spray\", \"type\": \"Setting Spray\"}, {\"x\": -0.07647313922643661, \"y\": -0.012883198447525501, \"context\": \"last night to set my makeup before going on a **party** boat type thing. my makeup stayed through the wind\", \"tokens\": \"last night to set my makeup before going on a party boat type thing . my makeup stayed through the wind\", \"word\": \"party\", \"stars\": \"5 stars\", \"brand\": \"Urban Decay\", \"name\": \"All Nighter Long-Lasting Makeup Setting Spray\", \"type\": \"Setting Spray\"}, {\"x\": -0.07850618660449982, \"y\": 0.07241156697273254, \"context\": \", lo and behold when i got out of the **pool** and into the change room, my eyebrows had stayed\", \"tokens\": \", lo and behold when i got out of the pool and into the change room , my eyebrows had stayed\", \"word\": \"pool\", \"stars\": \"5 stars\", \"brand\": \"Urban Decay\", \"name\": \"All Nighter Long-Lasting Makeup Setting Spray\", \"type\": \"Setting Spray\"}, {\"x\": -0.0718953013420105, \"y\": 0.04612474888563156, \"context\": \"8 hours of high school and 2 hours at the **gym** and my face is still flawlessly beat and my\", \"tokens\": \"8 hours of high school and 2 hours at the gym and my face is still flawless ##ly beat and my\", \"word\": \"gym\", \"stars\": \"5 stars\", \"brand\": \"Urban Decay\", \"name\": \"All Nighter Long-Lasting Makeup Setting Spray\", \"type\": \"Setting Spray\"}, {\"x\": -0.07118900120258331, \"y\": -0.11319317668676376, \"context\": \"! the first time i used this was for my **wedding** day. my makeup lasted all night, through dancing\", \"tokens\": \"! the first time i used this was for my wedding day . my makeup lasted all night , through dancing\", \"word\": \"wedding\", \"stars\": \"5 stars\", \"brand\": \"Urban Decay\", \"name\": \"All Nighter Long-Lasting Makeup Setting Spray\", \"type\": \"Setting Spray\"}, {\"x\": -0.060636572539806366, \"y\": -0.0003208204288966954, \"context\": \", i 'm disappointed. i work in an **office**, with no strenuous activity throughout my 8\", \"tokens\": \", i ' m disappointed . i work in an office , with no st ##ren ##uous activity throughout my 8\", \"word\": \"office\", \"stars\": \"2 stars\", \"brand\": \"Urban Decay\", \"name\": \"All Nighter Long-Lasting Makeup Setting Spray\", \"type\": \"Setting Spray\"}, {\"x\": -0.07802581787109375, \"y\": 0.07055788487195969, \"context\": \"t budge... and i jumped into a **pool**. this stuff is magical. it's feels\", \"tokens\": \"t budge . . . and i jumped into a pool . this stuff is magical . it ' s feels\", \"word\": \"pool\", \"stars\": \"5 stars\", \"brand\": \"Urban Decay\", \"name\": \"All Nighter Long-Lasting Makeup Setting Spray\", \"type\": \"Setting Spray\"}, {\"x\": -0.07394657284021378, \"y\": -0.1081230565905571, \"context\": \"tell people to purchase this because when i had a **wedding** last july, i was drenched because the ceremony was\", \"tokens\": \"tell people to purchase this because when i had a wedding last july , i was drenched because the ceremony was\", \"word\": \"wedding\", \"stars\": \"4 stars\", \"brand\": \"Urban Decay\", \"name\": \"All Nighter Long-Lasting Makeup Setting Spray\", \"type\": \"Setting Spray\"}, {\"x\": -0.07549115270376205, \"y\": -0.10006272792816162, \"context\": \"s totally worth it, i wore it to a **wedding** and it held my make up all day. my\", \"tokens\": \"s totally worth it , i wore it to a wedding and it held my make up all day . my\", \"word\": \"wedding\", \"stars\": \"5 stars\", \"brand\": \"Urban Decay\", \"name\": \"All Nighter Long-Lasting Makeup Setting Spray\", \"type\": \"Setting Spray\"}, {\"x\": -0.07454819232225418, \"y\": -0.09736361354589462, \"context\": \"that may have just been from tearing up at the **wedding** ahaha. it also very light weight, it\", \"tokens\": \"that may have just been from tearing up at the wedding ah ##aha . it also very light weight , it\", \"word\": \"wedding\", \"stars\": \"5 stars\", \"brand\": \"Urban Decay\", \"name\": \"All Nighter Long-Lasting Makeup Setting Spray\", \"type\": \"Setting Spray\"}, {\"x\": -0.07319650053977966, \"y\": -0.03782433271408081, \"context\": \"8: 00pm. i then wore it to a **party** that night and didn 't remove it before going\", \"tokens\": \"8 : 00pm . i then wore it to a party that night and didn ' t remove it before going\", \"word\": \"party\", \"stars\": \"3 stars\", \"brand\": \"Too Faced\", \"name\": \"Better Than Sex Waterproof Mascara\", \"type\": \"Mascara\"}, {\"x\": -0.07024058699607849, \"y\": -0.01506868563592434, \"context\": \"with a perfect full face of makeup the morning after **partying** when using this. i work in a food\", \"tokens\": \"with a perfect full face of makeup the morning after party ##ing when using this . i work in a food\", \"word\": \"party\", \"stars\": \"5 stars\", \"brand\": \"Urban Decay\", \"name\": \"All Nighter Long-Lasting Makeup Setting Spray\", \"type\": \"Setting Spray\"}, {\"x\": -0.06992810219526291, \"y\": -0.11156965792179108, \"context\": \"was a bridesmaid in my cousin's **wedding**... an outdoor **wedding** in the middle of\", \"tokens\": \"was a bride ##sma ##id in my cousin ' s wedding . . . an outdoor wedding in the middle of\", \"word\": \"wedding\", \"stars\": \"5 stars\", \"brand\": \"Urban Decay\", \"name\": \"All Nighter Long-Lasting Makeup Setting Spray\", \"type\": \"Setting Spray\"}, {\"x\": -0.07089325040578842, \"y\": -0.10948237031698227, \"context\": \"my cousin's **wedding**... an outdoor **wedding** in the middle of june. i wanted to be\", \"tokens\": \"my cousin ' s wedding . . . an outdoor wedding in the middle of june . i wanted to be\", \"word\": \"wedding\", \"stars\": \"5 stars\", \"brand\": \"Urban Decay\", \"name\": \"All Nighter Long-Lasting Makeup Setting Spray\", \"type\": \"Setting Spray\"}, {\"x\": -0.07092531770467758, \"y\": -0.10885965079069138, \"context\": \"happened to be 90 degrees out the day of the **wedding**. i received a free sample of this stuff and\", \"tokens\": \"happened to be 90 degrees out the day of the wedding . i received a free sample of this stuff and\", \"word\": \"wedding\", \"stars\": \"5 stars\", \"brand\": \"Kat Von D\", \"name\": \"Tattoo Liner\", \"type\": \"Liquid Eyeliner\"}, {\"x\": -0.07583929598331451, \"y\": -0.03271452337503433, \"context\": \"i used it, it last all night through a **party** and into the next day ( a little gross,\", \"tokens\": \"i used it , it last all night through a party and into the next day ( a little gross ,\", \"word\": \"party\", \"stars\": \"5 stars\", \"brand\": \"Urban Decay\", \"name\": \"All Nighter Long-Lasting Makeup Setting Spray\", \"type\": \"Setting Spray\"}, {\"x\": -0.07423777878284454, \"y\": 0.025567231699824333, \"context\": \"around 830pm, and that includes a lunch **gym** visit. it really makes a difference on the lasting\", \"tokens\": \"around 83 ##0 ##pm , and that includes a lunch gym visit . it really makes a difference on the lasting\", \"word\": \"gym\", \"stars\": \"5 stars\", \"brand\": \"Urban Decay\", \"name\": \"All Nighter Long-Lasting Makeup Setting Spray\", \"type\": \"Setting Spray\"}, {\"x\": -0.06963235884904861, \"y\": -0.11434021592140198, \"context\": \"ago when i was a bridesmaid for a **wedding**. i did all the bridesmaids 'face\", \"tokens\": \"ago when i was a bride ##sma ##id for a wedding . i did all the bride ##sma ##ids ' face\", \"word\": \"wedding\", \"stars\": \"5 stars\", \"brand\": \"Urban Decay\", \"name\": \"All Nighter Long-Lasting Makeup Setting Spray\", \"type\": \"Setting Spray\"}, {\"x\": -0.0640205591917038, \"y\": -0.09882687777280807, \"context\": \"10: 00am. and in my culture, **wedding**'s involve dancing from morning until night. i\", \"tokens\": \"10 : 00 ##am . and in my culture , wedding ' s involve dancing from morning until night . i\", \"word\": \"wedding\", \"stars\": \"5 stars\", \"brand\": \"Urban Decay\", \"name\": \"All Nighter Long-Lasting Makeup Setting Spray\", \"type\": \"Setting Spray\"}, {\"x\": -0.06757299602031708, \"y\": -0.10348324477672577, \"context\": \"did not touch up at all ( i had another **wedding** to go to so i had a full face on\", \"tokens\": \"did not touch up at all ( i had another wedding to go to so i had a full face on\", \"word\": \"wedding\", \"stars\": \"5 stars\", \"brand\": \"Urban Decay\", \"name\": \"All Nighter Long-Lasting Makeup Setting Spray\", \"type\": \"Setting Spray\"}, {\"x\": -0.06608051806688309, \"y\": -0.10693615674972534, \"context\": \"sing than ever when i got home after the second **wedding**. i didn 't look powdery either.\", \"tokens\": \"##sing than ever when i got home after the second wedding . i didn ' t look powder ##y either .\", \"word\": \"wedding\", \"stars\": \"5 stars\", \"brand\": \"Too Faced\", \"name\": \"Better Than Sex Mascara\", \"type\": \"Mascara\"}, {\"x\": -0.07120322436094284, \"y\": 0.03631461411714554, \"context\": \"day ) and even after zumba class at the **gym**!!! worth every penny!: d used\", \"tokens\": \"day ) and even after zu ##mba class at the gym ! ! ! worth every penny ! : d used\", \"word\": \"gym\", \"stars\": \"5 stars\", \"brand\": \"Too Faced\", \"name\": \"Better Than Sex Mascara\", \"type\": \"Mascara\"}, {\"x\": -0.07138373702764511, \"y\": -0.1086549162864685, \"context\": \"!: d used this for an outdoor / indoor **wedding** on myself, the bride and a couple of other\", \"tokens\": \"! : d used this for an outdoor / indoor wedding on myself , the bride and a couple of other\", \"word\": \"wedding\", \"stars\": \"5 stars\", \"brand\": \"Urban Decay\", \"name\": \"All Nighter Long-Lasting Makeup Setting Spray\", \"type\": \"Setting Spray\"}, {\"x\": -0.06889063119888306, \"y\": -0.07709898054599762, \"context\": \"from but i chose this one for our bridal **party**. granted, it wasn 't too hot or\", \"tokens\": \"from but i chose this one for our br ##idal party . granted , it wasn ' t too hot or\", \"word\": \"party\", \"stars\": \"5 stars\", \"brand\": \"Urban Decay\", \"name\": \"All Nighter Long-Lasting Makeup Setting Spray\", \"type\": \"Setting Spray\"}, {\"x\": -0.071461521089077, \"y\": -0.11640715599060059, \"context\": \"really, really works. i used it for my **wedding** in late july ( in va-think upper 90s\", \"tokens\": \"really , really works . i used it for my wedding in late july ( in va - think upper 90s\", \"word\": \"wedding\", \"stars\": \"4 stars\", \"brand\": \"Urban Decay\", \"name\": \"All Nighter Long-Lasting Makeup Setting Spray\", \"type\": \"Setting Spray\"}, {\"x\": -0.0740247443318367, \"y\": -0.09871280938386917, \"context\": \"it work! especially for very important events like a **wedding**! forget the makeup running and have a blast knowing\", \"tokens\": \"it work ! especially for very important events like a wedding ! forget the makeup running and have a blast knowing\", \"word\": \"wedding\", \"stars\": \"5 stars\", \"brand\": \"Urban Decay\", \"name\": \"All Nighter Long-Lasting Makeup Setting Spray\", \"type\": \"Setting Spray\"}, {\"x\": -0.07229103893041611, \"y\": -0.11429937928915024, \"context\": \"products to use to diy my makeup for my **wedding**. i read about this on a bridal website\", \"tokens\": \"products to use to di ##y my makeup for my wedding . i read about this on a br ##idal website\", \"word\": \"wedding\", \"stars\": \"5 stars\", \"brand\": \"Urban Decay\", \"name\": \"All Nighter Long-Lasting Makeup Setting Spray\", \"type\": \"Setting Spray\"}, {\"x\": -0.07153108716011047, \"y\": -0.03197869285941124, \"context\": \"face and then i went to the beach for a **party**. but i didn 't just chill in the\", \"tokens\": \"face and then i went to the beach for a party . but i didn ' t just chill in the\", \"word\": \"party\", \"stars\": \"5 stars\", \"brand\": \"Urban Decay\", \"name\": \"All Nighter Long-Lasting Makeup Setting Spray\", \"type\": \"Setting Spray\"}, {\"x\": -0.07557521760463715, \"y\": -0.08996199816465378, \"context\": \"in south florida. i had to attend a beach **wedding** in the caribbean and i used it over my makeup\", \"tokens\": \"in south florida . i had to attend a beach wedding in the caribbean and i used it over my makeup\", \"word\": \"wedding\", \"stars\": \"3 stars\", \"brand\": \"Marc Jacobs\", \"name\": \"Highliner Gel Eye Crayon Eyeliner\", \"type\": \"Gel Eyeliner\"}, {\"x\": -0.060379963368177414, \"y\": 0.0021062088198959827, \"context\": \"fresh. i spent like 20 minutes in my professors **office** crying, trying to get him to round my grade\", \"tokens\": \"fresh . i spent like 20 minutes in my professors office crying , trying to get him to round my grade\", \"word\": \"office\", \"stars\": \"5 stars\", \"brand\": \"Urban Decay\", \"name\": \"All Nighter Long-Lasting Makeup Setting Spray\", \"type\": \"Setting Spray\"}, {\"x\": -0.07288050651550293, \"y\": 0.050087735056877136, \"context\": \"7 in the morning and at 6 i hit the **gym** and my make up still looks hot! will buy\", \"tokens\": \"7 in the morning and at 6 i hit the gym and my make up still looks hot ! will buy\", \"word\": \"gym\", \"stars\": \"5 stars\", \"brand\": \"Urban Decay\", \"name\": \"All Nighter Long-Lasting Makeup Setting Spray\", \"type\": \"Setting Spray\"}]}}, {\"mode\": \"vega-lite\"});\n",
              "</script>"
            ],
            "text/plain": [
              "alt.Chart(...)"
            ]
          },
          "metadata": {},
          "execution_count": 45
        }
      ]
    },
    {
      "cell_type": "code",
      "source": [
        "# List of keywords that you want to compare\n",
        "keywords = ['smooth', 'sharp', 'clean']\n",
        "\n",
        "# How to color the points in the plot. The other option is \"period\" for time period\n",
        "color_by = 'word'\n",
        "\n",
        "# Get all word positions\n",
        "word_positions = get_word_positions(keywords)\n",
        "\n",
        "# Get all contexts around the words\n",
        "keyword_contexts = []\n",
        "keyword_contexts_tokens = []\n",
        "words = []\n",
        "\n",
        "for position in word_positions:\n",
        "  words.append(word_lookup[all_word_ids[position]])\n",
        "  keyword_contexts.append(get_context_clean(position))\n",
        "  keyword_contexts_tokens.append(get_context(position))\n",
        "\n",
        "# Reduce word vectors with PCA\n",
        "pca = PCA(n_components=2)\n",
        "pca.fit(all_word_vectors[word_positions,:].T)\n",
        "\n",
        "# Make a DataFrame with PCA results\n",
        "df_to_plot = pd.DataFrame({\"x\": pca.components_[0,:], \n",
        "                           \"y\": pca.components_[1,:],\n",
        "                           \"context\": keyword_contexts, \n",
        "                           \"tokens\": keyword_contexts_tokens, \n",
        "                           \"word\": words})\n",
        "# Match original text and metadata\n",
        "df_to_plot[['stars', 'brand', 'name', 'type']] = df_to_plot.apply(find_original_review, axis='columns', result_type='expand')\n",
        "\n",
        "# Rename columns so that the context shows up as the \"title\" in the tooltip (bigger and bolded)\n",
        "# df = df.rename(columns={'brand': 'brand', 'name': 'title'})\n",
        "\n",
        "# Make the plot\n",
        "alt.Chart(df_to_plot, title=f\"Word Similarity: {', '.join(keywords).title()}\").mark_circle(size=200).encode(\n",
        "    alt.X('x',\n",
        "        scale=alt.Scale(zero=False)\n",
        "    ), y=\"y\",\n",
        "    color= color_by,\n",
        "    # href=\"link\",\n",
        "    tooltip=['word', 'context', 'type', 'brand', 'name', 'stars']\n",
        "    ).interactive().properties(\n",
        "    width=500,\n",
        "    height=500\n",
        ")"
      ],
      "metadata": {
        "colab": {
          "base_uri": "https://localhost:8080/",
          "height": 585
        },
        "id": "Ng56lUBpdV70",
        "outputId": "db0e5f1a-543b-478d-d9d8-293328d49d8d"
      },
      "execution_count": null,
      "outputs": [
        {
          "output_type": "execute_result",
          "data": {
            "text/html": [
              "\n",
              "<div id=\"altair-viz-6f66e10f362d48d593bb2fe171b386e3\"></div>\n",
              "<script type=\"text/javascript\">\n",
              "  var VEGA_DEBUG = (typeof VEGA_DEBUG == \"undefined\") ? {} : VEGA_DEBUG;\n",
              "  (function(spec, embedOpt){\n",
              "    let outputDiv = document.currentScript.previousElementSibling;\n",
              "    if (outputDiv.id !== \"altair-viz-6f66e10f362d48d593bb2fe171b386e3\") {\n",
              "      outputDiv = document.getElementById(\"altair-viz-6f66e10f362d48d593bb2fe171b386e3\");\n",
              "    }\n",
              "    const paths = {\n",
              "      \"vega\": \"https://cdn.jsdelivr.net/npm//vega@5?noext\",\n",
              "      \"vega-lib\": \"https://cdn.jsdelivr.net/npm//vega-lib?noext\",\n",
              "      \"vega-lite\": \"https://cdn.jsdelivr.net/npm//vega-lite@4.17.0?noext\",\n",
              "      \"vega-embed\": \"https://cdn.jsdelivr.net/npm//vega-embed@6?noext\",\n",
              "    };\n",
              "\n",
              "    function maybeLoadScript(lib, version) {\n",
              "      var key = `${lib.replace(\"-\", \"\")}_version`;\n",
              "      return (VEGA_DEBUG[key] == version) ?\n",
              "        Promise.resolve(paths[lib]) :\n",
              "        new Promise(function(resolve, reject) {\n",
              "          var s = document.createElement('script');\n",
              "          document.getElementsByTagName(\"head\")[0].appendChild(s);\n",
              "          s.async = true;\n",
              "          s.onload = () => {\n",
              "            VEGA_DEBUG[key] = version;\n",
              "            return resolve(paths[lib]);\n",
              "          };\n",
              "          s.onerror = () => reject(`Error loading script: ${paths[lib]}`);\n",
              "          s.src = paths[lib];\n",
              "        });\n",
              "    }\n",
              "\n",
              "    function showError(err) {\n",
              "      outputDiv.innerHTML = `<div class=\"error\" style=\"color:red;\">${err}</div>`;\n",
              "      throw err;\n",
              "    }\n",
              "\n",
              "    function displayChart(vegaEmbed) {\n",
              "      vegaEmbed(outputDiv, spec, embedOpt)\n",
              "        .catch(err => showError(`Javascript Error: ${err.message}<br>This usually means there's a typo in your chart specification. See the javascript console for the full traceback.`));\n",
              "    }\n",
              "\n",
              "    if(typeof define === \"function\" && define.amd) {\n",
              "      requirejs.config({paths});\n",
              "      require([\"vega-embed\"], displayChart, err => showError(`Error loading script: ${err.message}`));\n",
              "    } else {\n",
              "      maybeLoadScript(\"vega\", \"5\")\n",
              "        .then(() => maybeLoadScript(\"vega-lite\", \"4.17.0\"))\n",
              "        .then(() => maybeLoadScript(\"vega-embed\", \"6\"))\n",
              "        .catch(showError)\n",
              "        .then(() => displayChart(vegaEmbed));\n",
              "    }\n",
              "  })({\"config\": {\"view\": {\"continuousWidth\": 400, \"continuousHeight\": 300}}, \"data\": {\"name\": \"data-cb0e0779a3cc3fc8e186c6e19050e352\"}, \"mark\": {\"type\": \"circle\", \"size\": 200}, \"encoding\": {\"color\": {\"field\": \"word\", \"type\": \"nominal\"}, \"tooltip\": [{\"field\": \"word\", \"type\": \"nominal\"}, {\"field\": \"context\", \"type\": \"nominal\"}, {\"field\": \"type\", \"type\": \"nominal\"}, {\"field\": \"brand\", \"type\": \"nominal\"}, {\"field\": \"name\", \"type\": \"nominal\"}, {\"field\": \"stars\", \"type\": \"nominal\"}], \"x\": {\"field\": \"x\", \"scale\": {\"zero\": false}, \"type\": \"quantitative\"}, \"y\": {\"field\": \"y\", \"type\": \"quantitative\"}}, \"height\": 500, \"selection\": {\"selector004\": {\"type\": \"interval\", \"bind\": \"scales\", \"encodings\": [\"x\", \"y\"]}}, \"title\": \"Word Similarity: Smooth, Sharp, Clean\", \"width\": 500, \"$schema\": \"https://vega.github.io/schema/vega-lite/v4.17.0.json\", \"datasets\": {\"data-cb0e0779a3cc3fc8e186c6e19050e352\": [{\"x\": -0.04576671123504639, \"y\": -0.09570995718240738, \"context\": \"line and on my cheeks if you have time to **clean** these throughout the day then this is a great mascara\", \"tokens\": \"line and on my cheeks if you have time to clean these throughout the day then this is a great mascara\", \"word\": \"clean\", \"stars\": \"5 stars\", \"brand\": \"Too Faced\", \"name\": \"Better Than Sex Mascara\", \"type\": \"Mascara\"}, {\"x\": -0.04325072839856148, \"y\": -0.1003652885556221, \"context\": \"read more very clumpy, i had to **clean** off the brush before every use which is a huge\", \"tokens\": \"read more very cl ##ump ##y , i had to clean off the brush before every use which is a huge\", \"word\": \"clean\", \"stars\": \"2 stars\", \"brand\": \"Too Faced\", \"name\": \"Better Than Sex Mascara\", \"type\": \"Mascara\"}, {\"x\": -0.04936209321022034, \"y\": 0.03568436950445175, \"context\": \"clump or flake, and the application was **smooth**, and totally buildable, i. e.\", \"tokens\": \"cl ##ump or fl ##ake , and the application was smooth , and totally build ##able , i . e .\", \"word\": \"smooth\", \"stars\": \"5 stars\", \"brand\": \"Too Faced\", \"name\": \"Better Than Sex Mascara\", \"type\": \"Mascara\"}, {\"x\": -0.04419983550906181, \"y\": -0.10412976890802383, \"context\": \", i tend to have to go back in to **clean** up once it dries down because it goes everywhere\", \"tokens\": \", i tend to have to go back in to clean up once it dr ##ies down because it goes everywhere\", \"word\": \"clean\", \"stars\": \"3 stars\", \"brand\": \"Too Faced\", \"name\": \"Better Than Sex Mascara\", \"type\": \"Mascara\"}, {\"x\": -0.0475085973739624, \"y\": -0.07543595880270004, \"context\": \", mascara and lip gloss regime. i applied to **clean** lashes without curling, 1-2 coats at most\", \"tokens\": \", mascara and lip gloss regime . i applied to clean lashes without curling , 1 - 2 coats at most\", \"word\": \"clean\", \"stars\": \"5 stars\", \"brand\": \"Too Faced\", \"name\": \"Better Than Sex Mascara\", \"type\": \"Mascara\"}, {\"x\": -0.04997800290584564, \"y\": 0.013408897444605827, \"context\": \"they could make though, i wish it went on **smoother** when i put it on: 1 but over\", \"tokens\": \"they could make though , i wish it went on smooth ##er when i put it on : 1 but over\", \"word\": \"smooth\", \"stars\": \"3 stars\", \"brand\": \"Too Faced\", \"name\": \"Better Than Sex Mascara\", \"type\": \"Mascara\"}, {\"x\": -0.04365484043955803, \"y\": -0.10344625264406204, \"context\": \"is that its quite wet so i often have to **clean** up the mascara that ends on up on lid:\", \"tokens\": \"is that its quite wet so i often have to clean up the mascara that ends on up on lid :\", \"word\": \"clean\", \"stars\": \"5 stars\", \"brand\": \"Too Faced\", \"name\": \"Better Than Sex Mascara\", \"type\": \"Mascara\"}, {\"x\": -0.04425567761063576, \"y\": -0.08434935659170151, \"context\": \"black mascara everywhere. after this happens, you can **clean** the wand and applicator off but once you\", \"tokens\": \"black mascara everywhere . after this happens , you can clean the wand and app ##lica ##tor off but once you\", \"word\": \"clean\", \"stars\": \"1 star\", \"brand\": \"Too Faced\", \"name\": \"Better Than Sex Mascara\", \"type\": \"Mascara\"}, {\"x\": -0.0456995889544487, \"y\": -0.0865677148103714, \"context\": \"and tube design is odd. i continually have to **clean** the brush because the edges of the hourglass shape\", \"tokens\": \"and tube design is odd . i continually have to clean the brush because the edges of the hour ##glass shape\", \"word\": \"clean\", \"stars\": \"3 stars\", \"brand\": \"Too Faced\", \"name\": \"Better Than Sex Mascara\", \"type\": \"Mascara\"}, {\"x\": -0.04624072089791298, \"y\": -0.05615298077464104, \"context\": \"don 't want to buy one use an a **clean** toothbrush for brushing out your lashes it works wonders\", \"tokens\": \"don ' t want to buy one use an a clean tooth ##brush for brushing out your lashes it works wonders\", \"word\": \"clean\", \"stars\": \"4 stars\", \"brand\": \"Too Faced\", \"name\": \"Better Than Sex Mascara\", \"type\": \"Mascara\"}, {\"x\": -0.052409492433071136, \"y\": 0.011356720700860023, \"context\": \"movies. overall it took more effort to get a **smooth** look but i would say it was worth it.\", \"tokens\": \"movies . overall it took more effort to get a smooth look but i would say it was worth it .\", \"word\": \"smooth\", \"stars\": \"4 stars\", \"brand\": \"Too Faced\", \"name\": \"Better Than Sex Waterproof Mascara\", \"type\": \"Mascara\"}, {\"x\": -0.043074000626802444, \"y\": -0.10967165231704712, \"context\": \"start drying ( a bit ) i had to constantly **clean** the smudging around my eyes! it did\", \"tokens\": \"start drying ( a bit ) i had to constantly clean the sm ##ud ##ging around my eyes ! it did\", \"word\": \"clean\", \"stars\": \"1 star\", \"brand\": \"Too Faced\", \"name\": \"Better Than Sex Waterproof Mascara\", \"type\": \"Mascara\"}, {\"x\": -0.04463622719049454, \"y\": -0.09679688513278961, \"context\": \"and i 'm going to have to try and **clean** it before i can even use it again. it\", \"tokens\": \"and i ' m going to have to try and clean it before i can even use it again . it\", \"word\": \"clean\", \"stars\": \"2 stars\", \"brand\": \"Too Faced\", \"name\": \"Better Than Sex Waterproof Mascara\", \"type\": \"Mascara\"}, {\"x\": -0.04677712917327881, \"y\": -0.048112884163856506, \"context\": \"s on my eye lashes, so i need to **smooth** it out. i hate it but it gives fantastic\", \"tokens\": \"##s on my eye lashes , so i need to smooth it out . i hate it but it gives fantastic\", \"word\": \"smooth\", \"stars\": null, \"brand\": null, \"name\": null, \"type\": null}, {\"x\": -0.04820692911744118, \"y\": 0.0263710655272007, \"context\": \"t understand the negative reviews. the formula goes on **smooth**, i don 't get clumpy lashes\", \"tokens\": \"t understand the negative reviews . the formula goes on smooth , i don ' t get cl ##ump ##y lashes\", \"word\": \"smooth\", \"stars\": \"5 stars\", \"brand\": \"Too Faced\", \"name\": \"Better Than Sex Waterproof Mascara\", \"type\": \"Mascara\"}, {\"x\": -0.051837291568517685, \"y\": 0.02188660390675068, \"context\": \"! this is what i wanted and got; beautifully **smooth** and lengthened lashes, long lasting and looked natural\", \"tokens\": \"! this is what i wanted and got ; beautifully smooth and length ##ened lashes , long lasting and looked natural\", \"word\": \"smooth\", \"stars\": \"5 stars\", \"brand\": \"Too Faced\", \"name\": \"Better Than Sex Mascara\", \"type\": \"Mascara\"}, {\"x\": -0.05070583149790764, \"y\": -0.0005665781209245324, \"context\": \"product to come out and it does not go on **smooth**. this mascara works wonder on my eyelashes, but\", \"tokens\": \"product to come out and it does not go on smooth . this mascara works wonder on my eyelashes , but\", \"word\": \"smooth\", \"stars\": \"2 stars\", \"brand\": \"Too Faced\", \"name\": \"Better Than Sex Mascara\", \"type\": \"Mascara\"}, {\"x\": -0.045464884489774704, \"y\": -0.09210042655467987, \"context\": \"it on my bottom lashes. it was hard to **clean** it on my face. don 't waste your\", \"tokens\": \"it on my bottom lashes . it was hard to clean it on my face . don ' t waste your\", \"word\": \"clean\", \"stars\": \"1 star\", \"brand\": \"Too Faced\", \"name\": \"Better Than Sex Waterproof Mascara\", \"type\": \"Mascara\"}, {\"x\": -0.04214904457330704, \"y\": -0.10720659047365189, \"context\": \"have to pay a little attention when i apply and **clean** up with a q-tip after. at the\", \"tokens\": \"have to pay a little attention when i apply and clean up with a q - tip after . at the\", \"word\": \"clean\", \"stars\": \"5 stars\", \"brand\": \"Too Faced\", \"name\": \"Better Than Sex Waterproof Mascara\", \"type\": \"Mascara\"}, {\"x\": -0.04577070474624634, \"y\": -0.03353435546159744, \"context\": \". sometimes it needs a couple of applications to really **smooth** out the clumps if you get a few\", \"tokens\": \". sometimes it needs a couple of applications to really smooth out the cl ##ump ##s if you get a few\", \"word\": \"smooth\", \"stars\": \"5 stars\", \"brand\": \"Too Faced\", \"name\": \"Better Than Sex Waterproof Mascara\", \"type\": \"Mascara\"}, {\"x\": -0.04849465563893318, \"y\": -0.07747398316860199, \"context\": \"mascara application so no complaints there. i apply to **clean**, dry lashes. it does take a minute to\", \"tokens\": \"mascara application so no complaints there . i apply to clean , dry lashes . it does take a minute to\", \"word\": \"clean\", \"stars\": \"4 stars\", \"brand\": \"Too Faced\", \"name\": \"Better Than Sex Waterproof Mascara\", \"type\": \"Mascara\"}, {\"x\": -0.05004908889532089, \"y\": -0.04783034697175026, \"context\": \"it look clumpy i had to take a **clean** regular wand brush to apply it.. 5 stars\", \"tokens\": \"it look cl ##ump ##y i had to take a clean regular wand brush to apply it . . 5 stars\", \"word\": \"clean\", \"stars\": \"2 stars\", \"brand\": \"Too Faced\", \"name\": \"Better Than Sex Waterproof Mascara\", \"type\": \"Mascara\"}, {\"x\": -0.047371067106723785, \"y\": -0.061915792524814606, \"context\": \"the brush before applying it. i also have a **clean** mascara wand that i will use to separate my lashes\", \"tokens\": \"the brush before applying it . i also have a clean mascara wand that i will use to separate my lashes\", \"word\": \"clean\", \"stars\": \"4 stars\", \"brand\": \"Too Faced\", \"name\": \"Better Than Sex Waterproof Mascara\", \"type\": \"Mascara\"}, {\"x\": -0.04436228424310684, \"y\": -0.06788073480129242, \"context\": \"i use the better than sex waterproof mascara on **clean** lashes.. and to my dismay and glo\", \"tokens\": \"i use the better than sex water ##proof mascara on clean lashes . . and to my dismay and g ##lo\", \"word\": \"clean\", \"stars\": \"1 star\", \"brand\": \"Too Faced\", \"name\": \"Better Than Sex Waterproof Mascara\", \"type\": \"Mascara\"}, {\"x\": -0.04523796960711479, \"y\": -0.06256810575723648, \"context\": \". i took a makeup wipe and wiped the brush **clean** and then put it back in the tube and it\", \"tokens\": \". i took a makeup wipe and wiped the brush clean and then put it back in the tube and it\", \"word\": \"clean\", \"stars\": \"1 star\", \"brand\": \"Too Faced\", \"name\": \"Better Than Sex Waterproof Mascara\", \"type\": \"Mascara\"}, {\"x\": -0.04301546886563301, \"y\": -0.10393945127725601, \"context\": \"forever to dry and you will have a lot of **clean** up to do no matter what. the breaking point\", \"tokens\": \"forever to dry and you will have a lot of clean up to do no matter what . the breaking point\", \"word\": \"clean\", \"stars\": \"2 stars\", \"brand\": \"Too Faced\", \"name\": \"Better Than Sex Waterproof Mascara\", \"type\": \"Mascara\"}, {\"x\": -0.039958734065294266, \"y\": -0.11511131376028061, \"context\": \"a few more black specs under my eyes to **clean** up. my only positive for this mascara is that\", \"tokens\": \"a few more black spec ##s under my eyes to clean up . my only positive for this mascara is that\", \"word\": \"clean\", \"stars\": \"2 stars\", \"brand\": \"Too Faced\", \"name\": \"Better Than Sex Waterproof Mascara\", \"type\": \"Mascara\"}, {\"x\": -0.05087704584002495, \"y\": 0.00842184480279684, \"context\": \"warm it up in my hands before applying for even **smoother** application. i get compliments every time i\", \"tokens\": \"warm it up in my hands before applying for even smooth ##er application . i get compliment ##s every time i\", \"word\": \"smooth\", \"stars\": \"5 stars\", \"brand\": \"Too Faced\", \"name\": \"Better Than Sex Waterproof Mascara\", \"type\": \"Mascara\"}, {\"x\": -0.04430787265300751, \"y\": -0.09957526624202728, \"context\": \"clumpy take extra long to separate lashes and **clean** everything up. honestly will never ever buy again.\", \"tokens\": \"cl ##ump ##y take extra long to separate lashes and clean everything up . honestly will never ever buy again .\", \"word\": \"clean\", \"stars\": \"1 star\", \"brand\": \"Too Faced\", \"name\": \"Better Than Sex Waterproof Mascara\", \"type\": \"Mascara\"}, {\"x\": -0.039020415395498276, \"y\": -0.10420501977205276, \"context\": \"wouldn 't remove it, even foaming facial **cleanser** wouldn 't fully remove it. i had\", \"tokens\": \"wouldn ' t remove it , even foam ##ing facial clean ##ser wouldn ' t fully remove it . i had\", \"word\": \"clean\", \"stars\": \"1 star\", \"brand\": \"Too Faced\", \"name\": \"Better Than Sex Waterproof Mascara\", \"type\": \"Mascara\"}, {\"x\": -0.03924534469842911, \"y\": -0.1053055077791214, \"context\": \"remove it. i had to use hot water, **cleanser**, and a harsh washcloth to finally get\", \"tokens\": \"remove it . i had to use hot water , clean ##ser , and a harsh wash ##cloth to finally get\", \"word\": \"clean\", \"stars\": \"1 star\", \"brand\": \"Too Faced\", \"name\": \"Better Than Sex Waterproof Mascara\", \"type\": \"Mascara\"}, {\"x\": -0.048847634345293045, \"y\": -0.056346382945775986, \"context\": \"umping which can really just be fixed with a **clean** mascara brush and slight smudging which was manage\", \"tokens\": \"##ump ##ing which can really just be fixed with a clean mascara brush and slight sm ##ud ##ging which was manage\", \"word\": \"clean\", \"stars\": \"5 stars\", \"brand\": \"Too Faced\", \"name\": \"Better Than Sex Mascara\", \"type\": \"Mascara\"}, {\"x\": -0.04858844727277756, \"y\": -0.056555911898612976, \"context\": \"mostly without any clumps ( i used a **clean** mascara wand to brush out some of the thicker parts\", \"tokens\": \"mostly without any cl ##ump ##s ( i used a clean mascara wand to brush out some of the thicker parts\", \"word\": \"clean\", \"stars\": \"3 stars\", \"brand\": \"Too Faced\", \"name\": \"Better Than Sex Waterproof Mascara\", \"type\": \"Mascara\"}, {\"x\": -0.05015101283788681, \"y\": 0.019064022228121758, \"context\": \"isn 't for you. this mascara will give **smooth** thin coat that will result in the most natural looking\", \"tokens\": \"isn ' t for you . this mascara will give smooth thin coat that will result in the most natural looking\", \"word\": \"smooth\", \"stars\": \"5 stars\", \"brand\": \"Urban Decay\", \"name\": \"Cannonball Ultra Waterproof Mascara\", \"type\": \"Mascara\"}, {\"x\": -0.04373732581734657, \"y\": -0.0923929437994957, \"context\": \"pull it off or if you use a typical face **cleanser**, which is exactly what i wanted. i\", \"tokens\": \"pull it off or if you use a typical face clean ##ser , which is exactly what i wanted . i\", \"word\": \"clean\", \"stars\": \"5 stars\", \"brand\": \"Urban Decay\", \"name\": \"Cannonball Ultra Waterproof Mascara\", \"type\": \"Mascara\"}, {\"x\": -0.03933938592672348, \"y\": -0.10649529099464417, \"context\": \"and was sent home with this and the meltdown **cleanser**. wow wow wow!!! this stuff\", \"tokens\": \"and was sent home with this and the melt ##down clean ##ser . wow wow wow ! ! ! this stuff\", \"word\": \"clean\", \"stars\": \"5 stars\", \"brand\": \"Urban Decay\", \"name\": \"Cannonball Ultra Waterproof Mascara\", \"type\": \"Mascara\"}, {\"x\": -0.03949751704931259, \"y\": -0.10839755833148956, \"context\": \"and it came off with my usual dual-phase **cleanser**. you do have to build a few coats\", \"tokens\": \"and it came off with my usual dual - phase clean ##ser . you do have to build a few coats\", \"word\": \"clean\", \"stars\": \"5 stars\", \"brand\": \"Urban Decay\", \"name\": \"Cannonball Ultra Waterproof Mascara\", \"type\": \"Mascara\"}, {\"x\": -0.0405094139277935, \"y\": -0.10639699548482895, \"context\": \"it's easy enough to remove with an oil **cleanser**. love it! \\u2026 read more this is\", \"tokens\": \"it ' s easy enough to remove with an oil clean ##ser . love it ! \\u2026 read more this is\", \"word\": \"clean\", \"stars\": \"4 stars\", \"brand\": \"Too Faced\", \"name\": \"Better Than Sex Waterproof Mascara\", \"type\": \"Mascara\"}, {\"x\": -0.04160002991557121, \"y\": -0.10179819911718369, \"context\": \"while your scrubbing it off with a normal facial **cleanser**. take it from me... my\", \"tokens\": \"while your scrub ##bing it off with a normal facial clean ##ser . take it from me . . . my\", \"word\": \"clean\", \"stars\": \"5 stars\", \"brand\": \"Urban Decay\", \"name\": \"Cannonball Ultra Waterproof Mascara\", \"type\": \"Mascara\"}, {\"x\": -0.05093970522284508, \"y\": -0.03870953246951103, \"context\": \"works well with a light touch and only with very **clean** totally dry separated lashes or they will stick together.\", \"tokens\": \"works well with a light touch and only with very clean totally dry separated lashes or they will stick together .\", \"word\": \"clean\", \"stars\": \"3 stars\", \"brand\": \"Urban Decay\", \"name\": \"Cannonball Ultra Waterproof Mascara\", \"type\": \"Mascara\"}, {\"x\": -0.04464693367481232, \"y\": -0.09486507624387741, \"context\": \"what i love about it. usually, i oil **cleanse** and so i don 't have much of\", \"tokens\": \"what i love about it . usually , i oil clean ##se and so i don ' t have much of\", \"word\": \"clean\", \"stars\": \"5 stars\", \"brand\": \"Too Faced\", \"name\": \"Better Than Sex Mascara\", \"type\": \"Mascara\"}, {\"x\": -0.05243740603327751, \"y\": 0.02242375910282135, \"context\": \"any other mascara! great mascara went on nice and **smooth**, defined, and darkened but added no volume and\", \"tokens\": \"any other mascara ! great mascara went on nice and smooth , defined , and darkened but added no volume and\", \"word\": \"smooth\", \"stars\": \"4 stars\", \"brand\": \"Urban Decay\", \"name\": \"Cannonball Ultra Waterproof Mascara\", \"type\": \"Mascara\"}, {\"x\": -0.0402347594499588, \"y\": -0.10560854524374008, \"context\": \"'s also fairly easy to remove with an oil **cleanser**. my only regret is that most sephora\", \"tokens\": \"' s also fairly easy to remove with an oil clean ##ser . my only regret is that most sep ##hora\", \"word\": \"clean\", \"stars\": \"5 stars\", \"brand\": \"Urban Decay\", \"name\": \"Cannonball Ultra Waterproof Mascara\", \"type\": \"Mascara\"}, {\"x\": -0.04267960041761398, \"y\": -0.09134480357170105, \"context\": \"that are complaining about it being clumpy-**clean** your brush off! and for people that have fl\", \"tokens\": \"that are complaining about it being cl ##ump ##y - clean your brush off ! and for people that have fl\", \"word\": \"clean\", \"stars\": \"5 stars\", \"brand\": \"Urban Decay\", \"name\": \"Cannonball Ultra Waterproof Mascara\", \"type\": \"Mascara\"}, {\"x\": -0.04847908020019531, \"y\": -0.050903644412755966, \"context\": \"eye makeup remover... it comes off **clean**. this was definitely a splurge purchase for\", \"tokens\": \"eye makeup remove ##r . . . it comes off clean . this was definitely a sp ##lu ##rge purchase for\", \"word\": \"clean\", \"stars\": \"3 stars\", \"brand\": \"Dior\", \"name\": \"Diorshow Waterproof Mascara\", \"type\": \"Mascara\"}, {\"x\": -0.0526268295943737, \"y\": 0.015573405660688877, \"context\": \"well worth the price. no clumping, **smooth** application and it wont smudge. a lot\", \"tokens\": \"well worth the price . no cl ##ump ##ing , smooth application and it won ##t sm ##udge . a lot\", \"word\": \"smooth\", \"stars\": \"4 stars\", \"brand\": \"Dior\", \"name\": \"Diorshow Waterproof Mascara\", \"type\": \"Mascara\"}, {\"x\": -0.05214919522404671, \"y\": 0.016278959810733795, \"context\": \"into tarantula legs. just a nice, **smooth** layer of jet black volumizing my skinny asian\", \"tokens\": \"into tara ##nt ##ula legs . just a nice , smooth layer of jet black vol ##umi ##zing my skinny asian\", \"word\": \"smooth\", \"stars\": \"3 stars\", \"brand\": \"Dior\", \"name\": \"Diorshow Waterproof Mascara\", \"type\": \"Mascara\"}, {\"x\": -0.04940846562385559, \"y\": 0.009362060576677322, \"context\": \"time once applied, doesn 't smear or **smooth**, and it doesn 't run when i cry\", \"tokens\": \"time once applied , doesn ' t sm ##ear or smooth , and it doesn ' t run when i cry\", \"word\": \"smooth\", \"stars\": \"5 stars\", \"brand\": \"Too Faced\", \"name\": \"Better Than Sex Mascara\", \"type\": \"Mascara\"}, {\"x\": -0.04531526193022728, \"y\": -0.08166259527206421, \"context\": \"! wears well & washes off with my gentle **cleanser** choice ( philosophy purity ). smuges just\", \"tokens\": \"! wears well & wash ##es off with my gentle clean ##ser choice ( philosophy purity ) . smug ##es just\", \"word\": \"clean\", \"stars\": \"5 stars\", \"brand\": \"Dior\", \"name\": \"Diorshow Waterproof Mascara\", \"type\": \"Mascara\"}, {\"x\": -0.05256389081478119, \"y\": 0.017451444640755653, \"context\": \"even with minutes in between ) and still has a **smooth** application. i haven 't had a single issue\", \"tokens\": \"even with minutes in between ) and still has a smooth application . i haven ' t had a single issue\", \"word\": \"smooth\", \"stars\": \"5 stars\", \"brand\": \"Too Faced\", \"name\": \"Better Than Sex Waterproof Mascara\", \"type\": \"Mascara\"}, {\"x\": -0.04196091741323471, \"y\": -0.10857097059488297, \"context\": \"i had to have q-tips with me to **clean** up the mess. i used the waterproof formula\", \"tokens\": \"i had to have q - tips with me to clean up the mess . i used the water ##proof formula\", \"word\": \"clean\", \"stars\": \"3 stars\", \"brand\": \"Dior\", \"name\": \"Diorshow Waterproof Mascara\", \"type\": \"Mascara\"}, {\"x\": -0.0412396676838398, \"y\": -0.11361049115657806, \"context\": \"adding my original ( depleted tube ) on afterwards to **clean** it up. the sleek brush from my original mascara\", \"tokens\": \"adding my original ( depleted tube ) on afterwards to clean it up . the sleek brush from my original mascara\", \"word\": \"clean\", \"stars\": \"3 stars\", \"brand\": \"Dior\", \"name\": \"Diorshow Waterproof Mascara\", \"type\": \"Mascara\"}, {\"x\": -0.04629470035433769, \"y\": -0.048400379717350006, \"context\": \"upper lashes, but it comes out of the bottle **clean**, and product distribution and application are very nice.\", \"tokens\": \"upper lashes , but it comes out of the bottle clean , and product distribution and application are very nice .\", \"word\": \"clean\", \"stars\": \"5 stars\", \"brand\": \"Dior\", \"name\": \"Diorshow Waterproof Mascara\", \"type\": \"Mascara\"}, {\"x\": -0.05031473934650421, \"y\": 0.022823641076683998, \"context\": \"dior show mascara. the waterproof goes on **smooth** not clumpy at all and makes my lashes\", \"tokens\": \"di ##or show mascara . the water ##proof goes on smooth not cl ##ump ##y at all and makes my lashes\", \"word\": \"smooth\", \"stars\": \"5 stars\", \"brand\": \"Too Faced\", \"name\": \"Better Than Sex Mascara\", \"type\": \"Mascara\"}, {\"x\": -0.04280651733279228, \"y\": -0.09643322974443436, \"context\": \"umps and easy to remove with my regular facial **cleanser**. if i had to only buy one mascara\", \"tokens\": \"##ump ##s and easy to remove with my regular facial clean ##ser . if i had to only buy one mascara\", \"word\": \"clean\", \"stars\": \"5 stars\", \"brand\": \"Dior\", \"name\": \"Diorshow Waterproof Mascara\", \"type\": \"Mascara\"}, {\"x\": -0.051526229828596115, \"y\": -0.036277007311582565, \"context\": \"layers of application, i ended up with a very **clean** lash look. for the price, i wanted more\", \"tokens\": \"layers of application , i ended up with a very clean lash look . for the price , i wanted more\", \"word\": \"clean\", \"stars\": \"3 stars\", \"brand\": \"Dior\", \"name\": \"Diorshow Waterproof Mascara\", \"type\": \"Mascara\"}, {\"x\": -0.04413739964365959, \"y\": -0.08791665732860565, \"context\": \"proof. make sure that you have a good eye **cleanser**. the original diorshow mascara is awesome\", \"tokens\": \"##proof . make sure that you have a good eye clean ##ser . the original di ##ors ##how mascara is awesome\", \"word\": \"clean\", \"stars\": \"5 stars\", \"brand\": \"Dior\", \"name\": \"Diorshow Waterproof Mascara\", \"type\": \"Mascara\"}, {\"x\": -0.04269598051905632, \"y\": -0.09622840583324432, \"context\": \"curler. i can remove the mascara with the **cleanser** sold on sephora or jojoba oil\", \"tokens\": \"curl ##er . i can remove the mascara with the clean ##ser sold on sep ##hora or jo ##jo ##ba oil\", \"word\": \"clean\", \"stars\": \"5 stars\", \"brand\": \"Dior\", \"name\": \"Diorshow Waterproof Mascara\", \"type\": \"Mascara\"}, {\"x\": -0.04434208944439888, \"y\": 0.045033298432826996, \"context\": \"lacome, chanel, etc ). looks **sharp**, natural ( yet black ), and holds a\", \"tokens\": \"lac ##ome , chan ##el , etc ) . looks sharp , natural ( yet black ) , and holds a\", \"word\": \"sharp\", \"stars\": \"5 stars\", \"brand\": \"Dior\", \"name\": \"Diorshow Waterproof Mascara\", \"type\": \"Mascara\"}, {\"x\": -0.04348290339112282, \"y\": -0.09749695658683777, \"context\": \"not really making this budge i used a cream based **cleanser** and was able to remove it fully after a\", \"tokens\": \"not really making this budge i used a cream based clean ##ser and was able to remove it fully after a\", \"word\": \"clean\", \"stars\": \"4 stars\", \"brand\": \"Tom Ford\", \"name\": \"Emotionproof Mascara\", \"type\": \"Mascara\"}, {\"x\": -0.047805484384298325, \"y\": -0.06327691674232483, \"context\": \"on the lashes it \\u2019 s best to wipe them **clean** and apply the mascara after! \\u2026 read more i\", \"tokens\": \"on the lashes it \\u2019 s best to wipe them clean and apply the mascara after ! \\u2026 read more i\", \"word\": \"clean\", \"stars\": \"5 stars\", \"brand\": \"Urban Decay\", \"name\": \"Cannonball Ultra Waterproof Mascara\", \"type\": \"Mascara\"}, {\"x\": -0.04280593991279602, \"y\": -0.09830734133720398, \"context\": \", it washes off quite easily with the appropriate **cleanser** ( i use a **cleansing** balm )-\", \"tokens\": \", it wash ##es off quite easily with the appropriate clean ##ser ( i use a cleansing bal ##m ) -\", \"word\": \"clean\", \"stars\": \"5 stars\", \"brand\": \"Tom Ford\", \"name\": \"Emotionproof Mascara\", \"type\": \"Mascara\"}, {\"x\": -0.04293181747198105, \"y\": 0.04770767688751221, \"context\": \"naturally so the inner corner lashes started to almost feel **sharp** and pointy, but this mascara really does last\", \"tokens\": \"naturally so the inner corner lashes started to almost feel sharp and point ##y , but this mascara really does last\", \"word\": \"sharp\", \"stars\": \"4 stars\", \"brand\": \"Tom Ford\", \"name\": \"Emotionproof Mascara\", \"type\": \"Mascara\"}, {\"x\": -0.05211969092488289, \"y\": 0.007743911352008581, \"context\": \"a little wiping of the brush it will go on **smooth**. i will use this mascara again, i just\", \"tokens\": \"a little wiping of the brush it will go on smooth . i will use this mascara again , i just\", \"word\": \"smooth\", \"stars\": \"4 stars\", \"brand\": \"Tom Ford\", \"name\": \"Emotionproof Mascara\", \"type\": \"Mascara\"}, {\"x\": -0.044552069157361984, \"y\": 0.0495586097240448, \"context\": \"the liner. the felt tip doesn \\u2019 t stay **sharp** and begins to fray, making it hard to create\", \"tokens\": \"the liner . the felt tip doesn \\u2019 t stay sharp and begins to fray , making it hard to create\", \"word\": \"sharp\", \"stars\": \"2 stars\", \"brand\": \"FENTY BEAUTY BY RIHANNA\", \"name\": \"Flyliner Longwear Liquid Eyeliner\", \"type\": \"Liquid Eyeliner\"}, {\"x\": -0.0510677732527256, \"y\": 0.03237270936369896, \"context\": \"begins to fray, making it hard to create a **smooth** thin line and it starts to have trouble being saturated\", \"tokens\": \"begins to fray , making it hard to create a smooth thin line and it starts to have trouble being saturated\", \"word\": \"smooth\", \"stars\": \"2 stars\", \"brand\": \"FENTY BEAUTY BY RIHANNA\", \"name\": \"Flyliner Longwear Liquid Eyeliner\", \"type\": \"Liquid Eyeliner\"}, {\"x\": -0.045143406838178635, \"y\": -0.09365146607160568, \"context\": \"mr to do, if i do it again or **clean** the sides, there's no way it '\", \"tokens\": \"mr to do , if i do it again or clean the sides , there ' s no way it '\", \"word\": \"clean\", \"stars\": \"4 stars\", \"brand\": \"FENTY BEAUTY BY RIHANNA\", \"name\": \"Flyliner Longwear Liquid Eyeliner\", \"type\": \"Liquid Eyeliner\"}, {\"x\": -0.03618655726313591, \"y\": 0.016082292422652245, \"context\": \"ty never disappoints just buy a **sharpie** and save your money the formula of the liner\", \"tokens\": \"##ty never di ##sa ##pp ##oint ##s just buy a sharp ##ie and save your money the formula of the liner\", \"word\": \"sharp\", \"stars\": \"1 star\", \"brand\": \"FENTY BEAUTY BY RIHANNA\", \"name\": \"Flyliner Longwear Liquid Eyeliner\", \"type\": \"Liquid Eyeliner\"}, {\"x\": -0.05322331562638283, \"y\": 0.03639248386025429, \"context\": \", not sure about satin but it goes on very **smooth** and effortless, it \\u2019 s very easy to\", \"tokens\": \", not sure about satin but it goes on very smooth and effort ##less , it \\u2019 s very easy to\", \"word\": \"smooth\", \"stars\": \"4 stars\", \"brand\": \"FENTY BEAUTY BY RIHANNA\", \"name\": \"Flyliner Longwear Liquid Eyeliner\", \"type\": \"Liquid Eyeliner\"}, {\"x\": -0.03368118777871132, \"y\": 0.03693311661481857, \"context\": \"go to eyeliner! do not buy this the **sharpie** of my heart gorgeous stays put, goes on\", \"tokens\": \"go to eye ##liner ! do not buy this the sharp ##ie of my heart gorgeous stays put , goes on\", \"word\": \"sharp\", \"stars\": null, \"brand\": null, \"name\": null, \"type\": null}, {\"x\": -0.050874773412942886, \"y\": 0.02370358631014824, \"context\": \"ie of my heart gorgeous stays put, goes on **smooth** and the tip works perfect for lil touch ups,\", \"tokens\": \"##ie of my heart gorgeous stays put , goes on smooth and the tip works perfect for lil touch ups ,\", \"word\": \"smooth\", \"stars\": \"4 stars\", \"brand\": \"FENTY BEAUTY BY RIHANNA\", \"name\": \"Flyliner Longwear Liquid Eyeliner\", \"type\": \"Liquid Eyeliner\"}, {\"x\": -0.04307468608021736, \"y\": 0.05275609716773033, \"context\": \"the first couple of uses, the tip is very **sharp** and precise, which helps me get a nice wing\", \"tokens\": \"the first couple of uses , the tip is very sharp and precise , which helps me get a nice wing\", \"word\": \"sharp\", \"stars\": \"3 stars\", \"brand\": \"FENTY BEAUTY BY RIHANNA\", \"name\": \"Flyliner Longwear Liquid Eyeliner\", \"type\": \"Liquid Eyeliner\"}, {\"x\": -0.04249868541955948, \"y\": 0.038646455854177475, \"context\": \"dull. it is difficult for me to get a **sharp** wing, and i find that i have to fines\", \"tokens\": \"dull . it is difficult for me to get a sharp wing , and i find that i have to fines\", \"word\": \"sharp\", \"stars\": \"5 stars\", \"brand\": \"Too Faced\", \"name\": \"Better Than Sex Mascara\", \"type\": \"Mascara\"}, {\"x\": -0.04382270202040672, \"y\": -0.10279323160648346, \"context\": \"worse through out the day. but when trying to **clean** up the smeared areas it was hard to remove go\", \"tokens\": \"worse through out the day . but when trying to clean up the smeared areas it was hard to remove go\", \"word\": \"clean\", \"stars\": \"1 star\", \"brand\": \"FENTY BEAUTY BY RIHANNA\", \"name\": \"Flyliner Longwear Liquid Eyeliner\", \"type\": \"Liquid Eyeliner\"}, {\"x\": -0.050335753709077835, \"y\": 0.02147560752928257, \"context\": \"long haul flight-proof and approved i love how **smooth** it goes on the eyes. my new favorite!\", \"tokens\": \"long haul flight - proof and approved i love how smooth it goes on the eyes . my new favorite !\", \"word\": \"smooth\", \"stars\": \"5 stars\", \"brand\": \"FENTY BEAUTY BY RIHANNA\", \"name\": \"Flyliner Longwear Liquid Eyeliner\", \"type\": \"Liquid Eyeliner\"}, {\"x\": -0.05187234655022621, \"y\": 0.00843275897204876, \"context\": \", application was okay.. i \\u2019 ve had **smoother** eyeliners worth $ 5. wasn \\u2019\", \"tokens\": \", application was okay . . i \\u2019 ve had smooth ##er eye ##liner ##s worth $ 5 . wasn \\u2019\", \"word\": \"smooth\", \"stars\": \"1 star\", \"brand\": \"FENTY BEAUTY BY RIHANNA\", \"name\": \"Flyliner Longwear Liquid Eyeliner\", \"type\": \"Liquid Eyeliner\"}, {\"x\": -0.044091805815696716, \"y\": 0.033816881477832794, \"context\": \"of it has no product on it to get the **sharp** line and i moved it on my hand to see\", \"tokens\": \"of it has no product on it to get the sharp line and i moved it on my hand to see\", \"word\": \"sharp\", \"stars\": \"1 star\", \"brand\": \"FENTY BEAUTY BY RIHANNA\", \"name\": \"Flyliner Longwear Liquid Eyeliner\", \"type\": \"Liquid Eyeliner\"}, {\"x\": -0.04856092482805252, \"y\": 0.016156723722815514, \"context\": \"ail it's easy to use and goes on **smooth**. my only complaint is that it is kind of\", \"tokens\": \"##ail it ' s easy to use and goes on smooth . my only complaint is that it is kind of\", \"word\": \"smooth\", \"stars\": \"4 stars\", \"brand\": \"Too Faced\", \"name\": \"Better Than Sex Mascara\", \"type\": \"Mascara\"}, {\"x\": -0.05141217261552811, \"y\": 0.038066163659095764, \"context\": \"felt-tip liner i 'll use again. **smooth**, precise, and the easiest wing i 've\", \"tokens\": \"felt - tip liner i ' ll use again . smooth , precise , and the easiest wing i ' ve\", \"word\": \"smooth\", \"stars\": \"5 stars\", \"brand\": \"FENTY BEAUTY BY RIHANNA\", \"name\": \"Flyliner Longwear Liquid Eyeliner\", \"type\": \"Liquid Eyeliner\"}, {\"x\": -0.044599927961826324, \"y\": -0.0855502039194107, \"context\": \"budge! it holds on through water and lots of **cleansers**! makes the sharpest line! tear\", \"tokens\": \"budge ! it holds on through water and lots of clean ##ser ##s ! makes the sharpe ##st line ! tear\", \"word\": \"clean\", \"stars\": \"5 stars\", \"brand\": \"FENTY BEAUTY BY RIHANNA\", \"name\": \"Flyliner Longwear Liquid Eyeliner\", \"type\": \"Liquid Eyeliner\"}, {\"x\": -0.04346540942788124, \"y\": -0.09223619848489761, \"context\": \"was a bit difficult to take off with my oil **cleanser**. i will keep testing it and try to\", \"tokens\": \"was a bit difficult to take off with my oil clean ##ser . i will keep testing it and try to\", \"word\": \"clean\", \"stars\": \"3 stars\", \"brand\": \"FENTY BEAUTY BY RIHANNA\", \"name\": \"Flyliner Longwear Liquid Eyeliner\", \"type\": \"Liquid Eyeliner\"}, {\"x\": -0.051143061369657516, \"y\": -0.04380417987704277, \"context\": \"so you don \\u2019 t get the precision for a **clean** line unless you go super slow and have a steady\", \"tokens\": \"so you don \\u2019 t get the precision for a clean line unless you go super slow and have a steady\", \"word\": \"clean\", \"stars\": \"2 stars\", \"brand\": \"FENTY BEAUTY BY RIHANNA\", \"name\": \"Flyliner Longwear Liquid Eyeliner\", \"type\": \"Liquid Eyeliner\"}, {\"x\": -0.0519428588449955, \"y\": 0.023710038512945175, \"context\": \"well and also it also doesn \\u2019 t create a **smooth** straight line. it is not smudge proof and\", \"tokens\": \"well and also it also doesn \\u2019 t create a smooth straight line . it is not sm ##udge proof and\", \"word\": \"smooth\", \"stars\": \"2 stars\", \"brand\": \"FENTY BEAUTY BY RIHANNA\", \"name\": \"Flyliner Longwear Liquid Eyeliner\", \"type\": \"Liquid Eyeliner\"}, {\"x\": -0.043338511139154434, \"y\": -0.004536491818726063, \"context\": \"hydrating, the new first aid beauty coconut face **smoothie** is what i prefer. it has 1.\", \"tokens\": \"hydra ##ting , the new first aid beauty coconut face smooth ##ie is what i prefer . it has 1 .\", \"word\": \"smooth\", \"stars\": \"4 stars\", \"brand\": \"Too Faced\", \"name\": \"Hangover Replenishing Face Primer\", \"type\": \"Primer\"}, {\"x\": -0.04783964529633522, \"y\": -0.02537764422595501, \"context\": \"s, which is a perfect primer. it **smooths** the skin, feels great, makes foundation look\", \"tokens\": \"##s , which is a perfect prime ##r . it smooth ##s the skin , feels great , makes foundation look\", \"word\": \"smooth\", \"stars\": \"1 star\", \"brand\": \"Too Faced\", \"name\": \"Hangover Replenishing Face Primer\", \"type\": \"Primer\"}, {\"x\": -0.0511811263859272, \"y\": 0.01337180845439434, \"context\": \"is the best. smells yummy and goes on **smooth**. i actually think the coconut water base helped cleared\", \"tokens\": \"is the best . smells yu ##mmy and goes on smooth . i actually think the coconut water base helped cleared\", \"word\": \"smooth\", \"stars\": \"5 stars\", \"brand\": \"Too Faced\", \"name\": \"Hangover Replenishing Face Primer\", \"type\": \"Primer\"}, {\"x\": -0.050280917435884476, \"y\": 0.012153996154665947, \"context\": \"as well, because my skin has been a lot **smoother** since i 've used this product. definitely\", \"tokens\": \"as well , because my skin has been a lot smooth ##er since i ' ve used this product . definitely\", \"word\": \"smooth\", \"stars\": \"5 stars\", \"brand\": \"Too Faced\", \"name\": \"Hangover Replenishing Face Primer\", \"type\": \"Primer\"}, {\"x\": -0.05215359106659889, \"y\": 0.02446354553103447, \"context\": \"skin and absorbs so well. it's **smooth** and i find it to be quite hydrating.\", \"tokens\": \"skin and absorb ##s so well . it ' s smooth and i find it to be quite hydra ##ting .\", \"word\": \"smooth\", \"stars\": \"5 stars\", \"brand\": \"Too Faced\", \"name\": \"Hangover Replenishing Face Primer\", \"type\": \"Primer\"}, {\"x\": -0.05092161148786545, \"y\": 0.020947739481925964, \"context\": \"is amazing for dry skin! it makes my skin **smooth** and soft and it's so hydrating!\", \"tokens\": \"is amazing for dry skin ! it makes my skin smooth and soft and it ' s so hydra ##ting !\", \"word\": \"smooth\", \"stars\": \"5 stars\", \"brand\": \"Too Faced\", \"name\": \"Hangover Replenishing Face Primer\", \"type\": \"Primer\"}, {\"x\": -0.05481506139039993, \"y\": 0.013319402933120728, \"context\": \"so good when put on face. it \\u2019 s **smooth** and drys nicely. it \\u2019 s now part\", \"tokens\": \"so good when put on face . it \\u2019 s smooth and dry ##s nicely . it \\u2019 s now part\", \"word\": \"smooth\", \"stars\": \"5 stars\", \"brand\": \"Too Faced\", \"name\": \"Hangover Replenishing Face Primer\", \"type\": \"Primer\"}, {\"x\": -0.04817693680524826, \"y\": -0.028147466480731964, \"context\": \"a primer for me. it does nothing to **smooth** my skin or hide pores, but again it\", \"tokens\": \"a prime ##r for me . it does nothing to smooth my skin or hide por ##es , but again it\", \"word\": \"smooth\", \"stars\": \"4 stars\", \"brand\": \"Too Faced\", \"name\": \"Hangover Replenishing Face Primer\", \"type\": \"Primer\"}, {\"x\": -0.04265445098280907, \"y\": -0.09611243009567261, \"context\": \"walk of shame and had such dry skin from the **cleanser** at guys place, this was the first thing\", \"tokens\": \"walk of shame and had such dry skin from the clean ##ser at guys place , this was the first thing\", \"word\": \"clean\", \"stars\": \"5 stars\", \"brand\": \"Too Faced\", \"name\": \"Hangover Replenishing Face Primer\", \"type\": \"Primer\"}, {\"x\": -0.05142442509531975, \"y\": 0.009664483368396759, \"context\": \"worth the use just because it makes my skin feel **smooth** before applying my foundation. i would repurchase\", \"tokens\": \"worth the use just because it makes my skin feel smooth before applying my foundation . i would rep ##ur ##chase\", \"word\": \"smooth\", \"stars\": \"5 stars\", \"brand\": \"Too Faced\", \"name\": \"Better Than Sex Mascara\", \"type\": \"Mascara\"}, {\"x\": -0.05020482465624809, \"y\": 0.018810730427503586, \"context\": \"work morning makeup routine. my make up goes on **smooth** and lasts all day! i haven 't noticed\", \"tokens\": \"work morning makeup routine . my make up goes on smooth and lasts all day ! i haven ' t noticed\", \"word\": \"smooth\", \"stars\": \"4 stars\", \"brand\": \"Too Faced\", \"name\": \"Better Than Sex Mascara\", \"type\": \"Mascara\"}, {\"x\": -0.05191238969564438, \"y\": 0.02747626230120659, \"context\": \"primer leaves my skin feeling refreshed, **smooth**, toned and gives it such a healthy glow!\", \"tokens\": \"prime ##r leaves my skin feeling ref ##resh ##ed , smooth , toned and gives it such a healthy glow !\", \"word\": \"smooth\", \"stars\": \"5 stars\", \"brand\": \"Too Faced\", \"name\": \"Hangover Replenishing Face Primer\", \"type\": \"Primer\"}, {\"x\": -0.05168379843235016, \"y\": 0.00431290827691555, \"context\": \"use this primer; all my products go on **smooth** over top. i have combination skin so i was\", \"tokens\": \"use this prime ##r ; all my products go on smooth over top . i have combination skin so i was\", \"word\": \"smooth\", \"stars\": \"5 stars\", \"brand\": \"Too Faced\", \"name\": \"Hangover Replenishing Face Primer\", \"type\": \"Primer\"}, {\"x\": -0.05178207531571388, \"y\": 0.010894330218434334, \"context\": \"dry and irritated. it makes my makeup go on **smoother**, but i am not sure that it makes\", \"tokens\": \"dry and irritated . it makes my makeup go on smooth ##er , but i am not sure that it makes\", \"word\": \"smooth\", \"stars\": \"4 stars\", \"brand\": \"Too Faced\", \"name\": \"Hangover Replenishing Face Primer\", \"type\": \"Primer\"}, {\"x\": -0.04979943856596947, \"y\": 0.0172275360673666, \"context\": \"te my skin at all! it makes my skin **smooth** and hydrated to prep for my foundation. i\", \"tokens\": \"##te my skin at all ! it makes my skin smooth and hydra ##ted to prep for my foundation . i\", \"word\": \"smooth\", \"stars\": \"5 stars\", \"brand\": \"Too Faced\", \"name\": \"Hangover Replenishing Face Primer\", \"type\": \"Primer\"}, {\"x\": -0.05158756673336029, \"y\": 0.02653731405735016, \"context\": \"with the way it absorbed into my skin leaving a **smooth** even texture and the smell has a slight coconut fragrance\", \"tokens\": \"with the way it absorbed into my skin leaving a smooth even texture and the smell has a slight coconut fragrance\", \"word\": \"smooth\", \"stars\": \"5 stars\", \"brand\": \"Too Faced\", \"name\": \"Hangover Replenishing Face Primer\", \"type\": \"Primer\"}, {\"x\": -0.05281883850693703, \"y\": 0.014068919233977795, \"context\": \". new favorite face primer! it is the **smoothest** thing i have ever put on my skin,\", \"tokens\": \". new favorite face prime ##r ! it is the smooth ##est thing i have ever put on my skin ,\", \"word\": \"smooth\", \"stars\": \"5 stars\", \"brand\": \"Too Faced\", \"name\": \"Better Than Sex Mascara\", \"type\": \"Mascara\"}, {\"x\": -0.052553702145814896, \"y\": 0.016221346333622932, \"context\": \"lying, completely hydrating and makes my makeup look **smooth** and flawless! i have gotten so many compliments\", \"tokens\": \"lying , completely hydra ##ting and makes my makeup look smooth and flawless ! i have gotten so many compliment ##s\", \"word\": \"smooth\", \"stars\": \"5 stars\", \"brand\": \"Too Faced\", \"name\": \"Hangover Replenishing Face Primer\", \"type\": \"Primer\"}, {\"x\": -0.05319374427199364, \"y\": 0.0030116222333163023, \"context\": \"on all day. my makeup goes on so much **smoother** when i use this, it just makes my\", \"tokens\": \"on all day . my makeup goes on so much smooth ##er when i use this , it just makes my\", \"word\": \"smooth\", \"stars\": \"5 stars\", \"brand\": \"Too Faced\", \"name\": \"Hangover Replenishing Face Primer\", \"type\": \"Primer\"}, {\"x\": -0.05098384618759155, \"y\": 0.00625750282779336, \"context\": \"refreshed, and my skin looks and feels **smoother**! the only primer i 've used\", \"tokens\": \"ref ##resh ##ed , and my skin looks and feels smooth ##er ! the only prime ##r i ' ve used\", \"word\": \"smooth\", \"stars\": \"5 stars\", \"brand\": \"Too Faced\", \"name\": \"Hangover Replenishing Face Primer\", \"type\": \"Primer\"}, {\"x\": -0.05012191832065582, \"y\": -0.007602172438055277, \"context\": \"s. in love!! this doesn 't **smooth** or brighten or make the skin dewy.\", \"tokens\": \"##s . in love ! ! this doesn ' t smooth or bright ##en or make the skin dew ##y .\", \"word\": \"smooth\", \"stars\": \"1 star\", \"brand\": \"Too Faced\", \"name\": \"Hangover Replenishing Face Primer\", \"type\": \"Primer\"}, {\"x\": -0.04958788678050041, \"y\": 0.01822662353515625, \"context\": \", it smells great and it leaves my skin feeling **smooth**, i have not gotten any breakout from using this\", \"tokens\": \", it smells great and it leaves my skin feeling smooth , i have not gotten any breakout from using this\", \"word\": \"smooth\", \"stars\": \"5 stars\", \"brand\": \"Too Faced\", \"name\": \"Hangover Replenishing Face Primer\", \"type\": \"Primer\"}, {\"x\": -0.04926225543022156, \"y\": 0.01831226795911789, \"context\": \"and my eyes looked so much brighter and skin was **smoother**. i always am trying to find cheaper alternatives\", \"tokens\": \"and my eyes looked so much brighter and skin was smooth ##er . i always am trying to find cheaper alternatives\", \"word\": \"smooth\", \"stars\": \"5 stars\", \"brand\": \"Too Faced\", \"name\": \"Hangover Replenishing Face Primer\", \"type\": \"Primer\"}, {\"x\": -0.05189399793744087, \"y\": 0.009249081835150719, \"context\": \"hydrated all day and my liquid foundation goes on **smooth**. highly recommend for anyone with type 2 rosacea\", \"tokens\": \"hydra ##ted all day and my liquid foundation goes on smooth . highly recommend for anyone with type 2 rosa ##cea\", \"word\": \"smooth\", \"stars\": \"5 stars\", \"brand\": \"Too Faced\", \"name\": \"Hangover Replenishing Face Primer\", \"type\": \"Primer\"}, {\"x\": -0.050537992268800735, \"y\": 0.02178138680756092, \"context\": \"yet moisturizing. it makes my skin look **smoother** and glowing. the finish is a nice in\", \"tokens\": \"yet moist ##uri ##zing . it makes my skin look smooth ##er and glowing . the finish is a nice in\", \"word\": \"smooth\", \"stars\": \"5 stars\", \"brand\": \"Too Faced\", \"name\": \"Hangover Replenishing Face Primer\", \"type\": \"Primer\"}, {\"x\": -0.05348927527666092, \"y\": 0.012304798699915409, \"context\": \"oily with or without makeup. this leaves a **smooth** finish very similar to my face lotion, nice\", \"tokens\": \"oil ##y with or without makeup . this leaves a smooth finish very similar to my face lot ##ion , nice\", \"word\": \"smooth\", \"stars\": \"4 stars\", \"brand\": \"Too Faced\", \"name\": \"Hangover Replenishing Face Primer\", \"type\": \"Primer\"}, {\"x\": -0.046350326389074326, \"y\": -0.04294030740857124, \"context\": \"problem! this 'll help moisturize and **smooth** them out underneath your foundation!-smells amazing!\", \"tokens\": \"problem ! this ' ll help moist ##uri ##ze and smooth them out underneath your foundation ! - smells amazing !\", \"word\": \"smooth\", \"stars\": \"4 stars\", \"brand\": \"Too Faced\", \"name\": \"Hangover Replenishing Face Primer\", \"type\": \"Primer\"}, {\"x\": -0.05077173560857773, \"y\": 0.00823464710265398, \"context\": \"it takes out redness and makes my skin look **smoother** all on its own. good stuff! i\", \"tokens\": \"it takes out red ##ness and makes my skin look smooth ##er all on its own . good stuff ! i\", \"word\": \"smooth\", \"stars\": \"5 stars\", \"brand\": \"Too Faced\", \"name\": \"Hangover Replenishing Face Primer\", \"type\": \"Primer\"}, {\"x\": -0.053449008613824844, \"y\": 0.009383225813508034, \"context\": \"ake and this one didn 't! its so **smooth** without having silicone and hydrating but never oil\", \"tokens\": \"##ake and this one didn ' t ! its so smooth without having silicon ##e and hydra ##ting but never oil\", \"word\": \"smooth\", \"stars\": \"2 stars\", \"brand\": \"Too Faced\", \"name\": \"Hangover Replenishing Face Primer\", \"type\": \"Primer\"}, {\"x\": -0.05307558923959732, \"y\": 0.00882345624268055, \"context\": \"and it really makes makeup go on so nice and **smooth**. i love the coconuty smell and like that\", \"tokens\": \"and it really makes makeup go on so nice and smooth . i love the coconut ##y smell and like that\", \"word\": \"smooth\", \"stars\": \"4 stars\", \"brand\": \"Too Faced\", \"name\": \"Hangover Replenishing Face Primer\", \"type\": \"Primer\"}, {\"x\": -0.051220640540122986, \"y\": 0.009375687688589096, \"context\": \"makeup from slipping, all while making my skin feel **smooth**. i have sensitive skin that literally flares up\", \"tokens\": \"makeup from slipping , all while making my skin feel smooth . i have sensitive skin that literally flare ##s up\", \"word\": \"smooth\", \"stars\": \"5 stars\", \"brand\": \"Too Faced\", \"name\": \"Hangover Replenishing Face Primer\", \"type\": \"Primer\"}, {\"x\": -0.05284951627254486, \"y\": 0.00748530775308609, \"context\": \". using this primer, my makeup went on **smoother**; however, after a few hours, it\", \"tokens\": \". using this prime ##r , my makeup went on smooth ##er ; however , after a few hours , it\", \"word\": \"smooth\", \"stars\": \"2 stars\", \"brand\": \"Too Faced\", \"name\": \"Hangover Replenishing Face Primer\", \"type\": \"Primer\"}, {\"x\": -0.05002884194254875, \"y\": 0.02329212613403797, \"context\": \"and then apply my foundation and it goes on so **smooth**. i highly recommend this product.. it is\", \"tokens\": \"and then apply my foundation and it goes on so smooth . i highly recommend this product . . it is\", \"word\": \"smooth\", \"stars\": \"5 stars\", \"brand\": \"Too Faced\", \"name\": \"Better Than Sex Mascara\", \"type\": \"Mascara\"}, {\"x\": -0.052612967789173126, \"y\": 0.0252074021846056, \"context\": \"primers, my foundation goes on looking natural and **smooth** and stays all day. i love the smell too\", \"tokens\": \"prime ##rs , my foundation goes on looking natural and smooth and stays all day . i love the smell too\", \"word\": \"smooth\", \"stars\": \"5 stars\", \"brand\": \"Too Faced\", \"name\": \"Hangover Replenishing Face Primer\", \"type\": \"Primer\"}, {\"x\": -0.046343423426151276, \"y\": -0.0246508177369833, \"context\": \"e. sure it moisturizes. yes it **smooths**-that's what primers do,\", \"tokens\": \"##e . sure it moist ##uri ##zes . yes it smooth ##s - that ' s what prime ##rs do ,\", \"word\": \"smooth\", \"stars\": \"2 stars\", \"brand\": \"Too Faced\", \"name\": \"Hangover Replenishing Face Primer\", \"type\": \"Primer\"}, {\"x\": -0.05377119779586792, \"y\": 0.012712034396827221, \"context\": \"leaving it feeling fresh and the makeup goes on so **smooth** and last a long time! def reccomend\", \"tokens\": \"leaving it feeling fresh and the makeup goes on so smooth and last a long time ! def rec ##com ##end\", \"word\": \"smooth\", \"stars\": \"5 stars\", \"brand\": \"Too Faced\", \"name\": \"Hangover Replenishing Face Primer\", \"type\": \"Primer\"}, {\"x\": -0.051884546875953674, \"y\": 0.01840830221772194, \"context\": \"daytime moisturizer. it makes my skin look **smooth** and hydrated. it won 't fill in\", \"tokens\": \"daytime moist ##uri ##zer . it makes my skin look smooth and hydra ##ted . it won ' t fill in\", \"word\": \"smooth\", \"stars\": \"5 stars\", \"brand\": \"Too Faced\", \"name\": \"Hangover Replenishing Face Primer\", \"type\": \"Primer\"}, {\"x\": -0.04957820475101471, \"y\": 0.01803918369114399, \"context\": \"primer, however, makes my skin feel much **smoother** and more hydrated. i absolutely recommend it\", \"tokens\": \"prime ##r , however , makes my skin feel much smooth ##er and more hydra ##ted . i absolutely recommend it\", \"word\": \"smooth\", \"stars\": \"5 stars\", \"brand\": \"Too Faced\", \"name\": \"Hangover Replenishing Face Primer\", \"type\": \"Primer\"}, {\"x\": -0.051811326295137405, \"y\": 0.02150859124958515, \"context\": \"a sticky feeling. it didn 't leave a **smooth** finish like other primers, and the worst part\", \"tokens\": \"a sticky feeling . it didn ' t leave a smooth finish like other prime ##rs , and the worst part\", \"word\": \"smooth\", \"stars\": \"1 star\", \"brand\": \"Too Faced\", \"name\": \"Hangover Replenishing Face Primer\", \"type\": \"Primer\"}, {\"x\": -0.052480317652225494, \"y\": 0.023314816877245903, \"context\": \"absolutely loved how it made my make up look so **smooth** and it lasted much longer. i have used this\", \"tokens\": \"absolutely loved how it made my make up look so smooth and it lasted much longer . i have used this\", \"word\": \"smooth\", \"stars\": \"4 stars\", \"brand\": \"Too Faced\", \"name\": \"Hangover Replenishing Face Primer\", \"type\": \"Primer\"}, {\"x\": -0.049848925322294235, \"y\": 0.01716930978000164, \"context\": \"ne prone and sensitive to products. this goes on **smooth** like a lightweight moisturizer. within a minute\", \"tokens\": \"##ne prone and sensitive to products . this goes on smooth like a lightweight moist ##uri ##zer . within a minute\", \"word\": \"smooth\", \"stars\": \"5 stars\", \"brand\": \"Too Faced\", \"name\": \"Hangover Replenishing Face Primer\", \"type\": \"Primer\"}, {\"x\": -0.05125259608030319, \"y\": 0.01065697893500328, \"context\": \"recommend. this primer smells nice and goes on **smooth**. it keeps my make up in place all night\", \"tokens\": \"recommend . this prime ##r smells nice and goes on smooth . it keeps my make up in place all night\", \"word\": \"smooth\", \"stars\": \"5 stars\", \"brand\": \"Too Faced\", \"name\": \"Hangover Replenishing Face Primer\", \"type\": \"Primer\"}, {\"x\": -0.05161336436867714, \"y\": 0.018362190574407578, \"context\": \"smell is just amazing and makes my skin feel so **smooth** and moisturized! my make up sits super well\", \"tokens\": \"smell is just amazing and makes my skin feel so smooth and moist ##urized ! my make up sits super well\", \"word\": \"smooth\", \"stars\": \"5 stars\", \"brand\": \"Too Faced\", \"name\": \"Hangover Replenishing Face Primer\", \"type\": \"Primer\"}, {\"x\": -0.05136820301413536, \"y\": 0.004340918734669685, \"context\": \"r's job is supposed to hydrate, **smooth**, and brighten skin and it does just that\", \"tokens\": \"##r ' s job is supposed to hydra ##te , smooth , and bright ##en skin and it does just that\", \"word\": \"smooth\", \"stars\": \"5 stars\", \"brand\": \"Too Faced\", \"name\": \"Hangover Replenishing Face Primer\", \"type\": \"Primer\"}, {\"x\": -0.042252250015735626, \"y\": -0.03150806948542595, \"context\": \"foundation has never looked better. it soothes, **smooths**, moisturizes. \\u2026 read more i\", \"tokens\": \"foundation has never looked better . it soothe ##s , smooth ##s , moist ##uri ##zes . \\u2026 read more i\", \"word\": \"smooth\", \"stars\": \"5 stars\", \"brand\": \"Too Faced\", \"name\": \"Hangover Replenishing Face Primer\", \"type\": \"Primer\"}, {\"x\": -0.04690246656537056, \"y\": -0.02156320959329605, \"context\": \"like, not-too-thick primer that **smooths** my skin in a natural and believable\", \"tokens\": \"like , not - too - thick prime ##r that smooth ##s my skin in a natural and bel ##ie ##vable\", \"word\": \"smooth\", \"stars\": \"5 stars\", \"brand\": \"Too Faced\", \"name\": \"Hangover Replenishing Face Primer\", \"type\": \"Primer\"}, {\"x\": -0.049714140594005585, \"y\": 0.022621186450123787, \"context\": \"coconut without smelling like sunscreen. i miss the **smooth** feeling of silicone primers, but this still\", \"tokens\": \"coconut without smelling like suns ##creen . i miss the smooth feeling of silicon ##e prime ##rs , but this still\", \"word\": \"smooth\", \"stars\": \"5 stars\", \"brand\": \"Too Faced\", \"name\": \"Hangover Replenishing Face Primer\", \"type\": \"Primer\"}, {\"x\": -0.052101440727710724, \"y\": 0.030496681109070778, \"context\": \"under eyes and it makes my concealer look so **smooth** and soft even after powder! < 3 this stuff\", \"tokens\": \"under eyes and it makes my conceal ##er look so smooth and soft even after powder ! < 3 this stuff\", \"word\": \"smooth\", \"stars\": \"5 stars\", \"brand\": \"Too Faced\", \"name\": \"Hangover Replenishing Face Primer\", \"type\": \"Primer\"}, {\"x\": -0.05023428425192833, \"y\": 0.01550764124840498, \"context\": \"so good. instant refresher; brighter, **smoother**, healthier looking. lasts all day.\", \"tokens\": \"so good . instant ref ##resh ##er ; brighter , smooth ##er , health ##ier looking . lasts all day .\", \"word\": \"smooth\", \"stars\": \"5 stars\", \"brand\": \"Too Faced\", \"name\": \"Hangover Replenishing Face Primer\", \"type\": \"Primer\"}, {\"x\": -0.049482181668281555, \"y\": -0.019880054518580437, \"context\": \"day-i can 't even explain. it **smooths** and keeps me looking dewy ( not greasy\", \"tokens\": \"day - i can ' t even explain . it smooth ##s and keeps me looking dew ##y ( not greasy\", \"word\": \"smooth\", \"stars\": \"5 stars\", \"brand\": \"Too Faced\", \"name\": \"Hangover Replenishing Face Primer\", \"type\": \"Primer\"}, {\"x\": -0.05099145695567131, \"y\": 0.019976090639829636, \"context\": \"the texture of my skin is different too-way **smoother**. it smells great too! i use this\", \"tokens\": \"the texture of my skin is different too - way smooth ##er . it smells great too ! i use this\", \"word\": \"smooth\", \"stars\": \"5 stars\", \"brand\": \"Too Faced\", \"name\": \"Hangover Replenishing Face Primer\", \"type\": \"Primer\"}, {\"x\": -0.052001021802425385, \"y\": 0.011696763336658478, \"context\": \"for me. this is great! makeup goes on **smooth**, less shine throughout the day, makes makeup last\", \"tokens\": \"for me . this is great ! makeup goes on smooth , less shine throughout the day , makes makeup last\", \"word\": \"smooth\", \"stars\": \"5 stars\", \"brand\": \"Too Faced\", \"name\": \"Hangover Replenishing Face Primer\", \"type\": \"Primer\"}, {\"x\": -0.05263250693678856, \"y\": 0.008044606074690819, \"context\": \"actually controls my oil and makes my makeup go on **smoother** and prolongs it. it goes on\", \"tokens\": \"actually controls my oil and makes my makeup go on smooth ##er and pro ##long ##s it . it goes on\", \"word\": \"smooth\", \"stars\": \"5 stars\", \"brand\": \"Too Faced\", \"name\": \"Hangover Replenishing Face Primer\", \"type\": \"Primer\"}, {\"x\": -0.03980939835309982, \"y\": 0.030450690537691116, \"context\": \"but twist up **sharpeners** don 't have the **sharp**-point power that a pencil / crayon\", \"tokens\": \"but twist up sharpe ##ners don ' t have the sharp - point power that a pencil / cr ##ayo ##n\", \"word\": \"sharp\", \"stars\": \"2 stars\", \"brand\": \"Marc Jacobs\", \"name\": \"Highliner Gel Eye Crayon Eyeliner\", \"type\": \"Gel Eyeliner\"}, {\"x\": -0.05411655083298683, \"y\": 0.01650894246995449, \"context\": \"g it has changed my life. it is so **smooth**, so pigmented, does not smudge at\", \"tokens\": \"##g it has changed my life . it is so smooth , so pigment ##ed , does not sm ##udge at\", \"word\": \"smooth\", \"stars\": \"5 stars\", \"brand\": \"Marc Jacobs\", \"name\": \"Highliner Gel Eye Crayon Eyeliner\", \"type\": \"Gel Eyeliner\"}, {\"x\": -0.05042453855276108, \"y\": 0.03391708806157112, \"context\": \"black and the blue one. they go on so **smooth** and they stay on all day long! i got\", \"tokens\": \"black and the blue one . they go on so smooth and they stay on all day long ! i got\", \"word\": \"smooth\", \"stars\": \"5 stars\", \"brand\": \"Urban Decay\", \"name\": \"Cannonball Ultra Waterproof Mascara\", \"type\": \"Mascara\"}, {\"x\": -0.050025809556245804, \"y\": 0.024053361266851425, \"context\": \"go onto my top lid! i l love how **smooth** and how bold the color is. definitely won '\", \"tokens\": \"go onto my top lid ! i l love how smooth and how bold the color is . definitely won '\", \"word\": \"smooth\", \"stars\": \"5 stars\", \"brand\": \"Marc Jacobs\", \"name\": \"Highliner Gel Eye Crayon Eyeliner\", \"type\": \"Gel Eyeliner\"}, {\"x\": -0.051896508783102036, \"y\": 0.023741871118545532, \"context\": \"love love the colors and the sparkle. love the **smooth** application consistency. stays on the waterline and edges\", \"tokens\": \"love love the colors and the sparkle . love the smooth application consistency . stays on the water ##line and edges\", \"word\": \"smooth\", \"stars\": \"5 stars\", \"brand\": \"Marc Jacobs\", \"name\": \"Highliner Gel Eye Crayon Eyeliner\", \"type\": \"Gel Eyeliner\"}, {\"x\": -0.05157767981290817, \"y\": 0.018811598420143127, \"context\": \". this was recommended.. it goes on very **smooth**. however, within an hour it's completely\", \"tokens\": \". this was recommended . . it goes on very smooth . however , within an hour it ' s completely\", \"word\": \"smooth\", \"stars\": \"4 stars\", \"brand\": \"Dior\", \"name\": \"Diorshow Waterproof Mascara\", \"type\": \"Mascara\"}, {\"x\": -0.05203201621770859, \"y\": 0.01912509836256504, \"context\": \", the description does not lie. it goes on **smooth** with bold color in one sweep. extremely smudge\", \"tokens\": \", the description does not lie . it goes on smooth with bold color in one sweep . extremely sm ##udge\", \"word\": \"smooth\", \"stars\": \"5 stars\", \"brand\": \"Marc Jacobs\", \"name\": \"Highliner Gel Eye Crayon Eyeliner\", \"type\": \"Gel Eyeliner\"}, {\"x\": -0.05000514164566994, \"y\": -0.030445491895079613, \"context\": \"have always lined my waterline and this does a **clean**, crisp line. you will not regret buying this\", \"tokens\": \"have always lined my water ##line and this does a clean , crisp line . you will not regret buying this\", \"word\": \"clean\", \"stars\": \"5 stars\", \"brand\": \"Marc Jacobs\", \"name\": \"Highliner Gel Eye Crayon Eyeliner\", \"type\": \"Gel Eyeliner\"}, {\"x\": -0.044453393667936325, \"y\": -0.1006568968296051, \"context\": \"started out 9 hours earlier but i still had to **clean** it off. that's an amazing brand of\", \"tokens\": \"started out 9 hours earlier but i still had to clean it off . that ' s an amazing brand of\", \"word\": \"clean\", \"stars\": \"5 stars\", \"brand\": \"Marc Jacobs\", \"name\": \"Highliner Gel Eye Crayon Eyeliner\", \"type\": \"Gel Eyeliner\"}, {\"x\": -0.0522199384868145, \"y\": 0.02434537000954151, \"context\": \"little goes a long way since the formula is ultra **smooth** and pigmented--i 've been using\", \"tokens\": \"little goes a long way since the formula is ultra smooth and pigment ##ed - - i ' ve been using\", \"word\": \"smooth\", \"stars\": \"5 stars\", \"brand\": \"Marc Jacobs\", \"name\": \"Highliner Gel Eye Crayon Eyeliner\", \"type\": \"Gel Eyeliner\"}, {\"x\": -0.0517270602285862, \"y\": 0.02975481003522873, \"context\": \"a regular pencil because the gel makes it go on **smoother**. i can 't achieve a cat \\u2019\", \"tokens\": \"a regular pencil because the gel makes it go on smooth ##er . i can ' t achieve a cat \\u2019\", \"word\": \"smooth\", \"stars\": \"3 stars\", \"brand\": \"Marc Jacobs\", \"name\": \"Highliner Gel Eye Crayon Eyeliner\", \"type\": \"Gel Eyeliner\"}, {\"x\": -0.044150687754154205, \"y\": 0.04336987063288689, \"context\": \"eye with this pencil because the tip isn \\u2019 t **sharp** enough and the waterproofing is about 80 %\", \"tokens\": \"eye with this pencil because the tip isn \\u2019 t sharp enough and the water ##proof ##ing is about 80 %\", \"word\": \"sharp\", \"stars\": \"3 stars\", \"brand\": \"Marc Jacobs\", \"name\": \"Highliner Gel Eye Crayon Eyeliner\", \"type\": \"Gel Eyeliner\"}, {\"x\": -0.05334307625889778, \"y\": 0.032352007925510406, \"context\": \"waterline but these do. they are creamy and **smooth** but set quickly, so blend right away if you\", \"tokens\": \"water ##line but these do . they are creamy and smooth but set quickly , so blend right away if you\", \"word\": \"smooth\", \"stars\": \"5 stars\", \"brand\": \"Marc Jacobs\", \"name\": \"Highliner Gel Eye Crayon Eyeliner\", \"type\": \"Gel Eyeliner\"}, {\"x\": -0.041281457990407944, \"y\": -0.10484537482261658, \"context\": \"made of wood so you don 't have to **clean** up those annoying wood shavings.-i\", \"tokens\": \"made of wood so you don ' t have to clean up those annoying wood sha ##ving ##s . - i\", \"word\": \"clean\", \"stars\": \"5 stars\", \"brand\": \"Marc Jacobs\", \"name\": \"Highliner Gel Eye Crayon Eyeliner\", \"type\": \"Gel Eyeliner\"}, {\"x\": -0.05416923388838768, \"y\": 0.010720370337367058, \"context\": \"waterline, however this one is amazing! applied **smooth**, and stayed all day... which is\", \"tokens\": \"water ##line , however this one is amazing ! applied smooth , and stayed all day . . . which is\", \"word\": \"smooth\", \"stars\": \"5 stars\", \"brand\": \"Marc Jacobs\", \"name\": \"Highliner Gel Eye Crayon Eyeliner\", \"type\": \"Gel Eyeliner\"}, {\"x\": -0.05243181437253952, \"y\": 0.031426362693309784, \"context\": \"it. it goes on super black, bold, **smooth**, but doesn 't transfer to my upper lid\", \"tokens\": \"it . it goes on super black , bold , smooth , but doesn ' t transfer to my upper lid\", \"word\": \"smooth\", \"stars\": \"5 stars\", \"brand\": \"Urban Decay\", \"name\": \"Cannonball Ultra Waterproof Mascara\", \"type\": \"Mascara\"}, {\"x\": -0.04617878049612045, \"y\": 0.03851047158241272, \"context\": \"remover. the crayon is never \\\"**sharp** \\\"but it still glides on in a pretty\", \"tokens\": \"remove ##r . the cr ##ayo ##n is never \\\" sharp \\\" but it still glide ##s on in a pretty\", \"word\": \"sharp\", \"stars\": \"4 stars\", \"brand\": \"Marc Jacobs\", \"name\": \"Highliner Gel Eye Crayon Eyeliner\", \"type\": \"Gel Eyeliner\"}, {\"x\": -0.05021540820598602, \"y\": 0.01870802417397499, \"context\": \"line my eyes and this is perfect. goes on **smooth**, doesn 't smear. lasts all day\", \"tokens\": \"##line my eyes and this is perfect . goes on smooth , doesn ' t sm ##ear . lasts all day\", \"word\": \"smooth\", \"stars\": \"5 stars\", \"brand\": \"Urban Decay\", \"name\": \"Cannonball Ultra Waterproof Mascara\", \"type\": \"Mascara\"}, {\"x\": -0.05122566223144531, \"y\": 0.03033735230565071, \"context\": \"once, and i 'm sold. creamy, **smooth**, and it does. not. budge. this\", \"tokens\": \"once , and i ' m sold . creamy , smooth , and it does . not . budge . this\", \"word\": \"smooth\", \"stars\": \"5 stars\", \"brand\": \"Urban Decay\", \"name\": \"Cannonball Ultra Waterproof Mascara\", \"type\": \"Mascara\"}, {\"x\": -0.05268295481801033, \"y\": 0.026878610253334045, \"context\": \"it and enjoy!: ) this is a very **smooth**, high quality gel liner. the only problem is\", \"tokens\": \"it and enjoy ! : ) this is a very smooth , high quality gel liner . the only problem is\", \"word\": \"smooth\", \"stars\": \"4 stars\", \"brand\": \"Marc Jacobs\", \"name\": \"Highliner Gel Eye Crayon Eyeliner\", \"type\": \"Gel Eyeliner\"}, {\"x\": -0.050636786967515945, \"y\": 0.027394991368055344, \"context\": \"liner for my upper lash line. it goes on **smooth** & stays on forever. it looks like a gel\", \"tokens\": \"liner for my upper lash line . it goes on smooth & stays on forever . it looks like a gel\", \"word\": \"smooth\", \"stars\": \"5 stars\", \"brand\": \"Dior\", \"name\": \"Diorshow Waterproof Mascara\", \"type\": \"Mascara\"}, {\"x\": -0.042717400938272476, \"y\": 0.04611530154943466, \"context\": \"2. after a few uses the tip is not **sharp** although the twist design of the pencil eliminates needing\", \"tokens\": \"2 . after a few uses the tip is not sharp although the twist design of the pencil eliminate ##s needing\", \"word\": \"sharp\", \"stars\": \"4 stars\", \"brand\": \"Marc Jacobs\", \"name\": \"Highliner Gel Eye Crayon Eyeliner\", \"type\": \"Gel Eyeliner\"}, {\"x\": -0.05281597748398781, \"y\": 0.03279326483607292, \"context\": \"a sample in black. it glides on so **smooth** and the pigment is amazing. i use it mostly\", \"tokens\": \"a sample in black . it glide ##s on so smooth and the pigment is amazing . i use it mostly\", \"word\": \"smooth\", \"stars\": \"5 stars\", \"brand\": \"Marc Jacobs\", \"name\": \"Highliner Gel Eye Crayon Eyeliner\", \"type\": \"Gel Eyeliner\"}, {\"x\": -0.05322840064764023, \"y\": 0.022716814652085304, \"context\": \"friend and i were there for a fragrance. very **smooth** application. vivid colors. long wearing. you have\", \"tokens\": \"friend and i were there for a fragrance . very smooth application . vivid colors . long wearing . you have\", \"word\": \"smooth\", \"stars\": \"5 stars\", \"brand\": \"Marc Jacobs\", \"name\": \"Highliner Gel Eye Crayon Eyeliner\", \"type\": \"Gel Eyeliner\"}, {\"x\": -0.04305855557322502, \"y\": 0.035572588443756104, \"context\": \"is that it's not ever going to be **sharp**. otherwise, it's perfect. just go\", \"tokens\": \"is that it ' s not ever going to be sharp . otherwise , it ' s perfect . just go\", \"word\": \"sharp\", \"stars\": \"5 stars\", \"brand\": \"Too Faced\", \"name\": \"Better Than Sex Waterproof Mascara\", \"type\": \"Mascara\"}, {\"x\": -0.053332988172769547, \"y\": 0.028875267133116722, \"context\": \"an asian girl. this gel eye liner is really **smooth**. it is easy to draw. it is really\", \"tokens\": \"an asian girl . this gel eye liner is really smooth . it is easy to draw . it is really\", \"word\": \"smooth\", \"stars\": \"5 stars\", \"brand\": \"Marc Jacobs\", \"name\": \"Highliner Gel Eye Crayon Eyeliner\", \"type\": \"Gel Eyeliner\"}, {\"x\": -0.05195629969239235, \"y\": 0.03450227156281471, \"context\": \"this on my inner eyelids; glides on so **smooth** and stays on perfectly! i know people say it\", \"tokens\": \"this on my inner eyelids ; glide ##s on so smooth and stays on perfectly ! i know people say it\", \"word\": \"smooth\", \"stars\": \"5 stars\", \"brand\": \"Too Faced\", \"name\": \"Better Than Sex Waterproof Mascara\", \"type\": \"Mascara\"}, {\"x\": -0.0509088933467865, \"y\": 0.030939655378460884, \"context\": \"( berry ) did just that. it went on **smooth** and silky. it was super easy to control the\", \"tokens\": \"( berry ) did just that . it went on smooth and silky . it was super easy to control the\", \"word\": \"smooth\", \"stars\": \"5 stars\", \"brand\": \"FENTY BEAUTY BY RIHANNA\", \"name\": \"Flyliner Longwear Liquid Eyeliner\", \"type\": \"Liquid Eyeliner\"}, {\"x\": -0.05323907360434532, \"y\": 0.026108887046575546, \"context\": \"including gel, liquid and pencil. it is super **smooth**, highly pigmented, lasting all day, easily\", \"tokens\": \"including gel , liquid and pencil . it is super smooth , highly pigment ##ed , lasting all day , easily\", \"word\": \"smooth\", \"stars\": \"5 stars\", \"brand\": \"Marc Jacobs\", \"name\": \"Highliner Gel Eye Crayon Eyeliner\", \"type\": \"Gel Eyeliner\"}, {\"x\": -0.050559934228658676, \"y\": 0.022522857412695885, \"context\": \"fave i can 't live without! so **smooth** and black i love it for liner my top water\", \"tokens\": \"fa ##ve i can ' t live without ! so smooth and black i love it for liner my top water\", \"word\": \"smooth\", \"stars\": \"5 stars\", \"brand\": \"Marc Jacobs\", \"name\": \"Highliner Gel Eye Crayon Eyeliner\", \"type\": \"Gel Eyeliner\"}, {\"x\": -0.05140503868460655, \"y\": -0.04466099292039871, \"context\": \"just doesn 't stay precise enough to get a **clean** line near the outer lid. i 've been\", \"tokens\": \"just doesn ' t stay precise enough to get a clean line near the outer lid . i ' ve been\", \"word\": \"clean\", \"stars\": \"3 stars\", \"brand\": \"Marc Jacobs\", \"name\": \"Highliner Gel Eye Crayon Eyeliner\", \"type\": \"Gel Eyeliner\"}, {\"x\": -0.04286867752671242, \"y\": -0.10470420867204666, \"context\": \"hot mess every time. it's hard to **clean** up anywhere i didn 't want the liner because\", \"tokens\": \"hot mess every time . it ' s hard to clean up anywhere i didn ' t want the liner because\", \"word\": \"clean\", \"stars\": \"5 stars\", \"brand\": \"Too Faced\", \"name\": \"Better Than Sex Mascara\", \"type\": \"Mascara\"}, {\"x\": -0.05079841986298561, \"y\": 0.03100297413766384, \"context\": \", long way due to it's wonderfully **smooth** and impossibly dark color. bottom line,\", \"tokens\": \", long way due to it ' s wonderful ##ly smooth and imp ##oss ##ibly dark color . bottom line ,\", \"word\": \"smooth\", \"stars\": \"5 stars\", \"brand\": \"Marc Jacobs\", \"name\": \"Highliner Gel Eye Crayon Eyeliner\", \"type\": \"Gel Eyeliner\"}, {\"x\": -0.05114712938666344, \"y\": 0.03216567635536194, \"context\": \"am so happy with it! it goes on super **smooth** and really stays until i take it off. it\", \"tokens\": \"am so happy with it ! it goes on super smooth and really stays until i take it off . it\", \"word\": \"smooth\", \"stars\": \"5 stars\", \"brand\": \"Marc Jacobs\", \"name\": \"Highliner Gel Eye Crayon Eyeliner\", \"type\": \"Gel Eyeliner\"}, {\"x\": -0.05138777941465378, \"y\": 0.02390695922076702, \"context\": \"status for a pencil type liner. it goes on **smooth**, and it super pigmented, and it actually\", \"tokens\": \"status for a pencil type liner . it goes on smooth , and it super pigment ##ed , and it actually\", \"word\": \"smooth\", \"stars\": \"5 stars\", \"brand\": \"Marc Jacobs\", \"name\": \"Highliner Gel Eye Crayon Eyeliner\", \"type\": \"Gel Eyeliner\"}, {\"x\": -0.04462975263595581, \"y\": 0.0456431582570076, \"context\": \"ides for me is that the point does not remain **sharp** so i have to work around that a bit and\", \"tokens\": \"##ides for me is that the point does not remain sharp so i have to work around that a bit and\", \"word\": \"sharp\", \"stars\": \"5 stars\", \"brand\": \"Marc Jacobs\", \"name\": \"Highliner Gel Eye Crayon Eyeliner\", \"type\": \"Gel Eyeliner\"}, {\"x\": -0.052951496094465256, \"y\": 0.016788367182016373, \"context\": \"it's extremely pigmented and has a very **smooth** formula. but it is very hard to remove and\", \"tokens\": \"it ' s extremely pigment ##ed and has a very smooth formula . but it is very hard to remove and\", \"word\": \"smooth\", \"stars\": \"4 stars\", \"brand\": \"Marc Jacobs\", \"name\": \"Highliner Gel Eye Crayon Eyeliner\", \"type\": \"Gel Eyeliner\"}, {\"x\": -0.04922063276171684, \"y\": -0.05579724907875061, \"context\": \". my best recommendation is make sure your eyelids are **clean** and dry-it doesn 't do well with\", \"tokens\": \". my best recommendation is make sure your eyelids are clean and dry - it doesn ' t do well with\", \"word\": \"clean\", \"stars\": \"5 stars\", \"brand\": \"Marc Jacobs\", \"name\": \"Highliner Gel Eye Crayon Eyeliner\", \"type\": \"Gel Eyeliner\"}, {\"x\": -0.05168444663286209, \"y\": 0.02641770802438259, \"context\": \"for the waterline. really black, goes on **smooth**, and doesn 't hurt my eyes like other\", \"tokens\": \"for the water ##line . really black , goes on smooth , and doesn ' t hurt my eyes like other\", \"word\": \"smooth\", \"stars\": \"5 stars\", \"brand\": \"Urban Decay\", \"name\": \"Cannonball Ultra Waterproof Mascara\", \"type\": \"Mascara\"}, {\"x\": -0.0498170480132103, \"y\": 0.03428804874420166, \"context\": \"them on my waterline. i really love how **smooth** the liner is and how easy it is to twist\", \"tokens\": \"them on my water ##line . i really love how smooth the liner is and how easy it is to twist\", \"word\": \"smooth\", \"stars\": \"4 stars\", \"brand\": \"Marc Jacobs\", \"name\": \"Highliner Gel Eye Crayon Eyeliner\", \"type\": \"Gel Eyeliner\"}, {\"x\": -0.044218163937330246, \"y\": 0.030974922701716423, \"context\": \"line. plus i don 't always want a **sharp** line so i love this. and i want to\", \"tokens\": \"line . plus i don ' t always want a sharp line so i love this . and i want to\", \"word\": \"sharp\", \"stars\": \"5 stars\", \"brand\": \"Marc Jacobs\", \"name\": \"Highliner Gel Eye Crayon Eyeliner\", \"type\": \"Gel Eyeliner\"}, {\"x\": -0.053365591913461685, \"y\": 0.03187303617596626, \"context\": \"times already. i use it every day. very **smooth** and easy to apply. does not tug on the\", \"tokens\": \"times already . i use it every day . very smooth and easy to apply . does not tug on the\", \"word\": \"smooth\", \"stars\": \"5 stars\", \"brand\": \"Marc Jacobs\", \"name\": \"Highliner Gel Eye Crayon Eyeliner\", \"type\": \"Gel Eyeliner\"}, {\"x\": -0.05295832082629204, \"y\": 0.03217044100165367, \"context\": \"compared to it until now. this liner is incredibly **smooth**. i got the black shade. it is pure\", \"tokens\": \"compared to it until now . this liner is incredibly smooth . i got the black shade . it is pure\", \"word\": \"smooth\", \"stars\": \"5 stars\", \"brand\": \"Marc Jacobs\", \"name\": \"Highliner Gel Eye Crayon Eyeliner\", \"type\": \"Gel Eyeliner\"}, {\"x\": -0.046179212629795074, \"y\": 0.03160886466503143, \"context\": \"at the office. i am definitely buying again. **smooth**, creamy, glides on & lasts too!\", \"tokens\": \"at the office . i am definitely buying again . smooth , creamy , glide ##s on & lasts too !\", \"word\": \"smooth\", \"stars\": \"5 stars\", \"brand\": \"Marc Jacobs\", \"name\": \"Highliner Gel Eye Crayon Eyeliner\", \"type\": \"Gel Eyeliner\"}, {\"x\": -0.0527978241443634, \"y\": 0.025886017829179764, \"context\": \"move, or smudge and it's so **smooth**. definitely a repeat buy. i purchased a few\", \"tokens\": \"move , or sm ##udge and it ' s so smooth . definitely a repeat buy . i purchased a few\", \"word\": \"smooth\", \"stars\": null, \"brand\": null, \"name\": null, \"type\": null}, {\"x\": -0.04076772183179855, \"y\": -0.10825318098068237, \"context\": \"liner tip against some tissue paper if i need to **clean** off the excess oil before use and the pencil works\", \"tokens\": \"##liner tip against some tissue paper if i need to clean off the excess oil before use and the pencil works\", \"word\": \"clean\", \"stars\": \"5 stars\", \"brand\": \"Marc Jacobs\", \"name\": \"Highliner Gel Eye Crayon Eyeliner\", \"type\": \"Gel Eyeliner\"}, {\"x\": -0.05314440280199051, \"y\": 0.027523892000317574, \"context\": \"the color overt. the liner was almost too **smooth** that it becomes a messy application. this is frustrating\", \"tokens\": \"the color over ##t . the liner was almost too smooth that it becomes a messy application . this is frustrating\", \"word\": \"smooth\", \"stars\": \"3 stars\", \"brand\": \"Marc Jacobs\", \"name\": \"Highliner Gel Eye Crayon Eyeliner\", \"type\": \"Gel Eyeliner\"}, {\"x\": -0.05099029839038849, \"y\": 0.020206399261951447, \"context\": \"have tried every high end brand there is for a **smooth** application and long lasting coverage in liners. this\", \"tokens\": \"have tried every high end brand there is for a smooth application and long lasting coverage in liner ##s . this\", \"word\": \"smooth\", \"stars\": \"5 stars\", \"brand\": \"Too Faced\", \"name\": \"Better Than Sex Mascara\", \"type\": \"Mascara\"}, {\"x\": -0.05231904610991478, \"y\": 0.036649685353040695, \"context\": \"'ve seen and the pencil is very creamy and **smooth**. it would be perfect for the upper lid but\", \"tokens\": \"' ve seen and the pencil is very creamy and smooth . it would be perfect for the upper lid but\", \"word\": \"smooth\", \"stars\": \"3 stars\", \"brand\": \"Too Faced\", \"name\": \"Better Than Sex Mascara\", \"type\": \"Mascara\"}, {\"x\": -0.05101374164223671, \"y\": 0.032375872135162354, \"context\": \"this pencil is great!!! it goes on **smooth** and stays. i wanted black but in the store\", \"tokens\": \"this pencil is great ! ! ! it goes on smooth and stays . i wanted black but in the store\", \"word\": \"smooth\", \"stars\": \"5 stars\", \"brand\": \"Marc Jacobs\", \"name\": \"Highliner Gel Eye Crayon Eyeliner\", \"type\": \"Gel Eyeliner\"}, {\"x\": -0.05341417342424393, \"y\": 0.027118457481265068, \"context\": \"shade formula pays well and that it's so **smooth** that glides are your eyelids very well and long\", \"tokens\": \"shade formula pays well and that it ' s so smooth that glide ##s are your eyelids very well and long\", \"word\": \"smooth\", \"stars\": \"4 stars\", \"brand\": \"Marc Jacobs\", \"name\": \"Highliner Gel Eye Crayon Eyeliner\", \"type\": \"Gel Eyeliner\"}, {\"x\": -0.052758026868104935, \"y\": 0.026044325903058052, \"context\": \"is! it is so black, goes on so **smooth**, and lasts all day on your waterline!\", \"tokens\": \"is ! it is so black , goes on so smooth , and lasts all day on your water ##line !\", \"word\": \"smooth\", \"stars\": \"5 stars\", \"brand\": \"Marc Jacobs\", \"name\": \"Highliner Gel Eye Crayon Eyeliner\", \"type\": \"Gel Eyeliner\"}, {\"x\": -0.0498611144721508, \"y\": 0.03173097223043442, \"context\": \"i have bought.... it goes on **smooth** and lasts all day. i have several liners\", \"tokens\": \"i have bought . . . . it goes on smooth and lasts all day . i have several liner ##s\", \"word\": \"smooth\", \"stars\": \"5 stars\", \"brand\": \"Marc Jacobs\", \"name\": \"Highliner Gel Eye Crayon Eyeliner\", \"type\": \"Gel Eyeliner\"}, {\"x\": -0.042417414486408234, \"y\": 0.02636490762233734, \"context\": \"liner. you can smudge it or make a **sharp** edge with your nail or something, no biggie\", \"tokens\": \"liner . you can sm ##udge it or make a sharp edge with your nail or something , no big ##gie\", \"word\": \"sharp\", \"stars\": \"5 stars\", \"brand\": \"Marc Jacobs\", \"name\": \"Highliner Gel Eye Crayon Eyeliner\", \"type\": \"Gel Eyeliner\"}, {\"x\": -0.04154461249709129, \"y\": 0.04255363345146179, \"context\": \"and there's no way to get the point **sharp** again. marc jacobs 'new liner is so easy\", \"tokens\": \"and there ' s no way to get the point sharp again . marc jacobs ' new liner is so easy\", \"word\": \"sharp\", \"stars\": \"5 stars\", \"brand\": \"Marc Jacobs\", \"name\": \"Highliner Gel Eye Crayon Eyeliner\", \"type\": \"Gel Eyeliner\"}, {\"x\": -0.0516209602355957, \"y\": 0.03412231430411339, \"context\": \"so easy to use. it is so creamy and **smooth**, but applies with pencil precision. love it.\", \"tokens\": \"so easy to use . it is so creamy and smooth , but applies with pencil precision . love it .\", \"word\": \"smooth\", \"stars\": \"5 stars\", \"brand\": \"Marc Jacobs\", \"name\": \"Highliner Gel Eye Crayon Eyeliner\", \"type\": \"Gel Eyeliner\"}, {\"x\": -0.051572225987911224, \"y\": 0.032622337341308594, \"context\": \"nothing ever does for me ) and the application is **smooth** and effortless! not a bad price, either\", \"tokens\": \"nothing ever does for me ) and the application is smooth and effort ##less ! not a bad price , either\", \"word\": \"smooth\", \"stars\": \"4 stars\", \"brand\": \"FENTY BEAUTY BY RIHANNA\", \"name\": \"Flyliner Longwear Liquid Eyeliner\", \"type\": \"Liquid Eyeliner\"}, {\"x\": -0.04297998175024986, \"y\": 0.0314946323633194, \"context\": \"while the product works pretty much as described, a **sharp** tip is necessary. the included **sharpener** more often\", \"tokens\": \"while the product works pretty much as described , a sharp tip is necessary . the included sharpe ##ner more often\", \"word\": \"sharp\", \"stars\": \"2 stars\", \"brand\": \"Marc Jacobs\", \"name\": \"Highliner Gel Eye Crayon Eyeliner\", \"type\": \"Gel Eyeliner\"}, {\"x\": -0.04350201040506363, \"y\": 0.03166038170456886, \"context\": \", and the blunt liner becomes increasingly difficult to keep **sharp**. i think marc jacobs should take a hint from\", \"tokens\": \", and the blunt liner becomes increasingly difficult to keep sharp . i think marc jacobs should take a hint from\", \"word\": \"sharp\", \"stars\": \"3 stars\", \"brand\": \"Marc Jacobs\", \"name\": \"Highliner Gel Eye Crayon Eyeliner\", \"type\": \"Gel Eyeliner\"}, {\"x\": -0.05022774636745453, \"y\": 0.037010423839092255, \"context\": \"forever but this is pure bliss. so soft and **smooth** and lightweight. stays on really well but comes off\", \"tokens\": \"forever but this is pure bliss . so soft and smooth and lightweight . stays on really well but comes off\", \"word\": \"smooth\", \"stars\": \"5 stars\", \"brand\": \"Urban Decay\", \"name\": \"Cannonball Ultra Waterproof Mascara\", \"type\": \"Mascara\"}, {\"x\": -0.05116794630885124, \"y\": -0.027811964973807335, \"context\": \"always dull so it's impossible to make a **clean** precise line with this eyeliner. i'd\", \"tokens\": \"always dull so it ' s impossible to make a clean precise line with this eye ##liner . i ' d\", \"word\": \"clean\", \"stars\": \"3 stars\", \"brand\": \"Marc Jacobs\", \"name\": \"Highliner Gel Eye Crayon Eyeliner\", \"type\": \"Gel Eyeliner\"}, {\"x\": -0.04377441108226776, \"y\": 0.04121101275086403, \"context\": \"one definitely doesn 't. if you need a **sharp**, precise cat eye tool this is not it.\", \"tokens\": \"one definitely doesn ' t . if you need a sharp , precise cat eye tool this is not it .\", \"word\": \"sharp\", \"stars\": \"5 stars\", \"brand\": \"Marc Jacobs\", \"name\": \"Highliner Gel Eye Crayon Eyeliner\", \"type\": \"Gel Eyeliner\"}, {\"x\": -0.04328565299510956, \"y\": 0.04847559705376625, \"context\": \"look that is not overpowering. again, not **sharp** and precise, so it almost delivers an already-\", \"tokens\": \"look that is not over ##powering . again , not sharp and precise , so it almost delivers an already -\", \"word\": \"sharp\", \"stars\": \"5 stars\", \"brand\": \"Marc Jacobs\", \"name\": \"Highliner Gel Eye Crayon Eyeliner\", \"type\": \"Gel Eyeliner\"}, {\"x\": -0.05171668902039528, \"y\": 0.019703742116689682, \"context\": \"i tested the product on my hand it went on **smooth** but when i tried it on my eye as a\", \"tokens\": \"i tested the product on my hand it went on smooth but when i tried it on my eye as a\", \"word\": \"smooth\", \"stars\": \"1 star\", \"brand\": \"Dior\", \"name\": \"Diorshow Waterproof Mascara\", \"type\": \"Mascara\"}, {\"x\": -0.05297138914465904, \"y\": 0.026780368760228157, \"context\": \". it's kind of waxy, not **smooth**, and hard to apply. i would never rep\", \"tokens\": \". it ' s kind of wax ##y , not smooth , and hard to apply . i would never rep\", \"word\": \"smooth\", \"stars\": \"1 star\", \"brand\": \"Too Faced\", \"name\": \"Better Than Sex Mascara\", \"type\": \"Mascara\"}, {\"x\": -0.0525798425078392, \"y\": 0.01826966367661953, \"context\": \"the urban decay black liner as i find this one **smoother** and it lasts longer. the consistency is simply\", \"tokens\": \"the urban decay black liner as i find this one smooth ##er and it lasts longer . the consistency is simply\", \"word\": \"smooth\", \"stars\": \"5 stars\", \"brand\": \"Marc Jacobs\", \"name\": \"Highliner Gel Eye Crayon Eyeliner\", \"type\": \"Gel Eyeliner\"}, {\"x\": -0.05227983370423317, \"y\": 0.029535876587033272, \"context\": \"it is so pigmented and so creamy and so **smooth** and it stays right where you put it! my\", \"tokens\": \"it is so pigment ##ed and so creamy and so smooth and it stays right where you put it ! my\", \"word\": \"smooth\", \"stars\": \"5 stars\", \"brand\": \"Marc Jacobs\", \"name\": \"Highliner Gel Eye Crayon Eyeliner\", \"type\": \"Gel Eyeliner\"}, {\"x\": -0.0524200014770031, \"y\": 0.022590739652514458, \"context\": \"the best eyeliners i have tried; extremely **smooth** application, no tugging, strongly pigmented shades,\", \"tokens\": \"the best eye ##liner ##s i have tried ; extremely smooth application , no tugging , strongly pigment ##ed shades ,\", \"word\": \"smooth\", \"stars\": \"4 stars\", \"brand\": \"Marc Jacobs\", \"name\": \"Highliner Gel Eye Crayon Eyeliner\", \"type\": \"Gel Eyeliner\"}, {\"x\": -0.043609868735075, \"y\": -0.09043847024440765, \"context\": \"help; i was able to rub my eyeliner **clean** off when i'd applied the brand's\", \"tokens\": \"help ; i was able to rub my eye ##liner clean off when i ' d applied the brand ' s\", \"word\": \"clean\", \"stars\": \"4 stars\", \"brand\": \"Marc Jacobs\", \"name\": \"Highliner Gel Eye Crayon Eyeliner\", \"type\": \"Gel Eyeliner\"}, {\"x\": -0.0529148206114769, \"y\": 0.014506544917821884, \"context\": \"rich color, smudgeproof, waterproof, **smooth** application. but when i applied it onto my eyes\", \"tokens\": \"rich color , sm ##udge ##proof , water ##proof , smooth application . but when i applied it onto my eyes\", \"word\": \"smooth\", \"stars\": \"5 stars\", \"brand\": \"Too Faced\", \"name\": \"Better Than Sex Mascara\", \"type\": \"Mascara\"}, {\"x\": -0.04107562452554703, \"y\": 0.035162001848220825, \"context\": \"up. the down fall is that i like a **sharp** tip when doing eyeliner for myself and clients.\", \"tokens\": \"up . the down fall is that i like a sharp tip when doing eye ##liner for myself and clients .\", \"word\": \"sharp\", \"stars\": \"4 stars\", \"brand\": \"Marc Jacobs\", \"name\": \"Highliner Gel Eye Crayon Eyeliner\", \"type\": \"Gel Eyeliner\"}, {\"x\": -0.05175900086760521, \"y\": 0.027582157403230667, \"context\": \"to be the most perfect eyeliner. goes on **smooth**, lasts all day, and is perfect for the\", \"tokens\": \"to be the most perfect eye ##liner . goes on smooth , lasts all day , and is perfect for the\", \"word\": \"smooth\", \"stars\": \"5 stars\", \"brand\": \"Urban Decay\", \"name\": \"Cannonball Ultra Waterproof Mascara\", \"type\": \"Mascara\"}, {\"x\": -0.05095534399151802, \"y\": 0.025138437747955322, \"context\": \"really glide effortlessly onto my eyes and make a gorgeous **smooth** line with opaque color payoff. you can sm\", \"tokens\": \"really glide effortlessly onto my eyes and make a gorgeous smooth line with opaque color pay ##off . you can sm\", \"word\": \"smooth\", \"stars\": \"5 stars\", \"brand\": \"Marc Jacobs\", \"name\": \"Highliner Gel Eye Crayon Eyeliner\", \"type\": \"Gel Eyeliner\"}, {\"x\": -0.05060352012515068, \"y\": 0.024413706734776497, \"context\": \"? i never had to! this liner goes on **smooth**, and stays on! no water line leakage\", \"tokens\": \"? i never had to ! this liner goes on smooth , and stays on ! no water line leak ##age\", \"word\": \"smooth\", \"stars\": \"5 stars\", \"brand\": \"Marc Jacobs\", \"name\": \"Highliner Gel Eye Crayon Eyeliner\", \"type\": \"Gel Eyeliner\"}, {\"x\": -0.049402475357055664, \"y\": -0.044347409158945084, \"context\": \"come pencil are my go to! goes on **cleanly** and feels smooth and glorious oh so easy to\", \"tokens\": \"##com ##e pencil are my go to ! goes on clean ##ly and feels smooth and glorious oh so easy to\", \"word\": \"clean\", \"stars\": \"5 stars\", \"brand\": \"Marc Jacobs\", \"name\": \"Highliner Gel Eye Crayon Eyeliner\", \"type\": \"Gel Eyeliner\"}, {\"x\": -0.05290341377258301, \"y\": 0.021558215841650963, \"context\": \"my go to! goes on cleanly and feels **smooth** and glorious oh so easy to apply. nice,\", \"tokens\": \"my go to ! goes on clean ##ly and feels smooth and glorious oh so easy to apply . nice ,\", \"word\": \"smooth\", \"stars\": \"5 stars\", \"brand\": \"Marc Jacobs\", \"name\": \"Highliner Gel Eye Crayon Eyeliner\", \"type\": \"Gel Eyeliner\"}, {\"x\": -0.04353354871273041, \"y\": 0.03769716992974281, \"context\": \"as i couldn 't get it to be very **sharp**, even at the first try. and because it\", \"tokens\": \"as i couldn ' t get it to be very sharp , even at the first try . and because it\", \"word\": \"sharp\", \"stars\": \"4 stars\", \"brand\": \"Marc Jacobs\", \"name\": \"Highliner Gel Eye Crayon Eyeliner\", \"type\": \"Gel Eyeliner\"}, {\"x\": -0.042401958256959915, \"y\": 0.036838632076978683, \"context\": \"so it's not like it will ever be **sharp** again. so i will keep using my kat von\", \"tokens\": \"so it ' s not like it will ever be sharp again . so i will keep using my kat von\", \"word\": \"sharp\", \"stars\": \"2 stars\", \"brand\": \"Too Faced\", \"name\": \"Hangover Replenishing Face Primer\", \"type\": \"Primer\"}, {\"x\": -0.051399558782577515, \"y\": -0.0463506244122982, \"context\": \"apply-just glides on, looks great and **clean**!! the best eyeliner i have ever used\", \"tokens\": \"apply - just glide ##s on , looks great and clean ! ! the best eye ##liner i have ever used\", \"word\": \"clean\", \"stars\": \"5 stars\", \"brand\": \"FENTY BEAUTY BY RIHANNA\", \"name\": \"Flyliner Longwear Liquid Eyeliner\", \"type\": \"Liquid Eyeliner\"}, {\"x\": -0.053364790976047516, \"y\": 0.02093620039522648, \"context\": \"perfectly. it applies in seconds and goes on so **smooth**-the best eyeliner ever and i have tried\", \"tokens\": \"perfectly . it applies in seconds and goes on so smooth - the best eye ##liner ever and i have tried\", \"word\": \"smooth\", \"stars\": \"5 stars\", \"brand\": \"Marc Jacobs\", \"name\": \"Highliner Gel Eye Crayon Eyeliner\", \"type\": \"Gel Eyeliner\"}, {\"x\": -0.05025621876120567, \"y\": 0.029885610565543175, \"context\": \"had hopes for an awesome black liner that goes on **smooth** and stays put in a true black. it glide\", \"tokens\": \"had hopes for an awesome black liner that goes on smooth and stays put in a true black . it glide\", \"word\": \"smooth\", \"stars\": \"1 star\", \"brand\": \"Marc Jacobs\", \"name\": \"Highliner Gel Eye Crayon Eyeliner\", \"type\": \"Gel Eyeliner\"}, {\"x\": -0.05297884717583656, \"y\": 0.03045697696506977, \"context\": \"liner i 've ever tried, but it so **smooth** and creamy. goes on easy and stays put!\", \"tokens\": \"liner i ' ve ever tried , but it so smooth and creamy . goes on easy and stays put !\", \"word\": \"smooth\", \"stars\": \"5 stars\", \"brand\": \"Too Faced\", \"name\": \"Better Than Sex Waterproof Mascara\", \"type\": \"Mascara\"}, {\"x\": -0.05203871801495552, \"y\": 0.03710833936929703, \"context\": \"a waterliner. this pencil has a great, **smooth** glassy texture and goes on beautifully. that said\", \"tokens\": \"a water ##liner . this pencil has a great , smooth glass ##y texture and goes on beautifully . that said\", \"word\": \"smooth\", \"stars\": \"4 stars\", \"brand\": \"Marc Jacobs\", \"name\": \"Highliner Gel Eye Crayon Eyeliner\", \"type\": \"Gel Eyeliner\"}, {\"x\": -0.043471209704875946, \"y\": 0.04582284763455391, \"context\": \"4 stars because it does not have a precise, **sharp** tip; it is more rounded, therefore, when\", \"tokens\": \"4 stars because it does not have a precise , sharp tip ; it is more rounded , therefore , when\", \"word\": \"sharp\", \"stars\": \"4 stars\", \"brand\": \"Marc Jacobs\", \"name\": \"Highliner Gel Eye Crayon Eyeliner\", \"type\": \"Gel Eyeliner\"}, {\"x\": -0.05265839025378227, \"y\": 0.023741351440548897, \"context\": \"very easy to smudge. the application was very **smooth** with barely any pressure added. i did my makeup\", \"tokens\": \"very easy to sm ##udge . the application was very smooth with barely any pressure added . i did my makeup\", \"word\": \"smooth\", \"stars\": \"4 stars\", \"brand\": \"Marc Jacobs\", \"name\": \"Highliner Gel Eye Crayon Eyeliner\", \"type\": \"Gel Eyeliner\"}, {\"x\": -0.05130627751350403, \"y\": 0.025021091103553772, \"context\": \"lacquer and by far it is the **smoothest** black that glides on opaque in one stroke\", \"tokens\": \"##la ##c ##que ##r and by far it is the smooth ##est black that glide ##s on opaque in one stroke\", \"word\": \"smooth\", \"stars\": \"5 stars\", \"brand\": \"Marc Jacobs\", \"name\": \"Highliner Gel Eye Crayon Eyeliner\", \"type\": \"Gel Eyeliner\"}, {\"x\": -0.04203380271792412, \"y\": 0.04003047198057175, \"context\": \"lash line. it doesn 't get quite as **sharp** as i would prefer, but i 'm willing\", \"tokens\": \"lash line . it doesn ' t get quite as sharp as i would prefer , but i ' m willing\", \"word\": \"sharp\", \"stars\": \"5 stars\", \"brand\": \"Marc Jacobs\", \"name\": \"Highliner Gel Eye Crayon Eyeliner\", \"type\": \"Gel Eyeliner\"}, {\"x\": -0.053655900061130524, \"y\": 0.02663574367761612, \"context\": \"is a twist kind, and goes on so silky **smooth**, but at the same time stays put. i\", \"tokens\": \"is a twist kind , and goes on so silky smooth , but at the same time stays put . i\", \"word\": \"smooth\", \"stars\": \"5 stars\", \"brand\": \"Marc Jacobs\", \"name\": \"Highliner Gel Eye Crayon Eyeliner\", \"type\": \"Gel Eyeliner\"}, {\"x\": -0.05039798840880394, \"y\": 0.032764434814453125, \"context\": \"its convenient and easy to apply. it goes on **smooth** like a pencil, doesnt snag the\", \"tokens\": \"its convenient and easy to apply . it goes on smooth like a pencil , doesn ##t s ##na ##g the\", \"word\": \"smooth\", \"stars\": \"4 stars\", \"brand\": \"Marc Jacobs\", \"name\": \"Highliner Gel Eye Crayon Eyeliner\", \"type\": \"Gel Eyeliner\"}, {\"x\": -0.04634493589401245, \"y\": -0.013529382646083832, \"context\": \"chunks or break and fall off. this eyeliner **smooths** on easily and wears without smudging all\", \"tokens\": \"chunks or break and fall off . this eye ##liner smooth ##s on easily and wears without sm ##ud ##ging all\", \"word\": \"smooth\", \"stars\": \"5 stars\", \"brand\": \"Marc Jacobs\", \"name\": \"Highliner Gel Eye Crayon Eyeliner\", \"type\": \"Gel Eyeliner\"}, {\"x\": -0.04125034436583519, \"y\": -0.08863191306591034, \"context\": \"it has to go on smoothly, be easy to **clean** up mistakes, and it has to have longevity.\", \"tokens\": \"it has to go on smoothly , be easy to clean up mistakes , and it has to have longevity .\", \"word\": \"clean\", \"stars\": \"5 stars\", \"brand\": \"Marc Jacobs\", \"name\": \"Highliner Gel Eye Crayon Eyeliner\", \"type\": \"Gel Eyeliner\"}, {\"x\": -0.041166119277477264, \"y\": 0.033219583332538605, \"context\": \"great idea, and when used correctly, produces a **sharp** point for precision. but i find the product will\", \"tokens\": \"great idea , and when used correctly , produces a sharp point for precision . but i find the product will\", \"word\": \"sharp\", \"stars\": \"4 stars\", \"brand\": \"Marc Jacobs\", \"name\": \"Highliner Gel Eye Crayon Eyeliner\", \"type\": \"Gel Eyeliner\"}, {\"x\": -0.05150815472006798, \"y\": 0.02502567693591118, \"context\": \". i wore earthquake in my waterline it so **smooth** like butter it didn 't flake or rub\", \"tokens\": \". i wore earthquake in my water ##line it so smooth like butter it didn ' t fl ##ake or rub\", \"word\": \"smooth\", \"stars\": \"5 stars\", \"brand\": \"Marc Jacobs\", \"name\": \"Highliner Gel Eye Crayon Eyeliner\", \"type\": \"Gel Eyeliner\"}, {\"x\": -0.05194634199142456, \"y\": 0.032535698264837265, \"context\": \"berry. what a fantastic eyeliner! goes on **smooth**, quick and creamy. i have extremely sensitive eyes\", \"tokens\": \"##berry . what a fantastic eye ##liner ! goes on smooth , quick and creamy . i have extremely sensitive eyes\", \"word\": \"smooth\", \"stars\": \"5 stars\", \"brand\": \"Marc Jacobs\", \"name\": \"Highliner Gel Eye Crayon Eyeliner\", \"type\": \"Gel Eyeliner\"}, {\"x\": -0.041776519268751144, \"y\": 0.03914320841431618, \"context\": \"it's pretty good. however, keeping it **sharp** is impossible. the little **sharpener** at the end\", \"tokens\": \"it ' s pretty good . however , keeping it sharp is impossible . the little sharpe ##ner at the end\", \"word\": \"sharp\", \"stars\": \"3 stars\", \"brand\": \"Marc Jacobs\", \"name\": \"Highliner Gel Eye Crayon Eyeliner\", \"type\": \"Gel Eyeliner\"}, {\"x\": -0.049206990748643875, \"y\": 0.034571919590234756, \"context\": \"of my night out. it glides on super **smooth** and leaves little room for error. that's\", \"tokens\": \"of my night out . it glide ##s on super smooth and leaves little room for error . that ' s\", \"word\": \"smooth\", \"stars\": \"5 stars\", \"brand\": \"Marc Jacobs\", \"name\": \"Highliner Gel Eye Crayon Eyeliner\", \"type\": \"Gel Eyeliner\"}, {\"x\": -0.05213326960802078, \"y\": 0.01832137070596218, \"context\": \"on my wrist. wow, the pigment and the **smoothness** were amazing. when i tried it on my\", \"tokens\": \"on my wrist . wow , the pigment and the smooth ##ness were amazing . when i tried it on my\", \"word\": \"smooth\", \"stars\": \"4 stars\", \"brand\": \"Marc Jacobs\", \"name\": \"Highliner Gel Eye Crayon Eyeliner\", \"type\": \"Gel Eyeliner\"}, {\"x\": -0.052396509796381, \"y\": 0.03671285882592201, \"context\": \"have it. easy application-it goes on so **smooth**, no tugging at the skin. the formula also\", \"tokens\": \"have it . easy application - it goes on so smooth , no tugging at the skin . the formula also\", \"word\": \"smooth\", \"stars\": \"5 stars\", \"brand\": \"Marc Jacobs\", \"name\": \"Highliner Gel Eye Crayon Eyeliner\", \"type\": \"Gel Eyeliner\"}, {\"x\": -0.050345733761787415, \"y\": -0.05706539377570152, \"context\": \"take it off. it is difficult to get a **clean** line but with a brush you can smooth it out\", \"tokens\": \"take it off . it is difficult to get a clean line but with a brush you can smooth it out\", \"word\": \"clean\", \"stars\": \"4 stars\", \"brand\": \"Marc Jacobs\", \"name\": \"Highliner Gel Eye Crayon Eyeliner\", \"type\": \"Gel Eyeliner\"}, {\"x\": -0.0478384792804718, \"y\": -0.052531346678733826, \"context\": \"get a clean line but with a brush you can **smooth** it out quickly before it dries ( do one\", \"tokens\": \"get a clean line but with a brush you can smooth it out quickly before it dr ##ies ( do one\", \"word\": \"smooth\", \"stars\": \"4 stars\", \"brand\": \"Marc Jacobs\", \"name\": \"Highliner Gel Eye Crayon Eyeliner\", \"type\": \"Gel Eyeliner\"}, {\"x\": -0.05138847604393959, \"y\": 0.025100577622652054, \"context\": \". it's absolutely wonderful. it goes on **smooth** and creamy. it also smudges wonderfully\", \"tokens\": \". it ' s absolutely wonderful . it goes on smooth and creamy . it also sm ##udge ##s wonderful ##ly\", \"word\": \"smooth\", \"stars\": \"5 stars\", \"brand\": \"Marc Jacobs\", \"name\": \"Highliner Gel Eye Crayon Eyeliner\", \"type\": \"Gel Eyeliner\"}, {\"x\": -0.042549122124910355, \"y\": 0.021563943475484848, \"context\": \"no furious scrubbing needed. if you need a **sharp** tip for thin lines, just use the **sharpener**\", \"tokens\": \"no furious scrub ##bing needed . if you need a sharp tip for thin lines , just use the sharpe ##ner\", \"word\": \"sharp\", \"stars\": \"5 stars\", \"brand\": \"Marc Jacobs\", \"name\": \"Highliner Gel Eye Crayon Eyeliner\", \"type\": \"Gel Eyeliner\"}, {\"x\": -0.04742306470870972, \"y\": 0.032039765268564224, \"context\": \"i am an eye pencil junkie and this is **smooth** long wearing and a vibrant color when i opened the\", \"tokens\": \"i am an eye pencil junk ##ie and this is smooth long wearing and a vibrant color when i opened the\", \"word\": \"smooth\", \"stars\": \"5 stars\", \"brand\": \"Marc Jacobs\", \"name\": \"Highliner Gel Eye Crayon Eyeliner\", \"type\": \"Gel Eyeliner\"}, {\"x\": -0.05219903215765953, \"y\": 0.03799404948949814, \"context\": \"ging or fading. it glides on, so **smooth** and easily. i will for sure buy again.\", \"tokens\": \"##ging or fading . it glide ##s on , so smooth and easily . i will for sure buy again .\", \"word\": \"smooth\", \"stars\": \"5 stars\", \"brand\": \"Marc Jacobs\", \"name\": \"Highliner Gel Eye Crayon Eyeliner\", \"type\": \"Gel Eyeliner\"}, {\"x\": -0.051536716520786285, \"y\": 0.03218282014131546, \"context\": \"although a bit pricey, it glides on **smooth** and doesn 't smudge easily. i '\", \"tokens\": \"although a bit price ##y , it glide ##s on smooth and doesn ' t sm ##udge easily . i '\", \"word\": \"smooth\", \"stars\": \"5 stars\", \"brand\": \"Too Faced\", \"name\": \"Better Than Sex Mascara\", \"type\": \"Mascara\"}, {\"x\": -0.05075728893280029, \"y\": 0.01723414473235607, \"context\": \"try it on my eyes, it went on really **smooth** and it felt great! i was able to accidentally\", \"tokens\": \"try it on my eyes , it went on really smooth and it felt great ! i was able to accidentally\", \"word\": \"smooth\", \"stars\": \"5 stars\", \"brand\": \"Marc Jacobs\", \"name\": \"Highliner Gel Eye Crayon Eyeliner\", \"type\": \"Gel Eyeliner\"}, {\"x\": -0.0430031381547451, \"y\": 0.030628733336925507, \"context\": \"m wasting alot of product trying to make a **sharp** point since i like to apply my eyeliner in\", \"tokens\": \"m wasting al ##ot of product trying to make a sharp point since i like to apply my eye ##liner in\", \"word\": \"sharp\", \"stars\": \"2 stars\", \"brand\": \"Marc Jacobs\", \"name\": \"Highliner Gel Eye Crayon Eyeliner\", \"type\": \"Gel Eyeliner\"}, {\"x\": -0.053501028567552567, \"y\": 0.02391653135418892, \"context\": \"at first i loved this eyeliner, went on **smooth**, highly pigmented, good staying power. but\", \"tokens\": \"at first i loved this eye ##liner , went on smooth , highly pigment ##ed , good staying power . but\", \"word\": \"smooth\", \"stars\": \"5 stars\", \"brand\": \"Too Faced\", \"name\": \"Better Than Sex Mascara\", \"type\": \"Mascara\"}, {\"x\": -0.05197916179895401, \"y\": 0.020708970725536346, \"context\": \"on the back of my hand, i admired the **smoothness** and staying power-this would not budge.\", \"tokens\": \"on the back of my hand , i admired the smooth ##ness and staying power - this would not budge .\", \"word\": \"smooth\", \"stars\": \"2 stars\", \"brand\": \"Marc Jacobs\", \"name\": \"Highliner Gel Eye Crayon Eyeliner\", \"type\": \"Gel Eyeliner\"}, {\"x\": -0.04411468282341957, \"y\": 0.043389420956373215, \"context\": \"gliding of the pencil. the point is not very **sharp** so it was hard to get a nice, **sharp**\", \"tokens\": \"gliding of the pencil . the point is not very sharp so it was hard to get a nice , sharp\", \"word\": \"sharp\", \"stars\": \"1 star\", \"brand\": \"Too Faced\", \"name\": \"Better Than Sex Waterproof Mascara\", \"type\": \"Mascara\"}, {\"x\": -0.046415966004133224, \"y\": 0.04281719774007797, \"context\": \"**sharp** so it was hard to get a nice, **sharp**, defined line. smudging or blending the\", \"tokens\": \"sharp so it was hard to get a nice , sharp , defined line . sm ##ud ##ging or blending the\", \"word\": \"sharp\", \"stars\": \"1 star\", \"brand\": \"Marc Jacobs\", \"name\": \"Highliner Gel Eye Crayon Eyeliner\", \"type\": \"Gel Eyeliner\"}, {\"x\": -0.03882824629545212, \"y\": 0.03266387805342674, \"context\": \"tiny bit off the sides but did not give the **sharp** point i wanted. this is why i knocked off\", \"tokens\": \"tiny bit off the sides but did not give the sharp point i wanted . this is why i knocked off\", \"word\": \"sharp\", \"stars\": \"5 stars\", \"brand\": \"Too Faced\", \"name\": \"Better Than Sex Mascara\", \"type\": \"Mascara\"}, {\"x\": -0.05134319141507149, \"y\": 0.013076119124889374, \"context\": \"it no other eyeliner that can compare to the **smooth** pigmentation and smudge-proof staying power of\", \"tokens\": \"##it no other eye ##liner that can compare to the smooth pigment ##ation and sm ##udge - proof staying power of\", \"word\": \"smooth\", \"stars\": \"5 stars\", \"brand\": \"Marc Jacobs\", \"name\": \"Highliner Gel Eye Crayon Eyeliner\", \"type\": \"Gel Eyeliner\"}, {\"x\": -0.05146346986293793, \"y\": 0.019008932635188103, \"context\": \"bought a full sized one the next day! so **smooth**, so creamy, long lasting, does not sm\", \"tokens\": \"bought a full sized one the next day ! so smooth , so creamy , long lasting , does not sm\", \"word\": \"smooth\", \"stars\": \"5 stars\", \"brand\": \"Marc Jacobs\", \"name\": \"Highliner Gel Eye Crayon Eyeliner\", \"type\": \"Gel Eyeliner\"}, {\"x\": -0.04320492967963219, \"y\": 0.04379509761929512, \"context\": \"of automatic pencils, the tip just never got **sharp** enough to be as fine and precise as i prefer\", \"tokens\": \"of automatic pencil ##s , the tip just never got sharp enough to be as fine and precise as i prefer\", \"word\": \"sharp\", \"stars\": \"2 stars\", \"brand\": \"Marc Jacobs\", \"name\": \"Highliner Gel Eye Crayon Eyeliner\", \"type\": \"Gel Eyeliner\"}, {\"x\": -0.051993731409311295, \"y\": 0.03155027702450752, \"context\": \"to get more to come out. very easy and **smooth**. love the eyeliners super happy i got\", \"tokens\": \"to get more to come out . very easy and smooth . love the eye ##liner ##s super happy i got\", \"word\": \"smooth\", \"stars\": \"1 star\", \"brand\": \"Too Faced\", \"name\": \"Better Than Sex Waterproof Mascara\", \"type\": \"Mascara\"}, {\"x\": -0.05312413349747658, \"y\": 0.02474850043654442, \"context\": \".... inner and outer eye. so **smooth** to put on. i was worried the pencil would\", \"tokens\": \". . . . inner and outer eye . so smooth to put on . i was worried the pencil would\", \"word\": \"smooth\", \"stars\": \"5 stars\", \"brand\": \"Marc Jacobs\", \"name\": \"Highliner Gel Eye Crayon Eyeliner\", \"type\": \"Gel Eyeliner\"}, {\"x\": -0.042709339410066605, \"y\": -0.1100703552365303, \"context\": \"dries, you 'll need remover to **clean** it up. \\u2026 read more i tried several of\", \"tokens\": \"dr ##ies , you ' ll need remove ##r to clean it up . \\u2026 read more i tried several of\", \"word\": \"clean\", \"stars\": null, \"brand\": null, \"name\": null, \"type\": null}, {\"x\": -0.04510904848575592, \"y\": 0.03931702673435211, \"context\": \"hard to apply. the tip isn 't very **sharp** too, so it's harder to control,\", \"tokens\": \"hard to apply . the tip isn ' t very sharp too , so it ' s harder to control ,\", \"word\": \"sharp\", \"stars\": \"4 stars\", \"brand\": \"Marc Jacobs\", \"name\": \"Highliner Gel Eye Crayon Eyeliner\", \"type\": \"Gel Eyeliner\"}, {\"x\": -0.04460487887263298, \"y\": 0.02316788025200367, \"context\": \", and it is very hard to me to make **sharp** thin lines. if you mess up, you better\", \"tokens\": \", and it is very hard to me to make sharp thin lines . if you mess up , you better\", \"word\": \"sharp\", \"stars\": \"4 stars\", \"brand\": \"Marc Jacobs\", \"name\": \"Highliner Gel Eye Crayon Eyeliner\", \"type\": \"Gel Eyeliner\"}, {\"x\": -0.04399602860212326, \"y\": -0.10771957784891129, \"context\": \"thin lines. if you mess up, you better **clean** it up right away, if not you would have\", \"tokens\": \"thin lines . if you mess up , you better clean it up right away , if not you would have\", \"word\": \"clean\", \"stars\": \"4 stars\", \"brand\": \"Marc Jacobs\", \"name\": \"Highliner Gel Eye Crayon Eyeliner\", \"type\": \"Gel Eyeliner\"}, {\"x\": -0.05006714537739754, \"y\": 0.04084949567914009, \"context\": \"it was easier to apply. glides on incredibly **smooth**. could not believe how long wearing! very easy\", \"tokens\": \"it was easier to apply . glide ##s on incredibly smooth . could not believe how long wearing ! very easy\", \"word\": \"smooth\", \"stars\": \"5 stars\", \"brand\": \"Marc Jacobs\", \"name\": \"Highliner Gel Eye Crayon Eyeliner\", \"type\": \"Gel Eyeliner\"}, {\"x\": -0.052747368812561035, \"y\": 0.027212830260396004, \"context\": \"awesome about this is that it really does have that **smooth**, silky feel that you get from a gel pot\", \"tokens\": \"awesome about this is that it really does have that smooth , silky feel that you get from a gel pot\", \"word\": \"smooth\", \"stars\": \"5 stars\", \"brand\": \"Marc Jacobs\", \"name\": \"Highliner Gel Eye Crayon Eyeliner\", \"type\": \"Gel Eyeliner\"}, {\"x\": -0.04683716222643852, \"y\": -0.08914674818515778, \"context\": \"don 't need to use a brush ( and **clean** the brush ). i especially love that when i\", \"tokens\": \"don ' t need to use a brush ( and clean the brush ) . i especially love that when i\", \"word\": \"clean\", \"stars\": \"5 stars\", \"brand\": \"Too Faced\", \"name\": \"Better Than Sex Mascara\", \"type\": \"Mascara\"}, {\"x\": -0.04473111033439636, \"y\": 0.04689380154013634, \"context\": \"a staple in my makeup collection. it's **sharp**, easy to use, and doesn 't sm\", \"tokens\": \"a staple in my makeup collection . it ' s sharp , easy to use , and doesn ' t sm\", \"word\": \"sharp\", \"stars\": \"5 stars\", \"brand\": \"Marc Jacobs\", \"name\": \"Highliner Gel Eye Crayon Eyeliner\", \"type\": \"Gel Eyeliner\"}, {\"x\": -0.05251922085881233, \"y\": 0.02693050168454647, \"context\": \"stretching my eyelid. this eyeliner is so **smooth** that i don 't need to stretch my lid\", \"tokens\": \"stretching my eye ##lid . this eye ##liner is so smooth that i don ' t need to stretch my lid\", \"word\": \"smooth\", \"stars\": \"1 star\", \"brand\": \"Too Faced\", \"name\": \"Better Than Sex Mascara\", \"type\": \"Mascara\"}, {\"x\": -0.039657652378082275, \"y\": -0.10848681628704071, \"context\": \"do make a mistake, it's easy to **clean** up with some make-up remover and a\", \"tokens\": \"do make a mistake , it ' s easy to clean up with some make - up remove ##r and a\", \"word\": \"clean\", \"stars\": \"2 stars\", \"brand\": \"Too Faced\", \"name\": \"Better Than Sex Waterproof Mascara\", \"type\": \"Mascara\"}, {\"x\": -0.05265355855226517, \"y\": 0.024606281891465187, \"context\": \"weather or work outs. the product is great and **smooth** when you first purchase it, but shortly after th\", \"tokens\": \"weather or work outs . the product is great and smooth when you first purchase it , but shortly after th\", \"word\": \"smooth\", \"stars\": \"1 star\", \"brand\": \"Too Faced\", \"name\": \"Better Than Sex Mascara\", \"type\": \"Mascara\"}, {\"x\": -0.0533616803586483, \"y\": 0.029403656721115112, \"context\": \"believe how good it looks! it's very **smooth** and not too runny which i love the most\", \"tokens\": \"believe how good it looks ! it ' s very smooth and not too run ##ny which i love the most\", \"word\": \"smooth\", \"stars\": \"5 stars\", \"brand\": \"Kat Von D\", \"name\": \"Tattoo Liner\", \"type\": \"Liquid Eyeliner\"}, {\"x\": -0.04335709661245346, \"y\": 0.03402755782008171, \"context\": \"to this pen is awesome. i could get a **sharp** line with it, and it was really easy to\", \"tokens\": \"to this pen is awesome . i could get a sharp line with it , and it was really easy to\", \"word\": \"sharp\", \"stars\": \"1 star\", \"brand\": \"Too Faced\", \"name\": \"Better Than Sex Mascara\", \"type\": \"Mascara\"}, {\"x\": -0.05362324044108391, \"y\": 0.03435700759291649, \"context\": \"will smudge. however the brush tip is amazingly **smooth** and totally unique. but for someone with oily\", \"tokens\": \"will sm ##udge . however the brush tip is amazingly smooth and totally unique . but for someone with oil ##y\", \"word\": \"smooth\", \"stars\": \"4 stars\", \"brand\": \"Kat Von D\", \"name\": \"Tattoo Liner\", \"type\": \"Liquid Eyeliner\"}, {\"x\": -0.043915003538131714, \"y\": -0.0955331027507782, \"context\": \"takes itself off as you apply. i have to **clean** the brush off before and during application in order to\", \"tokens\": \"takes itself off as you apply . i have to clean the brush off before and during application in order to\", \"word\": \"clean\", \"stars\": \"1 star\", \"brand\": \"Kat Von D\", \"name\": \"Tattoo Liner\", \"type\": \"Liquid Eyeliner\"}, {\"x\": -0.04569798335433006, \"y\": 0.04875509813427925, \"context\": \"in eyeliner looks seamless. i love a **sharp** precise outer wing but sometimes it's difficult to\", \"tokens\": \"in eye ##liner looks seam ##less . i love a sharp precise outer wing but sometimes it ' s difficult to\", \"word\": \"sharp\", \"stars\": \"5 stars\", \"brand\": \"Kat Von D\", \"name\": \"Tattoo Liner\", \"type\": \"Liquid Eyeliner\"}, {\"x\": -0.040178898721933365, \"y\": 0.040014948695898056, \"context\": \"work with, and my wing was sooo freaking **sharp**. if i wanted to, i could go out\", \"tokens\": \"work with , and my wing was soo ##o freaking sharp . if i wanted to , i could go out\", \"word\": \"sharp\", \"stars\": \"5 stars\", \"brand\": \"Kat Von D\", \"name\": \"Tattoo Liner\", \"type\": \"Liquid Eyeliner\"}, {\"x\": -0.0398579016327858, \"y\": 0.039507340639829636, \"context\": \"use my wing to cut it. thats how **sharp** it is. you know those memes where it\", \"tokens\": \"use my wing to cut it . that ##s how sharp it is . you know those me ##mes where it\", \"word\": \"sharp\", \"stars\": \"5 stars\", \"brand\": \"Kat Von D\", \"name\": \"Tattoo Liner\", \"type\": \"Liquid Eyeliner\"}, {\"x\": -0.04667231813073158, \"y\": 0.04802393540740013, \"context\": \"anymore. my eyeliner comes out deep black, **sharp**, and perfect literally every single time. i popped\", \"tokens\": \"anymore . my eye ##liner comes out deep black , sharp , and perfect literally every single time . i popped\", \"word\": \"sharp\", \"stars\": \"5 stars\", \"brand\": \"Kat Von D\", \"name\": \"Tattoo Liner\", \"type\": \"Liquid Eyeliner\"}, {\"x\": -0.05060240253806114, \"y\": -0.04270277917385101, \"context\": \"find a great liquid liner to help me master a **clean**, cat eye or \\\"wing \\\"in a flash\", \"tokens\": \"find a great liquid liner to help me master a clean , cat eye or \\\" wing \\\" in a flash\", \"word\": \"clean\", \"stars\": \"5 stars\", \"brand\": \"Kat Von D\", \"name\": \"Tattoo Liner\", \"type\": \"Liquid Eyeliner\"}, {\"x\": -0.050706010311841965, \"y\": -0.032646503299474716, \"context\": \"i was ready to wash it off. beautiful, **clean**, and easy application that won 't disa\", \"tokens\": \"i was ready to wash it off . beautiful , clean , and easy application that won ' t di ##sa\", \"word\": \"clean\", \"stars\": \"5 stars\", \"brand\": \"FENTY BEAUTY BY RIHANNA\", \"name\": \"Flyliner Longwear Liquid Eyeliner\", \"type\": \"Liquid Eyeliner\"}, {\"x\": -0.051538389176130295, \"y\": 0.026006730273365974, \"context\": \"i like the applicator better. it is **smoother** on application and the tip bends just right without\", \"tokens\": \"i like the app ##lica ##tor better . it is smooth ##er on application and the tip bends just right without\", \"word\": \"smooth\", \"stars\": \"1 star\", \"brand\": \"Too Faced\", \"name\": \"Better Than Sex Mascara\", \"type\": \"Mascara\"}, {\"x\": -0.047205567359924316, \"y\": 0.043233852833509445, \"context\": \"and so easy to use. the felt tip is **sharp** and the formula is not too dry or liquidi\", \"tokens\": \"and so easy to use . the felt tip is sharp and the formula is not too dry or liquid ##i\", \"word\": \"sharp\", \"stars\": \"5 stars\", \"brand\": \"Kat Von D\", \"name\": \"Tattoo Liner\", \"type\": \"Liquid Eyeliner\"}, {\"x\": -0.04898017644882202, \"y\": -0.05255313962697983, \"context\": \"perf... i can really get a **clean** cat eye. but... it dries\", \"tokens\": \"per ##f . . . i can really get a clean cat eye . but . . . it dr ##ies\", \"word\": \"clean\", \"stars\": \"1 star\", \"brand\": \"Kat Von D\", \"name\": \"Tattoo Liner\", \"type\": \"Liquid Eyeliner\"}, {\"x\": -0.051378797739744186, \"y\": 0.04146789014339447, \"context\": \"perfect wing each time. it glides on very **smooth**, doesn 't flake and stays on all\", \"tokens\": \"perfect wing each time . it glide ##s on very smooth , doesn ' t fl ##ake and stays on all\", \"word\": \"smooth\", \"stars\": \"5 stars\", \"brand\": \"Too Faced\", \"name\": \"Better Than Sex Mascara\", \"type\": \"Mascara\"}, {\"x\": -0.044205404818058014, \"y\": 0.047692153602838516, \"context\": \") also, the lines this makes are nice and **sharp**. the only thing i have found that makes **sharpe**\", \"tokens\": \") also , the lines this makes are nice and sharp . the only thing i have found that makes sharpe\", \"word\": \"sharp\", \"stars\": \"1 star\", \"brand\": \"Too Faced\", \"name\": \"Hangover Replenishing Face Primer\", \"type\": \"Primer\"}, {\"x\": -0.04900870844721794, \"y\": -0.0606551431119442, \"context\": \"used to apply my toner ( i use the **clean** side ). whenever it starts to get dry i\", \"tokens\": \"used to apply my tone ##r ( i use the clean side ) . whenever it starts to get dry i\", \"word\": \"clean\", \"stars\": \"5 stars\", \"brand\": \"Kat Von D\", \"name\": \"Tattoo Liner\", \"type\": \"Liquid Eyeliner\"}, {\"x\": -0.05402572825551033, \"y\": 0.027432674542069435, \"context\": \"best online. i was expecting the application to be **smooth** and pigmented but when i tried it the first\", \"tokens\": \"best online . i was expecting the application to be smooth and pigment ##ed but when i tried it the first\", \"word\": \"smooth\", \"stars\": \"5 stars\", \"brand\": \"Marc Jacobs\", \"name\": \"Highliner Gel Eye Crayon Eyeliner\", \"type\": \"Gel Eyeliner\"}, {\"x\": -0.051117174327373505, \"y\": -0.03980270400643349, \"context\": \"easier. it glides on easily and looks really **clean**. i 've received so many compliments on\", \"tokens\": \"easier . it glide ##s on easily and looks really clean . i ' ve received so many compliment ##s on\", \"word\": \"clean\", \"stars\": \"5 stars\", \"brand\": \"Kat Von D\", \"name\": \"Tattoo Liner\", \"type\": \"Liquid Eyeliner\"}, {\"x\": -0.05021589249372482, \"y\": -0.019600441679358482, \"context\": \"can get a really deep, dark line with a **clean** edge. it's also no joke when it\", \"tokens\": \"can get a really deep , dark line with a clean edge . it ' s also no joke when it\", \"word\": \"clean\", \"stars\": \"5 stars\", \"brand\": \"Kat Von D\", \"name\": \"Tattoo Liner\", \"type\": \"Liquid Eyeliner\"}, {\"x\": -0.041813287883996964, \"y\": -0.10755016654729843, \"context\": \"get it started again, and then i have to **clean** off my hand with make-up remover.\", \"tokens\": \"get it started again , and then i have to clean off my hand with make - up remove ##r .\", \"word\": \"clean\", \"stars\": \"5 stars\", \"brand\": \"Marc Jacobs\", \"name\": \"Highliner Gel Eye Crayon Eyeliner\", \"type\": \"Gel Eyeliner\"}, {\"x\": -0.0525144562125206, \"y\": 0.027690673246979713, \"context\": \"and i 'm obsessed. it goes on so **smooth** and last for hrs. will never try any\", \"tokens\": \"and i ' m obsessed . it goes on so smooth and last for hr ##s . will never try any\", \"word\": \"smooth\", \"stars\": \"5 stars\", \"brand\": \"Kat Von D\", \"name\": \"Tattoo Liner\", \"type\": \"Liquid Eyeliner\"}, {\"x\": -0.05230279266834259, \"y\": 0.029294880107045174, \"context\": \"it so i run it dry. it is a **smooth** application and would be great for beginners to liquid\", \"tokens\": \"it so i run it dry . it is a smooth application and would be great for begin ##ners to liquid\", \"word\": \"smooth\", \"stars\": \"1 star\", \"brand\": \"Dior\", \"name\": \"Diorshow Waterproof Mascara\", \"type\": \"Mascara\"}, {\"x\": -0.05067840963602066, \"y\": 0.022190392017364502, \"context\": \"as a perk and loved it! goes on **smooth** with lots of control and is very long wearing!\", \"tokens\": \"as a per ##k and loved it ! goes on smooth with lots of control and is very long wearing !\", \"word\": \"smooth\", \"stars\": \"4 stars\", \"brand\": \"Kat Von D\", \"name\": \"Tattoo Liner\", \"type\": \"Liquid Eyeliner\"}, {\"x\": -0.05015335977077484, \"y\": -0.01040174625813961, \"context\": \"...? \\u2026 read more love it. **clean**, sharp tip, no smudge with long-\", \"tokens\": \". . . ? \\u2026 read more love it . clean , sharp tip , no sm ##udge with long -\", \"word\": \"clean\", \"stars\": \"5 stars\", \"brand\": \"Kat Von D\", \"name\": \"Tattoo Liner\", \"type\": \"Liquid Eyeliner\"}, {\"x\": -0.045276835560798645, \"y\": 0.03612450510263443, \"context\": \".? \\u2026 read more love it. clean, **sharp** tip, no smudge with long-wearing power\", \"tokens\": \". ? \\u2026 read more love it . clean , sharp tip , no sm ##udge with long - wearing power\", \"word\": \"sharp\", \"stars\": \"5 stars\", \"brand\": \"Kat Von D\", \"name\": \"Tattoo Liner\", \"type\": \"Liquid Eyeliner\"}, {\"x\": -0.05061395466327667, \"y\": -0.03416747599840164, \"context\": \"liner has a brush tip which is perfect for a **clean** precise look. comparing it to the stila liquid\", \"tokens\": \"liner has a brush tip which is perfect for a clean precise look . comparing it to the stil ##a liquid\", \"word\": \"clean\", \"stars\": \"4 stars\", \"brand\": \"Kat Von D\", \"name\": \"Tattoo Liner\", \"type\": \"Liquid Eyeliner\"}, {\"x\": -0.05143563449382782, \"y\": 0.012838099151849747, \"context\": \"in korea. can 't go wrong. creates **smooth** clean lines for the perfect cat eye. after using\", \"tokens\": \"in korea . can ' t go wrong . creates smooth clean lines for the perfect cat eye . after using\", \"word\": \"smooth\", \"stars\": \"5 stars\", \"brand\": \"Kat Von D\", \"name\": \"Tattoo Liner\", \"type\": \"Liquid Eyeliner\"}, {\"x\": -0.049804579466581345, \"y\": -0.030558228492736816, \"context\": \"korea. can 't go wrong. creates smooth **clean** lines for the perfect cat eye. after using this\", \"tokens\": \"korea . can ' t go wrong . creates smooth clean lines for the perfect cat eye . after using this\", \"word\": \"clean\", \"stars\": \"5 stars\", \"brand\": \"Too Faced\", \"name\": \"Better Than Sex Mascara\", \"type\": \"Mascara\"}, {\"x\": -0.049219269305467606, \"y\": 0.036740198731422424, \"context\": \"one takes the cake!! it goes on so **smooth** and lasts all day! now i just need to\", \"tokens\": \"one takes the cake ! ! it goes on so smooth and lasts all day ! now i just need to\", \"word\": \"smooth\", \"stars\": \"5 stars\", \"brand\": \"Kat Von D\", \"name\": \"Tattoo Liner\", \"type\": \"Liquid Eyeliner\"}, {\"x\": -0.05229414254426956, \"y\": 0.009642177261412144, \"context\": \". the pigmentation was amazing and i loved how **smooth** it went on. it didn 't smudge\", \"tokens\": \". the pigment ##ation was amazing and i loved how smooth it went on . it didn ' t sm ##udge\", \"word\": \"smooth\", \"stars\": \"2 stars\", \"brand\": \"Kat Von D\", \"name\": \"Tattoo Liner\", \"type\": \"Liquid Eyeliner\"}, {\"x\": -0.04589422792196274, \"y\": 0.05450046807527542, \"context\": \"sample when i ordered online. it gives a really **sharp**, exact and black liner. the tip is really\", \"tokens\": \"sample when i ordered online . it gives a really sharp , exact and black liner . the tip is really\", \"word\": \"sharp\", \"stars\": \"5 stars\", \"brand\": \"Kat Von D\", \"name\": \"Tattoo Liner\", \"type\": \"Liquid Eyeliner\"}, {\"x\": -0.038472000509500504, \"y\": 0.01650923676788807, \"context\": \"old nephew drew on my eyelids with a dried out **sharpie**. ( i can do a wing very well\", \"tokens\": \"old nephew drew on my eyelids with a dried out sharp ##ie . ( i can do a wing very well\", \"word\": \"sharp\", \"stars\": \"1 star\", \"brand\": \"Kat Von D\", \"name\": \"Tattoo Liner\", \"type\": \"Liquid Eyeliner\"}, {\"x\": -0.05144410952925682, \"y\": 0.03284791484475136, \"context\": \"this liner makes it easy for me to make a **smooth** looking line ( not including a wing: ) )\", \"tokens\": \"this liner makes it easy for me to make a smooth looking line ( not including a wing : ) )\", \"word\": \"smooth\", \"stars\": \"5 stars\", \"brand\": \"Kat Von D\", \"name\": \"Tattoo Liner\", \"type\": \"Liquid Eyeliner\"}, {\"x\": -0.04585382714867592, \"y\": -0.08839339017868042, \"context\": \"pencil eyeliners always require a q-tip **clean**-up after application due to the wonky lines\", \"tokens\": \"pencil eye ##liner ##s always require a q - tip clean - up after application due to the won ##ky lines\", \"word\": \"clean\", \"stars\": \"5 stars\", \"brand\": \"Kat Von D\", \"name\": \"Tattoo Liner\", \"type\": \"Liquid Eyeliner\"}, {\"x\": -0.051618751138448715, \"y\": 0.020344659686088562, \"context\": \"which was great. another plus: it creates a **smooth** line ( as thin or as thick as you '\", \"tokens\": \"which was great . another plus : it creates a smooth line ( as thin or as thick as you '\", \"word\": \"smooth\", \"stars\": \"5 stars\", \"brand\": \"Kat Von D\", \"name\": \"Tattoo Liner\", \"type\": \"Liquid Eyeliner\"}, {\"x\": -0.05038117989897728, \"y\": -0.051526185125112534, \"context\": \", i find that i can 't get the **cleanest** look i want ( i 'm not very\", \"tokens\": \", i find that i can ' t get the clean ##est look i want ( i ' m not very\", \"word\": \"clean\", \"stars\": \"5 stars\", \"brand\": \"Kat Von D\", \"name\": \"Tattoo Liner\", \"type\": \"Liquid Eyeliner\"}, {\"x\": -0.050143636763095856, \"y\": -0.023113934323191643, \"context\": \"apply-glides through really smoothly and gives such **clean** crisp lines! way better than my pencils!\", \"tokens\": \"apply - glide ##s through really smoothly and gives such clean crisp lines ! way better than my pencil ##s !\", \"word\": \"clean\", \"stars\": \"5 stars\", \"brand\": \"Kat Von D\", \"name\": \"Tattoo Liner\", \"type\": \"Liquid Eyeliner\"}, {\"x\": -0.050423428416252136, \"y\": 0.02589423581957817, \"context\": \"love this and did for awhile. it goes on **smooth** and lasts all day. it also comes off easily\", \"tokens\": \"love this and did for awhile . it goes on smooth and lasts all day . it also comes off easily\", \"word\": \"smooth\", \"stars\": \"4 stars\", \"brand\": \"Too Faced\", \"name\": \"Better Than Sex Waterproof Mascara\", \"type\": \"Mascara\"}, {\"x\": -0.04425995796918869, \"y\": 0.04868927225470543, \"context\": \". it has very fine point, perfect for a **sharp** wing. it also is very black! it lasts\", \"tokens\": \". it has very fine point , perfect for a sharp wing . it also is very black ! it lasts\", \"word\": \"sharp\", \"stars\": \"4 stars\", \"brand\": \"Too Faced\", \"name\": \"Better Than Sex Waterproof Mascara\", \"type\": \"Mascara\"}, {\"x\": -0.05407270789146423, \"y\": 0.02779983915388584, \"context\": \"this eyeliner. this eyeliner goes on very **smooth** even over glitter. it lasted all day until i\", \"tokens\": \"this eye ##liner . this eye ##liner goes on very smooth even over glitter . it lasted all day until i\", \"word\": \"smooth\", \"stars\": \"5 stars\", \"brand\": \"Kat Von D\", \"name\": \"Tattoo Liner\", \"type\": \"Liquid Eyeliner\"}, {\"x\": -0.04717184603214264, \"y\": 0.03068348951637745, \"context\": \"i had to try it. the first applications were **smooth** sailing, but after a while the tip gets dry\", \"tokens\": \"i had to try it . the first applications were smooth sailing , but after a while the tip gets dry\", \"word\": \"smooth\", \"stars\": \"3 stars\", \"brand\": \"Kat Von D\", \"name\": \"Tattoo Liner\", \"type\": \"Liquid Eyeliner\"}, {\"x\": -0.05224357172846794, \"y\": 0.03937385976314545, \"context\": \"use another eyeliner again, the tip is so **smooth** and hasn 't frayed at all, which\", \"tokens\": \"use another eye ##liner again , the tip is so smooth and hasn ' t fray ##ed at all , which\", \"word\": \"smooth\", \"stars\": \"5 stars\", \"brand\": \"Kat Von D\", \"name\": \"Tattoo Liner\", \"type\": \"Liquid Eyeliner\"}, {\"x\": -0.04839871823787689, \"y\": 0.030087007209658623, \"context\": \"and i immediately loved it and it went on so **smooth** and lasted a long time. however, after about\", \"tokens\": \"and i immediately loved it and it went on so smooth and lasted a long time . however , after about\", \"word\": \"smooth\", \"stars\": \"2 stars\", \"brand\": \"Kat Von D\", \"name\": \"Tattoo Liner\", \"type\": \"Liquid Eyeliner\"}, {\"x\": -0.053343597799539566, \"y\": 0.022561591118574142, \"context\": \") this is the best eyeliner, goes on **smooth** and evenly. it stays all day without fading or\", \"tokens\": \") this is the best eye ##liner , goes on smooth and evenly . it stays all day without fading or\", \"word\": \"smooth\", \"stars\": \"5 stars\", \"brand\": \"Kat Von D\", \"name\": \"Tattoo Liner\", \"type\": \"Liquid Eyeliner\"}, {\"x\": -0.052983466535806656, \"y\": 0.023704122751951218, \"context\": \"liquid eyeliner i have ever used. versatile, **smooth** and smudge proof. i use this liner every\", \"tokens\": \"liquid eye ##liner i have ever used . versatile , smooth and sm ##udge proof . i use this liner every\", \"word\": \"smooth\", \"stars\": \"5 stars\", \"brand\": \"Kat Von D\", \"name\": \"Tattoo Liner\", \"type\": \"Liquid Eyeliner\"}, {\"x\": -0.05269959568977356, \"y\": 0.025555366650223732, \"context\": \"3 swipes, but because the liner is very **smooth** and dries quickly if i continue swiping\", \"tokens\": \"3 sw ##ipes , but because the liner is very smooth and dr ##ies quickly if i continue sw ##ip ##ing\", \"word\": \"smooth\", \"stars\": \"5 stars\", \"brand\": \"Urban Decay\", \"name\": \"Cannonball Ultra Waterproof Mascara\", \"type\": \"Mascara\"}, {\"x\": -0.050729893147945404, \"y\": 0.013279940001666546, \"context\": \", especially if you usually have difficulty getting an even **smooth** line. \\u2026 read more i use the color maya\", \"tokens\": \", especially if you usually have difficulty getting an even smooth line . \\u2026 read more i use the color maya\", \"word\": \"smooth\", \"stars\": \"5 stars\", \"brand\": \"Kat Von D\", \"name\": \"Tattoo Liner\", \"type\": \"Liquid Eyeliner\"}, {\"x\": -0.05381879210472107, \"y\": 0.0321408174932003, \"context\": \"eyeliner i loved it so much. it ran **smooth** and made the most precise lines. a few weeks\", \"tokens\": \"eye ##liner i loved it so much . it ran smooth and made the most precise lines . a few weeks\", \"word\": \"smooth\", \"stars\": \"3 stars\", \"brand\": \"Kat Von D\", \"name\": \"Tattoo Liner\", \"type\": \"Liquid Eyeliner\"}, {\"x\": -0.0466892272233963, \"y\": 0.0455794520676136, \"context\": \"out was tacky. the lines weren 't **sharp** and it didn 't glide well anymore. i\", \"tokens\": \"out was tack ##y . the lines weren ' t sharp and it didn ' t glide well anymore . i\", \"word\": \"sharp\", \"stars\": \"4 stars\", \"brand\": \"Kat Von D\", \"name\": \"Tattoo Liner\", \"type\": \"Liquid Eyeliner\"}, {\"x\": -0.05017436668276787, \"y\": -0.04463887959718704, \"context\": \"tip, but it's nearly impossible to get **clean** lines and filled-in wings with the liquid liner\", \"tokens\": \"tip , but it ' s nearly impossible to get clean lines and filled - in wings with the liquid liner\", \"word\": \"clean\", \"stars\": \"2 stars\", \"brand\": \"Kat Von D\", \"name\": \"Tattoo Liner\", \"type\": \"Liquid Eyeliner\"}, {\"x\": -0.043982308357954025, \"y\": 0.030010320246219635, \"context\": \"person--i never leave the house without a **sharp** cat eye. this eyeliner is not only dark\", \"tokens\": \"person - - i never leave the house without a sharp cat eye . this eye ##liner is not only dark\", \"word\": \"sharp\", \"stars\": \"5 stars\", \"brand\": \"Kat Von D\", \"name\": \"Tattoo Liner\", \"type\": \"Liquid Eyeliner\"}, {\"x\": -0.04472694545984268, \"y\": 0.04477178677916527, \"context\": \"have to layer over, it also allows for such **sharp** precision on your wing!! this is the only\", \"tokens\": \"have to layer over , it also allows for such sharp precision on your wing ! ! this is the only\", \"word\": \"sharp\", \"stars\": \"5 stars\", \"brand\": \"Kat Von D\", \"name\": \"Tattoo Liner\", \"type\": \"Liquid Eyeliner\"}, {\"x\": -0.050681211054325104, \"y\": 0.028768135234713554, \"context\": \"more like a very fine-tipped painters brush with **smooth** plastic bristles. this makes application of the eye\", \"tokens\": \"more like a very fine - tipped painters brush with smooth plastic br ##istles . this makes application of the eye\", \"word\": \"smooth\", \"stars\": \"5 stars\", \"brand\": \"Kat Von D\", \"name\": \"Tattoo Liner\", \"type\": \"Liquid Eyeliner\"}, {\"x\": -0.052507784217596054, \"y\": 0.024416537955403328, \"context\": \"tip for super thin lines, and it goes on **smooth** ( in the beginning ). my only complaint is\", \"tokens\": \"tip for super thin lines , and it goes on smooth ( in the beginning ) . my only complaint is\", \"word\": \"smooth\", \"stars\": \"4 stars\", \"brand\": \"Kat Von D\", \"name\": \"Tattoo Liner\", \"type\": \"Liquid Eyeliner\"}, {\"x\": -0.042923424392938614, \"y\": -0.09703020751476288, \"context\": \"it tip down to prevent this from happening, and **clean** the applicator every so often. \\u2026 read\", \"tokens\": \"it tip down to prevent this from happening , and clean the app ##lica ##tor every so often . \\u2026 read\", \"word\": \"clean\", \"stars\": \"5 stars\", \"brand\": \"Too Faced\", \"name\": \"Better Than Sex Mascara\", \"type\": \"Mascara\"}, {\"x\": -0.04601849243044853, \"y\": 0.052821263670921326, \"context\": \"-to eyeliner for years. it's **sharp** and precise and does not budge. i took a\", \"tokens\": \"- to eye ##liner for years . it ' s sharp and precise and does not budge . i took a\", \"word\": \"sharp\", \"stars\": \"5 stars\", \"brand\": \"Kat Von D\", \"name\": \"Tattoo Liner\", \"type\": \"Liquid Eyeliner\"}, {\"x\": -0.051790446043014526, \"y\": 0.022259395569562912, \"context\": \"used to use lasts way longer. goes on super **smooth**, even on my wrinkly eyelids. did\", \"tokens\": \"used to use lasts way longer . goes on super smooth , even on my wr ##ink ##ly eyelids . did\", \"word\": \"smooth\", \"stars\": \"5 stars\", \"brand\": \"Kat Von D\", \"name\": \"Tattoo Liner\", \"type\": \"Liquid Eyeliner\"}, {\"x\": -0.05379309132695198, \"y\": 0.025607509538531303, \"context\": \". it lasts for months!! it goes on **smooth** and with brillant color every time..\", \"tokens\": \". it lasts for months ! ! it goes on smooth and with br ##illa ##nt color every time . .\", \"word\": \"smooth\", \"stars\": \"5 stars\", \"brand\": \"Kat Von D\", \"name\": \"Tattoo Liner\", \"type\": \"Liquid Eyeliner\"}, {\"x\": -0.05314801260828972, \"y\": 0.03092840686440468, \"context\": \"best liquid liner i have ever used: it is **smooth**, glides the right amount of product onto your\", \"tokens\": \"best liquid liner i have ever used : it is smooth , glide ##s the right amount of product onto your\", \"word\": \"smooth\", \"stars\": \"5 stars\", \"brand\": \"Kat Von D\", \"name\": \"Tattoo Liner\", \"type\": \"Liquid Eyeliner\"}, {\"x\": -0.05331416800618172, \"y\": 0.017706645652651787, \"context\": \". i love the rich black color it applies very **smooth**, i applied a second coat for a little more\", \"tokens\": \". i love the rich black color it applies very smooth , i applied a second coat for a little more\", \"word\": \"smooth\", \"stars\": \"5 stars\", \"brand\": \"Kat Von D\", \"name\": \"Tattoo Liner\", \"type\": \"Liquid Eyeliner\"}, {\"x\": -0.05052567645907402, \"y\": 0.028796937316656113, \"context\": \"i have found that i don 't get as **smooth** of a line or even application of the product as\", \"tokens\": \"i have found that i don ' t get as smooth of a line or even application of the product as\", \"word\": \"smooth\", \"stars\": \"3 stars\", \"brand\": \"Kat Von D\", \"name\": \"Tattoo Liner\", \"type\": \"Liquid Eyeliner\"}, {\"x\": -0.04588596522808075, \"y\": 0.03823774307966232, \"context\": \"to dry out, and the application was much less **sharp**. after some googling, i realized that my\", \"tokens\": \"to dry out , and the application was much less sharp . after some goo ##gling , i realized that my\", \"word\": \"sharp\", \"stars\": \"5 stars\", \"brand\": \"Kat Von D\", \"name\": \"Tattoo Liner\", \"type\": \"Liquid Eyeliner\"}, {\"x\": -0.047653090208768845, \"y\": 0.033849503844976425, \"context\": \"before and after use and omg this stuff stays **sharp** and gives definition i haven 't been able to\", \"tokens\": \"before and after use and om ##g this stuff stays sharp and gives definition i haven ' t been able to\", \"word\": \"sharp\", \"stars\": \"5 stars\", \"brand\": \"Kat Von D\", \"name\": \"Tattoo Liner\", \"type\": \"Liquid Eyeliner\"}, {\"x\": -0.042593102902173996, \"y\": 0.04208270087838173, \"context\": \"it, and no matter how thick or thin or **sharp** or whatever my liner is, tattoo liner always comes\", \"tokens\": \"it , and no matter how thick or thin or sharp or whatever my liner is , tattoo liner always comes\", \"word\": \"sharp\", \"stars\": \"5 stars\", \"brand\": \"Kat Von D\", \"name\": \"Tattoo Liner\", \"type\": \"Liquid Eyeliner\"}, {\"x\": -0.04736680909991264, \"y\": 0.023974742740392685, \"context\": \"bomb af-precise tip-very pigmented-**smooth**-long-lasting cons:-runs out\", \"tokens\": \"bomb af - precise tip - very pigment ##ed - smooth - long - lasting con ##s : - runs out\", \"word\": \"smooth\", \"stars\": \"5 stars\", \"brand\": \"Kat Von D\", \"name\": \"Tattoo Liner\", \"type\": \"Liquid Eyeliner\"}, {\"x\": -0.051533736288547516, \"y\": 0.024737607687711716, \"context\": \"going over the liner for more depth. not very **smooth** application. would not buy again. i bought this\", \"tokens\": \"going over the liner for more depth . not very smooth application . would not buy again . i bought this\", \"word\": \"smooth\", \"stars\": \"2 stars\", \"brand\": \"Kat Von D\", \"name\": \"Tattoo Liner\", \"type\": \"Liquid Eyeliner\"}, {\"x\": -0.05139685049653053, \"y\": 0.03212811425328255, \"context\": \"my opinion. the brush applicator makes application **smooth** & easy. its simple to create a cat '\", \"tokens\": \"my opinion . the brush app ##lica ##tor makes application smooth & easy . its simple to create a cat '\", \"word\": \"smooth\", \"stars\": \"5 stars\", \"brand\": \"Kat Von D\", \"name\": \"Tattoo Liner\", \"type\": \"Liquid Eyeliner\"}, {\"x\": -0.05238230898976326, \"y\": 0.027509842067956924, \"context\": \"'s eyeshadow ). it's **smooth** and creamy and does not bother my sensitive skin.\", \"tokens\": \"' s eyes ##had ##ow ) . it ' s smooth and creamy and does not bother my sensitive skin .\", \"word\": \"smooth\", \"stars\": \"4 stars\", \"brand\": \"Marc Jacobs\", \"name\": \"Highliner Gel Eye Crayon Eyeliner\", \"type\": \"Gel Eyeliner\"}, {\"x\": -0.05063560605049133, \"y\": 0.028663378208875656, \"context\": \"umped between the lines. i always wanted a **smooth** application that would last, and this primer gave\", \"tokens\": \"##ump ##ed between the lines . i always wanted a smooth application that would last , and this prime ##r gave\", \"word\": \"smooth\", \"stars\": \"5 stars\", \"brand\": \"Too Faced\", \"name\": \"Better Than Sex Mascara\", \"type\": \"Mascara\"}, {\"x\": -0.04422161728143692, \"y\": -0.09340789169073105, \"context\": \"did crease. i went so far as to **clean** my lids, blot for excess oil, and\", \"tokens\": \"did cr ##ease . i went so far as to clean my lids , b ##lot for excess oil , and\", \"word\": \"clean\", \"stars\": \"2 stars\", \"brand\": \"Urban Decay\", \"name\": \"Eyeshadow Primer Potion - Original\", \"type\": \"Eye Primer\"}, {\"x\": -0.05277455598115921, \"y\": 0.027976714074611664, \"context\": \"the changes. works very well, goes on very **smooth** and creamy. my eyeshadow stays in place\", \"tokens\": \"the changes . works very well , goes on very smooth and creamy . my eyes ##had ##ow stays in place\", \"word\": \"smooth\", \"stars\": \"5 stars\", \"brand\": \"Urban Decay\", \"name\": \"Eyeshadow Primer Potion - Original\", \"type\": \"Eye Primer\"}, {\"x\": -0.05194040760397911, \"y\": 0.02784789353609085, \"context\": \"drying. pigments are more vibrant, shadow looks **smooth** and flawless truly does what it advertises!\", \"tokens\": \"drying . pigment ##s are more vibrant , shadow looks smooth and flawless truly does what it ad ##vert ##ises !\", \"word\": \"smooth\", \"stars\": \"5 stars\", \"brand\": \"Too Faced\", \"name\": \"Hangover Replenishing Face Primer\", \"type\": \"Primer\"}, {\"x\": -0.05003761872649193, \"y\": 0.02437516115605831, \"context\": \"area# 4 made my eyes look crapey not **smooth** not impressed-very disappointed in product i have used\", \"tokens\": \"area # 4 made my eyes look crap ##ey not smooth not impressed - very disappointed in product i have used\", \"word\": \"smooth\", \"stars\": \"1 star\", \"brand\": \"Urban Decay\", \"name\": \"Eyeshadow Primer Potion - Original\", \"type\": \"Eye Primer\"}, {\"x\": -0.045121703296899796, \"y\": 0.022931866347789764, \"context\": \"and have tried countless other products. this goes on **smooth** with no wait time before applying shadow. i am\", \"tokens\": \"and have tried countless other products . this goes on smooth with no wait time before applying shadow . i am\", \"word\": \"smooth\", \"stars\": \"5 stars\", \"brand\": \"Urban Decay\", \"name\": \"Eyeshadow Primer Potion - Original\", \"type\": \"Eye Primer\"}, {\"x\": -0.04964282736182213, \"y\": 0.028388196602463722, \"context\": \"degree heat, my eyelids are still matte, **smooth**, and oil-free! zero shine! if\", \"tokens\": \"degree heat , my eyelids are still matt ##e , smooth , and oil - free ! zero shine ! if\", \"word\": \"smooth\", \"stars\": \"5 stars\", \"brand\": \"Urban Decay\", \"name\": \"Eyeshadow Primer Potion - Original\", \"type\": \"Eye Primer\"}, {\"x\": -0.046101924031972885, \"y\": -0.03381076827645302, \"context\": \"a staple for me for over 5 years. it **smooths** out the color of my eyelids, makes my\", \"tokens\": \"a staple for me for over 5 years . it smooth ##s out the color of my eyelids , makes my\", \"word\": \"smooth\", \"stars\": \"5 stars\", \"brand\": \"Urban Decay\", \"name\": \"Eyeshadow Primer Potion - Original\", \"type\": \"Eye Primer\"}, {\"x\": -0.04809034615755081, \"y\": -0.036225225776433945, \"context\": \"on your eyelids weirdly. when you attempt to **smooth** it on with your finger it goes patchy and\", \"tokens\": \"on your eyelids weird ##ly . when you attempt to smooth it on with your finger it goes patch ##y and\", \"word\": \"smooth\", \"stars\": \"1 star\", \"brand\": \"Urban Decay\", \"name\": \"Eyeshadow Primer Potion - Original\", \"type\": \"Eye Primer\"}, {\"x\": -0.051118433475494385, \"y\": 0.01409878209233284, \"context\": \"finger it goes patchy and does not give a **smooth** eyeliner look. can 't believe i actually\", \"tokens\": \"finger it goes patch ##y and does not give a smooth eye ##liner look . can ' t believe i actually\", \"word\": \"smooth\", \"stars\": \"5 stars\", \"brand\": \"Urban Decay\", \"name\": \"Cannonball Ultra Waterproof Mascara\", \"type\": \"Mascara\"}, {\"x\": -0.049478985369205475, \"y\": 0.022419894114136696, \"context\": \"disappointed in ud. this primer glides on **smooth** so it doesn 't tug at your eye lids\", \"tokens\": \"disappointed in ud . this prime ##r glide ##s on smooth so it doesn ' t tug at your eye lids\", \"word\": \"smooth\", \"stars\": \"5 stars\", \"brand\": \"Too Faced\", \"name\": \"Better Than Sex Mascara\", \"type\": \"Mascara\"}, {\"x\": -0.051870234310626984, \"y\": 0.03237073868513107, \"context\": \"ease of my eye at all; my shadow stays **smooth** and fresh looking all day. i haven 't\", \"tokens\": \"##ease of my eye at all ; my shadow stays smooth and fresh looking all day . i haven ' t\", \"word\": \"smooth\", \"stars\": \"5 stars\", \"brand\": \"Urban Decay\", \"name\": \"Eyeshadow Primer Potion - Original\", \"type\": \"Eye Primer\"}, {\"x\": -0.049425557255744934, \"y\": 0.018872801214456558, \"context\": \", so i ordered it. the product goes on **smooth**, doesn 't feel sticky and keeps my eyes\", \"tokens\": \", so i ordered it . the product goes on smooth , doesn ' t feel sticky and keeps my eyes\", \"word\": \"smooth\", \"stars\": \"5 stars\", \"brand\": \"Urban Decay\", \"name\": \"Eyeshadow Primer Potion - Original\", \"type\": \"Eye Primer\"}, {\"x\": -0.05212777107954025, \"y\": 0.029505137354135513, \"context\": \"( 15 hrs ). the formulation is very **smooth** and works very well. however i hate hate hate\", \"tokens\": \"( 15 hr ##s ) . the formulation is very smooth and works very well . however i hate hate hate\", \"word\": \"smooth\", \"stars\": \"3 stars\", \"brand\": \"Urban Decay\", \"name\": \"Eyeshadow Primer Potion - Original\", \"type\": \"Eye Primer\"}, {\"x\": -0.05157320573925972, \"y\": 0.03163842484354973, \"context\": \"your eye shadow clumpy but this is a **smooth** application and as promised a lasting finish. i '\", \"tokens\": \"your eye shadow cl ##ump ##y but this is a smooth application and as promised a lasting finish . i '\", \"word\": \"smooth\", \"stars\": \"5 stars\", \"brand\": \"Urban Decay\", \"name\": \"Eyeshadow Primer Potion - Original\", \"type\": \"Eye Primer\"}, {\"x\": -0.05262576416134834, \"y\": 0.01699068769812584, \"context\": \"in it. too bad, because it goes on **smooth** and creamy, not dry, and it dries\", \"tokens\": \"in it . too bad , because it goes on smooth and creamy , not dry , and it dr ##ies\", \"word\": \"smooth\", \"stars\": \"4 stars\", \"brand\": \"Urban Decay\", \"name\": \"Eyeshadow Primer Potion - Original\", \"type\": \"Eye Primer\"}, {\"x\": -0.040967632085084915, \"y\": -0.10376176238059998, \"context\": \"that, but now i 'm constantly having to **clean** out the lid and opening of the tube because of\", \"tokens\": \"that , but now i ' m constantly having to clean out the lid and opening of the tube because of\", \"word\": \"clean\", \"stars\": \"4 stars\", \"brand\": \"Urban Decay\", \"name\": \"Eyeshadow Primer Potion - Original\", \"type\": \"Eye Primer\"}, {\"x\": -0.05094201862812042, \"y\": 0.03393807262182236, \"context\": \"it on and it is a very lightweight, and **smooth** formula. although i like their other primer potion\", \"tokens\": \"it on and it is a very lightweight , and smooth formula . although i like their other prime ##r potion\", \"word\": \"smooth\", \"stars\": \"3 stars\", \"brand\": \"Urban Decay\", \"name\": \"Cannonball Ultra Waterproof Mascara\", \"type\": \"Mascara\"}, {\"x\": -0.05120524764060974, \"y\": 0.042888812720775604, \"context\": \"ing \\\"the pen every time. each stroke is **smooth** and continuous and it has lasted me a long time\", \"tokens\": \"##ing \\\" the pen every time . each stroke is smooth and continuous and it has lasted me a long time\", \"word\": \"smooth\", \"stars\": \"5 stars\", \"brand\": \"Stila\", \"name\": \"Stay All Day\\u00ae Waterproof Liquid Eye Liner\", \"type\": \"Liquid Eyeliner\"}, {\"x\": -0.043205488473176956, \"y\": 0.03650720417499542, \"context\": \"able to use liquid eyeliner and get that nice **sharp** line i always coveted on other ladies...\", \"tokens\": \"able to use liquid eye ##liner and get that nice sharp line i always coveted on other ladies . . .\", \"word\": \"sharp\", \"stars\": \"5 stars\", \"brand\": \"Stila\", \"name\": \"Stay All Day\\u00ae Waterproof Liquid Eye Liner\", \"type\": \"Liquid Eyeliner\"}, {\"x\": -0.04465223476290703, \"y\": -0.07311670482158661, \"context\": \"a bit of moisturiser and it wiped off **cleanly**. i have it in alloy, and will\", \"tokens\": \"a bit of moist ##uri ##ser and it wiped off clean ##ly . i have it in alloy , and will\", \"word\": \"clean\", \"stars\": \"5 stars\", \"brand\": \"Kat Von D\", \"name\": \"Tattoo Liner\", \"type\": \"Liquid Eyeliner\"}, {\"x\": -0.04970159754157066, \"y\": -0.03721306100487709, \"context\": \"it's so easy to do a nice, **clean**, crisp wing with it. the tip is point\", \"tokens\": \"it ' s so easy to do a nice , clean , crisp wing with it . the tip is point\", \"word\": \"clean\", \"stars\": \"5 stars\", \"brand\": \"Kat Von D\", \"name\": \"Tattoo Liner\", \"type\": \"Liquid Eyeliner\"}, {\"x\": -0.04203809052705765, \"y\": 0.045412883162498474, \"context\": \"the tip of the pen sometimes loses it's **sharpness**. i snip the straggly\", \"tokens\": \"the tip of the pen sometimes loses it ' s sharp ##ness . i s ##ni ##p the st ##rag ##gly\", \"word\": \"sharp\", \"stars\": \"5 stars\", \"brand\": \"Stila\", \"name\": \"Stay All Day\\u00ae Waterproof Liquid Eye Liner\", \"type\": \"Liquid Eyeliner\"}, {\"x\": -0.048417482525110245, \"y\": -0.050706472247838974, \"context\": \"the pic below ). afterward, it came off **cleanly** with a little cold cream, soap and water\", \"tokens\": \"the pic below ) . afterward , it came off clean ##ly with a little cold cream , soap and water\", \"word\": \"clean\", \"stars\": \"5 stars\", \"brand\": \"Stila\", \"name\": \"Stay All Day\\u00ae Waterproof Liquid Eye Liner\", \"type\": \"Liquid Eyeliner\"}, {\"x\": -0.04315884783864021, \"y\": -0.10359139740467072, \"context\": \"and make up remover and frequented the restroom to **clean** up under my eyes. but now i don '\", \"tokens\": \"and make up remove ##r and frequented the restroom to clean up under my eyes . but now i don '\", \"word\": \"clean\", \"stars\": \"5 stars\", \"brand\": \"Stila\", \"name\": \"Stay All Day\\u00ae Waterproof Liquid Eye Liner\", \"type\": \"Liquid Eyeliner\"}, {\"x\": -0.0516597256064415, \"y\": 0.028327442705631256, \"context\": \"experienced trust me!! it is sleek and applies **smooth** stays on all day even through night and comes off\", \"tokens\": \"experienced trust me ! ! it is sleek and applies smooth stays on all day even through night and comes off\", \"word\": \"smooth\", \"stars\": \"5 stars\", \"brand\": \"Too Faced\", \"name\": \"Better Than Sex Mascara\", \"type\": \"Mascara\"}, {\"x\": -0.04222416505217552, \"y\": 0.019542600959539413, \"context\": \"i have ever used. it goes on like a **sharpie**--not wet or thick like other liquid\", \"tokens\": \"i have ever used . it goes on like a sharp ##ie - - not wet or thick like other liquid\", \"word\": \"sharp\", \"stars\": \"5 stars\", \"brand\": \"Stila\", \"name\": \"Stay All Day\\u00ae Waterproof Liquid Eye Liner\", \"type\": \"Liquid Eyeliner\"}, {\"x\": -0.05053513124585152, \"y\": -0.035735346376895905, \"context\": \"or thick like other liquid liners, just a **clean**, super saturated line. it's incredible for\", \"tokens\": \"or thick like other liquid liner ##s , just a clean , super saturated line . it ' s incredible for\", \"word\": \"clean\", \"stars\": \"5 stars\", \"brand\": \"Stila\", \"name\": \"Stay All Day\\u00ae Waterproof Liquid Eye Liner\", \"type\": \"Liquid Eyeliner\"}, {\"x\": -0.04732981324195862, \"y\": -0.05341505631804466, \"context\": \". i regularly wear it without mascara for a super **clean** look. it does dry out after a couple months\", \"tokens\": \". i regularly wear it without mascara for a super clean look . it does dry out after a couple months\", \"word\": \"clean\", \"stars\": \"5 stars\", \"brand\": \"Stila\", \"name\": \"Stay All Day\\u00ae Waterproof Liquid Eye Liner\", \"type\": \"Liquid Eyeliner\"}, {\"x\": -0.050924211740493774, \"y\": -0.03809010609984398, \"context\": \"nor is it matte black. it makes nice **clean** lines.... the only problem is after\", \"tokens\": \"nor is it matt ##e black . it makes nice clean lines . . . . the only problem is after\", \"word\": \"clean\", \"stars\": \"4 stars\", \"brand\": \"Kat Von D\", \"name\": \"Tattoo Liner\", \"type\": \"Liquid Eyeliner\"}, {\"x\": -0.05054078623652458, \"y\": 0.02457723580300808, \"context\": \"the kat von d tattoo liner. glides on **smooth**!! worth the splurge!! i\", \"tokens\": \"the kat von d tattoo liner . glide ##s on smooth ! ! worth the sp ##lu ##rge ! ! i\", \"word\": \"smooth\", \"stars\": \"5 stars\", \"brand\": \"Dior\", \"name\": \"Diorshow Waterproof Mascara\", \"type\": \"Mascara\"}, {\"x\": -0.051252249628305435, \"y\": 0.022742796689271927, \"context\": \"m lucky ), and the liner came on very **smooth** on my lids. i wore it for a whole\", \"tokens\": \"m lucky ) , and the liner came on very smooth on my lids . i wore it for a whole\", \"word\": \"smooth\", \"stars\": \"5 stars\", \"brand\": \"Stila\", \"name\": \"Stay All Day\\u00ae Waterproof Liquid Eye Liner\", \"type\": \"Liquid Eyeliner\"}, {\"x\": -0.052033454179763794, \"y\": 0.024133609607815742, \"context\": \"torms, and working out. it goes on **smooth**. it's easy to control during application,\", \"tokens\": \"##torm ##s , and working out . it goes on smooth . it ' s easy to control during application ,\", \"word\": \"smooth\", \"stars\": \"5 stars\", \"brand\": \"FENTY BEAUTY BY RIHANNA\", \"name\": \"Flyliner Longwear Liquid Eyeliner\", \"type\": \"Liquid Eyeliner\"}, {\"x\": -0.04939306154847145, \"y\": 0.01596216857433319, \"context\": \"on in the store on my hand it went on **smooth** but when i got home i tried it on my\", \"tokens\": \"on in the store on my hand it went on smooth but when i got home i tried it on my\", \"word\": \"smooth\", \"stars\": \"3 stars\", \"brand\": \"Stila\", \"name\": \"Stay All Day\\u00ae Waterproof Liquid Eye Liner\", \"type\": \"Liquid Eyeliner\"}, {\"x\": -0.04570837691426277, \"y\": 0.02853611297905445, \"context\": \"felt and slowly spreads to the tip-meaning a **sharp** line is a bit tricky to achieve. the product\", \"tokens\": \"felt and slowly spreads to the tip - meaning a sharp line is a bit tricky to achieve . the product\", \"word\": \"sharp\", \"stars\": \"4 stars\", \"brand\": \"Stila\", \"name\": \"Stay All Day\\u00ae Waterproof Liquid Eye Liner\", \"type\": \"Liquid Eyeliner\"}, {\"x\": -0.05296216532588005, \"y\": 0.028896594420075417, \"context\": \"i bought this one. it is so easy and **smooth**. i can put my eye liner quicker than tie\", \"tokens\": \"i bought this one . it is so easy and smooth . i can put my eye liner quicker than tie\", \"word\": \"smooth\", \"stars\": \"5 stars\", \"brand\": \"Stila\", \"name\": \"Stay All Day\\u00ae Waterproof Liquid Eye Liner\", \"type\": \"Liquid Eyeliner\"}, {\"x\": -0.05346936360001564, \"y\": 0.00847209058701992, \"context\": \"sappoint!!! it goes on super **smooth**, doesn 't smudge, dries quickly\", \"tokens\": \"##sa ##pp ##oint ! ! ! it goes on super smooth , doesn ' t sm ##udge , dr ##ies quickly\", \"word\": \"smooth\", \"stars\": \"1 star\", \"brand\": \"Too Faced\", \"name\": \"Better Than Sex Waterproof Mascara\", \"type\": \"Mascara\"}, {\"x\": -0.04902400076389313, \"y\": -0.0692058876156807, \"context\": \". i also like the thin tip for a nice **clean** application since i usually go with a winged eyeliner\", \"tokens\": \". i also like the thin tip for a nice clean application since i usually go with a winged eye ##liner\", \"word\": \"clean\", \"stars\": \"5 stars\", \"brand\": \"Stila\", \"name\": \"Stay All Day\\u00ae Waterproof Liquid Eye Liner\", \"type\": \"Liquid Eyeliner\"}, {\"x\": -0.04020725190639496, \"y\": -0.11120497435331345, \"context\": \", but on the plus side when i went to **clean** up what i thought was going to be a mess\", \"tokens\": \", but on the plus side when i went to clean up what i thought was going to be a mess\", \"word\": \"clean\", \"stars\": \"5 stars\", \"brand\": \"Stila\", \"name\": \"Stay All Day\\u00ae Waterproof Liquid Eye Liner\", \"type\": \"Liquid Eyeliner\"}, {\"x\": -0.0416221022605896, \"y\": -0.10899411886930466, \"context\": \"lines. nearly foolproof. if i need to **clean** up the wing a bit, i just use a\", \"tokens\": \"lines . nearly fool ##proof . if i need to clean up the wing a bit , i just use a\", \"word\": \"clean\", \"stars\": \"5 stars\", \"brand\": \"Stila\", \"name\": \"Stay All Day\\u00ae Waterproof Liquid Eye Liner\", \"type\": \"Liquid Eyeliner\"}, {\"x\": -0.04139525070786476, \"y\": 0.025490961968898773, \"context\": \"fray a bit after prolonged use but i just take **sharp** eyebrow scissors and snip the teeniest bit\", \"tokens\": \"fray a bit after prolonged use but i just take sharp eyebrow scissors and s ##ni ##p the teen ##iest bit\", \"word\": \"sharp\", \"stars\": \"4 stars\", \"brand\": \"Stila\", \"name\": \"Stay All Day\\u00ae Waterproof Liquid Eye Liner\", \"type\": \"Liquid Eyeliner\"}, {\"x\": -0.049547336995601654, \"y\": -0.01907534711062908, \"context\": \"tip applicator also makes it easy to execute **clean** winged liner looks. absolutely love. great liner!\", \"tokens\": \"tip app ##lica ##tor also makes it easy to execute clean winged liner looks . absolutely love . great liner !\", \"word\": \"clean\", \"stars\": \"5 stars\", \"brand\": \"Stila\", \"name\": \"Stay All Day\\u00ae Waterproof Liquid Eye Liner\", \"type\": \"Liquid Eyeliner\"}, {\"x\": -0.04776410013437271, \"y\": -0.04390810430049896, \"context\": \"after a whole day of wear. great for a **clean** cat eye. i can 't get enough of\", \"tokens\": \"after a whole day of wear . great for a clean cat eye . i can ' t get enough of\", \"word\": \"clean\", \"stars\": \"3 stars\", \"brand\": \"Too Faced\", \"name\": \"Better Than Sex Mascara\", \"type\": \"Mascara\"}, {\"x\": -0.04600751772522926, \"y\": 0.023073019459843636, \"context\": \"trouble with using liquid liner. smudge proof and **sharp**! check my video between 4: 00-4\", \"tokens\": \"trouble with using liquid liner . sm ##udge proof and sharp ! check my video between 4 : 00 - 4\", \"word\": \"sharp\", \"stars\": \"5 stars\", \"brand\": \"Stila\", \"name\": \"Stay All Day\\u00ae Waterproof Liquid Eye Liner\", \"type\": \"Liquid Eyeliner\"}, {\"x\": -0.048961538821458817, \"y\": 0.008839183486998081, \"context\": \"middle of the pen continues to moisten and apply **smoothy**, but the dry tip is really annoying (\", \"tokens\": \"middle of the pen continues to moist ##en and apply smooth ##y , but the dry tip is really annoying (\", \"word\": \"smooth\", \"stars\": \"3 stars\", \"brand\": \"Stila\", \"name\": \"Stay All Day\\u00ae Waterproof Liquid Eye Liner\", \"type\": \"Liquid Eyeliner\"}, {\"x\": -0.05230753496289253, \"y\": 0.03916655480861664, \"context\": \"color; it really makes my green eyes pop! **smooth**, even application and great staying power. look forward\", \"tokens\": \"color ; it really makes my green eyes pop ! smooth , even application and great staying power . look forward\", \"word\": \"smooth\", \"stars\": \"3 stars\", \"brand\": \"Kat Von D\", \"name\": \"Tattoo Liner\", \"type\": \"Liquid Eyeliner\"}, {\"x\": -0.052722327411174774, \"y\": 0.021722016856074333, \"context\": \"is difficult to apply and often doesn 't look **smooth**. the stila liquid eyeliner goes on easier\", \"tokens\": \"is difficult to apply and often doesn ' t look smooth . the stil ##a liquid eye ##liner goes on easier\", \"word\": \"smooth\", \"stars\": \"3 stars\", \"brand\": \"Kat Von D\", \"name\": \"Tattoo Liner\", \"type\": \"Liquid Eyeliner\"}, {\"x\": -0.050702374428510666, \"y\": 0.03149886429309845, \"context\": \". this liner is amazing! it glides on **smooth**, and is easy to fix if your hand wig\", \"tokens\": \". this liner is amazing ! it glide ##s on smooth , and is easy to fix if your hand wig\", \"word\": \"smooth\", \"stars\": \"5 stars\", \"brand\": \"Kat Von D\", \"name\": \"Tattoo Liner\", \"type\": \"Liquid Eyeliner\"}, {\"x\": -0.042266231030225754, \"y\": -0.10047576576471329, \"context\": \"from morning till night, comes off with my regular **cleanser** and a soft microfiber cloth. also\", \"tokens\": \"from morning till night , comes off with my regular clean ##ser and a soft micro ##fi ##ber cloth . also\", \"word\": \"clean\", \"stars\": \"5 stars\", \"brand\": \"Stila\", \"name\": \"Stay All Day\\u00ae Waterproof Liquid Eye Liner\", \"type\": \"Liquid Eyeliner\"}, {\"x\": -0.045813027769327164, \"y\": 0.04024256765842438, \"context\": \"my style. it's perfect. goes on **smooth** and easy. super easy to apply and stays on\", \"tokens\": \"my style . it ' s perfect . goes on smooth and easy . super easy to apply and stays on\", \"word\": \"smooth\", \"stars\": \"4 stars\", \"brand\": \"FENTY BEAUTY BY RIHANNA\", \"name\": \"Flyliner Longwear Liquid Eyeliner\", \"type\": \"Liquid Eyeliner\"}, {\"x\": -0.04439418762922287, \"y\": 0.019737688824534416, \"context\": \"horas liquid liner but nothing like this! its **smooth** easy to apply stays on forever mess free i mean\", \"tokens\": \"##hora ##s liquid liner but nothing like this ! its smooth easy to apply stays on forever mess free i mean\", \"word\": \"smooth\", \"stars\": \"5 stars\", \"brand\": \"Stila\", \"name\": \"Stay All Day\\u00ae Waterproof Liquid Eye Liner\", \"type\": \"Liquid Eyeliner\"}, {\"x\": -0.044475752860307693, \"y\": 0.03926228731870651, \"context\": \"you are ready to invest the money and need a **sharp**, long-lasting liner, then it is the\", \"tokens\": \"you are ready to invest the money and need a sharp , long - lasting liner , then it is the\", \"word\": \"sharp\", \"stars\": \"2 stars\", \"brand\": \"Stila\", \"name\": \"Stay All Day\\u00ae Waterproof Liquid Eye Liner\", \"type\": \"Liquid Eyeliner\"}, {\"x\": -0.042614247649908066, \"y\": 0.03393234312534332, \"context\": \"up the line and just won 't make a **sharp** line. not happy. this liner is very easy\", \"tokens\": \"up the line and just won ' t make a sharp line . not happy . this liner is very easy\", \"word\": \"sharp\", \"stars\": null, \"brand\": null, \"name\": null, \"type\": null}, {\"x\": -0.04535192623734474, \"y\": 0.051150739192962646, \"context\": \"easy to manage. the black color actually comes out **sharp**, bold and, most importantly not like a watered\", \"tokens\": \"easy to manage . the black color actually comes out sharp , bold and , most importantly not like a watered\", \"word\": \"sharp\", \"stars\": \"4 stars\", \"brand\": \"Stila\", \"name\": \"Stay All Day\\u00ae Waterproof Liquid Eye Liner\", \"type\": \"Liquid Eyeliner\"}, {\"x\": -0.05002565681934357, \"y\": -0.03292984515428543, \"context\": \"it makes it so hard to get a nice, **clean** wing. i got this in the sephora summer\", \"tokens\": \"it makes it so hard to get a nice , clean wing . i got this in the sep ##hora summer\", \"word\": \"clean\", \"stars\": \"2 stars\", \"brand\": \"Stila\", \"name\": \"Stay All Day\\u00ae Waterproof Liquid Eye Liner\", \"type\": \"Liquid Eyeliner\"}, {\"x\": -0.045352306216955185, \"y\": 0.035038385540246964, \"context\": \"'t able to reach the tip to create the **sharp** lines. for $ 22, it's kind\", \"tokens\": \"' t able to reach the tip to create the sharp lines . for $ 22 , it ' s kind\", \"word\": \"sharp\", \"stars\": \"3 stars\", \"brand\": \"Stila\", \"name\": \"Stay All Day\\u00ae Waterproof Liquid Eye Liner\", \"type\": \"Liquid Eyeliner\"}, {\"x\": -0.04633667692542076, \"y\": -0.07264332473278046, \"context\": \"lasts forever but rinses gently with a mild **cleanser**, and the matte grey color is perfect\", \"tokens\": \"lasts forever but ri ##nse ##s gently with a mild clean ##ser , and the matt ##e grey color is perfect\", \"word\": \"clean\", \"stars\": \"5 stars\", \"brand\": \"Stila\", \"name\": \"Stay All Day\\u00ae Waterproof Liquid Eye Liner\", \"type\": \"Liquid Eyeliner\"}, {\"x\": -0.04007750377058983, \"y\": -0.1084759309887886, \"context\": \"on the original line after washing my face with my **cleanser**. however, at the outer corner of your\", \"tokens\": \"on the original line after washing my face with my clean ##ser . however , at the outer corner of your\", \"word\": \"clean\", \"stars\": \"3 stars\", \"brand\": \"Stila\", \"name\": \"Stay All Day\\u00ae Waterproof Liquid Eye Liner\", \"type\": \"Liquid Eyeliner\"}, {\"x\": -0.05008241534233093, \"y\": 0.02865014597773552, \"context\": \"the first few times it worked great, glided on **smooth**. but, after a short time it started to\", \"tokens\": \"the first few times it worked great , glided on smooth . but , after a short time it started to\", \"word\": \"smooth\", \"stars\": \"2 stars\", \"brand\": \"Stila\", \"name\": \"Stay All Day\\u00ae Waterproof Liquid Eye Liner\", \"type\": \"Liquid Eyeliner\"}, {\"x\": -0.050533778965473175, \"y\": -0.044455911964178085, \"context\": \"20. it is pretty waterproof and produces a **clean** line, though. great!! i have tried\", \"tokens\": \"20 . it is pretty water ##proof and produces a clean line , though . great ! ! i have tried\", \"word\": \"clean\", \"stars\": null, \"brand\": null, \"name\": null, \"type\": null}, {\"x\": -0.043902602046728134, \"y\": 0.036392007023096085, \"context\": \"uemura. this is the best for its **sharpness**, dark black pigment, and staying power.\", \"tokens\": \"u ##em ##ura . this is the best for its sharp ##ness , dark black pigment , and staying power .\", \"word\": \"sharp\", \"stars\": \"4 stars\", \"brand\": \"Too Faced\", \"name\": \"Better Than Sex Mascara\", \"type\": \"Mascara\"}, {\"x\": -0.0434122160077095, \"y\": 0.04836162179708481, \"context\": \"is a true black. the applicator is **sharp** so it is good at making those **sharp** wings.\", \"tokens\": \"is a true black . the app ##lica ##tor is sharp so it is good at making those sharp wings .\", \"word\": \"sharp\", \"stars\": \"5 stars\", \"brand\": \"Stila\", \"name\": \"Stay All Day\\u00ae Waterproof Liquid Eye Liner\", \"type\": \"Liquid Eyeliner\"}, {\"x\": -0.042830586433410645, \"y\": 0.04635625332593918, \"context\": \"tor is **sharp** so it is good at making those **sharp** wings. a lot of people are complaining about it\", \"tokens\": \"##tor is sharp so it is good at making those sharp wings . a lot of people are complaining about it\", \"word\": \"sharp\", \"stars\": \"5 stars\", \"brand\": \"Stila\", \"name\": \"Stay All Day\\u00ae Waterproof Liquid Eye Liner\", \"type\": \"Liquid Eyeliner\"}, {\"x\": -0.05183091759681702, \"y\": 0.027490923181176186, \"context\": \"don 't clump, they go on so **smooth**, they come in crazy cool colours, they aren\", \"tokens\": \"don ' t cl ##ump , they go on so smooth , they come in crazy cool colours , they aren\", \"word\": \"smooth\", \"stars\": \"5 stars\", \"brand\": \"Stila\", \"name\": \"Stay All Day\\u00ae Waterproof Liquid Eye Liner\", \"type\": \"Liquid Eyeliner\"}, {\"x\": -0.050831831991672516, \"y\": 0.041556667536497116, \"context\": \"firm ( doesn 't bend ) so application is **smooth** and controllable. love the alloy-great\", \"tokens\": \"firm ( doesn ' t bend ) so application is smooth and control ##lab ##le . love the alloy - great\", \"word\": \"smooth\", \"stars\": \"5 stars\", \"brand\": \"FENTY BEAUTY BY RIHANNA\", \"name\": \"Flyliner Longwear Liquid Eyeliner\", \"type\": \"Liquid Eyeliner\"}, {\"x\": -0.05135620757937431, \"y\": -0.030213763937354088, \"context\": \"am going to venture with color. i love the **clean** lines that i get when using it. if i\", \"tokens\": \"am going to venture with color . i love the clean lines that i get when using it . if i\", \"word\": \"clean\", \"stars\": \"5 stars\", \"brand\": \"Stila\", \"name\": \"Stay All Day\\u00ae Waterproof Liquid Eye Liner\", \"type\": \"Liquid Eyeliner\"}, {\"x\": -0.046545933932065964, \"y\": 0.036251477897167206, \"context\": \"if i don 't want it to be so **sharp**, i just smudge it a little with my\", \"tokens\": \"if i don ' t want it to be so sharp , i just sm ##udge it a little with my\", \"word\": \"sharp\", \"stars\": \"5 stars\", \"brand\": \"Stila\", \"name\": \"Stay All Day\\u00ae Waterproof Liquid Eye Liner\", \"type\": \"Liquid Eyeliner\"}, {\"x\": -0.051799800246953964, \"y\": 0.030306005850434303, \"context\": \"proof liquid liner on the market. it makes a **smooth**, thin line with ease. drawing a cat '\", \"tokens\": \"##proof liquid liner on the market . it makes a smooth , thin line with ease . drawing a cat '\", \"word\": \"smooth\", \"stars\": \"5 stars\", \"brand\": \"Stila\", \"name\": \"Stay All Day\\u00ae Waterproof Liquid Eye Liner\", \"type\": \"Liquid Eyeliner\"}, {\"x\": -0.050941143184900284, \"y\": -0.03861881420016289, \"context\": \"liner and wanted to try this one. lines are **clean** and doesn 't try out quickly and stays for\", \"tokens\": \"##liner and wanted to try this one . lines are clean and doesn ' t try out quickly and stays for\", \"word\": \"clean\", \"stars\": \"3 stars\", \"brand\": \"Stila\", \"name\": \"Stay All Day\\u00ae Waterproof Liquid Eye Liner\", \"type\": \"Liquid Eyeliner\"}, {\"x\": -0.04500395804643631, \"y\": 0.056758902966976166, \"context\": \"the key is in the point. it's **sharp** and unwavering. no bristles come apart\", \"tokens\": \"the key is in the point . it ' s sharp and un ##wave ##ring . no br ##istles come apart\", \"word\": \"sharp\", \"stars\": \"5 stars\", \"brand\": \"Stila\", \"name\": \"Stay All Day\\u00ae Waterproof Liquid Eye Liner\", \"type\": \"Liquid Eyeliner\"}, {\"x\": -0.04756119102239609, \"y\": 0.04111058637499809, \"context\": \"you to do amazing liner looks and keeps the line **sharp** and clean. i know it's not me\", \"tokens\": \"you to do amazing liner looks and keeps the line sharp and clean . i know it ' s not me\", \"word\": \"sharp\", \"stars\": \"5 stars\", \"brand\": \"Stila\", \"name\": \"Stay All Day\\u00ae Waterproof Liquid Eye Liner\", \"type\": \"Liquid Eyeliner\"}, {\"x\": -0.04950200393795967, \"y\": -0.032150670886039734, \"context\": \"do amazing liner looks and keeps the line sharp and **clean**. i know it's not me, because\", \"tokens\": \"do amazing liner looks and keeps the line sharp and clean . i know it ' s not me , because\", \"word\": \"clean\", \"stars\": \"5 stars\", \"brand\": \"Stila\", \"name\": \"Stay All Day\\u00ae Waterproof Liquid Eye Liner\", \"type\": \"Liquid Eyeliner\"}, {\"x\": -0.044022053480148315, \"y\": -0.10325164347887039, \"context\": \"a thick or thin line. i was able to **clean** up my lines with a q-tip and face\", \"tokens\": \"a thick or thin line . i was able to clean up my lines with a q - tip and face\", \"word\": \"clean\", \"stars\": \"5 stars\", \"brand\": \"Too Faced\", \"name\": \"Better Than Sex Waterproof Mascara\", \"type\": \"Mascara\"}, {\"x\": -0.05150588974356651, \"y\": 0.0272173210978508, \"context\": \"liner and landed on this. it goes on so **smooth** and doesn 't melt at all during the day\", \"tokens\": \"liner and landed on this . it goes on so smooth and doesn ' t melt at all during the day\", \"word\": \"smooth\", \"stars\": \"4 stars\", \"brand\": \"Stila\", \"name\": \"Stay All Day\\u00ae Waterproof Liquid Eye Liner\", \"type\": \"Liquid Eyeliner\"}, {\"x\": -0.05089844390749931, \"y\": 0.024299511685967445, \"context\": \"last bit in the pen never goes on quite as **smooth**. this is a great solid liquid eyeliner.\", \"tokens\": \"last bit in the pen never goes on quite as smooth . this is a great solid liquid eye ##liner .\", \"word\": \"smooth\", \"stars\": \"4 stars\", \"brand\": \"Stila\", \"name\": \"Stay All Day\\u00ae Waterproof Liquid Eye Liner\", \"type\": \"Liquid Eyeliner\"}, {\"x\": -0.041666995733976364, \"y\": 0.03914281725883484, \"context\": \". the tip is super precise for a stiletto **sharp** cat eye flick. i can get sooo close\", \"tokens\": \". the tip is super precise for a stil ##etto sharp cat eye flick . i can get soo ##o close\", \"word\": \"sharp\", \"stars\": \"5 stars\", \"brand\": \"Stila\", \"name\": \"Stay All Day\\u00ae Waterproof Liquid Eye Liner\", \"type\": \"Liquid Eyeliner\"}, {\"x\": -0.050314974039793015, \"y\": 0.01728372648358345, \"context\": \"a year now and it is excellent. goes on **smooth** and has amazing staying power with no smudging\", \"tokens\": \"a year now and it is excellent . goes on smooth and has amazing staying power with no sm ##ud ##ging\", \"word\": \"smooth\", \"stars\": \"5 stars\", \"brand\": \"Marc Jacobs\", \"name\": \"Highliner Gel Eye Crayon Eyeliner\", \"type\": \"Gel Eyeliner\"}, {\"x\": -0.043833181262016296, \"y\": 0.04894917085766792, \"context\": \"the felt tip of the new version is stiff and **sharp** as he | |, in a bad way.\", \"tokens\": \"the felt tip of the new version is stiff and sharp as he | | , in a bad way .\", \"word\": \"sharp\", \"stars\": \"1 star\", \"brand\": \"Stila\", \"name\": \"Stay All Day\\u00ae Waterproof Liquid Eye Liner\", \"type\": \"Liquid Eyeliner\"}, {\"x\": -0.0496666319668293, \"y\": -0.018991025164723396, \"context\": \"i am blown away by how precise, easy, **clean**, and long-wearing this liner is. the\", \"tokens\": \"i am blown away by how precise , easy , clean , and long - wearing this liner is . the\", \"word\": \"clean\", \"stars\": \"5 stars\", \"brand\": \"Stila\", \"name\": \"Stay All Day\\u00ae Waterproof Liquid Eye Liner\", \"type\": \"Liquid Eyeliner\"}, {\"x\": -0.0472676157951355, \"y\": -0.053467292338609695, \"context\": \"in ages, i was actually able to do a **clean** 60s wing look without looking like a vampy retro\", \"tokens\": \"in ages , i was actually able to do a clean 60s wing look without looking like a vamp ##y retro\", \"word\": \"clean\", \"stars\": \"5 stars\", \"brand\": \"Stila\", \"name\": \"Stay All Day\\u00ae Waterproof Liquid Eye Liner\", \"type\": \"Liquid Eyeliner\"}, {\"x\": -0.050073958933353424, \"y\": 0.01926407776772976, \"context\": \"s left of it very difficult to apply in a **smooth** way. i am in my 40s so i\", \"tokens\": \"s left of it very difficult to apply in a smooth way . i am in my 40 ##s so i\", \"word\": \"smooth\", \"stars\": \"1 star\", \"brand\": \"Stila\", \"name\": \"Stay All Day\\u00ae Waterproof Liquid Eye Liner\", \"type\": \"Liquid Eyeliner\"}, {\"x\": -0.04476335272192955, \"y\": 0.035333920270204544, \"context\": \"than others, and easier to make fine lines and **sharp** points. i 'll never use anything else again\", \"tokens\": \"than others , and easier to make fine lines and sharp points . i ' ll never use anything else again\", \"word\": \"sharp\", \"stars\": \"5 stars\", \"brand\": \"Stila\", \"name\": \"Stay All Day\\u00ae Waterproof Liquid Eye Liner\", \"type\": \"Liquid Eyeliner\"}, {\"x\": -0.045596878975629807, \"y\": -0.08944437652826309, \"context\": \"and the only way to use the pen was to **clean** it across a makeup wipe to loosen up the felt\", \"tokens\": \"and the only way to use the pen was to clean it across a makeup wipe to loosen up the felt\", \"word\": \"clean\", \"stars\": \"1 star\", \"brand\": \"Stila\", \"name\": \"Stay All Day\\u00ae Waterproof Liquid Eye Liner\", \"type\": \"Liquid Eyeliner\"}, {\"x\": -0.05076625570654869, \"y\": -0.02161485143005848, \"context\": \"'s liquid liner, but it draws a very **clean** a precise line. i do not like smud\", \"tokens\": \"' s liquid liner , but it draws a very clean a precise line . i do not like sm ##ud\", \"word\": \"clean\", \"stars\": \"5 stars\", \"brand\": \"Stila\", \"name\": \"Stay All Day\\u00ae Waterproof Liquid Eye Liner\", \"type\": \"Liquid Eyeliner\"}, {\"x\": -0.04696638137102127, \"y\": 0.02839183434844017, \"context\": \"omg big big difference my eye makeup stayed amazingly **sharp** never going without this spray i wore this over my\", \"tokens\": \"om ##g big big difference my eye makeup stayed amazingly sharp never going without this spray i wore this over my\", \"word\": \"sharp\", \"stars\": \"5 stars\", \"brand\": \"Urban Decay\", \"name\": \"All Nighter Long-Lasting Makeup Setting Spray\", \"type\": \"Setting Spray\"}, {\"x\": -0.051743101328611374, \"y\": 0.024307603016495705, \"context\": \"on for hours all the while it has such a **smooth** flawless finish. it's the last step in\", \"tokens\": \"on for hours all the while it has such a smooth flawless finish . it ' s the last step in\", \"word\": \"smooth\", \"stars\": \"5 stars\", \"brand\": \"Urban Decay\", \"name\": \"All Nighter Long-Lasting Makeup Setting Spray\", \"type\": \"Setting Spray\"}, {\"x\": -0.049085117876529694, \"y\": -0.062312230467796326, \"context\": \"a try and it works! i started with a **clean** face, oil-free moisturizer, prime\", \"tokens\": \"a try and it works ! i started with a clean face , oil - free moist ##uri ##zer , prime\", \"word\": \"clean\", \"stars\": \"5 stars\", \"brand\": \"Urban Decay\", \"name\": \"All Nighter Long-Lasting Makeup Setting Spray\", \"type\": \"Setting Spray\"}, {\"x\": -0.05230724439024925, \"y\": 0.005506901070475578, \"context\": \"have make up on since it leaves my skin very **smooth**. by the end of the day, i have\", \"tokens\": \"have make up on since it leaves my skin very smooth . by the end of the day , i have\", \"word\": \"smooth\", \"stars\": \"1 star\", \"brand\": \"Too Faced\", \"name\": \"Better Than Sex Mascara\", \"type\": \"Mascara\"}, {\"x\": -0.05151945352554321, \"y\": 0.020681532099843025, \"context\": \"in place for hours & makes my skin look extremely **smooth**. my pores were nearly invisible and i have\", \"tokens\": \"in place for hours & makes my skin look extremely smooth . my por ##es were nearly invisible and i have\", \"word\": \"smooth\", \"stars\": \"5 stars\", \"brand\": \"Urban Decay\", \"name\": \"All Nighter Long-Lasting Makeup Setting Spray\", \"type\": \"Setting Spray\"}, {\"x\": -0.05023082718253136, \"y\": 0.004066476132720709, \"context\": \"it also won 't make your makeup look any **smoother**. in conclusion, this product does absolutely nothing\", \"tokens\": \"it also won ' t make your makeup look any smooth ##er . in conclusion , this product does absolutely nothing\", \"word\": \"smooth\", \"stars\": \"1 star\", \"brand\": \"Urban Decay\", \"name\": \"All Nighter Long-Lasting Makeup Setting Spray\", \"type\": \"Setting Spray\"}, {\"x\": -0.04304239898920059, \"y\": 0.03859192878007889, \"context\": \"beat, highlight still poppin, contour still **sharp** as a knife. 10 / 10 would recommend.\", \"tokens\": \"beat , highlight still pop ##pin , con ##tour still sharp as a knife . 10 / 10 would recommend .\", \"word\": \"sharp\", \"stars\": \"5 stars\", \"brand\": \"Urban Decay\", \"name\": \"All Nighter Long-Lasting Makeup Setting Spray\", \"type\": \"Setting Spray\"}, {\"x\": -0.04126787185668945, \"y\": -0.10914383828639984, \"context\": \"to run, but it is too much work to **clean** up that mess and touch everything back up, so\", \"tokens\": \"to run , but it is too much work to clean up that mess and touch everything back up , so\", \"word\": \"clean\", \"stars\": \"5 stars\", \"brand\": \"Urban Decay\", \"name\": \"All Nighter Long-Lasting Makeup Setting Spray\", \"type\": \"Setting Spray\"}]}}, {\"mode\": \"vega-lite\"});\n",
              "</script>"
            ],
            "text/plain": [
              "alt.Chart(...)"
            ]
          },
          "metadata": {},
          "execution_count": 46
        }
      ]
    },
    {
      "cell_type": "code",
      "source": [
        "# List of keywords that you want to compare\n",
        "keywords = ['long']\n",
        "\n",
        "# How to color the points in the plot. The other option is \"period\" for time period\n",
        "color_by = 'word'\n",
        "\n",
        "# Get all word positions\n",
        "word_positions = get_word_positions(keywords)\n",
        "\n",
        "# Get all contexts around the words\n",
        "keyword_contexts = []\n",
        "keyword_contexts_tokens = []\n",
        "words = []\n",
        "\n",
        "for position in word_positions:\n",
        "  words.append(word_lookup[all_word_ids[position]])\n",
        "  keyword_contexts.append(get_context_clean(position))\n",
        "  keyword_contexts_tokens.append(get_context(position))\n",
        "\n",
        "# Reduce word vectors with PCA\n",
        "pca = PCA(n_components=2)\n",
        "pca.fit(all_word_vectors[word_positions,:].T)\n",
        "\n",
        "# Make a DataFrame with PCA results\n",
        "df_to_plot = pd.DataFrame({\"x\": pca.components_[0,:], \n",
        "                           \"y\": pca.components_[1,:],\n",
        "                           \"context\": keyword_contexts, \n",
        "                           \"tokens\": keyword_contexts_tokens, \n",
        "                           \"word\": words})\n",
        "# Match original text and metadata\n",
        "df_to_plot[['stars', 'brand', 'name', 'type']] = df_to_plot.apply(find_original_review, axis='columns', result_type='expand')\n",
        "\n",
        "# Rename columns so that the context shows up as the \"title\" in the tooltip (bigger and bolded)\n",
        "# df = df.rename(columns={'brand': 'brand', 'name': 'title'})\n",
        "\n",
        "# Make the plot\n",
        "alt.Chart(df_to_plot, title=f\"Word Similarity: {', '.join(keywords).title()}\").mark_circle(size=200).encode(\n",
        "    alt.X('x',\n",
        "        scale=alt.Scale(zero=False)\n",
        "    ), y=\"y\",\n",
        "    color= color_by,\n",
        "    # href=\"link\",\n",
        "    tooltip=['word', 'context', 'type', 'brand', 'name', 'stars']\n",
        "    ).interactive().properties(\n",
        "    width=500,\n",
        "    height=500\n",
        ")"
      ],
      "metadata": {
        "id": "Zf9mvpIhVxGT",
        "colab": {
          "base_uri": "https://localhost:8080/",
          "height": 585
        },
        "outputId": "ecef69d8-0232-485f-db0d-5ae2734eb6f8"
      },
      "execution_count": null,
      "outputs": [
        {
          "output_type": "execute_result",
          "data": {
            "text/html": [
              "\n",
              "<div id=\"altair-viz-210bdc9eb7d44924a45084e432dd0b51\"></div>\n",
              "<script type=\"text/javascript\">\n",
              "  var VEGA_DEBUG = (typeof VEGA_DEBUG == \"undefined\") ? {} : VEGA_DEBUG;\n",
              "  (function(spec, embedOpt){\n",
              "    let outputDiv = document.currentScript.previousElementSibling;\n",
              "    if (outputDiv.id !== \"altair-viz-210bdc9eb7d44924a45084e432dd0b51\") {\n",
              "      outputDiv = document.getElementById(\"altair-viz-210bdc9eb7d44924a45084e432dd0b51\");\n",
              "    }\n",
              "    const paths = {\n",
              "      \"vega\": \"https://cdn.jsdelivr.net/npm//vega@5?noext\",\n",
              "      \"vega-lib\": \"https://cdn.jsdelivr.net/npm//vega-lib?noext\",\n",
              "      \"vega-lite\": \"https://cdn.jsdelivr.net/npm//vega-lite@4.17.0?noext\",\n",
              "      \"vega-embed\": \"https://cdn.jsdelivr.net/npm//vega-embed@6?noext\",\n",
              "    };\n",
              "\n",
              "    function maybeLoadScript(lib, version) {\n",
              "      var key = `${lib.replace(\"-\", \"\")}_version`;\n",
              "      return (VEGA_DEBUG[key] == version) ?\n",
              "        Promise.resolve(paths[lib]) :\n",
              "        new Promise(function(resolve, reject) {\n",
              "          var s = document.createElement('script');\n",
              "          document.getElementsByTagName(\"head\")[0].appendChild(s);\n",
              "          s.async = true;\n",
              "          s.onload = () => {\n",
              "            VEGA_DEBUG[key] = version;\n",
              "            return resolve(paths[lib]);\n",
              "          };\n",
              "          s.onerror = () => reject(`Error loading script: ${paths[lib]}`);\n",
              "          s.src = paths[lib];\n",
              "        });\n",
              "    }\n",
              "\n",
              "    function showError(err) {\n",
              "      outputDiv.innerHTML = `<div class=\"error\" style=\"color:red;\">${err}</div>`;\n",
              "      throw err;\n",
              "    }\n",
              "\n",
              "    function displayChart(vegaEmbed) {\n",
              "      vegaEmbed(outputDiv, spec, embedOpt)\n",
              "        .catch(err => showError(`Javascript Error: ${err.message}<br>This usually means there's a typo in your chart specification. See the javascript console for the full traceback.`));\n",
              "    }\n",
              "\n",
              "    if(typeof define === \"function\" && define.amd) {\n",
              "      requirejs.config({paths});\n",
              "      require([\"vega-embed\"], displayChart, err => showError(`Error loading script: ${err.message}`));\n",
              "    } else {\n",
              "      maybeLoadScript(\"vega\", \"5\")\n",
              "        .then(() => maybeLoadScript(\"vega-lite\", \"4.17.0\"))\n",
              "        .then(() => maybeLoadScript(\"vega-embed\", \"6\"))\n",
              "        .catch(showError)\n",
              "        .then(() => displayChart(vegaEmbed));\n",
              "    }\n",
              "  })({\"config\": {\"view\": {\"continuousWidth\": 400, \"continuousHeight\": 300}}, \"data\": {\"name\": \"data-a31ee4e8a86221c00d639c62b3d9776e\"}, \"mark\": {\"type\": \"circle\", \"size\": 200}, \"encoding\": {\"color\": {\"field\": \"word\", \"type\": \"nominal\"}, \"tooltip\": [{\"field\": \"word\", \"type\": \"nominal\"}, {\"field\": \"context\", \"type\": \"nominal\"}, {\"field\": \"type\", \"type\": \"nominal\"}, {\"field\": \"brand\", \"type\": \"nominal\"}, {\"field\": \"name\", \"type\": \"nominal\"}, {\"field\": \"stars\", \"type\": \"nominal\"}], \"x\": {\"field\": \"x\", \"scale\": {\"zero\": false}, \"type\": \"quantitative\"}, \"y\": {\"field\": \"y\", \"type\": \"quantitative\"}}, \"height\": 500, \"selection\": {\"selector005\": {\"type\": \"interval\", \"bind\": \"scales\", \"encodings\": [\"x\", \"y\"]}}, \"title\": \"Word Similarity: Long\", \"width\": 500, \"$schema\": \"https://vega.github.io/schema/vega-lite/v4.17.0.json\", \"datasets\": {\"data-a31ee4e8a86221c00d639c62b3d9776e\": [{\"x\": -0.03584003448486328, \"y\": -0.05140502378344536, \"context\": \"this product. my sister has already fulk and **long** lashes but this product made her eyelashes clumpy\", \"tokens\": \"this product . my sister has already fu ##lk and long lashes but this product made her eyelashes cl ##ump ##y\", \"word\": \"long\", \"stars\": \"1 star\", \"brand\": \"Too Faced\", \"name\": \"Better Than Sex Mascara\", \"type\": \"Mascara\"}, {\"x\": -0.037639617919921875, \"y\": -0.0019181451061740518, \"context\": \". still too much product on the brush, not **long**-lasting, very clumpy. i liked\", \"tokens\": \". still too much product on the brush , not long - lasting , very cl ##ump ##y . i liked\", \"word\": \"long\", \"stars\": \"1 star\", \"brand\": \"Too Faced\", \"name\": \"Better Than Sex Mascara\", \"type\": \"Mascara\"}, {\"x\": -0.035935208201408386, \"y\": -0.05156080797314644, \"context\": \"natural full length, 2 coats is a more impressive **long** lashes and 3 coats is a dramatic look. for\", \"tokens\": \"natural full length , 2 coats is a more impressive long lashes and 3 coats is a dramatic look . for\", \"word\": \"long\", \"stars\": \"5 stars\", \"brand\": \"Too Faced\", \"name\": \"Better Than Sex Mascara\", \"type\": \"Mascara\"}, {\"x\": -0.03802114352583885, \"y\": -0.01784902811050415, \"context\": \"the formula is really watery. volume, yes. **long** wear, no. this mascara would be excellent if\", \"tokens\": \"the formula is really watery . volume , yes . long wear , no . this mascara would be excellent if\", \"word\": \"long\", \"stars\": \"2 stars\", \"brand\": \"Too Faced\", \"name\": \"Better Than Sex Mascara\", \"type\": \"Mascara\"}, {\"x\": -0.03652019426226616, \"y\": -0.03784085065126419, \"context\": \"irritated. other than that it makes my lashes look **long** thick and as black as my heart. will be\", \"tokens\": \"irritated . other than that it makes my lashes look long thick and as black as my heart . will be\", \"word\": \"long\", \"stars\": \"4 stars\", \"brand\": \"Too Faced\", \"name\": \"Better Than Sex Mascara\", \"type\": \"Mascara\"}, {\"x\": -0.036472901701927185, \"y\": -0.050555530935525894, \"context\": \"quite honestly i love this mascara. i do have **long** lashes, so it doesn 't clump them\", \"tokens\": \"quite honestly i love this mascara . i do have long lashes , so it doesn ' t cl ##ump them\", \"word\": \"long\", \"stars\": \"5 stars\", \"brand\": \"Too Faced\", \"name\": \"Better Than Sex Mascara\", \"type\": \"Mascara\"}, {\"x\": -0.03554365038871765, \"y\": -0.04434909299015999, \"context\": \"complete love since! highly recommended for anyone looking for **long**, lush, volumized lashes! i am\", \"tokens\": \"complete love since ! highly recommended for anyone looking for long , lush , vol ##umi ##zed lashes ! i am\", \"word\": \"long\", \"stars\": \"5 stars\", \"brand\": \"Too Faced\", \"name\": \"Better Than Sex Mascara\", \"type\": \"Mascara\"}, {\"x\": -0.034876417368650436, \"y\": -0.04775290936231613, \"context\": \"looking for something that would give me that full, **long** baby doll lash look and this is it!!\", \"tokens\": \"looking for something that would give me that full , long baby doll lash look and this is it ! !\", \"word\": \"long\", \"stars\": \"5 stars\", \"brand\": \"Too Faced\", \"name\": \"Better Than Sex Mascara\", \"type\": \"Mascara\"}, {\"x\": -0.034936949610710144, \"y\": -0.05566959083080292, \"context\": \"such a great mascara. i have a lot of **long** eyelashes and it adds volume like crazy but it doesn\", \"tokens\": \"such a great mascara . i have a lot of long eyelashes and it adds volume like crazy but it doesn\", \"word\": \"long\", \"stars\": \"5 stars\", \"brand\": \"Too Faced\", \"name\": \"Better Than Sex Mascara\", \"type\": \"Mascara\"}, {\"x\": -0.03649110347032547, \"y\": -0.05255506932735443, \"context\": \"is very deceiving. if you have beautiful **long** and thick lashes already then i would say this will\", \"tokens\": \"is very dec ##ei ##ving . if you have beautiful long and thick lashes already then i would say this will\", \"word\": \"long\", \"stars\": \"1 star\", \"brand\": \"Too Faced\", \"name\": \"Better Than Sex Mascara\", \"type\": \"Mascara\"}, {\"x\": -0.03599192947149277, \"y\": -0.05605648085474968, \"context\": \"visually-it makes my lashes look full and super **long**. on a regular makeup day ( foundation, conceal\", \"tokens\": \"visually - it makes my lashes look full and super long . on a regular makeup day ( foundation , conceal\", \"word\": \"long\", \"stars\": \"2 stars\", \"brand\": \"Too Faced\", \"name\": \"Better Than Sex Mascara\", \"type\": \"Mascara\"}, {\"x\": -0.035164814442396164, \"y\": -0.0636335238814354, \"context\": \"ran \\u2026 read more i love the dramatic effect of **long**, thick, volumized, and defined lashes\", \"tokens\": \"ran \\u2026 read more i love the dramatic effect of long , thick , vol ##umi ##zed , and defined lashes\", \"word\": \"long\", \"stars\": \"5 stars\", \"brand\": \"Too Faced\", \"name\": \"Better Than Sex Mascara\", \"type\": \"Mascara\"}, {\"x\": -0.037743665277957916, \"y\": -0.05104746297001839, \"context\": \"for you. this mascara makes my lashes look very **long** and has lots of volume, but after a few\", \"tokens\": \"for you . this mascara makes my lashes look very long and has lots of volume , but after a few\", \"word\": \"long\", \"stars\": \"4 stars\", \"brand\": \"Too Faced\", \"name\": \"Better Than Sex Mascara\", \"type\": \"Mascara\"}, {\"x\": -0.03533202037215233, \"y\": -0.050829410552978516, \"context\": \"the entire look was sloppy. maybe if you have **long**, thick lashes to begin with this product works but\", \"tokens\": \"the entire look was sloppy . maybe if you have long , thick lashes to begin with this product works but\", \"word\": \"long\", \"stars\": \"1 star\", \"brand\": \"Too Faced\", \"name\": \"Better Than Sex Mascara\", \"type\": \"Mascara\"}, {\"x\": -0.03596184030175209, \"y\": 0.03978041186928749, \"context\": \"i felt like it didn 't last me very **long**. a sa recommended this to me, and i\", \"tokens\": \"i felt like it didn ' t last me very long . a sa recommended this to me , and i\", \"word\": \"long\", \"stars\": \"5 stars\", \"brand\": \"Too Faced\", \"name\": \"Better Than Sex Mascara\", \"type\": \"Mascara\"}, {\"x\": -0.03609378635883331, \"y\": -0.05491960421204567, \"context\": \", and i fell in love. i have naturally **long** lashes, so i look for something with great volume\", \"tokens\": \", and i fell in love . i have naturally long lashes , so i look for something with great volume\", \"word\": \"long\", \"stars\": \"5 stars\", \"brand\": \"Too Faced\", \"name\": \"Better Than Sex Mascara\", \"type\": \"Mascara\"}, {\"x\": -0.03584740310907364, \"y\": 0.01989610306918621, \"context\": \"it 3 stars for good volume and lengthening but **long**-term wear and quality wise, it doesn '\", \"tokens\": \"it 3 stars for good volume and length ##ening but long - term wear and quality wise , it doesn '\", \"word\": \"long\", \"stars\": \"3 stars\", \"brand\": \"Too Faced\", \"name\": \"Better Than Sex Mascara\", \"type\": \"Mascara\"}, {\"x\": -0.03689794987440109, \"y\": -0.05704456940293312, \"context\": \"to make them pop! it makes your eyelashes look **long**, full, and healthy and not look like you\", \"tokens\": \"to make them pop ! it makes your eyelashes look long , full , and healthy and not look like you\", \"word\": \"long\", \"stars\": \"5 stars\", \"brand\": \"Too Faced\", \"name\": \"Better Than Sex Mascara\", \"type\": \"Mascara\"}, {\"x\": -0.036229152232408524, \"y\": -0.06021847203373909, \"context\": \"it claims. it makes your lashes look full, **long**, and fluffy. however, it has ruined so\", \"tokens\": \"it claims . it makes your lashes look full , long , and fluffy . however , it has ruined so\", \"word\": \"long\", \"stars\": \"3 stars\", \"brand\": \"Too Faced\", \"name\": \"Better Than Sex Mascara\", \"type\": \"Mascara\"}, {\"x\": -0.035545870661735535, \"y\": -0.05463109910488129, \"context\": \"real ( dreadful ). i don 't have **long** eyelashes and two coats of this looks like i have\", \"tokens\": \"real ( dreadful ) . i don ' t have long eyelashes and two coats of this looks like i have\", \"word\": \"long\", \"stars\": \"5 stars\", \"brand\": \"Too Faced\", \"name\": \"Better Than Sex Mascara\", \"type\": \"Mascara\"}, {\"x\": -0.03668493777513504, \"y\": -0.03915636986494064, \"context\": \"mascara so much! it makes my lash look amazing **long** and yet so pretty. it es everything is says\", \"tokens\": \"mascara so much ! it makes my lash look amazing long and yet so pretty . it es everything is says\", \"word\": \"long\", \"stars\": \"5 stars\", \"brand\": \"Too Faced\", \"name\": \"Better Than Sex Mascara\", \"type\": \"Mascara\"}, {\"x\": -0.03492698818445206, \"y\": -0.04596943035721779, \"context\": \"lashes. beautiful, my husband even commented on how **long** and curly they were ( he doesn 't ever\", \"tokens\": \"lashes . beautiful , my husband even commented on how long and curly they were ( he doesn ' t ever\", \"word\": \"long\", \"stars\": \"5 stars\", \"brand\": \"Too Faced\", \"name\": \"Better Than Sex Mascara\", \"type\": \"Mascara\"}, {\"x\": -0.0377546027302742, \"y\": -0.04599230736494064, \"context\": \"lashes what this one has done. my lashes are **long** and full and lasts all day. yes the brush\", \"tokens\": \"lashes what this one has done . my lashes are long and full and lasts all day . yes the brush\", \"word\": \"long\", \"stars\": \"4 stars\", \"brand\": \"Too Faced\", \"name\": \"Better Than Sex Mascara\", \"type\": \"Mascara\"}, {\"x\": -0.035732630640268326, \"y\": -0.04848263040184975, \"context\": \"right for my type of lashes. i have already **long** thick lashes-not sure if that makes a difference\", \"tokens\": \"right for my type of lashes . i have already long thick lashes - not sure if that makes a difference\", \"word\": \"long\", \"stars\": \"2 stars\", \"brand\": \"Too Faced\", \"name\": \"Better Than Sex Mascara\", \"type\": \"Mascara\"}, {\"x\": -0.03587483987212181, \"y\": -0.056419435888528824, \"context\": \"use. im not kidding. makes my lashes so **long** and black. the only downside is it can\", \"tokens\": \"use . im not kidding . makes my lashes so long and black . the only downs ##ide is it can\", \"word\": \"long\", \"stars\": \"5 stars\", \"brand\": \"Too Faced\", \"name\": \"Better Than Sex Mascara\", \"type\": \"Mascara\"}, {\"x\": -0.03492027148604393, \"y\": -0.06063898652791977, \"context\": \"t for everyone. i prefer to have thick, **long** lashes, and that's exactly what this mascara\", \"tokens\": \"t for everyone . i prefer to have thick , long lashes , and that ' s exactly what this mascara\", \"word\": \"long\", \"stars\": \"5 stars\", \"brand\": \"Too Faced\", \"name\": \"Better Than Sex Mascara\", \"type\": \"Mascara\"}, {\"x\": -0.0365658737719059, \"y\": 0.04819803684949875, \"context\": \"this mascara, it doesn 't even last a **long** time. flakes off, embarrassing! this mascara\", \"tokens\": \"this mascara , it doesn ' t even last a long time . fl ##akes off , embarrassing ! this mascara\", \"word\": \"long\", \"stars\": \"1 star\", \"brand\": \"Too Faced\", \"name\": \"Better Than Sex Mascara\", \"type\": \"Mascara\"}, {\"x\": -0.03564924746751785, \"y\": -0.045815374702215195, \"context\": \"would recommend this though because it makes your lashes so **long**. this mascara applies very easily and makes your lashes\", \"tokens\": \"would recommend this though because it makes your lashes so long . this mascara applies very easily and makes your lashes\", \"word\": \"long\", \"stars\": null, \"brand\": null, \"name\": null, \"type\": null}, {\"x\": -0.03665988892316818, \"y\": -0.058816347271203995, \"context\": \", apparently i was wrong. my lashes are very **long** and natural looking. i did use two coats but\", \"tokens\": \", apparently i was wrong . my lashes are very long and natural looking . i did use two coats but\", \"word\": \"long\", \"stars\": \"5 stars\", \"brand\": \"Too Faced\", \"name\": \"Better Than Sex Mascara\", \"type\": \"Mascara\"}, {\"x\": -0.03724487125873566, \"y\": 0.022964168339967728, \"context\": \"my tiny lashes. it doesn 't last very **long**. it clumps. it ends up smeared\", \"tokens\": \"my tiny lashes . it doesn ' t last very long . it cl ##ump ##s . it ends up smeared\", \"word\": \"long\", \"stars\": \"1 star\", \"brand\": \"Too Faced\", \"name\": \"Better Than Sex Mascara\", \"type\": \"Mascara\"}, {\"x\": -0.03619561344385147, \"y\": -0.0535447783768177, \"context\": \"! i 've never seen my eyelashes look so **long**, full, and amazing. i have deep set\", \"tokens\": \"! i ' ve never seen my eyelashes look so long , full , and amazing . i have deep set\", \"word\": \"long\", \"stars\": \"5 stars\", \"brand\": \"Too Faced\", \"name\": \"Better Than Sex Mascara\", \"type\": \"Mascara\"}, {\"x\": -0.03085911087691784, \"y\": 0.026761123910546303, \"context\": \"awhile now and i 'll continue to purchase as **long** as it is available. it really makes my lashes\", \"tokens\": \"awhile now and i ' ll continue to purchase as long as it is available . it really makes my lashes\", \"word\": \"long\", \"stars\": \"5 stars\", \"brand\": \"Too Faced\", \"name\": \"Better Than Sex Mascara\", \"type\": \"Mascara\"}, {\"x\": -0.03808024525642395, \"y\": 0.013298370875418186, \"context\": \"look fuller and **longer** but the product does not last **long**. it is flakey and clumpy\", \"tokens\": \"look fuller and longer but the product does not last long . it is fl ##ake ##y and cl ##ump ##y\", \"word\": \"long\", \"stars\": \"2 stars\", \"brand\": \"Too Faced\", \"name\": \"Better Than Sex Mascara\", \"type\": \"Mascara\"}, {\"x\": -0.029232559725642204, \"y\": 0.030168013647198677, \"context\": \"love love it! will never use another mascara as **long** as this one is around. meh this is\", \"tokens\": \"love love it ! will never use another mascara as long as this one is around . me ##h this is\", \"word\": \"long\", \"stars\": \"5 stars\", \"brand\": \"Too Faced\", \"name\": \"Better Than Sex Mascara\", \"type\": \"Mascara\"}, {\"x\": -0.03611449897289276, \"y\": -0.033608682453632355, \"context\": \"product. i like it, my eyelashes are so **long** when i do use it and i 'm satisfied\", \"tokens\": \"product . i like it , my eyelashes are so long when i do use it and i ' m satisfied\", \"word\": \"long\", \"stars\": \"4 stars\", \"brand\": \"Too Faced\", \"name\": \"Better Than Sex Mascara\", \"type\": \"Mascara\"}, {\"x\": -0.03533456474542618, \"y\": -0.05552301183342934, \"context\": \"was never perfect. nothing was. i have very **long** eyelashes ( even my own sister asked me once if\", \"tokens\": \"was never perfect . nothing was . i have very long eyelashes ( even my own sister asked me once if\", \"word\": \"long\", \"stars\": \"5 stars\", \"brand\": \"Too Faced\", \"name\": \"Better Than Sex Mascara\", \"type\": \"Mascara\"}, {\"x\": -0.03498733788728714, \"y\": -0.0627826452255249, \"context\": \"in love! it makes my lashes look plush, **long**, and very black with a soft look. i\", \"tokens\": \"in love ! it makes my lashes look plush , long , and very black with a soft look . i\", \"word\": \"long\", \"stars\": \"4 stars\", \"brand\": \"Too Faced\", \"name\": \"Better Than Sex Mascara\", \"type\": \"Mascara\"}, {\"x\": -0.03531521558761597, \"y\": -0.05166357755661011, \"context\": \"can 't fix. i would rather have soft **long** looking lashes then crispy gel looking lashes like most\", \"tokens\": \"can ' t fix . i would rather have soft long looking lashes then crisp ##y gel looking lashes like most\", \"word\": \"long\", \"stars\": \"4 stars\", \"brand\": \"Too Faced\", \"name\": \"Better Than Sex Mascara\", \"type\": \"Mascara\"}, {\"x\": -0.03771616518497467, \"y\": -0.04136696085333824, \"context\": \"my lashes are not too short but also not too **long**, and with this mascara it gives it such great\", \"tokens\": \"my lashes are not too short but also not too long , and with this mascara it gives it such great\", \"word\": \"long\", \"stars\": \"5 stars\", \"brand\": \"Too Faced\", \"name\": \"Better Than Sex Mascara\", \"type\": \"Mascara\"}, {\"x\": -0.036090459674596786, \"y\": -0.04559602588415146, \"context\": \"up just a pitch for better control. best for **long** lashes because of size of brush. i always have\", \"tokens\": \"up just a pitch for better control . best for long lashes because of size of brush . i always have\", \"word\": \"long\", \"stars\": \"4 stars\", \"brand\": \"Too Faced\", \"name\": \"Better Than Sex Mascara\", \"type\": \"Mascara\"}, {\"x\": -0.03632611781358719, \"y\": -0.0535198412835598, \"context\": \"blackest i have ever seen. i have very **long** lashes, but no thickness. i struggle to find\", \"tokens\": \"black ##est i have ever seen . i have very long lashes , but no thickness . i struggle to find\", \"word\": \"long\", \"stars\": \"5 stars\", \"brand\": \"Too Faced\", \"name\": \"Better Than Sex Mascara\", \"type\": \"Mascara\"}, {\"x\": -0.03442627936601639, \"y\": 0.04733020439743996, \"context\": \"this. i can 't believe i waited so **long** to try this! it really is amazing! i\", \"tokens\": \"this . i can ' t believe i waited so long to try this ! it really is amazing ! i\", \"word\": \"long\", \"stars\": \"5 stars\", \"brand\": \"Too Faced\", \"name\": \"Better Than Sex Mascara\", \"type\": \"Mascara\"}, {\"x\": -0.03686871379613876, \"y\": -0.04273303225636482, \"context\": \"and this reminds of that. my lashes are pretty **long** anyway, but even with just one coat it '\", \"tokens\": \"and this reminds of that . my lashes are pretty long anyway , but even with just one coat it '\", \"word\": \"long\", \"stars\": \"5 stars\", \"brand\": \"Too Faced\", \"name\": \"Better Than Sex Mascara\", \"type\": \"Mascara\"}, {\"x\": -0.0365125834941864, \"y\": -0.02268928475677967, \"context\": \"don 't have that problem-because they get **long** enough with just one coat. and for going out\", \"tokens\": \"don ' t have that problem - because they get long enough with just one coat . and for going out\", \"word\": \"long\", \"stars\": \"5 stars\", \"brand\": \"Too Faced\", \"name\": \"Better Than Sex Mascara\", \"type\": \"Mascara\"}, {\"x\": -0.0365421362221241, \"y\": -0.03541256859898567, \"context\": \"'t look bad, but it makes them so **long** and dark it almost too **long** and dark-not\", \"tokens\": \"' t look bad , but it makes them so long and dark it almost too long and dark - not\", \"word\": \"long\", \"stars\": \"5 stars\", \"brand\": \"Too Faced\", \"name\": \"Better Than Sex Mascara\", \"type\": \"Mascara\"}, {\"x\": -0.0371847040951252, \"y\": -0.015486347489058971, \"context\": \"it makes them so **long** and dark it almost too **long** and dark-not a problem i 've encountered\", \"tokens\": \"it makes them so long and dark it almost too long and dark - not a problem i ' ve encountered\", \"word\": \"long\", \"stars\": \"5 stars\", \"brand\": \"Too Faced\", \"name\": \"Better Than Sex Mascara\", \"type\": \"Mascara\"}, {\"x\": -0.03576697036623955, \"y\": -0.01309411320835352, \"context\": \"once. plus, the wand isn 't so **long** that you accidentally get mascara on the bridge of your\", \"tokens\": \"once . plus , the wand isn ' t so long that you accidentally get mascara on the bridge of your\", \"word\": \"long\", \"stars\": \"5 stars\", \"brand\": \"Too Faced\", \"name\": \"Better Than Sex Mascara\", \"type\": \"Mascara\"}, {\"x\": -0.03655004873871803, \"y\": -0.04738312587141991, \"context\": \"time trying it and really like it. i have **long** lashes but need more of the fullness and this\", \"tokens\": \"time trying it and really like it . i have long lashes but need more of the full ##ness and this\", \"word\": \"long\", \"stars\": \"5 stars\", \"brand\": \"Too Faced\", \"name\": \"Better Than Sex Mascara\", \"type\": \"Mascara\"}, {\"x\": -0.03546472266316414, \"y\": -0.05405401811003685, \"context\": \"other mascara again. my lashes were full, and **long** and i only used one coat. i 'm\", \"tokens\": \"other mascara again . my lashes were full , and long and i only used one coat . i ' m\", \"word\": \"long\", \"stars\": \"5 stars\", \"brand\": \"Too Faced\", \"name\": \"Better Than Sex Mascara\", \"type\": \"Mascara\"}, {\"x\": -0.03516944870352745, \"y\": -0.058227408677339554, \"context\": \"have to. this product is great for individuals with **long** and dense eyelashes. i sometimes have trouble getting my\", \"tokens\": \"have to . this product is great for individuals with long and dense eyelashes . i sometimes have trouble getting my\", \"word\": \"long\", \"stars\": \"5 stars\", \"brand\": \"Too Faced\", \"name\": \"Better Than Sex Mascara\", \"type\": \"Mascara\"}, {\"x\": -0.03504522517323494, \"y\": 0.029200851917266846, \"context\": \"this mascara. a little bit of product goes a **long** way. \\u2026 read more terrible i have been a\", \"tokens\": \"this mascara . a little bit of product goes a long way . \\u2026 read more terrible i have been a\", \"word\": \"long\", \"stars\": null, \"brand\": null, \"name\": null, \"type\": null}, {\"x\": -0.031957097351551056, \"y\": 0.02078460529446602, \"context\": \"this stuff looks stunning and luscious. as **long** as you apply multiple coats before the previous coat dr\", \"tokens\": \"this stuff looks stunning and lu ##sc ##ious . as long as you apply multiple coats before the previous coat dr\", \"word\": \"long\", \"stars\": \"5 stars\", \"brand\": \"Too Faced\", \"name\": \"Better Than Sex Mascara\", \"type\": \"Mascara\"}, {\"x\": -0.036125075072050095, \"y\": -0.02290148288011551, \"context\": \". my lashes are pretty good naturally, nice and **long** i just want volume. maybe i need to try\", \"tokens\": \". my lashes are pretty good naturally , nice and long i just want volume . maybe i need to try\", \"word\": \"long\", \"stars\": \"3 stars\", \"brand\": \"Too Faced\", \"name\": \"Better Than Sex Mascara\", \"type\": \"Mascara\"}, {\"x\": -0.03684541955590248, \"y\": -0.0478501170873642, \"context\": \"get me wrong, this mascara makes my eyelashes crazy **long**, separated, lots of volume. it is a\", \"tokens\": \"get me wrong , this mascara makes my eyelashes crazy long , separated , lots of volume . it is a\", \"word\": \"long\", \"stars\": \"4 stars\", \"brand\": \"Too Faced\", \"name\": \"Better Than Sex Mascara\", \"type\": \"Mascara\"}, {\"x\": -0.03725696727633476, \"y\": -0.04792347177863121, \"context\": \"smudging and flaking. i have very **long** natural lashes with kind of oily eyelids and with\", \"tokens\": \"sm ##ud ##ging and fl ##aking . i have very long natural lashes with kind of oil ##y eyelids and with\", \"word\": \"long\", \"stars\": \"4 stars\", \"brand\": \"Too Faced\", \"name\": \"Better Than Sex Mascara\", \"type\": \"Mascara\"}, {\"x\": -0.035598937422037125, \"y\": -0.051732517778873444, \"context\": \"if you don 't have oily eyelids or **long** eyelashes i would recommend, but i have a $\", \"tokens\": \"if you don ' t have oil ##y eyelids or long eyelashes i would recommend , but i have a $\", \"word\": \"long\", \"stars\": \"4 stars\", \"brand\": \"Too Faced\", \"name\": \"Better Than Sex Mascara\", \"type\": \"Mascara\"}, {\"x\": -0.03553463891148567, \"y\": -0.05341821163892746, \"context\": \"best. my lashes come out thick, full, **long** and dark without being clumpy at all.\", \"tokens\": \"best . my lashes come out thick , full , long and dark without being cl ##ump ##y at all .\", \"word\": \"long\", \"stars\": \"5 stars\", \"brand\": \"Too Faced\", \"name\": \"Better Than Sex Mascara\", \"type\": \"Mascara\"}, {\"x\": -0.033625487238168716, \"y\": -0.034912705421447754, \"context\": \"why i much prefer bobbi brown intensifying longwear ). but this is a nice enough product\", \"tokens\": \"why i much prefer bob ##bi brown int ##ens ##ifying long ##wear ) . but this is a nice enough product\", \"word\": \"long\", \"stars\": \"4 stars\", \"brand\": \"Too Faced\", \"name\": \"Better Than Sex Mascara\", \"type\": \"Mascara\"}, {\"x\": -0.03239061310887337, \"y\": 0.05147452652454376, \"context\": \"i bought this mascara after thinking it over for a **long** time and i ended up giving it to a friend\", \"tokens\": \"i bought this mascara after thinking it over for a long time and i ended up giving it to a friend\", \"word\": \"long\", \"stars\": \"1 star\", \"brand\": \"Too Faced\", \"name\": \"Better Than Sex Mascara\", \"type\": \"Mascara\"}, {\"x\": -0.03670038655400276, \"y\": -0.05069619417190552, \"context\": \"are more on the short side and they look extremely **long** when i use this mascara. it also separates my\", \"tokens\": \"are more on the short side and they look extremely long when i use this mascara . it also separates my\", \"word\": \"long\", \"stars\": \"5 stars\", \"brand\": \"Too Faced\", \"name\": \"Better Than Sex Mascara\", \"type\": \"Mascara\"}, {\"x\": -0.03614041581749916, \"y\": -0.05237603560090065, \"context\": \"my eyes pop. highly recommend my lashes are super **long** and thick with this mascara, i really love the\", \"tokens\": \"my eyes pop . highly recommend my lashes are super long and thick with this mascara , i really love the\", \"word\": \"long\", \"stars\": \"5 stars\", \"brand\": \"Too Faced\", \"name\": \"Better Than Sex Mascara\", \"type\": \"Mascara\"}, {\"x\": -0.03386777639389038, \"y\": 0.042744383215904236, \"context\": \"up to my expectations. it flakes off not **long** after putting it on leaving me with a racco\", \"tokens\": \"up to my expectations . it fl ##akes off not long after putting it on leaving me with a ra ##cco\", \"word\": \"long\", \"stars\": \"2 stars\", \"brand\": \"Too Faced\", \"name\": \"Better Than Sex Mascara\", \"type\": \"Mascara\"}, {\"x\": -0.03596079349517822, \"y\": -0.022041713818907738, \"context\": \"bulky. this is pretty much for people who have **long** enough lashes not to need mascara: ( bummer\", \"tokens\": \"bulky . this is pretty much for people who have long enough lashes not to need mascara : ( bum ##mer\", \"word\": \"long\", \"stars\": \"2 stars\", \"brand\": \"Too Faced\", \"name\": \"Better Than Sex Mascara\", \"type\": \"Mascara\"}, {\"x\": -0.03735189884901047, \"y\": -0.05190081521868706, \"context\": \"best mascara i have ever purchased. i have very **long** lashes and most mascaras just clump my lashes\", \"tokens\": \"best mascara i have ever purchased . i have very long lashes and most mascara ##s just cl ##ump my lashes\", \"word\": \"long\", \"stars\": \"5 stars\", \"brand\": \"Too Faced\", \"name\": \"Better Than Sex Mascara\", \"type\": \"Mascara\"}, {\"x\": -0.035443130880594254, \"y\": -0.06295312941074371, \"context\": \"my lashes have a decent amount of volume, are **long**, black, and straight naturally. this mascara definitely\", \"tokens\": \"my lashes have a decent amount of volume , are long , black , and straight naturally . this mascara definitely\", \"word\": \"long\", \"stars\": \"3 stars\", \"brand\": \"Too Faced\", \"name\": \"Better Than Sex Mascara\", \"type\": \"Mascara\"}, {\"x\": -0.03543597832322121, \"y\": -0.05980071425437927, \"context\": \"i find something better. my eyelashes are already super **long**, and this mascara just intensifies that.\", \"tokens\": \"i find something better . my eyelashes are already super long , and this mascara just int ##ens ##ifies that .\", \"word\": \"long\", \"stars\": \"4 stars\", \"brand\": \"Too Faced\", \"name\": \"Better Than Sex Mascara\", \"type\": \"Mascara\"}, {\"x\": -0.03473546355962753, \"y\": -0.0627669245004654, \"context\": \"problem. i have always loved dark, thick, **long** lashes. as i have gotten older, it has\", \"tokens\": \"problem . i have always loved dark , thick , long lashes . as i have gotten older , it has\", \"word\": \"long\", \"stars\": \"5 stars\", \"brand\": \"Too Faced\", \"name\": \"Better Than Sex Mascara\", \"type\": \"Mascara\"}, {\"x\": -0.03467331826686859, \"y\": -0.06209786981344223, \"context\": \"of eyelashes that i have always liked, full, **long**, thick, curled and very black. i even\", \"tokens\": \"of eyelashes that i have always liked , full , long , thick , curled and very black . i even\", \"word\": \"long\", \"stars\": \"5 stars\", \"brand\": \"Too Faced\", \"name\": \"Better Than Sex Mascara\", \"type\": \"Mascara\"}, {\"x\": -0.036013808101415634, \"y\": -0.0525360107421875, \"context\": \"volumizes my lashes and makes them thick and **long** which i love but when i apply it, the\", \"tokens\": \"vol ##umi ##zes my lashes and makes them thick and long which i love but when i apply it , the\", \"word\": \"long\", \"stars\": \"4 stars\", \"brand\": \"Too Faced\", \"name\": \"Better Than Sex Mascara\", \"type\": \"Mascara\"}, {\"x\": -0.036274176090955734, \"y\": -0.05439142882823944, \"context\": \"to people who want to make their lashes look very **long** and thick \\u2026 read more i am a mascara fan\", \"tokens\": \"to people who want to make their lashes look very long and thick \\u2026 read more i am a mascara fan\", \"word\": \"long\", \"stars\": \"4 stars\", \"brand\": \"Too Faced\", \"name\": \"Better Than Sex Mascara\", \"type\": \"Mascara\"}, {\"x\": -0.03579321131110191, \"y\": -0.059940360486507416, \"context\": \"mascara over the primer made my lashes full, **long**, and separated--really amazing! i barely\", \"tokens\": \"mascara over the prime ##r made my lashes full , long , and separated - - really amazing ! i barely\", \"word\": \"long\", \"stars\": \"5 stars\", \"brand\": \"Too Faced\", \"name\": \"Better Than Sex Mascara\", \"type\": \"Mascara\"}, {\"x\": -0.0348452590405941, \"y\": -0.060893334448337555, \"context\": \"holy grail product ). my lashes are naturally **long** and curly so i can 't speak to the\", \"tokens\": \"holy gr ##ail product ) . my lashes are naturally long and curly so i can ' t speak to the\", \"word\": \"long\", \"stars\": \"5 stars\", \"brand\": \"Too Faced\", \"name\": \"Better Than Sex Mascara\", \"type\": \"Mascara\"}, {\"x\": -0.035215385258197784, \"y\": -0.05044352263212204, \"context\": \"when putting on the mascara as t made my lashes **long** and had lots of volume. but i noticed every\", \"tokens\": \"when putting on the mascara as t made my lashes long and had lots of volume . but i noticed every\", \"word\": \"long\", \"stars\": \"2 stars\", \"brand\": \"Too Faced\", \"name\": \"Better Than Sex Mascara\", \"type\": \"Mascara\"}, {\"x\": -0.036197952926158905, \"y\": 0.028207121416926384, \"context\": \"but i noticed every time i wore it not too **long** after it would melt off and be under my eyelids\", \"tokens\": \"but i noticed every time i wore it not too long after it would melt off and be under my eyelids\", \"word\": \"long\", \"stars\": \"2 stars\", \"brand\": \"Too Faced\", \"name\": \"Better Than Sex Mascara\", \"type\": \"Mascara\"}, {\"x\": -0.03761166334152222, \"y\": 0.0004623869026545435, \"context\": \"t wear it to the pool, but it is **long**-lasting. i 've worn it in the\", \"tokens\": \"t wear it to the pool , but it is long - lasting . i ' ve worn it in the\", \"word\": \"long\", \"stars\": \"5 stars\", \"brand\": \"Too Faced\", \"name\": \"Better Than Sex Mascara\", \"type\": \"Mascara\"}, {\"x\": -0.0359359048306942, \"y\": -0.03277680650353432, \"context\": \"really not impressed. granted i don 't have **long** lashes, but this does nothing for them. i\", \"tokens\": \"really not impressed . granted i don ' t have long lashes , but this does nothing for them . i\", \"word\": \"long\", \"stars\": \"1 star\", \"brand\": \"Too Faced\", \"name\": \"Better Than Sex Mascara\", \"type\": \"Mascara\"}, {\"x\": -0.036058004945516586, \"y\": -0.05758574232459068, \"context\": \"about it. this mascara makes your lashes lush and **long**. that being said, there's an issue\", \"tokens\": \"about it . this mascara makes your lashes lush and long . that being said , there ' s an issue\", \"word\": \"long\", \"stars\": \"4 stars\", \"brand\": \"Too Faced\", \"name\": \"Better Than Sex Mascara\", \"type\": \"Mascara\"}, {\"x\": -0.035995084792375565, \"y\": -0.05293674394488335, \"context\": \"ly reccomend this to people. already have **long** lashes, and this mascara does nothing for them.\", \"tokens\": \"##ly rec ##com ##end this to people . already have long lashes , and this mascara does nothing for them .\", \"word\": \"long\", \"stars\": \"5 stars\", \"brand\": \"Too Faced\", \"name\": \"Better Than Sex Mascara\", \"type\": \"Mascara\"}, {\"x\": -0.03636809065937996, \"y\": -0.048131003975868225, \"context\": \"by far my favorite! it makes my lashes so **long** and thick, i never leave home without at least\", \"tokens\": \"by far my favorite ! it makes my lashes so long and thick , i never leave home without at least\", \"word\": \"long\", \"stars\": \"5 stars\", \"brand\": \"Too Faced\", \"name\": \"Better Than Sex Mascara\", \"type\": \"Mascara\"}, {\"x\": -0.03640291839838028, \"y\": 0.05152922496199608, \"context\": \"y and if you have it on for a really **long** time then it flakes off completely. i would\", \"tokens\": \"##y and if you have it on for a really long time then it fl ##akes off completely . i would\", \"word\": \"long\", \"stars\": \"3 stars\", \"brand\": \"Too Faced\", \"name\": \"Better Than Sex Mascara\", \"type\": \"Mascara\"}, {\"x\": -0.03566429018974304, \"y\": -0.05104725807905197, \"context\": \"i should preface this with the fact that i have **long** lashes and normal to dry skin. this product sm\", \"tokens\": \"i should preface this with the fact that i have long lashes and normal to dry skin . this product sm\", \"word\": \"long\", \"stars\": \"2 stars\", \"brand\": \"Too Faced\", \"name\": \"Better Than Sex Mascara\", \"type\": \"Mascara\"}, {\"x\": -0.03349907323718071, \"y\": 0.054036710411310196, \"context\": \"product and i 'll definitely use it for a **long** time. too faced never fails to impress! i\", \"tokens\": \"product and i ' ll definitely use it for a long time . too faced never fails to impress ! i\", \"word\": \"long\", \"stars\": \"5 stars\", \"brand\": \"Too Faced\", \"name\": \"Better Than Sex Mascara\", \"type\": \"Mascara\"}, {\"x\": -0.036319706588983536, \"y\": -0.056662119925022125, \"context\": \"super hard to remove, but great looking full, **long**, thick spider lashes! but mine broke after 3\", \"tokens\": \"super hard to remove , but great looking full , long , thick spider lashes ! but mine broke after 3\", \"word\": \"long\", \"stars\": \"4 stars\", \"brand\": \"Too Faced\", \"name\": \"Better Than Sex Mascara\", \"type\": \"Mascara\"}, {\"x\": -0.0355580635368824, \"y\": -0.056544236838817596, \"context\": \"did i was kind of disappointed. i naturally have **long** and dark eyelashes. when i put this on it\", \"tokens\": \"did i was kind of disappointed . i naturally have long and dark eyelashes . when i put this on it\", \"word\": \"long\", \"stars\": \"2 stars\", \"brand\": \"Too Faced\", \"name\": \"Better Than Sex Mascara\", \"type\": \"Mascara\"}, {\"x\": -0.03535745292901993, \"y\": 0.03844447061419487, \"context\": \"ed and easily removable. however, after a **long** day of work with this mascara, it starts fl\", \"tokens\": \"##ed and easily re ##movable . however , after a long day of work with this mascara , it starts fl\", \"word\": \"long\", \"stars\": \"5 stars\", \"brand\": \"Too Faced\", \"name\": \"Better Than Sex Mascara\", \"type\": \"Mascara\"}, {\"x\": -0.02794373594224453, \"y\": 0.027834801003336906, \"context\": \"weigh the cons in my opinion. as **long** as you 're patient and take the time to\", \"tokens\": \"##weig ##h the con ##s in my opinion . as long as you ' re patient and take the time to\", \"word\": \"long\", \"stars\": \"5 stars\", \"brand\": \"Too Faced\", \"name\": \"Better Than Sex Mascara\", \"type\": \"Mascara\"}, {\"x\": -0.037000253796577454, \"y\": -0.0061140819452703, \"context\": \"so much better than my other mascara. it is **long** lasting and buildable. i love love this product\", \"tokens\": \"so much better than my other mascara . it is long lasting and build ##able . i love love this product\", \"word\": \"long\", \"stars\": \"5 stars\", \"brand\": \"Too Faced\", \"name\": \"Better Than Sex Mascara\", \"type\": \"Mascara\"}, {\"x\": -0.03742656111717224, \"y\": 0.0018069457728415728, \"context\": \"a few of my girlfriends who really need a great **long** lasting mascara. this was my first two faced product\", \"tokens\": \"a few of my girlfriends who really need a great long lasting mascara . this was my first two faced product\", \"word\": \"long\", \"stars\": \"5 stars\", \"brand\": \"Too Faced\", \"name\": \"Better Than Sex Mascara\", \"type\": \"Mascara\"}, {\"x\": -0.03630397841334343, \"y\": -0.05814835801720619, \"context\": \". first of all, my natural lashes are very **long** so i always look for the best volumizing\", \"tokens\": \". first of all , my natural lashes are very long so i always look for the best vol ##umi ##zing\", \"word\": \"long\", \"stars\": \"1 star\", \"brand\": \"Too Faced\", \"name\": \"Better Than Sex Mascara\", \"type\": \"Mascara\"}, {\"x\": -0.035501495003700256, \"y\": -0.03302881121635437, \"context\": \"i tried layering this with the clinique **long**-wearing mascara which was my go to before but\", \"tokens\": \"i tried layer ##ing this with the cl ##ini ##que long - wearing mascara which was my go to before but\", \"word\": \"long\", \"stars\": \"1 star\", \"brand\": \"Too Faced\", \"name\": \"Better Than Sex Mascara\", \"type\": \"Mascara\"}, {\"x\": -0.037325721234083176, \"y\": -0.027631176635622978, \"context\": \"dior etc. etc. this makes lashes so **long** it's unbelievable. the second coat thicken\", \"tokens\": \"di ##or etc . etc . this makes lashes so long it ' s unbelievable . the second coat thick ##en\", \"word\": \"long\", \"stars\": \"5 stars\", \"brand\": \"Too Faced\", \"name\": \"Better Than Sex Mascara\", \"type\": \"Mascara\"}, {\"x\": -0.035964544862508774, \"y\": -0.05081619322299957, \"context\": \"clump very volumizing. made my lashes **long** and full. does not clump on my lashes\", \"tokens\": \"cl ##ump very vol ##umi ##zing . made my lashes long and full . does not cl ##ump on my lashes\", \"word\": \"long\", \"stars\": \"5 stars\", \"brand\": \"Too Faced\", \"name\": \"Better Than Sex Mascara\", \"type\": \"Mascara\"}, {\"x\": -0.03604047745466232, \"y\": -0.04861883074045181, \"context\": \"\\\"and it restored my lashes! i have naturally **long** lashes, though they 're not too full.\", \"tokens\": \"\\\" and it restored my lashes ! i have naturally long lashes , though they ' re not too full .\", \"word\": \"long\", \"stars\": \"5 stars\", \"brand\": \"Too Faced\", \"name\": \"Better Than Sex Mascara\", \"type\": \"Mascara\"}, {\"x\": -0.036512333899736404, \"y\": -0.039165198802948, \"context\": \"always put too many coats on to have a super **long** lashes. after trying many brands i came across to\", \"tokens\": \"always put too many coats on to have a super long lashes . after trying many brands i came across to\", \"word\": \"long\", \"stars\": \"5 stars\", \"brand\": \"Too Faced\", \"name\": \"Better Than Sex Mascara\", \"type\": \"Mascara\"}, {\"x\": -0.036125779151916504, \"y\": -0.03992651775479317, \"context\": \"i just put one or two coats and i have **long** lashes.... love the way the brush\", \"tokens\": \"i just put one or two coats and i have long lashes . . . . love the way the brush\", \"word\": \"long\", \"stars\": null, \"brand\": null, \"name\": null, \"type\": null}, {\"x\": -0.036307793110609055, \"y\": -0.04403278976678848, \"context\": \"on with just a few swipes and gives me **long** lush lashes. it curls them, and the curl\", \"tokens\": \"on with just a few sw ##ipes and gives me long lush lashes . it curls them , and the curl\", \"word\": \"long\", \"stars\": \"5 stars\", \"brand\": \"Too Faced\", \"name\": \"Better Than Sex Mascara\", \"type\": \"Mascara\"}, {\"x\": -0.03670118376612663, \"y\": 0.010574868880212307, \"context\": \"over 3 tubes it's completely worth it and **long** lasting! as a contact lens wearer, this\", \"tokens\": \"over 3 tubes it ' s completely worth it and long lasting ! as a contact lens wear ##er , this\", \"word\": \"long\", \"stars\": null, \"brand\": null, \"name\": null, \"type\": null}, {\"x\": -0.03564537316560745, \"y\": -0.056739822030067444, \"context\": \". let me start off by saying my lashes are **long** but i lack thickness because i used to get eye\", \"tokens\": \". let me start off by saying my lashes are long but i lack thickness because i used to get eye\", \"word\": \"long\", \"stars\": \"4 stars\", \"brand\": \"Too Faced\", \"name\": \"Better Than Sex Mascara\", \"type\": \"Mascara\"}, {\"x\": -0.03466418385505676, \"y\": -0.03256775066256523, \"context\": \". i think this mascara is better for those with **long** lashes without volume than those with short thick lashes unless\", \"tokens\": \". i think this mascara is better for those with long lashes without volume than those with short thick lashes unless\", \"word\": \"long\", \"stars\": \"4 stars\", \"brand\": \"Too Faced\", \"name\": \"Better Than Sex Mascara\", \"type\": \"Mascara\"}, {\"x\": -0.03603855147957802, \"y\": -0.05591082200407982, \"context\": \"eve for my eyelashes. the mascara makes them so **long** and dark and voluminous and i get lots\", \"tokens\": \"eve for my eyelashes . the mascara makes them so long and dark and vol ##umi ##nous and i get lots\", \"word\": \"long\", \"stars\": \"5 stars\", \"brand\": \"Too Faced\", \"name\": \"Better Than Sex Mascara\", \"type\": \"Mascara\"}, {\"x\": -0.03624330833554268, \"y\": -0.05366065725684166, \"context\": \". it made my lashes very voluminous and **long** looking with even just one coat. unlike other mascara\", \"tokens\": \". it made my lashes very vol ##umi ##nous and long looking with even just one coat . unlike other mascara\", \"word\": \"long\", \"stars\": \"5 stars\", \"brand\": \"Too Faced\", \"name\": \"Better Than Sex Mascara\", \"type\": \"Mascara\"}, {\"x\": -0.03690137714147568, \"y\": -0.04313722625374794, \"context\": \"anyone who is looking for a full, thick, **long** lash look. \\u2026 read more i love this mascara\", \"tokens\": \"anyone who is looking for a full , thick , long lash look . \\u2026 read more i love this mascara\", \"word\": \"long\", \"stars\": \"5 stars\", \"brand\": \"Too Faced\", \"name\": \"Better Than Sex Mascara\", \"type\": \"Mascara\"}, {\"x\": -0.03825912997126579, \"y\": 0.012727255932986736, \"context\": \"mascara everyday and i 'm in love! so **long** lasting! sometimes i 'll apply it, forget\", \"tokens\": \"mascara everyday and i ' m in love ! so long lasting ! sometimes i ' ll apply it , forget\", \"word\": \"long\", \"stars\": \"4 stars\", \"brand\": \"Too Faced\", \"name\": \"Better Than Sex Waterproof Mascara\", \"type\": \"Mascara\"}, {\"x\": -0.03793212026357651, \"y\": 0.019216027110815048, \"context\": \"m good for the day! that's how **long** lasting it is! my only problem is it '\", \"tokens\": \"m good for the day ! that ' s how long lasting it is ! my only problem is it '\", \"word\": \"long\", \"stars\": \"4 stars\", \"brand\": \"Too Faced\", \"name\": \"Better Than Sex Waterproof Mascara\", \"type\": \"Mascara\"}, {\"x\": -0.03565525636076927, \"y\": -0.03885892406105995, \"context\": \"m always looking for the next best waterproof, **long** wearing, smudge proof and very important..\", \"tokens\": \"m always looking for the next best water ##proof , long wearing , sm ##udge proof and very important . .\", \"word\": \"long\", \"stars\": \"1 star\", \"brand\": \"Too Faced\", \"name\": \"Better Than Sex Waterproof Mascara\", \"type\": \"Mascara\"}, {\"x\": -0.036114905029535294, \"y\": 0.05038214474916458, \"context\": \"guess its waterproof though. stays on for a **long** time. but definitely not worth it. go for\", \"tokens\": \"guess its water ##proof though . stays on for a long time . but definitely not worth it . go for\", \"word\": \"long\", \"stars\": \"2 stars\", \"brand\": \"Too Faced\", \"name\": \"Better Than Sex Waterproof Mascara\", \"type\": \"Mascara\"}, {\"x\": -0.036808211356401443, \"y\": -0.03663824498653412, \"context\": \"took me a couple coats to make my lashes look **long**. they it started to flake off throughout the\", \"tokens\": \"took me a couple coats to make my lashes look long . they it started to fl ##ake off throughout the\", \"word\": \"long\", \"stars\": \"1 star\", \"brand\": \"Too Faced\", \"name\": \"Better Than Sex Waterproof Mascara\", \"type\": \"Mascara\"}, {\"x\": -0.0354069322347641, \"y\": -0.050817761570215225, \"context\": \"when my natural lashes go down. i have really **long** curly lashes and it made a mess on my kids\", \"tokens\": \"when my natural lashes go down . i have really long curly lashes and it made a mess on my kids\", \"word\": \"long\", \"stars\": \"1 star\", \"brand\": \"Too Faced\", \"name\": \"Better Than Sex Waterproof Mascara\", \"type\": \"Mascara\"}, {\"x\": -0.035443611443042755, \"y\": 0.033136624842882156, \"context\": \"t believe that this formula did this and took this **long** to dry and it really made my lashes look really\", \"tokens\": \"t believe that this formula did this and took this long to dry and it really made my lashes look really\", \"word\": \"long\", \"stars\": \"1 star\", \"brand\": \"Too Faced\", \"name\": \"Better Than Sex Waterproof Mascara\", \"type\": \"Mascara\"}, {\"x\": -0.034490395337343216, \"y\": -0.05674314126372337, \"context\": \"of this mascara. do not use! my formerly **long**, beautiful eyelashes were stumpy messes. if\", \"tokens\": \"of this mascara . do not use ! my formerly long , beautiful eyelashes were stump ##y mess ##es . if\", \"word\": \"long\", \"stars\": \"1 star\", \"brand\": \"Too Faced\", \"name\": \"Better Than Sex Waterproof Mascara\", \"type\": \"Mascara\"}, {\"x\": -0.034880880266427994, \"y\": -0.04812053218483925, \"context\": \"proof, plus it actually gets all of my super **long** but very fine eyelashes, even the very tips which\", \"tokens\": \"##proof , plus it actually gets all of my super long but very fine eyelashes , even the very tips which\", \"word\": \"long\", \"stars\": \"4 stars\", \"brand\": \"Too Faced\", \"name\": \"Better Than Sex Waterproof Mascara\", \"type\": \"Mascara\"}, {\"x\": -0.035263556987047195, \"y\": 0.03654143214225769, \"context\": \"love the original formula! unfortunately it took way too **long** to dry!!! and it got all over\", \"tokens\": \"love the original formula ! unfortunately it took way too long to dry ! ! ! and it got all over\", \"word\": \"long\", \"stars\": \"2 stars\", \"brand\": \"Too Faced\", \"name\": \"Better Than Sex Waterproof Mascara\", \"type\": \"Mascara\"}, {\"x\": -0.03571131080389023, \"y\": 0.041231900453567505, \"context\": \"have learned though: a ) this mascara takes relatively **long** to dry, and while drying it is not water\", \"tokens\": \"have learned though : a ) this mascara takes relatively long to dry , and while drying it is not water\", \"word\": \"long\", \"stars\": \"5 stars\", \"brand\": \"Too Faced\", \"name\": \"Better Than Sex Waterproof Mascara\", \"type\": \"Mascara\"}, {\"x\": -0.03732328861951828, \"y\": -0.04154013842344284, \"context\": \"and got; beautifully smooth and lengthened lashes, **long** lasting and looked natural at work ( i 'm\", \"tokens\": \"and got ; beautifully smooth and length ##ened lashes , long lasting and looked natural at work ( i ' m\", \"word\": \"long\", \"stars\": \"5 stars\", \"brand\": \"Too Faced\", \"name\": \"Better Than Sex Mascara\", \"type\": \"Mascara\"}, {\"x\": -0.036839187145233154, \"y\": -0.009301808662712574, \"context\": \"put on my first coat, waited a while ( **long** enough to curl my hair ) and it hadn '\", \"tokens\": \"put on my first coat , waited a while ( long enough to curl my hair ) and it hadn '\", \"word\": \"long\", \"stars\": \"1 star\", \"brand\": \"Too Faced\", \"name\": \"Better Than Sex Waterproof Mascara\", \"type\": \"Mascara\"}, {\"x\": -0.03481832146644592, \"y\": 0.047082312405109406, \"context\": \"i loved it, but it didn 't last **long**. i find i get raccoon eyes more\", \"tokens\": \"i loved it , but it didn ' t last long . i find i get ra ##cco ##on eyes more\", \"word\": \"long\", \"stars\": \"2 stars\", \"brand\": \"Too Faced\", \"name\": \"Better Than Sex Mascara\", \"type\": \"Mascara\"}, {\"x\": -0.0354023203253746, \"y\": -0.045098986476659775, \"context\": \"waterproof come off very easily. gives you ridiculous **long** lashes. i have to agree with other reviews that\", \"tokens\": \"water ##proof come off very easily . gives you ridiculous long lashes . i have to agree with other reviews that\", \"word\": \"long\", \"stars\": \"5 stars\", \"brand\": \"Too Faced\", \"name\": \"Better Than Sex Waterproof Mascara\", \"type\": \"Mascara\"}, {\"x\": -0.029601555317640305, \"y\": 0.011522017419338226, \"context\": \"knowing my weak self would be bawling. **long** story short i got my wisdom teeth removed, cried\", \"tokens\": \"knowing my weak self would be ba ##wl ##ing . long story short i got my wisdom teeth removed , cried\", \"word\": \"long\", \"stars\": \"4 stars\", \"brand\": \"Too Faced\", \"name\": \"Better Than Sex Waterproof Mascara\", \"type\": \"Mascara\"}, {\"x\": -0.03755646198987961, \"y\": 0.03639167547225952, \"context\": \", it's amazing. it takes a really **long** time to dry and has a tendency to clump\", \"tokens\": \", it ' s amazing . it takes a really long time to dry and has a tendency to cl ##ump\", \"word\": \"long\", \"stars\": \"4 stars\", \"brand\": \"Too Faced\", \"name\": \"Better Than Sex Waterproof Mascara\", \"type\": \"Mascara\"}, {\"x\": -0.0367962010204792, \"y\": 0.016045337542891502, \"context\": \"one is very black, holds the curl all day **long**, and doesn 't flake off. it\", \"tokens\": \"one is very black , holds the curl all day long , and doesn ' t fl ##ake off . it\", \"word\": \"long\", \"stars\": \"5 stars\", \"brand\": \"Too Faced\", \"name\": \"Better Than Sex Mascara\", \"type\": \"Mascara\"}, {\"x\": -0.03492342308163643, \"y\": -0.03799649700522423, \"context\": \"have blonde eyelashes and it makes them sooooo **long** they look like falsies. for everyone complaining\", \"tokens\": \"have blonde eyelashes and it makes them soo ##oo ##o long they look like fa ##ls ##ies . for everyone complaining\", \"word\": \"long\", \"stars\": \"5 stars\", \"brand\": \"Too Faced\", \"name\": \"Better Than Sex Waterproof Mascara\", \"type\": \"Mascara\"}, {\"x\": -0.036589365452528, \"y\": -0.03283318504691124, \"context\": \"eyes still looked fantastic. my lashes were full and **long** all day. i experienced no clumping or\", \"tokens\": \"eyes still looked fantastic . my lashes were full and long all day . i experienced no cl ##ump ##ing or\", \"word\": \"long\", \"stars\": \"5 stars\", \"brand\": \"Too Faced\", \"name\": \"Better Than Sex Waterproof Mascara\", \"type\": \"Mascara\"}, {\"x\": -0.036537330597639084, \"y\": 0.039208367466926575, \"context\": \"that mascara looked nice when applied but took a really **long** time to dry. transfer was a problem-my\", \"tokens\": \"that mascara looked nice when applied but took a really long time to dry . transfer was a problem - my\", \"word\": \"long\", \"stars\": \"4 stars\", \"brand\": \"Too Faced\", \"name\": \"Better Than Sex Waterproof Mascara\", \"type\": \"Mascara\"}, {\"x\": -0.036824289709329605, \"y\": 0.04691964387893677, \"context\": \"old stand-by mascara, it takes quite a **long** time to dry. i end up with mascara underneath\", \"tokens\": \"old stand - by mascara , it takes quite a long time to dry . i end up with mascara underneath\", \"word\": \"long\", \"stars\": \"4 stars\", \"brand\": \"Too Faced\", \"name\": \"Better Than Sex Waterproof Mascara\", \"type\": \"Mascara\"}, {\"x\": -0.03639262169599533, \"y\": -0.053108345717191696, \"context\": \"my lashes are real or fake because they are so **long** and gorgeous. i honestly can 't see myself\", \"tokens\": \"my lashes are real or fake because they are so long and gorgeous . i honestly can ' t see myself\", \"word\": \"long\", \"stars\": \"5 stars\", \"brand\": \"Too Faced\", \"name\": \"Better Than Sex Waterproof Mascara\", \"type\": \"Mascara\"}, {\"x\": -0.03699495270848274, \"y\": 0.045022282749414444, \"context\": \". like other reviewers have said, it takes a **long** time to dry. that's the only negative\", \"tokens\": \". like other reviewers have said , it takes a long time to dry . that ' s the only negative\", \"word\": \"long\", \"stars\": \"4 stars\", \"brand\": \"Too Faced\", \"name\": \"Better Than Sex Waterproof Mascara\", \"type\": \"Mascara\"}, {\"x\": -0.03530442714691162, \"y\": -0.005039014387875795, \"context\": \"this mascara is absolutely fabulous! truly waterproof and **long** lasting. all love from me! this mascara doesn\", \"tokens\": \"this mascara is absolutely fabulous ! truly water ##proof and long lasting . all love from me ! this mascara doesn\", \"word\": \"long\", \"stars\": \"5 stars\", \"brand\": \"Too Faced\", \"name\": \"Better Than Sex Waterproof Mascara\", \"type\": \"Mascara\"}, {\"x\": -0.03378552570939064, \"y\": 0.03327615559101105, \"context\": \"few but be patient. a little bit goes a **long** way. very happy with this product and sad to\", \"tokens\": \"few but be patient . a little bit goes a long way . very happy with this product and sad to\", \"word\": \"long\", \"stars\": \"5 stars\", \"brand\": \"Too Faced\", \"name\": \"Better Than Sex Mascara\", \"type\": \"Mascara\"}, {\"x\": -0.035859301686286926, \"y\": 0.03895750269293785, \"context\": \"there is too much product.-it takes a **long** time to dry ( approximately 15 min ), probably\", \"tokens\": \"there is too much product . - it takes a long time to dry ( approximately 15 min ) , probably\", \"word\": \"long\", \"stars\": \"5 stars\", \"brand\": \"Too Faced\", \"name\": \"Better Than Sex Waterproof Mascara\", \"type\": \"Mascara\"}, {\"x\": -0.03523111343383789, \"y\": 0.02403726428747177, \"context\": \"formula definitely disappointed. i would wear it all day **long** but by the time i'd come home from\", \"tokens\": \"formula definitely disappointed . i would wear it all day long but by the time i ' d come home from\", \"word\": \"long\", \"stars\": \"2 stars\", \"brand\": \"Too Faced\", \"name\": \"Better Than Sex Waterproof Mascara\", \"type\": \"Mascara\"}, {\"x\": -0.03756185993552208, \"y\": 0.0338575504720211, \"context\": \"mascara that \\u2019 ll have my lashes curled for a **long** period and this does a great job of it nice\", \"tokens\": \"mascara that \\u2019 ll have my lashes curled for a long period and this does a great job of it nice\", \"word\": \"long\", \"stars\": \"5 stars\", \"brand\": \"Too Faced\", \"name\": \"Better Than Sex Waterproof Mascara\", \"type\": \"Mascara\"}, {\"x\": -0.03586485609412193, \"y\": 0.0326293483376503, \"context\": \"some money. it is too wet and takes too **long** to dry. it doesn 't give me any\", \"tokens\": \"some money . it is too wet and takes too long to dry . it doesn ' t give me any\", \"word\": \"long\", \"stars\": \"5 stars\", \"brand\": \"Too Faced\", \"name\": \"Better Than Sex Mascara\", \"type\": \"Mascara\"}, {\"x\": -0.03218444436788559, \"y\": 0.02042096108198166, \"context\": \"three full days, one of which included an hour **long** boxing class. not one day did i have issues\", \"tokens\": \"three full days , one of which included an hour long boxing class . not one day did i have issues\", \"word\": \"long\", \"stars\": \"4 stars\", \"brand\": \"Too Faced\", \"name\": \"Better Than Sex Waterproof Mascara\", \"type\": \"Mascara\"}, {\"x\": -0.03685802221298218, \"y\": 0.024109693244099617, \"context\": \"va va voom. the difference is simply how **long** it lasts, and this one stays put all day\", \"tokens\": \"va va vo ##om . the difference is simply how long it lasts , and this one stays put all day\", \"word\": \"long\", \"stars\": \"4 stars\", \"brand\": \"Too Faced\", \"name\": \"Better Than Sex Waterproof Mascara\", \"type\": \"Mascara\"}, {\"x\": -0.03698556497693062, \"y\": -0.0479503832757473, \"context\": \"the way it makes my lashes look. they look **long** and full. obsessed!! i recommend this to\", \"tokens\": \"the way it makes my lashes look . they look long and full . obsessed ! ! i recommend this to\", \"word\": \"long\", \"stars\": \"5 stars\", \"brand\": \"Too Faced\", \"name\": \"Better Than Sex Waterproof Mascara\", \"type\": \"Mascara\"}, {\"x\": -0.03460415080189705, \"y\": -0.05686357989907265, \"context\": \"degrees that day ). i 've got naturally **long** curly lashes, and this is a really wonderful product\", \"tokens\": \"degrees that day ) . i ' ve got naturally long curly lashes , and this is a really wonderful product\", \"word\": \"long\", \"stars\": \"5 stars\", \"brand\": \"Too Faced\", \"name\": \"Better Than Sex Mascara\", \"type\": \"Mascara\"}, {\"x\": -0.03667401894927025, \"y\": -0.05389607325196266, \"context\": \"really well. i have very straight, thin but **long** lashes and this works perfect for me. it is\", \"tokens\": \"really well . i have very straight , thin but long lashes and this works perfect for me . it is\", \"word\": \"long\", \"stars\": \"5 stars\", \"brand\": \"Too Faced\", \"name\": \"Better Than Sex Waterproof Mascara\", \"type\": \"Mascara\"}, {\"x\": -0.03651677817106247, \"y\": 0.017922108992934227, \"context\": \"is going back. after having this mascara all day **long** and sleeping all night, it still looked amazing in\", \"tokens\": \"is going back . after having this mascara all day long and sleeping all night , it still looked amazing in\", \"word\": \"long\", \"stars\": \"5 stars\", \"brand\": \"Too Faced\", \"name\": \"Better Than Sex Waterproof Mascara\", \"type\": \"Mascara\"}, {\"x\": -0.03579830378293991, \"y\": -0.05828116089105606, \"context\": \"very lengthening and waterproof! i have naturally **long** lashes and this works great... my favorite\", \"tokens\": \"very length ##ening and water ##proof ! i have naturally long lashes and this works great . . . my favorite\", \"word\": \"long\", \"stars\": \"5 stars\", \"brand\": \"Too Faced\", \"name\": \"Better Than Sex Mascara\", \"type\": \"Mascara\"}, {\"x\": -0.03610740974545479, \"y\": -0.05931730568408966, \"context\": \". it does make my eyelashes look very full, **long** and holds a curl, but i don 't\", \"tokens\": \". it does make my eyelashes look very full , long and holds a curl , but i don ' t\", \"word\": \"long\", \"stars\": \"3 stars\", \"brand\": \"Too Faced\", \"name\": \"Better Than Sex Waterproof Mascara\", \"type\": \"Mascara\"}, {\"x\": -0.037164777517318726, \"y\": -0.04615633189678192, \"context\": \". easily removes with coconut oil. my lashes look **long** and full... this is my daily go\", \"tokens\": \". easily removes with coconut oil . my lashes look long and full . . . this is my daily go\", \"word\": \"long\", \"stars\": \"4 stars\", \"brand\": \"Too Faced\", \"name\": \"Better Than Sex Waterproof Mascara\", \"type\": \"Mascara\"}, {\"x\": -0.033499058336019516, \"y\": 0.0549439862370491, \"context\": \"eye shadow to become messed up. i waited a **long** time for it to dry too... a\", \"tokens\": \"eye shadow to become messed up . i waited a long time for it to dry too . . . a\", \"word\": \"long\", \"stars\": \"1 star\", \"brand\": \"Too Faced\", \"name\": \"Better Than Sex Waterproof Mascara\", \"type\": \"Mascara\"}, {\"x\": -0.036457329988479614, \"y\": 0.04358967766165733, \"context\": \"umps a lot, and it takes a really **long** time to dry. you have to be careful about\", \"tokens\": \"##ump ##s a lot , and it takes a really long time to dry . you have to be careful about\", \"word\": \"long\", \"stars\": \"1 star\", \"brand\": \"Too Faced\", \"name\": \"Better Than Sex Waterproof Mascara\", \"type\": \"Mascara\"}, {\"x\": -0.03489943966269493, \"y\": 0.029266662895679474, \"context\": \"akes and you have raccoon eyes all day **long**. please stay away from this mascara. this isn\", \"tokens\": \"##akes and you have ra ##cco ##on eyes all day long . please stay away from this mascara . this isn\", \"word\": \"long\", \"stars\": \"1 star\", \"brand\": \"Too Faced\", \"name\": \"Better Than Sex Waterproof Mascara\", \"type\": \"Mascara\"}, {\"x\": -0.03613649681210518, \"y\": -0.05766713246703148, \"context\": \"product. i will first mention that i have very **long** lashes and extremely oily skin. because of this\", \"tokens\": \"product . i will first mention that i have very long lashes and extremely oil ##y skin . because of this\", \"word\": \"long\", \"stars\": \"1 star\", \"brand\": \"Too Faced\", \"name\": \"Better Than Sex Waterproof Mascara\", \"type\": \"Mascara\"}, {\"x\": -0.034567691385746, \"y\": -0.06040414050221443, \"context\": \"! definitely appreciate the staying power! i have extremely **long** eyelashes, and i need a mascara that will keep\", \"tokens\": \"! definitely appreciate the staying power ! i have extremely long eyelashes , and i need a mascara that will keep\", \"word\": \"long\", \"stars\": \"5 stars\", \"brand\": \"Too Faced\", \"name\": \"Better Than Sex Waterproof Mascara\", \"type\": \"Mascara\"}, {\"x\": -0.03526706621050835, \"y\": 0.04540044814348221, \"context\": \"was because of the formula. it did take a **long** time to dry, and it really was difficult to\", \"tokens\": \"was because of the formula . it did take a long time to dry , and it really was difficult to\", \"word\": \"long\", \"stars\": \"4 stars\", \"brand\": \"Too Faced\", \"name\": \"Better Than Sex Waterproof Mascara\", \"type\": \"Mascara\"}, {\"x\": -0.03663014993071556, \"y\": 0.03360915929079056, \"context\": \"!! i don 't think it takes that **long** to dry like other people say, maybe like 5\", \"tokens\": \"! ! i don ' t think it takes that long to dry like other people say , maybe like 5\", \"word\": \"long\", \"stars\": \"5 stars\", \"brand\": \"Too Faced\", \"name\": \"Better Than Sex Waterproof Mascara\", \"type\": \"Mascara\"}, {\"x\": -0.03553682938218117, \"y\": 0.04201655834913254, \"context\": \"'s so clumpy and it takes so **long** to dry that it gets everywhere. i 'll\", \"tokens\": \"' s so cl ##ump ##y and it takes so long to dry that it gets everywhere . i ' ll\", \"word\": \"long\", \"stars\": \"1 star\", \"brand\": \"Too Faced\", \"name\": \"Better Than Sex Waterproof Mascara\", \"type\": \"Mascara\"}, {\"x\": -0.035832133144140244, \"y\": -0.0594920739531517, \"context\": \"during the day. it made my lashes look very **long**, curly, and full, which also holds up\", \"tokens\": \"during the day . it made my lashes look very long , curly , and full , which also holds up\", \"word\": \"long\", \"stars\": \"3 stars\", \"brand\": \"Too Faced\", \"name\": \"Better Than Sex Waterproof Mascara\", \"type\": \"Mascara\"}, {\"x\": -0.03562649339437485, \"y\": -0.051097411662340164, \"context\": \"single morning when using this product. it does create **long**, curled lashes with volume, but it's\", \"tokens\": \"single morning when using this product . it does create long , curled lashes with volume , but it ' s\", \"word\": \"long\", \"stars\": \"1 star\", \"brand\": \"Too Faced\", \"name\": \"Better Than Sex Waterproof Mascara\", \"type\": \"Mascara\"}, {\"x\": -0.0373448021709919, \"y\": -0.04531492665410042, \"context\": \"i 'm wearing fake lashes because they look so **long** and thick! it doesn 't smudge if\", \"tokens\": \"i ' m wearing fake lashes because they look so long and thick ! it doesn ' t sm ##udge if\", \"word\": \"long\", \"stars\": \"5 stars\", \"brand\": \"Too Faced\", \"name\": \"Better Than Sex Waterproof Mascara\", \"type\": \"Mascara\"}, {\"x\": -0.034351710230112076, \"y\": 0.0459195114672184, \"context\": \"seemed to almost dry out or run out not too **long** after my purchase? it was like i barely got\", \"tokens\": \"seemed to almost dry out or run out not too long after my purchase ? it was like i barely got\", \"word\": \"long\", \"stars\": \"3 stars\", \"brand\": \"Too Faced\", \"name\": \"Better Than Sex Waterproof Mascara\", \"type\": \"Mascara\"}, {\"x\": -0.03497811406850815, \"y\": 0.022413209080696106, \"context\": \"great volume, but very clumpy take extra **long** to separate lashes and clean everything up. honestly will\", \"tokens\": \"great volume , but very cl ##ump ##y take extra long to separate lashes and clean everything up . honestly will\", \"word\": \"long\", \"stars\": \"2 stars\", \"brand\": \"Too Faced\", \"name\": \"Better Than Sex Mascara\", \"type\": \"Mascara\"}, {\"x\": -0.036329276859760284, \"y\": -0.04878496006131172, \"context\": \"place. also it makes it look like i have **long** lush lashes. contact lense wearers beware\", \"tokens\": \"place . also it makes it look like i have long lush lashes . contact lens ##e wear ##ers be ##ware\", \"word\": \"long\", \"stars\": null, \"brand\": null, \"name\": null, \"type\": null}, {\"x\": -0.03681017830967903, \"y\": -1.669489392952528e-05, \"context\": \"f needs to make this mascara a little bit less **long**-lasting. \\u2026 read more if you are someone\", \"tokens\": \"##f needs to make this mascara a little bit less long - lasting . \\u2026 read more if you are someone\", \"word\": \"long\", \"stars\": \"1 star\", \"brand\": \"Too Faced\", \"name\": \"Better Than Sex Waterproof Mascara\", \"type\": \"Mascara\"}, {\"x\": -0.037565939128398895, \"y\": 0.03905221074819565, \"context\": \"black and increasing volume. it does take a very **long** time to dry--10 minutes or so.\", \"tokens\": \"black and increasing volume . it does take a very long time to dry - - 10 minutes or so .\", \"word\": \"long\", \"stars\": \"5 stars\", \"brand\": \"Too Faced\", \"name\": \"Better Than Sex Waterproof Mascara\", \"type\": \"Mascara\"}, {\"x\": -0.03500736132264137, \"y\": 0.019643958657979965, \"context\": \"my lashes stay curled and just a little goes a **long** way i love better than sex the original formula.\", \"tokens\": \"my lashes stay curled and just a little goes a long way i love better than sex the original formula .\", \"word\": \"long\", \"stars\": \"2 stars\", \"brand\": \"Too Faced\", \"name\": \"Better Than Sex Waterproof Mascara\", \"type\": \"Mascara\"}, {\"x\": -0.03569315746426582, \"y\": -0.05390454828739166, \"context\": \"lashes with my fingers, my eyelashes look great and **long**. another downside is that it leaves black sm\", \"tokens\": \"lashes with my fingers , my eyelashes look great and long . another downs ##ide is that it leaves black sm\", \"word\": \"long\", \"stars\": \"2 stars\", \"brand\": \"Too Faced\", \"name\": \"Better Than Sex Waterproof Mascara\", \"type\": \"Mascara\"}, {\"x\": -0.03414640575647354, \"y\": -0.05751810967922211, \"context\": \"my eyes right below my eyebrows. i have very **long** eyelashes naturally, and this mascara could rub below my\", \"tokens\": \"my eyes right below my eyebrows . i have very long eyelashes naturally , and this mascara could rub below my\", \"word\": \"long\", \"stars\": \"2 stars\", \"brand\": \"Too Faced\", \"name\": \"Better Than Sex Waterproof Mascara\", \"type\": \"Mascara\"}, {\"x\": -0.03635218366980553, \"y\": -0.055370643734931946, \"context\": \"it is the packaging. love it. makes lashes **long** and voluminous. have had many compliments\", \"tokens\": \"it is the packaging . love it . makes lashes long and vol ##umi ##nous . have had many compliment ##s\", \"word\": \"long\", \"stars\": \"2 stars\", \"brand\": \"Too Faced\", \"name\": \"Better Than Sex Mascara\", \"type\": \"Mascara\"}, {\"x\": -0.03732841834425926, \"y\": -0.05100692808628082, \"context\": \"to expectations. it made my lashes look great, **long** and full, however it smears everywhere! after\", \"tokens\": \"to expectations . it made my lashes look great , long and full , however it sm ##ears everywhere ! after\", \"word\": \"long\", \"stars\": \"3 stars\", \"brand\": \"Too Faced\", \"name\": \"Better Than Sex Waterproof Mascara\", \"type\": \"Mascara\"}, {\"x\": -0.0361785888671875, \"y\": 0.028970496729016304, \"context\": \"after blinking i had mascara everywhere! it takes too **long** to dry so the mascara will transfer to the lid\", \"tokens\": \"after blinking i had mascara everywhere ! it takes too long to dry so the mascara will transfer to the lid\", \"word\": \"long\", \"stars\": \"3 stars\", \"brand\": \"Too Faced\", \"name\": \"Better Than Sex Waterproof Mascara\", \"type\": \"Mascara\"}, {\"x\": -0.03595011681318283, \"y\": -0.0525924377143383, \"context\": \"has. extremely unhappy customer here. i have very **long**, thin lashes and this just clumped them\", \"tokens\": \"has . extremely unhappy customer here . i have very long , thin lashes and this just cl ##ump ##ed them\", \"word\": \"long\", \"stars\": \"2 stars\", \"brand\": \"Too Faced\", \"name\": \"Better Than Sex Waterproof Mascara\", \"type\": \"Mascara\"}, {\"x\": -0.03651140630245209, \"y\": 0.027698976919054985, \"context\": \"the original is that usually by the end of a **long** day i get a little flaking under my eyes\", \"tokens\": \"the original is that usually by the end of a long day i get a little fl ##aking under my eyes\", \"word\": \"long\", \"stars\": \"5 stars\", \"brand\": \"Too Faced\", \"name\": \"Better Than Sex Waterproof Mascara\", \"type\": \"Mascara\"}, {\"x\": -0.036452848464250565, \"y\": 0.04508041590452194, \"context\": \"issues with it being clumpy or taking a **long** time to dry. i wipe the wand on the\", \"tokens\": \"issues with it being cl ##ump ##y or taking a long time to dry . i wipe the wand on the\", \"word\": \"long\", \"stars\": \"5 stars\", \"brand\": \"Too Faced\", \"name\": \"Better Than Sex Waterproof Mascara\", \"type\": \"Mascara\"}, {\"x\": -0.035040389746427536, \"y\": 0.02170116826891899, \"context\": \"this mascara has always been 'a little goes a **long** way '. i think people who are having issues\", \"tokens\": \"this mascara has always been ' a little goes a long way ' . i think people who are having issues\", \"word\": \"long\", \"stars\": \"5 stars\", \"brand\": \"Too Faced\", \"name\": \"Better Than Sex Waterproof Mascara\", \"type\": \"Mascara\"}, {\"x\": -0.035568878054618835, \"y\": -0.06528535485267639, \"context\": \", it is true. i have great lashes, **long**, curled and black naturally. and this mascara just\", \"tokens\": \", it is true . i have great lashes , long , curled and black naturally . and this mascara just\", \"word\": \"long\", \"stars\": \"1 star\", \"brand\": \"Too Faced\", \"name\": \"Better Than Sex Waterproof Mascara\", \"type\": \"Mascara\"}, {\"x\": -0.03727884218096733, \"y\": 0.023260299116373062, \"context\": \") applying this mascara, they stay curled all day **long**. the formula is waterproof too! i sleep\", \"tokens\": \") applying this mascara , they stay curled all day long . the formula is water ##proof too ! i sleep\", \"word\": \"long\", \"stars\": \"2 stars\", \"brand\": \"Too Faced\", \"name\": \"Better Than Sex Mascara\", \"type\": \"Mascara\"}, {\"x\": -0.0379706434905529, \"y\": -0.0004904874949716032, \"context\": \"curl.. does not budge or flake. **long** lasting and wearing even through a work out. a\", \"tokens\": \"curl . . does not budge or fl ##ake . long lasting and wearing even through a work out . a\", \"word\": \"long\", \"stars\": \"5 stars\", \"brand\": \"Urban Decay\", \"name\": \"Cannonball Ultra Waterproof Mascara\", \"type\": \"Mascara\"}, {\"x\": -0.03347393125295639, \"y\": 0.02251684106886387, \"context\": \"and the makeup was tested in water. after a **long** shower featuring both hot and cold temperatures, what was\", \"tokens\": \"and the makeup was tested in water . after a long shower featuring both hot and cold temperatures , what was\", \"word\": \"long\", \"stars\": \"4 stars\", \"brand\": \"Urban Decay\", \"name\": \"Cannonball Ultra Waterproof Mascara\", \"type\": \"Mascara\"}, {\"x\": -0.03573722764849663, \"y\": -0.026793720200657845, \"context\": \"'t flake and makes my lashes dark and **long** for the whole day. love it for my stick\", \"tokens\": \"' t fl ##ake and makes my lashes dark and long for the whole day . love it for my stick\", \"word\": \"long\", \"stars\": null, \"brand\": null, \"name\": null, \"type\": null}, {\"x\": -0.03583782538771629, \"y\": -0.05938228219747543, \"context\": \"best mascara i 've used! i have very **long** but very straight asian eyelashes, and this mascara length\", \"tokens\": \"best mascara i ' ve used ! i have very long but very straight asian eyelashes , and this mascara length\", \"word\": \"long\", \"stars\": \"5 stars\", \"brand\": \"Urban Decay\", \"name\": \"Cannonball Ultra Waterproof Mascara\", \"type\": \"Mascara\"}, {\"x\": -0.03672848269343376, \"y\": -0.05645432695746422, \"context\": \"get home! first of all, thankfully i have **long** and thick lashes, so i always look for mascara\", \"tokens\": \"get home ! first of all , thankfully i have long and thick lashes , so i always look for mascara\", \"word\": \"long\", \"stars\": \"4 stars\", \"brand\": \"Urban Decay\", \"name\": \"Cannonball Ultra Waterproof Mascara\", \"type\": \"Mascara\"}, {\"x\": -0.037808891385793686, \"y\": -0.017146974802017212, \"context\": \"thing, as it is waterprof and super **long**-lasting, it's really hard to remove\", \"tokens\": \"thing , as it is water ##pro ##f and super long - lasting , it ' s really hard to remove\", \"word\": \"long\", \"stars\": \"4 stars\", \"brand\": \"Urban Decay\", \"name\": \"Cannonball Ultra Waterproof Mascara\", \"type\": \"Mascara\"}, {\"x\": -0.035757776349782944, \"y\": -0.05541941523551941, \"context\": \"/ fuller, which this mascara does, rather than **long** and natural. holds a curl. it wish it\", \"tokens\": \"/ fuller , which this mascara does , rather than long and natural . holds a curl . it wish it\", \"word\": \"long\", \"stars\": \"4 stars\", \"brand\": \"Urban Decay\", \"name\": \"Cannonball Ultra Waterproof Mascara\", \"type\": \"Mascara\"}, {\"x\": -0.034657951444387436, \"y\": 0.04599367082118988, \"context\": \"my last drugstore hold, but after spending a **long** time reading reviews decided on this. i am an\", \"tokens\": \"my last drugs ##tore hold , but after spending a long time reading reviews decided on this . i am an\", \"word\": \"long\", \"stars\": \"5 stars\", \"brand\": \"Urban Decay\", \"name\": \"Cannonball Ultra Waterproof Mascara\", \"type\": \"Mascara\"}, {\"x\": -0.035531118512153625, \"y\": -0.05400598794221878, \"context\": \"loreal panoramic curl mascara. i have **long** lashes but they are stick straight similar to asian lashes\", \"tokens\": \"lore ##al pan ##ora ##mic curl mascara . i have long lashes but they are stick straight similar to asian lashes\", \"word\": \"long\", \"stars\": \"5 stars\", \"brand\": \"Urban Decay\", \"name\": \"Cannonball Ultra Waterproof Mascara\", \"type\": \"Mascara\"}, {\"x\": -0.03174905478954315, \"y\": 0.02384255826473236, \"context\": \"'s kind of hard to take off but as **long** as you have eye make up remover, you\", \"tokens\": \"' s kind of hard to take off but as long as you have eye make up remove ##r , you\", \"word\": \"long\", \"stars\": \"1 star\", \"brand\": \"Too Faced\", \"name\": \"Better Than Sex Waterproof Mascara\", \"type\": \"Mascara\"}, {\"x\": -0.03572298586368561, \"y\": 0.033076900988817215, \"context\": \"the greatest, i was completely blown away by how **long** the mascara lasted; it was as if the mascara\", \"tokens\": \"the greatest , i was completely blown away by how long the mascara lasted ; it was as if the mascara\", \"word\": \"long\", \"stars\": \"5 stars\", \"brand\": \"Urban Decay\", \"name\": \"Cannonball Ultra Waterproof Mascara\", \"type\": \"Mascara\"}, {\"x\": -0.03700031712651253, \"y\": -0.04251702129840851, \"context\": \") and holds a curl all day. i have **long** lashes that grow straight down,, so holding a\", \"tokens\": \") and holds a curl all day . i have long lashes that grow straight down , , so holding a\", \"word\": \"long\", \"stars\": \"5 stars\", \"brand\": \"Urban Decay\", \"name\": \"Cannonball Ultra Waterproof Mascara\", \"type\": \"Mascara\"}, {\"x\": -0.03560390695929527, \"y\": 0.050804197788238525, \"context\": \"m more than certain it will stay for a very **long** time!! love it! \\u2026 read more i\", \"tokens\": \"m more than certain it will stay for a very long time ! ! love it ! \\u2026 read more i\", \"word\": \"long\", \"stars\": \"5 stars\", \"brand\": \"Urban Decay\", \"name\": \"Cannonball Ultra Waterproof Mascara\", \"type\": \"Mascara\"}, {\"x\": -0.03696725144982338, \"y\": -0.035304125398397446, \"context\": \"it hasn 't gone anywhere. it's **long**-wearing in general, too, i can rub\", \"tokens\": \"it hasn ' t gone anywhere . it ' s long - wearing in general , too , i can rub\", \"word\": \"long\", \"stars\": \"5 stars\", \"brand\": \"Urban Decay\", \"name\": \"Cannonball Ultra Waterproof Mascara\", \"type\": \"Mascara\"}, {\"x\": -0.03736821562051773, \"y\": -0.043503135442733765, \"context\": \"keeps my lashes up all day and they look naturally **long**, don 't clump and there is almost\", \"tokens\": \"keeps my lashes up all day and they look naturally long , don ' t cl ##ump and there is almost\", \"word\": \"long\", \"stars\": \"5 stars\", \"brand\": \"Urban Decay\", \"name\": \"Cannonball Ultra Waterproof Mascara\", \"type\": \"Mascara\"}, {\"x\": -0.037152379751205444, \"y\": -0.044259440153837204, \"context\": \"a gift and she loved it! i have really **long** lashes and i 've tried every mascara under the\", \"tokens\": \"a gift and she loved it ! i have really long lashes and i ' ve tried every mascara under the\", \"word\": \"long\", \"stars\": \"5 stars\", \"brand\": \"Too Faced\", \"name\": \"Better Than Sex Mascara\", \"type\": \"Mascara\"}, {\"x\": -0.036509424448013306, \"y\": -0.055667854845523834, \"context\": \"way it separates your lashes and makes them look so **long** and natural. it is also super waterproof.\", \"tokens\": \"way it separates your lashes and makes them look so long and natural . it is also super water ##proof .\", \"word\": \"long\", \"stars\": \"4 stars\", \"brand\": \"Urban Decay\", \"name\": \"Cannonball Ultra Waterproof Mascara\", \"type\": \"Mascara\"}, {\"x\": -0.03544769436120987, \"y\": 0.02836654707789421, \"context\": \"and pikes me in the eyeball all day **long**! x _ x so annoying, gonna return it\", \"tokens\": \"and pike ##s me in the eye ##ball all day long ! x _ x so annoying , gonna return it\", \"word\": \"long\", \"stars\": \"2 stars\", \"brand\": \"Urban Decay\", \"name\": \"Cannonball Ultra Waterproof Mascara\", \"type\": \"Mascara\"}, {\"x\": -0.03604297339916229, \"y\": -0.052399877458810806, \"context\": \") so that means my lashes are not thick nor **long** \\u2026 well mine at least. i kept hearing jen\", \"tokens\": \") so that means my lashes are not thick nor long \\u2026 well mine at least . i kept hearing jen\", \"word\": \"long\", \"stars\": \"5 stars\", \"brand\": \"Urban Decay\", \"name\": \"Cannonball Ultra Waterproof Mascara\", \"type\": \"Mascara\"}, {\"x\": -0.035554517060518265, \"y\": -0.05356692895293236, \"context\": \"manage 3 ) transforms my short stumpy lashes into **long** lashes ( my expectations are realistic, no mascara is\", \"tokens\": \"manage 3 ) transforms my short stump ##y lashes into long lashes ( my expectations are realistic , no mascara is\", \"word\": \"long\", \"stars\": \"4 stars\", \"brand\": \"Urban Decay\", \"name\": \"Cannonball Ultra Waterproof Mascara\", \"type\": \"Mascara\"}, {\"x\": -0.03409356623888016, \"y\": -0.03808065876364708, \"context\": \"no mascara is going to make my lashes \\\"advertisement **long** \\\") 4 ) is water-resistant, and\", \"tokens\": \"no mascara is going to make my lashes \\\" advertisement long \\\" ) 4 ) is water - resistant , and\", \"word\": \"long\", \"stars\": \"4 stars\", \"brand\": \"Urban Decay\", \"name\": \"Cannonball Ultra Waterproof Mascara\", \"type\": \"Mascara\"}, {\"x\": -0.03559572994709015, \"y\": -0.050979163497686386, \"context\": \"how it looks-it is beautiful. i have **long** lashes naturally, and this thickens, lengthens\", \"tokens\": \"how it looks - it is beautiful . i have long lashes naturally , and this thick ##ens , length ##ens\", \"word\": \"long\", \"stars\": \"2 stars\", \"brand\": \"Too Faced\", \"name\": \"Better Than Sex Waterproof Mascara\", \"type\": \"Mascara\"}, {\"x\": -0.034179314970970154, \"y\": 0.028759106993675232, \"context\": \"smoky under-eye and under-brow situation not **long** after application... this stuff doesn 't\", \"tokens\": \"smoky under - eye and under - brow situation not long after application . . . this stuff doesn ' t\", \"word\": \"long\", \"stars\": \"2 stars\", \"brand\": \"Too Faced\", \"name\": \"Better Than Sex Mascara\", \"type\": \"Mascara\"}, {\"x\": -0.034265462309122086, \"y\": -0.0658738911151886, \"context\": \"the best mascara i'd tried yet. my **long** yet sparse and blond lashes looked full and dark but\", \"tokens\": \"the best mascara i ' d tried yet . my long yet sparse and blond lashes looked full and dark but\", \"word\": \"long\", \"stars\": \"5 stars\", \"brand\": \"Urban Decay\", \"name\": \"Cannonball Ultra Waterproof Mascara\", \"type\": \"Mascara\"}, {\"x\": -0.03458019718527794, \"y\": -0.05943097546696663, \"context\": \"other mascara attributes, i think it simply defined my **long** lashes without thickening them much, which i like\", \"tokens\": \"other mascara attributes , i think it simply defined my long lashes without thick ##ening them much , which i like\", \"word\": \"long\", \"stars\": \"4 stars\", \"brand\": \"Too Faced\", \"name\": \"Better Than Sex Mascara\", \"type\": \"Mascara\"}, {\"x\": -0.03610815852880478, \"y\": -0.04787520319223404, \"context\": \". glides on like butter. makes my lashes **long**, and does not clump. it seems water\", \"tokens\": \". glide ##s on like butter . makes my lashes long , and does not cl ##ump . it seems water\", \"word\": \"long\", \"stars\": \"5 stars\", \"brand\": \"Too Faced\", \"name\": \"Better Than Sex Mascara\", \"type\": \"Mascara\"}, {\"x\": -0.03661223500967026, \"y\": 0.001078024972230196, \"context\": \"the afternoon if i do not use waterproof or **long** lasting formulas. i really love this mascara as it\", \"tokens\": \"the afternoon if i do not use water ##proof or long lasting formulas . i really love this mascara as it\", \"word\": \"long\", \"stars\": \"5 stars\", \"brand\": \"Urban Decay\", \"name\": \"Cannonball Ultra Waterproof Mascara\", \"type\": \"Mascara\"}, {\"x\": -0.03394704684615135, \"y\": 0.001020686118863523, \"context\": \"-sweat pours down my face during classes and **long** outdoor runs. nonetheless, this mascara stays intact:\", \"tokens\": \"- sweat pour ##s down my face during classes and long outdoor runs . nonetheless , this mascara stays intact :\", \"word\": \"long\", \"stars\": \"5 stars\", \"brand\": \"Urban Decay\", \"name\": \"Cannonball Ultra Waterproof Mascara\", \"type\": \"Mascara\"}, {\"x\": -0.0346243754029274, \"y\": 0.04610799625515938, \"context\": \"eyes. i can 't believe i waited so **long** to try this mascara, it's really the\", \"tokens\": \"eyes . i can ' t believe i waited so long to try this mascara , it ' s really the\", \"word\": \"long\", \"stars\": \"2 stars\", \"brand\": \"Too Faced\", \"name\": \"Better Than Sex Mascara\", \"type\": \"Mascara\"}, {\"x\": -0.035586461424827576, \"y\": -0.05263400450348854, \"context\": \"it's not adding too much volume to my **long** thick lashes like my regular mascara does, and i\", \"tokens\": \"it ' s not adding too much volume to my long thick lashes like my regular mascara does , and i\", \"word\": \"long\", \"stars\": \"4 stars\", \"brand\": \"Urban Decay\", \"name\": \"Cannonball Ultra Waterproof Mascara\", \"type\": \"Mascara\"}, {\"x\": -0.03668758645653725, \"y\": -0.030123187229037285, \"context\": \"it's lengthening, volumizing, **long** wearing, and just awesome. sure, it will\", \"tokens\": \"it ' s length ##ening , vol ##umi ##zing , long wearing , and just awesome . sure , it will\", \"word\": \"long\", \"stars\": \"5 stars\", \"brand\": \"Urban Decay\", \"name\": \"Cannonball Ultra Waterproof Mascara\", \"type\": \"Mascara\"}, {\"x\": -0.03526858240365982, \"y\": -0.058461882174015045, \"context\": \"more great mascara, terrible packaging my lashes are naturally **long** but straight-i like to call them curtains.\", \"tokens\": \"more great mascara , terrible packaging my lashes are naturally long but straight - i like to call them curtains .\", \"word\": \"long\", \"stars\": \"5 stars\", \"brand\": \"Urban Decay\", \"name\": \"Cannonball Ultra Waterproof Mascara\", \"type\": \"Mascara\"}, {\"x\": -0.03666393458843231, \"y\": 0.007811829447746277, \"context\": \"last all day even in fresh water, not so **long** in salt water. my eye lashes are a very\", \"tokens\": \"last all day even in fresh water , not so long in salt water . my eye lashes are a very\", \"word\": \"long\", \"stars\": \"5 stars\", \"brand\": \"Urban Decay\", \"name\": \"Cannonball Ultra Waterproof Mascara\", \"type\": \"Mascara\"}, {\"x\": -0.03721437603235245, \"y\": 0.015050024725496769, \"context\": \"go straight, but this keeps the curl all day **long**. it is very waterproof and does not fl\", \"tokens\": \"go straight , but this keeps the curl all day long . it is very water ##proof and does not fl\", \"word\": \"long\", \"stars\": \"4 stars\", \"brand\": \"Too Faced\", \"name\": \"Better Than Sex Waterproof Mascara\", \"type\": \"Mascara\"}, {\"x\": -0.03653614595532417, \"y\": -0.029380163177847862, \"context\": \"). \\u2026 read more this is an awesome, **long**-wear, no flake, waterproof mascara\", \"tokens\": \") . \\u2026 read more this is an awesome , long - wear , no fl ##ake , water ##proof mascara\", \"word\": \"long\", \"stars\": \"5 stars\", \"brand\": \"Urban Decay\", \"name\": \"Cannonball Ultra Waterproof Mascara\", \"type\": \"Mascara\"}, {\"x\": -0.03707507997751236, \"y\": -0.05188887566328049, \"context\": \"does its job. it does make my lashes very **long** and lovely, and does not flake. it\", \"tokens\": \"does its job . it does make my lashes very long and lovely , and does not fl ##ake . it\", \"word\": \"long\", \"stars\": \"3 stars\", \"brand\": \"Urban Decay\", \"name\": \"Cannonball Ultra Waterproof Mascara\", \"type\": \"Mascara\"}, {\"x\": -0.035424038767814636, \"y\": -0.06271714717149734, \"context\": \"to look like you have anything. i have really **long**, blonde lower eyelashes. by 10am each day\", \"tokens\": \"to look like you have anything . i have really long , blonde lower eyelashes . by 10 ##am each day\", \"word\": \"long\", \"stars\": \"5 stars\", \"brand\": \"Urban Decay\", \"name\": \"Cannonball Ultra Waterproof Mascara\", \"type\": \"Mascara\"}, {\"x\": -0.03630521148443222, \"y\": -0.03256813809275627, \"context\": \"and this, hands down, works best as being **long** wearing and not leaving me with smudges under\", \"tokens\": \"and this , hands down , works best as being long wearing and not leaving me with sm ##udge ##s under\", \"word\": \"long\", \"stars\": \"5 stars\", \"brand\": \"Urban Decay\", \"name\": \"Cannonball Ultra Waterproof Mascara\", \"type\": \"Mascara\"}, {\"x\": -0.03613128140568733, \"y\": -0.04087815433740616, \"context\": \"mascaras and they never really worked. i have **long** lashes and this helped them stand out even more and\", \"tokens\": \"mascara ##s and they never really worked . i have long lashes and this helped them stand out even more and\", \"word\": \"long\", \"stars\": \"5 stars\", \"brand\": \"Too Faced\", \"name\": \"Better Than Sex Mascara\", \"type\": \"Mascara\"}, {\"x\": -0.03437740355730057, \"y\": 0.03184468299150467, \"context\": \"wedding. she wasn 't lying. after a **long** day with multiple weepy moments, my mascara looked\", \"tokens\": \"wedding . she wasn ' t lying . after a long day with multiple weep ##y moments , my mascara looked\", \"word\": \"long\", \"stars\": \"5 stars\", \"brand\": \"Urban Decay\", \"name\": \"Cannonball Ultra Waterproof Mascara\", \"type\": \"Mascara\"}, {\"x\": -0.035121817141771317, \"y\": -0.05407986044883728, \"context\": \"lashes and its soft to the touch. i love **long** lashes so i typically help out this mascara by using\", \"tokens\": \"lashes and its soft to the touch . i love long lashes so i typically help out this mascara by using\", \"word\": \"long\", \"stars\": \"5 stars\", \"brand\": \"Urban Decay\", \"name\": \"Cannonball Ultra Waterproof Mascara\", \"type\": \"Mascara\"}, {\"x\": -0.03690198063850403, \"y\": -0.03919842094182968, \"context\": \"applying. while this did make my lashes seem exceptionally **long** once applied, it didn 't last. also\", \"tokens\": \"applying . while this did make my lashes seem exceptionally long once applied , it didn ' t last . also\", \"word\": \"long\", \"stars\": \"2 stars\", \"brand\": \"Urban Decay\", \"name\": \"Cannonball Ultra Waterproof Mascara\", \"type\": \"Mascara\"}, {\"x\": -0.03419969603419304, \"y\": -0.0418432280421257, \"context\": \"... it makes my lashes a million miles **long**. i can 't believe no one has reviews\", \"tokens\": \". . . it makes my lashes a million miles long . i can ' t believe no one has reviews\", \"word\": \"long\", \"stars\": \"5 stars\", \"brand\": \"Urban Decay\", \"name\": \"Cannonball Ultra Waterproof Mascara\", \"type\": \"Mascara\"}, {\"x\": -0.03323891758918762, \"y\": 0.0029040779918432236, \"context\": \"lot of diving in the ocean and a lot of **long** distance running... sweat, downpour rain\", \"tokens\": \"lot of diving in the ocean and a lot of long distance running . . . sweat , down ##pour rain\", \"word\": \"long\", \"stars\": \"5 stars\", \"brand\": \"Urban Decay\", \"name\": \"Cannonball Ultra Waterproof Mascara\", \"type\": \"Mascara\"}, {\"x\": -0.034006036818027496, \"y\": 0.04883763939142227, \"context\": \"( mostly chinese or japanese ) mascaras for a **long** time, which is why i am so happy to\", \"tokens\": \"( mostly chinese or japanese ) mascara ##s for a long time , which is why i am so happy to\", \"word\": \"long\", \"stars\": \"5 stars\", \"brand\": \"Urban Decay\", \"name\": \"Cannonball Ultra Waterproof Mascara\", \"type\": \"Mascara\"}, {\"x\": -0.03721115365624428, \"y\": -0.04218842834234238, \"context\": \"need to do it once now and lashes are super **long**. the only reason i didn 't give 5\", \"tokens\": \"need to do it once now and lashes are super long . the only reason i didn ' t give 5\", \"word\": \"long\", \"stars\": \"4 stars\", \"brand\": \"Urban Decay\", \"name\": \"Cannonball Ultra Waterproof Mascara\", \"type\": \"Mascara\"}, {\"x\": -0.03598955646157265, \"y\": -0.05831301212310791, \"context\": \"girls. thankfully at least i have relatively thick and **long** lashes, base on the criteria of asian girls,\", \"tokens\": \"girls . thankfully at least i have relatively thick and long lashes , base on the criteria of asian girls ,\", \"word\": \"long\", \"stars\": \"5 stars\", \"brand\": \"Too Faced\", \"name\": \"Better Than Sex Mascara\", \"type\": \"Mascara\"}, {\"x\": -0.03740384802222252, \"y\": 0.01839606650173664, \"context\": \"proof and curling. it holds my curl all day **long**. more it doesn 't turn me into ra\", \"tokens\": \"proof and curling . it holds my curl all day long . more it doesn ' t turn me into ra\", \"word\": \"long\", \"stars\": \"4 stars\", \"brand\": \"Too Faced\", \"name\": \"Better Than Sex Mascara\", \"type\": \"Mascara\"}, {\"x\": -0.03504690155386925, \"y\": -0.057253748178482056, \"context\": \"oopy eye anymore! it also makes your lashes **long** and feathery, and the black is nice and\", \"tokens\": \"##oop ##y eye anymore ! it also makes your lashes long and feather ##y , and the black is nice and\", \"word\": \"long\", \"stars\": \"3 stars\", \"brand\": \"Too Faced\", \"name\": \"Better Than Sex Waterproof Mascara\", \"type\": \"Mascara\"}, {\"x\": -0.036526087671518326, \"y\": 0.029514051973819733, \"context\": \"how much my eyes water it stays put all day **long**. i will definitely buy this again. it '\", \"tokens\": \"how much my eyes water it stays put all day long . i will definitely buy this again . it '\", \"word\": \"long\", \"stars\": \"5 stars\", \"brand\": \"Too Faced\", \"name\": \"Better Than Sex Mascara\", \"type\": \"Mascara\"}, {\"x\": -0.03629749268293381, \"y\": -0.0539238378405571, \"context\": \"your lashes look nice, dark, thick, and **long**, but will actually stay on through exercise, humid\", \"tokens\": \"your lashes look nice , dark , thick , and long , but will actually stay on through exercise , humid\", \"word\": \"long\", \"stars\": \"5 stars\", \"brand\": \"Urban Decay\", \"name\": \"Cannonball Ultra Waterproof Mascara\", \"type\": \"Mascara\"}, {\"x\": -0.035565972328186035, \"y\": -0.05899538844823837, \"context\": \"that have ever held my curls and made my lashes **long** and pretty were discontinued so i have been on the\", \"tokens\": \"that have ever held my curls and made my lashes long and pretty were discontinued so i have been on the\", \"word\": \"long\", \"stars\": \"5 stars\", \"brand\": \"Urban Decay\", \"name\": \"Cannonball Ultra Waterproof Mascara\", \"type\": \"Mascara\"}, {\"x\": -0.033380795270204544, \"y\": 0.020511338487267494, \"context\": \"when you 're working for an 8hrs **long** shift you just don 't have the time to\", \"tokens\": \"when you ' re working for an 8 ##hr ##s long shift you just don ' t have the time to\", \"word\": \"long\", \"stars\": \"1 star\", \"brand\": \"Urban Decay\", \"name\": \"Cannonball Ultra Waterproof Mascara\", \"type\": \"Mascara\"}, {\"x\": -0.034855570644140244, \"y\": -0.06353453546762466, \"context\": \"and have lashes that aren 't naturally curly or **long**, this product is a must! holding power and\", \"tokens\": \"and have lashes that aren ' t naturally curly or long , this product is a must ! holding power and\", \"word\": \"long\", \"stars\": \"4 stars\", \"brand\": \"Too Faced\", \"name\": \"Better Than Sex Mascara\", \"type\": \"Mascara\"}, {\"x\": -0.03628258407115936, \"y\": -0.046295877546072006, \"context\": \"my lashes curled ( i 'm asian and have **long** lashes but almost every formula makes my lashes \\\"fall\", \"tokens\": \"my lashes curled ( i ' m asian and have long lashes but almost every formula makes my lashes \\\" fall\", \"word\": \"long\", \"stars\": \"5 stars\", \"brand\": \"Urban Decay\", \"name\": \"Cannonball Ultra Waterproof Mascara\", \"type\": \"Mascara\"}, {\"x\": -0.03337816894054413, \"y\": 0.05476069450378418, \"context\": \"\\\"waterproof \\\"mascara. i tried for a **long** time to figure out what i was doing wrong on\", \"tokens\": \"\\\" water ##proof \\\" mascara . i tried for a long time to figure out what i was doing wrong on\", \"word\": \"long\", \"stars\": \"5 stars\", \"brand\": \"Urban Decay\", \"name\": \"Cannonball Ultra Waterproof Mascara\", \"type\": \"Mascara\"}, {\"x\": -0.0347793772816658, \"y\": -0.04483417421579361, \"context\": \"states. i typically use and love the japanese heroine **long** & curl mascara ( or really any of the mascara\", \"tokens\": \"states . i typically use and love the japanese heroine long & curl mascara ( or really any of the mascara\", \"word\": \"long\", \"stars\": \"5 stars\", \"brand\": \"Urban Decay\", \"name\": \"Cannonball Ultra Waterproof Mascara\", \"type\": \"Mascara\"}, {\"x\": -0.03815022110939026, \"y\": -0.02400447055697441, \"context\": \"permanent fixture in my makeup bag for years. very **long** wearing. i work 12 hour shifts, have very\", \"tokens\": \"permanent fixture in my makeup bag for years . very long wearing . i work 12 hour shifts , have very\", \"word\": \"long\", \"stars\": \"5 stars\", \"brand\": \"Urban Decay\", \"name\": \"Cannonball Ultra Waterproof Mascara\", \"type\": \"Mascara\"}, {\"x\": -0.03783281892538071, \"y\": 0.03704833984375, \"context\": \"the skin around my eyes thoroughly, it lasts a **long** time without smudging or flaking. there\", \"tokens\": \"the skin around my eyes thoroughly , it lasts a long time without sm ##ud ##ging or fl ##aking . there\", \"word\": \"long\", \"stars\": \"5 stars\", \"brand\": \"Dior\", \"name\": \"Diorshow Waterproof Mascara\", \"type\": \"Mascara\"}, {\"x\": -0.03673841431736946, \"y\": -0.03854288533329964, \"context\": \"umps and does nothing to volumize my **long**-but-sparse lashes. it leaves smudge\", \"tokens\": \"##ump ##s and does nothing to vol ##umi ##ze my long - but - sparse lashes . it leaves sm ##udge\", \"word\": \"long\", \"stars\": \"1 star\", \"brand\": \"Dior\", \"name\": \"Diorshow Waterproof Mascara\", \"type\": \"Mascara\"}, {\"x\": -0.036989014595746994, \"y\": -0.045055508613586426, \"context\": \"\\u2026 read more with diorshow my lashes look **long** and beautiful like i am a real model. they\", \"tokens\": \"\\u2026 read more with di ##ors ##how my lashes look long and beautiful like i am a real model . they\", \"word\": \"long\", \"stars\": \"5 stars\", \"brand\": \"Dior\", \"name\": \"Diorshow Waterproof Mascara\", \"type\": \"Mascara\"}, {\"x\": -0.035868071019649506, \"y\": -0.057659294456243515, \"context\": \"than others i 've tried. i have naturally **long**, thick, dark lashes but they would never hold\", \"tokens\": \"than others i ' ve tried . i have naturally long , thick , dark lashes but they would never hold\", \"word\": \"long\", \"stars\": \"5 stars\", \"brand\": \"Dior\", \"name\": \"Diorshow Waterproof Mascara\", \"type\": \"Mascara\"}, {\"x\": -0.037326470017433167, \"y\": -0.03696489334106445, \"context\": \". worth every penny! to start off i have **long** fine lashes that usually get weighed down by non-\", \"tokens\": \". worth every penny ! to start off i have long fine lashes that usually get weighed down by non -\", \"word\": \"long\", \"stars\": \"4 stars\", \"brand\": \"Dior\", \"name\": \"Diorshow Waterproof Mascara\", \"type\": \"Mascara\"}, {\"x\": -0.03512101247906685, \"y\": -0.056888073682785034, \"context\": \"fabulous!!! well-defined, thick, **long**... wonderful!!!! i '\", \"tokens\": \"fabulous ! ! ! well - defined , thick , long . . . wonderful ! ! ! ! i '\", \"word\": \"long\", \"stars\": null, \"brand\": null, \"name\": null, \"type\": null}, {\"x\": -0.03412279486656189, \"y\": -0.04826115816831589, \"context\": \"points. made me look like i had 8 really **long** spidery lashes sticking out. aweful stuff,\", \"tokens\": \"points . made me look like i had 8 really long spider ##y lashes sticking out . awe ##ful stuff ,\", \"word\": \"long\", \"stars\": \"1 star\", \"brand\": \"Dior\", \"name\": \"Diorshow Waterproof Mascara\", \"type\": \"Mascara\"}, {\"x\": -0.03590335324406624, \"y\": -0.05621454119682312, \"context\": \"at all! for someone who has very soft, **long** lashes that need a great curler / waterproof\", \"tokens\": \"at all ! for someone who has very soft , long lashes that need a great curl ##er / water ##proof\", \"word\": \"long\", \"stars\": \"5 stars\", \"brand\": \"Dior\", \"name\": \"Diorshow Waterproof Mascara\", \"type\": \"Mascara\"}, {\"x\": -0.03813088685274124, \"y\": 0.012388542294502258, \"context\": \"er / waterproof mascara combo to stay curled for **long**, this was a treat! i also had zero\", \"tokens\": \"##er / water ##proof mascara combo to stay curled for long , this was a treat ! i also had zero\", \"word\": \"long\", \"stars\": \"5 stars\", \"brand\": \"Dior\", \"name\": \"Diorshow Waterproof Mascara\", \"type\": \"Mascara\"}, {\"x\": -0.036215316504240036, \"y\": -0.058602627366781235, \"context\": \"down. i love this mascara. my eyelashes are **long** and curly on their own, so i look for\", \"tokens\": \"down . i love this mascara . my eyelashes are long and curly on their own , so i look for\", \"word\": \"long\", \"stars\": \"5 stars\", \"brand\": \"Dior\", \"name\": \"Diorshow Waterproof Mascara\", \"type\": \"Mascara\"}, {\"x\": -0.0344669409096241, \"y\": 0.03531871363520622, \"context\": \"zing my skinny asian lashes. however, after a **long** day, i noticed a little bit of black under\", \"tokens\": \"##zing my skinny asian lashes . however , after a long day , i noticed a little bit of black under\", \"word\": \"long\", \"stars\": \"3 stars\", \"brand\": \"Dior\", \"name\": \"Diorshow Waterproof Mascara\", \"type\": \"Mascara\"}, {\"x\": -0.03709351271390915, \"y\": -0.034559302031993866, \"context\": \"others this one is truly the best, i have **long** straight eyelashes after i curl them i use this mascara\", \"tokens\": \"others this one is truly the best , i have long straight eyelashes after i curl them i use this mascara\", \"word\": \"long\", \"stars\": \"5 stars\", \"brand\": \"Dior\", \"name\": \"Diorshow Waterproof Mascara\", \"type\": \"Mascara\"}, {\"x\": -0.03643101826310158, \"y\": 0.018924960866570473, \"context\": \"i use this mascara keeps my lashes perfect all day **long**! although diorshow waterproof mascare did\", \"tokens\": \"i use this mascara keeps my lashes perfect all day long ! although di ##ors ##how water ##proof mas ##care did\", \"word\": \"long\", \"stars\": null, \"brand\": null, \"name\": null, \"type\": null}, {\"x\": -0.036329176276922226, \"y\": -0.05450448766350746, \"context\": \"regular diorshow. it made my lashes look **long**, thick, and defined. it didn 't\", \"tokens\": \"regular di ##ors ##how . it made my lashes look long , thick , and defined . it didn ' t\", \"word\": \"long\", \"stars\": \"2 stars\", \"brand\": \"Dior\", \"name\": \"Diorshow Waterproof Mascara\", \"type\": \"Mascara\"}, {\"x\": -0.035873569548130035, \"y\": -0.05030715838074684, \"context\": \"built on itself without an issue. i already have **long** eyelashes so this stuff just amplifies my god\", \"tokens\": \"built on itself without an issue . i already have long eyelashes so this stuff just amp ##li ##fies my god\", \"word\": \"long\", \"stars\": \"1 star\", \"brand\": \"Too Faced\", \"name\": \"Better Than Sex Waterproof Mascara\", \"type\": \"Mascara\"}, {\"x\": -0.03748234733939171, \"y\": 0.03231242299079895, \"context\": \"nicely, has a good thick formula, lasts a **long** time, has no weird or strong smell, and\", \"tokens\": \"nicely , has a good thick formula , lasts a long time , has no weird or strong smell , and\", \"word\": \"long\", \"stars\": \"4 stars\", \"brand\": \"Dior\", \"name\": \"Diorshow Waterproof Mascara\", \"type\": \"Mascara\"}, {\"x\": -0.036032624542713165, \"y\": -0.05350050702691078, \"context\": \"thick and really made my lashes pop. they were **long**, dark black and held their curl all day.\", \"tokens\": \"thick and really made my lashes pop . they were long , dark black and held their curl all day .\", \"word\": \"long\", \"stars\": \"5 stars\", \"brand\": \"Dior\", \"name\": \"Diorshow Waterproof Mascara\", \"type\": \"Mascara\"}, {\"x\": -0.03568260371685028, \"y\": 0.04484662786126137, \"context\": \"big so i 'm hoping it will last a **long** time as well. hands down, this is the\", \"tokens\": \"big so i ' m hoping it will last a long time as well . hands down , this is the\", \"word\": \"long\", \"stars\": \"5 stars\", \"brand\": \"Dior\", \"name\": \"Diorshow Waterproof Mascara\", \"type\": \"Mascara\"}, {\"x\": -0.03594015911221504, \"y\": -0.05489017814397812, \"context\": \"so i purchased this one in black. i have **long** lashes and like them to look their best without being\", \"tokens\": \"so i purchased this one in black . i have long lashes and like them to look their best without being\", \"word\": \"long\", \"stars\": \"4 stars\", \"brand\": \"Dior\", \"name\": \"Diorshow Waterproof Mascara\", \"type\": \"Mascara\"}, {\"x\": -0.03370601683855057, \"y\": 0.04114145785570145, \"context\": \"mascara. sooo wondering why it took me so **long** to find it. i 've tried every mascara\", \"tokens\": \"mascara . soo ##o wondering why it took me so long to find it . i ' ve tried every mascara\", \"word\": \"long\", \"stars\": \"5 stars\", \"brand\": \"Dior\", \"name\": \"Diorshow Waterproof Mascara\", \"type\": \"Mascara\"}, {\"x\": -0.028112053871154785, \"y\": 0.03264462947845459, \"context\": \"for years, and will continue to do so as **long** as it's available. love dior products\", \"tokens\": \"for years , and will continue to do so as long as it ' s available . love di ##or products\", \"word\": \"long\", \"stars\": null, \"brand\": null, \"name\": null, \"type\": null}, {\"x\": -0.03606158494949341, \"y\": 0.02101871557533741, \"context\": \"not leak if my eyes watered or the day was **long**. my hopes were not realized. if it is\", \"tokens\": \"not leak if my eyes watered or the day was long . my hopes were not realized . if it is\", \"word\": \"long\", \"stars\": \"1 star\", \"brand\": \"Dior\", \"name\": \"Diorshow Waterproof Mascara\", \"type\": \"Mascara\"}, {\"x\": -0.03712004795670509, \"y\": -0.05209473893046379, \"context\": \"my holy grail for many years. i have **long** and thick lashes but they are super straight. this\", \"tokens\": \"my holy gr ##ail for many years . i have long and thick lashes but they are super straight . this\", \"word\": \"long\", \"stars\": \"5 stars\", \"brand\": \"Urban Decay\", \"name\": \"Cannonball Ultra Waterproof Mascara\", \"type\": \"Mascara\"}, {\"x\": -0.033638354390859604, \"y\": -0.04654397815465927, \"context\": \"s and it looked great, it made my lashes **long** and it was very volumizing i loved it\", \"tokens\": \"##s and it looked great , it made my lashes long and it was very vol ##umi ##zing i loved it\", \"word\": \"long\", \"stars\": \"1 star\", \"brand\": \"Dior\", \"name\": \"Diorshow Waterproof Mascara\", \"type\": \"Mascara\"}, {\"x\": -0.03647460415959358, \"y\": 0.02705933153629303, \"context\": \"it, but ironically, it doesn 't last **long**, amd melts off my lashes midday.\", \"tokens\": \"it , but ironically , it doesn ' t last long , am ##d melt ##s off my lashes midday .\", \"word\": \"long\", \"stars\": \"2 stars\", \"brand\": \"Dior\", \"name\": \"Diorshow Waterproof Mascara\", \"type\": \"Mascara\"}, {\"x\": -0.03615586832165718, \"y\": -0.04811509698629379, \"context\": \"doesn 't smudge. makes eyelashes look miles **long** and fat! the only drawback is the cost\", \"tokens\": \"doesn ' t sm ##udge . makes eyelashes look miles long and fat ! the only draw ##back is the cost\", \"word\": \"long\", \"stars\": \"5 stars\", \"brand\": \"Dior\", \"name\": \"Diorshow Waterproof Mascara\", \"type\": \"Mascara\"}, {\"x\": -0.035678621381521225, \"y\": -0.0581795759499073, \"context\": \"be glad you tried this! my lashes are naturally **long** so i always look for mascara that adds volume.\", \"tokens\": \"be glad you tried this ! my lashes are naturally long so i always look for mascara that adds volume .\", \"word\": \"long\", \"stars\": \"1 star\", \"brand\": \"Too Faced\", \"name\": \"Better Than Sex Mascara\", \"type\": \"Mascara\"}, {\"x\": -0.036623481661081314, \"y\": 0.03534720093011856, \"context\": \"how definitely makes them stay curled, and lasts a **long** time ( i can fall asleep, and wake up\", \"tokens\": \"##how definitely makes them stay curled , and lasts a long time ( i can fall asleep , and wake up\", \"word\": \"long\", \"stars\": \"5 stars\", \"brand\": \"Dior\", \"name\": \"Diorshow Waterproof Mascara\", \"type\": \"Mascara\"}, {\"x\": -0.036477457731962204, \"y\": -0.05994225665926933, \"context\": \"it looks fantastic. easy to apply, lashes are **long** and black and separated. after a few hours of\", \"tokens\": \"it looks fantastic . easy to apply , lashes are long and black and separated . after a few hours of\", \"word\": \"long\", \"stars\": \"2 stars\", \"brand\": \"Dior\", \"name\": \"Diorshow Waterproof Mascara\", \"type\": \"Mascara\"}, {\"x\": -0.036289285868406296, \"y\": -0.044527970254421234, \"context\": \"anything better than this yet. it leaves my lashes **long** and full. i get so many compliments on\", \"tokens\": \"anything better than this yet . it leaves my lashes long and full . i get so many compliment ##s on\", \"word\": \"long\", \"stars\": \"5 stars\", \"brand\": \"Dior\", \"name\": \"Diorshow Waterproof Mascara\", \"type\": \"Mascara\"}, {\"x\": -0.03664906695485115, \"y\": 0.046100858598947525, \"context\": \"all day and helps my eyelashes stay curled for a **long** time. my only complaint is that the brush is\", \"tokens\": \"all day and helps my eyelashes stay curled for a long time . my only complaint is that the brush is\", \"word\": \"long\", \"stars\": \"4 stars\", \"brand\": \"Dior\", \"name\": \"Diorshow Waterproof Mascara\", \"type\": \"Mascara\"}, {\"x\": -0.03791908919811249, \"y\": 0.017546076327562332, \"context\": \"gotten older though the curl doesn 't stay as **long** so i now use one coat of the diors\", \"tokens\": \"gotten older though the curl doesn ' t stay as long so i now use one coat of the di ##ors\", \"word\": \"long\", \"stars\": \"5 stars\", \"brand\": \"Dior\", \"name\": \"Diorshow Waterproof Mascara\", \"type\": \"Mascara\"}, {\"x\": -0.03525462746620178, \"y\": -0.05598748102784157, \"context\": \"is truly waterproof, and makes my lashes super **long** and super lush!! i even love the brush\", \"tokens\": \"is truly water ##proof , and makes my lashes super long and super lush ! ! i even love the brush\", \"word\": \"long\", \"stars\": \"5 stars\", \"brand\": \"Dior\", \"name\": \"Diorshow Waterproof Mascara\", \"type\": \"Mascara\"}, {\"x\": -0.03586757183074951, \"y\": -0.04450404271483421, \"context\": \"have mascara on. disappointed, i have very thick **long** lashes, and have had a problem finding a mascara\", \"tokens\": \"have mascara on . disappointed , i have very thick long lashes , and have had a problem finding a mascara\", \"word\": \"long\", \"stars\": \"5 stars\", \"brand\": \"Urban Decay\", \"name\": \"Cannonball Ultra Waterproof Mascara\", \"type\": \"Mascara\"}, {\"x\": -0.03571716696023941, \"y\": 0.036954354494810104, \"context\": \"the non-waterproof version didn 't last **long** enough, and i ended up trying other things.\", \"tokens\": \"the non - water ##proof version didn ' t last long enough , and i ended up trying other things .\", \"word\": \"long\", \"stars\": \"5 stars\", \"brand\": \"Dior\", \"name\": \"Diorshow Waterproof Mascara\", \"type\": \"Mascara\"}, {\"x\": -0.0384296216070652, \"y\": 0.0271417535841465, \"context\": \"this is an excellent mascara. it lasts a very **long** time once applied, doesn 't smear or\", \"tokens\": \"this is an excellent mascara . it lasts a very long time once applied , doesn ' t sm ##ear or\", \"word\": \"long\", \"stars\": \"5 stars\", \"brand\": \"Dior\", \"name\": \"Diorshow Waterproof Mascara\", \"type\": \"Mascara\"}, {\"x\": -0.035405706614255905, \"y\": -0.033373571932315826, \"context\": \". i 'm really pleased with it for my **long** lashes. i have friends who have very short sparse\", \"tokens\": \". i ' m really pleased with it for my long lashes . i have friends who have very short sparse\", \"word\": \"long\", \"stars\": \"5 stars\", \"brand\": \"Dior\", \"name\": \"Diorshow Waterproof Mascara\", \"type\": \"Mascara\"}, {\"x\": -0.03497663512825966, \"y\": -0.04348084703087807, \"context\": \"so i know this works for me, with my **long** lashes, and for them, with their short ones\", \"tokens\": \"so i know this works for me , with my long lashes , and for them , with their short ones\", \"word\": \"long\", \"stars\": \"5 stars\", \"brand\": \"Dior\", \"name\": \"Diorshow Waterproof Mascara\", \"type\": \"Mascara\"}, {\"x\": -0.036024630069732666, \"y\": -0.054693762212991714, \"context\": \"even remember. not only does it create gorgeous, **long** lashes ( i always curl them first ), but\", \"tokens\": \"even remember . not only does it create gorgeous , long lashes ( i always curl them first ) , but\", \"word\": \"long\", \"stars\": \"5 stars\", \"brand\": \"Dior\", \"name\": \"Diorshow Waterproof Mascara\", \"type\": \"Mascara\"}, {\"x\": -0.034117888659238815, \"y\": 0.00721560325473547, \"context\": \"in south florida and the caribbean, where i work **long** days outdoors as a wedding photographer. this is the\", \"tokens\": \"in south florida and the caribbean , where i work long days outdoors as a wedding photographer . this is the\", \"word\": \"long\", \"stars\": \"5 stars\", \"brand\": \"Dior\", \"name\": \"Diorshow Waterproof Mascara\", \"type\": \"Mascara\"}, {\"x\": -0.03706720843911171, \"y\": 0.02153087966144085, \"context\": \"utly amazing! it stays put even through a **long** day in the water! it makes my lashes beautiful\", \"tokens\": \"##ut ##ly amazing ! it stays put even through a long day in the water ! it makes my lashes beautiful\", \"word\": \"long\", \"stars\": \"4 stars\", \"brand\": \"Too Faced\", \"name\": \"Better Than Sex Waterproof Mascara\", \"type\": \"Mascara\"}, {\"x\": -0.03665120154619217, \"y\": -0.05204222351312637, \"context\": \"dior and it's perfect! i have **long**, thick lashes! & it is sweat proof,\", \"tokens\": \"di ##or and it ' s perfect ! i have long , thick lashes ! & it is sweat proof ,\", \"word\": \"long\", \"stars\": \"5 stars\", \"brand\": \"Dior\", \"name\": \"Diorshow Waterproof Mascara\", \"type\": \"Mascara\"}, {\"x\": -0.036377400159835815, \"y\": -0.049893368035554886, \"context\": \". i will buy this mascara again! i have **long** lashes, so i want to enhance then but have\", \"tokens\": \". i will buy this mascara again ! i have long lashes , so i want to enhance then but have\", \"word\": \"long\", \"stars\": \"5 stars\", \"brand\": \"Dior\", \"name\": \"Diorshow Waterproof Mascara\", \"type\": \"Mascara\"}, {\"x\": -0.036913927644491196, \"y\": 0.004721055738627911, \"context\": \". they hold the curl of my lashes all day **long**, lengthen my lashes, and provide volume without\", \"tokens\": \". they hold the curl of my lashes all day long , length ##en my lashes , and provide volume without\", \"word\": \"long\", \"stars\": \"1 star\", \"brand\": \"Too Faced\", \"name\": \"Better Than Sex Mascara\", \"type\": \"Mascara\"}, {\"x\": -0.03543849661946297, \"y\": -0.05712459608912468, \"context\": \"how waterproof mascara definitely makes my short light lashes **long** and pretty, but unfortunately by mid-day it\", \"tokens\": \"##how water ##proof mascara definitely makes my short light lashes long and pretty , but unfortunately by mid - day it\", \"word\": \"long\", \"stars\": \"3 stars\", \"brand\": \"Dior\", \"name\": \"Diorshow Waterproof Mascara\", \"type\": \"Mascara\"}, {\"x\": -0.03598066046833992, \"y\": 0.03454146534204483, \"context\": \"smudges and doesn 't stay put for **long**. it does add volume and lengthens, but\", \"tokens\": \"sm ##udge ##s and doesn ' t stay put for long . it does add volume and length ##ens , but\", \"word\": \"long\", \"stars\": \"4 stars\", \"brand\": \"Too Faced\", \"name\": \"Better Than Sex Waterproof Mascara\", \"type\": \"Mascara\"}, {\"x\": -0.03647566959261894, \"y\": -0.05405501648783684, \"context\": \"look when i use them. they look full and **long** and dark, but not false. very buildable\", \"tokens\": \"look when i use them . they look full and long and dark , but not false . very build ##able\", \"word\": \"long\", \"stars\": \"5 stars\", \"brand\": \"Dior\", \"name\": \"Diorshow Waterproof Mascara\", \"type\": \"Mascara\"}, {\"x\": -0.03709297627210617, \"y\": -0.04160844534635544, \"context\": \"this mascara and use it every day. i have **long** lashes that don 't curl naturally and this mascara\", \"tokens\": \"this mascara and use it every day . i have long lashes that don ' t curl naturally and this mascara\", \"word\": \"long\", \"stars\": \"5 stars\", \"brand\": \"Too Faced\", \"name\": \"Better Than Sex Mascara\", \"type\": \"Mascara\"}, {\"x\": -0.02804241143167019, \"y\": 0.02409427799284458, \"context\": \"weddings or swimming for that reason. however, as **long** as you use a good eye makeup remover (\", \"tokens\": \"weddings or swimming for that reason . however , as long as you use a good eye makeup remove ##r (\", \"word\": \"long\", \"stars\": \"5 stars\", \"brand\": \"Dior\", \"name\": \"Diorshow Waterproof Mascara\", \"type\": \"Mascara\"}, {\"x\": -0.037413373589515686, \"y\": -0.024323605000972748, \"context\": \"it to! this mascara made my eyelashes look really **long** more than any other mascara i have used, but\", \"tokens\": \"it to ! this mascara made my eyelashes look really long more than any other mascara i have used , but\", \"word\": \"long\", \"stars\": \"5 stars\", \"brand\": \"Too Faced\", \"name\": \"Better Than Sex Waterproof Mascara\", \"type\": \"Mascara\"}, {\"x\": -0.03502872586250305, \"y\": 0.017163362354040146, \"context\": \"all. also doesn 't smudge through my **long** work day. if i go out at night,\", \"tokens\": \"all . also doesn ' t sm ##udge through my long work day . if i go out at night ,\", \"word\": \"long\", \"stars\": \"5 stars\", \"brand\": \"Dior\", \"name\": \"Diorshow Waterproof Mascara\", \"type\": \"Mascara\"}, {\"x\": -0.03520430997014046, \"y\": -0.05469203740358353, \"context\": \"still works great. for being asian i have pretty **long** eyelashes and this just works like a charm / dream\", \"tokens\": \"still works great . for being asian i have pretty long eyelashes and this just works like a charm / dream\", \"word\": \"long\", \"stars\": \"5 stars\", \"brand\": \"Too Faced\", \"name\": \"Better Than Sex Mascara\", \"type\": \"Mascara\"}, {\"x\": -0.037260979413986206, \"y\": -0.04329339787364006, \"context\": \"lashes yet this mascara makes me look like i have **long** thick lashes without clumping. it goes on\", \"tokens\": \"lashes yet this mascara makes me look like i have long thick lashes without cl ##ump ##ing . it goes on\", \"word\": \"long\", \"stars\": \"5 stars\", \"brand\": \"Dior\", \"name\": \"Diorshow Waterproof Mascara\", \"type\": \"Mascara\"}, {\"x\": -0.035809293389320374, \"y\": -0.05333534628152847, \"context\": \"looking effect, as if i was born with naturally **long** lashes. i gave it 4 stars because i would\", \"tokens\": \"looking effect , as if i was born with naturally long lashes . i gave it 4 stars because i would\", \"word\": \"long\", \"stars\": \"4 stars\", \"brand\": \"Dior\", \"name\": \"Diorshow Waterproof Mascara\", \"type\": \"Mascara\"}, {\"x\": -0.03538060933351517, \"y\": -0.059068065136671066, \"context\": \"umpy at all and makes my lashes thick and **long** with one or two coats. i love the regular\", \"tokens\": \"##ump ##y at all and makes my lashes thick and long with one or two coats . i love the regular\", \"word\": \"long\", \"stars\": \"5 stars\", \"brand\": \"Dior\", \"name\": \"Diorshow Waterproof Mascara\", \"type\": \"Mascara\"}, {\"x\": -0.03565601259469986, \"y\": -0.05912419408559799, \"context\": \"mascara is definitely worth it. i have decently **long** natural eyelashes, and this definitely does the trick to\", \"tokens\": \"mascara is definitely worth it . i have decent ##ly long natural eyelashes , and this definitely does the trick to\", \"word\": \"long\", \"stars\": \"5 stars\", \"brand\": \"Dior\", \"name\": \"Diorshow Waterproof Mascara\", \"type\": \"Mascara\"}, {\"x\": -0.036817148327827454, \"y\": -0.041638728231191635, \"context\": \"looks fantastic, but one light coat also keeps them **long** and volumized all day. they keep your\", \"tokens\": \"looks fantastic , but one light coat also keeps them long and vol ##umi ##zed all day . they keep your\", \"word\": \"long\", \"stars\": \"3 stars\", \"brand\": \"Too Faced\", \"name\": \"Better Than Sex Mascara\", \"type\": \"Mascara\"}, {\"x\": -0.034310147166252136, \"y\": 0.04027223587036133, \"context\": \", and i can 't believe i waited so **long** to try this glorious product! i absolutely love the\", \"tokens\": \", and i can ' t believe i waited so long to try this glorious product ! i absolutely love the\", \"word\": \"long\", \"stars\": \"5 stars\", \"brand\": \"Dior\", \"name\": \"Diorshow Waterproof Mascara\", \"type\": \"Mascara\"}, {\"x\": -0.03719108924269676, \"y\": -0.02332823909819126, \"context\": \"love the thick brush, the texture, and the **long**-wearability. coming from an emotional pregan\", \"tokens\": \"love the thick brush , the texture , and the long - wear ##ability . coming from an emotional pre ##gan\", \"word\": \"long\", \"stars\": \"5 stars\", \"brand\": \"Dior\", \"name\": \"Diorshow Waterproof Mascara\", \"type\": \"Mascara\"}, {\"x\": -0.036691807210445404, \"y\": -0.049008239060640335, \"context\": \"and then up, your lashes look very full and **long** without a lot of clumping. because it\", \"tokens\": \"and then up , your lashes look very full and long without a lot of cl ##ump ##ing . because it\", \"word\": \"long\", \"stars\": \"4 stars\", \"brand\": \"Dior\", \"name\": \"Diorshow Waterproof Mascara\", \"type\": \"Mascara\"}, {\"x\": -0.03490665555000305, \"y\": -0.04386744648218155, \"context\": \"the other formulas but this one works best on my **long** lashes. it makes them **longer**, separates them as\", \"tokens\": \"the other formulas but this one works best on my long lashes . it makes them longer , separates them as\", \"word\": \"long\", \"stars\": \"5 stars\", \"brand\": \"Dior\", \"name\": \"Diorshow Waterproof Mascara\", \"type\": \"Mascara\"}, {\"x\": -0.037802960723638535, \"y\": 0.036691684275865555, \"context\": \"my favorite mascara on the market, it lasts a **long** time, does not flake off and gives the\", \"tokens\": \"my favorite mascara on the market , it lasts a long time , does not fl ##ake off and gives the\", \"word\": \"long\", \"stars\": \"5 stars\", \"brand\": \"Dior\", \"name\": \"Diorshow Waterproof Mascara\", \"type\": \"Mascara\"}, {\"x\": -0.02998056262731552, \"y\": 0.021154314279556274, \"context\": \"q-tip with some water to correct it as **long** as it is still wet. if it has dried\", \"tokens\": \"q - tip with some water to correct it as long as it is still wet . if it has dried\", \"word\": \"long\", \"stars\": \"5 stars\", \"brand\": \"Dior\", \"name\": \"Diorshow Waterproof Mascara\", \"type\": \"Mascara\"}, {\"x\": -0.03668695315718651, \"y\": -0.029371749609708786, \"context\": \"was pleasantly surprise. it makes my lashes a mile **long** and last all day looking like i just apply it\", \"tokens\": \"was pleasantly surprise . it makes my lashes a mile long and last all day looking like i just apply it\", \"word\": \"long\", \"stars\": \"5 stars\", \"brand\": \"Dior\", \"name\": \"Diorshow Waterproof Mascara\", \"type\": \"Mascara\"}, {\"x\": -0.035428278148174286, \"y\": -0.04936668276786804, \"context\": \"it gives me very beautiful lashes too. i have **long** lashes but now at 61 1 / 2 they are\", \"tokens\": \"it gives me very beautiful lashes too . i have long lashes but now at 61 1 / 2 they are\", \"word\": \"long\", \"stars\": \"5 stars\", \"brand\": \"Dior\", \"name\": \"Diorshow Waterproof Mascara\", \"type\": \"Mascara\"}, {\"x\": -0.03650975599884987, \"y\": -0.03841560706496239, \"context\": \"fullness, the curl, the definition, the **long** wear, no flakes, soft to touch formula\", \"tokens\": \"full ##ness , the curl , the definition , the long wear , no fl ##akes , soft to touch formula\", \"word\": \"long\", \"stars\": \"5 stars\", \"brand\": \"Too Faced\", \"name\": \"Better Than Sex Mascara\", \"type\": \"Mascara\"}, {\"x\": -0.03590305149555206, \"y\": -0.05731526017189026, \"context\": \"the only mascara i use anymore. i have naturally **long** lashes but this adds thickness and beautiful black color.\", \"tokens\": \"the only mascara i use anymore . i have naturally long lashes but this adds thickness and beautiful black color .\", \"word\": \"long\", \"stars\": \"1 star\", \"brand\": \"Too Faced\", \"name\": \"Better Than Sex Mascara\", \"type\": \"Mascara\"}, {\"x\": -0.037326715886592865, \"y\": -0.04512415826320648, \"context\": \"so picky with mascaras, i have very **long** lashes & i never try waterproof because they usually\", \"tokens\": \"so pick ##y with mascara ##s , i have very long lashes & i never try water ##proof because they usually\", \"word\": \"long\", \"stars\": \"1 star\", \"brand\": \"Dior\", \"name\": \"Diorshow Waterproof Mascara\", \"type\": \"Mascara\"}, {\"x\": -0.03596499562263489, \"y\": 0.017159227281808853, \"context\": \"believe the low quality. \\u2026 read more i work **long** hours, and work out religiously. other mascara\", \"tokens\": \"believe the low quality . \\u2026 read more i work long hours , and work out religious ##ly . other mascara\", \"word\": \"long\", \"stars\": \"5 stars\", \"brand\": \"Urban Decay\", \"name\": \"Cannonball Ultra Waterproof Mascara\", \"type\": \"Mascara\"}, {\"x\": -0.03547092154622078, \"y\": -0.059675589203834534, \"context\": \"be my personal favorite. i naturally have full, **long** lashes but they are light in color-this makes\", \"tokens\": \"be my personal favorite . i naturally have full , long lashes but they are light in color - this makes\", \"word\": \"long\", \"stars\": \"5 stars\", \"brand\": \"Urban Decay\", \"name\": \"Cannonball Ultra Waterproof Mascara\", \"type\": \"Mascara\"}, {\"x\": -0.03683933615684509, \"y\": -0.05280013009905815, \"context\": \"are very thin, but this mascara made it pretty **long** and thick. i went swimming with it but it\", \"tokens\": \"are very thin , but this mascara made it pretty long and thick . i went swimming with it but it\", \"word\": \"long\", \"stars\": \"4 stars\", \"brand\": \"Dior\", \"name\": \"Diorshow Waterproof Mascara\", \"type\": \"Mascara\"}, {\"x\": -0.03555489704012871, \"y\": -0.05827704071998596, \"context\": \"m asian, i have straight ( but, pretty **long** ) lashes, i use the shu uemura\", \"tokens\": \"m asian , i have straight ( but , pretty long ) lashes , i use the shu u ##em ##ura\", \"word\": \"long\", \"stars\": \"5 stars\", \"brand\": \"Dior\", \"name\": \"Diorshow Waterproof Mascara\", \"type\": \"Mascara\"}, {\"x\": -0.03133167326450348, \"y\": 0.03059692308306694, \"context\": \"my old mascaras as i threw out the containers **long** ago. i regularly find that within 2 hours of\", \"tokens\": \"my old mascara ##s as i threw out the containers long ago . i regularly find that within 2 hours of\", \"word\": \"long\", \"stars\": \"4 stars\", \"brand\": \"Dior\", \"name\": \"Diorshow Waterproof Mascara\", \"type\": \"Mascara\"}, {\"x\": -0.03717576339840889, \"y\": -0.04441365972161293, \"context\": \"been my favorite mascara for years. i have really **long** lashes and need to use waterproof mascara and this\", \"tokens\": \"been my favorite mascara for years . i have really long lashes and need to use water ##proof mascara and this\", \"word\": \"long\", \"stars\": \"5 stars\", \"brand\": \"Too Faced\", \"name\": \"Better Than Sex Waterproof Mascara\", \"type\": \"Mascara\"}, {\"x\": -0.03637323155999184, \"y\": -0.04979509860277176, \"context\": \"s amazing!!! my lashes are full and **long**! i really loved this mascara! i have tiny\", \"tokens\": \"s amazing ! ! ! my lashes are full and long ! i really loved this mascara ! i have tiny\", \"word\": \"long\", \"stars\": \"4 stars\", \"brand\": \"Tom Ford\", \"name\": \"Emotionproof Mascara\", \"type\": \"Mascara\"}, {\"x\": -0.03255613520741463, \"y\": 0.0007122489041648805, \"context\": \"volume-but perfect for all day wear especially for **long** flights-\\u2026 read more i do really like this\", \"tokens\": \"volume - but perfect for all day wear especially for long flights - \\u2026 read more i do really like this\", \"word\": \"long\", \"stars\": \"5 stars\", \"brand\": \"Tom Ford\", \"name\": \"Emotionproof Mascara\", \"type\": \"Mascara\"}, {\"x\": -0.03764501214027405, \"y\": 0.016432952135801315, \"context\": \"even smudge. it holds the color all day **long** so there's no need to reapply\", \"tokens\": \"even sm ##udge . it holds the color all day long so there ' s no need to re ##app ##ly\", \"word\": \"long\", \"stars\": \"3 stars\", \"brand\": \"Dior\", \"name\": \"Diorshow Waterproof Mascara\", \"type\": \"Mascara\"}, {\"x\": -0.03583180531859398, \"y\": -0.05629284679889679, \"context\": \"omph for me. for someone who already has **long**, dark lashes with a good curve this would probably\", \"tokens\": \"##omp ##h for me . for someone who already has long , dark lashes with a good curve this would probably\", \"word\": \"long\", \"stars\": \"2 stars\", \"brand\": \"Tom Ford\", \"name\": \"Emotionproof Mascara\", \"type\": \"Mascara\"}, {\"x\": -0.03749554231762886, \"y\": -0.036493971943855286, \"context\": \"until i took it off. kept my lashes looking **long** and lucious without having to curl them!!\", \"tokens\": \"until i took it off . kept my lashes looking long and luc ##ious without having to curl them ! !\", \"word\": \"long\", \"stars\": \"4 stars\", \"brand\": \"Tom Ford\", \"name\": \"Emotionproof Mascara\", \"type\": \"Mascara\"}, {\"x\": -0.0352700799703598, \"y\": 0.05119067430496216, \"context\": \"hoped for more. it does stay on for a **long** time which was appreciated. i wore it to a\", \"tokens\": \"hoped for more . it does stay on for a long time which was appreciated . i wore it to a\", \"word\": \"long\", \"stars\": \"3 stars\", \"brand\": \"Tom Ford\", \"name\": \"Emotionproof Mascara\", \"type\": \"Mascara\"}, {\"x\": -0.03550076484680176, \"y\": -0.05875634774565697, \"context\": \"corners of my eyes. i have pretty full, **long**, lashes naturally so the inner corner lashes started to\", \"tokens\": \"corners of my eyes . i have pretty full , long , lashes naturally so the inner corner lashes started to\", \"word\": \"long\", \"stars\": \"4 stars\", \"brand\": \"Tom Ford\", \"name\": \"Emotionproof Mascara\", \"type\": \"Mascara\"}, {\"x\": -0.0341186560690403, \"y\": -0.035225749015808105, \"context\": \"formula gives a natural look with the help of a **long** wand! the formula is weightless when applied to\", \"tokens\": \"formula gives a natural look with the help of a long wand ! the formula is weight ##less when applied to\", \"word\": \"long\", \"stars\": \"5 stars\", \"brand\": \"Tom Ford\", \"name\": \"Emotionproof Mascara\", \"type\": \"Mascara\"}, {\"x\": -0.035843878984451294, \"y\": -0.02205735817551613, \"context\": \"with another girl in the reviews the wand is super **long**! but i did really like the stay of it\", \"tokens\": \"with another girl in the reviews the wand is super long ! but i did really like the stay of it\", \"word\": \"long\", \"stars\": \"3 stars\", \"brand\": \"Tom Ford\", \"name\": \"Emotionproof Mascara\", \"type\": \"Mascara\"}, {\"x\": -0.036612946540117264, \"y\": -0.0063347360119223595, \"context\": \"it on my anniversary. i was very surprised how **long** it made my lashes look with one swipe and\", \"tokens\": \"it on my anniversary . i was very surprised how long it made my lashes look with one sw ##ipe and\", \"word\": \"long\", \"stars\": \"1 star\", \"brand\": \"Too Faced\", \"name\": \"Better Than Sex Mascara\", \"type\": \"Mascara\"}, {\"x\": -0.036736954003572464, \"y\": -0.04306672513484955, \"context\": \"proof mascara! it left my lashes looking great! **long** and volume-ized. i usually have multiple\", \"tokens\": \"##proof mascara ! it left my lashes looking great ! long and volume - i ##zed . i usually have multiple\", \"word\": \"long\", \"stars\": \"5 stars\", \"brand\": \"Tom Ford\", \"name\": \"Emotionproof Mascara\", \"type\": \"Mascara\"}, {\"x\": -0.03614599257707596, \"y\": 0.02741098776459694, \"context\": \", does not clump, and last all day **long**! my eyes can be sensitive to mascara. any\", \"tokens\": \", does not cl ##ump , and last all day long ! my eyes can be sensitive to mascara . any\", \"word\": \"long\", \"stars\": \"5 stars\", \"brand\": \"Tom Ford\", \"name\": \"Emotionproof Mascara\", \"type\": \"Mascara\"}, {\"x\": -0.036695197224617004, \"y\": -0.032667890191078186, \"context\": \". i had zero issues with this wonderful mascara! **long** wear, waterproof and vavavoom length\", \"tokens\": \". i had zero issues with this wonderful mascara ! long wear , water ##proof and va ##va ##vo ##om length\", \"word\": \"long\", \"stars\": \"5 stars\", \"brand\": \"Tom Ford\", \"name\": \"Emotionproof Mascara\", \"type\": \"Mascara\"}, {\"x\": -0.03646021708846092, \"y\": -0.012712134048342705, \"context\": \"udgy mess too good! one of the best **long** lasting eyeliners i \\u2019 ve used to date\", \"tokens\": \"##ud ##gy mess too good ! one of the best long lasting eye ##liner ##s i \\u2019 ve used to date\", \"word\": \"long\", \"stars\": \"5 stars\", \"brand\": \"FENTY BEAUTY BY RIHANNA\", \"name\": \"Flyliner Longwear Liquid Eyeliner\", \"type\": \"Liquid Eyeliner\"}, {\"x\": -0.03631053864955902, \"y\": 0.04943453520536423, \"context\": \"! it is a wonderful product and lasts quite a **long** time. the one thing i have an issue with\", \"tokens\": \"! it is a wonderful product and lasts quite a long time . the one thing i have an issue with\", \"word\": \"long\", \"stars\": \"4 stars\", \"brand\": \"Urban Decay\", \"name\": \"Cannonball Ultra Waterproof Mascara\", \"type\": \"Mascara\"}, {\"x\": -0.035786207765340805, \"y\": 0.033081650733947754, \"context\": \"but it kept transferring to my upper eyelids all day **long**. i \\u2019 m very disappointed. i tried so\", \"tokens\": \"but it kept transferring to my upper eyelids all day long . i \\u2019 m very disappointed . i tried so\", \"word\": \"long\", \"stars\": \"1 star\", \"brand\": \"FENTY BEAUTY BY RIHANNA\", \"name\": \"Flyliner Longwear Liquid Eyeliner\", \"type\": \"Liquid Eyeliner\"}, {\"x\": -0.03537866845726967, \"y\": -0.04232187196612358, \"context\": \"doing it wrong or what. the eyeliner is **long** lastly. i work in a kitchen and even in\", \"tokens\": \"doing it wrong or what . the eye ##liner is long lastly . i work in a kitchen and even in\", \"word\": \"long\", \"stars\": \"5 stars\", \"brand\": \"Urban Decay\", \"name\": \"Cannonball Ultra Waterproof Mascara\", \"type\": \"Mascara\"}, {\"x\": -0.034767214208841324, \"y\": 0.050415609031915665, \"context\": \"wear i used drug store liquid liner for a really **long** time. then i got this liner as a sample\", \"tokens\": \"wear i used drug store liquid liner for a really long time . then i got this liner as a sample\", \"word\": \"long\", \"stars\": \"5 stars\", \"brand\": \"FENTY BEAUTY BY RIHANNA\", \"name\": \"Flyliner Longwear Liquid Eyeliner\", \"type\": \"Liquid Eyeliner\"}, {\"x\": -0.03425540030002594, \"y\": -0.0257025808095932, \"context\": \"absolutely fantastic liner that lives up to the term \\\"longwear \\\"to its fullest extent. favorite ever\", \"tokens\": \"absolutely fantastic liner that lives up to the term \\\" long ##wear \\\" to its full ##est extent . favorite ever\", \"word\": \"long\", \"stars\": \"5 stars\", \"brand\": \"FENTY BEAUTY BY RIHANNA\", \"name\": \"Flyliner Longwear Liquid Eyeliner\", \"type\": \"Liquid Eyeliner\"}, {\"x\": -0.036586955189704895, \"y\": -0.025075716897845268, \"context\": \"you can get with this, it's definitely **long** wear, but i don 't get nearly as\", \"tokens\": \"you can get with this , it ' s definitely long wear , but i don ' t get nearly as\", \"word\": \"long\", \"stars\": \"3 stars\", \"brand\": \"FENTY BEAUTY BY RIHANNA\", \"name\": \"Flyliner Longwear Liquid Eyeliner\", \"type\": \"Liquid Eyeliner\"}, {\"x\": -0.0362791046500206, \"y\": 0.037037383764982224, \"context\": \"s i 've tried. doesn 't last **long** enough for the price. i would buy again if\", \"tokens\": \"##s i ' ve tried . doesn ' t last long enough for the price . i would buy again if\", \"word\": \"long\", \"stars\": \"3 stars\", \"brand\": \"FENTY BEAUTY BY RIHANNA\", \"name\": \"Flyliner Longwear Liquid Eyeliner\", \"type\": \"Liquid Eyeliner\"}, {\"x\": -0.036993011832237244, \"y\": -0.00035004608798772097, \"context\": \"the formula of the liner is amazing. it is **long** lasting and glides on beautifully. but i am\", \"tokens\": \"the formula of the liner is amazing . it is long lasting and glide ##s on beautifully . but i am\", \"word\": \"long\", \"stars\": \"4 stars\", \"brand\": \"FENTY BEAUTY BY RIHANNA\", \"name\": \"Flyliner Longwear Liquid Eyeliner\", \"type\": \"Liquid Eyeliner\"}, {\"x\": -0.03662547841668129, \"y\": -4.059951606905088e-05, \"context\": \". the color is black i mean black and truly **long** lasting. u must have it eyeliner omg\", \"tokens\": \". the color is black i mean black and truly long lasting . u must have it eye ##liner om ##g\", \"word\": \"long\", \"stars\": \"5 stars\", \"brand\": \"FENTY BEAUTY BY RIHANNA\", \"name\": \"Flyliner Longwear Liquid Eyeliner\", \"type\": \"Liquid Eyeliner\"}, {\"x\": -0.03322603926062584, \"y\": -0.031230153515934944, \"context\": \"day on oily skin! soooooooo longwearing component update please! da best i really\", \"tokens\": \"day on oil ##y skin ! soo ##oo ##oo ##oo long ##wear ##ing component update please ! da best i really\", \"word\": \"long\", \"stars\": null, \"brand\": null, \"name\": null, \"type\": null}, {\"x\": -0.039206791669130325, \"y\": 0.01194519829005003, \"context\": \"out again. fav eyeliner. lasts so **long** and comes on very nice and easy. yaaa\", \"tokens\": \"out again . fa ##v eye ##liner . lasts so long and comes on very nice and easy . ya ##aa\", \"word\": \"long\", \"stars\": \"5 stars\", \"brand\": \"FENTY BEAUTY BY RIHANNA\", \"name\": \"Flyliner Longwear Liquid Eyeliner\", \"type\": \"Liquid Eyeliner\"}, {\"x\": -0.0359678752720356, \"y\": -0.006325074005872011, \"context\": \"out. looks amazingggggg on, last **long**, and glides nicely when doing a wing.\", \"tokens\": \"out . looks amazing ##gg ##gg ##g on , last long , and glide ##s nicely when doing a wing .\", \"word\": \"long\", \"stars\": \"5 stars\", \"brand\": \"FENTY BEAUTY BY RIHANNA\", \"name\": \"Flyliner Longwear Liquid Eyeliner\", \"type\": \"Liquid Eyeliner\"}, {\"x\": -0.03553948178887367, \"y\": 0.0055574229918420315, \"context\": \". my new fav! intense black but not **long** lasting amazing! love this! the black is darker\", \"tokens\": \". my new fa ##v ! intense black but not long lasting amazing ! love this ! the black is darker\", \"word\": \"long\", \"stars\": null, \"brand\": null, \"name\": null, \"type\": null}, {\"x\": -0.0374782420694828, \"y\": 0.0015231322031468153, \"context\": \"i have used before. it \\u2019 s also so **long** lasting. stayed on after hrs @ beach &\", \"tokens\": \"i have used before . it \\u2019 s also so long lasting . stayed on after hr ##s @ beach &\", \"word\": \"long\", \"stars\": \"5 stars\", \"brand\": \"FENTY BEAUTY BY RIHANNA\", \"name\": \"Flyliner Longwear Liquid Eyeliner\", \"type\": \"Liquid Eyeliner\"}, {\"x\": -0.03552589938044548, \"y\": -0.0011939596151933074, \"context\": \"after hrs @ beach & hot shower! last **long** and looks great! perfect line every time!!\", \"tokens\": \"after hr ##s @ beach & hot shower ! last long and looks great ! perfect line every time ! !\", \"word\": \"long\", \"stars\": \"5 stars\", \"brand\": \"FENTY BEAUTY BY RIHANNA\", \"name\": \"Flyliner Longwear Liquid Eyeliner\", \"type\": \"Liquid Eyeliner\"}, {\"x\": -0.03744720295071602, \"y\": -0.012683947570621967, \"context\": \"liner is everything i wanted. easy to use, **long**-lasting, and easy to remove with eye makeup\", \"tokens\": \"##liner is everything i wanted . easy to use , long - lasting , and easy to remove with eye makeup\", \"word\": \"long\", \"stars\": \"5 stars\", \"brand\": \"FENTY BEAUTY BY RIHANNA\", \"name\": \"Flyliner Longwear Liquid Eyeliner\", \"type\": \"Liquid Eyeliner\"}, {\"x\": -0.03757206350564957, \"y\": 0.006833878345787525, \"context\": \"a true black which is hard to find and its **long** lasting. smudge proof and waterproof, making\", \"tokens\": \"a true black which is hard to find and its long lasting . sm ##udge proof and water ##proof , making\", \"word\": \"long\", \"stars\": \"5 stars\", \"brand\": \"FENTY BEAUTY BY RIHANNA\", \"name\": \"Flyliner Longwear Liquid Eyeliner\", \"type\": \"Liquid Eyeliner\"}, {\"x\": -0.03739125654101372, \"y\": -0.013355237431824207, \"context\": \"tattoo liner. it's very pigmented and **long** lasting, it works a lot better when you use\", \"tokens\": \"tattoo liner . it ' s very pigment ##ed and long lasting , it works a lot better when you use\", \"word\": \"long\", \"stars\": \"4 stars\", \"brand\": \"FENTY BEAUTY BY RIHANNA\", \"name\": \"Flyliner Longwear Liquid Eyeliner\", \"type\": \"Liquid Eyeliner\"}, {\"x\": -0.02955307625234127, \"y\": 0.0012016667751595378, \"context\": \"new favorite! disappointing yaas queen riri ultra **long** haul flight-proof and approved i love how smooth\", \"tokens\": \"new favorite ! disappointing ya ##as queen ri ##ri ultra long haul flight - proof and approved i love how smooth\", \"word\": \"long\", \"stars\": \"5 stars\", \"brand\": \"FENTY BEAUTY BY RIHANNA\", \"name\": \"Flyliner Longwear Liquid Eyeliner\", \"type\": \"Liquid Eyeliner\"}, {\"x\": -0.035454120486974716, \"y\": 0.02773209847509861, \"context\": \"applies easily in the morning and stays on all day **long**. i hope fenty comes out with more colour\", \"tokens\": \"applies easily in the morning and stays on all day long . i hope fen ##ty comes out with more colour\", \"word\": \"long\", \"stars\": \"5 stars\", \"brand\": \"FENTY BEAUTY BY RIHANNA\", \"name\": \"Flyliner Longwear Liquid Eyeliner\", \"type\": \"Liquid Eyeliner\"}, {\"x\": -0.03284940496087074, \"y\": 0.035765327513217926, \"context\": \"eno my new fave i \\u2019 ve been a **long** time advocate for stilas liquid eyeliner, due\", \"tokens\": \"##eno my new fa ##ve i \\u2019 ve been a long time advocate for stil ##as liquid eye ##liner , due\", \"word\": \"long\", \"stars\": \"5 stars\", \"brand\": \"FENTY BEAUTY BY RIHANNA\", \"name\": \"Flyliner Longwear Liquid Eyeliner\", \"type\": \"Liquid Eyeliner\"}, {\"x\": -0.03596989065408707, \"y\": 0.03287497162818909, \"context\": \"way better than both of those! not sure how **long** the product will last but first impressions is an a\", \"tokens\": \"way better than both of those ! not sure how long the product will last but first impressions is an a\", \"word\": \"long\", \"stars\": \"5 stars\", \"brand\": \"FENTY BEAUTY BY RIHANNA\", \"name\": \"Flyliner Longwear Liquid Eyeliner\", \"type\": \"Liquid Eyeliner\"}, {\"x\": -0.034235578030347824, \"y\": -0.02955946885049343, \"context\": \"very very impressed. fentybeauty flyliner longwear liquid eyeliner is everything you imagine and more\", \"tokens\": \"very very impressed . fen ##ty ##beau ##ty fly ##liner long ##wear liquid eye ##liner is everything you imagine and more\", \"word\": \"long\", \"stars\": \"5 stars\", \"brand\": \"FENTY BEAUTY BY RIHANNA\", \"name\": \"Flyliner Longwear Liquid Eyeliner\", \"type\": \"Liquid Eyeliner\"}, {\"x\": -0.03583511337637901, \"y\": 0.00811616238206625, \"context\": \". yasss rihanna should be embarrassed it is **long** lasting, but very difficult to apply. not my\", \"tokens\": \". ya ##ss ##s rihanna should be embarrassed it is long lasting , but very difficult to apply . not my\", \"word\": \"long\", \"stars\": \"2 stars\", \"brand\": \"FENTY BEAUTY BY RIHANNA\", \"name\": \"Flyliner Longwear Liquid Eyeliner\", \"type\": \"Liquid Eyeliner\"}, {\"x\": -0.03226948529481888, \"y\": 0.03243253380060196, \"context\": \"literally goes on where i want it, for as **long** as i want it there. never looking back!\", \"tokens\": \"literally goes on where i want it , for as long as i want it there . never looking back !\", \"word\": \"long\", \"stars\": \"5 stars\", \"brand\": \"FENTY BEAUTY BY RIHANNA\", \"name\": \"Flyliner Longwear Liquid Eyeliner\", \"type\": \"Liquid Eyeliner\"}, {\"x\": -0.03590420261025429, \"y\": 0.038554269820451736, \"context\": \"fully visible eyelids. i found the formula took too **long** to dry and over the course of the day,\", \"tokens\": \"fully visible eyelids . i found the formula took too long to dry and over the course of the day ,\", \"word\": \"long\", \"stars\": \"2 stars\", \"brand\": \"FENTY BEAUTY BY RIHANNA\", \"name\": \"Flyliner Longwear Liquid Eyeliner\", \"type\": \"Liquid Eyeliner\"}, {\"x\": -0.03629053011536598, \"y\": -0.02513083629310131, \"context\": \"foundation. i found the felt tip a tad bit **long**, so you don \\u2019 t get the precision for\", \"tokens\": \"foundation . i found the felt tip a tad bit long , so you don \\u2019 t get the precision for\", \"word\": \"long\", \"stars\": \"2 stars\", \"brand\": \"FENTY BEAUTY BY RIHANNA\", \"name\": \"Flyliner Longwear Liquid Eyeliner\", \"type\": \"Liquid Eyeliner\"}, {\"x\": -0.03741949424147606, \"y\": 0.03677590936422348, \"context\": \"me: / fantastic easy to apply and lasts so **long**! disappointed easily best liquid liner amazing i wanted to\", \"tokens\": \"me : / fantastic easy to apply and lasts so long ! disappointed easily best liquid liner amazing i wanted to\", \"word\": \"long\", \"stars\": null, \"brand\": null, \"name\": null, \"type\": null}, {\"x\": -0.034722939133644104, \"y\": 0.039538685232400894, \"context\": \"some reason, it didn 't last me as **long** as the kat von d or stila eyeliner\", \"tokens\": \"some reason , it didn ' t last me as long as the kat von d or stil ##a eye ##liner\", \"word\": \"long\", \"stars\": \"4 stars\", \"brand\": \"FENTY BEAUTY BY RIHANNA\", \"name\": \"Flyliner Longwear Liquid Eyeliner\", \"type\": \"Liquid Eyeliner\"}, {\"x\": -0.03707660362124443, \"y\": -0.006477414630353451, \"context\": \"originally bought and returned this due to it not being **long** wearing but then something made me want to give it\", \"tokens\": \"originally bought and returned this due to it not being long wearing but then something made me want to give it\", \"word\": \"long\", \"stars\": \"5 stars\", \"brand\": \"FENTY BEAUTY BY RIHANNA\", \"name\": \"Flyliner Longwear Liquid Eyeliner\", \"type\": \"Liquid Eyeliner\"}, {\"x\": -0.036456018686294556, \"y\": -0.016373133286833763, \"context\": \"tip is an issue won \\u2019 t stay put not longwearing at all, transfers to eyelids and sm\", \"tokens\": \"tip is an issue won \\u2019 t stay put not long ##wear ##ing at all , transfers to eyelids and sm\", \"word\": \"long\", \"stars\": \"1 star\", \"brand\": \"FENTY BEAUTY BY RIHANNA\", \"name\": \"Flyliner Longwear Liquid Eyeliner\", \"type\": \"Liquid Eyeliner\"}, {\"x\": -0.03509432449936867, \"y\": 0.030693186447024345, \"context\": \"lightweight and moisturizing, a little goes a **long** way. it really evens out the tone of\", \"tokens\": \"lightweight and moist ##uri ##zing , a little goes a long way . it really even ##s out the tone of\", \"word\": \"long\", \"stars\": \"5 stars\", \"brand\": \"Too Faced\", \"name\": \"Hangover Replenishing Face Primer\", \"type\": \"Primer\"}, {\"x\": -0.03592175990343094, \"y\": 0.04800250381231308, \"context\": \"even better than before-and it lasted for a **long** time too. i would definitely recommend this to anyone\", \"tokens\": \"even better than before - and it lasted for a long time too . i would definitely recommend this to anyone\", \"word\": \"long\", \"stars\": \"5 stars\", \"brand\": \"Too Faced\", \"name\": \"Hangover Replenishing Face Primer\", \"type\": \"Primer\"}, {\"x\": -0.031237445771694183, \"y\": 0.015883764252066612, \"context\": \"it........ as **long** as it is the only thing on your face.\", \"tokens\": \"it . . . . . . . . as long as it is the only thing on your face .\", \"word\": \"long\", \"stars\": \"5 stars\", \"brand\": \"Urban Decay\", \"name\": \"Cannonball Ultra Waterproof Mascara\", \"type\": \"Mascara\"}, {\"x\": -0.034389570355415344, \"y\": 0.036704931408166885, \"context\": \"however this didn 't keep my makeup lasting as **long** as i needed it to. this is why i\", \"tokens\": \"however this didn ' t keep my makeup lasting as long as i needed it to . this is why i\", \"word\": \"long\", \"stars\": \"3 stars\", \"brand\": \"Too Faced\", \"name\": \"Hangover Replenishing Face Primer\", \"type\": \"Primer\"}, {\"x\": -0.0376131497323513, \"y\": 0.020835619419813156, \"context\": \"work past that and it doesn 't linger too **long** on the skin. i have very acne prone\", \"tokens\": \"work past that and it doesn ' t linger too long on the skin . i have very ac ##ne prone\", \"word\": \"long\", \"stars\": null, \"brand\": null, \"name\": null, \"type\": null}, {\"x\": -0.03370106220245361, \"y\": 0.049009110778570175, \"context\": \"been wanting to get my hands on it for so **long**. i heard it did amazing this for people with\", \"tokens\": \"been wanting to get my hands on it for so long . i heard it did amazing this for people with\", \"word\": \"long\", \"stars\": \"3 stars\", \"brand\": \"Too Faced\", \"name\": \"Hangover Replenishing Face Primer\", \"type\": \"Primer\"}, {\"x\": -0.03736529499292374, \"y\": 0.041571613401174545, \"context\": \"up and ready to go. and it lasts a **long** time. 1-1. 5 pumps is enough\", \"tokens\": \"up and ready to go . and it lasts a long time . 1 - 1 . 5 pumps is enough\", \"word\": \"long\", \"stars\": \"5 stars\", \"brand\": \"Too Faced\", \"name\": \"Hangover Replenishing Face Primer\", \"type\": \"Primer\"}, {\"x\": -0.036111313849687576, \"y\": 0.021804552525281906, \"context\": \". i find that my makeup stays beautiful all day **long** as if i had just applied it. a good\", \"tokens\": \". i find that my makeup stays beautiful all day long as if i had just applied it . a good\", \"word\": \"long\", \"stars\": \"5 stars\", \"brand\": \"Urban Decay\", \"name\": \"Cannonball Ultra Waterproof Mascara\", \"type\": \"Mascara\"}, {\"x\": -0.03714343160390854, \"y\": -0.0003055547713302076, \"context\": \"on my wedding day! it was a hot and **long** [ but fantastic ] day, my make-up\", \"tokens\": \"on my wedding day ! it was a hot and long [ but fantastic ] day , my make - up\", \"word\": \"long\", \"stars\": \"5 stars\", \"brand\": \"Too Faced\", \"name\": \"Hangover Replenishing Face Primer\", \"type\": \"Primer\"}, {\"x\": -0.03203769773244858, \"y\": 0.03478781133890152, \"context\": \"cannot recommend this enough and will be using it as **long** as they make it. this is the best prime\", \"tokens\": \"cannot recommend this enough and will be using it as long as they make it . this is the best prime\", \"word\": \"long\", \"stars\": \"5 stars\", \"brand\": \"Too Faced\", \"name\": \"Hangover Replenishing Face Primer\", \"type\": \"Primer\"}, {\"x\": -0.036081645637750626, \"y\": 0.02453824318945408, \"context\": \"how easily it goes on-a little goes a **long** way-great prep for liquid foundation, feels good\", \"tokens\": \"how easily it goes on - a little goes a long way - great prep for liquid foundation , feels good\", \"word\": \"long\", \"stars\": \"5 stars\", \"brand\": \"Too Faced\", \"name\": \"Hangover Replenishing Face Primer\", \"type\": \"Primer\"}, {\"x\": -0.03271244093775749, \"y\": 0.049257539212703705, \"context\": \"of that it smells great. it wasn 't **long** before i went to sephora and bought a full\", \"tokens\": \"of that it smells great . it wasn ' t long before i went to sep ##hora and bought a full\", \"word\": \"long\", \"stars\": \"1 star\", \"brand\": \"Too Faced\", \"name\": \"Better Than Sex Waterproof Mascara\", \"type\": \"Mascara\"}, {\"x\": -0.03775128349661827, \"y\": 0.007083000615239143, \"context\": \"it cause it is so hydrating and slick but **long** lasting. a wile back, i received a\", \"tokens\": \"it cause it is so hydra ##ting and slick but long lasting . a wil ##e back , i received a\", \"word\": \"long\", \"stars\": null, \"brand\": null, \"name\": null, \"type\": null}, {\"x\": -0.03599727898836136, \"y\": 0.026122700423002243, \"context\": \", smells great, and holds my makeup all day **long** without clinging to my dry spots or making me look\", \"tokens\": \", smells great , and holds my makeup all day long without clinging to my dry spots or making me look\", \"word\": \"long\", \"stars\": \"5 stars\", \"brand\": \"Too Faced\", \"name\": \"Hangover Replenishing Face Primer\", \"type\": \"Primer\"}, {\"x\": -0.03671157360076904, \"y\": 0.04354679584503174, \"context\": \"becomes tacky to adhere to makeup. lasts a **long** time, moisturizing, makes my skin feel\", \"tokens\": \"becomes tack ##y to adhere to makeup . lasts a long time , moist ##uri ##zing , makes my skin feel\", \"word\": \"long\", \"stars\": \"5 stars\", \"brand\": \"Too Faced\", \"name\": \"Hangover Replenishing Face Primer\", \"type\": \"Primer\"}, {\"x\": -0.03439800441265106, \"y\": 0.03154529258608818, \"context\": \"each of them. very lightweight and product goes a **long** way. very happy with this primer. i\", \"tokens\": \"each of them . very lightweight and product goes a long way . very happy with this prime ##r . i\", \"word\": \"long\", \"stars\": \"5 stars\", \"brand\": \"Too Faced\", \"name\": \"Better Than Sex Waterproof Mascara\", \"type\": \"Mascara\"}, {\"x\": -0.037111796438694, \"y\": -0.007286400999873877, \"context\": \"as others have mentioned, but it is perfect for **long** wear. it does not feel \\\"sticky \\\"on\", \"tokens\": \"as others have mentioned , but it is perfect for long wear . it does not feel \\\" sticky \\\" on\", \"word\": \"long\", \"stars\": \"3 stars\", \"brand\": \"Too Faced\", \"name\": \"Better Than Sex Mascara\", \"type\": \"Mascara\"}, {\"x\": -0.03788342326879501, \"y\": 0.004787692334502935, \"context\": \"brush makeup, because this looked and stayed just as **long**. it somehow even reduces some of the swelling i\", \"tokens\": \"##brush makeup , because this looked and stayed just as long . it somehow even reduces some of the swelling i\", \"word\": \"long\", \"stars\": \"5 stars\", \"brand\": \"Too Faced\", \"name\": \"Hangover Replenishing Face Primer\", \"type\": \"Primer\"}, {\"x\": -0.0357830673456192, \"y\": 0.045470818877220154, \"context\": \"point beauty reward. i found that it took a **long** time to absorb into my skin before i could apply\", \"tokens\": \"point beauty reward . i found that it took a long time to absorb into my skin before i could apply\", \"word\": \"long\", \"stars\": \"3 stars\", \"brand\": \"Too Faced\", \"name\": \"Hangover Replenishing Face Primer\", \"type\": \"Primer\"}, {\"x\": -0.036728400737047195, \"y\": 0.032681114971637726, \"context\": \"right in quickly and my makeup stays put all day **long**. in fact, if i use this product,\", \"tokens\": \"right in quickly and my makeup stays put all day long . in fact , if i use this product ,\", \"word\": \"long\", \"stars\": \"5 stars\", \"brand\": \"Too Faced\", \"name\": \"Hangover Replenishing Face Primer\", \"type\": \"Primer\"}, {\"x\": -0.03539924696087837, \"y\": 0.053125593811273575, \"context\": \"recommend it. oh and it 'll last a **long** time. maybe the only thing i would change would\", \"tokens\": \"recommend it . oh and it ' ll last a long time . maybe the only thing i would change would\", \"word\": \"long\", \"stars\": \"5 stars\", \"brand\": \"Too Faced\", \"name\": \"Better Than Sex Mascara\", \"type\": \"Mascara\"}, {\"x\": -0.031123632565140724, \"y\": 0.013400565832853317, \"context\": \"'s so light and non greasy, and as **long** as it's set with my normal powder,\", \"tokens\": \"' s so light and non greasy , and as long as it ' s set with my normal powder ,\", \"word\": \"long\", \"stars\": \"5 stars\", \"brand\": \"Dior\", \"name\": \"Diorshow Waterproof Mascara\", \"type\": \"Mascara\"}, {\"x\": -0.036121565848588943, \"y\": 0.024257242679595947, \"context\": \". it holds my makeup perfectly all day and night **long**! for this primer to work well, you\", \"tokens\": \". it holds my makeup perfectly all day and night long ! for this prime ##r to work well , you\", \"word\": \"long\", \"stars\": \"5 stars\", \"brand\": \"Too Faced\", \"name\": \"Hangover Replenishing Face Primer\", \"type\": \"Primer\"}, {\"x\": -0.036131102591753006, \"y\": 0.045860886573791504, \"context\": \"for me.: ( ( it also takes a **long** time to dry-if you don 't wait\", \"tokens\": \"for me . : ( ( it also takes a long time to dry - if you don ' t wait\", \"word\": \"long\", \"stars\": \"2 stars\", \"brand\": \"Too Faced\", \"name\": \"Hangover Replenishing Face Primer\", \"type\": \"Primer\"}, {\"x\": -0.03406624123454094, \"y\": 0.04785974696278572, \"context\": \"time to dry-if you don 't wait **long** enough, it rolls up your foundation ) \\u2026 read\", \"tokens\": \"time to dry - if you don ' t wait long enough , it rolls up your foundation ) \\u2026 read\", \"word\": \"long\", \"stars\": \"2 stars\", \"brand\": \"Too Faced\", \"name\": \"Hangover Replenishing Face Primer\", \"type\": \"Primer\"}, {\"x\": -0.03611699119210243, \"y\": 0.01785191521048546, \"context\": \"on and in place all day! even on extra **long** work days my makeup goes strong all day. it\", \"tokens\": \"on and in place all day ! even on extra long work days my makeup goes strong all day . it\", \"word\": \"long\", \"stars\": \"5 stars\", \"brand\": \"Too Faced\", \"name\": \"Hangover Replenishing Face Primer\", \"type\": \"Primer\"}, {\"x\": -0.028855765238404274, \"y\": 0.026293393224477768, \"context\": \"my foundation apply better and look more natural, as **long** as i don 't wait too **long** between applications\", \"tokens\": \"my foundation apply better and look more natural , as long as i don ' t wait too long between applications\", \"word\": \"long\", \"stars\": \"5 stars\", \"brand\": \"Too Faced\", \"name\": \"Hangover Replenishing Face Primer\", \"type\": \"Primer\"}, {\"x\": -0.035099003463983536, \"y\": 0.04850054159760475, \"context\": \", as **long** as i don 't wait too **long** between applications. \\u2026 read more unless you have very\", \"tokens\": \", as long as i don ' t wait too long between applications . \\u2026 read more unless you have very\", \"word\": \"long\", \"stars\": \"5 stars\", \"brand\": \"Too Faced\", \"name\": \"Hangover Replenishing Face Primer\", \"type\": \"Primer\"}, {\"x\": -0.032236576080322266, \"y\": 0.05383041128516197, \"context\": \"blotting sheets help a lot! for a **long** time, i used primers and other products with\", \"tokens\": \"b ##lot ##ting sheets help a lot ! for a long time , i used prime ##rs and other products with\", \"word\": \"long\", \"stars\": \"5 stars\", \"brand\": \"Too Faced\", \"name\": \"Hangover Replenishing Face Primer\", \"type\": \"Primer\"}, {\"x\": -0.0356733538210392, \"y\": 0.021779300644993782, \"context\": \"so that it really holds the foundation on all day **long**. this stuff is nothing short of amazing. i\", \"tokens\": \"so that it really holds the foundation on all day long . this stuff is nothing short of amazing . i\", \"word\": \"long\", \"stars\": \"5 stars\", \"brand\": \"Too Faced\", \"name\": \"Better Than Sex Mascara\", \"type\": \"Mascara\"}, {\"x\": -0.037373464554548264, \"y\": 0.04547950625419617, \"context\": \"and the makeup goes on so smooth and last a **long** time! def reccomend it because i have\", \"tokens\": \"and the makeup goes on so smooth and last a long time ! def rec ##com ##end it because i have\", \"word\": \"long\", \"stars\": \"5 stars\", \"brand\": \"Too Faced\", \"name\": \"Hangover Replenishing Face Primer\", \"type\": \"Primer\"}, {\"x\": -0.03649682551622391, \"y\": 0.02194228209555149, \"context\": \"balances the skin my foundations look good all day **long**. works well with different types of foundations. has\", \"tokens\": \"balance ##s the skin my foundations look good all day long . works well with different types of foundations . has\", \"word\": \"long\", \"stars\": \"5 stars\", \"brand\": \"Too Faced\", \"name\": \"Hangover Replenishing Face Primer\", \"type\": \"Primer\"}, {\"x\": -0.037282221019268036, \"y\": 0.013727777637541294, \"context\": \". it makes my makeup stay wonderfully all day **long** and has not irritated my skin at all. if\", \"tokens\": \". it makes my makeup stay wonderful ##ly all day long and has not irritated my skin at all . if\", \"word\": \"long\", \"stars\": \"5 stars\", \"brand\": \"Too Faced\", \"name\": \"Hangover Replenishing Face Primer\", \"type\": \"Primer\"}, {\"x\": -0.038092635571956635, \"y\": -0.0015608413377776742, \"context\": \"favorite products. holds your make up all day, **long** lasting and very hydrating for dry skin. i\", \"tokens\": \"favorite products . holds your make up all day , long lasting and very hydra ##ting for dry skin . i\", \"word\": \"long\", \"stars\": \"5 stars\", \"brand\": \"Too Faced\", \"name\": \"Hangover Replenishing Face Primer\", \"type\": \"Primer\"}, {\"x\": -0.036603521555662155, \"y\": 0.03500087559223175, \"context\": \"feels a lot better and my foundation lasts all day **long**. i love it after reading raving reviews on\", \"tokens\": \"feels a lot better and my foundation lasts all day long . i love it after reading ravi ##ng reviews on\", \"word\": \"long\", \"stars\": null, \"brand\": null, \"name\": null, \"type\": null}, {\"x\": -0.03534401208162308, \"y\": 0.03217979893088341, \"context\": \"primer. \\u2026 read more a little goes a **long** way with this!! it feels nice on the\", \"tokens\": \"prime ##r . \\u2026 read more a little goes a long way with this ! ! it feels nice on the\", \"word\": \"long\", \"stars\": \"5 stars\", \"brand\": \"Too Faced\", \"name\": \"Hangover Replenishing Face Primer\", \"type\": \"Primer\"}, {\"x\": -0.03405380994081497, \"y\": -0.0306407418102026, \"context\": \"the display, and the single pencils are in **long** tubes. the value sets are in little shorter tubes\", \"tokens\": \"the display , and the single pencil ##s are in long tubes . the value sets are in little shorter tubes\", \"word\": \"long\", \"stars\": \"3 stars\", \"brand\": \"Marc Jacobs\", \"name\": \"Highliner Gel Eye Crayon Eyeliner\", \"type\": \"Gel Eyeliner\"}, {\"x\": -0.03662966191768646, \"y\": 0.034073565155267715, \"context\": \"go on so smooth and they stay on all day **long**! i got so many complements on the blue\", \"tokens\": \"go on so smooth and they stay on all day long ! i got so many complement ##s on the blue\", \"word\": \"long\", \"stars\": \"5 stars\", \"brand\": \"Marc Jacobs\", \"name\": \"Highliner Gel Eye Crayon Eyeliner\", \"type\": \"Gel Eyeliner\"}, {\"x\": -0.036675047129392624, \"y\": -0.028627660125494003, \"context\": \"extremely pigmented, creamy, and sets to a **long** wearing mat finish. you do have some wiggle\", \"tokens\": \"extremely pigment ##ed , creamy , and sets to a long wearing mat finish . you do have some wig ##gle\", \"word\": \"long\", \"stars\": \"4 stars\", \"brand\": \"Marc Jacobs\", \"name\": \"Highliner Gel Eye Crayon Eyeliner\", \"type\": \"Gel Eyeliner\"}, {\"x\": -0.03294306620955467, \"y\": 0.04926956817507744, \"context\": \"the best eyeliner i have come across in a **long** time. put in my water line and it '\", \"tokens\": \"the best eye ##liner i have come across in a long time . put in my water line and it '\", \"word\": \"long\", \"stars\": \"5 stars\", \"brand\": \"Marc Jacobs\", \"name\": \"Highliner Gel Eye Crayon Eyeliner\", \"type\": \"Gel Eyeliner\"}, {\"x\": -0.03878619149327278, \"y\": 0.008347990922629833, \"context\": \"a drag queen recommended this liner because it last very **long**. drag queens don 't lie about **long** wear\", \"tokens\": \"a drag queen recommended this liner because it last very long . drag queens don ' t lie about long wear\", \"word\": \"long\", \"stars\": \"5 stars\", \"brand\": \"Marc Jacobs\", \"name\": \"Highliner Gel Eye Crayon Eyeliner\", \"type\": \"Gel Eyeliner\"}, {\"x\": -0.03738293796777725, \"y\": -0.017164338380098343, \"context\": \"very **long**. drag queens don 't lie about **long** wear, it's incredibly **long** lasting and so\", \"tokens\": \"very long . drag queens don ' t lie about long wear , it ' s incredibly long lasting and so\", \"word\": \"long\", \"stars\": \"5 stars\", \"brand\": \"Too Faced\", \"name\": \"Better Than Sex Mascara\", \"type\": \"Mascara\"}, {\"x\": -0.03906385228037834, \"y\": -0.010010948404669762, \"context\": \"t lie about **long** wear, it's incredibly **long** lasting and so creamy to apply. i 'm\", \"tokens\": \"t lie about long wear , it ' s incredibly long lasting and so creamy to apply . i ' m\", \"word\": \"long\", \"stars\": \"5 stars\", \"brand\": \"Marc Jacobs\", \"name\": \"Highliner Gel Eye Crayon Eyeliner\", \"type\": \"Gel Eyeliner\"}, {\"x\": -0.03577377647161484, \"y\": 0.044970978051424026, \"context\": \"off a vibrant color, and stays put for a **long** time. i definitely recommend getting this product. i\", \"tokens\": \"off a vibrant color , and stays put for a long time . i definitely recommend getting this product . i\", \"word\": \"long\", \"stars\": \"4 stars\", \"brand\": \"Too Faced\", \"name\": \"Better Than Sex Mascara\", \"type\": \"Mascara\"}, {\"x\": -0.035138845443725586, \"y\": 0.041561633348464966, \"context\": \"liner i caved. why did i wait so **long**?!?! this eyeliner is amazing.\", \"tokens\": \"##liner i cave ##d . why did i wait so long ? ! ? ! this eye ##liner is amazing .\", \"word\": \"long\", \"stars\": \"5 stars\", \"brand\": \"FENTY BEAUTY BY RIHANNA\", \"name\": \"Flyliner Longwear Liquid Eyeliner\", \"type\": \"Liquid Eyeliner\"}, {\"x\": -0.036855511367321014, \"y\": -0.0018329068552702665, \"context\": \". i do recommend this to anyone who wants a **long** lasting eyeliner!! it was a total fail\", \"tokens\": \". i do recommend this to anyone who wants a long lasting eye ##liner ! ! it was a total fail\", \"word\": \"long\", \"stars\": \"5 stars\", \"brand\": \"Marc Jacobs\", \"name\": \"Highliner Gel Eye Crayon Eyeliner\", \"type\": \"Gel Eyeliner\"}, {\"x\": -0.03533421456813812, \"y\": 0.039133403450250626, \"context\": \"it was a total fail. it did not last **long** at all, and i had the worst panda eyes\", \"tokens\": \"it was a total fail . it did not last long at all , and i had the worst panda eyes\", \"word\": \"long\", \"stars\": \"1 star\", \"brand\": \"Marc Jacobs\", \"name\": \"Highliner Gel Eye Crayon Eyeliner\", \"type\": \"Gel Eyeliner\"}, {\"x\": -0.034479305148124695, \"y\": 0.03972861170768738, \"context\": \"liner with eyeshadow. a little goes a **long** way since the formula is ultra smooth and pigmented\", \"tokens\": \"liner with eyes ##had ##ow . a little goes a long way since the formula is ultra smooth and pigment ##ed\", \"word\": \"long\", \"stars\": \"5 stars\", \"brand\": \"Marc Jacobs\", \"name\": \"Highliner Gel Eye Crayon Eyeliner\", \"type\": \"Gel Eyeliner\"}, {\"x\": -0.03725604712963104, \"y\": 0.012064207345247269, \"context\": \"is such a unique color. this is also a **long** lasting liner. i wear it all day with no\", \"tokens\": \"is such a unique color . this is also a long lasting liner . i wear it all day with no\", \"word\": \"long\", \"stars\": \"5 stars\", \"brand\": \"Marc Jacobs\", \"name\": \"Highliner Gel Eye Crayon Eyeliner\", \"type\": \"Gel Eyeliner\"}, {\"x\": -0.037362389266490936, \"y\": -0.019185416400432587, \"context\": \"black and brown and both are super pigmented and **long** lasting. my new faves for sure! i\", \"tokens\": \"black and brown and both are super pigment ##ed and long lasting . my new fa ##ves for sure ! i\", \"word\": \"long\", \"stars\": \"5 stars\", \"brand\": \"Marc Jacobs\", \"name\": \"Highliner Gel Eye Crayon Eyeliner\", \"type\": \"Gel Eyeliner\"}, {\"x\": -0.03545781597495079, \"y\": 0.027448533102869987, \"context\": \"you know what impressed me the most?? how **long** it stayed in my waterline! i have fairly\", \"tokens\": \"you know what impressed me the most ? ? how long it stayed in my water ##line ! i have fairly\", \"word\": \"long\", \"stars\": \"5 stars\", \"brand\": \"Marc Jacobs\", \"name\": \"Highliner Gel Eye Crayon Eyeliner\", \"type\": \"Gel Eyeliner\"}, {\"x\": -0.03653400391340256, \"y\": 0.02089688554406166, \"context\": \", they usually don 't last even half as **long** and i have to practically rip into my eyelid\", \"tokens\": \", they usually don ' t last even half as long and i have to practically rip into my eye ##lid\", \"word\": \"long\", \"stars\": \"5 stars\", \"brand\": \"Marc Jacobs\", \"name\": \"Highliner Gel Eye Crayon Eyeliner\", \"type\": \"Gel Eyeliner\"}, {\"x\": -0.029650339856743813, \"y\": 0.025511275976896286, \"context\": \"drug store brands-one slide over, and as **long** as you didn 't goof up your line\", \"tokens\": \"drug store brands - one slide over , and as long as you didn ' t goo ##f up your line\", \"word\": \"long\", \"stars\": \"5 stars\", \"brand\": \"Marc Jacobs\", \"name\": \"Highliner Gel Eye Crayon Eyeliner\", \"type\": \"Gel Eyeliner\"}, {\"x\": -0.03583788871765137, \"y\": 0.023642513900995255, \"context\": \"tight line and water line and a little goes a **long** way. i am a big eyeliner snob\", \"tokens\": \"tight line and water line and a little goes a long way . i am a big eye ##liner s ##nob\", \"word\": \"long\", \"stars\": null, \"brand\": null, \"name\": null, \"type\": null}, {\"x\": -0.03591141104698181, \"y\": 0.04605162888765335, \"context\": \"original size, which has much more product took a **long** time to end ( which is great ) but the\", \"tokens\": \"original size , which has much more product took a long time to end ( which is great ) but the\", \"word\": \"long\", \"stars\": \"2 stars\", \"brand\": \"Marc Jacobs\", \"name\": \"Highliner Gel Eye Crayon Eyeliner\", \"type\": \"Gel Eyeliner\"}, {\"x\": -0.03529992699623108, \"y\": 0.041768819093704224, \"context\": \"fine. my only complaint is if i wait too **long** to put on my mascara after putting on this eye\", \"tokens\": \"fine . my only complaint is if i wait too long to put on my mascara after putting on this eye\", \"word\": \"long\", \"stars\": \"4 stars\", \"brand\": \"Marc Jacobs\", \"name\": \"Highliner Gel Eye Crayon Eyeliner\", \"type\": \"Gel Eyeliner\"}, {\"x\": -0.03517889231443405, \"y\": -0.03498970717191696, \"context\": \"you a straight, rich line, perfect for a **long** wearing and well defined cateye. you can really\", \"tokens\": \"you a straight , rich line , perfect for a long wearing and well defined cat ##eye . you can really\", \"word\": \"long\", \"stars\": \"5 stars\", \"brand\": \"Marc Jacobs\", \"name\": \"Highliner Gel Eye Crayon Eyeliner\", \"type\": \"Gel Eyeliner\"}, {\"x\": -0.03655264526605606, \"y\": -0.01720401458442211, \"context\": \"would 100 % always recommend this product i love the **long** wear and easy application of this eyeliner. however\", \"tokens\": \"would 100 % always recommend this product i love the long wear and easy application of this eye ##liner . however\", \"word\": \"long\", \"stars\": \"3 stars\", \"brand\": \"Marc Jacobs\", \"name\": \"Highliner Gel Eye Crayon Eyeliner\", \"type\": \"Gel Eyeliner\"}, {\"x\": -0.03705234453082085, \"y\": -0.03329511359333992, \"context\": \"a fragrance. very smooth application. vivid colors. **long** wearing. you have about 30-60 secs\", \"tokens\": \"a fragrance . very smooth application . vivid colors . long wearing . you have about 30 - 60 sec ##s\", \"word\": \"long\", \"stars\": \"5 stars\", \"brand\": \"Urban Decay\", \"name\": \"Cannonball Ultra Waterproof Mascara\", \"type\": \"Mascara\"}, {\"x\": -0.03588815778493881, \"y\": -0.02838992141187191, \"context\": \"is well worth the money! not only is it **long** wearing, but this color ( luna-tic\", \"tokens\": \"is well worth the money ! not only is it long wearing , but this color ( luna - ti ##c\", \"word\": \"long\", \"stars\": \"5 stars\", \"brand\": \"Marc Jacobs\", \"name\": \"Highliner Gel Eye Crayon Eyeliner\", \"type\": \"Gel Eyeliner\"}, {\"x\": -0.035894233733415604, \"y\": -0.058512959629297256, \"context\": \"below my waterline because my lower lashes are very **long** and abundant and basically guard that area like a fence\", \"tokens\": \"below my water ##line because my lower lashes are very long and abundant and basically guard that area like a fence\", \"word\": \"long\", \"stars\": \"5 stars\", \"brand\": \"Marc Jacobs\", \"name\": \"Highliner Gel Eye Crayon Eyeliner\", \"type\": \"Gel Eyeliner\"}, {\"x\": -0.03660678490996361, \"y\": -0.02985023893415928, \"context\": \"so used to every company talking about how great and **long**-wearing their liners are, so i pretty\", \"tokens\": \"so used to every company talking about how great and long - wearing their liner ##s are , so i pretty\", \"word\": \"long\", \"stars\": \"5 stars\", \"brand\": \"Marc Jacobs\", \"name\": \"Highliner Gel Eye Crayon Eyeliner\", \"type\": \"Gel Eyeliner\"}, {\"x\": -0.03567168861627579, \"y\": 0.05356018245220184, \"context\": \"it \\\"dries \\\"it stays on for a **long** time. i even put some on my water line\", \"tokens\": \"it \\\" dr ##ies \\\" it stays on for a long time . i even put some on my water line\", \"word\": \"long\", \"stars\": \"5 stars\", \"brand\": \"Marc Jacobs\", \"name\": \"Highliner Gel Eye Crayon Eyeliner\", \"type\": \"Gel Eyeliner\"}, {\"x\": -0.035173479467630386, \"y\": 0.05324440076947212, \"context\": \"then it dries. it stays on for a **long** time. so i got this as a birthday gift\", \"tokens\": \"then it dr ##ies . it stays on for a long time . so i got this as a birthday gift\", \"word\": \"long\", \"stars\": \"3 stars\", \"brand\": \"Marc Jacobs\", \"name\": \"Highliner Gel Eye Crayon Eyeliner\", \"type\": \"Gel Eyeliner\"}, {\"x\": -0.036407507956027985, \"y\": 0.020007546991109848, \"context\": \"night at the club. flashforward a very **long** night i ended up falling asleep and forgot to take\", \"tokens\": \"night at the club . flash ##for ##ward a very long night i ended up falling asleep and forgot to take\", \"word\": \"long\", \"stars\": \"5 stars\", \"brand\": \"Marc Jacobs\", \"name\": \"Highliner Gel Eye Crayon Eyeliner\", \"type\": \"Gel Eyeliner\"}, {\"x\": -0.037047311663627625, \"y\": -0.008208388462662697, \"context\": \". more like 50 stars than 5 stars amazing, **long** lasting, best eye liner i 've ever used\", \"tokens\": \". more like 50 stars than 5 stars amazing , long lasting , best eye liner i ' ve ever used\", \"word\": \"long\", \"stars\": \"5 stars\", \"brand\": \"Marc Jacobs\", \"name\": \"Highliner Gel Eye Crayon Eyeliner\", \"type\": \"Gel Eyeliner\"}, {\"x\": -0.036682941019535065, \"y\": 0.012699241749942303, \"context\": \"; it is so dark and stays on all day **long**. i will not buy any other eyeliner ever\", \"tokens\": \"; it is so dark and stays on all day long . i will not buy any other eye ##liner ever\", \"word\": \"long\", \"stars\": \"5 stars\", \"brand\": \"Marc Jacobs\", \"name\": \"Highliner Gel Eye Crayon Eyeliner\", \"type\": \"Gel Eyeliner\"}, {\"x\": -0.033615805208683014, \"y\": 0.04912439361214638, \"context\": \", and a lot of the time i spend too **long** trying to fix it because the line is too thick\", \"tokens\": \", and a lot of the time i spend too long trying to fix it because the line is too thick\", \"word\": \"long\", \"stars\": \"3 stars\", \"brand\": \"Marc Jacobs\", \"name\": \"Highliner Gel Eye Crayon Eyeliner\", \"type\": \"Gel Eyeliner\"}, {\"x\": -0.03667771443724632, \"y\": 0.03260711953043938, \"context\": \"for a surprise! once applied, it takes so **long** to dry and spreads to your upper eyelids. not\", \"tokens\": \"for a surprise ! once applied , it takes so long to dry and spreads to your upper eyelids . not\", \"word\": \"long\", \"stars\": \"1 star\", \"brand\": \"Marc Jacobs\", \"name\": \"Highliner Gel Eye Crayon Eyeliner\", \"type\": \"Gel Eyeliner\"}, {\"x\": -0.03845306858420372, \"y\": -0.002734858077019453, \"context\": \"happy i did! these eyeliners are very **long** lasting. they even stay on through sweat. the\", \"tokens\": \"happy i did ! these eye ##liner ##s are very long lasting . they even stay on through sweat . the\", \"word\": \"long\", \"stars\": \"5 stars\", \"brand\": \"Marc Jacobs\", \"name\": \"Highliner Gel Eye Crayon Eyeliner\", \"type\": \"Gel Eyeliner\"}, {\"x\": -0.03770286217331886, \"y\": 0.0049163466319441795, \"context\": \"raccoon eye and a little will go a **long**, **long** way due to it's wonderfully\", \"tokens\": \"ra ##cco ##on eye and a little will go a long , long way due to it ' s wonderful ##ly\", \"word\": \"long\", \"stars\": \"5 stars\", \"brand\": \"Marc Jacobs\", \"name\": \"Highliner Gel Eye Crayon Eyeliner\", \"type\": \"Gel Eyeliner\"}, {\"x\": -0.03703506290912628, \"y\": 0.004434995353221893, \"context\": \"on eye and a little will go a **long**, **long** way due to it's wonderfully smooth and\", \"tokens\": \"##on eye and a little will go a long , long way due to it ' s wonderful ##ly smooth and\", \"word\": \"long\", \"stars\": \"5 stars\", \"brand\": \"Dior\", \"name\": \"Diorshow Waterproof Mascara\", \"type\": \"Mascara\"}, {\"x\": -0.038471952080726624, \"y\": 0.00936208013445139, \"context\": \"it is very hard to remove and it is very **long** lasting so if you mess up, good luck getting\", \"tokens\": \"it is very hard to remove and it is very long lasting so if you mess up , good luck getting\", \"word\": \"long\", \"stars\": \"4 stars\", \"brand\": \"Marc Jacobs\", \"name\": \"Highliner Gel Eye Crayon Eyeliner\", \"type\": \"Gel Eyeliner\"}, {\"x\": -0.03622586280107498, \"y\": 0.020838148891925812, \"context\": \"all day and i look like jack sparrow after a **long** day-and never once do i look like that\", \"tokens\": \"all day and i look like jack sparrow after a long day - and never once do i look like that\", \"word\": \"long\", \"stars\": \"5 stars\", \"brand\": \"Marc Jacobs\", \"name\": \"Highliner Gel Eye Crayon Eyeliner\", \"type\": \"Gel Eyeliner\"}, {\"x\": -0.03363971412181854, \"y\": -0.03794590011239052, \"context\": \". i bought black. this is the perfect creamy **long** wearing eyeliner. when i first got it,\", \"tokens\": \". i bought black . this is the perfect creamy long wearing eye ##liner . when i first got it ,\", \"word\": \"long\", \"stars\": \"5 stars\", \"brand\": \"FENTY BEAUTY BY RIHANNA\", \"name\": \"Flyliner Longwear Liquid Eyeliner\", \"type\": \"Liquid Eyeliner\"}, {\"x\": -0.0370057038962841, \"y\": -0.009499011561274529, \"context\": \"! this gel eye liner saves the day and provides **long** wear. i don 't know of any other\", \"tokens\": \"! this gel eye liner saves the day and provides long wear . i don ' t know of any other\", \"word\": \"long\", \"stars\": \"5 stars\", \"brand\": \"Marc Jacobs\", \"name\": \"Highliner Gel Eye Crayon Eyeliner\", \"type\": \"Gel Eyeliner\"}, {\"x\": -0.03769461065530777, \"y\": -0.006350698880851269, \"context\": \". i was so disappointed. not creamy, not **long** lasting, did not apply easily, tugged at my\", \"tokens\": \". i was so disappointed . not creamy , not long lasting , did not apply easily , tugged at my\", \"word\": \"long\", \"stars\": \"1 star\", \"brand\": \"Marc Jacobs\", \"name\": \"Highliner Gel Eye Crayon Eyeliner\", \"type\": \"Gel Eyeliner\"}, {\"x\": -0.03763884678483009, \"y\": 0.001985621638596058, \"context\": \"high end brand there is for a smooth application and **long** lasting coverage in liners. this is by far\", \"tokens\": \"high end brand there is for a smooth application and long lasting coverage in liner ##s . this is by far\", \"word\": \"long\", \"stars\": \"5 stars\", \"brand\": \"Marc Jacobs\", \"name\": \"Highliner Gel Eye Crayon Eyeliner\", \"type\": \"Gel Eyeliner\"}, {\"x\": -0.03520572558045387, \"y\": 0.031044550240039825, \"context\": \"stays on as tho you freshly applied it all day **long**. so, i am an eyeliner junkie\", \"tokens\": \"stays on as tho you freshly applied it all day long . so , i am an eye ##liner junk ##ie\", \"word\": \"long\", \"stars\": \"5 stars\", \"brand\": \"Marc Jacobs\", \"name\": \"Highliner Gel Eye Crayon Eyeliner\", \"type\": \"Gel Eyeliner\"}, {\"x\": -0.03770165145397186, \"y\": 0.015135596506297588, \"context\": \"te the outer corners of my eyes. it lasts **long**, goes on creamy, and is safe for the\", \"tokens\": \"##te the outer corners of my eyes . it lasts long , goes on creamy , and is safe for the\", \"word\": \"long\", \"stars\": \"5 stars\", \"brand\": \"Marc Jacobs\", \"name\": \"Highliner Gel Eye Crayon Eyeliner\", \"type\": \"Gel Eyeliner\"}, {\"x\": -0.03616464510560036, \"y\": 0.01059248298406601, \"context\": \"comparison. a bit darker, but lasts just as **long**. this never smudges even when you '\", \"tokens\": \"comparison . a bit darker , but lasts just as long . this never sm ##udge ##s even when you '\", \"word\": \"long\", \"stars\": \"5 stars\", \"brand\": \"Marc Jacobs\", \"name\": \"Highliner Gel Eye Crayon Eyeliner\", \"type\": \"Gel Eyeliner\"}, {\"x\": -0.03639301285147667, \"y\": -0.032127488404512405, \"context\": \"smooth that glides are your eyelids very well and **long** wearing and waterproof as well. i 've\", \"tokens\": \"smooth that glide ##s are your eyelids very well and long wearing and water ##proof as well . i ' ve\", \"word\": \"long\", \"stars\": \"5 stars\", \"brand\": \"Urban Decay\", \"name\": \"Cannonball Ultra Waterproof Mascara\", \"type\": \"Mascara\"}, {\"x\": -0.03475557640194893, \"y\": 0.0226846095174551, \"context\": \"pot, and it doesn 't stay put as **long** as a gel pot. if you want gel eye\", \"tokens\": \"pot , and it doesn ' t stay put as long as a gel pot . if you want gel eye\", \"word\": \"long\", \"stars\": \"3 stars\", \"brand\": \"Marc Jacobs\", \"name\": \"Highliner Gel Eye Crayon Eyeliner\", \"type\": \"Gel Eyeliner\"}, {\"x\": -0.036669835448265076, \"y\": -0.015164489857852459, \"context\": \"so far! creamy, \\\"very \\\"black, **long** lasting. but very pricey unfortunately. paying for\", \"tokens\": \"so far ! creamy , \\\" very \\\" black , long lasting . but very price ##y unfortunately . paying for\", \"word\": \"long\", \"stars\": \"4 stars\", \"brand\": \"Marc Jacobs\", \"name\": \"Highliner Gel Eye Crayon Eyeliner\", \"type\": \"Gel Eyeliner\"}, {\"x\": -0.03691712021827698, \"y\": -0.01314627192914486, \"context\": \"the eyes. this eyeliner formula is fantastic, **long**-lasting, and easy to apply. the colour\", \"tokens\": \"the eyes . this eye ##liner formula is fantastic , long - lasting , and easy to apply . the colour\", \"word\": \"long\", \"stars\": \"5 stars\", \"brand\": \"FENTY BEAUTY BY RIHANNA\", \"name\": \"Flyliner Longwear Liquid Eyeliner\", \"type\": \"Liquid Eyeliner\"}, {\"x\": -0.03576824441552162, \"y\": 0.01783408597111702, \"context\": \"one of the few on the market that's **long** lasting in the waterline. i have the marc\", \"tokens\": \"one of the few on the market that ' s long lasting in the water ##line . i have the marc\", \"word\": \"long\", \"stars\": \"5 stars\", \"brand\": \"Marc Jacobs\", \"name\": \"Highliner Gel Eye Crayon Eyeliner\", \"type\": \"Gel Eyeliner\"}, {\"x\": -0.03595583885908127, \"y\": 0.006518428213894367, \"context\": \"best choice. also, a true gel has a **long** life; in fact, it is sometimes difficult to\", \"tokens\": \"best choice . also , a true gel has a long life ; in fact , it is sometimes difficult to\", \"word\": \"long\", \"stars\": \"2 stars\", \"brand\": \"Marc Jacobs\", \"name\": \"Highliner Gel Eye Crayon Eyeliner\", \"type\": \"Gel Eyeliner\"}, {\"x\": -0.03808574005961418, \"y\": -0.014291019178926945, \"context\": \"j beauty one is fabulous on-the gel is **long** lasting and the color beautiful, but now it '\", \"tokens\": \"##j beauty one is fabulous on - the gel is long lasting and the color beautiful , but now it '\", \"word\": \"long\", \"stars\": \"4 stars\", \"brand\": \"Marc Jacobs\", \"name\": \"Highliner Gel Eye Crayon Eyeliner\", \"type\": \"Gel Eyeliner\"}, {\"x\": -0.035012226551771164, \"y\": -0.04995596408843994, \"context\": \". returned it immediately. i often have issues with **long** wearing and waterproof eyeliners migrating off my\", \"tokens\": \". returned it immediately . i often have issues with long wearing and water ##proof eye ##liner ##s migrating off my\", \"word\": \"long\", \"stars\": \"5 stars\", \"brand\": \"Urban Decay\", \"name\": \"Cannonball Ultra Waterproof Mascara\", \"type\": \"Mascara\"}, {\"x\": -0.03706026077270508, \"y\": -0.0379437692463398, \"context\": \"better. supposedly the liner was supposed to be very **long** wearing, smudgeable but still permanent when dry\", \"tokens\": \"better . supposedly the liner was supposed to be very long wearing , sm ##udge ##able but still permanent when dry\", \"word\": \"long\", \"stars\": \"1 star\", \"brand\": \"Too Faced\", \"name\": \"Better Than Sex Waterproof Mascara\", \"type\": \"Mascara\"}, {\"x\": -0.037931330502033234, \"y\": 0.0068176910281181335, \"context\": \"minute of play time before it sets to a very **long** lasting finish. it also wears lovely in the tight\", \"tokens\": \"minute of play time before it sets to a very long lasting finish . it also wears lovely in the tight\", \"word\": \"long\", \"stars\": \"5 stars\", \"brand\": \"Marc Jacobs\", \"name\": \"Highliner Gel Eye Crayon Eyeliner\", \"type\": \"Gel Eyeliner\"}, {\"x\": -0.029709015041589737, \"y\": 0.023632649332284927, \"context\": \"ve also worn this swimming in the ocean & as **long** as i don 't rub my eyes, the\", \"tokens\": \"ve also worn this swimming in the ocean & as long as i don ' t rub my eyes , the\", \"word\": \"long\", \"stars\": \"1 star\", \"brand\": \"Dior\", \"name\": \"Diorshow Waterproof Mascara\", \"type\": \"Mascara\"}, {\"x\": -0.03573192283511162, \"y\": 0.022563006728887558, \"context\": \"eyes and i wind up with pink eyes all day **long**-not the look i was going for. also\", \"tokens\": \"eyes and i wind up with pink eyes all day long - not the look i was going for . also\", \"word\": \"long\", \"stars\": \"1 star\", \"brand\": \"Marc Jacobs\", \"name\": \"Highliner Gel Eye Crayon Eyeliner\", \"type\": \"Gel Eyeliner\"}, {\"x\": -0.036040160804986954, \"y\": 0.03569813817739487, \"context\": \"one \\\"pencil \\\"doesn 't last nearly as **long** as you'd expect but its not the end\", \"tokens\": \"one \\\" pencil \\\" doesn ' t last nearly as long as you ' d expect but its not the end\", \"word\": \"long\", \"stars\": \"5 stars\", \"brand\": \"Marc Jacobs\", \"name\": \"Highliner Gel Eye Crayon Eyeliner\", \"type\": \"Gel Eyeliner\"}, {\"x\": -0.03722114861011505, \"y\": 0.016850680112838745, \"context\": \"as it dries really fast. this is a **long** lasting formula but i have tried other products out there\", \"tokens\": \"as it dr ##ies really fast . this is a long lasting formula but i have tried other products out there\", \"word\": \"long\", \"stars\": \"4 stars\", \"brand\": \"Marc Jacobs\", \"name\": \"Highliner Gel Eye Crayon Eyeliner\", \"type\": \"Gel Eyeliner\"}, {\"x\": -0.03329499065876007, \"y\": 0.045103784650564194, \"context\": \"absolute best eyeliner i have found in a very **long** time. i was previously using a rimel eye\", \"tokens\": \"absolute best eye ##liner i have found in a very long time . i was previously using a rim ##el eye\", \"word\": \"long\", \"stars\": \"5 stars\", \"brand\": \"Marc Jacobs\", \"name\": \"Highliner Gel Eye Crayon Eyeliner\", \"type\": \"Gel Eyeliner\"}, {\"x\": -0.036527786403894424, \"y\": -0.03997774422168732, \"context\": \"have huge potential. the formula is great it is **long** wearing and it is very very black ( i did\", \"tokens\": \"have huge potential . the formula is great it is long wearing and it is very very black ( i did\", \"word\": \"long\", \"stars\": \"3 stars\", \"brand\": \"Marc Jacobs\", \"name\": \"Highliner Gel Eye Crayon Eyeliner\", \"type\": \"Gel Eyeliner\"}, {\"x\": -0.03650469705462456, \"y\": 0.03332895040512085, \"context\": \"downsides are that it doesn 't last very **long**--mine lasted for just 1 month. the\", \"tokens\": \"downs ##ides are that it doesn ' t last very long - - mine lasted for just 1 month . the\", \"word\": \"long\", \"stars\": \"3 stars\", \"brand\": \"Marc Jacobs\", \"name\": \"Highliner Gel Eye Crayon Eyeliner\", \"type\": \"Gel Eyeliner\"}, {\"x\": -0.036146607249975204, \"y\": 0.036889396607875824, \"context\": \"and stays put! best of all, after a **long** day, i don 't get the usual \\\"\", \"tokens\": \"and stays put ! best of all , after a long day , i don ' t get the usual \\\"\", \"word\": \"long\", \"stars\": \"5 stars\", \"brand\": \"Marc Jacobs\", \"name\": \"Highliner Gel Eye Crayon Eyeliner\", \"type\": \"Gel Eyeliner\"}, {\"x\": -0.03563594073057175, \"y\": 0.022947004064917564, \"context\": \"price. i 'm a doctor and work rather **long** hours in an or. i go for waterproof\", \"tokens\": \"price . i ' m a doctor and work rather long hours in an or . i go for water ##proof\", \"word\": \"long\", \"stars\": \"5 stars\", \"brand\": \"Marc Jacobs\", \"name\": \"Highliner Gel Eye Crayon Eyeliner\", \"type\": \"Gel Eyeliner\"}, {\"x\": -0.037734054028987885, \"y\": 0.004592493642121553, \"context\": \"color options and it is true, it's **long**-lasting but those are the only positive things i\", \"tokens\": \"color options and it is true , it ' s long - lasting but those are the only positive things i\", \"word\": \"long\", \"stars\": \"1 star\", \"brand\": \"Marc Jacobs\", \"name\": \"Highliner Gel Eye Crayon Eyeliner\", \"type\": \"Gel Eyeliner\"}, {\"x\": -0.03739364817738533, \"y\": -0.030669866129755974, \"context\": \"rica trip and was not sorry! this is such **long** wearing, like crazy. probably the **longest** on the\", \"tokens\": \"rica trip and was not sorry ! this is such long wearing , like crazy . probably the longest on the\", \"word\": \"long\", \"stars\": \"3 stars\", \"brand\": \"Marc Jacobs\", \"name\": \"Highliner Gel Eye Crayon Eyeliner\", \"type\": \"Gel Eyeliner\"}, {\"x\": -0.035579387098550797, \"y\": 0.05428707227110863, \"context\": \"with this one. it does seem to last a **long** time. i 'll keep trying to see if\", \"tokens\": \"with this one . it does seem to last a long time . i ' ll keep trying to see if\", \"word\": \"long\", \"stars\": \"4 stars\", \"brand\": \"Marc Jacobs\", \"name\": \"Highliner Gel Eye Crayon Eyeliner\", \"type\": \"Gel Eyeliner\"}, {\"x\": -0.03531785309314728, \"y\": 0.05027284473180771, \"context\": \". this was expensive considering it did not last a **long** time. and it was very hard to sharpen\", \"tokens\": \". this was expensive considering it did not last a long time . and it was very hard to sharpe ##n\", \"word\": \"long\", \"stars\": \"2 stars\", \"brand\": \"Too Faced\", \"name\": \"Better Than Sex Waterproof Mascara\", \"type\": \"Mascara\"}, {\"x\": -0.037976909428834915, \"y\": 0.020828085020184517, \"context\": \"with urban decay's liners. they last **long** and don 't wear off as easily as other\", \"tokens\": \"with urban decay ' s liner ##s . they last long and don ' t wear off as easily as other\", \"word\": \"long\", \"stars\": \"1 star\", \"brand\": \"Marc Jacobs\", \"name\": \"Highliner Gel Eye Crayon Eyeliner\", \"type\": \"Gel Eyeliner\"}, {\"x\": -0.03755780681967735, \"y\": 0.01046006754040718, \"context\": \"practice. it is by far the strongest and most **long**-lasting eyeliner i have ever tried, and\", \"tokens\": \"practice . it is by far the strongest and most long - lasting eye ##liner i have ever tried , and\", \"word\": \"long\", \"stars\": \"5 stars\", \"brand\": \"FENTY BEAUTY BY RIHANNA\", \"name\": \"Flyliner Longwear Liquid Eyeliner\", \"type\": \"Liquid Eyeliner\"}, {\"x\": -0.03818715363740921, \"y\": 0.005931379739195108, \"context\": \"this eyeliner is that because it's so **long**-lasting, it's kinda hard to take\", \"tokens\": \"this eye ##liner is that because it ' s so long - lasting , it ' s kinda hard to take\", \"word\": \"long\", \"stars\": \"5 stars\", \"brand\": \"Marc Jacobs\", \"name\": \"Highliner Gel Eye Crayon Eyeliner\", \"type\": \"Gel Eyeliner\"}, {\"x\": -0.03533722460269928, \"y\": -0.026372132822871208, \"context\": \"24 / 7 liner. my search continues for a **long**-wearing liner! i love this eyeliner!\", \"tokens\": \"24 / 7 liner . my search continues for a long - wearing liner ! i love this eye ##liner !\", \"word\": \"long\", \"stars\": null, \"brand\": null, \"name\": null, \"type\": null}, {\"x\": -0.03730297088623047, \"y\": 0.030986417084932327, \"context\": \"does not smudge and lasts all day and night **long**. if you want to smudge it, it\", \"tokens\": \"does not sm ##udge and lasts all day and night long . if you want to sm ##udge it , it\", \"word\": \"long\", \"stars\": \"5 stars\", \"brand\": \"Marc Jacobs\", \"name\": \"Highliner Gel Eye Crayon Eyeliner\", \"type\": \"Gel Eyeliner\"}, {\"x\": -0.035847555845975876, \"y\": 0.005286443512886763, \"context\": \"the pigment is very good, and they are incredibly **long**-lasting in the waterline. if you '\", \"tokens\": \"the pigment is very good , and they are incredibly long - lasting in the water ##line . if you '\", \"word\": \"long\", \"stars\": \"5 stars\", \"brand\": \"Marc Jacobs\", \"name\": \"Highliner Gel Eye Crayon Eyeliner\", \"type\": \"Gel Eyeliner\"}, {\"x\": -0.03645549342036247, \"y\": 0.03979350998997688, \"context\": \"udge-proof. it does not move after a **long** day. thanks! i have used many pencils\", \"tokens\": \"##udge - proof . it does not move after a long day . thanks ! i have used many pencil ##s\", \"word\": \"long\", \"stars\": null, \"brand\": null, \"name\": null, \"type\": null}, {\"x\": -0.03549731522798538, \"y\": 0.029572786763310432, \"context\": \"resulting in super panda look. it has been a **long** journey on the path to finding a decent liner that\", \"tokens\": \"resulting in super panda look . it has been a long journey on the path to finding a decent liner that\", \"word\": \"long\", \"stars\": \"4 stars\", \"brand\": \"Marc Jacobs\", \"name\": \"Highliner Gel Eye Crayon Eyeliner\", \"type\": \"Gel Eyeliner\"}, {\"x\": -0.03661593422293663, \"y\": 0.016369188204407692, \"context\": \"liner ever!! i can 't believe how **long** it stays on and it's so easy to\", \"tokens\": \"##liner ever ! ! i can ' t believe how long it stays on and it ' s so easy to\", \"word\": \"long\", \"stars\": \"5 stars\", \"brand\": \"Too Faced\", \"name\": \"Better Than Sex Mascara\", \"type\": \"Mascara\"}, {\"x\": -0.03640477731823921, \"y\": 0.021904898807406425, \"context\": \"point down. ugh. very surprised at how **long** this liner lasts ( over urban decay eye primer\", \"tokens\": \"point down . u ##gh . very surprised at how long this liner lasts ( over urban decay eye prime ##r\", \"word\": \"long\", \"stars\": \"5 stars\", \"brand\": \"Marc Jacobs\", \"name\": \"Highliner Gel Eye Crayon Eyeliner\", \"type\": \"Gel Eyeliner\"}, {\"x\": -0.03738138824701309, \"y\": 0.04519718512892723, \"context\": \"use it on my inner rim and lasts a really **long** time. good quality especially in blue. the only\", \"tokens\": \"use it on my inner rim and lasts a really long time . good quality especially in blue . the only\", \"word\": \"long\", \"stars\": null, \"brand\": null, \"name\": null, \"type\": null}, {\"x\": -0.03800513967871666, \"y\": 0.020032214000821114, \"context\": \"on forever. well maybe not forever but its very **long** lasting. i have to use eye makeup remover\", \"tokens\": \"on forever . well maybe not forever but its very long lasting . i have to use eye makeup remove ##r\", \"word\": \"long\", \"stars\": \"4 stars\", \"brand\": \"Marc Jacobs\", \"name\": \"Highliner Gel Eye Crayon Eyeliner\", \"type\": \"Gel Eyeliner\"}, {\"x\": -0.03380593657493591, \"y\": 0.02589196339249611, \"context\": \"removal wipes. definitely love using this for a **long** night out on the town i stumbled upon this product\", \"tokens\": \"removal wipe ##s . definitely love using this for a long night out on the town i stumbled upon this product\", \"word\": \"long\", \"stars\": \"5 stars\", \"brand\": \"Marc Jacobs\", \"name\": \"Highliner Gel Eye Crayon Eyeliner\", \"type\": \"Gel Eyeliner\"}, {\"x\": -0.036694858223199844, \"y\": -0.03153988718986511, \"context\": \"that's super important because this sucka is **long** wearing and a tad tough to get off, so\", \"tokens\": \"that ' s super important because this suck ##a is long wearing and a tad tough to get off , so\", \"word\": \"long\", \"stars\": \"5 stars\", \"brand\": \"Marc Jacobs\", \"name\": \"Highliner Gel Eye Crayon Eyeliner\", \"type\": \"Gel Eyeliner\"}, {\"x\": -0.03578280285000801, \"y\": 0.021680276840925217, \"context\": \"more raccoon eyes at the end of a **long** work day for me. i bought the dark brown\", \"tokens\": \"more ra ##cco ##on eyes at the end of a long work day for me . i bought the dark brown\", \"word\": \"long\", \"stars\": \"1 star\", \"brand\": \"Dior\", \"name\": \"Diorshow Waterproof Mascara\", \"type\": \"Mascara\"}, {\"x\": -0.03523906320333481, \"y\": -0.0018948285141959786, \"context\": \"eyeliner. i did not find that it had **long** lasting power or incredible pigment. it was okay and\", \"tokens\": \"eye ##liner . i did not find that it had long lasting power or incredible pigment . it was okay and\", \"word\": \"long\", \"stars\": \"3 stars\", \"brand\": \"Marc Jacobs\", \"name\": \"Highliner Gel Eye Crayon Eyeliner\", \"type\": \"Gel Eyeliner\"}, {\"x\": -0.036985844373703, \"y\": -0.03448215872049332, \"context\": \"on it. it is intensely pigmented and very **long**-wearing. however, these qualities present problems.\", \"tokens\": \"on it . it is intensely pigment ##ed and very long - wearing . however , these qualities present problems .\", \"word\": \"long\", \"stars\": \"2 stars\", \"brand\": \"Marc Jacobs\", \"name\": \"Highliner Gel Eye Crayon Eyeliner\", \"type\": \"Gel Eyeliner\"}, {\"x\": -0.03660206124186516, \"y\": 0.030760178342461586, \"context\": \"dries out easily. it didn 't last **long** at all. it doesn 't glide on very\", \"tokens\": \"dr ##ies out easily . it didn ' t last long at all . it doesn ' t glide on very\", \"word\": \"long\", \"stars\": \"1 star\", \"brand\": \"Marc Jacobs\", \"name\": \"Highliner Gel Eye Crayon Eyeliner\", \"type\": \"Gel Eyeliner\"}, {\"x\": -0.035043101757764816, \"y\": -0.03829561918973923, \"context\": \"am an eye pencil junkie and this is smooth **long** wearing and a vibrant color when i opened the first\", \"tokens\": \"am an eye pencil junk ##ie and this is smooth long wearing and a vibrant color when i opened the first\", \"word\": \"long\", \"stars\": \"5 stars\", \"brand\": \"Marc Jacobs\", \"name\": \"Highliner Gel Eye Crayon Eyeliner\", \"type\": \"Gel Eyeliner\"}, {\"x\": -0.0368925966322422, \"y\": 0.043704189360141754, \"context\": \"smoothly-no pull or tug-and lasts a **long** time. the gel formula doesn 't flake\", \"tokens\": \"smoothly - no pull or tug - and lasts a long time . the gel formula doesn ' t fl ##ake\", \"word\": \"long\", \"stars\": \"5 stars\", \"brand\": \"Marc Jacobs\", \"name\": \"Highliner Gel Eye Crayon Eyeliner\", \"type\": \"Gel Eyeliner\"}, {\"x\": -0.0374600775539875, \"y\": 0.003505880944430828, \"context\": \"this eyeliner! i 've tried other \\\"**long** lasting \\\"eyeliners, that don 't\", \"tokens\": \"this eye ##liner ! i ' ve tried other \\\" long lasting \\\" eye ##liner ##s , that don ' t\", \"word\": \"long\", \"stars\": \"5 stars\", \"brand\": \"FENTY BEAUTY BY RIHANNA\", \"name\": \"Flyliner Longwear Liquid Eyeliner\", \"type\": \"Liquid Eyeliner\"}, {\"x\": -0.03519642725586891, \"y\": 0.03789957985281944, \"context\": \"it \\\"settled \\\", it stayed on all day **long** with absolutely no problems. this eyeliner survived my\", \"tokens\": \"it \\\" settled \\\" , it stayed on all day long with absolutely no problems . this eye ##liner survived my\", \"word\": \"long\", \"stars\": \"5 stars\", \"brand\": \"Marc Jacobs\", \"name\": \"Highliner Gel Eye Crayon Eyeliner\", \"type\": \"Gel Eyeliner\"}, {\"x\": -0.038518164306879044, \"y\": -0.020754942670464516, \"context\": \"eyelids and this does not budge. it is very **long** wearing ( 9 + hours! ). you can\", \"tokens\": \"eyelids and this does not budge . it is very long wearing ( 9 + hours ! ) . you can\", \"word\": \"long\", \"stars\": \"5 stars\", \"brand\": \"Marc Jacobs\", \"name\": \"Highliner Gel Eye Crayon Eyeliner\", \"type\": \"Gel Eyeliner\"}, {\"x\": -0.035205110907554626, \"y\": -0.03243265300989151, \"context\": \"tried tons of eyeliners that claimed they were **long** wearing but by the middle of the day it had\", \"tokens\": \"tried tons of eye ##liner ##s that claimed they were long wearing but by the middle of the day it had\", \"word\": \"long\", \"stars\": \"5 stars\", \"brand\": \"FENTY BEAUTY BY RIHANNA\", \"name\": \"Flyliner Longwear Liquid Eyeliner\", \"type\": \"Liquid Eyeliner\"}, {\"x\": -0.03623732179403305, \"y\": -0.018532387912273407, \"context\": \"the next day! so smooth, so creamy, **long** lasting, does not smudge, waterproof.\", \"tokens\": \"the next day ! so smooth , so creamy , long lasting , does not sm ##udge , water ##proof .\", \"word\": \"long\", \"stars\": \"5 stars\", \"brand\": \"Too Faced\", \"name\": \"Better Than Sex Waterproof Mascara\", \"type\": \"Mascara\"}, {\"x\": -0.037255097180604935, \"y\": -0.020518064498901367, \"context\": \"honestly take the cake, they are creamy, surprisingly **long**-lasting, and they really don 't cr\", \"tokens\": \"honestly take the cake , they are creamy , surprisingly long - lasting , and they really don ' t cr\", \"word\": \"long\", \"stars\": \"1 star\", \"brand\": \"Too Faced\", \"name\": \"Better Than Sex Mascara\", \"type\": \"Mascara\"}, {\"x\": -0.03749087452888489, \"y\": -0.02099810354411602, \"context\": \"plum ) age eyeliner is great! it is **long** lasting and makes my brown eyes stand out more than\", \"tokens\": \"plum ) age eye ##liner is great ! it is long lasting and makes my brown eyes stand out more than\", \"word\": \"long\", \"stars\": \"4 stars\", \"brand\": \"Marc Jacobs\", \"name\": \"Highliner Gel Eye Crayon Eyeliner\", \"type\": \"Gel Eyeliner\"}, {\"x\": -0.03645683825016022, \"y\": 0.03673398494720459, \"context\": \"). the top doesn 't stay pointed for **long** and the sharpener is a nightmare to use (\", \"tokens\": \") . the top doesn ' t stay pointed for long and the sharpe ##ner is a nightmare to use (\", \"word\": \"long\", \"stars\": \"2 stars\", \"brand\": \"Marc Jacobs\", \"name\": \"Highliner Gel Eye Crayon Eyeliner\", \"type\": \"Gel Eyeliner\"}, {\"x\": -0.03799539804458618, \"y\": 0.0109123969450593, \"context\": \"blend it, but after it sets it is very **long** lasting. perfect for use on your waterline.\", \"tokens\": \"blend it , but after it sets it is very long lasting . perfect for use on your water ##line .\", \"word\": \"long\", \"stars\": \"5 stars\", \"brand\": \"Marc Jacobs\", \"name\": \"Highliner Gel Eye Crayon Eyeliner\", \"type\": \"Gel Eyeliner\"}, {\"x\": -0.03715181350708008, \"y\": -0.0013478301698341966, \"context\": \"glides on incredibly smooth. could not believe how **long** wearing! very easy to use, and comes in\", \"tokens\": \"glide ##s on incredibly smooth . could not believe how long wearing ! very easy to use , and comes in\", \"word\": \"long\", \"stars\": \"5 stars\", \"brand\": \"Marc Jacobs\", \"name\": \"Highliner Gel Eye Crayon Eyeliner\", \"type\": \"Gel Eyeliner\"}, {\"x\": -0.036749932914972305, \"y\": -0.03343430906534195, \"context\": \"liner ive ever bought. not only is it **long** wearing, and waterproof, but its **long** lasting\", \"tokens\": \"##liner iv ##e ever bought . not only is it long wearing , and water ##proof , but its long lasting\", \"word\": \"long\", \"stars\": \"5 stars\", \"brand\": \"Kat Von D\", \"name\": \"Tattoo Liner\", \"type\": \"Liquid Eyeliner\"}, {\"x\": -0.03712325915694237, \"y\": 0.001982057001441717, \"context\": \"it **long** wearing, and waterproof, but its **long** lasting as an eyeliner pen as well! normally\", \"tokens\": \"it long wearing , and water ##proof , but its long lasting as an eye ##liner pen as well ! normally\", \"word\": \"long\", \"stars\": \"5 stars\", \"brand\": \"Kat Von D\", \"name\": \"Tattoo Liner\", \"type\": \"Liquid Eyeliner\"}, {\"x\": -0.03426843136548996, \"y\": 0.00904309656471014, \"context\": \"hasn 't budged. i know this was **long** winded but i really wanted to prove to you\", \"tokens\": \"hasn ' t budge ##d . i know this was long wind ##ed but i really wanted to prove to you\", \"word\": \"long\", \"stars\": \"2 stars\", \"brand\": \"Too Faced\", \"name\": \"Better Than Sex Mascara\", \"type\": \"Mascara\"}, {\"x\": -0.03416511043906212, \"y\": 0.010342985391616821, \"context\": \"product is. i wouldn 't write such a **long** review if i didn 't have so much love\", \"tokens\": \"product is . i wouldn ' t write such a long review if i didn ' t have so much love\", \"word\": \"long\", \"stars\": \"5 stars\", \"brand\": \"Too Faced\", \"name\": \"Better Than Sex Mascara\", \"type\": \"Mascara\"}, {\"x\": -0.037784822285175323, \"y\": 0.03905646875500679, \"context\": \"really doesn 't budge, the color lasts a **long** time if you apply one thin layer. con:\", \"tokens\": \"really doesn ' t budge , the color lasts a long time if you apply one thin layer . con :\", \"word\": \"long\", \"stars\": \"3 stars\", \"brand\": \"Kat Von D\", \"name\": \"Tattoo Liner\", \"type\": \"Liquid Eyeliner\"}, {\"x\": -0.02998717501759529, \"y\": 0.02619030512869358, \"context\": \"more intense line. i will be buying this as **long** as she makes it! thanks for such great products\", \"tokens\": \"more intense line . i will be buying this as long as she makes it ! thanks for such great products\", \"word\": \"long\", \"stars\": \"5 stars\", \"brand\": \"Kat Von D\", \"name\": \"Tattoo Liner\", \"type\": \"Liquid Eyeliner\"}, {\"x\": -0.03619673103094101, \"y\": -0.026376882568001747, \"context\": \"somewhat easy to apply. this pen has a nice **long** thin point that makes it easy to get the thin\", \"tokens\": \"somewhat easy to apply . this pen has a nice long thin point that makes it easy to get the thin\", \"word\": \"long\", \"stars\": \"5 stars\", \"brand\": \"Kat Von D\", \"name\": \"Tattoo Liner\", \"type\": \"Liquid Eyeliner\"}, {\"x\": -0.03806859999895096, \"y\": 0.004604937508702278, \"context\": \"especially if you are constantly busy, and need something **long** lasting that will not be harsh on your eyes.\", \"tokens\": \"especially if you are constantly busy , and need something long lasting that will not be harsh on your eyes .\", \"word\": \"long\", \"stars\": \"5 stars\", \"brand\": \"Kat Von D\", \"name\": \"Tattoo Liner\", \"type\": \"Liquid Eyeliner\"}, {\"x\": -0.03768981620669365, \"y\": 0.01614854484796524, \"context\": \"the formula does run out. the formula is so **long** lasting. you could put this on at 6 am\", \"tokens\": \"the formula does run out . the formula is so long lasting . you could put this on at 6 am\", \"word\": \"long\", \"stars\": \"5 stars\", \"brand\": \"Kat Von D\", \"name\": \"Tattoo Liner\", \"type\": \"Liquid Eyeliner\"}, {\"x\": -0.03625744953751564, \"y\": 0.002468237653374672, \"context\": \"best eyeliner i have ever used. i work **long** days and have oily skin so my old eye\", \"tokens\": \"best eye ##liner i have ever used . i work long days and have oil ##y skin so my old eye\", \"word\": \"long\", \"stars\": \"5 stars\", \"brand\": \"Kat Von D\", \"name\": \"Tattoo Liner\", \"type\": \"Liquid Eyeliner\"}, {\"x\": -0.03628591075539589, \"y\": 0.021778661757707596, \"context\": \"is so easy to apply and looks fabulous all day **long**! the stylist who used this liner on\", \"tokens\": \"is so easy to apply and looks fabulous all day long ! the st ##yl ##ist who used this liner on\", \"word\": \"long\", \"stars\": \"4 stars\", \"brand\": \"Kat Von D\", \"name\": \"Tattoo Liner\", \"type\": \"Liquid Eyeliner\"}, {\"x\": -0.03758913651108742, \"y\": -0.007928773760795593, \"context\": \"of this, it's a beautiful colour, **long**-lasting, and glides on like a hot\", \"tokens\": \"of this , it ' s a beautiful colour , long - lasting , and glide ##s on like a hot\", \"word\": \"long\", \"stars\": \"5 stars\", \"brand\": \"FENTY BEAUTY BY RIHANNA\", \"name\": \"Flyliner Longwear Liquid Eyeliner\", \"type\": \"Liquid Eyeliner\"}, {\"x\": -0.03704318404197693, \"y\": 0.01328116562217474, \"context\": \"your eyelid. it's also not very **long**-lasting and fades after just a few hours.\", \"tokens\": \"your eye ##lid . it ' s also not very long - lasting and fades after just a few hours .\", \"word\": \"long\", \"stars\": \"1 star\", \"brand\": \"Kat Von D\", \"name\": \"Tattoo Liner\", \"type\": \"Liquid Eyeliner\"}, {\"x\": -0.03631843253970146, \"y\": 0.029113387688994408, \"context\": \"it. very easy to use and stays all day **long**! love love love this product! best eyeliner\", \"tokens\": \"it . very easy to use and stays all day long ! love love love this product ! best eye ##liner\", \"word\": \"long\", \"stars\": \"5 stars\", \"brand\": \"Too Faced\", \"name\": \"Better Than Sex Mascara\", \"type\": \"Mascara\"}, {\"x\": -0.037231434136629105, \"y\": 0.014209236018359661, \"context\": \"! it dries really quickly and lasts all day **long** even in oily skin. it doesn 't\", \"tokens\": \"! it dr ##ies really quickly and lasts all day long even in oil ##y skin . it doesn ' t\", \"word\": \"long\", \"stars\": \"5 stars\", \"brand\": \"Kat Von D\", \"name\": \"Tattoo Liner\", \"type\": \"Liquid Eyeliner\"}, {\"x\": -0.03570760041475296, \"y\": 0.027914008125662804, \"context\": \". but i 've even fallen asleep after a **long** day wearing this liner and woke up to find it\", \"tokens\": \". but i ' ve even fallen asleep after a long day wearing this liner and woke up to find it\", \"word\": \"long\", \"stars\": \"5 stars\", \"brand\": \"Kat Von D\", \"name\": \"Tattoo Liner\", \"type\": \"Liquid Eyeliner\"}, {\"x\": -0.037198856472969055, \"y\": -0.03220433369278908, \"context\": \"dream. while it is very pigmented and definitely **long** wearing with no flaking or fading, the pen\", \"tokens\": \"dream . while it is very pigment ##ed and definitely long wearing with no fl ##aking or fading , the pen\", \"word\": \"long\", \"stars\": \"4 stars\", \"brand\": \"Kat Von D\", \"name\": \"Tattoo Liner\", \"type\": \"Liquid Eyeliner\"}, {\"x\": -0.035649534314870834, \"y\": 0.03375823423266411, \"context\": \"pen tends to dry out fast so enjoy it as **long** as you can before you have to invest in a\", \"tokens\": \"pen tends to dry out fast so enjoy it as long as you can before you have to invest in a\", \"word\": \"long\", \"stars\": \"4 stars\", \"brand\": \"Kat Von D\", \"name\": \"Tattoo Liner\", \"type\": \"Liquid Eyeliner\"}, {\"x\": -0.03523814678192139, \"y\": 0.04610604792833328, \"context\": \"then its not due to the price point & how **long** it takes to use it up. i still lu\", \"tokens\": \"then its not due to the price point & how long it takes to use it up . i still lu\", \"word\": \"long\", \"stars\": \"4 stars\", \"brand\": \"Kat Von D\", \"name\": \"Tattoo Liner\", \"type\": \"Liquid Eyeliner\"}, {\"x\": -0.03787557780742645, \"y\": -0.006158646196126938, \"context\": \"had changed. it is not as pigmented or **long** lasting as it used to be, now it goes\", \"tokens\": \"had changed . it is not as pigment ##ed or long lasting as it used to be , now it goes\", \"word\": \"long\", \"stars\": \"3 stars\", \"brand\": \"Dior\", \"name\": \"Diorshow Waterproof Mascara\", \"type\": \"Mascara\"}, {\"x\": -0.03584425151348114, \"y\": 0.010237216018140316, \"context\": \"'t stay in place and it's no **long** wearing. only eyeliner i have found that stays\", \"tokens\": \"' t stay in place and it ' s no long wearing . only eye ##liner i have found that stays\", \"word\": \"long\", \"stars\": \"5 stars\", \"brand\": \"FENTY BEAUTY BY RIHANNA\", \"name\": \"Flyliner Longwear Liquid Eyeliner\", \"type\": \"Liquid Eyeliner\"}, {\"x\": -0.03675096109509468, \"y\": -0.031265612691640854, \"context\": \"t buy this product. very easy to handle, **long** wearing, bright color, all day wearing, easy\", \"tokens\": \"t buy this product . very easy to handle , long wearing , bright color , all day wearing , easy\", \"word\": \"long\", \"stars\": \"5 stars\", \"brand\": \"Kat Von D\", \"name\": \"Tattoo Liner\", \"type\": \"Liquid Eyeliner\"}, {\"x\": -0.037717752158641815, \"y\": 0.0036343454848974943, \"context\": \"that won 't disappoint, with **long** lasting, **long** standing wear and versatility of fine\", \"tokens\": \"that won ' t di ##sa ##pp ##oint , with long lasting , long standing wear and versa ##tility of fine\", \"word\": \"long\", \"stars\": \"5 stars\", \"brand\": \"Kat Von D\", \"name\": \"Tattoo Liner\", \"type\": \"Liquid Eyeliner\"}, {\"x\": -0.037533950060606, \"y\": 0.007240077015012503, \"context\": \"t disappoint, with **long** lasting, **long** standing wear and versatility of fine or fuller lines\", \"tokens\": \"t di ##sa ##pp ##oint , with long lasting , long standing wear and versa ##tility of fine or fuller lines\", \"word\": \"long\", \"stars\": \"5 stars\", \"brand\": \"Kat Von D\", \"name\": \"Tattoo Liner\", \"type\": \"Liquid Eyeliner\"}, {\"x\": -0.036003198474645615, \"y\": 0.018100500106811523, \"context\": \"dry or liquidi-which i love. very **long** lasting and i recommend this to everyone this to everyone\", \"tokens\": \"dry or liquid ##i - which i love . very long lasting and i recommend this to everyone this to everyone\", \"word\": \"long\", \"stars\": \"5 stars\", \"brand\": \"Kat Von D\", \"name\": \"Tattoo Liner\", \"type\": \"Liquid Eyeliner\"}, {\"x\": -0.037662774324417114, \"y\": -0.0008499697432853281, \"context\": \"day. easy to use, easy to wear, **long** lasting. amaze. i purchased this in-\", \"tokens\": \"day . easy to use , easy to wear , long lasting . ama ##ze . i purchased this in -\", \"word\": \"long\", \"stars\": null, \"brand\": null, \"name\": null, \"type\": null}, {\"x\": -0.03750881180167198, \"y\": 0.03871231898665428, \"context\": \"fool proof ink liner pen. the product lasts a **long** time might have half the ink of the new benefit\", \"tokens\": \"fool proof ink liner pen . the product lasts a long time might have half the ink of the new benefit\", \"word\": \"long\", \"stars\": \"5 stars\", \"brand\": \"Kat Von D\", \"name\": \"Tattoo Liner\", \"type\": \"Liquid Eyeliner\"}, {\"x\": -0.03687800467014313, \"y\": -0.021030036732554436, \"context\": \"throw it away so quickly. highly pigmented and **long** lasting. i love this eye liner, but my\", \"tokens\": \"throw it away so quickly . highly pigment ##ed and long lasting . i love this eye liner , but my\", \"word\": \"long\", \"stars\": \"4 stars\", \"brand\": \"Kat Von D\", \"name\": \"Tattoo Liner\", \"type\": \"Liquid Eyeliner\"}, {\"x\": -0.037854645401239395, \"y\": 0.030356761068105698, \"context\": \"s super easy to apply, it stays on a **long** time, and looks amazing throughout the day. i\", \"tokens\": \"s super easy to apply , it stays on a long time , and looks amazing throughout the day . i\", \"word\": \"long\", \"stars\": \"5 stars\", \"brand\": \"Too Faced\", \"name\": \"Better Than Sex Mascara\", \"type\": \"Mascara\"}, {\"x\": -0.03431807830929756, \"y\": 0.04860180243849754, \"context\": \"! i don 't know why i waited so **long** to try it!! totally worth every cent.\", \"tokens\": \"! i don ' t know why i waited so long to try it ! ! totally worth every cent .\", \"word\": \"long\", \"stars\": \"5 stars\", \"brand\": \"Dior\", \"name\": \"Diorshow Waterproof Mascara\", \"type\": \"Mascara\"}, {\"x\": -0.03709826245903969, \"y\": 0.02705884911119938, \"context\": \"real quick if it stays uncapped for too **long**. i have to end up shaking it or let\", \"tokens\": \"real quick if it stays un ##cap ##ped for too long . i have to end up shaking it or let\", \"word\": \"long\", \"stars\": \"4 stars\", \"brand\": \"Kat Von D\", \"name\": \"Tattoo Liner\", \"type\": \"Liquid Eyeliner\"}, {\"x\": -0.03282691910862923, \"y\": 0.0343056358397007, \"context\": \"tor doesn 't dry out i have been a **long** time fan of my cream liner and an angled brush\", \"tokens\": \"##tor doesn ' t dry out i have been a long time fan of my cream liner and an angled brush\", \"word\": \"long\", \"stars\": \"5 stars\", \"brand\": \"Kat Von D\", \"name\": \"Tattoo Liner\", \"type\": \"Liquid Eyeliner\"}, {\"x\": -0.03517170250415802, \"y\": 0.04126609489321709, \"context\": \"is easy to use and it takes me half as **long** to do my eyeliner now. highly recommend!\", \"tokens\": \"is easy to use and it takes me half as long to do my eye ##liner now . highly recommend !\", \"word\": \"long\", \"stars\": \"5 stars\", \"brand\": \"Marc Jacobs\", \"name\": \"Highliner Gel Eye Crayon Eyeliner\", \"type\": \"Gel Eyeliner\"}, {\"x\": -0.037340521812438965, \"y\": 0.020580582320690155, \"context\": \"a great liner and does not smudge after a **long** day of wear. she uses it without a prime\", \"tokens\": \"a great liner and does not sm ##udge after a long day of wear . she uses it without a prime\", \"word\": \"long\", \"stars\": \"5 stars\", \"brand\": \"Kat Von D\", \"name\": \"Tattoo Liner\", \"type\": \"Liquid Eyeliner\"}, {\"x\": -0.03668113052845001, \"y\": -0.01921624131500721, \"context\": \"t get me wrong, this product is amazing. **long** wearing and gets on smoothly... until the\", \"tokens\": \"t get me wrong , this product is amazing . long wearing and gets on smoothly . . . until the\", \"word\": \"long\", \"stars\": \"4 stars\", \"brand\": \"Kat Von D\", \"name\": \"Tattoo Liner\", \"type\": \"Liquid Eyeliner\"}, {\"x\": -0.037161294370889664, \"y\": 0.0035167906899005175, \"context\": \"pigmented, easy to use, precise, and **long** lasting. i can wear it all day **long** and\", \"tokens\": \"pigment ##ed , easy to use , precise , and long lasting . i can wear it all day long and\", \"word\": \"long\", \"stars\": \"5 stars\", \"brand\": \"Too Faced\", \"name\": \"Better Than Sex Waterproof Mascara\", \"type\": \"Mascara\"}, {\"x\": -0.036635883152484894, \"y\": 0.02434546686708927, \"context\": \"and **long** lasting. i can wear it all day **long** and it will still look just as it did when\", \"tokens\": \"and long lasting . i can wear it all day long and it will still look just as it did when\", \"word\": \"long\", \"stars\": \"5 stars\", \"brand\": \"Kat Von D\", \"name\": \"Tattoo Liner\", \"type\": \"Liquid Eyeliner\"}, {\"x\": -0.03459637239575386, \"y\": -0.024727798998355865, \"context\": \". though when it did apply, it was great longwear. i have tried tons of eyeliners\", \"tokens\": \". though when it did apply , it was great long ##wear . i have tried tons of eye ##liner ##s\", \"word\": \"long\", \"stars\": \"5 stars\", \"brand\": \"Too Faced\", \"name\": \"Better Than Sex Mascara\", \"type\": \"Mascara\"}, {\"x\": -0.03488614037632942, \"y\": 0.030272256582975388, \"context\": \"at all. i have waken up after a **long** night and this stuff hasn 't budged.\", \"tokens\": \"at all . i have wake ##n up after a long night and this stuff hasn ' t budge ##d .\", \"word\": \"long\", \"stars\": \"5 stars\", \"brand\": \"Kat Von D\", \"name\": \"Tattoo Liner\", \"type\": \"Liquid Eyeliner\"}, {\"x\": -0.035195063799619675, \"y\": -0.04839617386460304, \"context\": \"\\u2026 read more this eyeliner is jet black, **long** wearing and budgeproof. it is honestly the best\", \"tokens\": \"\\u2026 read more this eye ##liner is jet black , long wearing and budge ##proof . it is honestly the best\", \"word\": \"long\", \"stars\": \"5 stars\", \"brand\": \"Kat Von D\", \"name\": \"Tattoo Liner\", \"type\": \"Liquid Eyeliner\"}, {\"x\": -0.036619458347558975, \"y\": 9.187511551544958e-08, \"context\": \"lasts all day. at first it was great very **long** lasting and waterproof, 2 weeks after purchase i\", \"tokens\": \"lasts all day . at first it was great very long lasting and water ##proof , 2 weeks after purchase i\", \"word\": \"long\", \"stars\": \"1 star\", \"brand\": \"Too Faced\", \"name\": \"Better Than Sex Waterproof Mascara\", \"type\": \"Mascara\"}, {\"x\": -0.03249768540263176, \"y\": 0.03023594617843628, \"context\": \"read more i 've worn eyeliner for as **long** as i can remember and i 've owned many\", \"tokens\": \"read more i ' ve worn eye ##liner for as long as i can remember and i ' ve owned many\", \"word\": \"long\", \"stars\": \"5 stars\", \"brand\": \"Kat Von D\", \"name\": \"Tattoo Liner\", \"type\": \"Liquid Eyeliner\"}, {\"x\": -0.03880564123392105, \"y\": 0.007850739173591137, \"context\": \"that this might be the one. it's **long** lasting! i wear it with ud primer so\", \"tokens\": \"that this might be the one . it ' s long lasting ! i wear it with ud prime ##r so\", \"word\": \"long\", \"stars\": \"5 stars\", \"brand\": \"Kat Von D\", \"name\": \"Tattoo Liner\", \"type\": \"Liquid Eyeliner\"}, {\"x\": -0.03659629449248314, \"y\": 0.006962612271308899, \"context\": \". i 'm a college student so days are **long** and hectic. the color is actually black.\", \"tokens\": \". i ' m a college student so days are long and he ##ctic . the color is actually black .\", \"word\": \"long\", \"stars\": \"5 stars\", \"brand\": \"Kat Von D\", \"name\": \"Tattoo Liner\", \"type\": \"Liquid Eyeliner\"}, {\"x\": -0.03643738105893135, \"y\": -0.03208717703819275, \"context\": \"like other reviews have stated, it's definitely **long**-wearing... i can work 8 hours\", \"tokens\": \"like other reviews have stated , it ' s definitely long - wearing . . . i can work 8 hours\", \"word\": \"long\", \"stars\": \"4 stars\", \"brand\": \"Kat Von D\", \"name\": \"Tattoo Liner\", \"type\": \"Liquid Eyeliner\"}, {\"x\": -0.037149425595998764, \"y\": 0.019144952297210693, \"context\": \"umbles off. it's also not very **long** lasting. it looks shiny. i prefer the sep\", \"tokens\": \"##umble ##s off . it ' s also not very long lasting . it looks shiny . i prefer the sep\", \"word\": \"long\", \"stars\": \"3 stars\", \"brand\": \"Kat Von D\", \"name\": \"Tattoo Liner\", \"type\": \"Liquid Eyeliner\"}, {\"x\": -0.03705095872282982, \"y\": 0.02531915344297886, \"context\": \"create a line so easily. it stays out quite **long** throughout the day. however, it doesn 't\", \"tokens\": \"create a line so easily . it stays out quite long throughout the day . however , it doesn ' t\", \"word\": \"long\", \"stars\": \"5 stars\", \"brand\": \"Too Faced\", \"name\": \"Better Than Sex Mascara\", \"type\": \"Mascara\"}, {\"x\": -0.03561219945549965, \"y\": 0.043885488063097, \"context\": \"bought a stick before that didn 't last very **long**. overall, highly recommend trying it. \\u2026 read\", \"tokens\": \"bought a stick before that didn ' t last very long . overall , highly recommend trying it . \\u2026 read\", \"word\": \"long\", \"stars\": \"5 stars\", \"brand\": \"Kat Von D\", \"name\": \"Tattoo Liner\", \"type\": \"Liquid Eyeliner\"}, {\"x\": -0.037528641521930695, \"y\": 0.00808832235634327, \"context\": \"this liner to be colourful and intense. and very **long** lasting! the heck happened? why is it barely\", \"tokens\": \"this liner to be colourful and intense . and very long lasting ! the heck happened ? why is it barely\", \"word\": \"long\", \"stars\": \"1 star\", \"brand\": \"Kat Von D\", \"name\": \"Tattoo Liner\", \"type\": \"Liquid Eyeliner\"}, {\"x\": -0.03797617927193642, \"y\": 0.006260651629418135, \"context\": \"afternoon. but just because it's great and **long** lasting doesn 't mean you have to tear your\", \"tokens\": \"afternoon . but just because it ' s great and long lasting doesn ' t mean you have to tear your\", \"word\": \"long\", \"stars\": \"5 stars\", \"brand\": \"Kat Von D\", \"name\": \"Tattoo Liner\", \"type\": \"Liquid Eyeliner\"}, {\"x\": -0.036931782960891724, \"y\": 0.008816421963274479, \"context\": \"tight lining lower lashes easy to use, creates a **long**-lasting fine line. i 've been using\", \"tokens\": \"tight lining lower lashes easy to use , creates a long - lasting fine line . i ' ve been using\", \"word\": \"long\", \"stars\": \"4 stars\", \"brand\": \"Kat Von D\", \"name\": \"Tattoo Liner\", \"type\": \"Liquid Eyeliner\"}, {\"x\": -0.03599432483315468, \"y\": 0.031390659511089325, \"context\": \"graph eyeliner was harder to take off and takes **long** to dry and the tattoo liner is easy and fast\", \"tokens\": \"##graph eye ##liner was harder to take off and takes long to dry and the tattoo liner is easy and fast\", \"word\": \"long\", \"stars\": \"5 stars\", \"brand\": \"Kat Von D\", \"name\": \"Tattoo Liner\", \"type\": \"Liquid Eyeliner\"}, {\"x\": -0.03802093118429184, \"y\": 0.01617259532213211, \"context\": \"oily crease, but this stays all day **long** and is super easy to apply. pigmented and\", \"tokens\": \"oil ##y cr ##ease , but this stays all day long and is super easy to apply . pigment ##ed and\", \"word\": \"long\", \"stars\": \"4 stars\", \"brand\": \"FENTY BEAUTY BY RIHANNA\", \"name\": \"Flyliner Longwear Liquid Eyeliner\", \"type\": \"Liquid Eyeliner\"}, {\"x\": -0.03538462892174721, \"y\": 0.044868677854537964, \"context\": \"i wanted. it also didn 't last very **long**. i repurchased, thinking i had\", \"tokens\": \"i wanted . it also didn ' t last very long . i rep ##ur ##chase ##d , thinking i had\", \"word\": \"long\", \"stars\": \"3 stars\", \"brand\": \"Dior\", \"name\": \"Diorshow Waterproof Mascara\", \"type\": \"Mascara\"}, {\"x\": -0.037619877606630325, \"y\": -0.016988631337881088, \"context\": \"goes on smooth with lots of control and is very **long** wearing!! so i ordered the purple as a\", \"tokens\": \"goes on smooth with lots of control and is very long wearing ! ! so i ordered the purple as a\", \"word\": \"long\", \"stars\": \"4 stars\", \"brand\": \"Kat Von D\", \"name\": \"Tattoo Liner\", \"type\": \"Liquid Eyeliner\"}, {\"x\": -0.03659214824438095, \"y\": -0.022636018693447113, \"context\": \"once it's there, it totally rocks! **long** wearing and does not run yet is easy to remove\", \"tokens\": \"once it ' s there , it totally rocks ! long wearing and does not run yet is easy to remove\", \"word\": \"long\", \"stars\": \"4 stars\", \"brand\": \"Kat Von D\", \"name\": \"Tattoo Liner\", \"type\": \"Liquid Eyeliner\"}, {\"x\": -0.035395924001932144, \"y\": -0.025384312495589256, \"context\": \". clean, sharp tip, no smudge with **long**-wearing power. easy to wash off. perfect\", \"tokens\": \". clean , sharp tip , no sm ##udge with long - wearing power . easy to wash off . perfect\", \"word\": \"long\", \"stars\": \"5 stars\", \"brand\": \"Kat Von D\", \"name\": \"Tattoo Liner\", \"type\": \"Liquid Eyeliner\"}, {\"x\": -0.036583296954631805, \"y\": 0.0022922023199498653, \"context\": \"'s looking for a quality product with amazing, **long**-lasting effects! this products felt tip makes it\", \"tokens\": \"' s looking for a quality product with amazing , long - lasting effects ! this products felt tip makes it\", \"word\": \"long\", \"stars\": \"5 stars\", \"brand\": \"Kat Von D\", \"name\": \"Tattoo Liner\", \"type\": \"Liquid Eyeliner\"}, {\"x\": -0.036119494587183, \"y\": -0.028247345238924026, \"context\": \"pen is very thin for precise lining. it is **long** wearing but not waterproof. i 've never\", \"tokens\": \"pen is very thin for precise lining . it is long wearing but not water ##proof . i ' ve never\", \"word\": \"long\", \"stars\": \"5 stars\", \"brand\": \"Kat Von D\", \"name\": \"Tattoo Liner\", \"type\": \"Liquid Eyeliner\"}, {\"x\": -0.03493829444050789, \"y\": 0.043747399002313614, \"context\": \"as well. they last on your eyes for a **long** time ( with primer ofcourse ).\", \"tokens\": \"as well . they last on your eyes for a long time ( with prime ##r of ##co ##urse ) .\", \"word\": \"long\", \"stars\": \"5 stars\", \"brand\": \"Kat Von D\", \"name\": \"Tattoo Liner\", \"type\": \"Liquid Eyeliner\"}, {\"x\": -0.03659684211015701, \"y\": -0.040186185389757156, \"context\": \"and it's just drawing on a tattoo-**long**, **long** wearing, no smudge, dries\", \"tokens\": \"and it ' s just drawing on a tattoo - long , long wearing , no sm ##udge , dr ##ies\", \"word\": \"long\", \"stars\": \"4 stars\", \"brand\": \"Too Faced\", \"name\": \"Better Than Sex Waterproof Mascara\", \"type\": \"Mascara\"}, {\"x\": -0.03684636577963829, \"y\": -0.0353974923491478, \"context\": \"'s just drawing on a tattoo-**long**, **long** wearing, no smudge, dries super quickly\", \"tokens\": \"' s just drawing on a tattoo - long , long wearing , no sm ##udge , dr ##ies super quickly\", \"word\": \"long\", \"stars\": \"5 stars\", \"brand\": \"Kat Von D\", \"name\": \"Tattoo Liner\", \"type\": \"Liquid Eyeliner\"}, {\"x\": -0.036871135234832764, \"y\": 0.03716737776994705, \"context\": \"great for thin lines if desired. and lasts a **long** time. really disappointed in this product. after seeing\", \"tokens\": \"great for thin lines if desired . and lasts a long time . really disappointed in this product . after seeing\", \"word\": \"long\", \"stars\": \"3 stars\", \"brand\": \"Too Faced\", \"name\": \"Better Than Sex Waterproof Mascara\", \"type\": \"Mascara\"}, {\"x\": -0.03518245741724968, \"y\": 0.03481238707900047, \"context\": \"it everyday and i haven 't had this that **long**. it does last all day though if you can\", \"tokens\": \"it everyday and i haven ' t had this that long . it does last all day though if you can\", \"word\": \"long\", \"stars\": \"1 star\", \"brand\": \"Too Faced\", \"name\": \"Better Than Sex Waterproof Mascara\", \"type\": \"Mascara\"}, {\"x\": -0.034423962235450745, \"y\": 0.019131457433104515, \"context\": \"**longer**. it really does not budge. even on **long** days outside where i 'm sweating, this eye\", \"tokens\": \"longer . it really does not budge . even on long days outside where i ' m sweating , this eye\", \"word\": \"long\", \"stars\": \"5 stars\", \"brand\": \"Kat Von D\", \"name\": \"Tattoo Liner\", \"type\": \"Liquid Eyeliner\"}, {\"x\": -0.038069069385528564, \"y\": 0.015858566388487816, \"context\": \"solid black line and it dries fast & lasts **long**. my only problem with it is.. i\", \"tokens\": \"solid black line and it dr ##ies fast & lasts long . my only problem with it is . . i\", \"word\": \"long\", \"stars\": \"4 stars\", \"brand\": \"Kat Von D\", \"name\": \"Tattoo Liner\", \"type\": \"Liquid Eyeliner\"}, {\"x\": -0.035874977707862854, \"y\": -0.03182794898748398, \"context\": \"just applied it. it is honestly amazing. super **long** wearing, easy to apply, lasts throughout the day\", \"tokens\": \"just applied it . it is honestly amazing . super long wearing , easy to apply , lasts throughout the day\", \"word\": \"long\", \"stars\": \"5 stars\", \"brand\": \"Kat Von D\", \"name\": \"Tattoo Liner\", \"type\": \"Liquid Eyeliner\"}, {\"x\": -0.03676275163888931, \"y\": -0.006994470488280058, \"context\": \"process and completely ruins my work, it is not **long** wearing, and not all that pigmented. i\", \"tokens\": \"process and completely ruins my work , it is not long wearing , and not all that pigment ##ed . i\", \"word\": \"long\", \"stars\": \"1 star\", \"brand\": \"Kat Von D\", \"name\": \"Tattoo Liner\", \"type\": \"Liquid Eyeliner\"}, {\"x\": -0.03748741373419762, \"y\": 0.03986724093556404, \"context\": \"grail. smug proof, and totally lasts a **long** time! very easy to use as well. i\", \"tokens\": \"gr ##ail . smug proof , and totally lasts a long time ! very easy to use as well . i\", \"word\": \"long\", \"stars\": \"4 stars\", \"brand\": \"FENTY BEAUTY BY RIHANNA\", \"name\": \"Flyliner Longwear Liquid Eyeliner\", \"type\": \"Liquid Eyeliner\"}, {\"x\": -0.03637787699699402, \"y\": -0.032194506376981735, \"context\": \"to make it darker. i love this liner! **long** wearing, crease proof, has stayed all day\", \"tokens\": \"to make it darker . i love this liner ! long wearing , cr ##ease proof , has stayed all day\", \"word\": \"long\", \"stars\": \"5 stars\", \"brand\": \"Kat Von D\", \"name\": \"Tattoo Liner\", \"type\": \"Liquid Eyeliner\"}, {\"x\": -0.035024940967559814, \"y\": 0.02463800087571144, \"context\": \"whatever she recommended ). at the end of a **long** day of crying, i went to wash my face\", \"tokens\": \"whatever she recommended ) . at the end of a long day of crying , i went to wash my face\", \"word\": \"long\", \"stars\": \"5 stars\", \"brand\": \"Kat Von D\", \"name\": \"Tattoo Liner\", \"type\": \"Liquid Eyeliner\"}, {\"x\": -0.03604955971240997, \"y\": -0.0351041704416275, \"context\": \"read more pitch black, applies well, and is **long** wearing. the only bummer is it drys\", \"tokens\": \"read more pitch black , applies well , and is long wearing . the only bum ##mer is it dry ##s\", \"word\": \"long\", \"stars\": \"4 stars\", \"brand\": \"Too Faced\", \"name\": \"Better Than Sex Mascara\", \"type\": \"Mascara\"}, {\"x\": -0.038253042846918106, \"y\": 0.04027711972594261, \"context\": \"so great! easy to apply and stays for a **long** time ( compared with pencils, they stay way\", \"tokens\": \"so great ! easy to apply and stays for a long time ( compared with pencil ##s , they stay way\", \"word\": \"long\", \"stars\": \"5 stars\", \"brand\": \"Kat Von D\", \"name\": \"Tattoo Liner\", \"type\": \"Liquid Eyeliner\"}, {\"x\": -0.03389379754662514, \"y\": 0.048795346170663834, \"context\": \"s! i can 't believe i waited this **long** to try it. awesome product! \\u2026 read more\", \"tokens\": \"##s ! i can ' t believe i waited this long to try it . awesome product ! \\u2026 read more\", \"word\": \"long\", \"stars\": \"5 stars\", \"brand\": \"Too Faced\", \"name\": \"Better Than Sex Waterproof Mascara\", \"type\": \"Mascara\"}, {\"x\": -0.03815356642007828, \"y\": 0.043051693588495255, \"context\": \"come off after swimming, and it lasts a pretty **long** time! the brush shape is perfect. i purchased\", \"tokens\": \"come off after swimming , and it lasts a pretty long time ! the brush shape is perfect . i purchased\", \"word\": \"long\", \"stars\": \"4 stars\", \"brand\": \"Too Faced\", \"name\": \"Better Than Sex Mascara\", \"type\": \"Mascara\"}, {\"x\": -0.0350879468023777, \"y\": 0.042377158999443054, \"context\": \"up when you use it. if you take too **long** doing your wing, it will not no **longer** suspense\", \"tokens\": \"up when you use it . if you take too long doing your wing , it will not no longer suspense\", \"word\": \"long\", \"stars\": \"4 stars\", \"brand\": \"Kat Von D\", \"name\": \"Tattoo Liner\", \"type\": \"Liquid Eyeliner\"}, {\"x\": -0.03701339289546013, \"y\": 0.030525321140885353, \"context\": \"to like this liner but it doesn 't last **long** on the eye at all. i use a prime\", \"tokens\": \"to like this liner but it doesn ' t last long on the eye at all . i use a prime\", \"word\": \"long\", \"stars\": \"1 star\", \"brand\": \"Kat Von D\", \"name\": \"Tattoo Liner\", \"type\": \"Liquid Eyeliner\"}, {\"x\": -0.03532901778817177, \"y\": 0.047146283090114594, \"context\": \", than this liner won 't last you that **long**. when you first purchase it, i will say\", \"tokens\": \", than this liner won ' t last you that long . when you first purchase it , i will say\", \"word\": \"long\", \"stars\": \"2 stars\", \"brand\": \"Marc Jacobs\", \"name\": \"Highliner Gel Eye Crayon Eyeliner\", \"type\": \"Gel Eyeliner\"}, {\"x\": -0.035129107534885406, \"y\": 0.03825780376791954, \"context\": \"it's also very easy to apply but not **long** after, it dries up fast. i '\", \"tokens\": \"it ' s also very easy to apply but not long after , it dr ##ies up fast . i '\", \"word\": \"long\", \"stars\": \"3 stars\", \"brand\": \"Kat Von D\", \"name\": \"Tattoo Liner\", \"type\": \"Liquid Eyeliner\"}, {\"x\": -0.03717095032334328, \"y\": -0.02707839384675026, \"context\": \"the tip doesn 't fray. the formula is **long**-wearing and not easily smudged. it dried\", \"tokens\": \"the tip doesn ' t fray . the formula is long - wearing and not easily sm ##udged . it dried\", \"word\": \"long\", \"stars\": \"5 stars\", \"brand\": \"Kat Von D\", \"name\": \"Tattoo Liner\", \"type\": \"Liquid Eyeliner\"}, {\"x\": -0.0363340824842453, \"y\": 0.03904313966631889, \"context\": \"'s easy to use and stays put all day **long**. i mean i 've had this thing on\", \"tokens\": \"' s easy to use and stays put all day long . i mean i ' ve had this thing on\", \"word\": \"long\", \"stars\": \"5 stars\", \"brand\": \"Kat Von D\", \"name\": \"Tattoo Liner\", \"type\": \"Liquid Eyeliner\"}, {\"x\": -0.035356201231479645, \"y\": 0.05152806267142296, \"context\": \"the liquid but that technique didn 't last very **long** either. good product, but in my opinion not\", \"tokens\": \"the liquid but that technique didn ' t last very long either . good product , but in my opinion not\", \"word\": \"long\", \"stars\": \"3 stars\", \"brand\": \"Kat Von D\", \"name\": \"Tattoo Liner\", \"type\": \"Liquid Eyeliner\"}, {\"x\": -0.03563878312706947, \"y\": 0.051702383905649185, \"context\": \"it and it went on so smooth and lasted a **long** time. however, after about 2 weeks it began\", \"tokens\": \"it and it went on so smooth and lasted a long time . however , after about 2 weeks it began\", \"word\": \"long\", \"stars\": \"5 stars\", \"brand\": \"Too Faced\", \"name\": \"Better Than Sex Mascara\", \"type\": \"Mascara\"}, {\"x\": -0.03566793352365494, \"y\": 0.0004143754777032882, \"context\": \"much better than felt tip liners and has a **long** staying power. kat von dud i 've\", \"tokens\": \"much better than felt tip liner ##s and has a long staying power . kat von du ##d i ' ve\", \"word\": \"long\", \"stars\": null, \"brand\": null, \"name\": null, \"type\": null}, {\"x\": -0.03695279732346535, \"y\": 0.02673199400305748, \"context\": \"give ), is waterproof, lasts all day **long**, and dries quickly. if you make a\", \"tokens\": \"give ) , is water ##proof , lasts all day long , and dr ##ies quickly . if you make a\", \"word\": \"long\", \"stars\": \"5 stars\", \"brand\": \"Urban Decay\", \"name\": \"Cannonball Ultra Waterproof Mascara\", \"type\": \"Mascara\"}, {\"x\": -0.033299192786216736, \"y\": 0.04629766196012497, \"context\": \"is so easy to use and didn 't take **long** at all to get the hang of it. i\", \"tokens\": \"is so easy to use and didn ' t take long at all to get the hang of it . i\", \"word\": \"long\", \"stars\": \"5 stars\", \"brand\": \"Too Faced\", \"name\": \"Better Than Sex Waterproof Mascara\", \"type\": \"Mascara\"}, {\"x\": -0.0370752178132534, \"y\": 0.028376435860991478, \"context\": \"! nothing works as good, or stays on as **long** and i have tried 25 + liquid liners.\", \"tokens\": \"! nothing works as good , or stays on as long and i have tried 25 + liquid liner ##s .\", \"word\": \"long\", \"stars\": \"5 stars\", \"brand\": \"Kat Von D\", \"name\": \"Tattoo Liner\", \"type\": \"Liquid Eyeliner\"}, {\"x\": -0.036047156900167465, \"y\": 0.04306954890489578, \"context\": \"this is a good liner. it stays for a **long** time but i have oily skin and i find\", \"tokens\": \"this is a good liner . it stays for a long time but i have oil ##y skin and i find\", \"word\": \"long\", \"stars\": \"1 star\", \"brand\": \"Too Faced\", \"name\": \"Better Than Sex Mascara\", \"type\": \"Mascara\"}, {\"x\": -0.03768562152981758, \"y\": 0.04433573782444, \"context\": \"i use now, and it lasts for a very **long** time! even when it's starting to run\", \"tokens\": \"i use now , and it lasts for a very long time ! even when it ' s starting to run\", \"word\": \"long\", \"stars\": \"5 stars\", \"brand\": \"Kat Von D\", \"name\": \"Tattoo Liner\", \"type\": \"Liquid Eyeliner\"}, {\"x\": -0.03621600195765495, \"y\": 0.03912973403930664, \"context\": \"they were cheaper since they don 't last that **long**. still, i love the way they wear so\", \"tokens\": \"they were cheaper since they don ' t last that long . still , i love the way they wear so\", \"word\": \"long\", \"stars\": \"4 stars\", \"brand\": \"Kat Von D\", \"name\": \"Tattoo Liner\", \"type\": \"Liquid Eyeliner\"}, {\"x\": -0.03670618310570717, \"y\": 0.046290718019008636, \"context\": \"was dissapointing but it did last a **long** time and other than that is a very good quality\", \"tokens\": \"was di ##ssa ##point ##ing but it did last a long time and other than that is a very good quality\", \"word\": \"long\", \"stars\": \"5 stars\", \"brand\": \"Kat Von D\", \"name\": \"Tattoo Liner\", \"type\": \"Liquid Eyeliner\"}, {\"x\": -0.039361368864774704, \"y\": 0.0008183164754882455, \"context\": \"you 're doing a cat eye.-very **long** lasting. i have worn it for 2 days straight\", \"tokens\": \"you ' re doing a cat eye . - very long lasting . i have worn it for 2 days straight\", \"word\": \"long\", \"stars\": \"4 stars\", \"brand\": \"Kat Von D\", \"name\": \"Tattoo Liner\", \"type\": \"Liquid Eyeliner\"}, {\"x\": -0.03534526750445366, \"y\": -0.021023401990532875, \"context\": \"so you can do 2 coats very fast.-**long** pen makes it easy to grip, and the learning\", \"tokens\": \"so you can do 2 coats very fast . - long pen makes it easy to grip , and the learning\", \"word\": \"long\", \"stars\": \"4 stars\", \"brand\": \"Kat Von D\", \"name\": \"Tattoo Liner\", \"type\": \"Liquid Eyeliner\"}, {\"x\": -0.03700261935591698, \"y\": 0.03748510032892227, \"context\": \"other liquid liners.-appears to last a **long** time. mine has lasted a couple months of almost\", \"tokens\": \"other liquid liner ##s . - appears to last a long time . mine has lasted a couple months of almost\", \"word\": \"long\", \"stars\": \"4 stars\", \"brand\": \"Kat Von D\", \"name\": \"Tattoo Liner\", \"type\": \"Liquid Eyeliner\"}, {\"x\": -0.03254856541752815, \"y\": 0.05234247446060181, \"context\": \": ) i have been using this product for a **long** time now. it's the only liner i\", \"tokens\": \": ) i have been using this product for a long time now . it ' s the only liner i\", \"word\": \"long\", \"stars\": \"4 stars\", \"brand\": \"Marc Jacobs\", \"name\": \"Highliner Gel Eye Crayon Eyeliner\", \"type\": \"Gel Eyeliner\"}, {\"x\": -0.03399237245321274, \"y\": 0.05235033109784126, \"context\": \"that liner is, and after using that for so **long**, i was really disappointed i couldn 't get\", \"tokens\": \"that liner is , and after using that for so long , i was really disappointed i couldn ' t get\", \"word\": \"long\", \"stars\": \"1 star\", \"brand\": \"Dior\", \"name\": \"Diorshow Waterproof Mascara\", \"type\": \"Mascara\"}, {\"x\": -0.03303004056215286, \"y\": 0.03743486851453781, \"context\": \"have tried in the past. i will be a **long** time buyer of this product. \\u2026 read more i\", \"tokens\": \"have tried in the past . i will be a long time buyer of this product . \\u2026 read more i\", \"word\": \"long\", \"stars\": \"4 stars\", \"brand\": \"Too Faced\", \"name\": \"Better Than Sex Mascara\", \"type\": \"Mascara\"}, {\"x\": -0.03734240680932999, \"y\": 0.020543457940220833, \"context\": \"and it does not move. this product is very **long** lasting. i usually have to buy a new liner\", \"tokens\": \"and it does not move . this product is very long lasting . i usually have to buy a new liner\", \"word\": \"long\", \"stars\": \"5 stars\", \"brand\": \"Kat Von D\", \"name\": \"Tattoo Liner\", \"type\": \"Liquid Eyeliner\"}, {\"x\": -0.03756752610206604, \"y\": -0.021590759977698326, \"context\": \"is a true black. the liner is also extremely **long** wear, i 've had it stay on from\", \"tokens\": \"is a true black . the liner is also extremely long wear , i ' ve had it stay on from\", \"word\": \"long\", \"stars\": \"5 stars\", \"brand\": \"Kat Von D\", \"name\": \"Tattoo Liner\", \"type\": \"Liquid Eyeliner\"}, {\"x\": -0.029240716248750687, \"y\": 0.02424132265150547, \"context\": \"to try really hard to take this off ( as **long** as you have lip and eye remover, you\", \"tokens\": \"to try really hard to take this off ( as long as you have lip and eye remove ##r , you\", \"word\": \"long\", \"stars\": \"5 stars\", \"brand\": \"Kat Von D\", \"name\": \"Tattoo Liner\", \"type\": \"Liquid Eyeliner\"}, {\"x\": -0.036142997443675995, \"y\": -0.002584852045401931, \"context\": \"-precise tip-very pigmented-smooth-**long**-lasting cons:-runs out quickly \\u2026\", \"tokens\": \"- precise tip - very pigment ##ed - smooth - long - lasting con ##s : - runs out quickly \\u2026\", \"word\": \"long\", \"stars\": \"5 stars\", \"brand\": \"Kat Von D\", \"name\": \"Tattoo Liner\", \"type\": \"Liquid Eyeliner\"}, {\"x\": -0.03551603481173515, \"y\": 0.01691238209605217, \"context\": \"'m crying from stressed induced panic or having a **long** day: this eye liner never runs or moves.\", \"tokens\": \"' m crying from stressed induced panic or having a long day : this eye liner never runs or moves .\", \"word\": \"long\", \"stars\": \"5 stars\", \"brand\": \"Kat Von D\", \"name\": \"Tattoo Liner\", \"type\": \"Liquid Eyeliner\"}, {\"x\": -0.03690406680107117, \"y\": 0.007051041815429926, \"context\": \"to wait a couple seconds before blinking. 3 ) **long**-lasting: hours later, my eyeliner was\", \"tokens\": \"to wait a couple seconds before blinking . 3 ) long - lasting : hours later , my eye ##liner was\", \"word\": \"long\", \"stars\": \"5 stars\", \"brand\": \"Kat Von D\", \"name\": \"Tattoo Liner\", \"type\": \"Liquid Eyeliner\"}, {\"x\": -0.03500659763813019, \"y\": 0.026566021144390106, \"context\": \"now kat made this one that works even better last **long** no smudge. i have very oily skin\", \"tokens\": \"now kat made this one that works even better last long no sm ##udge . i have very oil ##y skin\", \"word\": \"long\", \"stars\": \"5 stars\", \"brand\": \"Urban Decay\", \"name\": \"Cannonball Ultra Waterproof Mascara\", \"type\": \"Mascara\"}, {\"x\": -0.03547194227576256, \"y\": -0.029137825593352318, \"context\": \"some great reviews from a friend of mine about how **long**-wearing it was. however, when i put\", \"tokens\": \"some great reviews from a friend of mine about how long - wearing it was . however , when i put\", \"word\": \"long\", \"stars\": \"2 stars\", \"brand\": \"Kat Von D\", \"name\": \"Tattoo Liner\", \"type\": \"Liquid Eyeliner\"}, {\"x\": -0.036302533000707626, \"y\": -0.04171954095363617, \"context\": \"work for me: ( tattoo liner is a very **long** wearing, non-flaking eyeliner. it\", \"tokens\": \"work for me : ( tattoo liner is a very long wearing , non - fl ##aking eye ##liner . it\", \"word\": \"long\", \"stars\": \"4 stars\", \"brand\": \"Kat Von D\", \"name\": \"Tattoo Liner\", \"type\": \"Liquid Eyeliner\"}, {\"x\": -0.03592503443360329, \"y\": -0.03606881573796272, \"context\": \"that winged look. allows you to make it as **long** or as thick as you want. but it '\", \"tokens\": \"that winged look . allows you to make it as long or as thick as you want . but it '\", \"word\": \"long\", \"stars\": \"5 stars\", \"brand\": \"Kat Von D\", \"name\": \"Tattoo Liner\", \"type\": \"Liquid Eyeliner\"}, {\"x\": -0.03434772044420242, \"y\": 0.010122385807335377, \"context\": \"i was very disappointed. this is an outstanding, **long**-lasting, easy to use liner! i really\", \"tokens\": \"i was very disappointed . this is an outstanding , long - lasting , easy to use liner ! i really\", \"word\": \"long\", \"stars\": \"5 stars\", \"brand\": \"Kat Von D\", \"name\": \"Tattoo Liner\", \"type\": \"Liquid Eyeliner\"}, {\"x\": -0.03631997108459473, \"y\": 0.019912362098693848, \"context\": \". it even holds cream shadows in place all day **long**. no creasing, color change, disappearing\", \"tokens\": \". it even holds cream shadows in place all day long . no cr ##ea ##sing , color change , disappearing\", \"word\": \"long\", \"stars\": \"5 stars\", \"brand\": \"Urban Decay\", \"name\": \"Eyeshadow Primer Potion - Original\", \"type\": \"Eye Primer\"}, {\"x\": -0.03648651763796806, \"y\": 0.029140936210751534, \"context\": \"old product would keep my eye makeup on all night **long**. now, my crease gets oily after\", \"tokens\": \"old product would keep my eye makeup on all night long . now , my cr ##ease gets oil ##y after\", \"word\": \"long\", \"stars\": \"1 star\", \"brand\": \"Urban Decay\", \"name\": \"Eyeshadow Primer Potion - Original\", \"type\": \"Eye Primer\"}, {\"x\": -0.0360880009829998, \"y\": 0.01221900712698698, \"context\": \"my eyeshadows just don 't stay as **long**. i thought it was just my eyelids getting more\", \"tokens\": \"my eyes ##had ##ows just don ' t stay as long . i thought it was just my eyelids getting more\", \"word\": \"long\", \"stars\": \"2 stars\", \"brand\": \"Urban Decay\", \"name\": \"Eyeshadow Primer Potion - Original\", \"type\": \"Eye Primer\"}, {\"x\": -0.0357879139482975, \"y\": 0.030212320387363434, \"context\": \"time of this primer. it lasts all day **long**, from my 6 am post gym session through my\", \"tokens\": \"time of this prime ##r . it lasts all day long , from my 6 am post gym session through my\", \"word\": \"long\", \"stars\": \"5 stars\", \"brand\": \"Urban Decay\", \"name\": \"Eyeshadow Primer Potion - Original\", \"type\": \"Eye Primer\"}, {\"x\": -0.03520819917321205, \"y\": 0.02488563023507595, \"context\": \". a little dab of urban decay goes a **long** way-my shadow looks almost just applied by the\", \"tokens\": \". a little da ##b of urban decay goes a long way - my shadow looks almost just applied by the\", \"word\": \"long\", \"stars\": \"5 stars\", \"brand\": \"Urban Decay\", \"name\": \"Eyeshadow Primer Potion - Original\", \"type\": \"Eye Primer\"}, {\"x\": -0.03378710895776749, \"y\": 0.038603801280260086, \"context\": \"a staple of my collection and a little goes a **long** way. i have loved this product for years,\", \"tokens\": \"a staple of my collection and a little goes a long way . i have loved this product for years ,\", \"word\": \"long\", \"stars\": null, \"brand\": null, \"name\": null, \"type\": null}, {\"x\": -0.03720399737358093, \"y\": 0.04638446867465973, \"context\": \"is minimal smudging. the tube lasts a **long** time, because a little goes a **long** way.\", \"tokens\": \"is minimal sm ##ud ##ging . the tube lasts a long time , because a little goes a long way .\", \"word\": \"long\", \"stars\": \"5 stars\", \"brand\": \"Urban Decay\", \"name\": \"Eyeshadow Primer Potion - Original\", \"type\": \"Eye Primer\"}, {\"x\": -0.03653421252965927, \"y\": 0.03386308625340462, \"context\": \"lasts a **long** time, because a little goes a **long** way. i encourage every one to try this product\", \"tokens\": \"lasts a long time , because a little goes a long way . i encourage every one to try this product\", \"word\": \"long\", \"stars\": \"5 stars\", \"brand\": \"Urban Decay\", \"name\": \"Eyeshadow Primer Potion - Original\", \"type\": \"Eye Primer\"}, {\"x\": -0.03486902639269829, \"y\": 0.030941402539610863, \"context\": \"over 12 hrs! a little bit goes a **long** way. i have been using ud's original\", \"tokens\": \"over 12 hr ##s ! a little bit goes a long way . i have been using ud ' s original\", \"word\": \"long\", \"stars\": \"3 stars\", \"brand\": \"Urban Decay\", \"name\": \"Eyeshadow Primer Potion - Original\", \"type\": \"Eye Primer\"}, {\"x\": -0.03489203378558159, \"y\": 0.03155583515763283, \"context\": \"hygienic and will waste product in the **long** run. this makes me sad because the product does\", \"tokens\": \"h ##y ##gie ##nic and will waste product in the long run . this makes me sad because the product does\", \"word\": \"long\", \"stars\": \"3 stars\", \"brand\": \"Urban Decay\", \"name\": \"Eyeshadow Primer Potion - Original\", \"type\": \"Eye Primer\"}, {\"x\": -0.03658163547515869, \"y\": 0.0173336248844862, \"context\": \". i have been out in the rain, working **long** hours as a hair / makeup artist, using it\", \"tokens\": \". i have been out in the rain , working long hours as a hair / makeup artist , using it\", \"word\": \"long\", \"stars\": \"5 stars\", \"brand\": \"Urban Decay\", \"name\": \"Eyeshadow Primer Potion - Original\", \"type\": \"Eye Primer\"}, {\"x\": -0.03405915945768356, \"y\": 0.04573044925928116, \"context\": \"i can 't believe it has taken me so **long** to try an eyeshadow primer ( i\", \"tokens\": \"i can ' t believe it has taken me so long to try an eyes ##had ##ow prime ##r ( i\", \"word\": \"long\", \"stars\": \"5 stars\", \"brand\": \"FENTY BEAUTY BY RIHANNA\", \"name\": \"Flyliner Longwear Liquid Eyeliner\", \"type\": \"Liquid Eyeliner\"}, {\"x\": -0.03472336754202843, \"y\": 0.034098561853170395, \"context\": \"glides on easily!. a little goes a **long** way and that's been hard for me to\", \"tokens\": \"glide ##s on easily ! . a little goes a long way and that ' s been hard for me to\", \"word\": \"long\", \"stars\": \"5 stars\", \"brand\": \"Urban Decay\", \"name\": \"Eyeshadow Primer Potion - Original\", \"type\": \"Eye Primer\"}, {\"x\": -0.03419866785407066, \"y\": -0.0326903760433197, \"context\": \"handedly destroyed the claims of almost every high end **long**-wearing foundation that exists ), which includes my\", \"tokens\": \"##hand ##edly destroyed the claims of almost every high end long - wearing foundation that exists ) , which includes my\", \"word\": \"long\", \"stars\": \"5 stars\", \"brand\": \"Urban Decay\", \"name\": \"Eyeshadow Primer Potion - Original\", \"type\": \"Eye Primer\"}, {\"x\": -0.034052010625600815, \"y\": 0.03326437994837761, \"context\": \", makes the colors brighter. a little goes a **long** way also. i am an asian monolidder\", \"tokens\": \", makes the colors brighter . a little goes a long way also . i am an asian mono ##lid ##der\", \"word\": \"long\", \"stars\": null, \"brand\": null, \"name\": null, \"type\": null}, {\"x\": -0.03549718111753464, \"y\": 0.037685468792915344, \"context\": \"time i used it i was happy to see how **long** it lasted and decided that i would continue to use\", \"tokens\": \"time i used it i was happy to see how long it lasted and decided that i would continue to use\", \"word\": \"long\", \"stars\": \"5 stars\", \"brand\": \"Urban Decay\", \"name\": \"Eyeshadow Primer Potion - Original\", \"type\": \"Eye Primer\"}, {\"x\": -0.03374981880187988, \"y\": 0.047688018530607224, \"context\": \"with the old one. unfortunately, i waited too **long** to return it. on the bright side, they\", \"tokens\": \"with the old one . unfortunately , i waited too long to return it . on the bright side , they\", \"word\": \"long\", \"stars\": \"1 star\", \"brand\": \"Urban Decay\", \"name\": \"Eyeshadow Primer Potion - Original\", \"type\": \"Eye Primer\"}, {\"x\": -0.03549327701330185, \"y\": 0.010518429800868034, \"context\": \"only benefit of this primer is that it is **long** lasting. this did nothing for me. my eyes\", \"tokens\": \"only benefit of this prime ##r is that it is long lasting . this did nothing for me . my eyes\", \"word\": \"long\", \"stars\": null, \"brand\": null, \"name\": null, \"type\": null}, {\"x\": -0.0346405915915966, \"y\": 0.04710527881979942, \"context\": \"imagine how i functioned with out this product for so **long**! i have had such an issue with crea\", \"tokens\": \"imagine how i functioned with out this product for so long ! i have had such an issue with cr ##ea\", \"word\": \"long\", \"stars\": \"5 stars\", \"brand\": \"Urban Decay\", \"name\": \"Eyeshadow Primer Potion - Original\", \"type\": \"Eye Primer\"}, {\"x\": -0.037251394242048264, \"y\": 0.0187479630112648, \"context\": \"only on days that i know i will have extra **long** wear time needed to keep dryness at a minimum\", \"tokens\": \"only on days that i know i will have extra long wear time needed to keep dry ##ness at a minimum\", \"word\": \"long\", \"stars\": \"3 stars\", \"brand\": \"Urban Decay\", \"name\": \"Eyeshadow Primer Potion - Original\", \"type\": \"Eye Primer\"}, {\"x\": -0.03513798117637634, \"y\": 0.030965382233262062, \"context\": \"at a minimum. this stuff works. after a **long** night of getting rammed in the back of my boyfriend\", \"tokens\": \"at a minimum . this stuff works . after a long night of getting rammed in the back of my boyfriend\", \"word\": \"long\", \"stars\": \"5 stars\", \"brand\": \"Urban Decay\", \"name\": \"Eyeshadow Primer Potion - Original\", \"type\": \"Eye Primer\"}, {\"x\": -0.035451967269182205, \"y\": 0.023156344890594482, \"context\": \". it's perfect. a little goes a **long** way. a great tip is to put some under\", \"tokens\": \". it ' s perfect . a little goes a long way . a great tip is to put some under\", \"word\": \"long\", \"stars\": \"5 stars\", \"brand\": \"Urban Decay\", \"name\": \"Eyeshadow Primer Potion - Original\", \"type\": \"Eye Primer\"}, {\"x\": -0.03497820347547531, \"y\": 0.019564008340239525, \"context\": \"years ago ( well... maybe not that **long** ) but back when the packaging was a sque\", \"tokens\": \"years ago ( well . . . maybe not that long ) but back when the packaging was a sq ##ue\", \"word\": \"long\", \"stars\": \"1 star\", \"brand\": \"Urban Decay\", \"name\": \"Eyeshadow Primer Potion - Original\", \"type\": \"Eye Primer\"}, {\"x\": -0.03584296256303787, \"y\": 0.020644662901759148, \"context\": \"i remember loving the stuff, a little went a **long** way, couldn 't tell anything was on my\", \"tokens\": \"i remember loving the stuff , a little went a long way , couldn ' t tell anything was on my\", \"word\": \"long\", \"stars\": \"1 star\", \"brand\": \"Urban Decay\", \"name\": \"Eyeshadow Primer Potion - Original\", \"type\": \"Eye Primer\"}, {\"x\": -0.03412403538823128, \"y\": 0.0437476821243763, \"context\": \"bought this again since my last tube ran out a **long** time ago and i had dice ventured to try other\", \"tokens\": \"bought this again since my last tube ran out a long time ago and i had dice ventured to try other\", \"word\": \"long\", \"stars\": \"1 star\", \"brand\": \"Urban Decay\", \"name\": \"Eyeshadow Primer Potion - Original\", \"type\": \"Eye Primer\"}, {\"x\": -0.036624737083911896, \"y\": 0.03679496422410011, \"context\": \"highly pigmented, professional finish that lasts all day **long**. i use it everyday and would recommend it to\", \"tokens\": \"highly pigment ##ed , professional finish that lasts all day long . i use it everyday and would recommend it to\", \"word\": \"long\", \"stars\": \"5 stars\", \"brand\": \"Urban Decay\", \"name\": \"Cannonball Ultra Waterproof Mascara\", \"type\": \"Mascara\"}, {\"x\": -0.037173520773649216, \"y\": 0.04092172160744667, \"context\": \"with this new packaging because it does not last as **long** for me any more. i have always had oil\", \"tokens\": \"with this new packaging because it does not last as long for me any more . i have always had oil\", \"word\": \"long\", \"stars\": \"3 stars\", \"brand\": \"Urban Decay\", \"name\": \"Eyeshadow Primer Potion - Original\", \"type\": \"Eye Primer\"}, {\"x\": -0.036064546555280685, \"y\": 0.036641739308834076, \"context\": \"i had no idea that eye shadow could last so **long**. i fell asleep with my makeup on after a\", \"tokens\": \"i had no idea that eye shadow could last so long . i fell asleep with my makeup on after a\", \"word\": \"long\", \"stars\": \"5 stars\", \"brand\": \"Kat Von D\", \"name\": \"Tattoo Liner\", \"type\": \"Liquid Eyeliner\"}, {\"x\": -0.03257693350315094, \"y\": 0.05286991968750954, \"context\": \". i have been using the older formula for a **long** time and raved about how it survives sweat,\", \"tokens\": \". i have been using the older formula for a long time and rave ##d about how it survives sweat ,\", \"word\": \"long\", \"stars\": \"1 star\", \"brand\": \"Urban Decay\", \"name\": \"Eyeshadow Primer Potion - Original\", \"type\": \"Eye Primer\"}, {\"x\": -0.03271317481994629, \"y\": 0.044561855494976044, \"context\": \"urban decay's primer potion for a very **long** time. it seems that every makeup artist, tutor\", \"tokens\": \"urban decay ' s prime ##r potion for a very long time . it seems that every makeup artist , tutor\", \"word\": \"long\", \"stars\": \"5 stars\", \"brand\": \"Urban Decay\", \"name\": \"Eyeshadow Primer Potion - Original\", \"type\": \"Eye Primer\"}, {\"x\": -0.03634628653526306, \"y\": 0.026100603863596916, \"context\": \"i have oily skin and this works all day **long**. my shadow does not move all day. i\", \"tokens\": \"i have oil ##y skin and this works all day long . my shadow does not move all day . i\", \"word\": \"long\", \"stars\": \"5 stars\", \"brand\": \"Urban Decay\", \"name\": \"Eyeshadow Primer Potion - Original\", \"type\": \"Eye Primer\"}, {\"x\": -0.03591298311948776, \"y\": 0.026746992021799088, \"context\": \"rs i 've used. a little goes a **long** way. my lids are super oily but this\", \"tokens\": \"##rs i ' ve used . a little goes a long way . my lids are super oil ##y but this\", \"word\": \"long\", \"stars\": \"5 stars\", \"brand\": \"Urban Decay\", \"name\": \"Eyeshadow Primer Potion - Original\", \"type\": \"Eye Primer\"}, {\"x\": -0.0358487032353878, \"y\": 0.025389771908521652, \"context\": \"primer keeps my eyeshadow intact all day **long**--i work outside during the summers ( hot\", \"tokens\": \"prime ##r keeps my eyes ##had ##ow intact all day long - - i work outside during the summers ( hot\", \"word\": \"long\", \"stars\": \"5 stars\", \"brand\": \"Urban Decay\", \"name\": \"Eyeshadow Primer Potion - Original\", \"type\": \"Eye Primer\"}, {\"x\": -0.037557635456323624, \"y\": 0.04196357727050781, \"context\": \"at a time, so this product should last a **long** time! would buy again the wand is awful!\", \"tokens\": \"at a time , so this product should last a long time ! would buy again the wand is awful !\", \"word\": \"long\", \"stars\": \"3 stars\", \"brand\": \"FENTY BEAUTY BY RIHANNA\", \"name\": \"Flyliner Longwear Liquid Eyeliner\", \"type\": \"Liquid Eyeliner\"}, {\"x\": -0.03634430840611458, \"y\": 0.03188737481832504, \"context\": \"applying just a small amount to the eyelids goes a **long** way and i don 't have to worry about\", \"tokens\": \"applying just a small amount to the eyelids goes a long way and i don ' t have to worry about\", \"word\": \"long\", \"stars\": \"5 stars\", \"brand\": \"Urban Decay\", \"name\": \"Eyeshadow Primer Potion - Original\", \"type\": \"Eye Primer\"}, {\"x\": -0.036079876124858856, \"y\": 0.017364216968417168, \"context\": \"only really do up my eyes, and i work **long** hours, so my eye shadow has to last!\", \"tokens\": \"only really do up my eyes , and i work long hours , so my eye shadow has to last !\", \"word\": \"long\", \"stars\": \"5 stars\", \"brand\": \"Urban Decay\", \"name\": \"Eyeshadow Primer Potion - Original\", \"type\": \"Eye Primer\"}, {\"x\": -0.03689853474497795, \"y\": 0.050067607313394547, \"context\": \"much, it glides on, and lasts a **long** time. i have bought this as gift for several\", \"tokens\": \"much , it glide ##s on , and lasts a long time . i have bought this as gift for several\", \"word\": \"long\", \"stars\": \"5 stars\", \"brand\": \"Kat Von D\", \"name\": \"Tattoo Liner\", \"type\": \"Liquid Eyeliner\"}, {\"x\": -0.03536146879196167, \"y\": 0.025738876312971115, \"context\": \"like but if i know i 'm facing a **long**, harrowing day, i also know i can\", \"tokens\": \"like but if i know i ' m facing a long , harrow ##ing day , i also know i can\", \"word\": \"long\", \"stars\": \"5 stars\", \"brand\": \"Urban Decay\", \"name\": \"Eyeshadow Primer Potion - Original\", \"type\": \"Eye Primer\"}, {\"x\": -0.03499948978424072, \"y\": 0.03396955132484436, \"context\": \"r and had zero issues! a little goes a **long** way and it really works!!! i have\", \"tokens\": \"##r and had zero issues ! a little goes a long way and it really works ! ! ! i have\", \"word\": \"long\", \"stars\": \"5 stars\", \"brand\": \"Kat Von D\", \"name\": \"Tattoo Liner\", \"type\": \"Liquid Eyeliner\"}, {\"x\": -0.032398663461208344, \"y\": -0.00770387751981616, \"context\": \"m glad i did. it did not pro-**long** the wear of my eyeshadow. it cr\", \"tokens\": \"m glad i did . it did not pro - long the wear of my eyes ##had ##ow . it cr\", \"word\": \"long\", \"stars\": \"3 stars\", \"brand\": \"Too Faced\", \"name\": \"Better Than Sex Mascara\", \"type\": \"Mascara\"}, {\"x\": -0.03411492705345154, \"y\": 0.03049803152680397, \"context\": \"s. i can 't believe i needed that **long** to realize i need something like this to help me\", \"tokens\": \"##s . i can ' t believe i needed that long to realize i need something like this to help me\", \"word\": \"long\", \"stars\": \"5 stars\", \"brand\": \"Urban Decay\", \"name\": \"Cannonball Ultra Waterproof Mascara\", \"type\": \"Mascara\"}, {\"x\": -0.03669736906886101, \"y\": -0.01395365409553051, \"context\": \"and night. love this primer. it is **long** lasting and creamy. i don 't seem to\", \"tokens\": \"and night . love this prime ##r . it is long lasting and creamy . i don ' t seem to\", \"word\": \"long\", \"stars\": \"5 stars\", \"brand\": \"Urban Decay\", \"name\": \"Eyeshadow Primer Potion - Original\", \"type\": \"Eye Primer\"}, {\"x\": -0.034737199544906616, \"y\": 0.038221582770347595, \"context\": \"well worth the $ as a little bit goes a **long** way. the only down side is the doe foot\", \"tokens\": \"well worth the $ as a little bit goes a long way . the only down side is the doe foot\", \"word\": \"long\", \"stars\": \"5 stars\", \"brand\": \"Urban Decay\", \"name\": \"Eyeshadow Primer Potion - Original\", \"type\": \"Eye Primer\"}, {\"x\": -0.03624268248677254, \"y\": 0.017597470432519913, \"context\": \"i was shocked to see at the end of a **long** day, it didn 't run! wasn '\", \"tokens\": \"i was shocked to see at the end of a long day , it didn ' t run ! wasn '\", \"word\": \"long\", \"stars\": \"5 stars\", \"brand\": \"Urban Decay\", \"name\": \"Eyeshadow Primer Potion - Original\", \"type\": \"Eye Primer\"}, {\"x\": -0.033783748745918274, \"y\": 0.046571996062994, \"context\": \"it. i was skeptical about primers for so **long**, and now i found a new essential! ho\", \"tokens\": \"it . i was skeptical about prime ##rs for so long , and now i found a new essential ! ho\", \"word\": \"long\", \"stars\": \"5 stars\", \"brand\": \"Urban Decay\", \"name\": \"Eyeshadow Primer Potion - Original\", \"type\": \"Eye Primer\"}, {\"x\": -0.03569655492901802, \"y\": 0.025360194966197014, \"context\": \"i am now addicted! i can sweat all day **long** and all my makeup will be gone except my eyes\", \"tokens\": \"i am now addicted ! i can sweat all day long and all my makeup will be gone except my eyes\", \"word\": \"long\", \"stars\": \"4 stars\", \"brand\": \"Too Faced\", \"name\": \"Hangover Replenishing Face Primer\", \"type\": \"Primer\"}, {\"x\": -0.03390142694115639, \"y\": -0.025884775444865227, \"context\": \"be seen again. now all i have is a **long** tube and a type of product with a big opening\", \"tokens\": \"be seen again . now all i have is a long tube and a type of product with a big opening\", \"word\": \"long\", \"stars\": \"2 stars\", \"brand\": \"Urban Decay\", \"name\": \"Eyeshadow Primer Potion - Original\", \"type\": \"Eye Primer\"}, {\"x\": -0.037118345499038696, \"y\": 0.030636988580226898, \"context\": \"time i used a sample. a little goes a **long** way and lasts all day **long**. my eye shadow\", \"tokens\": \"time i used a sample . a little goes a long way and lasts all day long . my eye shadow\", \"word\": \"long\", \"stars\": \"5 stars\", \"brand\": \"Too Faced\", \"name\": \"Hangover Replenishing Face Primer\", \"type\": \"Primer\"}, {\"x\": -0.03592177480459213, \"y\": 0.04167488217353821, \"context\": \"a little goes a **long** way and lasts all day **long**. my eye shadow does not crease, my\", \"tokens\": \"a little goes a long way and lasts all day long . my eye shadow does not cr ##ease , my\", \"word\": \"long\", \"stars\": \"5 stars\", \"brand\": \"Urban Decay\", \"name\": \"Eyeshadow Primer Potion - Original\", \"type\": \"Eye Primer\"}, {\"x\": -0.03336131572723389, \"y\": 0.026605986058712006, \"context\": \"-definitely worth the money! a little goes a **long** way: true. it helps your eyeshadow\", \"tokens\": \"- definitely worth the money ! a little goes a long way : true . it helps your eyes ##had ##ow\", \"word\": \"long\", \"stars\": \"2 stars\", \"brand\": \"Urban Decay\", \"name\": \"Eyeshadow Primer Potion - Original\", \"type\": \"Eye Primer\"}, {\"x\": -0.0340096578001976, \"y\": 0.030881473794579506, \"context\": \"and it stays from the beginning of the day till **long** after the end, which can be 8-10\", \"tokens\": \"and it stays from the beginning of the day till long after the end , which can be 8 - 10\", \"word\": \"long\", \"stars\": \"5 stars\", \"brand\": \"Urban Decay\", \"name\": \"Eyeshadow Primer Potion - Original\", \"type\": \"Eye Primer\"}, {\"x\": -0.03657029569149017, \"y\": 0.02574969455599785, \"context\": \"a must for me! just a little goes a **long** way-i only have to use the smallest amount\", \"tokens\": \"a must for me ! just a little goes a long way - i only have to use the smallest amount\", \"word\": \"long\", \"stars\": \"1 star\", \"brand\": \"FENTY BEAUTY BY RIHANNA\", \"name\": \"Flyliner Longwear Liquid Eyeliner\", \"type\": \"Liquid Eyeliner\"}, {\"x\": -0.036515261977910995, \"y\": 0.03292754292488098, \"context\": \"moisturizer to me! a little goes a **long** way so one tube lasts a **long** time. so\", \"tokens\": \"moist ##uri ##zer to me ! a little goes a long way so one tube lasts a long time . so\", \"word\": \"long\", \"stars\": \"5 stars\", \"brand\": \"Urban Decay\", \"name\": \"Eyeshadow Primer Potion - Original\", \"type\": \"Eye Primer\"}, {\"x\": -0.036955107003450394, \"y\": 0.04445353522896767, \"context\": \"little goes a **long** way so one tube lasts a **long** time. so you 've probably heard of the\", \"tokens\": \"little goes a long way so one tube lasts a long time . so you ' ve probably heard of the\", \"word\": \"long\", \"stars\": \"5 stars\", \"brand\": \"Urban Decay\", \"name\": \"Eyeshadow Primer Potion - Original\", \"type\": \"Eye Primer\"}, {\"x\": -0.03489931672811508, \"y\": 0.01890585571527481, \"context\": \"-to for so many years! amazing hold and **long** lasting... this product was the first and\", \"tokens\": \"- to for so many years ! amazing hold and long lasting . . . this product was the first and\", \"word\": \"long\", \"stars\": \"2 stars\", \"brand\": \"Urban Decay\", \"name\": \"Cannonball Ultra Waterproof Mascara\", \"type\": \"Mascara\"}, {\"x\": -0.038129255175590515, \"y\": 0.008074555546045303, \"context\": \"definitely work the money! so easy to apply. **long** lasting. i have literally been using the same eye\", \"tokens\": \"definitely work the money ! so easy to apply . long lasting . i have literally been using the same eye\", \"word\": \"long\", \"stars\": \"5 stars\", \"brand\": \"Stila\", \"name\": \"Stay All Day\\u00ae Waterproof Liquid Eye Liner\", \"type\": \"Liquid Eyeliner\"}, {\"x\": -0.03567413613200188, \"y\": -0.002001725137233734, \"context\": \"everything i wanted. pros: very strong colour **long** lasting waterproof doesn 't fade precise cons\", \"tokens\": \"everything i wanted . pro ##s : very strong colour long lasting water ##proof doesn ' t fade precise con ##s\", \"word\": \"long\", \"stars\": \"5 stars\", \"brand\": \"Stila\", \"name\": \"Stay All Day\\u00ae Waterproof Liquid Eye Liner\", \"type\": \"Liquid Eyeliner\"}, {\"x\": -0.034996043890714645, \"y\": 0.047942113131284714, \"context\": \"is smooth and continuous and it has lasted me a **long** time. this is perfect for the cat-eye\", \"tokens\": \"is smooth and continuous and it has lasted me a long time . this is perfect for the cat - eye\", \"word\": \"long\", \"stars\": \"5 stars\", \"brand\": \"Stila\", \"name\": \"Stay All Day\\u00ae Waterproof Liquid Eye Liner\", \"type\": \"Liquid Eyeliner\"}, {\"x\": -0.03517703339457512, \"y\": -0.03560210391879082, \"context\": \"what it says it does. easy to use, **long** wearing and waterproof! finally i have found an\", \"tokens\": \"what it says it does . easy to use , long wearing and water ##proof ! finally i have found an\", \"word\": \"long\", \"stars\": \"4 stars\", \"brand\": \"Too Faced\", \"name\": \"Better Than Sex Mascara\", \"type\": \"Mascara\"}, {\"x\": -0.03771267458796501, \"y\": -0.0011030547320842743, \"context\": \"market and this one is the most waterproof, **long** lasting, non-smudging one i have\", \"tokens\": \"market and this one is the most water ##proof , long lasting , non - sm ##ud ##ging one i have\", \"word\": \"long\", \"stars\": \"5 stars\", \"brand\": \"Stila\", \"name\": \"Stay All Day\\u00ae Waterproof Liquid Eye Liner\", \"type\": \"Liquid Eyeliner\"}, {\"x\": -0.033992744982242584, \"y\": 0.04482537880539894, \"context\": \". i am so upset it has taken me this **long** to find this product. i am asian and my\", \"tokens\": \". i am so upset it has taken me this long to find this product . i am asian and my\", \"word\": \"long\", \"stars\": \"1 star\", \"brand\": \"Urban Decay\", \"name\": \"Cannonball Ultra Waterproof Mascara\", \"type\": \"Mascara\"}, {\"x\": -0.03496618941426277, \"y\": -0.01510640513151884, \"context\": \"liner is quick drying, preventing smudges and **long** wearing. i can put it on in the morning\", \"tokens\": \"liner is quick drying , preventing sm ##udge ##s and long wearing . i can put it on in the morning\", \"word\": \"long\", \"stars\": \"5 stars\", \"brand\": \"Urban Decay\", \"name\": \"Cannonball Ultra Waterproof Mascara\", \"type\": \"Mascara\"}, {\"x\": -0.03668990731239319, \"y\": -0.033831171691417694, \"context\": \"for a good liquid liner i have 2 requirements: **long** wearing and very pigmented. i bought this eye\", \"tokens\": \"for a good liquid liner i have 2 requirements : long wearing and very pigment ##ed . i bought this eye\", \"word\": \"long\", \"stars\": \"3 stars\", \"brand\": \"Stila\", \"name\": \"Stay All Day\\u00ae Waterproof Liquid Eye Liner\", \"type\": \"Liquid Eyeliner\"}, {\"x\": -0.037570297718048096, \"y\": -0.031480543315410614, \"context\": \"half my day. the brown and black were amazingly **long** wearing but the pigment wasn 't on par.\", \"tokens\": \"half my day . the brown and black were amazingly long wearing but the pigment wasn ' t on par .\", \"word\": \"long\", \"stars\": \"3 stars\", \"brand\": \"Stila\", \"name\": \"Stay All Day\\u00ae Waterproof Liquid Eye Liner\", \"type\": \"Liquid Eyeliner\"}, {\"x\": -0.037101294845342636, \"y\": 0.025541212409734726, \"context\": \"is so easy to apply, stays put all day **long**, is waterproof so it doesn 't run\", \"tokens\": \"is so easy to apply , stays put all day long , is water ##proof so it doesn ' t run\", \"word\": \"long\", \"stars\": \"1 star\", \"brand\": \"Dior\", \"name\": \"Diorshow Waterproof Mascara\", \"type\": \"Mascara\"}, {\"x\": -0.03581729531288147, \"y\": 0.030055152252316475, \"context\": \"reviews complain about it's loss of color after **long**-time use, i haven 't encountered that\", \"tokens\": \"reviews complain about it ' s loss of color after long - time use , i haven ' t encountered that\", \"word\": \"long\", \"stars\": \"5 stars\", \"brand\": \"Stila\", \"name\": \"Stay All Day\\u00ae Waterproof Liquid Eye Liner\", \"type\": \"Liquid Eyeliner\"}, {\"x\": -0.03772808611392975, \"y\": -0.01060135755687952, \"context\": \"shot, and i can say that it is definitely **long** lasting and doesn 't smudge onto my upper\", \"tokens\": \"shot , and i can say that it is definitely long lasting and doesn ' t sm ##udge onto my upper\", \"word\": \"long\", \"stars\": \"5 stars\", \"brand\": \"Too Faced\", \"name\": \"Better Than Sex Mascara\", \"type\": \"Mascara\"}, {\"x\": -0.03708451986312866, \"y\": 0.012527291662991047, \"context\": \"'s easy to draw, it stays all day **long** and it doens 't smear even with\", \"tokens\": \"' s easy to draw , it stays all day long and it doe ##ns ' t sm ##ear even with\", \"word\": \"long\", \"stars\": \"5 stars\", \"brand\": \"Stila\", \"name\": \"Stay All Day\\u00ae Waterproof Liquid Eye Liner\", \"type\": \"Liquid Eyeliner\"}, {\"x\": -0.033853378146886826, \"y\": 0.025465043261647224, \"context\": \"my shoes with this. stila has come a **long** way in the past few years in terms of the\", \"tokens\": \"my shoes with this . stil ##a has come a long way in the past few years in terms of the\", \"word\": \"long\", \"stars\": \"5 stars\", \"brand\": \"Stila\", \"name\": \"Stay All Day\\u00ae Waterproof Liquid Eye Liner\", \"type\": \"Liquid Eyeliner\"}, {\"x\": -0.03729567676782608, \"y\": -0.015706904232501984, \"context\": \"s.... great color payoff, longwearing, great selection of colors to choose from\", \"tokens\": \"##s . . . . great color pay ##off , long ##wear ##ing , great selection of colors to choose from\", \"word\": \"long\", \"stars\": \"5 stars\", \"brand\": \"Stila\", \"name\": \"Stay All Day\\u00ae Waterproof Liquid Eye Liner\", \"type\": \"Liquid Eyeliner\"}, {\"x\": -0.037534523755311966, \"y\": 0.0153771648183465, \"context\": \"out there but none were successful in giving me a **long** lasting line through the entire day. mac's\", \"tokens\": \"out there but none were successful in giving me a long lasting line through the entire day . mac ' s\", \"word\": \"long\", \"stars\": \"5 stars\", \"brand\": \"Stila\", \"name\": \"Stay All Day\\u00ae Waterproof Liquid Eye Liner\", \"type\": \"Liquid Eyeliner\"}, {\"x\": -0.033962711691856384, \"y\": 0.015233563259243965, \"context\": \"sent as a gift. my daughter loved it. **long** lasting. great value. phenom. com\", \"tokens\": \"sent as a gift . my daughter loved it . long lasting . great value . ph ##eno ##m . com\", \"word\": \"long\", \"stars\": null, \"brand\": null, \"name\": null, \"type\": null}, {\"x\": -0.03510149568319321, \"y\": 0.027063962072134018, \"context\": \"in this eyeliner, but i have after a **long** night with friends and i still look normal in the\", \"tokens\": \"in this eye ##liner , but i have after a long night with friends and i still look normal in the\", \"word\": \"long\", \"stars\": \"5 stars\", \"brand\": \"Stila\", \"name\": \"Stay All Day\\u00ae Waterproof Liquid Eye Liner\", \"type\": \"Liquid Eyeliner\"}, {\"x\": -0.036760758608579636, \"y\": 0.004801781382411718, \"context\": \"performed as the store personnel said it would--**long**-lasting, waterproof, and easy to use\", \"tokens\": \"performed as the store personnel said it would - - long - lasting , water ##proof , and easy to use\", \"word\": \"long\", \"stars\": \"2 stars\", \"brand\": \"Stila\", \"name\": \"Stay All Day\\u00ae Waterproof Liquid Eye Liner\", \"type\": \"Liquid Eyeliner\"}, {\"x\": -0.03734756261110306, \"y\": 0.033937033265829086, \"context\": \"my second and third seemed to not stay on as **long** and also the tip seems to fall apart much faster\", \"tokens\": \"my second and third seemed to not stay on as long and also the tip seems to fall apart much faster\", \"word\": \"long\", \"stars\": \"3 stars\", \"brand\": \"Stila\", \"name\": \"Stay All Day\\u00ae Waterproof Liquid Eye Liner\", \"type\": \"Liquid Eyeliner\"}, {\"x\": -0.03780534490942955, \"y\": -0.010684073902666569, \"context\": \"oxo the \\\"great \\\": it is very **long** lasting, non-creasing, smudge\", \"tokens\": \"##ox ##o the \\\" great \\\" : it is very long lasting , non - cr ##ea ##sing , sm ##udge\", \"word\": \"long\", \"stars\": \"4 stars\", \"brand\": \"Stila\", \"name\": \"Stay All Day\\u00ae Waterproof Liquid Eye Liner\", \"type\": \"Liquid Eyeliner\"}, {\"x\": -0.03114692121744156, \"y\": 0.02199072577059269, \"context\": \"great and it does stay on pretty well, as **long** as you use eye primer. if you don\", \"tokens\": \"great and it does stay on pretty well , as long as you use eye prime ##r . if you don\", \"word\": \"long\", \"stars\": \"3 stars\", \"brand\": \"Stila\", \"name\": \"Stay All Day\\u00ae Waterproof Liquid Eye Liner\", \"type\": \"Liquid Eyeliner\"}, {\"x\": -0.035393331199884415, \"y\": 0.019487833604216576, \"context\": \"i can vouch that it wont run after **long** crying sessions. but, when you want it off\", \"tokens\": \"i can vo ##uch that it won ##t run after long crying sessions . but , when you want it off\", \"word\": \"long\", \"stars\": \"5 stars\", \"brand\": \"Stila\", \"name\": \"Stay All Day\\u00ae Waterproof Liquid Eye Liner\", \"type\": \"Liquid Eyeliner\"}, {\"x\": -0.03477973863482475, \"y\": 0.026385383680462837, \"context\": \"purchased this item more than twice, and they last **long**. i love these, i 've tried so\", \"tokens\": \"purchased this item more than twice , and they last long . i love these , i ' ve tried so\", \"word\": \"long\", \"stars\": \"5 stars\", \"brand\": \"Stila\", \"name\": \"Stay All Day\\u00ae Waterproof Liquid Eye Liner\", \"type\": \"Liquid Eyeliner\"}, {\"x\": -0.02979954145848751, \"y\": 0.021746814250946045, \"context\": \"easy on, stays on, comfortable to wear. **long** live this liner! yes lasts **long**, thin line\", \"tokens\": \"easy on , stays on , comfortable to wear . long live this liner ! yes lasts long , thin line\", \"word\": \"long\", \"stars\": null, \"brand\": null, \"name\": null, \"type\": null}, {\"x\": -0.03854484111070633, \"y\": -0.009545836597681046, \"context\": \"to wear. **long** live this liner! yes lasts **long**, thin line, ez to get between lashes\", \"tokens\": \"to wear . long live this liner ! yes lasts long , thin line , e ##z to get between lashes\", \"word\": \"long\", \"stars\": \"5 stars\", \"brand\": \"Stila\", \"name\": \"Stay All Day\\u00ae Waterproof Liquid Eye Liner\", \"type\": \"Liquid Eyeliner\"}, {\"x\": -0.03766011446714401, \"y\": 0.032942499965429306, \"context\": \"day. no itching either. container lasts a **long** time too. oh yeah-its all that.\", \"tokens\": \"day . no it ##ching either . container lasts a long time too . oh yeah - its all that .\", \"word\": \"long\", \"stars\": \"5 stars\", \"brand\": \"Stila\", \"name\": \"Stay All Day\\u00ae Waterproof Liquid Eye Liner\", \"type\": \"Liquid Eyeliner\"}, {\"x\": -0.0364169105887413, \"y\": -0.025145910680294037, \"context\": \". once you get it on, it is very **long**-wearing and smudge-resistant, though not\", \"tokens\": \". once you get it on , it is very long - wearing and sm ##udge - resistant , though not\", \"word\": \"long\", \"stars\": \"3 stars\", \"brand\": \"Stila\", \"name\": \"Stay All Day\\u00ae Waterproof Liquid Eye Liner\", \"type\": \"Liquid Eyeliner\"}, {\"x\": -0.034151386469602585, \"y\": 0.023702338337898254, \"context\": \"is black. great waterproof eye liner all day **long** wear easy to apply my go to liner everyday must\", \"tokens\": \"is black . great water ##proof eye liner all day long wear easy to apply my go to liner everyday must\", \"word\": \"long\", \"stars\": \"5 stars\", \"brand\": \"Stila\", \"name\": \"Stay All Day\\u00ae Waterproof Liquid Eye Liner\", \"type\": \"Liquid Eyeliner\"}, {\"x\": -0.03675423189997673, \"y\": -0.002110421657562256, \"context\": \"put and colors are fabulous. no smearing and **long** lasting. this is my go-to and all\", \"tokens\": \"put and colors are fabulous . no sm ##earing and long lasting . this is my go - to and all\", \"word\": \"long\", \"stars\": null, \"brand\": null, \"name\": null, \"type\": null}, {\"x\": -0.03525165840983391, \"y\": 0.012239010073244572, \"context\": \"and didn 't use it as it's **long** expired ). the best part is it the only\", \"tokens\": \"and didn ' t use it as it ' s long expired ) . the best part is it the only\", \"word\": \"long\", \"stars\": \"5 stars\", \"brand\": \"Stila\", \"name\": \"Stay All Day\\u00ae Waterproof Liquid Eye Liner\", \"type\": \"Liquid Eyeliner\"}, {\"x\": -0.03659820929169655, \"y\": 0.01508334930986166, \"context\": \"ready to invest the money and need a sharp, **long**-lasting liner, then it is the perfect choice\", \"tokens\": \"ready to invest the money and need a sharp , long - lasting liner , then it is the perfect choice\", \"word\": \"long\", \"stars\": \"2 stars\", \"brand\": \"Stila\", \"name\": \"Stay All Day\\u00ae Waterproof Liquid Eye Liner\", \"type\": \"Liquid Eyeliner\"}, {\"x\": -0.03654064983129501, \"y\": 0.02736874297261238, \"context\": \"liner, i knew it was going to be a **long** day. i had class in the morning and then\", \"tokens\": \"liner , i knew it was going to be a long day . i had class in the morning and then\", \"word\": \"long\", \"stars\": \"5 stars\", \"brand\": \"Stila\", \"name\": \"Stay All Day\\u00ae Waterproof Liquid Eye Liner\", \"type\": \"Liquid Eyeliner\"}, {\"x\": -0.036768559366464615, \"y\": 0.0002140429860446602, \"context\": \"t be sorry if you 're looking for something **long**-lasting, bold ( if drawn as such )\", \"tokens\": \"t be sorry if you ' re looking for something long - lasting , bold ( if drawn as such )\", \"word\": \"long\", \"stars\": \"5 stars\", \"brand\": \"Stila\", \"name\": \"Stay All Day\\u00ae Waterproof Liquid Eye Liner\", \"type\": \"Liquid Eyeliner\"}, {\"x\": -0.035181909799575806, \"y\": 0.03345275670289993, \"context\": \"possible and you will have a terrific liner all day **long**. not my favorite finally, an actual waterproof\", \"tokens\": \"possible and you will have a terrific liner all day long . not my favorite finally , an actual water ##proof\", \"word\": \"long\", \"stars\": null, \"brand\": null, \"name\": null, \"type\": null}, {\"x\": -0.0367388017475605, \"y\": 0.032521869987249374, \"context\": \"s not longevity and the tip doesn 't last **long** or work well. this is the wonder liquid eye\", \"tokens\": \"s not longevity and the tip doesn ' t last long or work well . this is the wonder liquid eye\", \"word\": \"long\", \"stars\": \"5 stars\", \"brand\": \"Stila\", \"name\": \"Stay All Day\\u00ae Waterproof Liquid Eye Liner\", \"type\": \"Liquid Eyeliner\"}, {\"x\": -0.03804435208439827, \"y\": 0.005779673345386982, \"context\": \"all day liner department. i was looking for a **long** lasting eyeliner, because mine tends to start fading\", \"tokens\": \"all day liner department . i was looking for a long lasting eye ##liner , because mine tends to start fading\", \"word\": \"long\", \"stars\": \"5 stars\", \"brand\": \"FENTY BEAUTY BY RIHANNA\", \"name\": \"Flyliner Longwear Liquid Eyeliner\", \"type\": \"Liquid Eyeliner\"}, {\"x\": -0.03661883622407913, \"y\": -0.018740782514214516, \"context\": \"a tad more flexible. summary: great liner, **long** lasting, deep pigment, excellent line and application.\", \"tokens\": \"a tad more flexible . summary : great liner , long lasting , deep pigment , excellent line and application .\", \"word\": \"long\", \"stars\": \"4 stars\", \"brand\": \"Stila\", \"name\": \"Stay All Day\\u00ae Waterproof Liquid Eye Liner\", \"type\": \"Liquid Eyeliner\"}, {\"x\": -0.03668743371963501, \"y\": -0.03615102916955948, \"context\": \"\\\"feel \\\"is okay. it's also longwearing and not really smudgeable, based\", \"tokens\": \"\\\" feel \\\" is okay . it ' s also long ##wear ##ing and not really sm ##udge ##able , based\", \"word\": \"long\", \"stars\": \"1 star\", \"brand\": \"Stila\", \"name\": \"Stay All Day\\u00ae Waterproof Liquid Eye Liner\", \"type\": \"Liquid Eyeliner\"}, {\"x\": -0.03698476403951645, \"y\": 0.028827138245105743, \"context\": \"'s well worth it: ) stays all day **long**! wore this throughout the whole day in the heat\", \"tokens\": \"' s well worth it : ) stays all day long ! wore this throughout the whole day in the heat\", \"word\": \"long\", \"stars\": \"5 stars\", \"brand\": \"Stila\", \"name\": \"Stay All Day\\u00ae Waterproof Liquid Eye Liner\", \"type\": \"Liquid Eyeliner\"}, {\"x\": -0.036304496228694916, \"y\": 0.030160749331116676, \"context\": \"ud primer potion under every day. after a **long** day of work, a splash of water on the\", \"tokens\": \"ud prime ##r potion under every day . after a long day of work , a splash of water on the\", \"word\": \"long\", \"stars\": \"5 stars\", \"brand\": \"Stila\", \"name\": \"Stay All Day\\u00ae Waterproof Liquid Eye Liner\", \"type\": \"Liquid Eyeliner\"}, {\"x\": -0.036428626626729965, \"y\": 0.020562879741191864, \"context\": \"a splash of water on the face, and a **long** workout, the liner is still on! it does\", \"tokens\": \"a splash of water on the face , and a long workout , the liner is still on ! it does\", \"word\": \"long\", \"stars\": \"5 stars\", \"brand\": \"Stila\", \"name\": \"Stay All Day\\u00ae Waterproof Liquid Eye Liner\", \"type\": \"Liquid Eyeliner\"}, {\"x\": -0.03734342381358147, \"y\": 0.007609847467392683, \"context\": \"as far as liquid liner goes ), and very **long**-lasting but not too difficult to wash off.\", \"tokens\": \"as far as liquid liner goes ) , and very long - lasting but not too difficult to wash off .\", \"word\": \"long\", \"stars\": \"5 stars\", \"brand\": \"Stila\", \"name\": \"Stay All Day\\u00ae Waterproof Liquid Eye Liner\", \"type\": \"Liquid Eyeliner\"}, {\"x\": -0.03642246127128601, \"y\": 0.041504375636577606, \"context\": \"proof pencil, but they don 't last very **long**. i have been using the makeup for ever liquid\", \"tokens\": \"##proof pencil , but they don ' t last very long . i have been using the makeup for ever liquid\", \"word\": \"long\", \"stars\": \"4 stars\", \"brand\": \"Too Faced\", \"name\": \"Better Than Sex Mascara\", \"type\": \"Mascara\"}, {\"x\": -0.03713345527648926, \"y\": 0.03834769129753113, \"context\": \"d try something else. the stila lasts a **long** time on the inner lid, but not all day\", \"tokens\": \"d try something else . the stil ##a lasts a long time on the inner lid , but not all day\", \"word\": \"long\", \"stars\": \"4 stars\", \"brand\": \"Stila\", \"name\": \"Stay All Day\\u00ae Waterproof Liquid Eye Liner\", \"type\": \"Liquid Eyeliner\"}, {\"x\": -0.035355303436517715, \"y\": 0.038786631077528, \"context\": \"be without one. i 'm not sure how **long** it will last but this is it for me.\", \"tokens\": \"be without one . i ' m not sure how long it will last but this is it for me .\", \"word\": \"long\", \"stars\": \"5 stars\", \"brand\": \"Stila\", \"name\": \"Stay All Day\\u00ae Waterproof Liquid Eye Liner\", \"type\": \"Liquid Eyeliner\"}, {\"x\": -0.037856362760066986, \"y\": 0.0015154730062931776, \"context\": \"'m hooked. this stuff is the best. **long** lasting, doesn 't come off until you take\", \"tokens\": \"' m hooked . this stuff is the best . long lasting , doesn ' t come off until you take\", \"word\": \"long\", \"stars\": \"1 star\", \"brand\": \"Urban Decay\", \"name\": \"Cannonball Ultra Waterproof Mascara\", \"type\": \"Mascara\"}, {\"x\": -0.037305086851119995, \"y\": -0.006954435724765062, \"context\": \"the sides work now. i love the formula, **long** lasting and smudge proof. hard to take off\", \"tokens\": \"the sides work now . i love the formula , long lasting and sm ##udge proof . hard to take off\", \"word\": \"long\", \"stars\": \"4 stars\", \"brand\": \"Urban Decay\", \"name\": \"Cannonball Ultra Waterproof Mascara\", \"type\": \"Mascara\"}, {\"x\": -0.03809136524796486, \"y\": 0.040089018642902374, \"context\": \".. not this. this pen lasts quite a **long** time for a liquid liner especially if used almost daily\", \"tokens\": \". . not this . this pen lasts quite a long time for a liquid liner especially if used almost daily\", \"word\": \"long\", \"stars\": \"4 stars\", \"brand\": \"Stila\", \"name\": \"Stay All Day\\u00ae Waterproof Liquid Eye Liner\", \"type\": \"Liquid Eyeliner\"}, {\"x\": -0.037119310349226, \"y\": -0.022409794852137566, \"context\": \"the time. i have been looking for a truly **long**-wearing liquid eyeliner since high school. i\", \"tokens\": \"the time . i have been looking for a truly long - wearing liquid eye ##liner since high school . i\", \"word\": \"long\", \"stars\": \"4 stars\", \"brand\": \"FENTY BEAUTY BY RIHANNA\", \"name\": \"Flyliner Longwear Liquid Eyeliner\", \"type\": \"Liquid Eyeliner\"}, {\"x\": -0.03761879354715347, \"y\": 0.03807905316352844, \"context\": \"liner and a base. this liner lasts a really **long** time on my eyelids. the only slightly annoying quality\", \"tokens\": \"liner and a base . this liner lasts a really long time on my eyelids . the only slightly annoying quality\", \"word\": \"long\", \"stars\": \"5 stars\", \"brand\": \"Urban Decay\", \"name\": \"Cannonball Ultra Waterproof Mascara\", \"type\": \"Mascara\"}, {\"x\": -0.03569489344954491, \"y\": -0.01567591354250908, \"context\": \"most of the day ( i don 't like **long** wear because they 're hard to take off )\", \"tokens\": \"most of the day ( i don ' t like long wear because they ' re hard to take off )\", \"word\": \"long\", \"stars\": \"3 stars\", \"brand\": \"Stila\", \"name\": \"Stay All Day\\u00ae Waterproof Liquid Eye Liner\", \"type\": \"Liquid Eyeliner\"}, {\"x\": -0.03703774884343147, \"y\": 0.026683596894145012, \"context\": \"more about how easy this is to use than how **long** it lasts. ( it lasts all day and evening\", \"tokens\": \"more about how easy this is to use than how long it lasts . ( it lasts all day and evening\", \"word\": \"long\", \"stars\": \"5 stars\", \"brand\": \"Stila\", \"name\": \"Stay All Day\\u00ae Waterproof Liquid Eye Liner\", \"type\": \"Liquid Eyeliner\"}, {\"x\": -0.028619593009352684, \"y\": 0.026003431528806686, \"context\": \"-40f to 90f ), and as **long** as you don 't have very moist eyes there\", \"tokens\": \"- 40 ##f to 90 ##f ) , and as long as you don ' t have very moist eyes there\", \"word\": \"long\", \"stars\": \"4 stars\", \"brand\": \"Stila\", \"name\": \"Stay All Day\\u00ae Waterproof Liquid Eye Liner\", \"type\": \"Liquid Eyeliner\"}, {\"x\": -0.03681272268295288, \"y\": -0.027617694810032845, \"context\": \"when i first got it. it's certainly **long** wearing. i don 't know how waterproof\", \"tokens\": \"when i first got it . it ' s certainly long wearing . i don ' t know how water ##proof\", \"word\": \"long\", \"stars\": \"5 stars\", \"brand\": \"Too Faced\", \"name\": \"Better Than Sex Mascara\", \"type\": \"Mascara\"}, {\"x\": -0.03534974157810211, \"y\": 0.01313981506973505, \"context\": \"was definitely impressed by its staying power. i work **long** days and nights and in the morning, my eye\", \"tokens\": \"was definitely impressed by its staying power . i work long days and nights and in the morning , my eye\", \"word\": \"long\", \"stars\": \"4 stars\", \"brand\": \"Stila\", \"name\": \"Stay All Day\\u00ae Waterproof Liquid Eye Liner\", \"type\": \"Liquid Eyeliner\"}, {\"x\": -0.035964176058769226, \"y\": 0.041402414441108704, \"context\": \"it 4 stars because it didn 't last that **long**! i only used it on weekends because i don\", \"tokens\": \"it 4 stars because it didn ' t last that long ! i only used it on weekends because i don\", \"word\": \"long\", \"stars\": \"4 stars\", \"brand\": \"Stila\", \"name\": \"Stay All Day\\u00ae Waterproof Liquid Eye Liner\", \"type\": \"Liquid Eyeliner\"}, {\"x\": -0.038522787392139435, \"y\": 0.005325056612491608, \"context\": \"one of the best liquid eye liner. this is **long** lasting. when i say **long** lasting, it lasted\", \"tokens\": \"one of the best liquid eye liner . this is long lasting . when i say long lasting , it lasted\", \"word\": \"long\", \"stars\": \"5 stars\", \"brand\": \"Stila\", \"name\": \"Stay All Day\\u00ae Waterproof Liquid Eye Liner\", \"type\": \"Liquid Eyeliner\"}, {\"x\": -0.03766307234764099, \"y\": 0.0017221708549186587, \"context\": \"liner. this is **long** lasting. when i say **long** lasting, it lasted a 12hr shift with oil\", \"tokens\": \"liner . this is long lasting . when i say long lasting , it lasted a 12 ##hr shift with oil\", \"word\": \"long\", \"stars\": \"5 stars\", \"brand\": \"Stila\", \"name\": \"Stay All Day\\u00ae Waterproof Liquid Eye Liner\", \"type\": \"Liquid Eyeliner\"}, {\"x\": -0.031169280409812927, \"y\": 0.02332978881895542, \"context\": \"what i want out of an eyeliner. as **long** as a eye primer is used, it doesn\", \"tokens\": \"what i want out of an eye ##liner . as long as a eye prime ##r is used , it doesn\", \"word\": \"long\", \"stars\": \"4 stars\", \"brand\": \"Stila\", \"name\": \"Stay All Day\\u00ae Waterproof Liquid Eye Liner\", \"type\": \"Liquid Eyeliner\"}, {\"x\": -0.03822408989071846, \"y\": 0.005463883746415377, \"context\": \"without it. i love the intense black color and **long** lasting stay. i have oily skin but this\", \"tokens\": \"without it . i love the intense black color and long lasting stay . i have oil ##y skin but this\", \"word\": \"long\", \"stars\": \"5 stars\", \"brand\": \"Stila\", \"name\": \"Stay All Day\\u00ae Waterproof Liquid Eye Liner\", \"type\": \"Liquid Eyeliner\"}, {\"x\": -0.035986434668302536, \"y\": -0.025275064632296562, \"context\": \"to any monolid person or anyone looking for a **long** wearing eye liner. doesn 't smudge,\", \"tokens\": \"to any mono ##lid person or anyone looking for a long wearing eye liner . doesn ' t sm ##udge ,\", \"word\": \"long\", \"stars\": \"5 stars\", \"brand\": \"Stila\", \"name\": \"Stay All Day\\u00ae Waterproof Liquid Eye Liner\", \"type\": \"Liquid Eyeliner\"}, {\"x\": -0.03574094921350479, \"y\": -0.018319716677069664, \"context\": \"take some doing to get off, so it is **long**-wearing. i have tried almost every eyeliner\", \"tokens\": \"take some doing to get off , so it is long - wearing . i have tried almost every eye ##liner\", \"word\": \"long\", \"stars\": \"5 stars\", \"brand\": \"Dior\", \"name\": \"Diorshow Waterproof Mascara\", \"type\": \"Mascara\"}, {\"x\": -0.0356442853808403, \"y\": -0.029418930411338806, \"context\": \"doesnt it smear.. it's **long** wearing, waterproof and smudgeproof!!\", \"tokens\": \"doesn ##t it sm ##ear . . it ' s long wearing , water ##proof and sm ##udge ##proof ! !\", \"word\": \"long\", \"stars\": \"1 star\", \"brand\": \"Too Faced\", \"name\": \"Better Than Sex Waterproof Mascara\", \"type\": \"Mascara\"}, {\"x\": -0.03469395264983177, \"y\": -0.007904622703790665, \"context\": \"product, but i don 't believe a week **long** eye liner is worth the $ 20 price tag.\", \"tokens\": \"product , but i don ' t believe a week long eye liner is worth the $ 20 price tag .\", \"word\": \"long\", \"stars\": \"4 stars\", \"brand\": \"Marc Jacobs\", \"name\": \"Highliner Gel Eye Crayon Eyeliner\", \"type\": \"Gel Eyeliner\"}, {\"x\": -0.03480572998523712, \"y\": -0.035903818905353546, \"context\": \"is bold and definitely makes your eyes pop. somewhat **long**-wearing, may need some touchup at the\", \"tokens\": \"is bold and definitely makes your eyes pop . somewhat long - wearing , may need some touch ##up at the\", \"word\": \"long\", \"stars\": \"5 stars\", \"brand\": \"Stila\", \"name\": \"Stay All Day\\u00ae Waterproof Liquid Eye Liner\", \"type\": \"Liquid Eyeliner\"}, {\"x\": -0.03724761679768562, \"y\": 0.027522530406713486, \"context\": \"'t go on as easy or stay on as **long**. requires a light touch, but gives the perfect\", \"tokens\": \"' t go on as easy or stay on as long . requires a light touch , but gives the perfect\", \"word\": \"long\", \"stars\": \"5 stars\", \"brand\": \"Stila\", \"name\": \"Stay All Day\\u00ae Waterproof Liquid Eye Liner\", \"type\": \"Liquid Eyeliner\"}, {\"x\": -0.03582656383514404, \"y\": -0.028669945895671844, \"context\": \"away by how precise, easy, clean, and **long**-wearing this liner is. the brush is the\", \"tokens\": \"away by how precise , easy , clean , and long - wearing this liner is . the brush is the\", \"word\": \"long\", \"stars\": \"5 stars\", \"brand\": \"FENTY BEAUTY BY RIHANNA\", \"name\": \"Flyliner Longwear Liquid Eyeliner\", \"type\": \"Liquid Eyeliner\"}, {\"x\": -0.03634309768676758, \"y\": -0.02408377267420292, \"context\": \"stumble upon the stila liner-it is truly **long** wearing, waterproof, easy to apply, easy\", \"tokens\": \"stumble upon the stil ##a liner - it is truly long wearing , water ##proof , easy to apply , easy\", \"word\": \"long\", \"stars\": \"5 stars\", \"brand\": \"Kat Von D\", \"name\": \"Tattoo Liner\", \"type\": \"Liquid Eyeliner\"}, {\"x\": -0.036236755549907684, \"y\": -0.03168874233961105, \"context\": \"y eyes, and never find any eyeliner that **long**-wearing. however, i got the black one\", \"tokens\": \"##y eyes , and never find any eye ##liner that long - wearing . however , i got the black one\", \"word\": \"long\", \"stars\": \"2 stars\", \"brand\": \"Marc Jacobs\", \"name\": \"Highliner Gel Eye Crayon Eyeliner\", \"type\": \"Gel Eyeliner\"}, {\"x\": -0.036358244717121124, \"y\": 0.012971250340342522, \"context\": \"not flimsy and super easy to use. **long**-lasting too: ive had 12-hour\", \"tokens\": \"not fl ##im ##sy and super easy to use . long - lasting too : iv ##e had 12 - hour\", \"word\": \"long\", \"stars\": \"5 stars\", \"brand\": \"Stila\", \"name\": \"Stay All Day\\u00ae Waterproof Liquid Eye Liner\", \"type\": \"Liquid Eyeliner\"}, {\"x\": -0.03708934038877487, \"y\": 0.044235553592443466, \"context\": \"gift. it works well, makes makeup last a **long** time, but applying it is a nightmare. the\", \"tokens\": \"gift . it works well , makes makeup last a long time , but applying it is a nightmare . the\", \"word\": \"long\", \"stars\": \"3 stars\", \"brand\": \"Urban Decay\", \"name\": \"All Nighter Long-Lasting Makeup Setting Spray\", \"type\": \"Setting Spray\"}, {\"x\": -0.03435169905424118, \"y\": 0.05021699517965317, \"context\": \"extra break outs either. why did i wait so **long** to try this?! i literally used to b\", \"tokens\": \"extra break outs either . why did i wait so long to try this ? ! i literally used to b\", \"word\": \"long\", \"stars\": \"5 stars\", \"brand\": \"Urban Decay\", \"name\": \"All Nighter Long-Lasting Makeup Setting Spray\", \"type\": \"Setting Spray\"}, {\"x\": -0.033670827746391296, \"y\": 0.034916993230581284, \"context\": \"just couldn 't get past the very strong scent **long** enough to spray it in my face. it has\", \"tokens\": \"just couldn ' t get past the very strong scent long enough to spray it in my face . it has\", \"word\": \"long\", \"stars\": \"1 star\", \"brand\": \"Urban Decay\", \"name\": \"All Nighter Long-Lasting Makeup Setting Spray\", \"type\": \"Setting Spray\"}, {\"x\": -0.036354027688503265, \"y\": 0.031930163502693176, \"context\": \". this product is great at keeping makeup on for **long** periods of time, and beautifully sealing powder. i\", \"tokens\": \". this product is great at keeping makeup on for long periods of time , and beautifully sealing powder . i\", \"word\": \"long\", \"stars\": \"5 stars\", \"brand\": \"Urban Decay\", \"name\": \"All Nighter Long-Lasting Makeup Setting Spray\", \"type\": \"Setting Spray\"}, {\"x\": -0.03523861989378929, \"y\": 0.0198991596698761, \"context\": \"this many times and do use it when i work **long** hours or the weather is hot or humid but i\", \"tokens\": \"this many times and do use it when i work long hours or the weather is hot or humid but i\", \"word\": \"long\", \"stars\": \"5 stars\", \"brand\": \"Too Faced\", \"name\": \"Better Than Sex Waterproof Mascara\", \"type\": \"Mascara\"}, {\"x\": -0.03568010777235031, \"y\": 0.012970973737537861, \"context\": \"makeup. i 'm a nurse and i work **long** hours and my makeup always looked patchy by the\", \"tokens\": \"makeup . i ' m a nurse and i work long hours and my makeup always looked patch ##y by the\", \"word\": \"long\", \"stars\": \"5 stars\", \"brand\": \"Urban Decay\", \"name\": \"All Nighter Long-Lasting Makeup Setting Spray\", \"type\": \"Setting Spray\"}, {\"x\": -0.03660723194479942, \"y\": 0.017268003895878792, \"context\": \"it off. this is perfect for parties, a **long** day of work or if your makeup doesn 't\", \"tokens\": \"it off . this is perfect for parties , a long day of work or if your makeup doesn ' t\", \"word\": \"long\", \"stars\": \"5 stars\", \"brand\": \"Urban Decay\", \"name\": \"All Nighter Long-Lasting Makeup Setting Spray\", \"type\": \"Setting Spray\"}, {\"x\": -0.028916005045175552, \"y\": 0.024432891979813576, \"context\": \"makeup all over again because of the tears! as **long** as you do not spray it in your eyes on\", \"tokens\": \"makeup all over again because of the tears ! as long as you do not spray it in your eyes on\", \"word\": \"long\", \"stars\": \"4 stars\", \"brand\": \"Urban Decay\", \"name\": \"All Nighter Long-Lasting Makeup Setting Spray\", \"type\": \"Setting Spray\"}, {\"x\": -0.03659232705831528, \"y\": 0.035165317356586456, \"context\": \"look every day, i want it to last as **long** as possible. this is the key to **long**-\", \"tokens\": \"look every day , i want it to last as long as possible . this is the key to long -\", \"word\": \"long\", \"stars\": \"5 stars\", \"brand\": \"Urban Decay\", \"name\": \"All Nighter Long-Lasting Makeup Setting Spray\", \"type\": \"Setting Spray\"}, {\"x\": -0.0356844887137413, \"y\": -0.03366640955209732, \"context\": \"as **long** as possible. this is the key to **long**-wearing, budge-proof, smudge-\", \"tokens\": \"as long as possible . this is the key to long - wearing , budge - proof , sm ##udge -\", \"word\": \"long\", \"stars\": \"5 stars\", \"brand\": \"Urban Decay\", \"name\": \"All Nighter Long-Lasting Makeup Setting Spray\", \"type\": \"Setting Spray\"}, {\"x\": -0.02990754507482052, \"y\": 0.031063200905919075, \"context\": \"stuff every few hours works really well.. as **long** as you stay at home in front of the air\", \"tokens\": \"stuff every few hours works really well . . as long as you stay at home in front of the air\", \"word\": \"long\", \"stars\": \"1 star\", \"brand\": \"Urban Decay\", \"name\": \"All Nighter Long-Lasting Makeup Setting Spray\", \"type\": \"Setting Spray\"}, {\"x\": -0.03400249406695366, \"y\": 0.02736038528382778, \"context\": \"urizer last until after i get home from a **long** day at work. i dont have to re\", \"tokens\": \"##uri ##zer last until after i get home from a long day at work . i don ##t have to re\", \"word\": \"long\", \"stars\": \"5 stars\", \"brand\": \"Urban Decay\", \"name\": \"All Nighter Long-Lasting Makeup Setting Spray\", \"type\": \"Setting Spray\"}, {\"x\": -0.036519866436719894, \"y\": 0.01435332465916872, \"context\": \"when i know i 'm going to have a **long** night and it holds up pretty well. when sprayed\", \"tokens\": \"when i know i ' m going to have a long night and it holds up pretty well . when sprayed\", \"word\": \"long\", \"stars\": \"4 stars\", \"brand\": \"Urban Decay\", \"name\": \"All Nighter Long-Lasting Makeup Setting Spray\", \"type\": \"Setting Spray\"}, {\"x\": -0.03911251574754715, \"y\": 0.014147572219371796, \"context\": \"it claims. it makes your make up lasts really **long** and look gorgeaous. it is a little\", \"tokens\": \"it claims . it makes your make up lasts really long and look gorge ##ao ##us . it is a little\", \"word\": \"long\", \"stars\": \"5 stars\", \"brand\": \"Urban Decay\", \"name\": \"All Nighter Long-Lasting Makeup Setting Spray\", \"type\": \"Setting Spray\"}, {\"x\": -0.03717340528964996, \"y\": 0.0004405119107104838, \"context\": \"'t go wasting your money on \\\"amazing, **long**-lasting \\\"setting sprays until you 've\", \"tokens\": \"' t go wasting your money on \\\" amazing , long - lasting \\\" setting spray ##s until you ' ve\", \"word\": \"long\", \"stars\": \"5 stars\", \"brand\": \"Urban Decay\", \"name\": \"All Nighter Long-Lasting Makeup Setting Spray\", \"type\": \"Setting Spray\"}, {\"x\": -0.03703559935092926, \"y\": 0.025914140045642853, \"context\": \"this setting spray seriously carries me through. after a **long** day a work ( or a **long** night of parting\", \"tokens\": \"this setting spray seriously carries me through . after a long day a work ( or a long night of parting\", \"word\": \"long\", \"stars\": \"5 stars\", \"brand\": \"Urban Decay\", \"name\": \"All Nighter Long-Lasting Makeup Setting Spray\", \"type\": \"Setting Spray\"}, {\"x\": -0.03692677617073059, \"y\": 0.016426002606749535, \"context\": \". after a **long** day a work ( or a **long** night of parting ) my makeup still looks fresh and\", \"tokens\": \". after a long day a work ( or a long night of parting ) my makeup still looks fresh and\", \"word\": \"long\", \"stars\": \"5 stars\", \"brand\": \"Urban Decay\", \"name\": \"All Nighter Long-Lasting Makeup Setting Spray\", \"type\": \"Setting Spray\"}, {\"x\": -0.03400912135839462, \"y\": 0.050721485167741776, \"context\": \"i had been wanting to get this for a very **long** time so i finally got it 2 weeks ago.\", \"tokens\": \"i had been wanting to get this for a very long time so i finally got it 2 weeks ago .\", \"word\": \"long\", \"stars\": \"3 stars\", \"brand\": \"Too Faced\", \"name\": \"Better Than Sex Waterproof Mascara\", \"type\": \"Mascara\"}, {\"x\": -0.03704770281910896, \"y\": 0.03884626179933548, \"context\": \"the smaller size, and it lasted actually a really **long** time. it does exactly what the label says on\", \"tokens\": \"the smaller size , and it lasted actually a really long time . it does exactly what the label says on\", \"word\": \"long\", \"stars\": \"5 stars\", \"brand\": \"Urban Decay\", \"name\": \"All Nighter Long-Lasting Makeup Setting Spray\", \"type\": \"Setting Spray\"}, {\"x\": -0.036868900060653687, \"y\": 0.0033359501976519823, \"context\": \"wanted to test it out and see how durable and **long**-lasting this spray actually was and it does live\", \"tokens\": \"wanted to test it out and see how durable and long - lasting this spray actually was and it does live\", \"word\": \"long\", \"stars\": \"5 stars\", \"brand\": \"Urban Decay\", \"name\": \"All Nighter Long-Lasting Makeup Setting Spray\", \"type\": \"Setting Spray\"}, {\"x\": -0.03617021068930626, \"y\": 0.018100034445524216, \"context\": \"if you have oily skin or if you work **long** hours, works amazing. most of the bottles i\", \"tokens\": \"if you have oil ##y skin or if you work long hours , works amazing . most of the bottles i\", \"word\": \"long\", \"stars\": null, \"brand\": null, \"name\": null, \"type\": null}, {\"x\": -0.03678758442401886, \"y\": 0.02401541732251644, \"context\": \"never thought my make-up would stay sooo **long** no matter what the weather is! will never go\", \"tokens\": \"never thought my make - up would stay soo ##o long no matter what the weather is ! will never go\", \"word\": \"long\", \"stars\": \"4 stars\", \"brand\": \"Too Faced\", \"name\": \"Better Than Sex Mascara\", \"type\": \"Mascara\"}, {\"x\": -0.036726098507642746, \"y\": 0.004879435058683157, \"context\": \"price!!! the urban decay all nighter **long**-lasting makeup setting spray lives up to its name\", \"tokens\": \"price ! ! ! the urban decay all night ##er long - lasting makeup setting spray lives up to its name\", \"word\": \"long\", \"stars\": \"5 stars\", \"brand\": \"Urban Decay\", \"name\": \"All Nighter Long-Lasting Makeup Setting Spray\", \"type\": \"Setting Spray\"}, {\"x\": -0.03728343918919563, \"y\": 0.024646814912557602, \"context\": \"instantly drawn to it. my makeup stays all day **long** from when i put it on at 5: 30\", \"tokens\": \"instantly drawn to it . my makeup stays all day long from when i put it on at 5 : 30\", \"word\": \"long\", \"stars\": \"4 stars\", \"brand\": \"Urban Decay\", \"name\": \"All Nighter Long-Lasting Makeup Setting Spray\", \"type\": \"Setting Spray\"}, {\"x\": -0.03726790100336075, \"y\": 0.013021556660532951, \"context\": \"place i feel like it doesn 't stay as **long** is underneath my eyes, but i 'm sure\", \"tokens\": \"place i feel like it doesn ' t stay as long is underneath my eyes , but i ' m sure\", \"word\": \"long\", \"stars\": \"4 stars\", \"brand\": \"Urban Decay\", \"name\": \"All Nighter Long-Lasting Makeup Setting Spray\", \"type\": \"Setting Spray\"}, {\"x\": -0.037422239780426025, \"y\": 0.00521134864538908, \"context\": \"decay's products, and the all nighter **long**-lasting makeup setting spray has blown me away.\", \"tokens\": \"decay ' s products , and the all night ##er long - lasting makeup setting spray has blown me away .\", \"word\": \"long\", \"stars\": \"5 stars\", \"brand\": \"Urban Decay\", \"name\": \"All Nighter Long-Lasting Makeup Setting Spray\", \"type\": \"Setting Spray\"}, {\"x\": -0.03638835996389389, \"y\": 0.021043628454208374, \"context\": \"does keep my makeup looking good all day and night **long**. i am looking forward to testing this product out\", \"tokens\": \"does keep my makeup looking good all day and night long . i am looking forward to testing this product out\", \"word\": \"long\", \"stars\": \"5 stars\", \"brand\": \"Dior\", \"name\": \"Diorshow Waterproof Mascara\", \"type\": \"Mascara\"}, {\"x\": -0.036098822951316833, \"y\": 0.027359213680028915, \"context\": \") and it really does make a different on how **long** my makeup lasts! amazing amazing amazing! for anyone\", \"tokens\": \") and it really does make a different on how long my makeup lasts ! amazing amazing amazing ! for anyone\", \"word\": \"long\", \"stars\": null, \"brand\": null, \"name\": null, \"type\": null}, {\"x\": -0.03611259534955025, \"y\": 0.044769663363695145, \"context\": \"! never has my makeup stayed in place for so **long**. i have oily skin and i always have\", \"tokens\": \"! never has my makeup stayed in place for so long . i have oil ##y skin and i always have\", \"word\": \"long\", \"stars\": \"1 star\", \"brand\": \"Too Faced\", \"name\": \"Better Than Sex Mascara\", \"type\": \"Mascara\"}, {\"x\": -0.03542434424161911, \"y\": 0.02042834274470806, \"context\": \"to be close-up picture-perfect all day **long** without having to constantly touch-up. no easy\", \"tokens\": \"to be close - up picture - perfect all day long without having to constantly touch - up . no easy\", \"word\": \"long\", \"stars\": \"5 stars\", \"brand\": \"Urban Decay\", \"name\": \"All Nighter Long-Lasting Makeup Setting Spray\", \"type\": \"Setting Spray\"}, {\"x\": -0.036193691194057465, \"y\": 0.004112628288567066, \"context\": \"as this morning! ud's all nighter **long**-lasting makeup setting spray is more amazing than i\", \"tokens\": \"as this morning ! ud ' s all night ##er long - lasting makeup setting spray is more amazing than i\", \"word\": \"long\", \"stars\": \"5 stars\", \"brand\": \"Urban Decay\", \"name\": \"Eyeshadow Primer Potion - Original\", \"type\": \"Eye Primer\"}, {\"x\": -0.03595444932579994, \"y\": 0.004240947775542736, \"context\": \"m so impressed by ud's all nighter **long**-lasting makeup setting spray. during one of the\", \"tokens\": \"m so impressed by ud ' s all night ##er long - lasting makeup setting spray . during one of the\", \"word\": \"long\", \"stars\": \"5 stars\", \"brand\": \"Urban Decay\", \"name\": \"Eyeshadow Primer Potion - Original\", \"type\": \"Eye Primer\"}, {\"x\": -0.0352436900138855, \"y\": 0.006167348939925432, \"context\": \"imonial for ud's all nighter **long**-lasting makeup setting spray, i don 't\", \"tokens\": \"##imo ##nia ##l for ud ' s all night ##er long - lasting makeup setting spray , i don ' t\", \"word\": \"long\", \"stars\": \"5 stars\", \"brand\": \"Urban Decay\", \"name\": \"All Nighter Long-Lasting Makeup Setting Spray\", \"type\": \"Setting Spray\"}, {\"x\": -0.0345379076898098, \"y\": 0.03338657319545746, \"context\": \"this product keeps my makeup perfect after sweating all day **long**. this is the makeup you didn 't know\", \"tokens\": \"this product keeps my makeup perfect after sweating all day long . this is the makeup you didn ' t know\", \"word\": \"long\", \"stars\": null, \"brand\": null, \"name\": null, \"type\": null}, {\"x\": -0.03436936065554619, \"y\": 0.010240063071250916, \"context\": \"'m now a believer. i had crazy, **long** night full of clubs and dancing and this really improved\", \"tokens\": \"' m now a believer . i had crazy , long night full of clubs and dancing and this really improved\", \"word\": \"long\", \"stars\": \"5 stars\", \"brand\": \"Urban Decay\", \"name\": \"All Nighter Long-Lasting Makeup Setting Spray\", \"type\": \"Setting Spray\"}, {\"x\": -0.03361321613192558, \"y\": 0.04835222288966179, \"context\": \"read more i 've used this spray for a **long** time now because i have very oily skin.\", \"tokens\": \"read more i ' ve used this spray for a long time now because i have very oil ##y skin .\", \"word\": \"long\", \"stars\": \"4 stars\", \"brand\": \"Urban Decay\", \"name\": \"Cannonball Ultra Waterproof Mascara\", \"type\": \"Mascara\"}, {\"x\": -0.0370350107550621, \"y\": 0.019614320248365402, \"context\": \"days and i just look a little luminous after a **long** day instead of a shiny grease ball. i will\", \"tokens\": \"days and i just look a little luminous after a long day instead of a shiny grease ball . i will\", \"word\": \"long\", \"stars\": \"5 stars\", \"brand\": \"Urban Decay\", \"name\": \"All Nighter Long-Lasting Makeup Setting Spray\", \"type\": \"Setting Spray\"}, {\"x\": -0.036836471408605576, \"y\": 0.002640756079927087, \"context\": \". has it really made a big difference with how **long** my make up wear? i can 't really\", \"tokens\": \". has it really made a big difference with how long my make up wear ? i can ' t really\", \"word\": \"long\", \"stars\": \"3 stars\", \"brand\": \"Urban Decay\", \"name\": \"All Nighter Long-Lasting Makeup Setting Spray\", \"type\": \"Setting Spray\"}, {\"x\": -0.035604752600193024, \"y\": 0.030040334910154343, \"context\": \"spray. everyone's makeup stayed put all day **long**, and all the girls had their makeup done by\", \"tokens\": \"spray . everyone ' s makeup stayed put all day long , and all the girls had their makeup done by\", \"word\": \"long\", \"stars\": \"5 stars\", \"brand\": \"Urban Decay\", \"name\": \"All Nighter Long-Lasting Makeup Setting Spray\", \"type\": \"Setting Spray\"}, {\"x\": -0.03551838919520378, \"y\": 0.03530072048306465, \"context\": \"of powder or layering on more makeup all day **long**. this stuff makes any makeup you have stay on\", \"tokens\": \"of powder or layer ##ing on more makeup all day long . this stuff makes any makeup you have stay on\", \"word\": \"long\", \"stars\": \"5 stars\", \"brand\": \"Too Faced\", \"name\": \"Hangover Replenishing Face Primer\", \"type\": \"Primer\"}, {\"x\": -0.03241860494017601, \"y\": 0.045246779918670654, \"context\": \"i ever dreamed this will be with me for as **long** as they make it because it sure has worked for\", \"tokens\": \"i ever dreamed this will be with me for as long as they make it because it sure has worked for\", \"word\": \"long\", \"stars\": \"5 stars\", \"brand\": \"Urban Decay\", \"name\": \"All Nighter Long-Lasting Makeup Setting Spray\", \"type\": \"Setting Spray\"}, {\"x\": -0.035909105092287064, \"y\": 0.014846863225102425, \"context\": \"s perfect if you want makeup all night for those **long** nights. this is a \\\"can 't live\", \"tokens\": \"s perfect if you want makeup all night for those long nights . this is a \\\" can ' t live\", \"word\": \"long\", \"stars\": null, \"brand\": null, \"name\": null, \"type\": null}, {\"x\": -0.035655226558446884, \"y\": 0.04262742027640343, \"context\": \", however, it did not hold for nearly as **long** as it claims. i would not buy this product\", \"tokens\": \", however , it did not hold for nearly as long as it claims . i would not buy this product\", \"word\": \"long\", \"stars\": \"3 stars\", \"brand\": \"Urban Decay\", \"name\": \"All Nighter Long-Lasting Makeup Setting Spray\", \"type\": \"Setting Spray\"}, {\"x\": -0.03495268151164055, \"y\": 0.031050322577357292, \"context\": \"till night. can 't believe i went this **long** in my makeup life without it sadly, this just\", \"tokens\": \"till night . can ' t believe i went this long in my makeup life without it sadly , this just\", \"word\": \"long\", \"stars\": \"5 stars\", \"brand\": \"Urban Decay\", \"name\": \"All Nighter Long-Lasting Makeup Setting Spray\", \"type\": \"Setting Spray\"}, {\"x\": -0.036861006170511246, \"y\": 0.043372202664613724, \"context\": \"ick! however, this bottle will last a very **long** time!!! i can 't suggest this\", \"tokens\": \"##ick ! however , this bottle will last a very long time ! ! ! i can ' t suggest this\", \"word\": \"long\", \"stars\": \"5 stars\", \"brand\": \"Urban Decay\", \"name\": \"All Nighter Long-Lasting Makeup Setting Spray\", \"type\": \"Setting Spray\"}, {\"x\": -0.03802629932761192, \"y\": 0.029129518195986748, \"context\": \"i 've worn makeup since. it lasts so **long**! yesterday actually i had it on for 11 hours\", \"tokens\": \"i ' ve worn makeup since . it lasts so long ! yesterday actually i had it on for 11 hours\", \"word\": \"long\", \"stars\": \"5 stars\", \"brand\": \"Urban Decay\", \"name\": \"All Nighter Long-Lasting Makeup Setting Spray\", \"type\": \"Setting Spray\"}, {\"x\": -0.03339749947190285, \"y\": 0.03226935863494873, \"context\": \"skate little me finally updated my makeup collection not **long** ago and as part of my little overhaul, i\", \"tokens\": \"##ska ##te little me finally updated my makeup collection not long ago and as part of my little overhaul , i\", \"word\": \"long\", \"stars\": \"5 stars\", \"brand\": \"Urban Decay\", \"name\": \"All Nighter Long-Lasting Makeup Setting Spray\", \"type\": \"Setting Spray\"}, {\"x\": -0.03736855462193489, \"y\": 0.013277476653456688, \"context\": \"in eastern tn is brutal! ud all nighter **long** lasting setting spray really makes a difference in keeping the\", \"tokens\": \"in eastern tn is brutal ! ud all night ##er long lasting setting spray really makes a difference in keeping the\", \"word\": \"long\", \"stars\": \"5 stars\", \"brand\": \"Urban Decay\", \"name\": \"All Nighter Long-Lasting Makeup Setting Spray\", \"type\": \"Setting Spray\"}, {\"x\": -0.03770548850297928, \"y\": 0.012859498150646687, \"context\": \"spray until i tried the urban decay all nighter **long**-lasting make-up settint spray.\", \"tokens\": \"spray until i tried the urban decay all night ##er long - lasting make - up set ##tin ##t spray .\", \"word\": \"long\", \"stars\": \"4 stars\", \"brand\": \"Urban Decay\", \"name\": \"All Nighter Long-Lasting Makeup Setting Spray\", \"type\": \"Setting Spray\"}, {\"x\": -0.03632741421461105, \"y\": 0.01824721321463585, \"context\": \"nighter, and my makeup stays on all night **long**. fantastic!!! if you 're like\", \"tokens\": \"night ##er , and my makeup stays on all night long . fantastic ! ! ! if you ' re like\", \"word\": \"long\", \"stars\": null, \"brand\": null, \"name\": null, \"type\": null}, {\"x\": -0.03676312416791916, \"y\": 0.027103673666715622, \"context\": \"overnight flight-i needed to be fresh for a **long** day. i was pleased to find out it worked\", \"tokens\": \"overnight flight - i needed to be fresh for a long day . i was pleased to find out it worked\", \"word\": \"long\", \"stars\": \"5 stars\", \"brand\": \"Urban Decay\", \"name\": \"All Nighter Long-Lasting Makeup Setting Spray\", \"type\": \"Setting Spray\"}, {\"x\": -0.036929164081811905, \"y\": 0.008495742455124855, \"context\": \"'s great-really does work to keep makeup **long**-lasting, but this new fragrance is amazing!\", \"tokens\": \"' s great - really does work to keep makeup long - lasting , but this new fragrance is amazing !\", \"word\": \"long\", \"stars\": \"5 stars\", \"brand\": \"Marc Jacobs\", \"name\": \"Highliner Gel Eye Crayon Eyeliner\", \"type\": \"Gel Eyeliner\"}, {\"x\": -0.03637281060218811, \"y\": 0.029474975541234016, \"context\": \"eyemakup stay close to flawless all day **long**! i love it and can 't leave the\", \"tokens\": \"eye ##ma ##ku ##p stay close to flawless all day long ! i love it and can ' t leave the\", \"word\": \"long\", \"stars\": \"5 stars\", \"brand\": \"Too Faced\", \"name\": \"Better Than Sex Mascara\", \"type\": \"Mascara\"}, {\"x\": -0.034609317779541016, \"y\": 0.04553757607936859, \"context\": \"i 've been using this product for such a **long** time ( my first bottle has the city nighttime print\", \"tokens\": \"i ' ve been using this product for such a long time ( my first bottle has the city nighttime print\", \"word\": \"long\", \"stars\": \"4 stars\", \"brand\": \"Urban Decay\", \"name\": \"All Nighter Long-Lasting Makeup Setting Spray\", \"type\": \"Setting Spray\"}, {\"x\": -0.03788099065423012, \"y\": 0.0392710343003273, \"context\": \"amazing! even the 1 oz. one lasts a **long** time, but the 4 oz. is worth your\", \"tokens\": \"amazing ! even the 1 oz . one lasts a long time , but the 4 oz . is worth your\", \"word\": \"long\", \"stars\": \"5 stars\", \"brand\": \"Urban Decay\", \"name\": \"All Nighter Long-Lasting Makeup Setting Spray\", \"type\": \"Setting Spray\"}, {\"x\": -0.03761802241206169, \"y\": 0.03052493929862976, \"context\": \"asked me how i got my makeup to last so **long**. being a makeup artist, first i did want\", \"tokens\": \"asked me how i got my makeup to last so long . being a makeup artist , first i did want\", \"word\": \"long\", \"stars\": \"5 stars\", \"brand\": \"Urban Decay\", \"name\": \"Eyeshadow Primer Potion - Original\", \"type\": \"Eye Primer\"}, {\"x\": -0.03614106774330139, \"y\": 0.005133623257279396, \"context\": \"the door! \\u2026 read more product: urban decay **long**-lasting makeup setting spray ( 29. 00 for\", \"tokens\": \"the door ! \\u2026 read more product : urban decay long - lasting makeup setting spray ( 29 . 00 for\", \"word\": \"long\", \"stars\": \"5 stars\", \"brand\": \"Urban Decay\", \"name\": \"All Nighter Long-Lasting Makeup Setting Spray\", \"type\": \"Setting Spray\"}, {\"x\": -0.03535556048154831, \"y\": 0.01825975626707077, \"context\": \"place so that makeup looks picture-perfect all day **long**. temperature control technology prevents makeup from a melt down\", \"tokens\": \"place so that makeup looks picture - perfect all day long . temperature control technology prevents makeup from a melt down\", \"word\": \"long\", \"stars\": \"5 stars\", \"brand\": \"Urban Decay\", \"name\": \"All Nighter Long-Lasting Makeup Setting Spray\", \"type\": \"Setting Spray\"}, {\"x\": -0.03712264075875282, \"y\": 0.011208626441657543, \"context\": \"looked amazing. great for setting make up to last **long**. omg. i love this spray so much\", \"tokens\": \"looked amazing . great for setting make up to last long . om ##g . i love this spray so much\", \"word\": \"long\", \"stars\": null, \"brand\": null, \"name\": null, \"type\": null}, {\"x\": -0.03667077049612999, \"y\": 0.015442647971212864, \"context\": \"ran out, i noticed a huge difference in how **long** it stayed and the apperance of my makeup\", \"tokens\": \"ran out , i noticed a huge difference in how long it stayed and the app ##eran ##ce of my makeup\", \"word\": \"long\", \"stars\": \"5 stars\", \"brand\": \"Urban Decay\", \"name\": \"All Nighter Long-Lasting Makeup Setting Spray\", \"type\": \"Setting Spray\"}, {\"x\": -0.036729611456394196, \"y\": 0.020354554057121277, \"context\": \"use. not only makes your make-up last **long** it adds a really nice light flush to the face\", \"tokens\": \"use . not only makes your make - up last long it adds a really nice light flush to the face\", \"word\": \"long\", \"stars\": \"5 stars\", \"brand\": \"Urban Decay\", \"name\": \"All Nighter Long-Lasting Makeup Setting Spray\", \"type\": \"Setting Spray\"}]}}, {\"mode\": \"vega-lite\"});\n",
              "</script>"
            ],
            "text/plain": [
              "alt.Chart(...)"
            ]
          },
          "metadata": {},
          "execution_count": 47
        }
      ]
    }
  ]
}